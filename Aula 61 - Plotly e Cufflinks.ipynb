{
 "cells": [
  {
   "cell_type": "code",
   "execution_count": 20,
   "id": "539fdc17",
   "metadata": {},
   "outputs": [],
   "source": [
    "import pandas as pd\n",
    "import numpy as np\n",
    "%matplotlib inline"
   ]
  },
  {
   "cell_type": "code",
   "execution_count": 3,
   "id": "d8994e61",
   "metadata": {},
   "outputs": [],
   "source": [
    "from plotly import __version__"
   ]
  },
  {
   "cell_type": "code",
   "execution_count": 4,
   "id": "d9655ce1",
   "metadata": {},
   "outputs": [
    {
     "name": "stdout",
     "output_type": "stream",
     "text": [
      "5.6.0\n"
     ]
    }
   ],
   "source": [
    "print(__version__)"
   ]
  },
  {
   "cell_type": "code",
   "execution_count": 9,
   "id": "22e5ed58",
   "metadata": {},
   "outputs": [],
   "source": [
    "import cufflinks as cf"
   ]
  },
  {
   "cell_type": "code",
   "execution_count": 10,
   "id": "da990f3e",
   "metadata": {},
   "outputs": [],
   "source": [
    "from plotly.offline import download_plotlyjs,init_notebook_mode,plot,iplot"
   ]
  },
  {
   "cell_type": "code",
   "execution_count": 11,
   "id": "521f0053",
   "metadata": {},
   "outputs": [
    {
     "data": {
      "text/html": [
       "        <script type=\"text/javascript\">\n",
       "        window.PlotlyConfig = {MathJaxConfig: 'local'};\n",
       "        if (window.MathJax) {MathJax.Hub.Config({SVG: {font: \"STIX-Web\"}});}\n",
       "        if (typeof require !== 'undefined') {\n",
       "        require.undef(\"plotly\");\n",
       "        requirejs.config({\n",
       "            paths: {\n",
       "                'plotly': ['https://cdn.plot.ly/plotly-2.9.0.min']\n",
       "            }\n",
       "        });\n",
       "        require(['plotly'], function(Plotly) {\n",
       "            window._Plotly = Plotly;\n",
       "        });\n",
       "        }\n",
       "        </script>\n",
       "        "
      ]
     },
     "metadata": {},
     "output_type": "display_data"
    }
   ],
   "source": [
    "init_notebook_mode(connected=True)"
   ]
  },
  {
   "cell_type": "code",
   "execution_count": 12,
   "id": "54b459e9",
   "metadata": {},
   "outputs": [
    {
     "data": {
      "text/html": [
       "        <script type=\"text/javascript\">\n",
       "        window.PlotlyConfig = {MathJaxConfig: 'local'};\n",
       "        if (window.MathJax) {MathJax.Hub.Config({SVG: {font: \"STIX-Web\"}});}\n",
       "        if (typeof require !== 'undefined') {\n",
       "        require.undef(\"plotly\");\n",
       "        requirejs.config({\n",
       "            paths: {\n",
       "                'plotly': ['https://cdn.plot.ly/plotly-2.9.0.min']\n",
       "            }\n",
       "        });\n",
       "        require(['plotly'], function(Plotly) {\n",
       "            window._Plotly = Plotly;\n",
       "        });\n",
       "        }\n",
       "        </script>\n",
       "        "
      ]
     },
     "metadata": {},
     "output_type": "display_data"
    }
   ],
   "source": [
    "cf.go_offline()"
   ]
  },
  {
   "cell_type": "code",
   "execution_count": 14,
   "id": "c276f533",
   "metadata": {},
   "outputs": [],
   "source": [
    "df = pd.DataFrame(np.random.randn(100,4),columns='A B C D'.split())"
   ]
  },
  {
   "cell_type": "code",
   "execution_count": 15,
   "id": "414d752f",
   "metadata": {},
   "outputs": [
    {
     "data": {
      "text/html": [
       "<div>\n",
       "<style scoped>\n",
       "    .dataframe tbody tr th:only-of-type {\n",
       "        vertical-align: middle;\n",
       "    }\n",
       "\n",
       "    .dataframe tbody tr th {\n",
       "        vertical-align: top;\n",
       "    }\n",
       "\n",
       "    .dataframe thead th {\n",
       "        text-align: right;\n",
       "    }\n",
       "</style>\n",
       "<table border=\"1\" class=\"dataframe\">\n",
       "  <thead>\n",
       "    <tr style=\"text-align: right;\">\n",
       "      <th></th>\n",
       "      <th>A</th>\n",
       "      <th>B</th>\n",
       "      <th>C</th>\n",
       "      <th>D</th>\n",
       "    </tr>\n",
       "  </thead>\n",
       "  <tbody>\n",
       "    <tr>\n",
       "      <th>0</th>\n",
       "      <td>-0.410909</td>\n",
       "      <td>0.108162</td>\n",
       "      <td>0.629220</td>\n",
       "      <td>-0.277399</td>\n",
       "    </tr>\n",
       "    <tr>\n",
       "      <th>1</th>\n",
       "      <td>-0.668082</td>\n",
       "      <td>-0.378653</td>\n",
       "      <td>0.292998</td>\n",
       "      <td>-0.918104</td>\n",
       "    </tr>\n",
       "    <tr>\n",
       "      <th>2</th>\n",
       "      <td>0.057759</td>\n",
       "      <td>1.597640</td>\n",
       "      <td>-0.043991</td>\n",
       "      <td>-0.416956</td>\n",
       "    </tr>\n",
       "    <tr>\n",
       "      <th>3</th>\n",
       "      <td>-0.651434</td>\n",
       "      <td>0.103272</td>\n",
       "      <td>1.856560</td>\n",
       "      <td>0.382780</td>\n",
       "    </tr>\n",
       "    <tr>\n",
       "      <th>4</th>\n",
       "      <td>0.187916</td>\n",
       "      <td>-1.052381</td>\n",
       "      <td>-1.275066</td>\n",
       "      <td>-1.752993</td>\n",
       "    </tr>\n",
       "  </tbody>\n",
       "</table>\n",
       "</div>"
      ],
      "text/plain": [
       "          A         B         C         D\n",
       "0 -0.410909  0.108162  0.629220 -0.277399\n",
       "1 -0.668082 -0.378653  0.292998 -0.918104\n",
       "2  0.057759  1.597640 -0.043991 -0.416956\n",
       "3 -0.651434  0.103272  1.856560  0.382780\n",
       "4  0.187916 -1.052381 -1.275066 -1.752993"
      ]
     },
     "execution_count": 15,
     "metadata": {},
     "output_type": "execute_result"
    }
   ],
   "source": [
    "df.head()"
   ]
  },
  {
   "cell_type": "code",
   "execution_count": 16,
   "id": "673f33ae",
   "metadata": {},
   "outputs": [],
   "source": [
    "df2 = pd.DataFrame({'Category':['A','B','C'],'Values':[32,43,50]})"
   ]
  },
  {
   "cell_type": "code",
   "execution_count": 17,
   "id": "a7eb0f0b",
   "metadata": {},
   "outputs": [
    {
     "data": {
      "text/html": [
       "<div>\n",
       "<style scoped>\n",
       "    .dataframe tbody tr th:only-of-type {\n",
       "        vertical-align: middle;\n",
       "    }\n",
       "\n",
       "    .dataframe tbody tr th {\n",
       "        vertical-align: top;\n",
       "    }\n",
       "\n",
       "    .dataframe thead th {\n",
       "        text-align: right;\n",
       "    }\n",
       "</style>\n",
       "<table border=\"1\" class=\"dataframe\">\n",
       "  <thead>\n",
       "    <tr style=\"text-align: right;\">\n",
       "      <th></th>\n",
       "      <th>Category</th>\n",
       "      <th>Values</th>\n",
       "    </tr>\n",
       "  </thead>\n",
       "  <tbody>\n",
       "    <tr>\n",
       "      <th>0</th>\n",
       "      <td>A</td>\n",
       "      <td>32</td>\n",
       "    </tr>\n",
       "    <tr>\n",
       "      <th>1</th>\n",
       "      <td>B</td>\n",
       "      <td>43</td>\n",
       "    </tr>\n",
       "    <tr>\n",
       "      <th>2</th>\n",
       "      <td>C</td>\n",
       "      <td>50</td>\n",
       "    </tr>\n",
       "  </tbody>\n",
       "</table>\n",
       "</div>"
      ],
      "text/plain": [
       "  Category  Values\n",
       "0        A      32\n",
       "1        B      43\n",
       "2        C      50"
      ]
     },
     "execution_count": 17,
     "metadata": {},
     "output_type": "execute_result"
    }
   ],
   "source": [
    "df2"
   ]
  },
  {
   "cell_type": "code",
   "execution_count": 18,
   "id": "1b23e772",
   "metadata": {},
   "outputs": [
    {
     "data": {
      "text/plain": [
       "<AxesSubplot:>"
      ]
     },
     "execution_count": 18,
     "metadata": {},
     "output_type": "execute_result"
    },
    {
     "data": {
      "image/png": "[encoded data removed]",
      "text/plain": [
       "<Figure size 432x288 with 1 Axes>"
      ]
     },
     "metadata": {
      "needs_background": "light"
     },
     "output_type": "display_data"
    }
   ],
   "source": [
    "df.plot()"
   ]
  },
  {
   "cell_type": "code",
   "execution_count": 21,
   "id": "904a325f",
   "metadata": {},
   "outputs": [
    {
     "data": {
      "text/plain": [
       "<AxesSubplot:>"
      ]
     },
     "execution_count": 21,
     "metadata": {},
     "output_type": "execute_result"
    },
    {
     "data": {
      "image/png": "[encoded data removed]",
      "text/plain": [
       "<Figure size 432x288 with 1 Axes>"
      ]
     },
     "metadata": {
      "needs_background": "light"
     },
     "output_type": "display_data"
    }
   ],
   "source": [
    "df.plot()"
   ]
  },
  {
   "cell_type": "code",
   "execution_count": 22,
   "id": "6cdbd7de",
   "metadata": {},
   "outputs": [
    {
     "data": {
      "application/vnd.plotly.v1+json": {
       "config": {
        "linkText": "Export to plot.ly",
        "plotlyServerURL": "https://plot.ly",
        "showLink": true
       },
       "data": [
        {
         "line": {
          "color": "rgba(255, 153, 51, 1.0)",
          "dash": "solid",
          "shape": "linear",
          "width": 1.3
         },
         "mode": "lines",
         "name": "A",
         "text": "",
         "type": "scatter",
         "x": [
          0,
          1,
          2,
          3,
          4,
          5,
          6,
          7,
          8,
          9,
          10,
          11,
          12,
          13,
          14,
          15,
          16,
          17,
          18,
          19,
          20,
          21,
          22,
          23,
          24,
          25,
          26,
          27,
          28,
          29,
          30,
          31,
          32,
          33,
          34,
          35,
          36,
          37,
          38,
          39,
          40,
          41,
          42,
          43,
          44,
          45,
          46,
          47,
          48,
          49,
          50,
          51,
          52,
          53,
          54,
          55,
          56,
          57,
          58,
          59,
          60,
          61,
          62,
          63,
          64,
          65,
          66,
          67,
          68,
          69,
          70,
          71,
          72,
          73,
          74,
          75,
          76,
          77,
          78,
          79,
          80,
          81,
          82,
          83,
          84,
          85,
          86,
          87,
          88,
          89,
          90,
          91,
          92,
          93,
          94,
          95,
          96,
          97,
          98,
          99
         ],
         "y": [
          -0.4109093102308704,
          -0.6680817820818279,
          0.05775923832079972,
          -0.6514336458680554,
          0.1879160682510293,
          -1.5293464668323662,
          -0.7035269259572434,
          0.023874540007682573,
          -1.2420547200599625,
          -0.8913683621133949,
          -0.6031304983078408,
          -0.8971715581521588,
          -0.29873531501808204,
          -0.28277215845111825,
          -1.4601949181242078,
          1.163711752718257,
          -0.7985458453409878,
          0.08419460658711336,
          1.2072287151035508,
          1.9355081654923072,
          -0.6280104709091505,
          -0.11194954662160747,
          -0.46415689977609864,
          0.3291395359396691,
          0.14336269881245645,
          -0.7973487302419948,
          1.0136391070213626,
          0.3224826399220911,
          -0.5610315946764224,
          -1.6376822225509424,
          1.5133491313233511,
          0.6252725756740378,
          0.5218653597362931,
          0.2630145983301274,
          -0.6226571769603287,
          -0.47641810789885125,
          -0.7063513142606132,
          0.32684887117824307,
          0.25245635094777025,
          -0.8921088220372825,
          0.7720682190244831,
          0.7238641471940175,
          0.645126076541708,
          0.4224070507208162,
          0.3990528172515247,
          -0.19255958104133045,
          -0.16973807979033237,
          -1.0196829077704666,
          -0.3561857988413979,
          -0.7547498424893713,
          1.756962952184945,
          0.15851227706927512,
          -1.0982456629275492,
          0.6028423362735791,
          -1.2172834983904086,
          0.3151964776503683,
          -1.2224736248236194,
          -0.7734229575896733,
          0.15439661925788561,
          0.7886502050544204,
          -0.054443877521405636,
          -1.0636641048785411,
          -1.5786802485725135,
          0.24813035938868763,
          0.13326047954542491,
          0.07900652650890297,
          -1.943265097469249,
          0.709653153466894,
          -0.8004575677107629,
          -0.30651500422656586,
          -0.034793194861766734,
          1.1239760186483012,
          1.9534360839432174,
          0.5855191473663935,
          -0.259033322409612,
          -0.721568816715617,
          0.4048799040916817,
          0.11292732199272669,
          -1.1339821084354054,
          1.608866407723626,
          0.3501736145293892,
          -0.0486340739793143,
          -1.4939842393253115,
          0.33891543148322023,
          -0.14837108037915506,
          1.1431096103520344,
          1.2732128325788084,
          1.6707652434185216,
          -2.034802087108342,
          2.0454869644421496,
          1.928114298449317,
          0.2810486247432109,
          -0.4763850985641512,
          1.0107331745913726,
          0.7183992254469621,
          1.3199201637244298,
          0.19377943979431222,
          1.9858006393975318,
          1.7289541996275624,
          0.6000972414545752
         ]
        },
        {
         "line": {
          "color": "rgba(55, 128, 191, 1.0)",
          "dash": "solid",
          "shape": "linear",
          "width": 1.3
         },
         "mode": "lines",
         "name": "B",
         "text": "",
         "type": "scatter",
         "x": [
          0,
          1,
          2,
          3,
          4,
          5,
          6,
          7,
          8,
          9,
          10,
          11,
          12,
          13,
          14,
          15,
          16,
          17,
          18,
          19,
          20,
          21,
          22,
          23,
          24,
          25,
          26,
          27,
          28,
          29,
          30,
          31,
          32,
          33,
          34,
          35,
          36,
          37,
          38,
          39,
          40,
          41,
          42,
          43,
          44,
          45,
          46,
          47,
          48,
          49,
          50,
          51,
          52,
          53,
          54,
          55,
          56,
          57,
          58,
          59,
          60,
          61,
          62,
          63,
          64,
          65,
          66,
          67,
          68,
          69,
          70,
          71,
          72,
          73,
          74,
          75,
          76,
          77,
          78,
          79,
          80,
          81,
          82,
          83,
          84,
          85,
          86,
          87,
          88,
          89,
          90,
          91,
          92,
          93,
          94,
          95,
          96,
          97,
          98,
          99
         ],
         "y": [
          0.10816164100433416,
          -0.3786534181130173,
          1.5976396520152203,
          0.1032715254968819,
          -1.0523808578431146,
          -1.3088111247109417,
          -0.33138160694857144,
          0.37586959252393326,
          -1.4329191920134556,
          -1.4057862776414278,
          -0.958400047246091,
          0.29084537770773083,
          0.9935937445178882,
          0.04105070648099821,
          0.5408640784206419,
          -0.9264630427696732,
          1.4446133920139053,
          0.7294940924538716,
          -0.4350365321345761,
          -0.1325933169696886,
          -1.014905041321066,
          0.7142426252203482,
          -0.12624792117550834,
          -0.20886899913259685,
          -0.046122503270438174,
          1.0930917336122041,
          -1.9021098919909627,
          2.1923805539824883,
          -0.35159360601604234,
          -0.7840171652005669,
          0.8013260813444979,
          1.6926231238423597,
          -1.8736638856094856,
          0.9707936279502669,
          -0.8946838001113273,
          0.33970862607059893,
          -0.5793816991296611,
          -0.0878888415438686,
          0.5123180202062559,
          -0.3354586266014048,
          -0.3056932331079285,
          1.3570012723760245,
          0.6501788955149052,
          -1.0229202856165147,
          0.6832670623300489,
          0.2169408672987547,
          -1.5775271330361818,
          -1.1246690529362395,
          0.3921142234135686,
          -0.06959219198977895,
          -0.019901343076002487,
          -0.9668266661131473,
          -0.21099683075611467,
          0.0016865579778136469,
          -1.0802687843471324,
          -1.380237864945273,
          -0.8039152050946438,
          0.6777652747804674,
          -1.7942162924799367,
          0.1874497630076612,
          0.21428526335199233,
          -1.6590885500531578,
          1.2292836165571877,
          -0.6313361485055891,
          0.20526898451701303,
          0.3019628958045808,
          1.2893815216553828,
          -1.8503476945459718,
          -1.1624137925900286,
          1.631894818283364,
          0.9137215970033604,
          0.42810273476173266,
          0.8383367822100516,
          0.03283408639287403,
          -0.6946136149052397,
          -0.08070742997934244,
          0.9486270898985858,
          -0.48974504059853097,
          0.7877660225946301,
          0.18205642024037574,
          -0.6270525171109232,
          -0.17486983897035135,
          -0.2569599069188726,
          0.4022673291283338,
          0.8893958001444761,
          0.7051969265018811,
          -0.2024575094870895,
          0.30361544203123086,
          -1.0690070760292605,
          0.4953857590622099,
          0.19672688600027186,
          -0.17632377424528928,
          -0.23475071514999798,
          0.997698475693314,
          -1.1669540486953198,
          -0.052800403148813194,
          0.1882279243514494,
          -0.7566964384387022,
          -0.5873806894237157,
          -1.0723913490493764
         ]
        },
        {
         "line": {
          "color": "rgba(50, 171, 96, 1.0)",
          "dash": "solid",
          "shape": "linear",
          "width": 1.3
         },
         "mode": "lines",
         "name": "C",
         "text": "",
         "type": "scatter",
         "x": [
          0,
          1,
          2,
          3,
          4,
          5,
          6,
          7,
          8,
          9,
          10,
          11,
          12,
          13,
          14,
          15,
          16,
          17,
          18,
          19,
          20,
          21,
          22,
          23,
          24,
          25,
          26,
          27,
          28,
          29,
          30,
          31,
          32,
          33,
          34,
          35,
          36,
          37,
          38,
          39,
          40,
          41,
          42,
          43,
          44,
          45,
          46,
          47,
          48,
          49,
          50,
          51,
          52,
          53,
          54,
          55,
          56,
          57,
          58,
          59,
          60,
          61,
          62,
          63,
          64,
          65,
          66,
          67,
          68,
          69,
          70,
          71,
          72,
          73,
          74,
          75,
          76,
          77,
          78,
          79,
          80,
          81,
          82,
          83,
          84,
          85,
          86,
          87,
          88,
          89,
          90,
          91,
          92,
          93,
          94,
          95,
          96,
          97,
          98,
          99
         ],
         "y": [
          0.6292199526679915,
          0.2929975958833482,
          -0.04399087398141044,
          1.8565600602641612,
          -1.2750659235998933,
          -1.049310108114289,
          1.9150270383061618,
          1.2508697290216244,
          -0.5254373553532199,
          -1.1019207468324796,
          -0.4329980546454029,
          1.5572239614417513,
          -1.3055844181806395,
          -0.4122575973258354,
          -0.059880586166883694,
          -0.47306812677550375,
          1.0024038262962716,
          -0.2432530029414284,
          -0.2951196417216509,
          1.6108749570387297,
          -1.5277743237948516,
          0.24462827579148685,
          -0.6665963461968138,
          0.09551308916636889,
          -0.09167893838598215,
          -1.7815453817378082,
          -0.1521106133048684,
          1.9074572705422066,
          0.4592082613846467,
          0.7013091669194846,
          -0.8686089844179359,
          -0.4606390682252071,
          -0.41777249430301205,
          -0.4468941776179165,
          0.7094928970608115,
          -1.8603953409392233,
          0.6259187872531098,
          -1.6286731061977948,
          2.8201400374716687,
          -0.35503682144368226,
          -0.6396143178399654,
          -0.9654900282468604,
          -0.7210403553227229,
          -0.6778528111808548,
          -0.8847323338846561,
          -0.9563799305227523,
          1.3186129140745864,
          -1.0833389277669125,
          0.7146015938507903,
          -0.31692372500085386,
          0.5854408697615356,
          1.2266989977152263,
          -1.0876940047938335,
          -0.9545415176685021,
          0.4763777966834708,
          -0.028328147521990005,
          -0.9197802043519457,
          0.13369488535274207,
          -0.4346147152741386,
          -0.09219737012285296,
          -0.7442747895254129,
          -0.7800885356867993,
          -0.864528126951913,
          0.6156847853724774,
          0.6350478989525027,
          1.1944567500749472,
          0.09291026971232177,
          0.7978863435209216,
          0.717641604863803,
          0.3854021360752175,
          0.3871364856255502,
          1.0392309824169004,
          1.549422603605397,
          -0.9488235117675193,
          -0.10664617217844946,
          1.1281754295273083,
          1.532435448350468,
          0.8819094595511779,
          0.1588660200001338,
          -0.5538468056190365,
          -0.37835010238664146,
          0.8956307051416974,
          0.19210774446947973,
          0.3834669957770598,
          -0.002075523221641867,
          0.27647527640105485,
          -0.8078457966107676,
          -0.625341205482638,
          -0.83781920073781,
          0.0560368705472754,
          0.1432941566584118,
          -0.6215519009327086,
          -1.0108129007264421,
          0.003988253626526684,
          0.2757826690179561,
          -1.037282373787344,
          0.34299228025201184,
          -0.6033296064640993,
          1.6771847452732258,
          0.44518449248506753
         ]
        },
        {
         "line": {
          "color": "rgba(128, 0, 128, 1.0)",
          "dash": "solid",
          "shape": "linear",
          "width": 1.3
         },
         "mode": "lines",
         "name": "D",
         "text": "",
         "type": "scatter",
         "x": [
          0,
          1,
          2,
          3,
          4,
          5,
          6,
          7,
          8,
          9,
          10,
          11,
          12,
          13,
          14,
          15,
          16,
          17,
          18,
          19,
          20,
          21,
          22,
          23,
          24,
          25,
          26,
          27,
          28,
          29,
          30,
          31,
          32,
          33,
          34,
          35,
          36,
          37,
          38,
          39,
          40,
          41,
          42,
          43,
          44,
          45,
          46,
          47,
          48,
          49,
          50,
          51,
          52,
          53,
          54,
          55,
          56,
          57,
          58,
          59,
          60,
          61,
          62,
          63,
          64,
          65,
          66,
          67,
          68,
          69,
          70,
          71,
          72,
          73,
          74,
          75,
          76,
          77,
          78,
          79,
          80,
          81,
          82,
          83,
          84,
          85,
          86,
          87,
          88,
          89,
          90,
          91,
          92,
          93,
          94,
          95,
          96,
          97,
          98,
          99
         ],
         "y": [
          -0.2773990390535875,
          -0.9181041820757111,
          -0.41695629787385136,
          0.3827797226044483,
          -1.7529933819530048,
          -0.7319625831080484,
          1.4867018549006927,
          1.4055835724351409,
          -0.8797716270422287,
          -0.596827049706759,
          0.8340313907663897,
          -0.04131531686530541,
          0.2599453428632096,
          -0.35726414646242105,
          1.2361542295277679,
          1.3454372740488802,
          -1.155284847160972,
          0.11560833073118736,
          1.0558476438294202,
          -0.09164539514816725,
          -0.07911103570471797,
          1.1298889292742882,
          1.0352534697805038,
          -0.5858686004334468,
          0.14702066966153676,
          0.7605378490231398,
          -0.2552446105455089,
          -2.531500870988131,
          -0.8151349614877484,
          -0.2015920797760861,
          -0.6773298355951781,
          -1.3697672350745784,
          0.09724331004694353,
          1.7011717963836774,
          -0.030937274832516556,
          0.5124910062389977,
          -0.45372901552669687,
          1.4482513486968667,
          1.9864055381472516,
          0.47522855192344204,
          0.4711856833597885,
          -1.8754888555936464,
          -2.1016106118736566,
          0.2693124651984568,
          0.45905685517626954,
          -0.40013306632258494,
          -1.1029866317352701,
          -0.8791067595006858,
          1.125635571527008,
          -2.3090732309185467,
          -0.8671350211320249,
          -1.342651525726852,
          0.022234185168456856,
          0.20139942607211828,
          -0.47147121341422843,
          0.504291600657643,
          -0.9166485195474732,
          0.6108027432860413,
          0.2046306319276693,
          -0.6785135228570527,
          -1.07186737499892,
          -1.1518117084162274,
          -1.1436522440035626,
          -0.9993470396308715,
          -0.12937160832678654,
          -1.178372039958786,
          0.19379575597871537,
          -0.9662038361824906,
          -0.437705018982611,
          -0.4323631505102849,
          0.248041241346058,
          0.2086791810129593,
          0.5929908589326623,
          -0.8536784616145044,
          -1.533101667308894,
          0.2424214860866842,
          0.9891233030383795,
          -0.4729289590102262,
          -0.014199955982915258,
          -2.5391709558181286,
          1.0268442751763005,
          0.045259851007036715,
          -0.9384052331484877,
          -0.2879938722489163,
          -0.9855361670308552,
          -0.637514850487326,
          1.0132347629902343,
          -1.0409569892865955,
          -0.12075479236245626,
          -0.677539436649919,
          -0.7277110810439337,
          0.2694823710565056,
          0.06787476222041963,
          0.5257354912022104,
          -0.9570659202256759,
          -0.5281540085218507,
          -1.0549750869942036,
          -0.018657045318151287,
          0.68417135330098,
          -0.8579511401360297
         ]
        }
       ],
       "layout": {
        "legend": {
         "bgcolor": "#F5F6F9",
         "font": {
          "color": "#4D5663"
         }
        },
        "paper_bgcolor": "#F5F6F9",
        "plot_bgcolor": "#F5F6F9",
        "template": {
         "data": {
          "bar": [
           {
            "error_x": {
             "color": "#2a3f5f"
            },
            "error_y": {
             "color": "#2a3f5f"
            },
            "marker": {
             "line": {
              "color": "#E5ECF6",
              "width": 0.5
             },
             "pattern": {
              "fillmode": "overlay",
              "size": 10,
              "solidity": 0.2
             }
            },
            "type": "bar"
           }
          ],
          "barpolar": [
           {
            "marker": {
             "line": {
              "color": "#E5ECF6",
              "width": 0.5
             },
             "pattern": {
              "fillmode": "overlay",
              "size": 10,
              "solidity": 0.2
             }
            },
            "type": "barpolar"
           }
          ],
          "carpet": [
           {
            "aaxis": {
             "endlinecolor": "#2a3f5f",
             "gridcolor": "white",
             "linecolor": "white",
             "minorgridcolor": "white",
             "startlinecolor": "#2a3f5f"
            },
            "baxis": {
             "endlinecolor": "#2a3f5f",
             "gridcolor": "white",
             "linecolor": "white",
             "minorgridcolor": "white",
             "startlinecolor": "#2a3f5f"
            },
            "type": "carpet"
           }
          ],
          "choropleth": [
           {
            "colorbar": {
             "outlinewidth": 0,
             "ticks": ""
            },
            "type": "choropleth"
           }
          ],
          "contour": [
           {
            "colorbar": {
             "outlinewidth": 0,
             "ticks": ""
            },
            "colorscale": [
             [
              0,
              "#0d0887"
             ],
             [
              0.1111111111111111,
              "#46039f"
             ],
             [
              0.2222222222222222,
              "#7201a8"
             ],
             [
              0.3333333333333333,
              "#9c179e"
             ],
             [
              0.4444444444444444,
              "#bd3786"
             ],
             [
              0.5555555555555556,
              "#d8576b"
             ],
             [
              0.6666666666666666,
              "#ed7953"
             ],
             [
              0.7777777777777778,
              "#fb9f3a"
             ],
             [
              0.8888888888888888,
              "#fdca26"
             ],
             [
              1,
              "#f0f921"
             ]
            ],
            "type": "contour"
           }
          ],
          "contourcarpet": [
           {
            "colorbar": {
             "outlinewidth": 0,
             "ticks": ""
            },
            "type": "contourcarpet"
           }
          ],
          "heatmap": [
           {
            "colorbar": {
             "outlinewidth": 0,
             "ticks": ""
            },
            "colorscale": [
             [
              0,
              "#0d0887"
             ],
             [
              0.1111111111111111,
              "#46039f"
             ],
             [
              0.2222222222222222,
              "#7201a8"
             ],
             [
              0.3333333333333333,
              "#9c179e"
             ],
             [
              0.4444444444444444,
              "#bd3786"
             ],
             [
              0.5555555555555556,
              "#d8576b"
             ],
             [
              0.6666666666666666,
              "#ed7953"
             ],
             [
              0.7777777777777778,
              "#fb9f3a"
             ],
             [
              0.8888888888888888,
              "#fdca26"
             ],
             [
              1,
              "#f0f921"
             ]
            ],
            "type": "heatmap"
           }
          ],
          "heatmapgl": [
           {
            "colorbar": {
             "outlinewidth": 0,
             "ticks": ""
            },
            "colorscale": [
             [
              0,
              "#0d0887"
             ],
             [
              0.1111111111111111,
              "#46039f"
             ],
             [
              0.2222222222222222,
              "#7201a8"
             ],
             [
              0.3333333333333333,
              "#9c179e"
             ],
             [
              0.4444444444444444,
              "#bd3786"
             ],
             [
              0.5555555555555556,
              "#d8576b"
             ],
             [
              0.6666666666666666,
              "#ed7953"
             ],
             [
              0.7777777777777778,
              "#fb9f3a"
             ],
             [
              0.8888888888888888,
              "#fdca26"
             ],
             [
              1,
              "#f0f921"
             ]
            ],
            "type": "heatmapgl"
           }
          ],
          "histogram": [
           {
            "marker": {
             "pattern": {
              "fillmode": "overlay",
              "size": 10,
              "solidity": 0.2
             }
            },
            "type": "histogram"
           }
          ],
          "histogram2d": [
           {
            "colorbar": {
             "outlinewidth": 0,
             "ticks": ""
            },
            "colorscale": [
             [
              0,
              "#0d0887"
             ],
             [
              0.1111111111111111,
              "#46039f"
             ],
             [
              0.2222222222222222,
              "#7201a8"
             ],
             [
              0.3333333333333333,
              "#9c179e"
             ],
             [
              0.4444444444444444,
              "#bd3786"
             ],
             [
              0.5555555555555556,
              "#d8576b"
             ],
             [
              0.6666666666666666,
              "#ed7953"
             ],
             [
              0.7777777777777778,
              "#fb9f3a"
             ],
             [
              0.8888888888888888,
              "#fdca26"
             ],
             [
              1,
              "#f0f921"
             ]
            ],
            "type": "histogram2d"
           }
          ],
          "histogram2dcontour": [
           {
            "colorbar": {
             "outlinewidth": 0,
             "ticks": ""
            },
            "colorscale": [
             [
              0,
              "#0d0887"
             ],
             [
              0.1111111111111111,
              "#46039f"
             ],
             [
              0.2222222222222222,
              "#7201a8"
             ],
             [
              0.3333333333333333,
              "#9c179e"
             ],
             [
              0.4444444444444444,
              "#bd3786"
             ],
             [
              0.5555555555555556,
              "#d8576b"
             ],
             [
              0.6666666666666666,
              "#ed7953"
             ],
             [
              0.7777777777777778,
              "#fb9f3a"
             ],
             [
              0.8888888888888888,
              "#fdca26"
             ],
             [
              1,
              "#f0f921"
             ]
            ],
            "type": "histogram2dcontour"
           }
          ],
          "mesh3d": [
           {
            "colorbar": {
             "outlinewidth": 0,
             "ticks": ""
            },
            "type": "mesh3d"
           }
          ],
          "parcoords": [
           {
            "line": {
             "colorbar": {
              "outlinewidth": 0,
              "ticks": ""
             }
            },
            "type": "parcoords"
           }
          ],
          "pie": [
           {
            "automargin": true,
            "type": "pie"
           }
          ],
          "scatter": [
           {
            "marker": {
             "colorbar": {
              "outlinewidth": 0,
              "ticks": ""
             }
            },
            "type": "scatter"
           }
          ],
          "scatter3d": [
           {
            "line": {
             "colorbar": {
              "outlinewidth": 0,
              "ticks": ""
             }
            },
            "marker": {
             "colorbar": {
              "outlinewidth": 0,
              "ticks": ""
             }
            },
            "type": "scatter3d"
           }
          ],
          "scattercarpet": [
           {
            "marker": {
             "colorbar": {
              "outlinewidth": 0,
              "ticks": ""
             }
            },
            "type": "scattercarpet"
           }
          ],
          "scattergeo": [
           {
            "marker": {
             "colorbar": {
              "outlinewidth": 0,
              "ticks": ""
             }
            },
            "type": "scattergeo"
           }
          ],
          "scattergl": [
           {
            "marker": {
             "colorbar": {
              "outlinewidth": 0,
              "ticks": ""
             }
            },
            "type": "scattergl"
           }
          ],
          "scattermapbox": [
           {
            "marker": {
             "colorbar": {
              "outlinewidth": 0,
              "ticks": ""
             }
            },
            "type": "scattermapbox"
           }
          ],
          "scatterpolar": [
           {
            "marker": {
             "colorbar": {
              "outlinewidth": 0,
              "ticks": ""
             }
            },
            "type": "scatterpolar"
           }
          ],
          "scatterpolargl": [
           {
            "marker": {
             "colorbar": {
              "outlinewidth": 0,
              "ticks": ""
             }
            },
            "type": "scatterpolargl"
           }
          ],
          "scatterternary": [
           {
            "marker": {
             "colorbar": {
              "outlinewidth": 0,
              "ticks": ""
             }
            },
            "type": "scatterternary"
           }
          ],
          "surface": [
           {
            "colorbar": {
             "outlinewidth": 0,
             "ticks": ""
            },
            "colorscale": [
             [
              0,
              "#0d0887"
             ],
             [
              0.1111111111111111,
              "#46039f"
             ],
             [
              0.2222222222222222,
              "#7201a8"
             ],
             [
              0.3333333333333333,
              "#9c179e"
             ],
             [
              0.4444444444444444,
              "#bd3786"
             ],
             [
              0.5555555555555556,
              "#d8576b"
             ],
             [
              0.6666666666666666,
              "#ed7953"
             ],
             [
              0.7777777777777778,
              "#fb9f3a"
             ],
             [
              0.8888888888888888,
              "#fdca26"
             ],
             [
              1,
              "#f0f921"
             ]
            ],
            "type": "surface"
           }
          ],
          "table": [
           {
            "cells": {
             "fill": {
              "color": "#EBF0F8"
             },
             "line": {
              "color": "white"
             }
            },
            "header": {
             "fill": {
              "color": "#C8D4E3"
             },
             "line": {
              "color": "white"
             }
            },
            "type": "table"
           }
          ]
         },
         "layout": {
          "annotationdefaults": {
           "arrowcolor": "#2a3f5f",
           "arrowhead": 0,
           "arrowwidth": 1
          },
          "autotypenumbers": "strict",
          "coloraxis": {
           "colorbar": {
            "outlinewidth": 0,
            "ticks": ""
           }
          },
          "colorscale": {
           "diverging": [
            [
             0,
             "#8e0152"
            ],
            [
             0.1,
             "#c51b7d"
            ],
            [
             0.2,
             "#de77ae"
            ],
            [
             0.3,
             "#f1b6da"
            ],
            [
             0.4,
             "#fde0ef"
            ],
            [
             0.5,
             "#f7f7f7"
            ],
            [
             0.6,
             "#e6f5d0"
            ],
            [
             0.7,
             "#b8e186"
            ],
            [
             0.8,
             "#7fbc41"
            ],
            [
             0.9,
             "#4d9221"
            ],
            [
             1,
             "#276419"
            ]
           ],
           "sequential": [
            [
             0,
             "#0d0887"
            ],
            [
             0.1111111111111111,
             "#46039f"
            ],
            [
             0.2222222222222222,
             "#7201a8"
            ],
            [
             0.3333333333333333,
             "#9c179e"
            ],
            [
             0.4444444444444444,
             "#bd3786"
            ],
            [
             0.5555555555555556,
             "#d8576b"
            ],
            [
             0.6666666666666666,
             "#ed7953"
            ],
            [
             0.7777777777777778,
             "#fb9f3a"
            ],
            [
             0.8888888888888888,
             "#fdca26"
            ],
            [
             1,
             "#f0f921"
            ]
           ],
           "sequentialminus": [
            [
             0,
             "#0d0887"
            ],
            [
             0.1111111111111111,
             "#46039f"
            ],
            [
             0.2222222222222222,
             "#7201a8"
            ],
            [
             0.3333333333333333,
             "#9c179e"
            ],
            [
             0.4444444444444444,
             "#bd3786"
            ],
            [
             0.5555555555555556,
             "#d8576b"
            ],
            [
             0.6666666666666666,
             "#ed7953"
            ],
            [
             0.7777777777777778,
             "#fb9f3a"
            ],
            [
             0.8888888888888888,
             "#fdca26"
            ],
            [
             1,
             "#f0f921"
            ]
           ]
          },
          "colorway": [
           "#636efa",
           "#EF553B",
           "#00cc96",
           "#ab63fa",
           "#FFA15A",
           "#19d3f3",
           "#FF6692",
           "#B6E880",
           "#FF97FF",
           "#FECB52"
          ],
          "font": {
           "color": "#2a3f5f"
          },
          "geo": {
           "bgcolor": "white",
           "lakecolor": "white",
           "landcolor": "#E5ECF6",
           "showlakes": true,
           "showland": true,
           "subunitcolor": "white"
          },
          "hoverlabel": {
           "align": "left"
          },
          "hovermode": "closest",
          "mapbox": {
           "style": "light"
          },
          "paper_bgcolor": "white",
          "plot_bgcolor": "#E5ECF6",
          "polar": {
           "angularaxis": {
            "gridcolor": "white",
            "linecolor": "white",
            "ticks": ""
           },
           "bgcolor": "#E5ECF6",
           "radialaxis": {
            "gridcolor": "white",
            "linecolor": "white",
            "ticks": ""
           }
          },
          "scene": {
           "xaxis": {
            "backgroundcolor": "#E5ECF6",
            "gridcolor": "white",
            "gridwidth": 2,
            "linecolor": "white",
            "showbackground": true,
            "ticks": "",
            "zerolinecolor": "white"
           },
           "yaxis": {
            "backgroundcolor": "#E5ECF6",
            "gridcolor": "white",
            "gridwidth": 2,
            "linecolor": "white",
            "showbackground": true,
            "ticks": "",
            "zerolinecolor": "white"
           },
           "zaxis": {
            "backgroundcolor": "#E5ECF6",
            "gridcolor": "white",
            "gridwidth": 2,
            "linecolor": "white",
            "showbackground": true,
            "ticks": "",
            "zerolinecolor": "white"
           }
          },
          "shapedefaults": {
           "line": {
            "color": "#2a3f5f"
           }
          },
          "ternary": {
           "aaxis": {
            "gridcolor": "white",
            "linecolor": "white",
            "ticks": ""
           },
           "baxis": {
            "gridcolor": "white",
            "linecolor": "white",
            "ticks": ""
           },
           "bgcolor": "#E5ECF6",
           "caxis": {
            "gridcolor": "white",
            "linecolor": "white",
            "ticks": ""
           }
          },
          "title": {
           "x": 0.05
          },
          "xaxis": {
           "automargin": true,
           "gridcolor": "white",
           "linecolor": "white",
           "ticks": "",
           "title": {
            "standoff": 15
           },
           "zerolinecolor": "white",
           "zerolinewidth": 2
          },
          "yaxis": {
           "automargin": true,
           "gridcolor": "white",
           "linecolor": "white",
           "ticks": "",
           "title": {
            "standoff": 15
           },
           "zerolinecolor": "white",
           "zerolinewidth": 2
          }
         }
        },
        "title": {
         "font": {
          "color": "#4D5663"
         }
        },
        "xaxis": {
         "gridcolor": "#E1E5ED",
         "showgrid": true,
         "tickfont": {
          "color": "#4D5663"
         },
         "title": {
          "font": {
           "color": "#4D5663"
          },
          "text": ""
         },
         "zerolinecolor": "#E1E5ED"
        },
        "yaxis": {
         "gridcolor": "#E1E5ED",
         "showgrid": true,
         "tickfont": {
          "color": "#4D5663"
         },
         "title": {
          "font": {
           "color": "#4D5663"
          },
          "text": ""
         },
         "zerolinecolor": "#E1E5ED"
        }
       }
      },
      "text/html": [
       "<div>                            <div id=\"1690c891-f1cd-4648-ac65-4a34b166f432\" class=\"plotly-graph-div\" style=\"height:525px; width:100%;\"></div>            <script type=\"text/javascript\">                require([\"plotly\"], function(Plotly) {                    window.PLOTLYENV=window.PLOTLYENV || {};\n",
       "                    window.PLOTLYENV.BASE_URL='https://plot.ly';                                    if (document.getElementById(\"1690c891-f1cd-4648-ac65-4a34b166f432\")) {                    Plotly.newPlot(                        \"1690c891-f1cd-4648-ac65-4a34b166f432\",                        [{\"line\":{\"color\":\"rgba(255, 153, 51, 1.0)\",\"dash\":\"solid\",\"shape\":\"linear\",\"width\":1.3},\"mode\":\"lines\",\"name\":\"A\",\"text\":\"\",\"x\":[0,1,2,3,4,5,6,7,8,9,10,11,12,13,14,15,16,17,18,19,20,21,22,23,24,25,26,27,28,29,30,31,32,33,34,35,36,37,38,39,40,41,42,43,44,45,46,47,48,49,50,51,52,53,54,55,56,57,58,59,60,61,62,63,64,65,66,67,68,69,70,71,72,73,74,75,76,77,78,79,80,81,82,83,84,85,86,87,88,89,90,91,92,93,94,95,96,97,98,99],\"y\":[-0.4109093102308704,-0.6680817820818279,0.05775923832079972,-0.6514336458680554,0.1879160682510293,-1.5293464668323662,-0.7035269259572434,0.023874540007682573,-1.2420547200599625,-0.8913683621133949,-0.6031304983078408,-0.8971715581521588,-0.29873531501808204,-0.28277215845111825,-1.4601949181242078,1.163711752718257,-0.7985458453409878,0.08419460658711336,1.2072287151035508,1.9355081654923072,-0.6280104709091505,-0.11194954662160747,-0.46415689977609864,0.3291395359396691,0.14336269881245645,-0.7973487302419948,1.0136391070213626,0.3224826399220911,-0.5610315946764224,-1.6376822225509424,1.5133491313233511,0.6252725756740378,0.5218653597362931,0.2630145983301274,-0.6226571769603287,-0.47641810789885125,-0.7063513142606132,0.32684887117824307,0.25245635094777025,-0.8921088220372825,0.7720682190244831,0.7238641471940175,0.645126076541708,0.4224070507208162,0.3990528172515247,-0.19255958104133045,-0.16973807979033237,-1.0196829077704666,-0.3561857988413979,-0.7547498424893713,1.756962952184945,0.15851227706927512,-1.0982456629275492,0.6028423362735791,-1.2172834983904086,0.3151964776503683,-1.2224736248236194,-0.7734229575896733,0.15439661925788561,0.7886502050544204,-0.054443877521405636,-1.0636641048785411,-1.5786802485725135,0.24813035938868763,0.13326047954542491,0.07900652650890297,-1.943265097469249,0.709653153466894,-0.8004575677107629,-0.30651500422656586,-0.034793194861766734,1.1239760186483012,1.9534360839432174,0.5855191473663935,-0.259033322409612,-0.721568816715617,0.4048799040916817,0.11292732199272669,-1.1339821084354054,1.608866407723626,0.3501736145293892,-0.0486340739793143,-1.4939842393253115,0.33891543148322023,-0.14837108037915506,1.1431096103520344,1.2732128325788084,1.6707652434185216,-2.034802087108342,2.0454869644421496,1.928114298449317,0.2810486247432109,-0.4763850985641512,1.0107331745913726,0.7183992254469621,1.3199201637244298,0.19377943979431222,1.9858006393975318,1.7289541996275624,0.6000972414545752],\"type\":\"scatter\"},{\"line\":{\"color\":\"rgba(55, 128, 191, 1.0)\",\"dash\":\"solid\",\"shape\":\"linear\",\"width\":1.3},\"mode\":\"lines\",\"name\":\"B\",\"text\":\"\",\"x\":[0,1,2,3,4,5,6,7,8,9,10,11,12,13,14,15,16,17,18,19,20,21,22,23,24,25,26,27,28,29,30,31,32,33,34,35,36,37,38,39,40,41,42,43,44,45,46,47,48,49,50,51,52,53,54,55,56,57,58,59,60,61,62,63,64,65,66,67,68,69,70,71,72,73,74,75,76,77,78,79,80,81,82,83,84,85,86,87,88,89,90,91,92,93,94,95,96,97,98,99],\"y\":[0.10816164100433416,-0.3786534181130173,1.5976396520152203,0.1032715254968819,-1.0523808578431146,-1.3088111247109417,-0.33138160694857144,0.37586959252393326,-1.4329191920134556,-1.4057862776414278,-0.958400047246091,0.29084537770773083,0.9935937445178882,0.04105070648099821,0.5408640784206419,-0.9264630427696732,1.4446133920139053,0.7294940924538716,-0.4350365321345761,-0.1325933169696886,-1.014905041321066,0.7142426252203482,-0.12624792117550834,-0.20886899913259685,-0.046122503270438174,1.0930917336122041,-1.9021098919909627,2.1923805539824883,-0.35159360601604234,-0.7840171652005669,0.8013260813444979,1.6926231238423597,-1.8736638856094856,0.9707936279502669,-0.8946838001113273,0.33970862607059893,-0.5793816991296611,-0.0878888415438686,0.5123180202062559,-0.3354586266014048,-0.3056932331079285,1.3570012723760245,0.6501788955149052,-1.0229202856165147,0.6832670623300489,0.2169408672987547,-1.5775271330361818,-1.1246690529362395,0.3921142234135686,-0.06959219198977895,-0.019901343076002487,-0.9668266661131473,-0.21099683075611467,0.0016865579778136469,-1.0802687843471324,-1.380237864945273,-0.8039152050946438,0.6777652747804674,-1.7942162924799367,0.1874497630076612,0.21428526335199233,-1.6590885500531578,1.2292836165571877,-0.6313361485055891,0.20526898451701303,0.3019628958045808,1.2893815216553828,-1.8503476945459718,-1.1624137925900286,1.631894818283364,0.9137215970033604,0.42810273476173266,0.8383367822100516,0.03283408639287403,-0.6946136149052397,-0.08070742997934244,0.9486270898985858,-0.48974504059853097,0.7877660225946301,0.18205642024037574,-0.6270525171109232,-0.17486983897035135,-0.2569599069188726,0.4022673291283338,0.8893958001444761,0.7051969265018811,-0.2024575094870895,0.30361544203123086,-1.0690070760292605,0.4953857590622099,0.19672688600027186,-0.17632377424528928,-0.23475071514999798,0.997698475693314,-1.1669540486953198,-0.052800403148813194,0.1882279243514494,-0.7566964384387022,-0.5873806894237157,-1.0723913490493764],\"type\":\"scatter\"},{\"line\":{\"color\":\"rgba(50, 171, 96, 1.0)\",\"dash\":\"solid\",\"shape\":\"linear\",\"width\":1.3},\"mode\":\"lines\",\"name\":\"C\",\"text\":\"\",\"x\":[0,1,2,3,4,5,6,7,8,9,10,11,12,13,14,15,16,17,18,19,20,21,22,23,24,25,26,27,28,29,30,31,32,33,34,35,36,37,38,39,40,41,42,43,44,45,46,47,48,49,50,51,52,53,54,55,56,57,58,59,60,61,62,63,64,65,66,67,68,69,70,71,72,73,74,75,76,77,78,79,80,81,82,83,84,85,86,87,88,89,90,91,92,93,94,95,96,97,98,99],\"y\":[0.6292199526679915,0.2929975958833482,-0.04399087398141044,1.8565600602641612,-1.2750659235998933,-1.049310108114289,1.9150270383061618,1.2508697290216244,-0.5254373553532199,-1.1019207468324796,-0.4329980546454029,1.5572239614417513,-1.3055844181806395,-0.4122575973258354,-0.059880586166883694,-0.47306812677550375,1.0024038262962716,-0.2432530029414284,-0.2951196417216509,1.6108749570387297,-1.5277743237948516,0.24462827579148685,-0.6665963461968138,0.09551308916636889,-0.09167893838598215,-1.7815453817378082,-0.1521106133048684,1.9074572705422066,0.4592082613846467,0.7013091669194846,-0.8686089844179359,-0.4606390682252071,-0.41777249430301205,-0.4468941776179165,0.7094928970608115,-1.8603953409392233,0.6259187872531098,-1.6286731061977948,2.8201400374716687,-0.35503682144368226,-0.6396143178399654,-0.9654900282468604,-0.7210403553227229,-0.6778528111808548,-0.8847323338846561,-0.9563799305227523,1.3186129140745864,-1.0833389277669125,0.7146015938507903,-0.31692372500085386,0.5854408697615356,1.2266989977152263,-1.0876940047938335,-0.9545415176685021,0.4763777966834708,-0.028328147521990005,-0.9197802043519457,0.13369488535274207,-0.4346147152741386,-0.09219737012285296,-0.7442747895254129,-0.7800885356867993,-0.864528126951913,0.6156847853724774,0.6350478989525027,1.1944567500749472,0.09291026971232177,0.7978863435209216,0.717641604863803,0.3854021360752175,0.3871364856255502,1.0392309824169004,1.549422603605397,-0.9488235117675193,-0.10664617217844946,1.1281754295273083,1.532435448350468,0.8819094595511779,0.1588660200001338,-0.5538468056190365,-0.37835010238664146,0.8956307051416974,0.19210774446947973,0.3834669957770598,-0.002075523221641867,0.27647527640105485,-0.8078457966107676,-0.625341205482638,-0.83781920073781,0.0560368705472754,0.1432941566584118,-0.6215519009327086,-1.0108129007264421,0.003988253626526684,0.2757826690179561,-1.037282373787344,0.34299228025201184,-0.6033296064640993,1.6771847452732258,0.44518449248506753],\"type\":\"scatter\"},{\"line\":{\"color\":\"rgba(128, 0, 128, 1.0)\",\"dash\":\"solid\",\"shape\":\"linear\",\"width\":1.3},\"mode\":\"lines\",\"name\":\"D\",\"text\":\"\",\"x\":[0,1,2,3,4,5,6,7,8,9,10,11,12,13,14,15,16,17,18,19,20,21,22,23,24,25,26,27,28,29,30,31,32,33,34,35,36,37,38,39,40,41,42,43,44,45,46,47,48,49,50,51,52,53,54,55,56,57,58,59,60,61,62,63,64,65,66,67,68,69,70,71,72,73,74,75,76,77,78,79,80,81,82,83,84,85,86,87,88,89,90,91,92,93,94,95,96,97,98,99],\"y\":[-0.2773990390535875,-0.9181041820757111,-0.41695629787385136,0.3827797226044483,-1.7529933819530048,-0.7319625831080484,1.4867018549006927,1.4055835724351409,-0.8797716270422287,-0.596827049706759,0.8340313907663897,-0.04131531686530541,0.2599453428632096,-0.35726414646242105,1.2361542295277679,1.3454372740488802,-1.155284847160972,0.11560833073118736,1.0558476438294202,-0.09164539514816725,-0.07911103570471797,1.1298889292742882,1.0352534697805038,-0.5858686004334468,0.14702066966153676,0.7605378490231398,-0.2552446105455089,-2.531500870988131,-0.8151349614877484,-0.2015920797760861,-0.6773298355951781,-1.3697672350745784,0.09724331004694353,1.7011717963836774,-0.030937274832516556,0.5124910062389977,-0.45372901552669687,1.4482513486968667,1.9864055381472516,0.47522855192344204,0.4711856833597885,-1.8754888555936464,-2.1016106118736566,0.2693124651984568,0.45905685517626954,-0.40013306632258494,-1.1029866317352701,-0.8791067595006858,1.125635571527008,-2.3090732309185467,-0.8671350211320249,-1.342651525726852,0.022234185168456856,0.20139942607211828,-0.47147121341422843,0.504291600657643,-0.9166485195474732,0.6108027432860413,0.2046306319276693,-0.6785135228570527,-1.07186737499892,-1.1518117084162274,-1.1436522440035626,-0.9993470396308715,-0.12937160832678654,-1.178372039958786,0.19379575597871537,-0.9662038361824906,-0.437705018982611,-0.4323631505102849,0.248041241346058,0.2086791810129593,0.5929908589326623,-0.8536784616145044,-1.533101667308894,0.2424214860866842,0.9891233030383795,-0.4729289590102262,-0.014199955982915258,-2.5391709558181286,1.0268442751763005,0.045259851007036715,-0.9384052331484877,-0.2879938722489163,-0.9855361670308552,-0.637514850487326,1.0132347629902343,-1.0409569892865955,-0.12075479236245626,-0.677539436649919,-0.7277110810439337,0.2694823710565056,0.06787476222041963,0.5257354912022104,-0.9570659202256759,-0.5281540085218507,-1.0549750869942036,-0.018657045318151287,0.68417135330098,-0.8579511401360297],\"type\":\"scatter\"}],                        {\"legend\":{\"bgcolor\":\"#F5F6F9\",\"font\":{\"color\":\"#4D5663\"}},\"paper_bgcolor\":\"#F5F6F9\",\"plot_bgcolor\":\"#F5F6F9\",\"template\":{\"data\":{\"barpolar\":[{\"marker\":{\"line\":{\"color\":\"#E5ECF6\",\"width\":0.5},\"pattern\":{\"fillmode\":\"overlay\",\"size\":10,\"solidity\":0.2}},\"type\":\"barpolar\"}],\"bar\":[{\"error_x\":{\"color\":\"#2a3f5f\"},\"error_y\":{\"color\":\"#2a3f5f\"},\"marker\":{\"line\":{\"color\":\"#E5ECF6\",\"width\":0.5},\"pattern\":{\"fillmode\":\"overlay\",\"size\":10,\"solidity\":0.2}},\"type\":\"bar\"}],\"carpet\":[{\"aaxis\":{\"endlinecolor\":\"#2a3f5f\",\"gridcolor\":\"white\",\"linecolor\":\"white\",\"minorgridcolor\":\"white\",\"startlinecolor\":\"#2a3f5f\"},\"baxis\":{\"endlinecolor\":\"#2a3f5f\",\"gridcolor\":\"white\",\"linecolor\":\"white\",\"minorgridcolor\":\"white\",\"startlinecolor\":\"#2a3f5f\"},\"type\":\"carpet\"}],\"choropleth\":[{\"colorbar\":{\"outlinewidth\":0,\"ticks\":\"\"},\"type\":\"choropleth\"}],\"contourcarpet\":[{\"colorbar\":{\"outlinewidth\":0,\"ticks\":\"\"},\"type\":\"contourcarpet\"}],\"contour\":[{\"colorbar\":{\"outlinewidth\":0,\"ticks\":\"\"},\"colorscale\":[[0.0,\"#0d0887\"],[0.1111111111111111,\"#46039f\"],[0.2222222222222222,\"#7201a8\"],[0.3333333333333333,\"#9c179e\"],[0.4444444444444444,\"#bd3786\"],[0.5555555555555556,\"#d8576b\"],[0.6666666666666666,\"#ed7953\"],[0.7777777777777778,\"#fb9f3a\"],[0.8888888888888888,\"#fdca26\"],[1.0,\"#f0f921\"]],\"type\":\"contour\"}],\"heatmapgl\":[{\"colorbar\":{\"outlinewidth\":0,\"ticks\":\"\"},\"colorscale\":[[0.0,\"#0d0887\"],[0.1111111111111111,\"#46039f\"],[0.2222222222222222,\"#7201a8\"],[0.3333333333333333,\"#9c179e\"],[0.4444444444444444,\"#bd3786\"],[0.5555555555555556,\"#d8576b\"],[0.6666666666666666,\"#ed7953\"],[0.7777777777777778,\"#fb9f3a\"],[0.8888888888888888,\"#fdca26\"],[1.0,\"#f0f921\"]],\"type\":\"heatmapgl\"}],\"heatmap\":[{\"colorbar\":{\"outlinewidth\":0,\"ticks\":\"\"},\"colorscale\":[[0.0,\"#0d0887\"],[0.1111111111111111,\"#46039f\"],[0.2222222222222222,\"#7201a8\"],[0.3333333333333333,\"#9c179e\"],[0.4444444444444444,\"#bd3786\"],[0.5555555555555556,\"#d8576b\"],[0.6666666666666666,\"#ed7953\"],[0.7777777777777778,\"#fb9f3a\"],[0.8888888888888888,\"#fdca26\"],[1.0,\"#f0f921\"]],\"type\":\"heatmap\"}],\"histogram2dcontour\":[{\"colorbar\":{\"outlinewidth\":0,\"ticks\":\"\"},\"colorscale\":[[0.0,\"#0d0887\"],[0.1111111111111111,\"#46039f\"],[0.2222222222222222,\"#7201a8\"],[0.3333333333333333,\"#9c179e\"],[0.4444444444444444,\"#bd3786\"],[0.5555555555555556,\"#d8576b\"],[0.6666666666666666,\"#ed7953\"],[0.7777777777777778,\"#fb9f3a\"],[0.8888888888888888,\"#fdca26\"],[1.0,\"#f0f921\"]],\"type\":\"histogram2dcontour\"}],\"histogram2d\":[{\"colorbar\":{\"outlinewidth\":0,\"ticks\":\"\"},\"colorscale\":[[0.0,\"#0d0887\"],[0.1111111111111111,\"#46039f\"],[0.2222222222222222,\"#7201a8\"],[0.3333333333333333,\"#9c179e\"],[0.4444444444444444,\"#bd3786\"],[0.5555555555555556,\"#d8576b\"],[0.6666666666666666,\"#ed7953\"],[0.7777777777777778,\"#fb9f3a\"],[0.8888888888888888,\"#fdca26\"],[1.0,\"#f0f921\"]],\"type\":\"histogram2d\"}],\"histogram\":[{\"marker\":{\"pattern\":{\"fillmode\":\"overlay\",\"size\":10,\"solidity\":0.2}},\"type\":\"histogram\"}],\"mesh3d\":[{\"colorbar\":{\"outlinewidth\":0,\"ticks\":\"\"},\"type\":\"mesh3d\"}],\"parcoords\":[{\"line\":{\"colorbar\":{\"outlinewidth\":0,\"ticks\":\"\"}},\"type\":\"parcoords\"}],\"pie\":[{\"automargin\":true,\"type\":\"pie\"}],\"scatter3d\":[{\"line\":{\"colorbar\":{\"outlinewidth\":0,\"ticks\":\"\"}},\"marker\":{\"colorbar\":{\"outlinewidth\":0,\"ticks\":\"\"}},\"type\":\"scatter3d\"}],\"scattercarpet\":[{\"marker\":{\"colorbar\":{\"outlinewidth\":0,\"ticks\":\"\"}},\"type\":\"scattercarpet\"}],\"scattergeo\":[{\"marker\":{\"colorbar\":{\"outlinewidth\":0,\"ticks\":\"\"}},\"type\":\"scattergeo\"}],\"scattergl\":[{\"marker\":{\"colorbar\":{\"outlinewidth\":0,\"ticks\":\"\"}},\"type\":\"scattergl\"}],\"scattermapbox\":[{\"marker\":{\"colorbar\":{\"outlinewidth\":0,\"ticks\":\"\"}},\"type\":\"scattermapbox\"}],\"scatterpolargl\":[{\"marker\":{\"colorbar\":{\"outlinewidth\":0,\"ticks\":\"\"}},\"type\":\"scatterpolargl\"}],\"scatterpolar\":[{\"marker\":{\"colorbar\":{\"outlinewidth\":0,\"ticks\":\"\"}},\"type\":\"scatterpolar\"}],\"scatter\":[{\"marker\":{\"colorbar\":{\"outlinewidth\":0,\"ticks\":\"\"}},\"type\":\"scatter\"}],\"scatterternary\":[{\"marker\":{\"colorbar\":{\"outlinewidth\":0,\"ticks\":\"\"}},\"type\":\"scatterternary\"}],\"surface\":[{\"colorbar\":{\"outlinewidth\":0,\"ticks\":\"\"},\"colorscale\":[[0.0,\"#0d0887\"],[0.1111111111111111,\"#46039f\"],[0.2222222222222222,\"#7201a8\"],[0.3333333333333333,\"#9c179e\"],[0.4444444444444444,\"#bd3786\"],[0.5555555555555556,\"#d8576b\"],[0.6666666666666666,\"#ed7953\"],[0.7777777777777778,\"#fb9f3a\"],[0.8888888888888888,\"#fdca26\"],[1.0,\"#f0f921\"]],\"type\":\"surface\"}],\"table\":[{\"cells\":{\"fill\":{\"color\":\"#EBF0F8\"},\"line\":{\"color\":\"white\"}},\"header\":{\"fill\":{\"color\":\"#C8D4E3\"},\"line\":{\"color\":\"white\"}},\"type\":\"table\"}]},\"layout\":{\"annotationdefaults\":{\"arrowcolor\":\"#2a3f5f\",\"arrowhead\":0,\"arrowwidth\":1},\"autotypenumbers\":\"strict\",\"coloraxis\":{\"colorbar\":{\"outlinewidth\":0,\"ticks\":\"\"}},\"colorscale\":{\"diverging\":[[0,\"#8e0152\"],[0.1,\"#c51b7d\"],[0.2,\"#de77ae\"],[0.3,\"#f1b6da\"],[0.4,\"#fde0ef\"],[0.5,\"#f7f7f7\"],[0.6,\"#e6f5d0\"],[0.7,\"#b8e186\"],[0.8,\"#7fbc41\"],[0.9,\"#4d9221\"],[1,\"#276419\"]],\"sequential\":[[0.0,\"#0d0887\"],[0.1111111111111111,\"#46039f\"],[0.2222222222222222,\"#7201a8\"],[0.3333333333333333,\"#9c179e\"],[0.4444444444444444,\"#bd3786\"],[0.5555555555555556,\"#d8576b\"],[0.6666666666666666,\"#ed7953\"],[0.7777777777777778,\"#fb9f3a\"],[0.8888888888888888,\"#fdca26\"],[1.0,\"#f0f921\"]],\"sequentialminus\":[[0.0,\"#0d0887\"],[0.1111111111111111,\"#46039f\"],[0.2222222222222222,\"#7201a8\"],[0.3333333333333333,\"#9c179e\"],[0.4444444444444444,\"#bd3786\"],[0.5555555555555556,\"#d8576b\"],[0.6666666666666666,\"#ed7953\"],[0.7777777777777778,\"#fb9f3a\"],[0.8888888888888888,\"#fdca26\"],[1.0,\"#f0f921\"]]},\"colorway\":[\"#636efa\",\"#EF553B\",\"#00cc96\",\"#ab63fa\",\"#FFA15A\",\"#19d3f3\",\"#FF6692\",\"#B6E880\",\"#FF97FF\",\"#FECB52\"],\"font\":{\"color\":\"#2a3f5f\"},\"geo\":{\"bgcolor\":\"white\",\"lakecolor\":\"white\",\"landcolor\":\"#E5ECF6\",\"showlakes\":true,\"showland\":true,\"subunitcolor\":\"white\"},\"hoverlabel\":{\"align\":\"left\"},\"hovermode\":\"closest\",\"mapbox\":{\"style\":\"light\"},\"paper_bgcolor\":\"white\",\"plot_bgcolor\":\"#E5ECF6\",\"polar\":{\"angularaxis\":{\"gridcolor\":\"white\",\"linecolor\":\"white\",\"ticks\":\"\"},\"bgcolor\":\"#E5ECF6\",\"radialaxis\":{\"gridcolor\":\"white\",\"linecolor\":\"white\",\"ticks\":\"\"}},\"scene\":{\"xaxis\":{\"backgroundcolor\":\"#E5ECF6\",\"gridcolor\":\"white\",\"gridwidth\":2,\"linecolor\":\"white\",\"showbackground\":true,\"ticks\":\"\",\"zerolinecolor\":\"white\"},\"yaxis\":{\"backgroundcolor\":\"#E5ECF6\",\"gridcolor\":\"white\",\"gridwidth\":2,\"linecolor\":\"white\",\"showbackground\":true,\"ticks\":\"\",\"zerolinecolor\":\"white\"},\"zaxis\":{\"backgroundcolor\":\"#E5ECF6\",\"gridcolor\":\"white\",\"gridwidth\":2,\"linecolor\":\"white\",\"showbackground\":true,\"ticks\":\"\",\"zerolinecolor\":\"white\"}},\"shapedefaults\":{\"line\":{\"color\":\"#2a3f5f\"}},\"ternary\":{\"aaxis\":{\"gridcolor\":\"white\",\"linecolor\":\"white\",\"ticks\":\"\"},\"baxis\":{\"gridcolor\":\"white\",\"linecolor\":\"white\",\"ticks\":\"\"},\"bgcolor\":\"#E5ECF6\",\"caxis\":{\"gridcolor\":\"white\",\"linecolor\":\"white\",\"ticks\":\"\"}},\"title\":{\"x\":0.05},\"xaxis\":{\"automargin\":true,\"gridcolor\":\"white\",\"linecolor\":\"white\",\"ticks\":\"\",\"title\":{\"standoff\":15},\"zerolinecolor\":\"white\",\"zerolinewidth\":2},\"yaxis\":{\"automargin\":true,\"gridcolor\":\"white\",\"linecolor\":\"white\",\"ticks\":\"\",\"title\":{\"standoff\":15},\"zerolinecolor\":\"white\",\"zerolinewidth\":2}}},\"title\":{\"font\":{\"color\":\"#4D5663\"}},\"xaxis\":{\"gridcolor\":\"#E1E5ED\",\"showgrid\":true,\"tickfont\":{\"color\":\"#4D5663\"},\"title\":{\"font\":{\"color\":\"#4D5663\"},\"text\":\"\"},\"zerolinecolor\":\"#E1E5ED\"},\"yaxis\":{\"gridcolor\":\"#E1E5ED\",\"showgrid\":true,\"tickfont\":{\"color\":\"#4D5663\"},\"title\":{\"font\":{\"color\":\"#4D5663\"},\"text\":\"\"},\"zerolinecolor\":\"#E1E5ED\"}},                        {\"showLink\": true, \"linkText\": \"Export to plot.ly\", \"plotlyServerURL\": \"https://plot.ly\", \"responsive\": true}                    ).then(function(){\n",
       "                            \n",
       "var gd = document.getElementById('1690c891-f1cd-4648-ac65-4a34b166f432');\n",
       "var x = new MutationObserver(function (mutations, observer) {{\n",
       "        var display = window.getComputedStyle(gd).display;\n",
       "        if (!display || display === 'none') {{\n",
       "            console.log([gd, 'removed!']);\n",
       "            Plotly.purge(gd);\n",
       "            observer.disconnect();\n",
       "        }}\n",
       "}});\n",
       "\n",
       "// Listen for the removal of the full notebook cells\n",
       "var notebookContainer = gd.closest('#notebook-container');\n",
       "if (notebookContainer) {{\n",
       "    x.observe(notebookContainer, {childList: true});\n",
       "}}\n",
       "\n",
       "// Listen for the clearing of the current output cell\n",
       "var outputEl = gd.closest('.output');\n",
       "if (outputEl) {{\n",
       "    x.observe(outputEl, {childList: true});\n",
       "}}\n",
       "\n",
       "                        })                };                });            </script>        </div>"
      ]
     },
     "metadata": {},
     "output_type": "display_data"
    }
   ],
   "source": [
    "df.iplot()"
   ]
  },
  {
   "cell_type": "code",
   "execution_count": 23,
   "id": "096bf71d",
   "metadata": {},
   "outputs": [
    {
     "data": {
      "application/vnd.plotly.v1+json": {
       "config": {
        "linkText": "Export to plot.ly",
        "plotlyServerURL": "https://plot.ly",
        "showLink": true
       },
       "data": [
        {
         "line": {
          "color": "rgba(255, 153, 51, 1.0)",
          "dash": "solid",
          "shape": "linear",
          "width": 1.3
         },
         "mode": "lines",
         "name": "B",
         "text": "",
         "type": "scatter",
         "x": [
          -0.4109093102308704,
          -0.6680817820818279,
          0.05775923832079972,
          -0.6514336458680554,
          0.1879160682510293,
          -1.5293464668323662,
          -0.7035269259572434,
          0.023874540007682573,
          -1.2420547200599625,
          -0.8913683621133949,
          -0.6031304983078408,
          -0.8971715581521588,
          -0.29873531501808204,
          -0.28277215845111825,
          -1.4601949181242078,
          1.163711752718257,
          -0.7985458453409878,
          0.08419460658711336,
          1.2072287151035508,
          1.9355081654923072,
          -0.6280104709091505,
          -0.11194954662160747,
          -0.46415689977609864,
          0.3291395359396691,
          0.14336269881245645,
          -0.7973487302419948,
          1.0136391070213626,
          0.3224826399220911,
          -0.5610315946764224,
          -1.6376822225509424,
          1.5133491313233511,
          0.6252725756740378,
          0.5218653597362931,
          0.2630145983301274,
          -0.6226571769603287,
          -0.47641810789885125,
          -0.7063513142606132,
          0.32684887117824307,
          0.25245635094777025,
          -0.8921088220372825,
          0.7720682190244831,
          0.7238641471940175,
          0.645126076541708,
          0.4224070507208162,
          0.3990528172515247,
          -0.19255958104133045,
          -0.16973807979033237,
          -1.0196829077704666,
          -0.3561857988413979,
          -0.7547498424893713,
          1.756962952184945,
          0.15851227706927512,
          -1.0982456629275492,
          0.6028423362735791,
          -1.2172834983904086,
          0.3151964776503683,
          -1.2224736248236194,
          -0.7734229575896733,
          0.15439661925788561,
          0.7886502050544204,
          -0.054443877521405636,
          -1.0636641048785411,
          -1.5786802485725135,
          0.24813035938868763,
          0.13326047954542491,
          0.07900652650890297,
          -1.943265097469249,
          0.709653153466894,
          -0.8004575677107629,
          -0.30651500422656586,
          -0.034793194861766734,
          1.1239760186483012,
          1.9534360839432174,
          0.5855191473663935,
          -0.259033322409612,
          -0.721568816715617,
          0.4048799040916817,
          0.11292732199272669,
          -1.1339821084354054,
          1.608866407723626,
          0.3501736145293892,
          -0.0486340739793143,
          -1.4939842393253115,
          0.33891543148322023,
          -0.14837108037915506,
          1.1431096103520344,
          1.2732128325788084,
          1.6707652434185216,
          -2.034802087108342,
          2.0454869644421496,
          1.928114298449317,
          0.2810486247432109,
          -0.4763850985641512,
          1.0107331745913726,
          0.7183992254469621,
          1.3199201637244298,
          0.19377943979431222,
          1.9858006393975318,
          1.7289541996275624,
          0.6000972414545752
         ],
         "y": [
          0.10816164100433416,
          -0.3786534181130173,
          1.5976396520152203,
          0.1032715254968819,
          -1.0523808578431146,
          -1.3088111247109417,
          -0.33138160694857144,
          0.37586959252393326,
          -1.4329191920134556,
          -1.4057862776414278,
          -0.958400047246091,
          0.29084537770773083,
          0.9935937445178882,
          0.04105070648099821,
          0.5408640784206419,
          -0.9264630427696732,
          1.4446133920139053,
          0.7294940924538716,
          -0.4350365321345761,
          -0.1325933169696886,
          -1.014905041321066,
          0.7142426252203482,
          -0.12624792117550834,
          -0.20886899913259685,
          -0.046122503270438174,
          1.0930917336122041,
          -1.9021098919909627,
          2.1923805539824883,
          -0.35159360601604234,
          -0.7840171652005669,
          0.8013260813444979,
          1.6926231238423597,
          -1.8736638856094856,
          0.9707936279502669,
          -0.8946838001113273,
          0.33970862607059893,
          -0.5793816991296611,
          -0.0878888415438686,
          0.5123180202062559,
          -0.3354586266014048,
          -0.3056932331079285,
          1.3570012723760245,
          0.6501788955149052,
          -1.0229202856165147,
          0.6832670623300489,
          0.2169408672987547,
          -1.5775271330361818,
          -1.1246690529362395,
          0.3921142234135686,
          -0.06959219198977895,
          -0.019901343076002487,
          -0.9668266661131473,
          -0.21099683075611467,
          0.0016865579778136469,
          -1.0802687843471324,
          -1.380237864945273,
          -0.8039152050946438,
          0.6777652747804674,
          -1.7942162924799367,
          0.1874497630076612,
          0.21428526335199233,
          -1.6590885500531578,
          1.2292836165571877,
          -0.6313361485055891,
          0.20526898451701303,
          0.3019628958045808,
          1.2893815216553828,
          -1.8503476945459718,
          -1.1624137925900286,
          1.631894818283364,
          0.9137215970033604,
          0.42810273476173266,
          0.8383367822100516,
          0.03283408639287403,
          -0.6946136149052397,
          -0.08070742997934244,
          0.9486270898985858,
          -0.48974504059853097,
          0.7877660225946301,
          0.18205642024037574,
          -0.6270525171109232,
          -0.17486983897035135,
          -0.2569599069188726,
          0.4022673291283338,
          0.8893958001444761,
          0.7051969265018811,
          -0.2024575094870895,
          0.30361544203123086,
          -1.0690070760292605,
          0.4953857590622099,
          0.19672688600027186,
          -0.17632377424528928,
          -0.23475071514999798,
          0.997698475693314,
          -1.1669540486953198,
          -0.052800403148813194,
          0.1882279243514494,
          -0.7566964384387022,
          -0.5873806894237157,
          -1.0723913490493764
         ]
        }
       ],
       "layout": {
        "legend": {
         "bgcolor": "#F5F6F9",
         "font": {
          "color": "#4D5663"
         }
        },
        "paper_bgcolor": "#F5F6F9",
        "plot_bgcolor": "#F5F6F9",
        "template": {
         "data": {
          "bar": [
           {
            "error_x": {
             "color": "#2a3f5f"
            },
            "error_y": {
             "color": "#2a3f5f"
            },
            "marker": {
             "line": {
              "color": "#E5ECF6",
              "width": 0.5
             },
             "pattern": {
              "fillmode": "overlay",
              "size": 10,
              "solidity": 0.2
             }
            },
            "type": "bar"
           }
          ],
          "barpolar": [
           {
            "marker": {
             "line": {
              "color": "#E5ECF6",
              "width": 0.5
             },
             "pattern": {
              "fillmode": "overlay",
              "size": 10,
              "solidity": 0.2
             }
            },
            "type": "barpolar"
           }
          ],
          "carpet": [
           {
            "aaxis": {
             "endlinecolor": "#2a3f5f",
             "gridcolor": "white",
             "linecolor": "white",
             "minorgridcolor": "white",
             "startlinecolor": "#2a3f5f"
            },
            "baxis": {
             "endlinecolor": "#2a3f5f",
             "gridcolor": "white",
             "linecolor": "white",
             "minorgridcolor": "white",
             "startlinecolor": "#2a3f5f"
            },
            "type": "carpet"
           }
          ],
          "choropleth": [
           {
            "colorbar": {
             "outlinewidth": 0,
             "ticks": ""
            },
            "type": "choropleth"
           }
          ],
          "contour": [
           {
            "colorbar": {
             "outlinewidth": 0,
             "ticks": ""
            },
            "colorscale": [
             [
              0,
              "#0d0887"
             ],
             [
              0.1111111111111111,
              "#46039f"
             ],
             [
              0.2222222222222222,
              "#7201a8"
             ],
             [
              0.3333333333333333,
              "#9c179e"
             ],
             [
              0.4444444444444444,
              "#bd3786"
             ],
             [
              0.5555555555555556,
              "#d8576b"
             ],
             [
              0.6666666666666666,
              "#ed7953"
             ],
             [
              0.7777777777777778,
              "#fb9f3a"
             ],
             [
              0.8888888888888888,
              "#fdca26"
             ],
             [
              1,
              "#f0f921"
             ]
            ],
            "type": "contour"
           }
          ],
          "contourcarpet": [
           {
            "colorbar": {
             "outlinewidth": 0,
             "ticks": ""
            },
            "type": "contourcarpet"
           }
          ],
          "heatmap": [
           {
            "colorbar": {
             "outlinewidth": 0,
             "ticks": ""
            },
            "colorscale": [
             [
              0,
              "#0d0887"
             ],
             [
              0.1111111111111111,
              "#46039f"
             ],
             [
              0.2222222222222222,
              "#7201a8"
             ],
             [
              0.3333333333333333,
              "#9c179e"
             ],
             [
              0.4444444444444444,
              "#bd3786"
             ],
             [
              0.5555555555555556,
              "#d8576b"
             ],
             [
              0.6666666666666666,
              "#ed7953"
             ],
             [
              0.7777777777777778,
              "#fb9f3a"
             ],
             [
              0.8888888888888888,
              "#fdca26"
             ],
             [
              1,
              "#f0f921"
             ]
            ],
            "type": "heatmap"
           }
          ],
          "heatmapgl": [
           {
            "colorbar": {
             "outlinewidth": 0,
             "ticks": ""
            },
            "colorscale": [
             [
              0,
              "#0d0887"
             ],
             [
              0.1111111111111111,
              "#46039f"
             ],
             [
              0.2222222222222222,
              "#7201a8"
             ],
             [
              0.3333333333333333,
              "#9c179e"
             ],
             [
              0.4444444444444444,
              "#bd3786"
             ],
             [
              0.5555555555555556,
              "#d8576b"
             ],
             [
              0.6666666666666666,
              "#ed7953"
             ],
             [
              0.7777777777777778,
              "#fb9f3a"
             ],
             [
              0.8888888888888888,
              "#fdca26"
             ],
             [
              1,
              "#f0f921"
             ]
            ],
            "type": "heatmapgl"
           }
          ],
          "histogram": [
           {
            "marker": {
             "pattern": {
              "fillmode": "overlay",
              "size": 10,
              "solidity": 0.2
             }
            },
            "type": "histogram"
           }
          ],
          "histogram2d": [
           {
            "colorbar": {
             "outlinewidth": 0,
             "ticks": ""
            },
            "colorscale": [
             [
              0,
              "#0d0887"
             ],
             [
              0.1111111111111111,
              "#46039f"
             ],
             [
              0.2222222222222222,
              "#7201a8"
             ],
             [
              0.3333333333333333,
              "#9c179e"
             ],
             [
              0.4444444444444444,
              "#bd3786"
             ],
             [
              0.5555555555555556,
              "#d8576b"
             ],
             [
              0.6666666666666666,
              "#ed7953"
             ],
             [
              0.7777777777777778,
              "#fb9f3a"
             ],
             [
              0.8888888888888888,
              "#fdca26"
             ],
             [
              1,
              "#f0f921"
             ]
            ],
            "type": "histogram2d"
           }
          ],
          "histogram2dcontour": [
           {
            "colorbar": {
             "outlinewidth": 0,
             "ticks": ""
            },
            "colorscale": [
             [
              0,
              "#0d0887"
             ],
             [
              0.1111111111111111,
              "#46039f"
             ],
             [
              0.2222222222222222,
              "#7201a8"
             ],
             [
              0.3333333333333333,
              "#9c179e"
             ],
             [
              0.4444444444444444,
              "#bd3786"
             ],
             [
              0.5555555555555556,
              "#d8576b"
             ],
             [
              0.6666666666666666,
              "#ed7953"
             ],
             [
              0.7777777777777778,
              "#fb9f3a"
             ],
             [
              0.8888888888888888,
              "#fdca26"
             ],
             [
              1,
              "#f0f921"
             ]
            ],
            "type": "histogram2dcontour"
           }
          ],
          "mesh3d": [
           {
            "colorbar": {
             "outlinewidth": 0,
             "ticks": ""
            },
            "type": "mesh3d"
           }
          ],
          "parcoords": [
           {
            "line": {
             "colorbar": {
              "outlinewidth": 0,
              "ticks": ""
             }
            },
            "type": "parcoords"
           }
          ],
          "pie": [
           {
            "automargin": true,
            "type": "pie"
           }
          ],
          "scatter": [
           {
            "marker": {
             "colorbar": {
              "outlinewidth": 0,
              "ticks": ""
             }
            },
            "type": "scatter"
           }
          ],
          "scatter3d": [
           {
            "line": {
             "colorbar": {
              "outlinewidth": 0,
              "ticks": ""
             }
            },
            "marker": {
             "colorbar": {
              "outlinewidth": 0,
              "ticks": ""
             }
            },
            "type": "scatter3d"
           }
          ],
          "scattercarpet": [
           {
            "marker": {
             "colorbar": {
              "outlinewidth": 0,
              "ticks": ""
             }
            },
            "type": "scattercarpet"
           }
          ],
          "scattergeo": [
           {
            "marker": {
             "colorbar": {
              "outlinewidth": 0,
              "ticks": ""
             }
            },
            "type": "scattergeo"
           }
          ],
          "scattergl": [
           {
            "marker": {
             "colorbar": {
              "outlinewidth": 0,
              "ticks": ""
             }
            },
            "type": "scattergl"
           }
          ],
          "scattermapbox": [
           {
            "marker": {
             "colorbar": {
              "outlinewidth": 0,
              "ticks": ""
             }
            },
            "type": "scattermapbox"
           }
          ],
          "scatterpolar": [
           {
            "marker": {
             "colorbar": {
              "outlinewidth": 0,
              "ticks": ""
             }
            },
            "type": "scatterpolar"
           }
          ],
          "scatterpolargl": [
           {
            "marker": {
             "colorbar": {
              "outlinewidth": 0,
              "ticks": ""
             }
            },
            "type": "scatterpolargl"
           }
          ],
          "scatterternary": [
           {
            "marker": {
             "colorbar": {
              "outlinewidth": 0,
              "ticks": ""
             }
            },
            "type": "scatterternary"
           }
          ],
          "surface": [
           {
            "colorbar": {
             "outlinewidth": 0,
             "ticks": ""
            },
            "colorscale": [
             [
              0,
              "#0d0887"
             ],
             [
              0.1111111111111111,
              "#46039f"
             ],
             [
              0.2222222222222222,
              "#7201a8"
             ],
             [
              0.3333333333333333,
              "#9c179e"
             ],
             [
              0.4444444444444444,
              "#bd3786"
             ],
             [
              0.5555555555555556,
              "#d8576b"
             ],
             [
              0.6666666666666666,
              "#ed7953"
             ],
             [
              0.7777777777777778,
              "#fb9f3a"
             ],
             [
              0.8888888888888888,
              "#fdca26"
             ],
             [
              1,
              "#f0f921"
             ]
            ],
            "type": "surface"
           }
          ],
          "table": [
           {
            "cells": {
             "fill": {
              "color": "#EBF0F8"
             },
             "line": {
              "color": "white"
             }
            },
            "header": {
             "fill": {
              "color": "#C8D4E3"
             },
             "line": {
              "color": "white"
             }
            },
            "type": "table"
           }
          ]
         },
         "layout": {
          "annotationdefaults": {
           "arrowcolor": "#2a3f5f",
           "arrowhead": 0,
           "arrowwidth": 1
          },
          "autotypenumbers": "strict",
          "coloraxis": {
           "colorbar": {
            "outlinewidth": 0,
            "ticks": ""
           }
          },
          "colorscale": {
           "diverging": [
            [
             0,
             "#8e0152"
            ],
            [
             0.1,
             "#c51b7d"
            ],
            [
             0.2,
             "#de77ae"
            ],
            [
             0.3,
             "#f1b6da"
            ],
            [
             0.4,
             "#fde0ef"
            ],
            [
             0.5,
             "#f7f7f7"
            ],
            [
             0.6,
             "#e6f5d0"
            ],
            [
             0.7,
             "#b8e186"
            ],
            [
             0.8,
             "#7fbc41"
            ],
            [
             0.9,
             "#4d9221"
            ],
            [
             1,
             "#276419"
            ]
           ],
           "sequential": [
            [
             0,
             "#0d0887"
            ],
            [
             0.1111111111111111,
             "#46039f"
            ],
            [
             0.2222222222222222,
             "#7201a8"
            ],
            [
             0.3333333333333333,
             "#9c179e"
            ],
            [
             0.4444444444444444,
             "#bd3786"
            ],
            [
             0.5555555555555556,
             "#d8576b"
            ],
            [
             0.6666666666666666,
             "#ed7953"
            ],
            [
             0.7777777777777778,
             "#fb9f3a"
            ],
            [
             0.8888888888888888,
             "#fdca26"
            ],
            [
             1,
             "#f0f921"
            ]
           ],
           "sequentialminus": [
            [
             0,
             "#0d0887"
            ],
            [
             0.1111111111111111,
             "#46039f"
            ],
            [
             0.2222222222222222,
             "#7201a8"
            ],
            [
             0.3333333333333333,
             "#9c179e"
            ],
            [
             0.4444444444444444,
             "#bd3786"
            ],
            [
             0.5555555555555556,
             "#d8576b"
            ],
            [
             0.6666666666666666,
             "#ed7953"
            ],
            [
             0.7777777777777778,
             "#fb9f3a"
            ],
            [
             0.8888888888888888,
             "#fdca26"
            ],
            [
             1,
             "#f0f921"
            ]
           ]
          },
          "colorway": [
           "#636efa",
           "#EF553B",
           "#00cc96",
           "#ab63fa",
           "#FFA15A",
           "#19d3f3",
           "#FF6692",
           "#B6E880",
           "#FF97FF",
           "#FECB52"
          ],
          "font": {
           "color": "#2a3f5f"
          },
          "geo": {
           "bgcolor": "white",
           "lakecolor": "white",
           "landcolor": "#E5ECF6",
           "showlakes": true,
           "showland": true,
           "subunitcolor": "white"
          },
          "hoverlabel": {
           "align": "left"
          },
          "hovermode": "closest",
          "mapbox": {
           "style": "light"
          },
          "paper_bgcolor": "white",
          "plot_bgcolor": "#E5ECF6",
          "polar": {
           "angularaxis": {
            "gridcolor": "white",
            "linecolor": "white",
            "ticks": ""
           },
           "bgcolor": "#E5ECF6",
           "radialaxis": {
            "gridcolor": "white",
            "linecolor": "white",
            "ticks": ""
           }
          },
          "scene": {
           "xaxis": {
            "backgroundcolor": "#E5ECF6",
            "gridcolor": "white",
            "gridwidth": 2,
            "linecolor": "white",
            "showbackground": true,
            "ticks": "",
            "zerolinecolor": "white"
           },
           "yaxis": {
            "backgroundcolor": "#E5ECF6",
            "gridcolor": "white",
            "gridwidth": 2,
            "linecolor": "white",
            "showbackground": true,
            "ticks": "",
            "zerolinecolor": "white"
           },
           "zaxis": {
            "backgroundcolor": "#E5ECF6",
            "gridcolor": "white",
            "gridwidth": 2,
            "linecolor": "white",
            "showbackground": true,
            "ticks": "",
            "zerolinecolor": "white"
           }
          },
          "shapedefaults": {
           "line": {
            "color": "#2a3f5f"
           }
          },
          "ternary": {
           "aaxis": {
            "gridcolor": "white",
            "linecolor": "white",
            "ticks": ""
           },
           "baxis": {
            "gridcolor": "white",
            "linecolor": "white",
            "ticks": ""
           },
           "bgcolor": "#E5ECF6",
           "caxis": {
            "gridcolor": "white",
            "linecolor": "white",
            "ticks": ""
           }
          },
          "title": {
           "x": 0.05
          },
          "xaxis": {
           "automargin": true,
           "gridcolor": "white",
           "linecolor": "white",
           "ticks": "",
           "title": {
            "standoff": 15
           },
           "zerolinecolor": "white",
           "zerolinewidth": 2
          },
          "yaxis": {
           "automargin": true,
           "gridcolor": "white",
           "linecolor": "white",
           "ticks": "",
           "title": {
            "standoff": 15
           },
           "zerolinecolor": "white",
           "zerolinewidth": 2
          }
         }
        },
        "title": {
         "font": {
          "color": "#4D5663"
         }
        },
        "xaxis": {
         "gridcolor": "#E1E5ED",
         "showgrid": true,
         "tickfont": {
          "color": "#4D5663"
         },
         "title": {
          "font": {
           "color": "#4D5663"
          },
          "text": ""
         },
         "zerolinecolor": "#E1E5ED"
        },
        "yaxis": {
         "gridcolor": "#E1E5ED",
         "showgrid": true,
         "tickfont": {
          "color": "#4D5663"
         },
         "title": {
          "font": {
           "color": "#4D5663"
          },
          "text": ""
         },
         "zerolinecolor": "#E1E5ED"
        }
       }
      },
      "text/html": [
       "<div>                            <div id=\"ea1a002a-ae0e-4eaf-92a3-63aac0a8ad5a\" class=\"plotly-graph-div\" style=\"height:525px; width:100%;\"></div>            <script type=\"text/javascript\">                require([\"plotly\"], function(Plotly) {                    window.PLOTLYENV=window.PLOTLYENV || {};\n",
       "                    window.PLOTLYENV.BASE_URL='https://plot.ly';                                    if (document.getElementById(\"ea1a002a-ae0e-4eaf-92a3-63aac0a8ad5a\")) {                    Plotly.newPlot(                        \"ea1a002a-ae0e-4eaf-92a3-63aac0a8ad5a\",                        [{\"line\":{\"color\":\"rgba(255, 153, 51, 1.0)\",\"dash\":\"solid\",\"shape\":\"linear\",\"width\":1.3},\"mode\":\"lines\",\"name\":\"B\",\"text\":\"\",\"x\":[-0.4109093102308704,-0.6680817820818279,0.05775923832079972,-0.6514336458680554,0.1879160682510293,-1.5293464668323662,-0.7035269259572434,0.023874540007682573,-1.2420547200599625,-0.8913683621133949,-0.6031304983078408,-0.8971715581521588,-0.29873531501808204,-0.28277215845111825,-1.4601949181242078,1.163711752718257,-0.7985458453409878,0.08419460658711336,1.2072287151035508,1.9355081654923072,-0.6280104709091505,-0.11194954662160747,-0.46415689977609864,0.3291395359396691,0.14336269881245645,-0.7973487302419948,1.0136391070213626,0.3224826399220911,-0.5610315946764224,-1.6376822225509424,1.5133491313233511,0.6252725756740378,0.5218653597362931,0.2630145983301274,-0.6226571769603287,-0.47641810789885125,-0.7063513142606132,0.32684887117824307,0.25245635094777025,-0.8921088220372825,0.7720682190244831,0.7238641471940175,0.645126076541708,0.4224070507208162,0.3990528172515247,-0.19255958104133045,-0.16973807979033237,-1.0196829077704666,-0.3561857988413979,-0.7547498424893713,1.756962952184945,0.15851227706927512,-1.0982456629275492,0.6028423362735791,-1.2172834983904086,0.3151964776503683,-1.2224736248236194,-0.7734229575896733,0.15439661925788561,0.7886502050544204,-0.054443877521405636,-1.0636641048785411,-1.5786802485725135,0.24813035938868763,0.13326047954542491,0.07900652650890297,-1.943265097469249,0.709653153466894,-0.8004575677107629,-0.30651500422656586,-0.034793194861766734,1.1239760186483012,1.9534360839432174,0.5855191473663935,-0.259033322409612,-0.721568816715617,0.4048799040916817,0.11292732199272669,-1.1339821084354054,1.608866407723626,0.3501736145293892,-0.0486340739793143,-1.4939842393253115,0.33891543148322023,-0.14837108037915506,1.1431096103520344,1.2732128325788084,1.6707652434185216,-2.034802087108342,2.0454869644421496,1.928114298449317,0.2810486247432109,-0.4763850985641512,1.0107331745913726,0.7183992254469621,1.3199201637244298,0.19377943979431222,1.9858006393975318,1.7289541996275624,0.6000972414545752],\"y\":[0.10816164100433416,-0.3786534181130173,1.5976396520152203,0.1032715254968819,-1.0523808578431146,-1.3088111247109417,-0.33138160694857144,0.37586959252393326,-1.4329191920134556,-1.4057862776414278,-0.958400047246091,0.29084537770773083,0.9935937445178882,0.04105070648099821,0.5408640784206419,-0.9264630427696732,1.4446133920139053,0.7294940924538716,-0.4350365321345761,-0.1325933169696886,-1.014905041321066,0.7142426252203482,-0.12624792117550834,-0.20886899913259685,-0.046122503270438174,1.0930917336122041,-1.9021098919909627,2.1923805539824883,-0.35159360601604234,-0.7840171652005669,0.8013260813444979,1.6926231238423597,-1.8736638856094856,0.9707936279502669,-0.8946838001113273,0.33970862607059893,-0.5793816991296611,-0.0878888415438686,0.5123180202062559,-0.3354586266014048,-0.3056932331079285,1.3570012723760245,0.6501788955149052,-1.0229202856165147,0.6832670623300489,0.2169408672987547,-1.5775271330361818,-1.1246690529362395,0.3921142234135686,-0.06959219198977895,-0.019901343076002487,-0.9668266661131473,-0.21099683075611467,0.0016865579778136469,-1.0802687843471324,-1.380237864945273,-0.8039152050946438,0.6777652747804674,-1.7942162924799367,0.1874497630076612,0.21428526335199233,-1.6590885500531578,1.2292836165571877,-0.6313361485055891,0.20526898451701303,0.3019628958045808,1.2893815216553828,-1.8503476945459718,-1.1624137925900286,1.631894818283364,0.9137215970033604,0.42810273476173266,0.8383367822100516,0.03283408639287403,-0.6946136149052397,-0.08070742997934244,0.9486270898985858,-0.48974504059853097,0.7877660225946301,0.18205642024037574,-0.6270525171109232,-0.17486983897035135,-0.2569599069188726,0.4022673291283338,0.8893958001444761,0.7051969265018811,-0.2024575094870895,0.30361544203123086,-1.0690070760292605,0.4953857590622099,0.19672688600027186,-0.17632377424528928,-0.23475071514999798,0.997698475693314,-1.1669540486953198,-0.052800403148813194,0.1882279243514494,-0.7566964384387022,-0.5873806894237157,-1.0723913490493764],\"type\":\"scatter\"}],                        {\"legend\":{\"bgcolor\":\"#F5F6F9\",\"font\":{\"color\":\"#4D5663\"}},\"paper_bgcolor\":\"#F5F6F9\",\"plot_bgcolor\":\"#F5F6F9\",\"template\":{\"data\":{\"barpolar\":[{\"marker\":{\"line\":{\"color\":\"#E5ECF6\",\"width\":0.5},\"pattern\":{\"fillmode\":\"overlay\",\"size\":10,\"solidity\":0.2}},\"type\":\"barpolar\"}],\"bar\":[{\"error_x\":{\"color\":\"#2a3f5f\"},\"error_y\":{\"color\":\"#2a3f5f\"},\"marker\":{\"line\":{\"color\":\"#E5ECF6\",\"width\":0.5},\"pattern\":{\"fillmode\":\"overlay\",\"size\":10,\"solidity\":0.2}},\"type\":\"bar\"}],\"carpet\":[{\"aaxis\":{\"endlinecolor\":\"#2a3f5f\",\"gridcolor\":\"white\",\"linecolor\":\"white\",\"minorgridcolor\":\"white\",\"startlinecolor\":\"#2a3f5f\"},\"baxis\":{\"endlinecolor\":\"#2a3f5f\",\"gridcolor\":\"white\",\"linecolor\":\"white\",\"minorgridcolor\":\"white\",\"startlinecolor\":\"#2a3f5f\"},\"type\":\"carpet\"}],\"choropleth\":[{\"colorbar\":{\"outlinewidth\":0,\"ticks\":\"\"},\"type\":\"choropleth\"}],\"contourcarpet\":[{\"colorbar\":{\"outlinewidth\":0,\"ticks\":\"\"},\"type\":\"contourcarpet\"}],\"contour\":[{\"colorbar\":{\"outlinewidth\":0,\"ticks\":\"\"},\"colorscale\":[[0.0,\"#0d0887\"],[0.1111111111111111,\"#46039f\"],[0.2222222222222222,\"#7201a8\"],[0.3333333333333333,\"#9c179e\"],[0.4444444444444444,\"#bd3786\"],[0.5555555555555556,\"#d8576b\"],[0.6666666666666666,\"#ed7953\"],[0.7777777777777778,\"#fb9f3a\"],[0.8888888888888888,\"#fdca26\"],[1.0,\"#f0f921\"]],\"type\":\"contour\"}],\"heatmapgl\":[{\"colorbar\":{\"outlinewidth\":0,\"ticks\":\"\"},\"colorscale\":[[0.0,\"#0d0887\"],[0.1111111111111111,\"#46039f\"],[0.2222222222222222,\"#7201a8\"],[0.3333333333333333,\"#9c179e\"],[0.4444444444444444,\"#bd3786\"],[0.5555555555555556,\"#d8576b\"],[0.6666666666666666,\"#ed7953\"],[0.7777777777777778,\"#fb9f3a\"],[0.8888888888888888,\"#fdca26\"],[1.0,\"#f0f921\"]],\"type\":\"heatmapgl\"}],\"heatmap\":[{\"colorbar\":{\"outlinewidth\":0,\"ticks\":\"\"},\"colorscale\":[[0.0,\"#0d0887\"],[0.1111111111111111,\"#46039f\"],[0.2222222222222222,\"#7201a8\"],[0.3333333333333333,\"#9c179e\"],[0.4444444444444444,\"#bd3786\"],[0.5555555555555556,\"#d8576b\"],[0.6666666666666666,\"#ed7953\"],[0.7777777777777778,\"#fb9f3a\"],[0.8888888888888888,\"#fdca26\"],[1.0,\"#f0f921\"]],\"type\":\"heatmap\"}],\"histogram2dcontour\":[{\"colorbar\":{\"outlinewidth\":0,\"ticks\":\"\"},\"colorscale\":[[0.0,\"#0d0887\"],[0.1111111111111111,\"#46039f\"],[0.2222222222222222,\"#7201a8\"],[0.3333333333333333,\"#9c179e\"],[0.4444444444444444,\"#bd3786\"],[0.5555555555555556,\"#d8576b\"],[0.6666666666666666,\"#ed7953\"],[0.7777777777777778,\"#fb9f3a\"],[0.8888888888888888,\"#fdca26\"],[1.0,\"#f0f921\"]],\"type\":\"histogram2dcontour\"}],\"histogram2d\":[{\"colorbar\":{\"outlinewidth\":0,\"ticks\":\"\"},\"colorscale\":[[0.0,\"#0d0887\"],[0.1111111111111111,\"#46039f\"],[0.2222222222222222,\"#7201a8\"],[0.3333333333333333,\"#9c179e\"],[0.4444444444444444,\"#bd3786\"],[0.5555555555555556,\"#d8576b\"],[0.6666666666666666,\"#ed7953\"],[0.7777777777777778,\"#fb9f3a\"],[0.8888888888888888,\"#fdca26\"],[1.0,\"#f0f921\"]],\"type\":\"histogram2d\"}],\"histogram\":[{\"marker\":{\"pattern\":{\"fillmode\":\"overlay\",\"size\":10,\"solidity\":0.2}},\"type\":\"histogram\"}],\"mesh3d\":[{\"colorbar\":{\"outlinewidth\":0,\"ticks\":\"\"},\"type\":\"mesh3d\"}],\"parcoords\":[{\"line\":{\"colorbar\":{\"outlinewidth\":0,\"ticks\":\"\"}},\"type\":\"parcoords\"}],\"pie\":[{\"automargin\":true,\"type\":\"pie\"}],\"scatter3d\":[{\"line\":{\"colorbar\":{\"outlinewidth\":0,\"ticks\":\"\"}},\"marker\":{\"colorbar\":{\"outlinewidth\":0,\"ticks\":\"\"}},\"type\":\"scatter3d\"}],\"scattercarpet\":[{\"marker\":{\"colorbar\":{\"outlinewidth\":0,\"ticks\":\"\"}},\"type\":\"scattercarpet\"}],\"scattergeo\":[{\"marker\":{\"colorbar\":{\"outlinewidth\":0,\"ticks\":\"\"}},\"type\":\"scattergeo\"}],\"scattergl\":[{\"marker\":{\"colorbar\":{\"outlinewidth\":0,\"ticks\":\"\"}},\"type\":\"scattergl\"}],\"scattermapbox\":[{\"marker\":{\"colorbar\":{\"outlinewidth\":0,\"ticks\":\"\"}},\"type\":\"scattermapbox\"}],\"scatterpolargl\":[{\"marker\":{\"colorbar\":{\"outlinewidth\":0,\"ticks\":\"\"}},\"type\":\"scatterpolargl\"}],\"scatterpolar\":[{\"marker\":{\"colorbar\":{\"outlinewidth\":0,\"ticks\":\"\"}},\"type\":\"scatterpolar\"}],\"scatter\":[{\"marker\":{\"colorbar\":{\"outlinewidth\":0,\"ticks\":\"\"}},\"type\":\"scatter\"}],\"scatterternary\":[{\"marker\":{\"colorbar\":{\"outlinewidth\":0,\"ticks\":\"\"}},\"type\":\"scatterternary\"}],\"surface\":[{\"colorbar\":{\"outlinewidth\":0,\"ticks\":\"\"},\"colorscale\":[[0.0,\"#0d0887\"],[0.1111111111111111,\"#46039f\"],[0.2222222222222222,\"#7201a8\"],[0.3333333333333333,\"#9c179e\"],[0.4444444444444444,\"#bd3786\"],[0.5555555555555556,\"#d8576b\"],[0.6666666666666666,\"#ed7953\"],[0.7777777777777778,\"#fb9f3a\"],[0.8888888888888888,\"#fdca26\"],[1.0,\"#f0f921\"]],\"type\":\"surface\"}],\"table\":[{\"cells\":{\"fill\":{\"color\":\"#EBF0F8\"},\"line\":{\"color\":\"white\"}},\"header\":{\"fill\":{\"color\":\"#C8D4E3\"},\"line\":{\"color\":\"white\"}},\"type\":\"table\"}]},\"layout\":{\"annotationdefaults\":{\"arrowcolor\":\"#2a3f5f\",\"arrowhead\":0,\"arrowwidth\":1},\"autotypenumbers\":\"strict\",\"coloraxis\":{\"colorbar\":{\"outlinewidth\":0,\"ticks\":\"\"}},\"colorscale\":{\"diverging\":[[0,\"#8e0152\"],[0.1,\"#c51b7d\"],[0.2,\"#de77ae\"],[0.3,\"#f1b6da\"],[0.4,\"#fde0ef\"],[0.5,\"#f7f7f7\"],[0.6,\"#e6f5d0\"],[0.7,\"#b8e186\"],[0.8,\"#7fbc41\"],[0.9,\"#4d9221\"],[1,\"#276419\"]],\"sequential\":[[0.0,\"#0d0887\"],[0.1111111111111111,\"#46039f\"],[0.2222222222222222,\"#7201a8\"],[0.3333333333333333,\"#9c179e\"],[0.4444444444444444,\"#bd3786\"],[0.5555555555555556,\"#d8576b\"],[0.6666666666666666,\"#ed7953\"],[0.7777777777777778,\"#fb9f3a\"],[0.8888888888888888,\"#fdca26\"],[1.0,\"#f0f921\"]],\"sequentialminus\":[[0.0,\"#0d0887\"],[0.1111111111111111,\"#46039f\"],[0.2222222222222222,\"#7201a8\"],[0.3333333333333333,\"#9c179e\"],[0.4444444444444444,\"#bd3786\"],[0.5555555555555556,\"#d8576b\"],[0.6666666666666666,\"#ed7953\"],[0.7777777777777778,\"#fb9f3a\"],[0.8888888888888888,\"#fdca26\"],[1.0,\"#f0f921\"]]},\"colorway\":[\"#636efa\",\"#EF553B\",\"#00cc96\",\"#ab63fa\",\"#FFA15A\",\"#19d3f3\",\"#FF6692\",\"#B6E880\",\"#FF97FF\",\"#FECB52\"],\"font\":{\"color\":\"#2a3f5f\"},\"geo\":{\"bgcolor\":\"white\",\"lakecolor\":\"white\",\"landcolor\":\"#E5ECF6\",\"showlakes\":true,\"showland\":true,\"subunitcolor\":\"white\"},\"hoverlabel\":{\"align\":\"left\"},\"hovermode\":\"closest\",\"mapbox\":{\"style\":\"light\"},\"paper_bgcolor\":\"white\",\"plot_bgcolor\":\"#E5ECF6\",\"polar\":{\"angularaxis\":{\"gridcolor\":\"white\",\"linecolor\":\"white\",\"ticks\":\"\"},\"bgcolor\":\"#E5ECF6\",\"radialaxis\":{\"gridcolor\":\"white\",\"linecolor\":\"white\",\"ticks\":\"\"}},\"scene\":{\"xaxis\":{\"backgroundcolor\":\"#E5ECF6\",\"gridcolor\":\"white\",\"gridwidth\":2,\"linecolor\":\"white\",\"showbackground\":true,\"ticks\":\"\",\"zerolinecolor\":\"white\"},\"yaxis\":{\"backgroundcolor\":\"#E5ECF6\",\"gridcolor\":\"white\",\"gridwidth\":2,\"linecolor\":\"white\",\"showbackground\":true,\"ticks\":\"\",\"zerolinecolor\":\"white\"},\"zaxis\":{\"backgroundcolor\":\"#E5ECF6\",\"gridcolor\":\"white\",\"gridwidth\":2,\"linecolor\":\"white\",\"showbackground\":true,\"ticks\":\"\",\"zerolinecolor\":\"white\"}},\"shapedefaults\":{\"line\":{\"color\":\"#2a3f5f\"}},\"ternary\":{\"aaxis\":{\"gridcolor\":\"white\",\"linecolor\":\"white\",\"ticks\":\"\"},\"baxis\":{\"gridcolor\":\"white\",\"linecolor\":\"white\",\"ticks\":\"\"},\"bgcolor\":\"#E5ECF6\",\"caxis\":{\"gridcolor\":\"white\",\"linecolor\":\"white\",\"ticks\":\"\"}},\"title\":{\"x\":0.05},\"xaxis\":{\"automargin\":true,\"gridcolor\":\"white\",\"linecolor\":\"white\",\"ticks\":\"\",\"title\":{\"standoff\":15},\"zerolinecolor\":\"white\",\"zerolinewidth\":2},\"yaxis\":{\"automargin\":true,\"gridcolor\":\"white\",\"linecolor\":\"white\",\"ticks\":\"\",\"title\":{\"standoff\":15},\"zerolinecolor\":\"white\",\"zerolinewidth\":2}}},\"title\":{\"font\":{\"color\":\"#4D5663\"}},\"xaxis\":{\"gridcolor\":\"#E1E5ED\",\"showgrid\":true,\"tickfont\":{\"color\":\"#4D5663\"},\"title\":{\"font\":{\"color\":\"#4D5663\"},\"text\":\"\"},\"zerolinecolor\":\"#E1E5ED\"},\"yaxis\":{\"gridcolor\":\"#E1E5ED\",\"showgrid\":true,\"tickfont\":{\"color\":\"#4D5663\"},\"title\":{\"font\":{\"color\":\"#4D5663\"},\"text\":\"\"},\"zerolinecolor\":\"#E1E5ED\"}},                        {\"showLink\": true, \"linkText\": \"Export to plot.ly\", \"plotlyServerURL\": \"https://plot.ly\", \"responsive\": true}                    ).then(function(){\n",
       "                            \n",
       "var gd = document.getElementById('ea1a002a-ae0e-4eaf-92a3-63aac0a8ad5a');\n",
       "var x = new MutationObserver(function (mutations, observer) {{\n",
       "        var display = window.getComputedStyle(gd).display;\n",
       "        if (!display || display === 'none') {{\n",
       "            console.log([gd, 'removed!']);\n",
       "            Plotly.purge(gd);\n",
       "            observer.disconnect();\n",
       "        }}\n",
       "}});\n",
       "\n",
       "// Listen for the removal of the full notebook cells\n",
       "var notebookContainer = gd.closest('#notebook-container');\n",
       "if (notebookContainer) {{\n",
       "    x.observe(notebookContainer, {childList: true});\n",
       "}}\n",
       "\n",
       "// Listen for the clearing of the current output cell\n",
       "var outputEl = gd.closest('.output');\n",
       "if (outputEl) {{\n",
       "    x.observe(outputEl, {childList: true});\n",
       "}}\n",
       "\n",
       "                        })                };                });            </script>        </div>"
      ]
     },
     "metadata": {},
     "output_type": "display_data"
    }
   ],
   "source": [
    "df.iplot(kind='scatter',x='A',y='B')"
   ]
  },
  {
   "cell_type": "code",
   "execution_count": 27,
   "id": "d5c9355b",
   "metadata": {},
   "outputs": [
    {
     "data": {
      "application/vnd.plotly.v1+json": {
       "config": {
        "linkText": "Export to plot.ly",
        "plotlyServerURL": "https://plot.ly",
        "showLink": true
       },
       "data": [
        {
         "line": {
          "color": "rgba(255, 153, 51, 1.0)",
          "dash": "solid",
          "shape": "linear",
          "width": 1.3
         },
         "marker": {
          "size": 12,
          "symbol": "circle"
         },
         "mode": "markers",
         "name": "B",
         "text": "",
         "type": "scatter",
         "x": [
          -0.4109093102308704,
          -0.6680817820818279,
          0.05775923832079972,
          -0.6514336458680554,
          0.1879160682510293,
          -1.5293464668323662,
          -0.7035269259572434,
          0.023874540007682573,
          -1.2420547200599625,
          -0.8913683621133949,
          -0.6031304983078408,
          -0.8971715581521588,
          -0.29873531501808204,
          -0.28277215845111825,
          -1.4601949181242078,
          1.163711752718257,
          -0.7985458453409878,
          0.08419460658711336,
          1.2072287151035508,
          1.9355081654923072,
          -0.6280104709091505,
          -0.11194954662160747,
          -0.46415689977609864,
          0.3291395359396691,
          0.14336269881245645,
          -0.7973487302419948,
          1.0136391070213626,
          0.3224826399220911,
          -0.5610315946764224,
          -1.6376822225509424,
          1.5133491313233511,
          0.6252725756740378,
          0.5218653597362931,
          0.2630145983301274,
          -0.6226571769603287,
          -0.47641810789885125,
          -0.7063513142606132,
          0.32684887117824307,
          0.25245635094777025,
          -0.8921088220372825,
          0.7720682190244831,
          0.7238641471940175,
          0.645126076541708,
          0.4224070507208162,
          0.3990528172515247,
          -0.19255958104133045,
          -0.16973807979033237,
          -1.0196829077704666,
          -0.3561857988413979,
          -0.7547498424893713,
          1.756962952184945,
          0.15851227706927512,
          -1.0982456629275492,
          0.6028423362735791,
          -1.2172834983904086,
          0.3151964776503683,
          -1.2224736248236194,
          -0.7734229575896733,
          0.15439661925788561,
          0.7886502050544204,
          -0.054443877521405636,
          -1.0636641048785411,
          -1.5786802485725135,
          0.24813035938868763,
          0.13326047954542491,
          0.07900652650890297,
          -1.943265097469249,
          0.709653153466894,
          -0.8004575677107629,
          -0.30651500422656586,
          -0.034793194861766734,
          1.1239760186483012,
          1.9534360839432174,
          0.5855191473663935,
          -0.259033322409612,
          -0.721568816715617,
          0.4048799040916817,
          0.11292732199272669,
          -1.1339821084354054,
          1.608866407723626,
          0.3501736145293892,
          -0.0486340739793143,
          -1.4939842393253115,
          0.33891543148322023,
          -0.14837108037915506,
          1.1431096103520344,
          1.2732128325788084,
          1.6707652434185216,
          -2.034802087108342,
          2.0454869644421496,
          1.928114298449317,
          0.2810486247432109,
          -0.4763850985641512,
          1.0107331745913726,
          0.7183992254469621,
          1.3199201637244298,
          0.19377943979431222,
          1.9858006393975318,
          1.7289541996275624,
          0.6000972414545752
         ],
         "y": [
          0.10816164100433416,
          -0.3786534181130173,
          1.5976396520152203,
          0.1032715254968819,
          -1.0523808578431146,
          -1.3088111247109417,
          -0.33138160694857144,
          0.37586959252393326,
          -1.4329191920134556,
          -1.4057862776414278,
          -0.958400047246091,
          0.29084537770773083,
          0.9935937445178882,
          0.04105070648099821,
          0.5408640784206419,
          -0.9264630427696732,
          1.4446133920139053,
          0.7294940924538716,
          -0.4350365321345761,
          -0.1325933169696886,
          -1.014905041321066,
          0.7142426252203482,
          -0.12624792117550834,
          -0.20886899913259685,
          -0.046122503270438174,
          1.0930917336122041,
          -1.9021098919909627,
          2.1923805539824883,
          -0.35159360601604234,
          -0.7840171652005669,
          0.8013260813444979,
          1.6926231238423597,
          -1.8736638856094856,
          0.9707936279502669,
          -0.8946838001113273,
          0.33970862607059893,
          -0.5793816991296611,
          -0.0878888415438686,
          0.5123180202062559,
          -0.3354586266014048,
          -0.3056932331079285,
          1.3570012723760245,
          0.6501788955149052,
          -1.0229202856165147,
          0.6832670623300489,
          0.2169408672987547,
          -1.5775271330361818,
          -1.1246690529362395,
          0.3921142234135686,
          -0.06959219198977895,
          -0.019901343076002487,
          -0.9668266661131473,
          -0.21099683075611467,
          0.0016865579778136469,
          -1.0802687843471324,
          -1.380237864945273,
          -0.8039152050946438,
          0.6777652747804674,
          -1.7942162924799367,
          0.1874497630076612,
          0.21428526335199233,
          -1.6590885500531578,
          1.2292836165571877,
          -0.6313361485055891,
          0.20526898451701303,
          0.3019628958045808,
          1.2893815216553828,
          -1.8503476945459718,
          -1.1624137925900286,
          1.631894818283364,
          0.9137215970033604,
          0.42810273476173266,
          0.8383367822100516,
          0.03283408639287403,
          -0.6946136149052397,
          -0.08070742997934244,
          0.9486270898985858,
          -0.48974504059853097,
          0.7877660225946301,
          0.18205642024037574,
          -0.6270525171109232,
          -0.17486983897035135,
          -0.2569599069188726,
          0.4022673291283338,
          0.8893958001444761,
          0.7051969265018811,
          -0.2024575094870895,
          0.30361544203123086,
          -1.0690070760292605,
          0.4953857590622099,
          0.19672688600027186,
          -0.17632377424528928,
          -0.23475071514999798,
          0.997698475693314,
          -1.1669540486953198,
          -0.052800403148813194,
          0.1882279243514494,
          -0.7566964384387022,
          -0.5873806894237157,
          -1.0723913490493764
         ]
        }
       ],
       "layout": {
        "legend": {
         "bgcolor": "#F5F6F9",
         "font": {
          "color": "#4D5663"
         }
        },
        "paper_bgcolor": "#F5F6F9",
        "plot_bgcolor": "#F5F6F9",
        "template": {
         "data": {
          "bar": [
           {
            "error_x": {
             "color": "#2a3f5f"
            },
            "error_y": {
             "color": "#2a3f5f"
            },
            "marker": {
             "line": {
              "color": "#E5ECF6",
              "width": 0.5
             },
             "pattern": {
              "fillmode": "overlay",
              "size": 10,
              "solidity": 0.2
             }
            },
            "type": "bar"
           }
          ],
          "barpolar": [
           {
            "marker": {
             "line": {
              "color": "#E5ECF6",
              "width": 0.5
             },
             "pattern": {
              "fillmode": "overlay",
              "size": 10,
              "solidity": 0.2
             }
            },
            "type": "barpolar"
           }
          ],
          "carpet": [
           {
            "aaxis": {
             "endlinecolor": "#2a3f5f",
             "gridcolor": "white",
             "linecolor": "white",
             "minorgridcolor": "white",
             "startlinecolor": "#2a3f5f"
            },
            "baxis": {
             "endlinecolor": "#2a3f5f",
             "gridcolor": "white",
             "linecolor": "white",
             "minorgridcolor": "white",
             "startlinecolor": "#2a3f5f"
            },
            "type": "carpet"
           }
          ],
          "choropleth": [
           {
            "colorbar": {
             "outlinewidth": 0,
             "ticks": ""
            },
            "type": "choropleth"
           }
          ],
          "contour": [
           {
            "colorbar": {
             "outlinewidth": 0,
             "ticks": ""
            },
            "colorscale": [
             [
              0,
              "#0d0887"
             ],
             [
              0.1111111111111111,
              "#46039f"
             ],
             [
              0.2222222222222222,
              "#7201a8"
             ],
             [
              0.3333333333333333,
              "#9c179e"
             ],
             [
              0.4444444444444444,
              "#bd3786"
             ],
             [
              0.5555555555555556,
              "#d8576b"
             ],
             [
              0.6666666666666666,
              "#ed7953"
             ],
             [
              0.7777777777777778,
              "#fb9f3a"
             ],
             [
              0.8888888888888888,
              "#fdca26"
             ],
             [
              1,
              "#f0f921"
             ]
            ],
            "type": "contour"
           }
          ],
          "contourcarpet": [
           {
            "colorbar": {
             "outlinewidth": 0,
             "ticks": ""
            },
            "type": "contourcarpet"
           }
          ],
          "heatmap": [
           {
            "colorbar": {
             "outlinewidth": 0,
             "ticks": ""
            },
            "colorscale": [
             [
              0,
              "#0d0887"
             ],
             [
              0.1111111111111111,
              "#46039f"
             ],
             [
              0.2222222222222222,
              "#7201a8"
             ],
             [
              0.3333333333333333,
              "#9c179e"
             ],
             [
              0.4444444444444444,
              "#bd3786"
             ],
             [
              0.5555555555555556,
              "#d8576b"
             ],
             [
              0.6666666666666666,
              "#ed7953"
             ],
             [
              0.7777777777777778,
              "#fb9f3a"
             ],
             [
              0.8888888888888888,
              "#fdca26"
             ],
             [
              1,
              "#f0f921"
             ]
            ],
            "type": "heatmap"
           }
          ],
          "heatmapgl": [
           {
            "colorbar": {
             "outlinewidth": 0,
             "ticks": ""
            },
            "colorscale": [
             [
              0,
              "#0d0887"
             ],
             [
              0.1111111111111111,
              "#46039f"
             ],
             [
              0.2222222222222222,
              "#7201a8"
             ],
             [
              0.3333333333333333,
              "#9c179e"
             ],
             [
              0.4444444444444444,
              "#bd3786"
             ],
             [
              0.5555555555555556,
              "#d8576b"
             ],
             [
              0.6666666666666666,
              "#ed7953"
             ],
             [
              0.7777777777777778,
              "#fb9f3a"
             ],
             [
              0.8888888888888888,
              "#fdca26"
             ],
             [
              1,
              "#f0f921"
             ]
            ],
            "type": "heatmapgl"
           }
          ],
          "histogram": [
           {
            "marker": {
             "pattern": {
              "fillmode": "overlay",
              "size": 10,
              "solidity": 0.2
             }
            },
            "type": "histogram"
           }
          ],
          "histogram2d": [
           {
            "colorbar": {
             "outlinewidth": 0,
             "ticks": ""
            },
            "colorscale": [
             [
              0,
              "#0d0887"
             ],
             [
              0.1111111111111111,
              "#46039f"
             ],
             [
              0.2222222222222222,
              "#7201a8"
             ],
             [
              0.3333333333333333,
              "#9c179e"
             ],
             [
              0.4444444444444444,
              "#bd3786"
             ],
             [
              0.5555555555555556,
              "#d8576b"
             ],
             [
              0.6666666666666666,
              "#ed7953"
             ],
             [
              0.7777777777777778,
              "#fb9f3a"
             ],
             [
              0.8888888888888888,
              "#fdca26"
             ],
             [
              1,
              "#f0f921"
             ]
            ],
            "type": "histogram2d"
           }
          ],
          "histogram2dcontour": [
           {
            "colorbar": {
             "outlinewidth": 0,
             "ticks": ""
            },
            "colorscale": [
             [
              0,
              "#0d0887"
             ],
             [
              0.1111111111111111,
              "#46039f"
             ],
             [
              0.2222222222222222,
              "#7201a8"
             ],
             [
              0.3333333333333333,
              "#9c179e"
             ],
             [
              0.4444444444444444,
              "#bd3786"
             ],
             [
              0.5555555555555556,
              "#d8576b"
             ],
             [
              0.6666666666666666,
              "#ed7953"
             ],
             [
              0.7777777777777778,
              "#fb9f3a"
             ],
             [
              0.8888888888888888,
              "#fdca26"
             ],
             [
              1,
              "#f0f921"
             ]
            ],
            "type": "histogram2dcontour"
           }
          ],
          "mesh3d": [
           {
            "colorbar": {
             "outlinewidth": 0,
             "ticks": ""
            },
            "type": "mesh3d"
           }
          ],
          "parcoords": [
           {
            "line": {
             "colorbar": {
              "outlinewidth": 0,
              "ticks": ""
             }
            },
            "type": "parcoords"
           }
          ],
          "pie": [
           {
            "automargin": true,
            "type": "pie"
           }
          ],
          "scatter": [
           {
            "marker": {
             "colorbar": {
              "outlinewidth": 0,
              "ticks": ""
             }
            },
            "type": "scatter"
           }
          ],
          "scatter3d": [
           {
            "line": {
             "colorbar": {
              "outlinewidth": 0,
              "ticks": ""
             }
            },
            "marker": {
             "colorbar": {
              "outlinewidth": 0,
              "ticks": ""
             }
            },
            "type": "scatter3d"
           }
          ],
          "scattercarpet": [
           {
            "marker": {
             "colorbar": {
              "outlinewidth": 0,
              "ticks": ""
             }
            },
            "type": "scattercarpet"
           }
          ],
          "scattergeo": [
           {
            "marker": {
             "colorbar": {
              "outlinewidth": 0,
              "ticks": ""
             }
            },
            "type": "scattergeo"
           }
          ],
          "scattergl": [
           {
            "marker": {
             "colorbar": {
              "outlinewidth": 0,
              "ticks": ""
             }
            },
            "type": "scattergl"
           }
          ],
          "scattermapbox": [
           {
            "marker": {
             "colorbar": {
              "outlinewidth": 0,
              "ticks": ""
             }
            },
            "type": "scattermapbox"
           }
          ],
          "scatterpolar": [
           {
            "marker": {
             "colorbar": {
              "outlinewidth": 0,
              "ticks": ""
             }
            },
            "type": "scatterpolar"
           }
          ],
          "scatterpolargl": [
           {
            "marker": {
             "colorbar": {
              "outlinewidth": 0,
              "ticks": ""
             }
            },
            "type": "scatterpolargl"
           }
          ],
          "scatterternary": [
           {
            "marker": {
             "colorbar": {
              "outlinewidth": 0,
              "ticks": ""
             }
            },
            "type": "scatterternary"
           }
          ],
          "surface": [
           {
            "colorbar": {
             "outlinewidth": 0,
             "ticks": ""
            },
            "colorscale": [
             [
              0,
              "#0d0887"
             ],
             [
              0.1111111111111111,
              "#46039f"
             ],
             [
              0.2222222222222222,
              "#7201a8"
             ],
             [
              0.3333333333333333,
              "#9c179e"
             ],
             [
              0.4444444444444444,
              "#bd3786"
             ],
             [
              0.5555555555555556,
              "#d8576b"
             ],
             [
              0.6666666666666666,
              "#ed7953"
             ],
             [
              0.7777777777777778,
              "#fb9f3a"
             ],
             [
              0.8888888888888888,
              "#fdca26"
             ],
             [
              1,
              "#f0f921"
             ]
            ],
            "type": "surface"
           }
          ],
          "table": [
           {
            "cells": {
             "fill": {
              "color": "#EBF0F8"
             },
             "line": {
              "color": "white"
             }
            },
            "header": {
             "fill": {
              "color": "#C8D4E3"
             },
             "line": {
              "color": "white"
             }
            },
            "type": "table"
           }
          ]
         },
         "layout": {
          "annotationdefaults": {
           "arrowcolor": "#2a3f5f",
           "arrowhead": 0,
           "arrowwidth": 1
          },
          "autotypenumbers": "strict",
          "coloraxis": {
           "colorbar": {
            "outlinewidth": 0,
            "ticks": ""
           }
          },
          "colorscale": {
           "diverging": [
            [
             0,
             "#8e0152"
            ],
            [
             0.1,
             "#c51b7d"
            ],
            [
             0.2,
             "#de77ae"
            ],
            [
             0.3,
             "#f1b6da"
            ],
            [
             0.4,
             "#fde0ef"
            ],
            [
             0.5,
             "#f7f7f7"
            ],
            [
             0.6,
             "#e6f5d0"
            ],
            [
             0.7,
             "#b8e186"
            ],
            [
             0.8,
             "#7fbc41"
            ],
            [
             0.9,
             "#4d9221"
            ],
            [
             1,
             "#276419"
            ]
           ],
           "sequential": [
            [
             0,
             "#0d0887"
            ],
            [
             0.1111111111111111,
             "#46039f"
            ],
            [
             0.2222222222222222,
             "#7201a8"
            ],
            [
             0.3333333333333333,
             "#9c179e"
            ],
            [
             0.4444444444444444,
             "#bd3786"
            ],
            [
             0.5555555555555556,
             "#d8576b"
            ],
            [
             0.6666666666666666,
             "#ed7953"
            ],
            [
             0.7777777777777778,
             "#fb9f3a"
            ],
            [
             0.8888888888888888,
             "#fdca26"
            ],
            [
             1,
             "#f0f921"
            ]
           ],
           "sequentialminus": [
            [
             0,
             "#0d0887"
            ],
            [
             0.1111111111111111,
             "#46039f"
            ],
            [
             0.2222222222222222,
             "#7201a8"
            ],
            [
             0.3333333333333333,
             "#9c179e"
            ],
            [
             0.4444444444444444,
             "#bd3786"
            ],
            [
             0.5555555555555556,
             "#d8576b"
            ],
            [
             0.6666666666666666,
             "#ed7953"
            ],
            [
             0.7777777777777778,
             "#fb9f3a"
            ],
            [
             0.8888888888888888,
             "#fdca26"
            ],
            [
             1,
             "#f0f921"
            ]
           ]
          },
          "colorway": [
           "#636efa",
           "#EF553B",
           "#00cc96",
           "#ab63fa",
           "#FFA15A",
           "#19d3f3",
           "#FF6692",
           "#B6E880",
           "#FF97FF",
           "#FECB52"
          ],
          "font": {
           "color": "#2a3f5f"
          },
          "geo": {
           "bgcolor": "white",
           "lakecolor": "white",
           "landcolor": "#E5ECF6",
           "showlakes": true,
           "showland": true,
           "subunitcolor": "white"
          },
          "hoverlabel": {
           "align": "left"
          },
          "hovermode": "closest",
          "mapbox": {
           "style": "light"
          },
          "paper_bgcolor": "white",
          "plot_bgcolor": "#E5ECF6",
          "polar": {
           "angularaxis": {
            "gridcolor": "white",
            "linecolor": "white",
            "ticks": ""
           },
           "bgcolor": "#E5ECF6",
           "radialaxis": {
            "gridcolor": "white",
            "linecolor": "white",
            "ticks": ""
           }
          },
          "scene": {
           "xaxis": {
            "backgroundcolor": "#E5ECF6",
            "gridcolor": "white",
            "gridwidth": 2,
            "linecolor": "white",
            "showbackground": true,
            "ticks": "",
            "zerolinecolor": "white"
           },
           "yaxis": {
            "backgroundcolor": "#E5ECF6",
            "gridcolor": "white",
            "gridwidth": 2,
            "linecolor": "white",
            "showbackground": true,
            "ticks": "",
            "zerolinecolor": "white"
           },
           "zaxis": {
            "backgroundcolor": "#E5ECF6",
            "gridcolor": "white",
            "gridwidth": 2,
            "linecolor": "white",
            "showbackground": true,
            "ticks": "",
            "zerolinecolor": "white"
           }
          },
          "shapedefaults": {
           "line": {
            "color": "#2a3f5f"
           }
          },
          "ternary": {
           "aaxis": {
            "gridcolor": "white",
            "linecolor": "white",
            "ticks": ""
           },
           "baxis": {
            "gridcolor": "white",
            "linecolor": "white",
            "ticks": ""
           },
           "bgcolor": "#E5ECF6",
           "caxis": {
            "gridcolor": "white",
            "linecolor": "white",
            "ticks": ""
           }
          },
          "title": {
           "x": 0.05
          },
          "xaxis": {
           "automargin": true,
           "gridcolor": "white",
           "linecolor": "white",
           "ticks": "",
           "title": {
            "standoff": 15
           },
           "zerolinecolor": "white",
           "zerolinewidth": 2
          },
          "yaxis": {
           "automargin": true,
           "gridcolor": "white",
           "linecolor": "white",
           "ticks": "",
           "title": {
            "standoff": 15
           },
           "zerolinecolor": "white",
           "zerolinewidth": 2
          }
         }
        },
        "title": {
         "font": {
          "color": "#4D5663"
         }
        },
        "xaxis": {
         "gridcolor": "#E1E5ED",
         "showgrid": true,
         "tickfont": {
          "color": "#4D5663"
         },
         "title": {
          "font": {
           "color": "#4D5663"
          },
          "text": ""
         },
         "zerolinecolor": "#E1E5ED"
        },
        "yaxis": {
         "gridcolor": "#E1E5ED",
         "showgrid": true,
         "tickfont": {
          "color": "#4D5663"
         },
         "title": {
          "font": {
           "color": "#4D5663"
          },
          "text": ""
         },
         "zerolinecolor": "#E1E5ED"
        }
       }
      },
      "text/html": [
       "<div>                            <div id=\"43de0e7e-ef52-43ac-82b8-f62aaf97b010\" class=\"plotly-graph-div\" style=\"height:525px; width:100%;\"></div>            <script type=\"text/javascript\">                require([\"plotly\"], function(Plotly) {                    window.PLOTLYENV=window.PLOTLYENV || {};\n",
       "                    window.PLOTLYENV.BASE_URL='https://plot.ly';                                    if (document.getElementById(\"43de0e7e-ef52-43ac-82b8-f62aaf97b010\")) {                    Plotly.newPlot(                        \"43de0e7e-ef52-43ac-82b8-f62aaf97b010\",                        [{\"line\":{\"color\":\"rgba(255, 153, 51, 1.0)\",\"dash\":\"solid\",\"shape\":\"linear\",\"width\":1.3},\"marker\":{\"size\":12,\"symbol\":\"circle\"},\"mode\":\"markers\",\"name\":\"B\",\"text\":\"\",\"x\":[-0.4109093102308704,-0.6680817820818279,0.05775923832079972,-0.6514336458680554,0.1879160682510293,-1.5293464668323662,-0.7035269259572434,0.023874540007682573,-1.2420547200599625,-0.8913683621133949,-0.6031304983078408,-0.8971715581521588,-0.29873531501808204,-0.28277215845111825,-1.4601949181242078,1.163711752718257,-0.7985458453409878,0.08419460658711336,1.2072287151035508,1.9355081654923072,-0.6280104709091505,-0.11194954662160747,-0.46415689977609864,0.3291395359396691,0.14336269881245645,-0.7973487302419948,1.0136391070213626,0.3224826399220911,-0.5610315946764224,-1.6376822225509424,1.5133491313233511,0.6252725756740378,0.5218653597362931,0.2630145983301274,-0.6226571769603287,-0.47641810789885125,-0.7063513142606132,0.32684887117824307,0.25245635094777025,-0.8921088220372825,0.7720682190244831,0.7238641471940175,0.645126076541708,0.4224070507208162,0.3990528172515247,-0.19255958104133045,-0.16973807979033237,-1.0196829077704666,-0.3561857988413979,-0.7547498424893713,1.756962952184945,0.15851227706927512,-1.0982456629275492,0.6028423362735791,-1.2172834983904086,0.3151964776503683,-1.2224736248236194,-0.7734229575896733,0.15439661925788561,0.7886502050544204,-0.054443877521405636,-1.0636641048785411,-1.5786802485725135,0.24813035938868763,0.13326047954542491,0.07900652650890297,-1.943265097469249,0.709653153466894,-0.8004575677107629,-0.30651500422656586,-0.034793194861766734,1.1239760186483012,1.9534360839432174,0.5855191473663935,-0.259033322409612,-0.721568816715617,0.4048799040916817,0.11292732199272669,-1.1339821084354054,1.608866407723626,0.3501736145293892,-0.0486340739793143,-1.4939842393253115,0.33891543148322023,-0.14837108037915506,1.1431096103520344,1.2732128325788084,1.6707652434185216,-2.034802087108342,2.0454869644421496,1.928114298449317,0.2810486247432109,-0.4763850985641512,1.0107331745913726,0.7183992254469621,1.3199201637244298,0.19377943979431222,1.9858006393975318,1.7289541996275624,0.6000972414545752],\"y\":[0.10816164100433416,-0.3786534181130173,1.5976396520152203,0.1032715254968819,-1.0523808578431146,-1.3088111247109417,-0.33138160694857144,0.37586959252393326,-1.4329191920134556,-1.4057862776414278,-0.958400047246091,0.29084537770773083,0.9935937445178882,0.04105070648099821,0.5408640784206419,-0.9264630427696732,1.4446133920139053,0.7294940924538716,-0.4350365321345761,-0.1325933169696886,-1.014905041321066,0.7142426252203482,-0.12624792117550834,-0.20886899913259685,-0.046122503270438174,1.0930917336122041,-1.9021098919909627,2.1923805539824883,-0.35159360601604234,-0.7840171652005669,0.8013260813444979,1.6926231238423597,-1.8736638856094856,0.9707936279502669,-0.8946838001113273,0.33970862607059893,-0.5793816991296611,-0.0878888415438686,0.5123180202062559,-0.3354586266014048,-0.3056932331079285,1.3570012723760245,0.6501788955149052,-1.0229202856165147,0.6832670623300489,0.2169408672987547,-1.5775271330361818,-1.1246690529362395,0.3921142234135686,-0.06959219198977895,-0.019901343076002487,-0.9668266661131473,-0.21099683075611467,0.0016865579778136469,-1.0802687843471324,-1.380237864945273,-0.8039152050946438,0.6777652747804674,-1.7942162924799367,0.1874497630076612,0.21428526335199233,-1.6590885500531578,1.2292836165571877,-0.6313361485055891,0.20526898451701303,0.3019628958045808,1.2893815216553828,-1.8503476945459718,-1.1624137925900286,1.631894818283364,0.9137215970033604,0.42810273476173266,0.8383367822100516,0.03283408639287403,-0.6946136149052397,-0.08070742997934244,0.9486270898985858,-0.48974504059853097,0.7877660225946301,0.18205642024037574,-0.6270525171109232,-0.17486983897035135,-0.2569599069188726,0.4022673291283338,0.8893958001444761,0.7051969265018811,-0.2024575094870895,0.30361544203123086,-1.0690070760292605,0.4953857590622099,0.19672688600027186,-0.17632377424528928,-0.23475071514999798,0.997698475693314,-1.1669540486953198,-0.052800403148813194,0.1882279243514494,-0.7566964384387022,-0.5873806894237157,-1.0723913490493764],\"type\":\"scatter\"}],                        {\"legend\":{\"bgcolor\":\"#F5F6F9\",\"font\":{\"color\":\"#4D5663\"}},\"paper_bgcolor\":\"#F5F6F9\",\"plot_bgcolor\":\"#F5F6F9\",\"template\":{\"data\":{\"barpolar\":[{\"marker\":{\"line\":{\"color\":\"#E5ECF6\",\"width\":0.5},\"pattern\":{\"fillmode\":\"overlay\",\"size\":10,\"solidity\":0.2}},\"type\":\"barpolar\"}],\"bar\":[{\"error_x\":{\"color\":\"#2a3f5f\"},\"error_y\":{\"color\":\"#2a3f5f\"},\"marker\":{\"line\":{\"color\":\"#E5ECF6\",\"width\":0.5},\"pattern\":{\"fillmode\":\"overlay\",\"size\":10,\"solidity\":0.2}},\"type\":\"bar\"}],\"carpet\":[{\"aaxis\":{\"endlinecolor\":\"#2a3f5f\",\"gridcolor\":\"white\",\"linecolor\":\"white\",\"minorgridcolor\":\"white\",\"startlinecolor\":\"#2a3f5f\"},\"baxis\":{\"endlinecolor\":\"#2a3f5f\",\"gridcolor\":\"white\",\"linecolor\":\"white\",\"minorgridcolor\":\"white\",\"startlinecolor\":\"#2a3f5f\"},\"type\":\"carpet\"}],\"choropleth\":[{\"colorbar\":{\"outlinewidth\":0,\"ticks\":\"\"},\"type\":\"choropleth\"}],\"contourcarpet\":[{\"colorbar\":{\"outlinewidth\":0,\"ticks\":\"\"},\"type\":\"contourcarpet\"}],\"contour\":[{\"colorbar\":{\"outlinewidth\":0,\"ticks\":\"\"},\"colorscale\":[[0.0,\"#0d0887\"],[0.1111111111111111,\"#46039f\"],[0.2222222222222222,\"#7201a8\"],[0.3333333333333333,\"#9c179e\"],[0.4444444444444444,\"#bd3786\"],[0.5555555555555556,\"#d8576b\"],[0.6666666666666666,\"#ed7953\"],[0.7777777777777778,\"#fb9f3a\"],[0.8888888888888888,\"#fdca26\"],[1.0,\"#f0f921\"]],\"type\":\"contour\"}],\"heatmapgl\":[{\"colorbar\":{\"outlinewidth\":0,\"ticks\":\"\"},\"colorscale\":[[0.0,\"#0d0887\"],[0.1111111111111111,\"#46039f\"],[0.2222222222222222,\"#7201a8\"],[0.3333333333333333,\"#9c179e\"],[0.4444444444444444,\"#bd3786\"],[0.5555555555555556,\"#d8576b\"],[0.6666666666666666,\"#ed7953\"],[0.7777777777777778,\"#fb9f3a\"],[0.8888888888888888,\"#fdca26\"],[1.0,\"#f0f921\"]],\"type\":\"heatmapgl\"}],\"heatmap\":[{\"colorbar\":{\"outlinewidth\":0,\"ticks\":\"\"},\"colorscale\":[[0.0,\"#0d0887\"],[0.1111111111111111,\"#46039f\"],[0.2222222222222222,\"#7201a8\"],[0.3333333333333333,\"#9c179e\"],[0.4444444444444444,\"#bd3786\"],[0.5555555555555556,\"#d8576b\"],[0.6666666666666666,\"#ed7953\"],[0.7777777777777778,\"#fb9f3a\"],[0.8888888888888888,\"#fdca26\"],[1.0,\"#f0f921\"]],\"type\":\"heatmap\"}],\"histogram2dcontour\":[{\"colorbar\":{\"outlinewidth\":0,\"ticks\":\"\"},\"colorscale\":[[0.0,\"#0d0887\"],[0.1111111111111111,\"#46039f\"],[0.2222222222222222,\"#7201a8\"],[0.3333333333333333,\"#9c179e\"],[0.4444444444444444,\"#bd3786\"],[0.5555555555555556,\"#d8576b\"],[0.6666666666666666,\"#ed7953\"],[0.7777777777777778,\"#fb9f3a\"],[0.8888888888888888,\"#fdca26\"],[1.0,\"#f0f921\"]],\"type\":\"histogram2dcontour\"}],\"histogram2d\":[{\"colorbar\":{\"outlinewidth\":0,\"ticks\":\"\"},\"colorscale\":[[0.0,\"#0d0887\"],[0.1111111111111111,\"#46039f\"],[0.2222222222222222,\"#7201a8\"],[0.3333333333333333,\"#9c179e\"],[0.4444444444444444,\"#bd3786\"],[0.5555555555555556,\"#d8576b\"],[0.6666666666666666,\"#ed7953\"],[0.7777777777777778,\"#fb9f3a\"],[0.8888888888888888,\"#fdca26\"],[1.0,\"#f0f921\"]],\"type\":\"histogram2d\"}],\"histogram\":[{\"marker\":{\"pattern\":{\"fillmode\":\"overlay\",\"size\":10,\"solidity\":0.2}},\"type\":\"histogram\"}],\"mesh3d\":[{\"colorbar\":{\"outlinewidth\":0,\"ticks\":\"\"},\"type\":\"mesh3d\"}],\"parcoords\":[{\"line\":{\"colorbar\":{\"outlinewidth\":0,\"ticks\":\"\"}},\"type\":\"parcoords\"}],\"pie\":[{\"automargin\":true,\"type\":\"pie\"}],\"scatter3d\":[{\"line\":{\"colorbar\":{\"outlinewidth\":0,\"ticks\":\"\"}},\"marker\":{\"colorbar\":{\"outlinewidth\":0,\"ticks\":\"\"}},\"type\":\"scatter3d\"}],\"scattercarpet\":[{\"marker\":{\"colorbar\":{\"outlinewidth\":0,\"ticks\":\"\"}},\"type\":\"scattercarpet\"}],\"scattergeo\":[{\"marker\":{\"colorbar\":{\"outlinewidth\":0,\"ticks\":\"\"}},\"type\":\"scattergeo\"}],\"scattergl\":[{\"marker\":{\"colorbar\":{\"outlinewidth\":0,\"ticks\":\"\"}},\"type\":\"scattergl\"}],\"scattermapbox\":[{\"marker\":{\"colorbar\":{\"outlinewidth\":0,\"ticks\":\"\"}},\"type\":\"scattermapbox\"}],\"scatterpolargl\":[{\"marker\":{\"colorbar\":{\"outlinewidth\":0,\"ticks\":\"\"}},\"type\":\"scatterpolargl\"}],\"scatterpolar\":[{\"marker\":{\"colorbar\":{\"outlinewidth\":0,\"ticks\":\"\"}},\"type\":\"scatterpolar\"}],\"scatter\":[{\"marker\":{\"colorbar\":{\"outlinewidth\":0,\"ticks\":\"\"}},\"type\":\"scatter\"}],\"scatterternary\":[{\"marker\":{\"colorbar\":{\"outlinewidth\":0,\"ticks\":\"\"}},\"type\":\"scatterternary\"}],\"surface\":[{\"colorbar\":{\"outlinewidth\":0,\"ticks\":\"\"},\"colorscale\":[[0.0,\"#0d0887\"],[0.1111111111111111,\"#46039f\"],[0.2222222222222222,\"#7201a8\"],[0.3333333333333333,\"#9c179e\"],[0.4444444444444444,\"#bd3786\"],[0.5555555555555556,\"#d8576b\"],[0.6666666666666666,\"#ed7953\"],[0.7777777777777778,\"#fb9f3a\"],[0.8888888888888888,\"#fdca26\"],[1.0,\"#f0f921\"]],\"type\":\"surface\"}],\"table\":[{\"cells\":{\"fill\":{\"color\":\"#EBF0F8\"},\"line\":{\"color\":\"white\"}},\"header\":{\"fill\":{\"color\":\"#C8D4E3\"},\"line\":{\"color\":\"white\"}},\"type\":\"table\"}]},\"layout\":{\"annotationdefaults\":{\"arrowcolor\":\"#2a3f5f\",\"arrowhead\":0,\"arrowwidth\":1},\"autotypenumbers\":\"strict\",\"coloraxis\":{\"colorbar\":{\"outlinewidth\":0,\"ticks\":\"\"}},\"colorscale\":{\"diverging\":[[0,\"#8e0152\"],[0.1,\"#c51b7d\"],[0.2,\"#de77ae\"],[0.3,\"#f1b6da\"],[0.4,\"#fde0ef\"],[0.5,\"#f7f7f7\"],[0.6,\"#e6f5d0\"],[0.7,\"#b8e186\"],[0.8,\"#7fbc41\"],[0.9,\"#4d9221\"],[1,\"#276419\"]],\"sequential\":[[0.0,\"#0d0887\"],[0.1111111111111111,\"#46039f\"],[0.2222222222222222,\"#7201a8\"],[0.3333333333333333,\"#9c179e\"],[0.4444444444444444,\"#bd3786\"],[0.5555555555555556,\"#d8576b\"],[0.6666666666666666,\"#ed7953\"],[0.7777777777777778,\"#fb9f3a\"],[0.8888888888888888,\"#fdca26\"],[1.0,\"#f0f921\"]],\"sequentialminus\":[[0.0,\"#0d0887\"],[0.1111111111111111,\"#46039f\"],[0.2222222222222222,\"#7201a8\"],[0.3333333333333333,\"#9c179e\"],[0.4444444444444444,\"#bd3786\"],[0.5555555555555556,\"#d8576b\"],[0.6666666666666666,\"#ed7953\"],[0.7777777777777778,\"#fb9f3a\"],[0.8888888888888888,\"#fdca26\"],[1.0,\"#f0f921\"]]},\"colorway\":[\"#636efa\",\"#EF553B\",\"#00cc96\",\"#ab63fa\",\"#FFA15A\",\"#19d3f3\",\"#FF6692\",\"#B6E880\",\"#FF97FF\",\"#FECB52\"],\"font\":{\"color\":\"#2a3f5f\"},\"geo\":{\"bgcolor\":\"white\",\"lakecolor\":\"white\",\"landcolor\":\"#E5ECF6\",\"showlakes\":true,\"showland\":true,\"subunitcolor\":\"white\"},\"hoverlabel\":{\"align\":\"left\"},\"hovermode\":\"closest\",\"mapbox\":{\"style\":\"light\"},\"paper_bgcolor\":\"white\",\"plot_bgcolor\":\"#E5ECF6\",\"polar\":{\"angularaxis\":{\"gridcolor\":\"white\",\"linecolor\":\"white\",\"ticks\":\"\"},\"bgcolor\":\"#E5ECF6\",\"radialaxis\":{\"gridcolor\":\"white\",\"linecolor\":\"white\",\"ticks\":\"\"}},\"scene\":{\"xaxis\":{\"backgroundcolor\":\"#E5ECF6\",\"gridcolor\":\"white\",\"gridwidth\":2,\"linecolor\":\"white\",\"showbackground\":true,\"ticks\":\"\",\"zerolinecolor\":\"white\"},\"yaxis\":{\"backgroundcolor\":\"#E5ECF6\",\"gridcolor\":\"white\",\"gridwidth\":2,\"linecolor\":\"white\",\"showbackground\":true,\"ticks\":\"\",\"zerolinecolor\":\"white\"},\"zaxis\":{\"backgroundcolor\":\"#E5ECF6\",\"gridcolor\":\"white\",\"gridwidth\":2,\"linecolor\":\"white\",\"showbackground\":true,\"ticks\":\"\",\"zerolinecolor\":\"white\"}},\"shapedefaults\":{\"line\":{\"color\":\"#2a3f5f\"}},\"ternary\":{\"aaxis\":{\"gridcolor\":\"white\",\"linecolor\":\"white\",\"ticks\":\"\"},\"baxis\":{\"gridcolor\":\"white\",\"linecolor\":\"white\",\"ticks\":\"\"},\"bgcolor\":\"#E5ECF6\",\"caxis\":{\"gridcolor\":\"white\",\"linecolor\":\"white\",\"ticks\":\"\"}},\"title\":{\"x\":0.05},\"xaxis\":{\"automargin\":true,\"gridcolor\":\"white\",\"linecolor\":\"white\",\"ticks\":\"\",\"title\":{\"standoff\":15},\"zerolinecolor\":\"white\",\"zerolinewidth\":2},\"yaxis\":{\"automargin\":true,\"gridcolor\":\"white\",\"linecolor\":\"white\",\"ticks\":\"\",\"title\":{\"standoff\":15},\"zerolinecolor\":\"white\",\"zerolinewidth\":2}}},\"title\":{\"font\":{\"color\":\"#4D5663\"}},\"xaxis\":{\"gridcolor\":\"#E1E5ED\",\"showgrid\":true,\"tickfont\":{\"color\":\"#4D5663\"},\"title\":{\"font\":{\"color\":\"#4D5663\"},\"text\":\"\"},\"zerolinecolor\":\"#E1E5ED\"},\"yaxis\":{\"gridcolor\":\"#E1E5ED\",\"showgrid\":true,\"tickfont\":{\"color\":\"#4D5663\"},\"title\":{\"font\":{\"color\":\"#4D5663\"},\"text\":\"\"},\"zerolinecolor\":\"#E1E5ED\"}},                        {\"showLink\": true, \"linkText\": \"Export to plot.ly\", \"plotlyServerURL\": \"https://plot.ly\", \"responsive\": true}                    ).then(function(){\n",
       "                            \n",
       "var gd = document.getElementById('43de0e7e-ef52-43ac-82b8-f62aaf97b010');\n",
       "var x = new MutationObserver(function (mutations, observer) {{\n",
       "        var display = window.getComputedStyle(gd).display;\n",
       "        if (!display || display === 'none') {{\n",
       "            console.log([gd, 'removed!']);\n",
       "            Plotly.purge(gd);\n",
       "            observer.disconnect();\n",
       "        }}\n",
       "}});\n",
       "\n",
       "// Listen for the removal of the full notebook cells\n",
       "var notebookContainer = gd.closest('#notebook-container');\n",
       "if (notebookContainer) {{\n",
       "    x.observe(notebookContainer, {childList: true});\n",
       "}}\n",
       "\n",
       "// Listen for the clearing of the current output cell\n",
       "var outputEl = gd.closest('.output');\n",
       "if (outputEl) {{\n",
       "    x.observe(outputEl, {childList: true});\n",
       "}}\n",
       "\n",
       "                        })                };                });            </script>        </div>"
      ]
     },
     "metadata": {},
     "output_type": "display_data"
    }
   ],
   "source": [
    "df.iplot(kind='scatter',x='A',y='B',mode='markers')"
   ]
  },
  {
   "cell_type": "code",
   "execution_count": 28,
   "id": "5583d472",
   "metadata": {},
   "outputs": [
    {
     "data": {
      "application/vnd.plotly.v1+json": {
       "config": {
        "linkText": "Export to plot.ly",
        "plotlyServerURL": "https://plot.ly",
        "showLink": true
       },
       "data": [
        {
         "line": {
          "color": "rgba(255, 153, 51, 1.0)",
          "dash": "solid",
          "shape": "linear",
          "width": 1.3
         },
         "marker": {
          "size": 20,
          "symbol": "circle"
         },
         "mode": "markers",
         "name": "B",
         "text": "",
         "type": "scatter",
         "x": [
          -0.4109093102308704,
          -0.6680817820818279,
          0.05775923832079972,
          -0.6514336458680554,
          0.1879160682510293,
          -1.5293464668323662,
          -0.7035269259572434,
          0.023874540007682573,
          -1.2420547200599625,
          -0.8913683621133949,
          -0.6031304983078408,
          -0.8971715581521588,
          -0.29873531501808204,
          -0.28277215845111825,
          -1.4601949181242078,
          1.163711752718257,
          -0.7985458453409878,
          0.08419460658711336,
          1.2072287151035508,
          1.9355081654923072,
          -0.6280104709091505,
          -0.11194954662160747,
          -0.46415689977609864,
          0.3291395359396691,
          0.14336269881245645,
          -0.7973487302419948,
          1.0136391070213626,
          0.3224826399220911,
          -0.5610315946764224,
          -1.6376822225509424,
          1.5133491313233511,
          0.6252725756740378,
          0.5218653597362931,
          0.2630145983301274,
          -0.6226571769603287,
          -0.47641810789885125,
          -0.7063513142606132,
          0.32684887117824307,
          0.25245635094777025,
          -0.8921088220372825,
          0.7720682190244831,
          0.7238641471940175,
          0.645126076541708,
          0.4224070507208162,
          0.3990528172515247,
          -0.19255958104133045,
          -0.16973807979033237,
          -1.0196829077704666,
          -0.3561857988413979,
          -0.7547498424893713,
          1.756962952184945,
          0.15851227706927512,
          -1.0982456629275492,
          0.6028423362735791,
          -1.2172834983904086,
          0.3151964776503683,
          -1.2224736248236194,
          -0.7734229575896733,
          0.15439661925788561,
          0.7886502050544204,
          -0.054443877521405636,
          -1.0636641048785411,
          -1.5786802485725135,
          0.24813035938868763,
          0.13326047954542491,
          0.07900652650890297,
          -1.943265097469249,
          0.709653153466894,
          -0.8004575677107629,
          -0.30651500422656586,
          -0.034793194861766734,
          1.1239760186483012,
          1.9534360839432174,
          0.5855191473663935,
          -0.259033322409612,
          -0.721568816715617,
          0.4048799040916817,
          0.11292732199272669,
          -1.1339821084354054,
          1.608866407723626,
          0.3501736145293892,
          -0.0486340739793143,
          -1.4939842393253115,
          0.33891543148322023,
          -0.14837108037915506,
          1.1431096103520344,
          1.2732128325788084,
          1.6707652434185216,
          -2.034802087108342,
          2.0454869644421496,
          1.928114298449317,
          0.2810486247432109,
          -0.4763850985641512,
          1.0107331745913726,
          0.7183992254469621,
          1.3199201637244298,
          0.19377943979431222,
          1.9858006393975318,
          1.7289541996275624,
          0.6000972414545752
         ],
         "y": [
          0.10816164100433416,
          -0.3786534181130173,
          1.5976396520152203,
          0.1032715254968819,
          -1.0523808578431146,
          -1.3088111247109417,
          -0.33138160694857144,
          0.37586959252393326,
          -1.4329191920134556,
          -1.4057862776414278,
          -0.958400047246091,
          0.29084537770773083,
          0.9935937445178882,
          0.04105070648099821,
          0.5408640784206419,
          -0.9264630427696732,
          1.4446133920139053,
          0.7294940924538716,
          -0.4350365321345761,
          -0.1325933169696886,
          -1.014905041321066,
          0.7142426252203482,
          -0.12624792117550834,
          -0.20886899913259685,
          -0.046122503270438174,
          1.0930917336122041,
          -1.9021098919909627,
          2.1923805539824883,
          -0.35159360601604234,
          -0.7840171652005669,
          0.8013260813444979,
          1.6926231238423597,
          -1.8736638856094856,
          0.9707936279502669,
          -0.8946838001113273,
          0.33970862607059893,
          -0.5793816991296611,
          -0.0878888415438686,
          0.5123180202062559,
          -0.3354586266014048,
          -0.3056932331079285,
          1.3570012723760245,
          0.6501788955149052,
          -1.0229202856165147,
          0.6832670623300489,
          0.2169408672987547,
          -1.5775271330361818,
          -1.1246690529362395,
          0.3921142234135686,
          -0.06959219198977895,
          -0.019901343076002487,
          -0.9668266661131473,
          -0.21099683075611467,
          0.0016865579778136469,
          -1.0802687843471324,
          -1.380237864945273,
          -0.8039152050946438,
          0.6777652747804674,
          -1.7942162924799367,
          0.1874497630076612,
          0.21428526335199233,
          -1.6590885500531578,
          1.2292836165571877,
          -0.6313361485055891,
          0.20526898451701303,
          0.3019628958045808,
          1.2893815216553828,
          -1.8503476945459718,
          -1.1624137925900286,
          1.631894818283364,
          0.9137215970033604,
          0.42810273476173266,
          0.8383367822100516,
          0.03283408639287403,
          -0.6946136149052397,
          -0.08070742997934244,
          0.9486270898985858,
          -0.48974504059853097,
          0.7877660225946301,
          0.18205642024037574,
          -0.6270525171109232,
          -0.17486983897035135,
          -0.2569599069188726,
          0.4022673291283338,
          0.8893958001444761,
          0.7051969265018811,
          -0.2024575094870895,
          0.30361544203123086,
          -1.0690070760292605,
          0.4953857590622099,
          0.19672688600027186,
          -0.17632377424528928,
          -0.23475071514999798,
          0.997698475693314,
          -1.1669540486953198,
          -0.052800403148813194,
          0.1882279243514494,
          -0.7566964384387022,
          -0.5873806894237157,
          -1.0723913490493764
         ]
        }
       ],
       "layout": {
        "legend": {
         "bgcolor": "#F5F6F9",
         "font": {
          "color": "#4D5663"
         }
        },
        "paper_bgcolor": "#F5F6F9",
        "plot_bgcolor": "#F5F6F9",
        "template": {
         "data": {
          "bar": [
           {
            "error_x": {
             "color": "#2a3f5f"
            },
            "error_y": {
             "color": "#2a3f5f"
            },
            "marker": {
             "line": {
              "color": "#E5ECF6",
              "width": 0.5
             },
             "pattern": {
              "fillmode": "overlay",
              "size": 10,
              "solidity": 0.2
             }
            },
            "type": "bar"
           }
          ],
          "barpolar": [
           {
            "marker": {
             "line": {
              "color": "#E5ECF6",
              "width": 0.5
             },
             "pattern": {
              "fillmode": "overlay",
              "size": 10,
              "solidity": 0.2
             }
            },
            "type": "barpolar"
           }
          ],
          "carpet": [
           {
            "aaxis": {
             "endlinecolor": "#2a3f5f",
             "gridcolor": "white",
             "linecolor": "white",
             "minorgridcolor": "white",
             "startlinecolor": "#2a3f5f"
            },
            "baxis": {
             "endlinecolor": "#2a3f5f",
             "gridcolor": "white",
             "linecolor": "white",
             "minorgridcolor": "white",
             "startlinecolor": "#2a3f5f"
            },
            "type": "carpet"
           }
          ],
          "choropleth": [
           {
            "colorbar": {
             "outlinewidth": 0,
             "ticks": ""
            },
            "type": "choropleth"
           }
          ],
          "contour": [
           {
            "colorbar": {
             "outlinewidth": 0,
             "ticks": ""
            },
            "colorscale": [
             [
              0,
              "#0d0887"
             ],
             [
              0.1111111111111111,
              "#46039f"
             ],
             [
              0.2222222222222222,
              "#7201a8"
             ],
             [
              0.3333333333333333,
              "#9c179e"
             ],
             [
              0.4444444444444444,
              "#bd3786"
             ],
             [
              0.5555555555555556,
              "#d8576b"
             ],
             [
              0.6666666666666666,
              "#ed7953"
             ],
             [
              0.7777777777777778,
              "#fb9f3a"
             ],
             [
              0.8888888888888888,
              "#fdca26"
             ],
             [
              1,
              "#f0f921"
             ]
            ],
            "type": "contour"
           }
          ],
          "contourcarpet": [
           {
            "colorbar": {
             "outlinewidth": 0,
             "ticks": ""
            },
            "type": "contourcarpet"
           }
          ],
          "heatmap": [
           {
            "colorbar": {
             "outlinewidth": 0,
             "ticks": ""
            },
            "colorscale": [
             [
              0,
              "#0d0887"
             ],
             [
              0.1111111111111111,
              "#46039f"
             ],
             [
              0.2222222222222222,
              "#7201a8"
             ],
             [
              0.3333333333333333,
              "#9c179e"
             ],
             [
              0.4444444444444444,
              "#bd3786"
             ],
             [
              0.5555555555555556,
              "#d8576b"
             ],
             [
              0.6666666666666666,
              "#ed7953"
             ],
             [
              0.7777777777777778,
              "#fb9f3a"
             ],
             [
              0.8888888888888888,
              "#fdca26"
             ],
             [
              1,
              "#f0f921"
             ]
            ],
            "type": "heatmap"
           }
          ],
          "heatmapgl": [
           {
            "colorbar": {
             "outlinewidth": 0,
             "ticks": ""
            },
            "colorscale": [
             [
              0,
              "#0d0887"
             ],
             [
              0.1111111111111111,
              "#46039f"
             ],
             [
              0.2222222222222222,
              "#7201a8"
             ],
             [
              0.3333333333333333,
              "#9c179e"
             ],
             [
              0.4444444444444444,
              "#bd3786"
             ],
             [
              0.5555555555555556,
              "#d8576b"
             ],
             [
              0.6666666666666666,
              "#ed7953"
             ],
             [
              0.7777777777777778,
              "#fb9f3a"
             ],
             [
              0.8888888888888888,
              "#fdca26"
             ],
             [
              1,
              "#f0f921"
             ]
            ],
            "type": "heatmapgl"
           }
          ],
          "histogram": [
           {
            "marker": {
             "pattern": {
              "fillmode": "overlay",
              "size": 10,
              "solidity": 0.2
             }
            },
            "type": "histogram"
           }
          ],
          "histogram2d": [
           {
            "colorbar": {
             "outlinewidth": 0,
             "ticks": ""
            },
            "colorscale": [
             [
              0,
              "#0d0887"
             ],
             [
              0.1111111111111111,
              "#46039f"
             ],
             [
              0.2222222222222222,
              "#7201a8"
             ],
             [
              0.3333333333333333,
              "#9c179e"
             ],
             [
              0.4444444444444444,
              "#bd3786"
             ],
             [
              0.5555555555555556,
              "#d8576b"
             ],
             [
              0.6666666666666666,
              "#ed7953"
             ],
             [
              0.7777777777777778,
              "#fb9f3a"
             ],
             [
              0.8888888888888888,
              "#fdca26"
             ],
             [
              1,
              "#f0f921"
             ]
            ],
            "type": "histogram2d"
           }
          ],
          "histogram2dcontour": [
           {
            "colorbar": {
             "outlinewidth": 0,
             "ticks": ""
            },
            "colorscale": [
             [
              0,
              "#0d0887"
             ],
             [
              0.1111111111111111,
              "#46039f"
             ],
             [
              0.2222222222222222,
              "#7201a8"
             ],
             [
              0.3333333333333333,
              "#9c179e"
             ],
             [
              0.4444444444444444,
              "#bd3786"
             ],
             [
              0.5555555555555556,
              "#d8576b"
             ],
             [
              0.6666666666666666,
              "#ed7953"
             ],
             [
              0.7777777777777778,
              "#fb9f3a"
             ],
             [
              0.8888888888888888,
              "#fdca26"
             ],
             [
              1,
              "#f0f921"
             ]
            ],
            "type": "histogram2dcontour"
           }
          ],
          "mesh3d": [
           {
            "colorbar": {
             "outlinewidth": 0,
             "ticks": ""
            },
            "type": "mesh3d"
           }
          ],
          "parcoords": [
           {
            "line": {
             "colorbar": {
              "outlinewidth": 0,
              "ticks": ""
             }
            },
            "type": "parcoords"
           }
          ],
          "pie": [
           {
            "automargin": true,
            "type": "pie"
           }
          ],
          "scatter": [
           {
            "marker": {
             "colorbar": {
              "outlinewidth": 0,
              "ticks": ""
             }
            },
            "type": "scatter"
           }
          ],
          "scatter3d": [
           {
            "line": {
             "colorbar": {
              "outlinewidth": 0,
              "ticks": ""
             }
            },
            "marker": {
             "colorbar": {
              "outlinewidth": 0,
              "ticks": ""
             }
            },
            "type": "scatter3d"
           }
          ],
          "scattercarpet": [
           {
            "marker": {
             "colorbar": {
              "outlinewidth": 0,
              "ticks": ""
             }
            },
            "type": "scattercarpet"
           }
          ],
          "scattergeo": [
           {
            "marker": {
             "colorbar": {
              "outlinewidth": 0,
              "ticks": ""
             }
            },
            "type": "scattergeo"
           }
          ],
          "scattergl": [
           {
            "marker": {
             "colorbar": {
              "outlinewidth": 0,
              "ticks": ""
             }
            },
            "type": "scattergl"
           }
          ],
          "scattermapbox": [
           {
            "marker": {
             "colorbar": {
              "outlinewidth": 0,
              "ticks": ""
             }
            },
            "type": "scattermapbox"
           }
          ],
          "scatterpolar": [
           {
            "marker": {
             "colorbar": {
              "outlinewidth": 0,
              "ticks": ""
             }
            },
            "type": "scatterpolar"
           }
          ],
          "scatterpolargl": [
           {
            "marker": {
             "colorbar": {
              "outlinewidth": 0,
              "ticks": ""
             }
            },
            "type": "scatterpolargl"
           }
          ],
          "scatterternary": [
           {
            "marker": {
             "colorbar": {
              "outlinewidth": 0,
              "ticks": ""
             }
            },
            "type": "scatterternary"
           }
          ],
          "surface": [
           {
            "colorbar": {
             "outlinewidth": 0,
             "ticks": ""
            },
            "colorscale": [
             [
              0,
              "#0d0887"
             ],
             [
              0.1111111111111111,
              "#46039f"
             ],
             [
              0.2222222222222222,
              "#7201a8"
             ],
             [
              0.3333333333333333,
              "#9c179e"
             ],
             [
              0.4444444444444444,
              "#bd3786"
             ],
             [
              0.5555555555555556,
              "#d8576b"
             ],
             [
              0.6666666666666666,
              "#ed7953"
             ],
             [
              0.7777777777777778,
              "#fb9f3a"
             ],
             [
              0.8888888888888888,
              "#fdca26"
             ],
             [
              1,
              "#f0f921"
             ]
            ],
            "type": "surface"
           }
          ],
          "table": [
           {
            "cells": {
             "fill": {
              "color": "#EBF0F8"
             },
             "line": {
              "color": "white"
             }
            },
            "header": {
             "fill": {
              "color": "#C8D4E3"
             },
             "line": {
              "color": "white"
             }
            },
            "type": "table"
           }
          ]
         },
         "layout": {
          "annotationdefaults": {
           "arrowcolor": "#2a3f5f",
           "arrowhead": 0,
           "arrowwidth": 1
          },
          "autotypenumbers": "strict",
          "coloraxis": {
           "colorbar": {
            "outlinewidth": 0,
            "ticks": ""
           }
          },
          "colorscale": {
           "diverging": [
            [
             0,
             "#8e0152"
            ],
            [
             0.1,
             "#c51b7d"
            ],
            [
             0.2,
             "#de77ae"
            ],
            [
             0.3,
             "#f1b6da"
            ],
            [
             0.4,
             "#fde0ef"
            ],
            [
             0.5,
             "#f7f7f7"
            ],
            [
             0.6,
             "#e6f5d0"
            ],
            [
             0.7,
             "#b8e186"
            ],
            [
             0.8,
             "#7fbc41"
            ],
            [
             0.9,
             "#4d9221"
            ],
            [
             1,
             "#276419"
            ]
           ],
           "sequential": [
            [
             0,
             "#0d0887"
            ],
            [
             0.1111111111111111,
             "#46039f"
            ],
            [
             0.2222222222222222,
             "#7201a8"
            ],
            [
             0.3333333333333333,
             "#9c179e"
            ],
            [
             0.4444444444444444,
             "#bd3786"
            ],
            [
             0.5555555555555556,
             "#d8576b"
            ],
            [
             0.6666666666666666,
             "#ed7953"
            ],
            [
             0.7777777777777778,
             "#fb9f3a"
            ],
            [
             0.8888888888888888,
             "#fdca26"
            ],
            [
             1,
             "#f0f921"
            ]
           ],
           "sequentialminus": [
            [
             0,
             "#0d0887"
            ],
            [
             0.1111111111111111,
             "#46039f"
            ],
            [
             0.2222222222222222,
             "#7201a8"
            ],
            [
             0.3333333333333333,
             "#9c179e"
            ],
            [
             0.4444444444444444,
             "#bd3786"
            ],
            [
             0.5555555555555556,
             "#d8576b"
            ],
            [
             0.6666666666666666,
             "#ed7953"
            ],
            [
             0.7777777777777778,
             "#fb9f3a"
            ],
            [
             0.8888888888888888,
             "#fdca26"
            ],
            [
             1,
             "#f0f921"
            ]
           ]
          },
          "colorway": [
           "#636efa",
           "#EF553B",
           "#00cc96",
           "#ab63fa",
           "#FFA15A",
           "#19d3f3",
           "#FF6692",
           "#B6E880",
           "#FF97FF",
           "#FECB52"
          ],
          "font": {
           "color": "#2a3f5f"
          },
          "geo": {
           "bgcolor": "white",
           "lakecolor": "white",
           "landcolor": "#E5ECF6",
           "showlakes": true,
           "showland": true,
           "subunitcolor": "white"
          },
          "hoverlabel": {
           "align": "left"
          },
          "hovermode": "closest",
          "mapbox": {
           "style": "light"
          },
          "paper_bgcolor": "white",
          "plot_bgcolor": "#E5ECF6",
          "polar": {
           "angularaxis": {
            "gridcolor": "white",
            "linecolor": "white",
            "ticks": ""
           },
           "bgcolor": "#E5ECF6",
           "radialaxis": {
            "gridcolor": "white",
            "linecolor": "white",
            "ticks": ""
           }
          },
          "scene": {
           "xaxis": {
            "backgroundcolor": "#E5ECF6",
            "gridcolor": "white",
            "gridwidth": 2,
            "linecolor": "white",
            "showbackground": true,
            "ticks": "",
            "zerolinecolor": "white"
           },
           "yaxis": {
            "backgroundcolor": "#E5ECF6",
            "gridcolor": "white",
            "gridwidth": 2,
            "linecolor": "white",
            "showbackground": true,
            "ticks": "",
            "zerolinecolor": "white"
           },
           "zaxis": {
            "backgroundcolor": "#E5ECF6",
            "gridcolor": "white",
            "gridwidth": 2,
            "linecolor": "white",
            "showbackground": true,
            "ticks": "",
            "zerolinecolor": "white"
           }
          },
          "shapedefaults": {
           "line": {
            "color": "#2a3f5f"
           }
          },
          "ternary": {
           "aaxis": {
            "gridcolor": "white",
            "linecolor": "white",
            "ticks": ""
           },
           "baxis": {
            "gridcolor": "white",
            "linecolor": "white",
            "ticks": ""
           },
           "bgcolor": "#E5ECF6",
           "caxis": {
            "gridcolor": "white",
            "linecolor": "white",
            "ticks": ""
           }
          },
          "title": {
           "x": 0.05
          },
          "xaxis": {
           "automargin": true,
           "gridcolor": "white",
           "linecolor": "white",
           "ticks": "",
           "title": {
            "standoff": 15
           },
           "zerolinecolor": "white",
           "zerolinewidth": 2
          },
          "yaxis": {
           "automargin": true,
           "gridcolor": "white",
           "linecolor": "white",
           "ticks": "",
           "title": {
            "standoff": 15
           },
           "zerolinecolor": "white",
           "zerolinewidth": 2
          }
         }
        },
        "title": {
         "font": {
          "color": "#4D5663"
         }
        },
        "xaxis": {
         "gridcolor": "#E1E5ED",
         "showgrid": true,
         "tickfont": {
          "color": "#4D5663"
         },
         "title": {
          "font": {
           "color": "#4D5663"
          },
          "text": ""
         },
         "zerolinecolor": "#E1E5ED"
        },
        "yaxis": {
         "gridcolor": "#E1E5ED",
         "showgrid": true,
         "tickfont": {
          "color": "#4D5663"
         },
         "title": {
          "font": {
           "color": "#4D5663"
          },
          "text": ""
         },
         "zerolinecolor": "#E1E5ED"
        }
       }
      },
      "text/html": [
       "<div>                            <div id=\"3cabe1a4-0118-4939-ba1f-53f96f18f1fc\" class=\"plotly-graph-div\" style=\"height:525px; width:100%;\"></div>            <script type=\"text/javascript\">                require([\"plotly\"], function(Plotly) {                    window.PLOTLYENV=window.PLOTLYENV || {};\n",
       "                    window.PLOTLYENV.BASE_URL='https://plot.ly';                                    if (document.getElementById(\"3cabe1a4-0118-4939-ba1f-53f96f18f1fc\")) {                    Plotly.newPlot(                        \"3cabe1a4-0118-4939-ba1f-53f96f18f1fc\",                        [{\"line\":{\"color\":\"rgba(255, 153, 51, 1.0)\",\"dash\":\"solid\",\"shape\":\"linear\",\"width\":1.3},\"marker\":{\"size\":20,\"symbol\":\"circle\"},\"mode\":\"markers\",\"name\":\"B\",\"text\":\"\",\"x\":[-0.4109093102308704,-0.6680817820818279,0.05775923832079972,-0.6514336458680554,0.1879160682510293,-1.5293464668323662,-0.7035269259572434,0.023874540007682573,-1.2420547200599625,-0.8913683621133949,-0.6031304983078408,-0.8971715581521588,-0.29873531501808204,-0.28277215845111825,-1.4601949181242078,1.163711752718257,-0.7985458453409878,0.08419460658711336,1.2072287151035508,1.9355081654923072,-0.6280104709091505,-0.11194954662160747,-0.46415689977609864,0.3291395359396691,0.14336269881245645,-0.7973487302419948,1.0136391070213626,0.3224826399220911,-0.5610315946764224,-1.6376822225509424,1.5133491313233511,0.6252725756740378,0.5218653597362931,0.2630145983301274,-0.6226571769603287,-0.47641810789885125,-0.7063513142606132,0.32684887117824307,0.25245635094777025,-0.8921088220372825,0.7720682190244831,0.7238641471940175,0.645126076541708,0.4224070507208162,0.3990528172515247,-0.19255958104133045,-0.16973807979033237,-1.0196829077704666,-0.3561857988413979,-0.7547498424893713,1.756962952184945,0.15851227706927512,-1.0982456629275492,0.6028423362735791,-1.2172834983904086,0.3151964776503683,-1.2224736248236194,-0.7734229575896733,0.15439661925788561,0.7886502050544204,-0.054443877521405636,-1.0636641048785411,-1.5786802485725135,0.24813035938868763,0.13326047954542491,0.07900652650890297,-1.943265097469249,0.709653153466894,-0.8004575677107629,-0.30651500422656586,-0.034793194861766734,1.1239760186483012,1.9534360839432174,0.5855191473663935,-0.259033322409612,-0.721568816715617,0.4048799040916817,0.11292732199272669,-1.1339821084354054,1.608866407723626,0.3501736145293892,-0.0486340739793143,-1.4939842393253115,0.33891543148322023,-0.14837108037915506,1.1431096103520344,1.2732128325788084,1.6707652434185216,-2.034802087108342,2.0454869644421496,1.928114298449317,0.2810486247432109,-0.4763850985641512,1.0107331745913726,0.7183992254469621,1.3199201637244298,0.19377943979431222,1.9858006393975318,1.7289541996275624,0.6000972414545752],\"y\":[0.10816164100433416,-0.3786534181130173,1.5976396520152203,0.1032715254968819,-1.0523808578431146,-1.3088111247109417,-0.33138160694857144,0.37586959252393326,-1.4329191920134556,-1.4057862776414278,-0.958400047246091,0.29084537770773083,0.9935937445178882,0.04105070648099821,0.5408640784206419,-0.9264630427696732,1.4446133920139053,0.7294940924538716,-0.4350365321345761,-0.1325933169696886,-1.014905041321066,0.7142426252203482,-0.12624792117550834,-0.20886899913259685,-0.046122503270438174,1.0930917336122041,-1.9021098919909627,2.1923805539824883,-0.35159360601604234,-0.7840171652005669,0.8013260813444979,1.6926231238423597,-1.8736638856094856,0.9707936279502669,-0.8946838001113273,0.33970862607059893,-0.5793816991296611,-0.0878888415438686,0.5123180202062559,-0.3354586266014048,-0.3056932331079285,1.3570012723760245,0.6501788955149052,-1.0229202856165147,0.6832670623300489,0.2169408672987547,-1.5775271330361818,-1.1246690529362395,0.3921142234135686,-0.06959219198977895,-0.019901343076002487,-0.9668266661131473,-0.21099683075611467,0.0016865579778136469,-1.0802687843471324,-1.380237864945273,-0.8039152050946438,0.6777652747804674,-1.7942162924799367,0.1874497630076612,0.21428526335199233,-1.6590885500531578,1.2292836165571877,-0.6313361485055891,0.20526898451701303,0.3019628958045808,1.2893815216553828,-1.8503476945459718,-1.1624137925900286,1.631894818283364,0.9137215970033604,0.42810273476173266,0.8383367822100516,0.03283408639287403,-0.6946136149052397,-0.08070742997934244,0.9486270898985858,-0.48974504059853097,0.7877660225946301,0.18205642024037574,-0.6270525171109232,-0.17486983897035135,-0.2569599069188726,0.4022673291283338,0.8893958001444761,0.7051969265018811,-0.2024575094870895,0.30361544203123086,-1.0690070760292605,0.4953857590622099,0.19672688600027186,-0.17632377424528928,-0.23475071514999798,0.997698475693314,-1.1669540486953198,-0.052800403148813194,0.1882279243514494,-0.7566964384387022,-0.5873806894237157,-1.0723913490493764],\"type\":\"scatter\"}],                        {\"legend\":{\"bgcolor\":\"#F5F6F9\",\"font\":{\"color\":\"#4D5663\"}},\"paper_bgcolor\":\"#F5F6F9\",\"plot_bgcolor\":\"#F5F6F9\",\"template\":{\"data\":{\"barpolar\":[{\"marker\":{\"line\":{\"color\":\"#E5ECF6\",\"width\":0.5},\"pattern\":{\"fillmode\":\"overlay\",\"size\":10,\"solidity\":0.2}},\"type\":\"barpolar\"}],\"bar\":[{\"error_x\":{\"color\":\"#2a3f5f\"},\"error_y\":{\"color\":\"#2a3f5f\"},\"marker\":{\"line\":{\"color\":\"#E5ECF6\",\"width\":0.5},\"pattern\":{\"fillmode\":\"overlay\",\"size\":10,\"solidity\":0.2}},\"type\":\"bar\"}],\"carpet\":[{\"aaxis\":{\"endlinecolor\":\"#2a3f5f\",\"gridcolor\":\"white\",\"linecolor\":\"white\",\"minorgridcolor\":\"white\",\"startlinecolor\":\"#2a3f5f\"},\"baxis\":{\"endlinecolor\":\"#2a3f5f\",\"gridcolor\":\"white\",\"linecolor\":\"white\",\"minorgridcolor\":\"white\",\"startlinecolor\":\"#2a3f5f\"},\"type\":\"carpet\"}],\"choropleth\":[{\"colorbar\":{\"outlinewidth\":0,\"ticks\":\"\"},\"type\":\"choropleth\"}],\"contourcarpet\":[{\"colorbar\":{\"outlinewidth\":0,\"ticks\":\"\"},\"type\":\"contourcarpet\"}],\"contour\":[{\"colorbar\":{\"outlinewidth\":0,\"ticks\":\"\"},\"colorscale\":[[0.0,\"#0d0887\"],[0.1111111111111111,\"#46039f\"],[0.2222222222222222,\"#7201a8\"],[0.3333333333333333,\"#9c179e\"],[0.4444444444444444,\"#bd3786\"],[0.5555555555555556,\"#d8576b\"],[0.6666666666666666,\"#ed7953\"],[0.7777777777777778,\"#fb9f3a\"],[0.8888888888888888,\"#fdca26\"],[1.0,\"#f0f921\"]],\"type\":\"contour\"}],\"heatmapgl\":[{\"colorbar\":{\"outlinewidth\":0,\"ticks\":\"\"},\"colorscale\":[[0.0,\"#0d0887\"],[0.1111111111111111,\"#46039f\"],[0.2222222222222222,\"#7201a8\"],[0.3333333333333333,\"#9c179e\"],[0.4444444444444444,\"#bd3786\"],[0.5555555555555556,\"#d8576b\"],[0.6666666666666666,\"#ed7953\"],[0.7777777777777778,\"#fb9f3a\"],[0.8888888888888888,\"#fdca26\"],[1.0,\"#f0f921\"]],\"type\":\"heatmapgl\"}],\"heatmap\":[{\"colorbar\":{\"outlinewidth\":0,\"ticks\":\"\"},\"colorscale\":[[0.0,\"#0d0887\"],[0.1111111111111111,\"#46039f\"],[0.2222222222222222,\"#7201a8\"],[0.3333333333333333,\"#9c179e\"],[0.4444444444444444,\"#bd3786\"],[0.5555555555555556,\"#d8576b\"],[0.6666666666666666,\"#ed7953\"],[0.7777777777777778,\"#fb9f3a\"],[0.8888888888888888,\"#fdca26\"],[1.0,\"#f0f921\"]],\"type\":\"heatmap\"}],\"histogram2dcontour\":[{\"colorbar\":{\"outlinewidth\":0,\"ticks\":\"\"},\"colorscale\":[[0.0,\"#0d0887\"],[0.1111111111111111,\"#46039f\"],[0.2222222222222222,\"#7201a8\"],[0.3333333333333333,\"#9c179e\"],[0.4444444444444444,\"#bd3786\"],[0.5555555555555556,\"#d8576b\"],[0.6666666666666666,\"#ed7953\"],[0.7777777777777778,\"#fb9f3a\"],[0.8888888888888888,\"#fdca26\"],[1.0,\"#f0f921\"]],\"type\":\"histogram2dcontour\"}],\"histogram2d\":[{\"colorbar\":{\"outlinewidth\":0,\"ticks\":\"\"},\"colorscale\":[[0.0,\"#0d0887\"],[0.1111111111111111,\"#46039f\"],[0.2222222222222222,\"#7201a8\"],[0.3333333333333333,\"#9c179e\"],[0.4444444444444444,\"#bd3786\"],[0.5555555555555556,\"#d8576b\"],[0.6666666666666666,\"#ed7953\"],[0.7777777777777778,\"#fb9f3a\"],[0.8888888888888888,\"#fdca26\"],[1.0,\"#f0f921\"]],\"type\":\"histogram2d\"}],\"histogram\":[{\"marker\":{\"pattern\":{\"fillmode\":\"overlay\",\"size\":10,\"solidity\":0.2}},\"type\":\"histogram\"}],\"mesh3d\":[{\"colorbar\":{\"outlinewidth\":0,\"ticks\":\"\"},\"type\":\"mesh3d\"}],\"parcoords\":[{\"line\":{\"colorbar\":{\"outlinewidth\":0,\"ticks\":\"\"}},\"type\":\"parcoords\"}],\"pie\":[{\"automargin\":true,\"type\":\"pie\"}],\"scatter3d\":[{\"line\":{\"colorbar\":{\"outlinewidth\":0,\"ticks\":\"\"}},\"marker\":{\"colorbar\":{\"outlinewidth\":0,\"ticks\":\"\"}},\"type\":\"scatter3d\"}],\"scattercarpet\":[{\"marker\":{\"colorbar\":{\"outlinewidth\":0,\"ticks\":\"\"}},\"type\":\"scattercarpet\"}],\"scattergeo\":[{\"marker\":{\"colorbar\":{\"outlinewidth\":0,\"ticks\":\"\"}},\"type\":\"scattergeo\"}],\"scattergl\":[{\"marker\":{\"colorbar\":{\"outlinewidth\":0,\"ticks\":\"\"}},\"type\":\"scattergl\"}],\"scattermapbox\":[{\"marker\":{\"colorbar\":{\"outlinewidth\":0,\"ticks\":\"\"}},\"type\":\"scattermapbox\"}],\"scatterpolargl\":[{\"marker\":{\"colorbar\":{\"outlinewidth\":0,\"ticks\":\"\"}},\"type\":\"scatterpolargl\"}],\"scatterpolar\":[{\"marker\":{\"colorbar\":{\"outlinewidth\":0,\"ticks\":\"\"}},\"type\":\"scatterpolar\"}],\"scatter\":[{\"marker\":{\"colorbar\":{\"outlinewidth\":0,\"ticks\":\"\"}},\"type\":\"scatter\"}],\"scatterternary\":[{\"marker\":{\"colorbar\":{\"outlinewidth\":0,\"ticks\":\"\"}},\"type\":\"scatterternary\"}],\"surface\":[{\"colorbar\":{\"outlinewidth\":0,\"ticks\":\"\"},\"colorscale\":[[0.0,\"#0d0887\"],[0.1111111111111111,\"#46039f\"],[0.2222222222222222,\"#7201a8\"],[0.3333333333333333,\"#9c179e\"],[0.4444444444444444,\"#bd3786\"],[0.5555555555555556,\"#d8576b\"],[0.6666666666666666,\"#ed7953\"],[0.7777777777777778,\"#fb9f3a\"],[0.8888888888888888,\"#fdca26\"],[1.0,\"#f0f921\"]],\"type\":\"surface\"}],\"table\":[{\"cells\":{\"fill\":{\"color\":\"#EBF0F8\"},\"line\":{\"color\":\"white\"}},\"header\":{\"fill\":{\"color\":\"#C8D4E3\"},\"line\":{\"color\":\"white\"}},\"type\":\"table\"}]},\"layout\":{\"annotationdefaults\":{\"arrowcolor\":\"#2a3f5f\",\"arrowhead\":0,\"arrowwidth\":1},\"autotypenumbers\":\"strict\",\"coloraxis\":{\"colorbar\":{\"outlinewidth\":0,\"ticks\":\"\"}},\"colorscale\":{\"diverging\":[[0,\"#8e0152\"],[0.1,\"#c51b7d\"],[0.2,\"#de77ae\"],[0.3,\"#f1b6da\"],[0.4,\"#fde0ef\"],[0.5,\"#f7f7f7\"],[0.6,\"#e6f5d0\"],[0.7,\"#b8e186\"],[0.8,\"#7fbc41\"],[0.9,\"#4d9221\"],[1,\"#276419\"]],\"sequential\":[[0.0,\"#0d0887\"],[0.1111111111111111,\"#46039f\"],[0.2222222222222222,\"#7201a8\"],[0.3333333333333333,\"#9c179e\"],[0.4444444444444444,\"#bd3786\"],[0.5555555555555556,\"#d8576b\"],[0.6666666666666666,\"#ed7953\"],[0.7777777777777778,\"#fb9f3a\"],[0.8888888888888888,\"#fdca26\"],[1.0,\"#f0f921\"]],\"sequentialminus\":[[0.0,\"#0d0887\"],[0.1111111111111111,\"#46039f\"],[0.2222222222222222,\"#7201a8\"],[0.3333333333333333,\"#9c179e\"],[0.4444444444444444,\"#bd3786\"],[0.5555555555555556,\"#d8576b\"],[0.6666666666666666,\"#ed7953\"],[0.7777777777777778,\"#fb9f3a\"],[0.8888888888888888,\"#fdca26\"],[1.0,\"#f0f921\"]]},\"colorway\":[\"#636efa\",\"#EF553B\",\"#00cc96\",\"#ab63fa\",\"#FFA15A\",\"#19d3f3\",\"#FF6692\",\"#B6E880\",\"#FF97FF\",\"#FECB52\"],\"font\":{\"color\":\"#2a3f5f\"},\"geo\":{\"bgcolor\":\"white\",\"lakecolor\":\"white\",\"landcolor\":\"#E5ECF6\",\"showlakes\":true,\"showland\":true,\"subunitcolor\":\"white\"},\"hoverlabel\":{\"align\":\"left\"},\"hovermode\":\"closest\",\"mapbox\":{\"style\":\"light\"},\"paper_bgcolor\":\"white\",\"plot_bgcolor\":\"#E5ECF6\",\"polar\":{\"angularaxis\":{\"gridcolor\":\"white\",\"linecolor\":\"white\",\"ticks\":\"\"},\"bgcolor\":\"#E5ECF6\",\"radialaxis\":{\"gridcolor\":\"white\",\"linecolor\":\"white\",\"ticks\":\"\"}},\"scene\":{\"xaxis\":{\"backgroundcolor\":\"#E5ECF6\",\"gridcolor\":\"white\",\"gridwidth\":2,\"linecolor\":\"white\",\"showbackground\":true,\"ticks\":\"\",\"zerolinecolor\":\"white\"},\"yaxis\":{\"backgroundcolor\":\"#E5ECF6\",\"gridcolor\":\"white\",\"gridwidth\":2,\"linecolor\":\"white\",\"showbackground\":true,\"ticks\":\"\",\"zerolinecolor\":\"white\"},\"zaxis\":{\"backgroundcolor\":\"#E5ECF6\",\"gridcolor\":\"white\",\"gridwidth\":2,\"linecolor\":\"white\",\"showbackground\":true,\"ticks\":\"\",\"zerolinecolor\":\"white\"}},\"shapedefaults\":{\"line\":{\"color\":\"#2a3f5f\"}},\"ternary\":{\"aaxis\":{\"gridcolor\":\"white\",\"linecolor\":\"white\",\"ticks\":\"\"},\"baxis\":{\"gridcolor\":\"white\",\"linecolor\":\"white\",\"ticks\":\"\"},\"bgcolor\":\"#E5ECF6\",\"caxis\":{\"gridcolor\":\"white\",\"linecolor\":\"white\",\"ticks\":\"\"}},\"title\":{\"x\":0.05},\"xaxis\":{\"automargin\":true,\"gridcolor\":\"white\",\"linecolor\":\"white\",\"ticks\":\"\",\"title\":{\"standoff\":15},\"zerolinecolor\":\"white\",\"zerolinewidth\":2},\"yaxis\":{\"automargin\":true,\"gridcolor\":\"white\",\"linecolor\":\"white\",\"ticks\":\"\",\"title\":{\"standoff\":15},\"zerolinecolor\":\"white\",\"zerolinewidth\":2}}},\"title\":{\"font\":{\"color\":\"#4D5663\"}},\"xaxis\":{\"gridcolor\":\"#E1E5ED\",\"showgrid\":true,\"tickfont\":{\"color\":\"#4D5663\"},\"title\":{\"font\":{\"color\":\"#4D5663\"},\"text\":\"\"},\"zerolinecolor\":\"#E1E5ED\"},\"yaxis\":{\"gridcolor\":\"#E1E5ED\",\"showgrid\":true,\"tickfont\":{\"color\":\"#4D5663\"},\"title\":{\"font\":{\"color\":\"#4D5663\"},\"text\":\"\"},\"zerolinecolor\":\"#E1E5ED\"}},                        {\"showLink\": true, \"linkText\": \"Export to plot.ly\", \"plotlyServerURL\": \"https://plot.ly\", \"responsive\": true}                    ).then(function(){\n",
       "                            \n",
       "var gd = document.getElementById('3cabe1a4-0118-4939-ba1f-53f96f18f1fc');\n",
       "var x = new MutationObserver(function (mutations, observer) {{\n",
       "        var display = window.getComputedStyle(gd).display;\n",
       "        if (!display || display === 'none') {{\n",
       "            console.log([gd, 'removed!']);\n",
       "            Plotly.purge(gd);\n",
       "            observer.disconnect();\n",
       "        }}\n",
       "}});\n",
       "\n",
       "// Listen for the removal of the full notebook cells\n",
       "var notebookContainer = gd.closest('#notebook-container');\n",
       "if (notebookContainer) {{\n",
       "    x.observe(notebookContainer, {childList: true});\n",
       "}}\n",
       "\n",
       "// Listen for the clearing of the current output cell\n",
       "var outputEl = gd.closest('.output');\n",
       "if (outputEl) {{\n",
       "    x.observe(outputEl, {childList: true});\n",
       "}}\n",
       "\n",
       "                        })                };                });            </script>        </div>"
      ]
     },
     "metadata": {},
     "output_type": "display_data"
    }
   ],
   "source": [
    "df.iplot(kind='scatter',x='A',y='B',mode='markers',size=20)"
   ]
  },
  {
   "cell_type": "code",
   "execution_count": 29,
   "id": "8beb9a7e",
   "metadata": {},
   "outputs": [
    {
     "data": {
      "application/vnd.plotly.v1+json": {
       "config": {
        "linkText": "Export to plot.ly",
        "plotlyServerURL": "https://plot.ly",
        "showLink": true
       },
       "data": [
        {
         "marker": {
          "color": "rgba(255, 153, 51, 0.6)",
          "line": {
           "color": "rgba(255, 153, 51, 1.0)",
           "width": 1
          }
         },
         "name": "Values",
         "orientation": "v",
         "text": "",
         "type": "bar",
         "x": [
          "A",
          "B",
          "C"
         ],
         "y": [
          32,
          43,
          50
         ]
        }
       ],
       "layout": {
        "legend": {
         "bgcolor": "#F5F6F9",
         "font": {
          "color": "#4D5663"
         }
        },
        "paper_bgcolor": "#F5F6F9",
        "plot_bgcolor": "#F5F6F9",
        "template": {
         "data": {
          "bar": [
           {
            "error_x": {
             "color": "#2a3f5f"
            },
            "error_y": {
             "color": "#2a3f5f"
            },
            "marker": {
             "line": {
              "color": "#E5ECF6",
              "width": 0.5
             },
             "pattern": {
              "fillmode": "overlay",
              "size": 10,
              "solidity": 0.2
             }
            },
            "type": "bar"
           }
          ],
          "barpolar": [
           {
            "marker": {
             "line": {
              "color": "#E5ECF6",
              "width": 0.5
             },
             "pattern": {
              "fillmode": "overlay",
              "size": 10,
              "solidity": 0.2
             }
            },
            "type": "barpolar"
           }
          ],
          "carpet": [
           {
            "aaxis": {
             "endlinecolor": "#2a3f5f",
             "gridcolor": "white",
             "linecolor": "white",
             "minorgridcolor": "white",
             "startlinecolor": "#2a3f5f"
            },
            "baxis": {
             "endlinecolor": "#2a3f5f",
             "gridcolor": "white",
             "linecolor": "white",
             "minorgridcolor": "white",
             "startlinecolor": "#2a3f5f"
            },
            "type": "carpet"
           }
          ],
          "choropleth": [
           {
            "colorbar": {
             "outlinewidth": 0,
             "ticks": ""
            },
            "type": "choropleth"
           }
          ],
          "contour": [
           {
            "colorbar": {
             "outlinewidth": 0,
             "ticks": ""
            },
            "colorscale": [
             [
              0,
              "#0d0887"
             ],
             [
              0.1111111111111111,
              "#46039f"
             ],
             [
              0.2222222222222222,
              "#7201a8"
             ],
             [
              0.3333333333333333,
              "#9c179e"
             ],
             [
              0.4444444444444444,
              "#bd3786"
             ],
             [
              0.5555555555555556,
              "#d8576b"
             ],
             [
              0.6666666666666666,
              "#ed7953"
             ],
             [
              0.7777777777777778,
              "#fb9f3a"
             ],
             [
              0.8888888888888888,
              "#fdca26"
             ],
             [
              1,
              "#f0f921"
             ]
            ],
            "type": "contour"
           }
          ],
          "contourcarpet": [
           {
            "colorbar": {
             "outlinewidth": 0,
             "ticks": ""
            },
            "type": "contourcarpet"
           }
          ],
          "heatmap": [
           {
            "colorbar": {
             "outlinewidth": 0,
             "ticks": ""
            },
            "colorscale": [
             [
              0,
              "#0d0887"
             ],
             [
              0.1111111111111111,
              "#46039f"
             ],
             [
              0.2222222222222222,
              "#7201a8"
             ],
             [
              0.3333333333333333,
              "#9c179e"
             ],
             [
              0.4444444444444444,
              "#bd3786"
             ],
             [
              0.5555555555555556,
              "#d8576b"
             ],
             [
              0.6666666666666666,
              "#ed7953"
             ],
             [
              0.7777777777777778,
              "#fb9f3a"
             ],
             [
              0.8888888888888888,
              "#fdca26"
             ],
             [
              1,
              "#f0f921"
             ]
            ],
            "type": "heatmap"
           }
          ],
          "heatmapgl": [
           {
            "colorbar": {
             "outlinewidth": 0,
             "ticks": ""
            },
            "colorscale": [
             [
              0,
              "#0d0887"
             ],
             [
              0.1111111111111111,
              "#46039f"
             ],
             [
              0.2222222222222222,
              "#7201a8"
             ],
             [
              0.3333333333333333,
              "#9c179e"
             ],
             [
              0.4444444444444444,
              "#bd3786"
             ],
             [
              0.5555555555555556,
              "#d8576b"
             ],
             [
              0.6666666666666666,
              "#ed7953"
             ],
             [
              0.7777777777777778,
              "#fb9f3a"
             ],
             [
              0.8888888888888888,
              "#fdca26"
             ],
             [
              1,
              "#f0f921"
             ]
            ],
            "type": "heatmapgl"
           }
          ],
          "histogram": [
           {
            "marker": {
             "pattern": {
              "fillmode": "overlay",
              "size": 10,
              "solidity": 0.2
             }
            },
            "type": "histogram"
           }
          ],
          "histogram2d": [
           {
            "colorbar": {
             "outlinewidth": 0,
             "ticks": ""
            },
            "colorscale": [
             [
              0,
              "#0d0887"
             ],
             [
              0.1111111111111111,
              "#46039f"
             ],
             [
              0.2222222222222222,
              "#7201a8"
             ],
             [
              0.3333333333333333,
              "#9c179e"
             ],
             [
              0.4444444444444444,
              "#bd3786"
             ],
             [
              0.5555555555555556,
              "#d8576b"
             ],
             [
              0.6666666666666666,
              "#ed7953"
             ],
             [
              0.7777777777777778,
              "#fb9f3a"
             ],
             [
              0.8888888888888888,
              "#fdca26"
             ],
             [
              1,
              "#f0f921"
             ]
            ],
            "type": "histogram2d"
           }
          ],
          "histogram2dcontour": [
           {
            "colorbar": {
             "outlinewidth": 0,
             "ticks": ""
            },
            "colorscale": [
             [
              0,
              "#0d0887"
             ],
             [
              0.1111111111111111,
              "#46039f"
             ],
             [
              0.2222222222222222,
              "#7201a8"
             ],
             [
              0.3333333333333333,
              "#9c179e"
             ],
             [
              0.4444444444444444,
              "#bd3786"
             ],
             [
              0.5555555555555556,
              "#d8576b"
             ],
             [
              0.6666666666666666,
              "#ed7953"
             ],
             [
              0.7777777777777778,
              "#fb9f3a"
             ],
             [
              0.8888888888888888,
              "#fdca26"
             ],
             [
              1,
              "#f0f921"
             ]
            ],
            "type": "histogram2dcontour"
           }
          ],
          "mesh3d": [
           {
            "colorbar": {
             "outlinewidth": 0,
             "ticks": ""
            },
            "type": "mesh3d"
           }
          ],
          "parcoords": [
           {
            "line": {
             "colorbar": {
              "outlinewidth": 0,
              "ticks": ""
             }
            },
            "type": "parcoords"
           }
          ],
          "pie": [
           {
            "automargin": true,
            "type": "pie"
           }
          ],
          "scatter": [
           {
            "marker": {
             "colorbar": {
              "outlinewidth": 0,
              "ticks": ""
             }
            },
            "type": "scatter"
           }
          ],
          "scatter3d": [
           {
            "line": {
             "colorbar": {
              "outlinewidth": 0,
              "ticks": ""
             }
            },
            "marker": {
             "colorbar": {
              "outlinewidth": 0,
              "ticks": ""
             }
            },
            "type": "scatter3d"
           }
          ],
          "scattercarpet": [
           {
            "marker": {
             "colorbar": {
              "outlinewidth": 0,
              "ticks": ""
             }
            },
            "type": "scattercarpet"
           }
          ],
          "scattergeo": [
           {
            "marker": {
             "colorbar": {
              "outlinewidth": 0,
              "ticks": ""
             }
            },
            "type": "scattergeo"
           }
          ],
          "scattergl": [
           {
            "marker": {
             "colorbar": {
              "outlinewidth": 0,
              "ticks": ""
             }
            },
            "type": "scattergl"
           }
          ],
          "scattermapbox": [
           {
            "marker": {
             "colorbar": {
              "outlinewidth": 0,
              "ticks": ""
             }
            },
            "type": "scattermapbox"
           }
          ],
          "scatterpolar": [
           {
            "marker": {
             "colorbar": {
              "outlinewidth": 0,
              "ticks": ""
             }
            },
            "type": "scatterpolar"
           }
          ],
          "scatterpolargl": [
           {
            "marker": {
             "colorbar": {
              "outlinewidth": 0,
              "ticks": ""
             }
            },
            "type": "scatterpolargl"
           }
          ],
          "scatterternary": [
           {
            "marker": {
             "colorbar": {
              "outlinewidth": 0,
              "ticks": ""
             }
            },
            "type": "scatterternary"
           }
          ],
          "surface": [
           {
            "colorbar": {
             "outlinewidth": 0,
             "ticks": ""
            },
            "colorscale": [
             [
              0,
              "#0d0887"
             ],
             [
              0.1111111111111111,
              "#46039f"
             ],
             [
              0.2222222222222222,
              "#7201a8"
             ],
             [
              0.3333333333333333,
              "#9c179e"
             ],
             [
              0.4444444444444444,
              "#bd3786"
             ],
             [
              0.5555555555555556,
              "#d8576b"
             ],
             [
              0.6666666666666666,
              "#ed7953"
             ],
             [
              0.7777777777777778,
              "#fb9f3a"
             ],
             [
              0.8888888888888888,
              "#fdca26"
             ],
             [
              1,
              "#f0f921"
             ]
            ],
            "type": "surface"
           }
          ],
          "table": [
           {
            "cells": {
             "fill": {
              "color": "#EBF0F8"
             },
             "line": {
              "color": "white"
             }
            },
            "header": {
             "fill": {
              "color": "#C8D4E3"
             },
             "line": {
              "color": "white"
             }
            },
            "type": "table"
           }
          ]
         },
         "layout": {
          "annotationdefaults": {
           "arrowcolor": "#2a3f5f",
           "arrowhead": 0,
           "arrowwidth": 1
          },
          "autotypenumbers": "strict",
          "coloraxis": {
           "colorbar": {
            "outlinewidth": 0,
            "ticks": ""
           }
          },
          "colorscale": {
           "diverging": [
            [
             0,
             "#8e0152"
            ],
            [
             0.1,
             "#c51b7d"
            ],
            [
             0.2,
             "#de77ae"
            ],
            [
             0.3,
             "#f1b6da"
            ],
            [
             0.4,
             "#fde0ef"
            ],
            [
             0.5,
             "#f7f7f7"
            ],
            [
             0.6,
             "#e6f5d0"
            ],
            [
             0.7,
             "#b8e186"
            ],
            [
             0.8,
             "#7fbc41"
            ],
            [
             0.9,
             "#4d9221"
            ],
            [
             1,
             "#276419"
            ]
           ],
           "sequential": [
            [
             0,
             "#0d0887"
            ],
            [
             0.1111111111111111,
             "#46039f"
            ],
            [
             0.2222222222222222,
             "#7201a8"
            ],
            [
             0.3333333333333333,
             "#9c179e"
            ],
            [
             0.4444444444444444,
             "#bd3786"
            ],
            [
             0.5555555555555556,
             "#d8576b"
            ],
            [
             0.6666666666666666,
             "#ed7953"
            ],
            [
             0.7777777777777778,
             "#fb9f3a"
            ],
            [
             0.8888888888888888,
             "#fdca26"
            ],
            [
             1,
             "#f0f921"
            ]
           ],
           "sequentialminus": [
            [
             0,
             "#0d0887"
            ],
            [
             0.1111111111111111,
             "#46039f"
            ],
            [
             0.2222222222222222,
             "#7201a8"
            ],
            [
             0.3333333333333333,
             "#9c179e"
            ],
            [
             0.4444444444444444,
             "#bd3786"
            ],
            [
             0.5555555555555556,
             "#d8576b"
            ],
            [
             0.6666666666666666,
             "#ed7953"
            ],
            [
             0.7777777777777778,
             "#fb9f3a"
            ],
            [
             0.8888888888888888,
             "#fdca26"
            ],
            [
             1,
             "#f0f921"
            ]
           ]
          },
          "colorway": [
           "#636efa",
           "#EF553B",
           "#00cc96",
           "#ab63fa",
           "#FFA15A",
           "#19d3f3",
           "#FF6692",
           "#B6E880",
           "#FF97FF",
           "#FECB52"
          ],
          "font": {
           "color": "#2a3f5f"
          },
          "geo": {
           "bgcolor": "white",
           "lakecolor": "white",
           "landcolor": "#E5ECF6",
           "showlakes": true,
           "showland": true,
           "subunitcolor": "white"
          },
          "hoverlabel": {
           "align": "left"
          },
          "hovermode": "closest",
          "mapbox": {
           "style": "light"
          },
          "paper_bgcolor": "white",
          "plot_bgcolor": "#E5ECF6",
          "polar": {
           "angularaxis": {
            "gridcolor": "white",
            "linecolor": "white",
            "ticks": ""
           },
           "bgcolor": "#E5ECF6",
           "radialaxis": {
            "gridcolor": "white",
            "linecolor": "white",
            "ticks": ""
           }
          },
          "scene": {
           "xaxis": {
            "backgroundcolor": "#E5ECF6",
            "gridcolor": "white",
            "gridwidth": 2,
            "linecolor": "white",
            "showbackground": true,
            "ticks": "",
            "zerolinecolor": "white"
           },
           "yaxis": {
            "backgroundcolor": "#E5ECF6",
            "gridcolor": "white",
            "gridwidth": 2,
            "linecolor": "white",
            "showbackground": true,
            "ticks": "",
            "zerolinecolor": "white"
           },
           "zaxis": {
            "backgroundcolor": "#E5ECF6",
            "gridcolor": "white",
            "gridwidth": 2,
            "linecolor": "white",
            "showbackground": true,
            "ticks": "",
            "zerolinecolor": "white"
           }
          },
          "shapedefaults": {
           "line": {
            "color": "#2a3f5f"
           }
          },
          "ternary": {
           "aaxis": {
            "gridcolor": "white",
            "linecolor": "white",
            "ticks": ""
           },
           "baxis": {
            "gridcolor": "white",
            "linecolor": "white",
            "ticks": ""
           },
           "bgcolor": "#E5ECF6",
           "caxis": {
            "gridcolor": "white",
            "linecolor": "white",
            "ticks": ""
           }
          },
          "title": {
           "x": 0.05
          },
          "xaxis": {
           "automargin": true,
           "gridcolor": "white",
           "linecolor": "white",
           "ticks": "",
           "title": {
            "standoff": 15
           },
           "zerolinecolor": "white",
           "zerolinewidth": 2
          },
          "yaxis": {
           "automargin": true,
           "gridcolor": "white",
           "linecolor": "white",
           "ticks": "",
           "title": {
            "standoff": 15
           },
           "zerolinecolor": "white",
           "zerolinewidth": 2
          }
         }
        },
        "title": {
         "font": {
          "color": "#4D5663"
         }
        },
        "xaxis": {
         "gridcolor": "#E1E5ED",
         "showgrid": true,
         "tickfont": {
          "color": "#4D5663"
         },
         "title": {
          "font": {
           "color": "#4D5663"
          },
          "text": ""
         },
         "zerolinecolor": "#E1E5ED"
        },
        "yaxis": {
         "gridcolor": "#E1E5ED",
         "showgrid": true,
         "tickfont": {
          "color": "#4D5663"
         },
         "title": {
          "font": {
           "color": "#4D5663"
          },
          "text": ""
         },
         "zerolinecolor": "#E1E5ED"
        }
       }
      },
      "text/html": [
       "<div>                            <div id=\"bb5f2175-248b-4a01-b82c-5f2a299dac8a\" class=\"plotly-graph-div\" style=\"height:525px; width:100%;\"></div>            <script type=\"text/javascript\">                require([\"plotly\"], function(Plotly) {                    window.PLOTLYENV=window.PLOTLYENV || {};\n",
       "                    window.PLOTLYENV.BASE_URL='https://plot.ly';                                    if (document.getElementById(\"bb5f2175-248b-4a01-b82c-5f2a299dac8a\")) {                    Plotly.newPlot(                        \"bb5f2175-248b-4a01-b82c-5f2a299dac8a\",                        [{\"marker\":{\"color\":\"rgba(255, 153, 51, 0.6)\",\"line\":{\"color\":\"rgba(255, 153, 51, 1.0)\",\"width\":1}},\"name\":\"Values\",\"orientation\":\"v\",\"text\":\"\",\"x\":[\"A\",\"B\",\"C\"],\"y\":[32,43,50],\"type\":\"bar\"}],                        {\"legend\":{\"bgcolor\":\"#F5F6F9\",\"font\":{\"color\":\"#4D5663\"}},\"paper_bgcolor\":\"#F5F6F9\",\"plot_bgcolor\":\"#F5F6F9\",\"template\":{\"data\":{\"barpolar\":[{\"marker\":{\"line\":{\"color\":\"#E5ECF6\",\"width\":0.5},\"pattern\":{\"fillmode\":\"overlay\",\"size\":10,\"solidity\":0.2}},\"type\":\"barpolar\"}],\"bar\":[{\"error_x\":{\"color\":\"#2a3f5f\"},\"error_y\":{\"color\":\"#2a3f5f\"},\"marker\":{\"line\":{\"color\":\"#E5ECF6\",\"width\":0.5},\"pattern\":{\"fillmode\":\"overlay\",\"size\":10,\"solidity\":0.2}},\"type\":\"bar\"}],\"carpet\":[{\"aaxis\":{\"endlinecolor\":\"#2a3f5f\",\"gridcolor\":\"white\",\"linecolor\":\"white\",\"minorgridcolor\":\"white\",\"startlinecolor\":\"#2a3f5f\"},\"baxis\":{\"endlinecolor\":\"#2a3f5f\",\"gridcolor\":\"white\",\"linecolor\":\"white\",\"minorgridcolor\":\"white\",\"startlinecolor\":\"#2a3f5f\"},\"type\":\"carpet\"}],\"choropleth\":[{\"colorbar\":{\"outlinewidth\":0,\"ticks\":\"\"},\"type\":\"choropleth\"}],\"contourcarpet\":[{\"colorbar\":{\"outlinewidth\":0,\"ticks\":\"\"},\"type\":\"contourcarpet\"}],\"contour\":[{\"colorbar\":{\"outlinewidth\":0,\"ticks\":\"\"},\"colorscale\":[[0.0,\"#0d0887\"],[0.1111111111111111,\"#46039f\"],[0.2222222222222222,\"#7201a8\"],[0.3333333333333333,\"#9c179e\"],[0.4444444444444444,\"#bd3786\"],[0.5555555555555556,\"#d8576b\"],[0.6666666666666666,\"#ed7953\"],[0.7777777777777778,\"#fb9f3a\"],[0.8888888888888888,\"#fdca26\"],[1.0,\"#f0f921\"]],\"type\":\"contour\"}],\"heatmapgl\":[{\"colorbar\":{\"outlinewidth\":0,\"ticks\":\"\"},\"colorscale\":[[0.0,\"#0d0887\"],[0.1111111111111111,\"#46039f\"],[0.2222222222222222,\"#7201a8\"],[0.3333333333333333,\"#9c179e\"],[0.4444444444444444,\"#bd3786\"],[0.5555555555555556,\"#d8576b\"],[0.6666666666666666,\"#ed7953\"],[0.7777777777777778,\"#fb9f3a\"],[0.8888888888888888,\"#fdca26\"],[1.0,\"#f0f921\"]],\"type\":\"heatmapgl\"}],\"heatmap\":[{\"colorbar\":{\"outlinewidth\":0,\"ticks\":\"\"},\"colorscale\":[[0.0,\"#0d0887\"],[0.1111111111111111,\"#46039f\"],[0.2222222222222222,\"#7201a8\"],[0.3333333333333333,\"#9c179e\"],[0.4444444444444444,\"#bd3786\"],[0.5555555555555556,\"#d8576b\"],[0.6666666666666666,\"#ed7953\"],[0.7777777777777778,\"#fb9f3a\"],[0.8888888888888888,\"#fdca26\"],[1.0,\"#f0f921\"]],\"type\":\"heatmap\"}],\"histogram2dcontour\":[{\"colorbar\":{\"outlinewidth\":0,\"ticks\":\"\"},\"colorscale\":[[0.0,\"#0d0887\"],[0.1111111111111111,\"#46039f\"],[0.2222222222222222,\"#7201a8\"],[0.3333333333333333,\"#9c179e\"],[0.4444444444444444,\"#bd3786\"],[0.5555555555555556,\"#d8576b\"],[0.6666666666666666,\"#ed7953\"],[0.7777777777777778,\"#fb9f3a\"],[0.8888888888888888,\"#fdca26\"],[1.0,\"#f0f921\"]],\"type\":\"histogram2dcontour\"}],\"histogram2d\":[{\"colorbar\":{\"outlinewidth\":0,\"ticks\":\"\"},\"colorscale\":[[0.0,\"#0d0887\"],[0.1111111111111111,\"#46039f\"],[0.2222222222222222,\"#7201a8\"],[0.3333333333333333,\"#9c179e\"],[0.4444444444444444,\"#bd3786\"],[0.5555555555555556,\"#d8576b\"],[0.6666666666666666,\"#ed7953\"],[0.7777777777777778,\"#fb9f3a\"],[0.8888888888888888,\"#fdca26\"],[1.0,\"#f0f921\"]],\"type\":\"histogram2d\"}],\"histogram\":[{\"marker\":{\"pattern\":{\"fillmode\":\"overlay\",\"size\":10,\"solidity\":0.2}},\"type\":\"histogram\"}],\"mesh3d\":[{\"colorbar\":{\"outlinewidth\":0,\"ticks\":\"\"},\"type\":\"mesh3d\"}],\"parcoords\":[{\"line\":{\"colorbar\":{\"outlinewidth\":0,\"ticks\":\"\"}},\"type\":\"parcoords\"}],\"pie\":[{\"automargin\":true,\"type\":\"pie\"}],\"scatter3d\":[{\"line\":{\"colorbar\":{\"outlinewidth\":0,\"ticks\":\"\"}},\"marker\":{\"colorbar\":{\"outlinewidth\":0,\"ticks\":\"\"}},\"type\":\"scatter3d\"}],\"scattercarpet\":[{\"marker\":{\"colorbar\":{\"outlinewidth\":0,\"ticks\":\"\"}},\"type\":\"scattercarpet\"}],\"scattergeo\":[{\"marker\":{\"colorbar\":{\"outlinewidth\":0,\"ticks\":\"\"}},\"type\":\"scattergeo\"}],\"scattergl\":[{\"marker\":{\"colorbar\":{\"outlinewidth\":0,\"ticks\":\"\"}},\"type\":\"scattergl\"}],\"scattermapbox\":[{\"marker\":{\"colorbar\":{\"outlinewidth\":0,\"ticks\":\"\"}},\"type\":\"scattermapbox\"}],\"scatterpolargl\":[{\"marker\":{\"colorbar\":{\"outlinewidth\":0,\"ticks\":\"\"}},\"type\":\"scatterpolargl\"}],\"scatterpolar\":[{\"marker\":{\"colorbar\":{\"outlinewidth\":0,\"ticks\":\"\"}},\"type\":\"scatterpolar\"}],\"scatter\":[{\"marker\":{\"colorbar\":{\"outlinewidth\":0,\"ticks\":\"\"}},\"type\":\"scatter\"}],\"scatterternary\":[{\"marker\":{\"colorbar\":{\"outlinewidth\":0,\"ticks\":\"\"}},\"type\":\"scatterternary\"}],\"surface\":[{\"colorbar\":{\"outlinewidth\":0,\"ticks\":\"\"},\"colorscale\":[[0.0,\"#0d0887\"],[0.1111111111111111,\"#46039f\"],[0.2222222222222222,\"#7201a8\"],[0.3333333333333333,\"#9c179e\"],[0.4444444444444444,\"#bd3786\"],[0.5555555555555556,\"#d8576b\"],[0.6666666666666666,\"#ed7953\"],[0.7777777777777778,\"#fb9f3a\"],[0.8888888888888888,\"#fdca26\"],[1.0,\"#f0f921\"]],\"type\":\"surface\"}],\"table\":[{\"cells\":{\"fill\":{\"color\":\"#EBF0F8\"},\"line\":{\"color\":\"white\"}},\"header\":{\"fill\":{\"color\":\"#C8D4E3\"},\"line\":{\"color\":\"white\"}},\"type\":\"table\"}]},\"layout\":{\"annotationdefaults\":{\"arrowcolor\":\"#2a3f5f\",\"arrowhead\":0,\"arrowwidth\":1},\"autotypenumbers\":\"strict\",\"coloraxis\":{\"colorbar\":{\"outlinewidth\":0,\"ticks\":\"\"}},\"colorscale\":{\"diverging\":[[0,\"#8e0152\"],[0.1,\"#c51b7d\"],[0.2,\"#de77ae\"],[0.3,\"#f1b6da\"],[0.4,\"#fde0ef\"],[0.5,\"#f7f7f7\"],[0.6,\"#e6f5d0\"],[0.7,\"#b8e186\"],[0.8,\"#7fbc41\"],[0.9,\"#4d9221\"],[1,\"#276419\"]],\"sequential\":[[0.0,\"#0d0887\"],[0.1111111111111111,\"#46039f\"],[0.2222222222222222,\"#7201a8\"],[0.3333333333333333,\"#9c179e\"],[0.4444444444444444,\"#bd3786\"],[0.5555555555555556,\"#d8576b\"],[0.6666666666666666,\"#ed7953\"],[0.7777777777777778,\"#fb9f3a\"],[0.8888888888888888,\"#fdca26\"],[1.0,\"#f0f921\"]],\"sequentialminus\":[[0.0,\"#0d0887\"],[0.1111111111111111,\"#46039f\"],[0.2222222222222222,\"#7201a8\"],[0.3333333333333333,\"#9c179e\"],[0.4444444444444444,\"#bd3786\"],[0.5555555555555556,\"#d8576b\"],[0.6666666666666666,\"#ed7953\"],[0.7777777777777778,\"#fb9f3a\"],[0.8888888888888888,\"#fdca26\"],[1.0,\"#f0f921\"]]},\"colorway\":[\"#636efa\",\"#EF553B\",\"#00cc96\",\"#ab63fa\",\"#FFA15A\",\"#19d3f3\",\"#FF6692\",\"#B6E880\",\"#FF97FF\",\"#FECB52\"],\"font\":{\"color\":\"#2a3f5f\"},\"geo\":{\"bgcolor\":\"white\",\"lakecolor\":\"white\",\"landcolor\":\"#E5ECF6\",\"showlakes\":true,\"showland\":true,\"subunitcolor\":\"white\"},\"hoverlabel\":{\"align\":\"left\"},\"hovermode\":\"closest\",\"mapbox\":{\"style\":\"light\"},\"paper_bgcolor\":\"white\",\"plot_bgcolor\":\"#E5ECF6\",\"polar\":{\"angularaxis\":{\"gridcolor\":\"white\",\"linecolor\":\"white\",\"ticks\":\"\"},\"bgcolor\":\"#E5ECF6\",\"radialaxis\":{\"gridcolor\":\"white\",\"linecolor\":\"white\",\"ticks\":\"\"}},\"scene\":{\"xaxis\":{\"backgroundcolor\":\"#E5ECF6\",\"gridcolor\":\"white\",\"gridwidth\":2,\"linecolor\":\"white\",\"showbackground\":true,\"ticks\":\"\",\"zerolinecolor\":\"white\"},\"yaxis\":{\"backgroundcolor\":\"#E5ECF6\",\"gridcolor\":\"white\",\"gridwidth\":2,\"linecolor\":\"white\",\"showbackground\":true,\"ticks\":\"\",\"zerolinecolor\":\"white\"},\"zaxis\":{\"backgroundcolor\":\"#E5ECF6\",\"gridcolor\":\"white\",\"gridwidth\":2,\"linecolor\":\"white\",\"showbackground\":true,\"ticks\":\"\",\"zerolinecolor\":\"white\"}},\"shapedefaults\":{\"line\":{\"color\":\"#2a3f5f\"}},\"ternary\":{\"aaxis\":{\"gridcolor\":\"white\",\"linecolor\":\"white\",\"ticks\":\"\"},\"baxis\":{\"gridcolor\":\"white\",\"linecolor\":\"white\",\"ticks\":\"\"},\"bgcolor\":\"#E5ECF6\",\"caxis\":{\"gridcolor\":\"white\",\"linecolor\":\"white\",\"ticks\":\"\"}},\"title\":{\"x\":0.05},\"xaxis\":{\"automargin\":true,\"gridcolor\":\"white\",\"linecolor\":\"white\",\"ticks\":\"\",\"title\":{\"standoff\":15},\"zerolinecolor\":\"white\",\"zerolinewidth\":2},\"yaxis\":{\"automargin\":true,\"gridcolor\":\"white\",\"linecolor\":\"white\",\"ticks\":\"\",\"title\":{\"standoff\":15},\"zerolinecolor\":\"white\",\"zerolinewidth\":2}}},\"title\":{\"font\":{\"color\":\"#4D5663\"}},\"xaxis\":{\"gridcolor\":\"#E1E5ED\",\"showgrid\":true,\"tickfont\":{\"color\":\"#4D5663\"},\"title\":{\"font\":{\"color\":\"#4D5663\"},\"text\":\"\"},\"zerolinecolor\":\"#E1E5ED\"},\"yaxis\":{\"gridcolor\":\"#E1E5ED\",\"showgrid\":true,\"tickfont\":{\"color\":\"#4D5663\"},\"title\":{\"font\":{\"color\":\"#4D5663\"},\"text\":\"\"},\"zerolinecolor\":\"#E1E5ED\"}},                        {\"showLink\": true, \"linkText\": \"Export to plot.ly\", \"plotlyServerURL\": \"https://plot.ly\", \"responsive\": true}                    ).then(function(){\n",
       "                            \n",
       "var gd = document.getElementById('bb5f2175-248b-4a01-b82c-5f2a299dac8a');\n",
       "var x = new MutationObserver(function (mutations, observer) {{\n",
       "        var display = window.getComputedStyle(gd).display;\n",
       "        if (!display || display === 'none') {{\n",
       "            console.log([gd, 'removed!']);\n",
       "            Plotly.purge(gd);\n",
       "            observer.disconnect();\n",
       "        }}\n",
       "}});\n",
       "\n",
       "// Listen for the removal of the full notebook cells\n",
       "var notebookContainer = gd.closest('#notebook-container');\n",
       "if (notebookContainer) {{\n",
       "    x.observe(notebookContainer, {childList: true});\n",
       "}}\n",
       "\n",
       "// Listen for the clearing of the current output cell\n",
       "var outputEl = gd.closest('.output');\n",
       "if (outputEl) {{\n",
       "    x.observe(outputEl, {childList: true});\n",
       "}}\n",
       "\n",
       "                        })                };                });            </script>        </div>"
      ]
     },
     "metadata": {},
     "output_type": "display_data"
    }
   ],
   "source": [
    "df2.iplot(kind='bar',x='Category',y='Values')"
   ]
  },
  {
   "cell_type": "code",
   "execution_count": 30,
   "id": "bc2d0faa",
   "metadata": {},
   "outputs": [
    {
     "data": {
      "application/vnd.plotly.v1+json": {
       "config": {
        "linkText": "Export to plot.ly",
        "plotlyServerURL": "https://plot.ly",
        "showLink": true
       },
       "data": [
        {
         "marker": {
          "color": "rgba(255, 153, 51, 0.6)",
          "line": {
           "color": "rgba(255, 153, 51, 1.0)",
           "width": 1
          }
         },
         "name": "None",
         "orientation": "v",
         "text": "",
         "type": "bar",
         "x": [
          "A",
          "B",
          "C",
          "D"
         ],
         "y": [
          100,
          100,
          100,
          100
         ]
        }
       ],
       "layout": {
        "legend": {
         "bgcolor": "#F5F6F9",
         "font": {
          "color": "#4D5663"
         }
        },
        "paper_bgcolor": "#F5F6F9",
        "plot_bgcolor": "#F5F6F9",
        "template": {
         "data": {
          "bar": [
           {
            "error_x": {
             "color": "#2a3f5f"
            },
            "error_y": {
             "color": "#2a3f5f"
            },
            "marker": {
             "line": {
              "color": "#E5ECF6",
              "width": 0.5
             },
             "pattern": {
              "fillmode": "overlay",
              "size": 10,
              "solidity": 0.2
             }
            },
            "type": "bar"
           }
          ],
          "barpolar": [
           {
            "marker": {
             "line": {
              "color": "#E5ECF6",
              "width": 0.5
             },
             "pattern": {
              "fillmode": "overlay",
              "size": 10,
              "solidity": 0.2
             }
            },
            "type": "barpolar"
           }
          ],
          "carpet": [
           {
            "aaxis": {
             "endlinecolor": "#2a3f5f",
             "gridcolor": "white",
             "linecolor": "white",
             "minorgridcolor": "white",
             "startlinecolor": "#2a3f5f"
            },
            "baxis": {
             "endlinecolor": "#2a3f5f",
             "gridcolor": "white",
             "linecolor": "white",
             "minorgridcolor": "white",
             "startlinecolor": "#2a3f5f"
            },
            "type": "carpet"
           }
          ],
          "choropleth": [
           {
            "colorbar": {
             "outlinewidth": 0,
             "ticks": ""
            },
            "type": "choropleth"
           }
          ],
          "contour": [
           {
            "colorbar": {
             "outlinewidth": 0,
             "ticks": ""
            },
            "colorscale": [
             [
              0,
              "#0d0887"
             ],
             [
              0.1111111111111111,
              "#46039f"
             ],
             [
              0.2222222222222222,
              "#7201a8"
             ],
             [
              0.3333333333333333,
              "#9c179e"
             ],
             [
              0.4444444444444444,
              "#bd3786"
             ],
             [
              0.5555555555555556,
              "#d8576b"
             ],
             [
              0.6666666666666666,
              "#ed7953"
             ],
             [
              0.7777777777777778,
              "#fb9f3a"
             ],
             [
              0.8888888888888888,
              "#fdca26"
             ],
             [
              1,
              "#f0f921"
             ]
            ],
            "type": "contour"
           }
          ],
          "contourcarpet": [
           {
            "colorbar": {
             "outlinewidth": 0,
             "ticks": ""
            },
            "type": "contourcarpet"
           }
          ],
          "heatmap": [
           {
            "colorbar": {
             "outlinewidth": 0,
             "ticks": ""
            },
            "colorscale": [
             [
              0,
              "#0d0887"
             ],
             [
              0.1111111111111111,
              "#46039f"
             ],
             [
              0.2222222222222222,
              "#7201a8"
             ],
             [
              0.3333333333333333,
              "#9c179e"
             ],
             [
              0.4444444444444444,
              "#bd3786"
             ],
             [
              0.5555555555555556,
              "#d8576b"
             ],
             [
              0.6666666666666666,
              "#ed7953"
             ],
             [
              0.7777777777777778,
              "#fb9f3a"
             ],
             [
              0.8888888888888888,
              "#fdca26"
             ],
             [
              1,
              "#f0f921"
             ]
            ],
            "type": "heatmap"
           }
          ],
          "heatmapgl": [
           {
            "colorbar": {
             "outlinewidth": 0,
             "ticks": ""
            },
            "colorscale": [
             [
              0,
              "#0d0887"
             ],
             [
              0.1111111111111111,
              "#46039f"
             ],
             [
              0.2222222222222222,
              "#7201a8"
             ],
             [
              0.3333333333333333,
              "#9c179e"
             ],
             [
              0.4444444444444444,
              "#bd3786"
             ],
             [
              0.5555555555555556,
              "#d8576b"
             ],
             [
              0.6666666666666666,
              "#ed7953"
             ],
             [
              0.7777777777777778,
              "#fb9f3a"
             ],
             [
              0.8888888888888888,
              "#fdca26"
             ],
             [
              1,
              "#f0f921"
             ]
            ],
            "type": "heatmapgl"
           }
          ],
          "histogram": [
           {
            "marker": {
             "pattern": {
              "fillmode": "overlay",
              "size": 10,
              "solidity": 0.2
             }
            },
            "type": "histogram"
           }
          ],
          "histogram2d": [
           {
            "colorbar": {
             "outlinewidth": 0,
             "ticks": ""
            },
            "colorscale": [
             [
              0,
              "#0d0887"
             ],
             [
              0.1111111111111111,
              "#46039f"
             ],
             [
              0.2222222222222222,
              "#7201a8"
             ],
             [
              0.3333333333333333,
              "#9c179e"
             ],
             [
              0.4444444444444444,
              "#bd3786"
             ],
             [
              0.5555555555555556,
              "#d8576b"
             ],
             [
              0.6666666666666666,
              "#ed7953"
             ],
             [
              0.7777777777777778,
              "#fb9f3a"
             ],
             [
              0.8888888888888888,
              "#fdca26"
             ],
             [
              1,
              "#f0f921"
             ]
            ],
            "type": "histogram2d"
           }
          ],
          "histogram2dcontour": [
           {
            "colorbar": {
             "outlinewidth": 0,
             "ticks": ""
            },
            "colorscale": [
             [
              0,
              "#0d0887"
             ],
             [
              0.1111111111111111,
              "#46039f"
             ],
             [
              0.2222222222222222,
              "#7201a8"
             ],
             [
              0.3333333333333333,
              "#9c179e"
             ],
             [
              0.4444444444444444,
              "#bd3786"
             ],
             [
              0.5555555555555556,
              "#d8576b"
             ],
             [
              0.6666666666666666,
              "#ed7953"
             ],
             [
              0.7777777777777778,
              "#fb9f3a"
             ],
             [
              0.8888888888888888,
              "#fdca26"
             ],
             [
              1,
              "#f0f921"
             ]
            ],
            "type": "histogram2dcontour"
           }
          ],
          "mesh3d": [
           {
            "colorbar": {
             "outlinewidth": 0,
             "ticks": ""
            },
            "type": "mesh3d"
           }
          ],
          "parcoords": [
           {
            "line": {
             "colorbar": {
              "outlinewidth": 0,
              "ticks": ""
             }
            },
            "type": "parcoords"
           }
          ],
          "pie": [
           {
            "automargin": true,
            "type": "pie"
           }
          ],
          "scatter": [
           {
            "marker": {
             "colorbar": {
              "outlinewidth": 0,
              "ticks": ""
             }
            },
            "type": "scatter"
           }
          ],
          "scatter3d": [
           {
            "line": {
             "colorbar": {
              "outlinewidth": 0,
              "ticks": ""
             }
            },
            "marker": {
             "colorbar": {
              "outlinewidth": 0,
              "ticks": ""
             }
            },
            "type": "scatter3d"
           }
          ],
          "scattercarpet": [
           {
            "marker": {
             "colorbar": {
              "outlinewidth": 0,
              "ticks": ""
             }
            },
            "type": "scattercarpet"
           }
          ],
          "scattergeo": [
           {
            "marker": {
             "colorbar": {
              "outlinewidth": 0,
              "ticks": ""
             }
            },
            "type": "scattergeo"
           }
          ],
          "scattergl": [
           {
            "marker": {
             "colorbar": {
              "outlinewidth": 0,
              "ticks": ""
             }
            },
            "type": "scattergl"
           }
          ],
          "scattermapbox": [
           {
            "marker": {
             "colorbar": {
              "outlinewidth": 0,
              "ticks": ""
             }
            },
            "type": "scattermapbox"
           }
          ],
          "scatterpolar": [
           {
            "marker": {
             "colorbar": {
              "outlinewidth": 0,
              "ticks": ""
             }
            },
            "type": "scatterpolar"
           }
          ],
          "scatterpolargl": [
           {
            "marker": {
             "colorbar": {
              "outlinewidth": 0,
              "ticks": ""
             }
            },
            "type": "scatterpolargl"
           }
          ],
          "scatterternary": [
           {
            "marker": {
             "colorbar": {
              "outlinewidth": 0,
              "ticks": ""
             }
            },
            "type": "scatterternary"
           }
          ],
          "surface": [
           {
            "colorbar": {
             "outlinewidth": 0,
             "ticks": ""
            },
            "colorscale": [
             [
              0,
              "#0d0887"
             ],
             [
              0.1111111111111111,
              "#46039f"
             ],
             [
              0.2222222222222222,
              "#7201a8"
             ],
             [
              0.3333333333333333,
              "#9c179e"
             ],
             [
              0.4444444444444444,
              "#bd3786"
             ],
             [
              0.5555555555555556,
              "#d8576b"
             ],
             [
              0.6666666666666666,
              "#ed7953"
             ],
             [
              0.7777777777777778,
              "#fb9f3a"
             ],
             [
              0.8888888888888888,
              "#fdca26"
             ],
             [
              1,
              "#f0f921"
             ]
            ],
            "type": "surface"
           }
          ],
          "table": [
           {
            "cells": {
             "fill": {
              "color": "#EBF0F8"
             },
             "line": {
              "color": "white"
             }
            },
            "header": {
             "fill": {
              "color": "#C8D4E3"
             },
             "line": {
              "color": "white"
             }
            },
            "type": "table"
           }
          ]
         },
         "layout": {
          "annotationdefaults": {
           "arrowcolor": "#2a3f5f",
           "arrowhead": 0,
           "arrowwidth": 1
          },
          "autotypenumbers": "strict",
          "coloraxis": {
           "colorbar": {
            "outlinewidth": 0,
            "ticks": ""
           }
          },
          "colorscale": {
           "diverging": [
            [
             0,
             "#8e0152"
            ],
            [
             0.1,
             "#c51b7d"
            ],
            [
             0.2,
             "#de77ae"
            ],
            [
             0.3,
             "#f1b6da"
            ],
            [
             0.4,
             "#fde0ef"
            ],
            [
             0.5,
             "#f7f7f7"
            ],
            [
             0.6,
             "#e6f5d0"
            ],
            [
             0.7,
             "#b8e186"
            ],
            [
             0.8,
             "#7fbc41"
            ],
            [
             0.9,
             "#4d9221"
            ],
            [
             1,
             "#276419"
            ]
           ],
           "sequential": [
            [
             0,
             "#0d0887"
            ],
            [
             0.1111111111111111,
             "#46039f"
            ],
            [
             0.2222222222222222,
             "#7201a8"
            ],
            [
             0.3333333333333333,
             "#9c179e"
            ],
            [
             0.4444444444444444,
             "#bd3786"
            ],
            [
             0.5555555555555556,
             "#d8576b"
            ],
            [
             0.6666666666666666,
             "#ed7953"
            ],
            [
             0.7777777777777778,
             "#fb9f3a"
            ],
            [
             0.8888888888888888,
             "#fdca26"
            ],
            [
             1,
             "#f0f921"
            ]
           ],
           "sequentialminus": [
            [
             0,
             "#0d0887"
            ],
            [
             0.1111111111111111,
             "#46039f"
            ],
            [
             0.2222222222222222,
             "#7201a8"
            ],
            [
             0.3333333333333333,
             "#9c179e"
            ],
            [
             0.4444444444444444,
             "#bd3786"
            ],
            [
             0.5555555555555556,
             "#d8576b"
            ],
            [
             0.6666666666666666,
             "#ed7953"
            ],
            [
             0.7777777777777778,
             "#fb9f3a"
            ],
            [
             0.8888888888888888,
             "#fdca26"
            ],
            [
             1,
             "#f0f921"
            ]
           ]
          },
          "colorway": [
           "#636efa",
           "#EF553B",
           "#00cc96",
           "#ab63fa",
           "#FFA15A",
           "#19d3f3",
           "#FF6692",
           "#B6E880",
           "#FF97FF",
           "#FECB52"
          ],
          "font": {
           "color": "#2a3f5f"
          },
          "geo": {
           "bgcolor": "white",
           "lakecolor": "white",
           "landcolor": "#E5ECF6",
           "showlakes": true,
           "showland": true,
           "subunitcolor": "white"
          },
          "hoverlabel": {
           "align": "left"
          },
          "hovermode": "closest",
          "mapbox": {
           "style": "light"
          },
          "paper_bgcolor": "white",
          "plot_bgcolor": "#E5ECF6",
          "polar": {
           "angularaxis": {
            "gridcolor": "white",
            "linecolor": "white",
            "ticks": ""
           },
           "bgcolor": "#E5ECF6",
           "radialaxis": {
            "gridcolor": "white",
            "linecolor": "white",
            "ticks": ""
           }
          },
          "scene": {
           "xaxis": {
            "backgroundcolor": "#E5ECF6",
            "gridcolor": "white",
            "gridwidth": 2,
            "linecolor": "white",
            "showbackground": true,
            "ticks": "",
            "zerolinecolor": "white"
           },
           "yaxis": {
            "backgroundcolor": "#E5ECF6",
            "gridcolor": "white",
            "gridwidth": 2,
            "linecolor": "white",
            "showbackground": true,
            "ticks": "",
            "zerolinecolor": "white"
           },
           "zaxis": {
            "backgroundcolor": "#E5ECF6",
            "gridcolor": "white",
            "gridwidth": 2,
            "linecolor": "white",
            "showbackground": true,
            "ticks": "",
            "zerolinecolor": "white"
           }
          },
          "shapedefaults": {
           "line": {
            "color": "#2a3f5f"
           }
          },
          "ternary": {
           "aaxis": {
            "gridcolor": "white",
            "linecolor": "white",
            "ticks": ""
           },
           "baxis": {
            "gridcolor": "white",
            "linecolor": "white",
            "ticks": ""
           },
           "bgcolor": "#E5ECF6",
           "caxis": {
            "gridcolor": "white",
            "linecolor": "white",
            "ticks": ""
           }
          },
          "title": {
           "x": 0.05
          },
          "xaxis": {
           "automargin": true,
           "gridcolor": "white",
           "linecolor": "white",
           "ticks": "",
           "title": {
            "standoff": 15
           },
           "zerolinecolor": "white",
           "zerolinewidth": 2
          },
          "yaxis": {
           "automargin": true,
           "gridcolor": "white",
           "linecolor": "white",
           "ticks": "",
           "title": {
            "standoff": 15
           },
           "zerolinecolor": "white",
           "zerolinewidth": 2
          }
         }
        },
        "title": {
         "font": {
          "color": "#4D5663"
         }
        },
        "xaxis": {
         "gridcolor": "#E1E5ED",
         "showgrid": true,
         "tickfont": {
          "color": "#4D5663"
         },
         "title": {
          "font": {
           "color": "#4D5663"
          },
          "text": ""
         },
         "zerolinecolor": "#E1E5ED"
        },
        "yaxis": {
         "gridcolor": "#E1E5ED",
         "showgrid": true,
         "tickfont": {
          "color": "#4D5663"
         },
         "title": {
          "font": {
           "color": "#4D5663"
          },
          "text": ""
         },
         "zerolinecolor": "#E1E5ED"
        }
       }
      },
      "text/html": [
       "<div>                            <div id=\"04c26857-3684-4bf5-89be-4a7cf5251f94\" class=\"plotly-graph-div\" style=\"height:525px; width:100%;\"></div>            <script type=\"text/javascript\">                require([\"plotly\"], function(Plotly) {                    window.PLOTLYENV=window.PLOTLYENV || {};\n",
       "                    window.PLOTLYENV.BASE_URL='https://plot.ly';                                    if (document.getElementById(\"04c26857-3684-4bf5-89be-4a7cf5251f94\")) {                    Plotly.newPlot(                        \"04c26857-3684-4bf5-89be-4a7cf5251f94\",                        [{\"marker\":{\"color\":\"rgba(255, 153, 51, 0.6)\",\"line\":{\"color\":\"rgba(255, 153, 51, 1.0)\",\"width\":1}},\"name\":\"None\",\"orientation\":\"v\",\"text\":\"\",\"x\":[\"A\",\"B\",\"C\",\"D\"],\"y\":[100,100,100,100],\"type\":\"bar\"}],                        {\"legend\":{\"bgcolor\":\"#F5F6F9\",\"font\":{\"color\":\"#4D5663\"}},\"paper_bgcolor\":\"#F5F6F9\",\"plot_bgcolor\":\"#F5F6F9\",\"template\":{\"data\":{\"barpolar\":[{\"marker\":{\"line\":{\"color\":\"#E5ECF6\",\"width\":0.5},\"pattern\":{\"fillmode\":\"overlay\",\"size\":10,\"solidity\":0.2}},\"type\":\"barpolar\"}],\"bar\":[{\"error_x\":{\"color\":\"#2a3f5f\"},\"error_y\":{\"color\":\"#2a3f5f\"},\"marker\":{\"line\":{\"color\":\"#E5ECF6\",\"width\":0.5},\"pattern\":{\"fillmode\":\"overlay\",\"size\":10,\"solidity\":0.2}},\"type\":\"bar\"}],\"carpet\":[{\"aaxis\":{\"endlinecolor\":\"#2a3f5f\",\"gridcolor\":\"white\",\"linecolor\":\"white\",\"minorgridcolor\":\"white\",\"startlinecolor\":\"#2a3f5f\"},\"baxis\":{\"endlinecolor\":\"#2a3f5f\",\"gridcolor\":\"white\",\"linecolor\":\"white\",\"minorgridcolor\":\"white\",\"startlinecolor\":\"#2a3f5f\"},\"type\":\"carpet\"}],\"choropleth\":[{\"colorbar\":{\"outlinewidth\":0,\"ticks\":\"\"},\"type\":\"choropleth\"}],\"contourcarpet\":[{\"colorbar\":{\"outlinewidth\":0,\"ticks\":\"\"},\"type\":\"contourcarpet\"}],\"contour\":[{\"colorbar\":{\"outlinewidth\":0,\"ticks\":\"\"},\"colorscale\":[[0.0,\"#0d0887\"],[0.1111111111111111,\"#46039f\"],[0.2222222222222222,\"#7201a8\"],[0.3333333333333333,\"#9c179e\"],[0.4444444444444444,\"#bd3786\"],[0.5555555555555556,\"#d8576b\"],[0.6666666666666666,\"#ed7953\"],[0.7777777777777778,\"#fb9f3a\"],[0.8888888888888888,\"#fdca26\"],[1.0,\"#f0f921\"]],\"type\":\"contour\"}],\"heatmapgl\":[{\"colorbar\":{\"outlinewidth\":0,\"ticks\":\"\"},\"colorscale\":[[0.0,\"#0d0887\"],[0.1111111111111111,\"#46039f\"],[0.2222222222222222,\"#7201a8\"],[0.3333333333333333,\"#9c179e\"],[0.4444444444444444,\"#bd3786\"],[0.5555555555555556,\"#d8576b\"],[0.6666666666666666,\"#ed7953\"],[0.7777777777777778,\"#fb9f3a\"],[0.8888888888888888,\"#fdca26\"],[1.0,\"#f0f921\"]],\"type\":\"heatmapgl\"}],\"heatmap\":[{\"colorbar\":{\"outlinewidth\":0,\"ticks\":\"\"},\"colorscale\":[[0.0,\"#0d0887\"],[0.1111111111111111,\"#46039f\"],[0.2222222222222222,\"#7201a8\"],[0.3333333333333333,\"#9c179e\"],[0.4444444444444444,\"#bd3786\"],[0.5555555555555556,\"#d8576b\"],[0.6666666666666666,\"#ed7953\"],[0.7777777777777778,\"#fb9f3a\"],[0.8888888888888888,\"#fdca26\"],[1.0,\"#f0f921\"]],\"type\":\"heatmap\"}],\"histogram2dcontour\":[{\"colorbar\":{\"outlinewidth\":0,\"ticks\":\"\"},\"colorscale\":[[0.0,\"#0d0887\"],[0.1111111111111111,\"#46039f\"],[0.2222222222222222,\"#7201a8\"],[0.3333333333333333,\"#9c179e\"],[0.4444444444444444,\"#bd3786\"],[0.5555555555555556,\"#d8576b\"],[0.6666666666666666,\"#ed7953\"],[0.7777777777777778,\"#fb9f3a\"],[0.8888888888888888,\"#fdca26\"],[1.0,\"#f0f921\"]],\"type\":\"histogram2dcontour\"}],\"histogram2d\":[{\"colorbar\":{\"outlinewidth\":0,\"ticks\":\"\"},\"colorscale\":[[0.0,\"#0d0887\"],[0.1111111111111111,\"#46039f\"],[0.2222222222222222,\"#7201a8\"],[0.3333333333333333,\"#9c179e\"],[0.4444444444444444,\"#bd3786\"],[0.5555555555555556,\"#d8576b\"],[0.6666666666666666,\"#ed7953\"],[0.7777777777777778,\"#fb9f3a\"],[0.8888888888888888,\"#fdca26\"],[1.0,\"#f0f921\"]],\"type\":\"histogram2d\"}],\"histogram\":[{\"marker\":{\"pattern\":{\"fillmode\":\"overlay\",\"size\":10,\"solidity\":0.2}},\"type\":\"histogram\"}],\"mesh3d\":[{\"colorbar\":{\"outlinewidth\":0,\"ticks\":\"\"},\"type\":\"mesh3d\"}],\"parcoords\":[{\"line\":{\"colorbar\":{\"outlinewidth\":0,\"ticks\":\"\"}},\"type\":\"parcoords\"}],\"pie\":[{\"automargin\":true,\"type\":\"pie\"}],\"scatter3d\":[{\"line\":{\"colorbar\":{\"outlinewidth\":0,\"ticks\":\"\"}},\"marker\":{\"colorbar\":{\"outlinewidth\":0,\"ticks\":\"\"}},\"type\":\"scatter3d\"}],\"scattercarpet\":[{\"marker\":{\"colorbar\":{\"outlinewidth\":0,\"ticks\":\"\"}},\"type\":\"scattercarpet\"}],\"scattergeo\":[{\"marker\":{\"colorbar\":{\"outlinewidth\":0,\"ticks\":\"\"}},\"type\":\"scattergeo\"}],\"scattergl\":[{\"marker\":{\"colorbar\":{\"outlinewidth\":0,\"ticks\":\"\"}},\"type\":\"scattergl\"}],\"scattermapbox\":[{\"marker\":{\"colorbar\":{\"outlinewidth\":0,\"ticks\":\"\"}},\"type\":\"scattermapbox\"}],\"scatterpolargl\":[{\"marker\":{\"colorbar\":{\"outlinewidth\":0,\"ticks\":\"\"}},\"type\":\"scatterpolargl\"}],\"scatterpolar\":[{\"marker\":{\"colorbar\":{\"outlinewidth\":0,\"ticks\":\"\"}},\"type\":\"scatterpolar\"}],\"scatter\":[{\"marker\":{\"colorbar\":{\"outlinewidth\":0,\"ticks\":\"\"}},\"type\":\"scatter\"}],\"scatterternary\":[{\"marker\":{\"colorbar\":{\"outlinewidth\":0,\"ticks\":\"\"}},\"type\":\"scatterternary\"}],\"surface\":[{\"colorbar\":{\"outlinewidth\":0,\"ticks\":\"\"},\"colorscale\":[[0.0,\"#0d0887\"],[0.1111111111111111,\"#46039f\"],[0.2222222222222222,\"#7201a8\"],[0.3333333333333333,\"#9c179e\"],[0.4444444444444444,\"#bd3786\"],[0.5555555555555556,\"#d8576b\"],[0.6666666666666666,\"#ed7953\"],[0.7777777777777778,\"#fb9f3a\"],[0.8888888888888888,\"#fdca26\"],[1.0,\"#f0f921\"]],\"type\":\"surface\"}],\"table\":[{\"cells\":{\"fill\":{\"color\":\"#EBF0F8\"},\"line\":{\"color\":\"white\"}},\"header\":{\"fill\":{\"color\":\"#C8D4E3\"},\"line\":{\"color\":\"white\"}},\"type\":\"table\"}]},\"layout\":{\"annotationdefaults\":{\"arrowcolor\":\"#2a3f5f\",\"arrowhead\":0,\"arrowwidth\":1},\"autotypenumbers\":\"strict\",\"coloraxis\":{\"colorbar\":{\"outlinewidth\":0,\"ticks\":\"\"}},\"colorscale\":{\"diverging\":[[0,\"#8e0152\"],[0.1,\"#c51b7d\"],[0.2,\"#de77ae\"],[0.3,\"#f1b6da\"],[0.4,\"#fde0ef\"],[0.5,\"#f7f7f7\"],[0.6,\"#e6f5d0\"],[0.7,\"#b8e186\"],[0.8,\"#7fbc41\"],[0.9,\"#4d9221\"],[1,\"#276419\"]],\"sequential\":[[0.0,\"#0d0887\"],[0.1111111111111111,\"#46039f\"],[0.2222222222222222,\"#7201a8\"],[0.3333333333333333,\"#9c179e\"],[0.4444444444444444,\"#bd3786\"],[0.5555555555555556,\"#d8576b\"],[0.6666666666666666,\"#ed7953\"],[0.7777777777777778,\"#fb9f3a\"],[0.8888888888888888,\"#fdca26\"],[1.0,\"#f0f921\"]],\"sequentialminus\":[[0.0,\"#0d0887\"],[0.1111111111111111,\"#46039f\"],[0.2222222222222222,\"#7201a8\"],[0.3333333333333333,\"#9c179e\"],[0.4444444444444444,\"#bd3786\"],[0.5555555555555556,\"#d8576b\"],[0.6666666666666666,\"#ed7953\"],[0.7777777777777778,\"#fb9f3a\"],[0.8888888888888888,\"#fdca26\"],[1.0,\"#f0f921\"]]},\"colorway\":[\"#636efa\",\"#EF553B\",\"#00cc96\",\"#ab63fa\",\"#FFA15A\",\"#19d3f3\",\"#FF6692\",\"#B6E880\",\"#FF97FF\",\"#FECB52\"],\"font\":{\"color\":\"#2a3f5f\"},\"geo\":{\"bgcolor\":\"white\",\"lakecolor\":\"white\",\"landcolor\":\"#E5ECF6\",\"showlakes\":true,\"showland\":true,\"subunitcolor\":\"white\"},\"hoverlabel\":{\"align\":\"left\"},\"hovermode\":\"closest\",\"mapbox\":{\"style\":\"light\"},\"paper_bgcolor\":\"white\",\"plot_bgcolor\":\"#E5ECF6\",\"polar\":{\"angularaxis\":{\"gridcolor\":\"white\",\"linecolor\":\"white\",\"ticks\":\"\"},\"bgcolor\":\"#E5ECF6\",\"radialaxis\":{\"gridcolor\":\"white\",\"linecolor\":\"white\",\"ticks\":\"\"}},\"scene\":{\"xaxis\":{\"backgroundcolor\":\"#E5ECF6\",\"gridcolor\":\"white\",\"gridwidth\":2,\"linecolor\":\"white\",\"showbackground\":true,\"ticks\":\"\",\"zerolinecolor\":\"white\"},\"yaxis\":{\"backgroundcolor\":\"#E5ECF6\",\"gridcolor\":\"white\",\"gridwidth\":2,\"linecolor\":\"white\",\"showbackground\":true,\"ticks\":\"\",\"zerolinecolor\":\"white\"},\"zaxis\":{\"backgroundcolor\":\"#E5ECF6\",\"gridcolor\":\"white\",\"gridwidth\":2,\"linecolor\":\"white\",\"showbackground\":true,\"ticks\":\"\",\"zerolinecolor\":\"white\"}},\"shapedefaults\":{\"line\":{\"color\":\"#2a3f5f\"}},\"ternary\":{\"aaxis\":{\"gridcolor\":\"white\",\"linecolor\":\"white\",\"ticks\":\"\"},\"baxis\":{\"gridcolor\":\"white\",\"linecolor\":\"white\",\"ticks\":\"\"},\"bgcolor\":\"#E5ECF6\",\"caxis\":{\"gridcolor\":\"white\",\"linecolor\":\"white\",\"ticks\":\"\"}},\"title\":{\"x\":0.05},\"xaxis\":{\"automargin\":true,\"gridcolor\":\"white\",\"linecolor\":\"white\",\"ticks\":\"\",\"title\":{\"standoff\":15},\"zerolinecolor\":\"white\",\"zerolinewidth\":2},\"yaxis\":{\"automargin\":true,\"gridcolor\":\"white\",\"linecolor\":\"white\",\"ticks\":\"\",\"title\":{\"standoff\":15},\"zerolinecolor\":\"white\",\"zerolinewidth\":2}}},\"title\":{\"font\":{\"color\":\"#4D5663\"}},\"xaxis\":{\"gridcolor\":\"#E1E5ED\",\"showgrid\":true,\"tickfont\":{\"color\":\"#4D5663\"},\"title\":{\"font\":{\"color\":\"#4D5663\"},\"text\":\"\"},\"zerolinecolor\":\"#E1E5ED\"},\"yaxis\":{\"gridcolor\":\"#E1E5ED\",\"showgrid\":true,\"tickfont\":{\"color\":\"#4D5663\"},\"title\":{\"font\":{\"color\":\"#4D5663\"},\"text\":\"\"},\"zerolinecolor\":\"#E1E5ED\"}},                        {\"showLink\": true, \"linkText\": \"Export to plot.ly\", \"plotlyServerURL\": \"https://plot.ly\", \"responsive\": true}                    ).then(function(){\n",
       "                            \n",
       "var gd = document.getElementById('04c26857-3684-4bf5-89be-4a7cf5251f94');\n",
       "var x = new MutationObserver(function (mutations, observer) {{\n",
       "        var display = window.getComputedStyle(gd).display;\n",
       "        if (!display || display === 'none') {{\n",
       "            console.log([gd, 'removed!']);\n",
       "            Plotly.purge(gd);\n",
       "            observer.disconnect();\n",
       "        }}\n",
       "}});\n",
       "\n",
       "// Listen for the removal of the full notebook cells\n",
       "var notebookContainer = gd.closest('#notebook-container');\n",
       "if (notebookContainer) {{\n",
       "    x.observe(notebookContainer, {childList: true});\n",
       "}}\n",
       "\n",
       "// Listen for the clearing of the current output cell\n",
       "var outputEl = gd.closest('.output');\n",
       "if (outputEl) {{\n",
       "    x.observe(outputEl, {childList: true});\n",
       "}}\n",
       "\n",
       "                        })                };                });            </script>        </div>"
      ]
     },
     "metadata": {},
     "output_type": "display_data"
    }
   ],
   "source": [
    "df.count().iplot(kind='bar')"
   ]
  },
  {
   "cell_type": "code",
   "execution_count": 31,
   "id": "eaee280f",
   "metadata": {},
   "outputs": [
    {
     "data": {
      "application/vnd.plotly.v1+json": {
       "config": {
        "linkText": "Export to plot.ly",
        "plotlyServerURL": "https://plot.ly",
        "showLink": true
       },
       "data": [
        {
         "boxpoints": false,
         "line": {
          "width": 1.3
         },
         "marker": {
          "color": "rgba(255, 153, 51, 1.0)"
         },
         "name": "A",
         "orientation": "v",
         "type": "box",
         "y": [
          -0.4109093102308704,
          -0.6680817820818279,
          0.05775923832079972,
          -0.6514336458680554,
          0.1879160682510293,
          -1.5293464668323662,
          -0.7035269259572434,
          0.023874540007682573,
          -1.2420547200599625,
          -0.8913683621133949,
          -0.6031304983078408,
          -0.8971715581521588,
          -0.29873531501808204,
          -0.28277215845111825,
          -1.4601949181242078,
          1.163711752718257,
          -0.7985458453409878,
          0.08419460658711336,
          1.2072287151035508,
          1.9355081654923072,
          -0.6280104709091505,
          -0.11194954662160747,
          -0.46415689977609864,
          0.3291395359396691,
          0.14336269881245645,
          -0.7973487302419948,
          1.0136391070213626,
          0.3224826399220911,
          -0.5610315946764224,
          -1.6376822225509424,
          1.5133491313233511,
          0.6252725756740378,
          0.5218653597362931,
          0.2630145983301274,
          -0.6226571769603287,
          -0.47641810789885125,
          -0.7063513142606132,
          0.32684887117824307,
          0.25245635094777025,
          -0.8921088220372825,
          0.7720682190244831,
          0.7238641471940175,
          0.645126076541708,
          0.4224070507208162,
          0.3990528172515247,
          -0.19255958104133045,
          -0.16973807979033237,
          -1.0196829077704666,
          -0.3561857988413979,
          -0.7547498424893713,
          1.756962952184945,
          0.15851227706927512,
          -1.0982456629275492,
          0.6028423362735791,
          -1.2172834983904086,
          0.3151964776503683,
          -1.2224736248236194,
          -0.7734229575896733,
          0.15439661925788561,
          0.7886502050544204,
          -0.054443877521405636,
          -1.0636641048785411,
          -1.5786802485725135,
          0.24813035938868763,
          0.13326047954542491,
          0.07900652650890297,
          -1.943265097469249,
          0.709653153466894,
          -0.8004575677107629,
          -0.30651500422656586,
          -0.034793194861766734,
          1.1239760186483012,
          1.9534360839432174,
          0.5855191473663935,
          -0.259033322409612,
          -0.721568816715617,
          0.4048799040916817,
          0.11292732199272669,
          -1.1339821084354054,
          1.608866407723626,
          0.3501736145293892,
          -0.0486340739793143,
          -1.4939842393253115,
          0.33891543148322023,
          -0.14837108037915506,
          1.1431096103520344,
          1.2732128325788084,
          1.6707652434185216,
          -2.034802087108342,
          2.0454869644421496,
          1.928114298449317,
          0.2810486247432109,
          -0.4763850985641512,
          1.0107331745913726,
          0.7183992254469621,
          1.3199201637244298,
          0.19377943979431222,
          1.9858006393975318,
          1.7289541996275624,
          0.6000972414545752
         ]
        },
        {
         "boxpoints": false,
         "line": {
          "width": 1.3
         },
         "marker": {
          "color": "rgba(55, 128, 191, 1.0)"
         },
         "name": "B",
         "orientation": "v",
         "type": "box",
         "y": [
          0.10816164100433416,
          -0.3786534181130173,
          1.5976396520152203,
          0.1032715254968819,
          -1.0523808578431146,
          -1.3088111247109417,
          -0.33138160694857144,
          0.37586959252393326,
          -1.4329191920134556,
          -1.4057862776414278,
          -0.958400047246091,
          0.29084537770773083,
          0.9935937445178882,
          0.04105070648099821,
          0.5408640784206419,
          -0.9264630427696732,
          1.4446133920139053,
          0.7294940924538716,
          -0.4350365321345761,
          -0.1325933169696886,
          -1.014905041321066,
          0.7142426252203482,
          -0.12624792117550834,
          -0.20886899913259685,
          -0.046122503270438174,
          1.0930917336122041,
          -1.9021098919909627,
          2.1923805539824883,
          -0.35159360601604234,
          -0.7840171652005669,
          0.8013260813444979,
          1.6926231238423597,
          -1.8736638856094856,
          0.9707936279502669,
          -0.8946838001113273,
          0.33970862607059893,
          -0.5793816991296611,
          -0.0878888415438686,
          0.5123180202062559,
          -0.3354586266014048,
          -0.3056932331079285,
          1.3570012723760245,
          0.6501788955149052,
          -1.0229202856165147,
          0.6832670623300489,
          0.2169408672987547,
          -1.5775271330361818,
          -1.1246690529362395,
          0.3921142234135686,
          -0.06959219198977895,
          -0.019901343076002487,
          -0.9668266661131473,
          -0.21099683075611467,
          0.0016865579778136469,
          -1.0802687843471324,
          -1.380237864945273,
          -0.8039152050946438,
          0.6777652747804674,
          -1.7942162924799367,
          0.1874497630076612,
          0.21428526335199233,
          -1.6590885500531578,
          1.2292836165571877,
          -0.6313361485055891,
          0.20526898451701303,
          0.3019628958045808,
          1.2893815216553828,
          -1.8503476945459718,
          -1.1624137925900286,
          1.631894818283364,
          0.9137215970033604,
          0.42810273476173266,
          0.8383367822100516,
          0.03283408639287403,
          -0.6946136149052397,
          -0.08070742997934244,
          0.9486270898985858,
          -0.48974504059853097,
          0.7877660225946301,
          0.18205642024037574,
          -0.6270525171109232,
          -0.17486983897035135,
          -0.2569599069188726,
          0.4022673291283338,
          0.8893958001444761,
          0.7051969265018811,
          -0.2024575094870895,
          0.30361544203123086,
          -1.0690070760292605,
          0.4953857590622099,
          0.19672688600027186,
          -0.17632377424528928,
          -0.23475071514999798,
          0.997698475693314,
          -1.1669540486953198,
          -0.052800403148813194,
          0.1882279243514494,
          -0.7566964384387022,
          -0.5873806894237157,
          -1.0723913490493764
         ]
        },
        {
         "boxpoints": false,
         "line": {
          "width": 1.3
         },
         "marker": {
          "color": "rgba(50, 171, 96, 1.0)"
         },
         "name": "C",
         "orientation": "v",
         "type": "box",
         "y": [
          0.6292199526679915,
          0.2929975958833482,
          -0.04399087398141044,
          1.8565600602641612,
          -1.2750659235998933,
          -1.049310108114289,
          1.9150270383061618,
          1.2508697290216244,
          -0.5254373553532199,
          -1.1019207468324796,
          -0.4329980546454029,
          1.5572239614417513,
          -1.3055844181806395,
          -0.4122575973258354,
          -0.059880586166883694,
          -0.47306812677550375,
          1.0024038262962716,
          -0.2432530029414284,
          -0.2951196417216509,
          1.6108749570387297,
          -1.5277743237948516,
          0.24462827579148685,
          -0.6665963461968138,
          0.09551308916636889,
          -0.09167893838598215,
          -1.7815453817378082,
          -0.1521106133048684,
          1.9074572705422066,
          0.4592082613846467,
          0.7013091669194846,
          -0.8686089844179359,
          -0.4606390682252071,
          -0.41777249430301205,
          -0.4468941776179165,
          0.7094928970608115,
          -1.8603953409392233,
          0.6259187872531098,
          -1.6286731061977948,
          2.8201400374716687,
          -0.35503682144368226,
          -0.6396143178399654,
          -0.9654900282468604,
          -0.7210403553227229,
          -0.6778528111808548,
          -0.8847323338846561,
          -0.9563799305227523,
          1.3186129140745864,
          -1.0833389277669125,
          0.7146015938507903,
          -0.31692372500085386,
          0.5854408697615356,
          1.2266989977152263,
          -1.0876940047938335,
          -0.9545415176685021,
          0.4763777966834708,
          -0.028328147521990005,
          -0.9197802043519457,
          0.13369488535274207,
          -0.4346147152741386,
          -0.09219737012285296,
          -0.7442747895254129,
          -0.7800885356867993,
          -0.864528126951913,
          0.6156847853724774,
          0.6350478989525027,
          1.1944567500749472,
          0.09291026971232177,
          0.7978863435209216,
          0.717641604863803,
          0.3854021360752175,
          0.3871364856255502,
          1.0392309824169004,
          1.549422603605397,
          -0.9488235117675193,
          -0.10664617217844946,
          1.1281754295273083,
          1.532435448350468,
          0.8819094595511779,
          0.1588660200001338,
          -0.5538468056190365,
          -0.37835010238664146,
          0.8956307051416974,
          0.19210774446947973,
          0.3834669957770598,
          -0.002075523221641867,
          0.27647527640105485,
          -0.8078457966107676,
          -0.625341205482638,
          -0.83781920073781,
          0.0560368705472754,
          0.1432941566584118,
          -0.6215519009327086,
          -1.0108129007264421,
          0.003988253626526684,
          0.2757826690179561,
          -1.037282373787344,
          0.34299228025201184,
          -0.6033296064640993,
          1.6771847452732258,
          0.44518449248506753
         ]
        },
        {
         "boxpoints": false,
         "line": {
          "width": 1.3
         },
         "marker": {
          "color": "rgba(128, 0, 128, 1.0)"
         },
         "name": "D",
         "orientation": "v",
         "type": "box",
         "y": [
          -0.2773990390535875,
          -0.9181041820757111,
          -0.41695629787385136,
          0.3827797226044483,
          -1.7529933819530048,
          -0.7319625831080484,
          1.4867018549006927,
          1.4055835724351409,
          -0.8797716270422287,
          -0.596827049706759,
          0.8340313907663897,
          -0.04131531686530541,
          0.2599453428632096,
          -0.35726414646242105,
          1.2361542295277679,
          1.3454372740488802,
          -1.155284847160972,
          0.11560833073118736,
          1.0558476438294202,
          -0.09164539514816725,
          -0.07911103570471797,
          1.1298889292742882,
          1.0352534697805038,
          -0.5858686004334468,
          0.14702066966153676,
          0.7605378490231398,
          -0.2552446105455089,
          -2.531500870988131,
          -0.8151349614877484,
          -0.2015920797760861,
          -0.6773298355951781,
          -1.3697672350745784,
          0.09724331004694353,
          1.7011717963836774,
          -0.030937274832516556,
          0.5124910062389977,
          -0.45372901552669687,
          1.4482513486968667,
          1.9864055381472516,
          0.47522855192344204,
          0.4711856833597885,
          -1.8754888555936464,
          -2.1016106118736566,
          0.2693124651984568,
          0.45905685517626954,
          -0.40013306632258494,
          -1.1029866317352701,
          -0.8791067595006858,
          1.125635571527008,
          -2.3090732309185467,
          -0.8671350211320249,
          -1.342651525726852,
          0.022234185168456856,
          0.20139942607211828,
          -0.47147121341422843,
          0.504291600657643,
          -0.9166485195474732,
          0.6108027432860413,
          0.2046306319276693,
          -0.6785135228570527,
          -1.07186737499892,
          -1.1518117084162274,
          -1.1436522440035626,
          -0.9993470396308715,
          -0.12937160832678654,
          -1.178372039958786,
          0.19379575597871537,
          -0.9662038361824906,
          -0.437705018982611,
          -0.4323631505102849,
          0.248041241346058,
          0.2086791810129593,
          0.5929908589326623,
          -0.8536784616145044,
          -1.533101667308894,
          0.2424214860866842,
          0.9891233030383795,
          -0.4729289590102262,
          -0.014199955982915258,
          -2.5391709558181286,
          1.0268442751763005,
          0.045259851007036715,
          -0.9384052331484877,
          -0.2879938722489163,
          -0.9855361670308552,
          -0.637514850487326,
          1.0132347629902343,
          -1.0409569892865955,
          -0.12075479236245626,
          -0.677539436649919,
          -0.7277110810439337,
          0.2694823710565056,
          0.06787476222041963,
          0.5257354912022104,
          -0.9570659202256759,
          -0.5281540085218507,
          -1.0549750869942036,
          -0.018657045318151287,
          0.68417135330098,
          -0.8579511401360297
         ]
        }
       ],
       "layout": {
        "legend": {
         "bgcolor": "#F5F6F9",
         "font": {
          "color": "#4D5663"
         }
        },
        "paper_bgcolor": "#F5F6F9",
        "plot_bgcolor": "#F5F6F9",
        "template": {
         "data": {
          "bar": [
           {
            "error_x": {
             "color": "#2a3f5f"
            },
            "error_y": {
             "color": "#2a3f5f"
            },
            "marker": {
             "line": {
              "color": "#E5ECF6",
              "width": 0.5
             },
             "pattern": {
              "fillmode": "overlay",
              "size": 10,
              "solidity": 0.2
             }
            },
            "type": "bar"
           }
          ],
          "barpolar": [
           {
            "marker": {
             "line": {
              "color": "#E5ECF6",
              "width": 0.5
             },
             "pattern": {
              "fillmode": "overlay",
              "size": 10,
              "solidity": 0.2
             }
            },
            "type": "barpolar"
           }
          ],
          "carpet": [
           {
            "aaxis": {
             "endlinecolor": "#2a3f5f",
             "gridcolor": "white",
             "linecolor": "white",
             "minorgridcolor": "white",
             "startlinecolor": "#2a3f5f"
            },
            "baxis": {
             "endlinecolor": "#2a3f5f",
             "gridcolor": "white",
             "linecolor": "white",
             "minorgridcolor": "white",
             "startlinecolor": "#2a3f5f"
            },
            "type": "carpet"
           }
          ],
          "choropleth": [
           {
            "colorbar": {
             "outlinewidth": 0,
             "ticks": ""
            },
            "type": "choropleth"
           }
          ],
          "contour": [
           {
            "colorbar": {
             "outlinewidth": 0,
             "ticks": ""
            },
            "colorscale": [
             [
              0,
              "#0d0887"
             ],
             [
              0.1111111111111111,
              "#46039f"
             ],
             [
              0.2222222222222222,
              "#7201a8"
             ],
             [
              0.3333333333333333,
              "#9c179e"
             ],
             [
              0.4444444444444444,
              "#bd3786"
             ],
             [
              0.5555555555555556,
              "#d8576b"
             ],
             [
              0.6666666666666666,
              "#ed7953"
             ],
             [
              0.7777777777777778,
              "#fb9f3a"
             ],
             [
              0.8888888888888888,
              "#fdca26"
             ],
             [
              1,
              "#f0f921"
             ]
            ],
            "type": "contour"
           }
          ],
          "contourcarpet": [
           {
            "colorbar": {
             "outlinewidth": 0,
             "ticks": ""
            },
            "type": "contourcarpet"
           }
          ],
          "heatmap": [
           {
            "colorbar": {
             "outlinewidth": 0,
             "ticks": ""
            },
            "colorscale": [
             [
              0,
              "#0d0887"
             ],
             [
              0.1111111111111111,
              "#46039f"
             ],
             [
              0.2222222222222222,
              "#7201a8"
             ],
             [
              0.3333333333333333,
              "#9c179e"
             ],
             [
              0.4444444444444444,
              "#bd3786"
             ],
             [
              0.5555555555555556,
              "#d8576b"
             ],
             [
              0.6666666666666666,
              "#ed7953"
             ],
             [
              0.7777777777777778,
              "#fb9f3a"
             ],
             [
              0.8888888888888888,
              "#fdca26"
             ],
             [
              1,
              "#f0f921"
             ]
            ],
            "type": "heatmap"
           }
          ],
          "heatmapgl": [
           {
            "colorbar": {
             "outlinewidth": 0,
             "ticks": ""
            },
            "colorscale": [
             [
              0,
              "#0d0887"
             ],
             [
              0.1111111111111111,
              "#46039f"
             ],
             [
              0.2222222222222222,
              "#7201a8"
             ],
             [
              0.3333333333333333,
              "#9c179e"
             ],
             [
              0.4444444444444444,
              "#bd3786"
             ],
             [
              0.5555555555555556,
              "#d8576b"
             ],
             [
              0.6666666666666666,
              "#ed7953"
             ],
             [
              0.7777777777777778,
              "#fb9f3a"
             ],
             [
              0.8888888888888888,
              "#fdca26"
             ],
             [
              1,
              "#f0f921"
             ]
            ],
            "type": "heatmapgl"
           }
          ],
          "histogram": [
           {
            "marker": {
             "pattern": {
              "fillmode": "overlay",
              "size": 10,
              "solidity": 0.2
             }
            },
            "type": "histogram"
           }
          ],
          "histogram2d": [
           {
            "colorbar": {
             "outlinewidth": 0,
             "ticks": ""
            },
            "colorscale": [
             [
              0,
              "#0d0887"
             ],
             [
              0.1111111111111111,
              "#46039f"
             ],
             [
              0.2222222222222222,
              "#7201a8"
             ],
             [
              0.3333333333333333,
              "#9c179e"
             ],
             [
              0.4444444444444444,
              "#bd3786"
             ],
             [
              0.5555555555555556,
              "#d8576b"
             ],
             [
              0.6666666666666666,
              "#ed7953"
             ],
             [
              0.7777777777777778,
              "#fb9f3a"
             ],
             [
              0.8888888888888888,
              "#fdca26"
             ],
             [
              1,
              "#f0f921"
             ]
            ],
            "type": "histogram2d"
           }
          ],
          "histogram2dcontour": [
           {
            "colorbar": {
             "outlinewidth": 0,
             "ticks": ""
            },
            "colorscale": [
             [
              0,
              "#0d0887"
             ],
             [
              0.1111111111111111,
              "#46039f"
             ],
             [
              0.2222222222222222,
              "#7201a8"
             ],
             [
              0.3333333333333333,
              "#9c179e"
             ],
             [
              0.4444444444444444,
              "#bd3786"
             ],
             [
              0.5555555555555556,
              "#d8576b"
             ],
             [
              0.6666666666666666,
              "#ed7953"
             ],
             [
              0.7777777777777778,
              "#fb9f3a"
             ],
             [
              0.8888888888888888,
              "#fdca26"
             ],
             [
              1,
              "#f0f921"
             ]
            ],
            "type": "histogram2dcontour"
           }
          ],
          "mesh3d": [
           {
            "colorbar": {
             "outlinewidth": 0,
             "ticks": ""
            },
            "type": "mesh3d"
           }
          ],
          "parcoords": [
           {
            "line": {
             "colorbar": {
              "outlinewidth": 0,
              "ticks": ""
             }
            },
            "type": "parcoords"
           }
          ],
          "pie": [
           {
            "automargin": true,
            "type": "pie"
           }
          ],
          "scatter": [
           {
            "marker": {
             "colorbar": {
              "outlinewidth": 0,
              "ticks": ""
             }
            },
            "type": "scatter"
           }
          ],
          "scatter3d": [
           {
            "line": {
             "colorbar": {
              "outlinewidth": 0,
              "ticks": ""
             }
            },
            "marker": {
             "colorbar": {
              "outlinewidth": 0,
              "ticks": ""
             }
            },
            "type": "scatter3d"
           }
          ],
          "scattercarpet": [
           {
            "marker": {
             "colorbar": {
              "outlinewidth": 0,
              "ticks": ""
             }
            },
            "type": "scattercarpet"
           }
          ],
          "scattergeo": [
           {
            "marker": {
             "colorbar": {
              "outlinewidth": 0,
              "ticks": ""
             }
            },
            "type": "scattergeo"
           }
          ],
          "scattergl": [
           {
            "marker": {
             "colorbar": {
              "outlinewidth": 0,
              "ticks": ""
             }
            },
            "type": "scattergl"
           }
          ],
          "scattermapbox": [
           {
            "marker": {
             "colorbar": {
              "outlinewidth": 0,
              "ticks": ""
             }
            },
            "type": "scattermapbox"
           }
          ],
          "scatterpolar": [
           {
            "marker": {
             "colorbar": {
              "outlinewidth": 0,
              "ticks": ""
             }
            },
            "type": "scatterpolar"
           }
          ],
          "scatterpolargl": [
           {
            "marker": {
             "colorbar": {
              "outlinewidth": 0,
              "ticks": ""
             }
            },
            "type": "scatterpolargl"
           }
          ],
          "scatterternary": [
           {
            "marker": {
             "colorbar": {
              "outlinewidth": 0,
              "ticks": ""
             }
            },
            "type": "scatterternary"
           }
          ],
          "surface": [
           {
            "colorbar": {
             "outlinewidth": 0,
             "ticks": ""
            },
            "colorscale": [
             [
              0,
              "#0d0887"
             ],
             [
              0.1111111111111111,
              "#46039f"
             ],
             [
              0.2222222222222222,
              "#7201a8"
             ],
             [
              0.3333333333333333,
              "#9c179e"
             ],
             [
              0.4444444444444444,
              "#bd3786"
             ],
             [
              0.5555555555555556,
              "#d8576b"
             ],
             [
              0.6666666666666666,
              "#ed7953"
             ],
             [
              0.7777777777777778,
              "#fb9f3a"
             ],
             [
              0.8888888888888888,
              "#fdca26"
             ],
             [
              1,
              "#f0f921"
             ]
            ],
            "type": "surface"
           }
          ],
          "table": [
           {
            "cells": {
             "fill": {
              "color": "#EBF0F8"
             },
             "line": {
              "color": "white"
             }
            },
            "header": {
             "fill": {
              "color": "#C8D4E3"
             },
             "line": {
              "color": "white"
             }
            },
            "type": "table"
           }
          ]
         },
         "layout": {
          "annotationdefaults": {
           "arrowcolor": "#2a3f5f",
           "arrowhead": 0,
           "arrowwidth": 1
          },
          "autotypenumbers": "strict",
          "coloraxis": {
           "colorbar": {
            "outlinewidth": 0,
            "ticks": ""
           }
          },
          "colorscale": {
           "diverging": [
            [
             0,
             "#8e0152"
            ],
            [
             0.1,
             "#c51b7d"
            ],
            [
             0.2,
             "#de77ae"
            ],
            [
             0.3,
             "#f1b6da"
            ],
            [
             0.4,
             "#fde0ef"
            ],
            [
             0.5,
             "#f7f7f7"
            ],
            [
             0.6,
             "#e6f5d0"
            ],
            [
             0.7,
             "#b8e186"
            ],
            [
             0.8,
             "#7fbc41"
            ],
            [
             0.9,
             "#4d9221"
            ],
            [
             1,
             "#276419"
            ]
           ],
           "sequential": [
            [
             0,
             "#0d0887"
            ],
            [
             0.1111111111111111,
             "#46039f"
            ],
            [
             0.2222222222222222,
             "#7201a8"
            ],
            [
             0.3333333333333333,
             "#9c179e"
            ],
            [
             0.4444444444444444,
             "#bd3786"
            ],
            [
             0.5555555555555556,
             "#d8576b"
            ],
            [
             0.6666666666666666,
             "#ed7953"
            ],
            [
             0.7777777777777778,
             "#fb9f3a"
            ],
            [
             0.8888888888888888,
             "#fdca26"
            ],
            [
             1,
             "#f0f921"
            ]
           ],
           "sequentialminus": [
            [
             0,
             "#0d0887"
            ],
            [
             0.1111111111111111,
             "#46039f"
            ],
            [
             0.2222222222222222,
             "#7201a8"
            ],
            [
             0.3333333333333333,
             "#9c179e"
            ],
            [
             0.4444444444444444,
             "#bd3786"
            ],
            [
             0.5555555555555556,
             "#d8576b"
            ],
            [
             0.6666666666666666,
             "#ed7953"
            ],
            [
             0.7777777777777778,
             "#fb9f3a"
            ],
            [
             0.8888888888888888,
             "#fdca26"
            ],
            [
             1,
             "#f0f921"
            ]
           ]
          },
          "colorway": [
           "#636efa",
           "#EF553B",
           "#00cc96",
           "#ab63fa",
           "#FFA15A",
           "#19d3f3",
           "#FF6692",
           "#B6E880",
           "#FF97FF",
           "#FECB52"
          ],
          "font": {
           "color": "#2a3f5f"
          },
          "geo": {
           "bgcolor": "white",
           "lakecolor": "white",
           "landcolor": "#E5ECF6",
           "showlakes": true,
           "showland": true,
           "subunitcolor": "white"
          },
          "hoverlabel": {
           "align": "left"
          },
          "hovermode": "closest",
          "mapbox": {
           "style": "light"
          },
          "paper_bgcolor": "white",
          "plot_bgcolor": "#E5ECF6",
          "polar": {
           "angularaxis": {
            "gridcolor": "white",
            "linecolor": "white",
            "ticks": ""
           },
           "bgcolor": "#E5ECF6",
           "radialaxis": {
            "gridcolor": "white",
            "linecolor": "white",
            "ticks": ""
           }
          },
          "scene": {
           "xaxis": {
            "backgroundcolor": "#E5ECF6",
            "gridcolor": "white",
            "gridwidth": 2,
            "linecolor": "white",
            "showbackground": true,
            "ticks": "",
            "zerolinecolor": "white"
           },
           "yaxis": {
            "backgroundcolor": "#E5ECF6",
            "gridcolor": "white",
            "gridwidth": 2,
            "linecolor": "white",
            "showbackground": true,
            "ticks": "",
            "zerolinecolor": "white"
           },
           "zaxis": {
            "backgroundcolor": "#E5ECF6",
            "gridcolor": "white",
            "gridwidth": 2,
            "linecolor": "white",
            "showbackground": true,
            "ticks": "",
            "zerolinecolor": "white"
           }
          },
          "shapedefaults": {
           "line": {
            "color": "#2a3f5f"
           }
          },
          "ternary": {
           "aaxis": {
            "gridcolor": "white",
            "linecolor": "white",
            "ticks": ""
           },
           "baxis": {
            "gridcolor": "white",
            "linecolor": "white",
            "ticks": ""
           },
           "bgcolor": "#E5ECF6",
           "caxis": {
            "gridcolor": "white",
            "linecolor": "white",
            "ticks": ""
           }
          },
          "title": {
           "x": 0.05
          },
          "xaxis": {
           "automargin": true,
           "gridcolor": "white",
           "linecolor": "white",
           "ticks": "",
           "title": {
            "standoff": 15
           },
           "zerolinecolor": "white",
           "zerolinewidth": 2
          },
          "yaxis": {
           "automargin": true,
           "gridcolor": "white",
           "linecolor": "white",
           "ticks": "",
           "title": {
            "standoff": 15
           },
           "zerolinecolor": "white",
           "zerolinewidth": 2
          }
         }
        },
        "title": {
         "font": {
          "color": "#4D5663"
         }
        },
        "xaxis": {
         "gridcolor": "#E1E5ED",
         "showgrid": true,
         "tickfont": {
          "color": "#4D5663"
         },
         "title": {
          "font": {
           "color": "#4D5663"
          },
          "text": ""
         },
         "zerolinecolor": "#E1E5ED"
        },
        "yaxis": {
         "gridcolor": "#E1E5ED",
         "showgrid": true,
         "tickfont": {
          "color": "#4D5663"
         },
         "title": {
          "font": {
           "color": "#4D5663"
          },
          "text": ""
         },
         "zerolinecolor": "#E1E5ED"
        }
       }
      },
      "text/html": [
       "<div>                            <div id=\"177162f2-5a2e-4d90-b887-30e641638213\" class=\"plotly-graph-div\" style=\"height:525px; width:100%;\"></div>            <script type=\"text/javascript\">                require([\"plotly\"], function(Plotly) {                    window.PLOTLYENV=window.PLOTLYENV || {};\n",
       "                    window.PLOTLYENV.BASE_URL='https://plot.ly';                                    if (document.getElementById(\"177162f2-5a2e-4d90-b887-30e641638213\")) {                    Plotly.newPlot(                        \"177162f2-5a2e-4d90-b887-30e641638213\",                        [{\"boxpoints\":false,\"line\":{\"width\":1.3},\"marker\":{\"color\":\"rgba(255, 153, 51, 1.0)\"},\"name\":\"A\",\"orientation\":\"v\",\"y\":[-0.4109093102308704,-0.6680817820818279,0.05775923832079972,-0.6514336458680554,0.1879160682510293,-1.5293464668323662,-0.7035269259572434,0.023874540007682573,-1.2420547200599625,-0.8913683621133949,-0.6031304983078408,-0.8971715581521588,-0.29873531501808204,-0.28277215845111825,-1.4601949181242078,1.163711752718257,-0.7985458453409878,0.08419460658711336,1.2072287151035508,1.9355081654923072,-0.6280104709091505,-0.11194954662160747,-0.46415689977609864,0.3291395359396691,0.14336269881245645,-0.7973487302419948,1.0136391070213626,0.3224826399220911,-0.5610315946764224,-1.6376822225509424,1.5133491313233511,0.6252725756740378,0.5218653597362931,0.2630145983301274,-0.6226571769603287,-0.47641810789885125,-0.7063513142606132,0.32684887117824307,0.25245635094777025,-0.8921088220372825,0.7720682190244831,0.7238641471940175,0.645126076541708,0.4224070507208162,0.3990528172515247,-0.19255958104133045,-0.16973807979033237,-1.0196829077704666,-0.3561857988413979,-0.7547498424893713,1.756962952184945,0.15851227706927512,-1.0982456629275492,0.6028423362735791,-1.2172834983904086,0.3151964776503683,-1.2224736248236194,-0.7734229575896733,0.15439661925788561,0.7886502050544204,-0.054443877521405636,-1.0636641048785411,-1.5786802485725135,0.24813035938868763,0.13326047954542491,0.07900652650890297,-1.943265097469249,0.709653153466894,-0.8004575677107629,-0.30651500422656586,-0.034793194861766734,1.1239760186483012,1.9534360839432174,0.5855191473663935,-0.259033322409612,-0.721568816715617,0.4048799040916817,0.11292732199272669,-1.1339821084354054,1.608866407723626,0.3501736145293892,-0.0486340739793143,-1.4939842393253115,0.33891543148322023,-0.14837108037915506,1.1431096103520344,1.2732128325788084,1.6707652434185216,-2.034802087108342,2.0454869644421496,1.928114298449317,0.2810486247432109,-0.4763850985641512,1.0107331745913726,0.7183992254469621,1.3199201637244298,0.19377943979431222,1.9858006393975318,1.7289541996275624,0.6000972414545752],\"type\":\"box\"},{\"boxpoints\":false,\"line\":{\"width\":1.3},\"marker\":{\"color\":\"rgba(55, 128, 191, 1.0)\"},\"name\":\"B\",\"orientation\":\"v\",\"y\":[0.10816164100433416,-0.3786534181130173,1.5976396520152203,0.1032715254968819,-1.0523808578431146,-1.3088111247109417,-0.33138160694857144,0.37586959252393326,-1.4329191920134556,-1.4057862776414278,-0.958400047246091,0.29084537770773083,0.9935937445178882,0.04105070648099821,0.5408640784206419,-0.9264630427696732,1.4446133920139053,0.7294940924538716,-0.4350365321345761,-0.1325933169696886,-1.014905041321066,0.7142426252203482,-0.12624792117550834,-0.20886899913259685,-0.046122503270438174,1.0930917336122041,-1.9021098919909627,2.1923805539824883,-0.35159360601604234,-0.7840171652005669,0.8013260813444979,1.6926231238423597,-1.8736638856094856,0.9707936279502669,-0.8946838001113273,0.33970862607059893,-0.5793816991296611,-0.0878888415438686,0.5123180202062559,-0.3354586266014048,-0.3056932331079285,1.3570012723760245,0.6501788955149052,-1.0229202856165147,0.6832670623300489,0.2169408672987547,-1.5775271330361818,-1.1246690529362395,0.3921142234135686,-0.06959219198977895,-0.019901343076002487,-0.9668266661131473,-0.21099683075611467,0.0016865579778136469,-1.0802687843471324,-1.380237864945273,-0.8039152050946438,0.6777652747804674,-1.7942162924799367,0.1874497630076612,0.21428526335199233,-1.6590885500531578,1.2292836165571877,-0.6313361485055891,0.20526898451701303,0.3019628958045808,1.2893815216553828,-1.8503476945459718,-1.1624137925900286,1.631894818283364,0.9137215970033604,0.42810273476173266,0.8383367822100516,0.03283408639287403,-0.6946136149052397,-0.08070742997934244,0.9486270898985858,-0.48974504059853097,0.7877660225946301,0.18205642024037574,-0.6270525171109232,-0.17486983897035135,-0.2569599069188726,0.4022673291283338,0.8893958001444761,0.7051969265018811,-0.2024575094870895,0.30361544203123086,-1.0690070760292605,0.4953857590622099,0.19672688600027186,-0.17632377424528928,-0.23475071514999798,0.997698475693314,-1.1669540486953198,-0.052800403148813194,0.1882279243514494,-0.7566964384387022,-0.5873806894237157,-1.0723913490493764],\"type\":\"box\"},{\"boxpoints\":false,\"line\":{\"width\":1.3},\"marker\":{\"color\":\"rgba(50, 171, 96, 1.0)\"},\"name\":\"C\",\"orientation\":\"v\",\"y\":[0.6292199526679915,0.2929975958833482,-0.04399087398141044,1.8565600602641612,-1.2750659235998933,-1.049310108114289,1.9150270383061618,1.2508697290216244,-0.5254373553532199,-1.1019207468324796,-0.4329980546454029,1.5572239614417513,-1.3055844181806395,-0.4122575973258354,-0.059880586166883694,-0.47306812677550375,1.0024038262962716,-0.2432530029414284,-0.2951196417216509,1.6108749570387297,-1.5277743237948516,0.24462827579148685,-0.6665963461968138,0.09551308916636889,-0.09167893838598215,-1.7815453817378082,-0.1521106133048684,1.9074572705422066,0.4592082613846467,0.7013091669194846,-0.8686089844179359,-0.4606390682252071,-0.41777249430301205,-0.4468941776179165,0.7094928970608115,-1.8603953409392233,0.6259187872531098,-1.6286731061977948,2.8201400374716687,-0.35503682144368226,-0.6396143178399654,-0.9654900282468604,-0.7210403553227229,-0.6778528111808548,-0.8847323338846561,-0.9563799305227523,1.3186129140745864,-1.0833389277669125,0.7146015938507903,-0.31692372500085386,0.5854408697615356,1.2266989977152263,-1.0876940047938335,-0.9545415176685021,0.4763777966834708,-0.028328147521990005,-0.9197802043519457,0.13369488535274207,-0.4346147152741386,-0.09219737012285296,-0.7442747895254129,-0.7800885356867993,-0.864528126951913,0.6156847853724774,0.6350478989525027,1.1944567500749472,0.09291026971232177,0.7978863435209216,0.717641604863803,0.3854021360752175,0.3871364856255502,1.0392309824169004,1.549422603605397,-0.9488235117675193,-0.10664617217844946,1.1281754295273083,1.532435448350468,0.8819094595511779,0.1588660200001338,-0.5538468056190365,-0.37835010238664146,0.8956307051416974,0.19210774446947973,0.3834669957770598,-0.002075523221641867,0.27647527640105485,-0.8078457966107676,-0.625341205482638,-0.83781920073781,0.0560368705472754,0.1432941566584118,-0.6215519009327086,-1.0108129007264421,0.003988253626526684,0.2757826690179561,-1.037282373787344,0.34299228025201184,-0.6033296064640993,1.6771847452732258,0.44518449248506753],\"type\":\"box\"},{\"boxpoints\":false,\"line\":{\"width\":1.3},\"marker\":{\"color\":\"rgba(128, 0, 128, 1.0)\"},\"name\":\"D\",\"orientation\":\"v\",\"y\":[-0.2773990390535875,-0.9181041820757111,-0.41695629787385136,0.3827797226044483,-1.7529933819530048,-0.7319625831080484,1.4867018549006927,1.4055835724351409,-0.8797716270422287,-0.596827049706759,0.8340313907663897,-0.04131531686530541,0.2599453428632096,-0.35726414646242105,1.2361542295277679,1.3454372740488802,-1.155284847160972,0.11560833073118736,1.0558476438294202,-0.09164539514816725,-0.07911103570471797,1.1298889292742882,1.0352534697805038,-0.5858686004334468,0.14702066966153676,0.7605378490231398,-0.2552446105455089,-2.531500870988131,-0.8151349614877484,-0.2015920797760861,-0.6773298355951781,-1.3697672350745784,0.09724331004694353,1.7011717963836774,-0.030937274832516556,0.5124910062389977,-0.45372901552669687,1.4482513486968667,1.9864055381472516,0.47522855192344204,0.4711856833597885,-1.8754888555936464,-2.1016106118736566,0.2693124651984568,0.45905685517626954,-0.40013306632258494,-1.1029866317352701,-0.8791067595006858,1.125635571527008,-2.3090732309185467,-0.8671350211320249,-1.342651525726852,0.022234185168456856,0.20139942607211828,-0.47147121341422843,0.504291600657643,-0.9166485195474732,0.6108027432860413,0.2046306319276693,-0.6785135228570527,-1.07186737499892,-1.1518117084162274,-1.1436522440035626,-0.9993470396308715,-0.12937160832678654,-1.178372039958786,0.19379575597871537,-0.9662038361824906,-0.437705018982611,-0.4323631505102849,0.248041241346058,0.2086791810129593,0.5929908589326623,-0.8536784616145044,-1.533101667308894,0.2424214860866842,0.9891233030383795,-0.4729289590102262,-0.014199955982915258,-2.5391709558181286,1.0268442751763005,0.045259851007036715,-0.9384052331484877,-0.2879938722489163,-0.9855361670308552,-0.637514850487326,1.0132347629902343,-1.0409569892865955,-0.12075479236245626,-0.677539436649919,-0.7277110810439337,0.2694823710565056,0.06787476222041963,0.5257354912022104,-0.9570659202256759,-0.5281540085218507,-1.0549750869942036,-0.018657045318151287,0.68417135330098,-0.8579511401360297],\"type\":\"box\"}],                        {\"legend\":{\"bgcolor\":\"#F5F6F9\",\"font\":{\"color\":\"#4D5663\"}},\"paper_bgcolor\":\"#F5F6F9\",\"plot_bgcolor\":\"#F5F6F9\",\"template\":{\"data\":{\"barpolar\":[{\"marker\":{\"line\":{\"color\":\"#E5ECF6\",\"width\":0.5},\"pattern\":{\"fillmode\":\"overlay\",\"size\":10,\"solidity\":0.2}},\"type\":\"barpolar\"}],\"bar\":[{\"error_x\":{\"color\":\"#2a3f5f\"},\"error_y\":{\"color\":\"#2a3f5f\"},\"marker\":{\"line\":{\"color\":\"#E5ECF6\",\"width\":0.5},\"pattern\":{\"fillmode\":\"overlay\",\"size\":10,\"solidity\":0.2}},\"type\":\"bar\"}],\"carpet\":[{\"aaxis\":{\"endlinecolor\":\"#2a3f5f\",\"gridcolor\":\"white\",\"linecolor\":\"white\",\"minorgridcolor\":\"white\",\"startlinecolor\":\"#2a3f5f\"},\"baxis\":{\"endlinecolor\":\"#2a3f5f\",\"gridcolor\":\"white\",\"linecolor\":\"white\",\"minorgridcolor\":\"white\",\"startlinecolor\":\"#2a3f5f\"},\"type\":\"carpet\"}],\"choropleth\":[{\"colorbar\":{\"outlinewidth\":0,\"ticks\":\"\"},\"type\":\"choropleth\"}],\"contourcarpet\":[{\"colorbar\":{\"outlinewidth\":0,\"ticks\":\"\"},\"type\":\"contourcarpet\"}],\"contour\":[{\"colorbar\":{\"outlinewidth\":0,\"ticks\":\"\"},\"colorscale\":[[0.0,\"#0d0887\"],[0.1111111111111111,\"#46039f\"],[0.2222222222222222,\"#7201a8\"],[0.3333333333333333,\"#9c179e\"],[0.4444444444444444,\"#bd3786\"],[0.5555555555555556,\"#d8576b\"],[0.6666666666666666,\"#ed7953\"],[0.7777777777777778,\"#fb9f3a\"],[0.8888888888888888,\"#fdca26\"],[1.0,\"#f0f921\"]],\"type\":\"contour\"}],\"heatmapgl\":[{\"colorbar\":{\"outlinewidth\":0,\"ticks\":\"\"},\"colorscale\":[[0.0,\"#0d0887\"],[0.1111111111111111,\"#46039f\"],[0.2222222222222222,\"#7201a8\"],[0.3333333333333333,\"#9c179e\"],[0.4444444444444444,\"#bd3786\"],[0.5555555555555556,\"#d8576b\"],[0.6666666666666666,\"#ed7953\"],[0.7777777777777778,\"#fb9f3a\"],[0.8888888888888888,\"#fdca26\"],[1.0,\"#f0f921\"]],\"type\":\"heatmapgl\"}],\"heatmap\":[{\"colorbar\":{\"outlinewidth\":0,\"ticks\":\"\"},\"colorscale\":[[0.0,\"#0d0887\"],[0.1111111111111111,\"#46039f\"],[0.2222222222222222,\"#7201a8\"],[0.3333333333333333,\"#9c179e\"],[0.4444444444444444,\"#bd3786\"],[0.5555555555555556,\"#d8576b\"],[0.6666666666666666,\"#ed7953\"],[0.7777777777777778,\"#fb9f3a\"],[0.8888888888888888,\"#fdca26\"],[1.0,\"#f0f921\"]],\"type\":\"heatmap\"}],\"histogram2dcontour\":[{\"colorbar\":{\"outlinewidth\":0,\"ticks\":\"\"},\"colorscale\":[[0.0,\"#0d0887\"],[0.1111111111111111,\"#46039f\"],[0.2222222222222222,\"#7201a8\"],[0.3333333333333333,\"#9c179e\"],[0.4444444444444444,\"#bd3786\"],[0.5555555555555556,\"#d8576b\"],[0.6666666666666666,\"#ed7953\"],[0.7777777777777778,\"#fb9f3a\"],[0.8888888888888888,\"#fdca26\"],[1.0,\"#f0f921\"]],\"type\":\"histogram2dcontour\"}],\"histogram2d\":[{\"colorbar\":{\"outlinewidth\":0,\"ticks\":\"\"},\"colorscale\":[[0.0,\"#0d0887\"],[0.1111111111111111,\"#46039f\"],[0.2222222222222222,\"#7201a8\"],[0.3333333333333333,\"#9c179e\"],[0.4444444444444444,\"#bd3786\"],[0.5555555555555556,\"#d8576b\"],[0.6666666666666666,\"#ed7953\"],[0.7777777777777778,\"#fb9f3a\"],[0.8888888888888888,\"#fdca26\"],[1.0,\"#f0f921\"]],\"type\":\"histogram2d\"}],\"histogram\":[{\"marker\":{\"pattern\":{\"fillmode\":\"overlay\",\"size\":10,\"solidity\":0.2}},\"type\":\"histogram\"}],\"mesh3d\":[{\"colorbar\":{\"outlinewidth\":0,\"ticks\":\"\"},\"type\":\"mesh3d\"}],\"parcoords\":[{\"line\":{\"colorbar\":{\"outlinewidth\":0,\"ticks\":\"\"}},\"type\":\"parcoords\"}],\"pie\":[{\"automargin\":true,\"type\":\"pie\"}],\"scatter3d\":[{\"line\":{\"colorbar\":{\"outlinewidth\":0,\"ticks\":\"\"}},\"marker\":{\"colorbar\":{\"outlinewidth\":0,\"ticks\":\"\"}},\"type\":\"scatter3d\"}],\"scattercarpet\":[{\"marker\":{\"colorbar\":{\"outlinewidth\":0,\"ticks\":\"\"}},\"type\":\"scattercarpet\"}],\"scattergeo\":[{\"marker\":{\"colorbar\":{\"outlinewidth\":0,\"ticks\":\"\"}},\"type\":\"scattergeo\"}],\"scattergl\":[{\"marker\":{\"colorbar\":{\"outlinewidth\":0,\"ticks\":\"\"}},\"type\":\"scattergl\"}],\"scattermapbox\":[{\"marker\":{\"colorbar\":{\"outlinewidth\":0,\"ticks\":\"\"}},\"type\":\"scattermapbox\"}],\"scatterpolargl\":[{\"marker\":{\"colorbar\":{\"outlinewidth\":0,\"ticks\":\"\"}},\"type\":\"scatterpolargl\"}],\"scatterpolar\":[{\"marker\":{\"colorbar\":{\"outlinewidth\":0,\"ticks\":\"\"}},\"type\":\"scatterpolar\"}],\"scatter\":[{\"marker\":{\"colorbar\":{\"outlinewidth\":0,\"ticks\":\"\"}},\"type\":\"scatter\"}],\"scatterternary\":[{\"marker\":{\"colorbar\":{\"outlinewidth\":0,\"ticks\":\"\"}},\"type\":\"scatterternary\"}],\"surface\":[{\"colorbar\":{\"outlinewidth\":0,\"ticks\":\"\"},\"colorscale\":[[0.0,\"#0d0887\"],[0.1111111111111111,\"#46039f\"],[0.2222222222222222,\"#7201a8\"],[0.3333333333333333,\"#9c179e\"],[0.4444444444444444,\"#bd3786\"],[0.5555555555555556,\"#d8576b\"],[0.6666666666666666,\"#ed7953\"],[0.7777777777777778,\"#fb9f3a\"],[0.8888888888888888,\"#fdca26\"],[1.0,\"#f0f921\"]],\"type\":\"surface\"}],\"table\":[{\"cells\":{\"fill\":{\"color\":\"#EBF0F8\"},\"line\":{\"color\":\"white\"}},\"header\":{\"fill\":{\"color\":\"#C8D4E3\"},\"line\":{\"color\":\"white\"}},\"type\":\"table\"}]},\"layout\":{\"annotationdefaults\":{\"arrowcolor\":\"#2a3f5f\",\"arrowhead\":0,\"arrowwidth\":1},\"autotypenumbers\":\"strict\",\"coloraxis\":{\"colorbar\":{\"outlinewidth\":0,\"ticks\":\"\"}},\"colorscale\":{\"diverging\":[[0,\"#8e0152\"],[0.1,\"#c51b7d\"],[0.2,\"#de77ae\"],[0.3,\"#f1b6da\"],[0.4,\"#fde0ef\"],[0.5,\"#f7f7f7\"],[0.6,\"#e6f5d0\"],[0.7,\"#b8e186\"],[0.8,\"#7fbc41\"],[0.9,\"#4d9221\"],[1,\"#276419\"]],\"sequential\":[[0.0,\"#0d0887\"],[0.1111111111111111,\"#46039f\"],[0.2222222222222222,\"#7201a8\"],[0.3333333333333333,\"#9c179e\"],[0.4444444444444444,\"#bd3786\"],[0.5555555555555556,\"#d8576b\"],[0.6666666666666666,\"#ed7953\"],[0.7777777777777778,\"#fb9f3a\"],[0.8888888888888888,\"#fdca26\"],[1.0,\"#f0f921\"]],\"sequentialminus\":[[0.0,\"#0d0887\"],[0.1111111111111111,\"#46039f\"],[0.2222222222222222,\"#7201a8\"],[0.3333333333333333,\"#9c179e\"],[0.4444444444444444,\"#bd3786\"],[0.5555555555555556,\"#d8576b\"],[0.6666666666666666,\"#ed7953\"],[0.7777777777777778,\"#fb9f3a\"],[0.8888888888888888,\"#fdca26\"],[1.0,\"#f0f921\"]]},\"colorway\":[\"#636efa\",\"#EF553B\",\"#00cc96\",\"#ab63fa\",\"#FFA15A\",\"#19d3f3\",\"#FF6692\",\"#B6E880\",\"#FF97FF\",\"#FECB52\"],\"font\":{\"color\":\"#2a3f5f\"},\"geo\":{\"bgcolor\":\"white\",\"lakecolor\":\"white\",\"landcolor\":\"#E5ECF6\",\"showlakes\":true,\"showland\":true,\"subunitcolor\":\"white\"},\"hoverlabel\":{\"align\":\"left\"},\"hovermode\":\"closest\",\"mapbox\":{\"style\":\"light\"},\"paper_bgcolor\":\"white\",\"plot_bgcolor\":\"#E5ECF6\",\"polar\":{\"angularaxis\":{\"gridcolor\":\"white\",\"linecolor\":\"white\",\"ticks\":\"\"},\"bgcolor\":\"#E5ECF6\",\"radialaxis\":{\"gridcolor\":\"white\",\"linecolor\":\"white\",\"ticks\":\"\"}},\"scene\":{\"xaxis\":{\"backgroundcolor\":\"#E5ECF6\",\"gridcolor\":\"white\",\"gridwidth\":2,\"linecolor\":\"white\",\"showbackground\":true,\"ticks\":\"\",\"zerolinecolor\":\"white\"},\"yaxis\":{\"backgroundcolor\":\"#E5ECF6\",\"gridcolor\":\"white\",\"gridwidth\":2,\"linecolor\":\"white\",\"showbackground\":true,\"ticks\":\"\",\"zerolinecolor\":\"white\"},\"zaxis\":{\"backgroundcolor\":\"#E5ECF6\",\"gridcolor\":\"white\",\"gridwidth\":2,\"linecolor\":\"white\",\"showbackground\":true,\"ticks\":\"\",\"zerolinecolor\":\"white\"}},\"shapedefaults\":{\"line\":{\"color\":\"#2a3f5f\"}},\"ternary\":{\"aaxis\":{\"gridcolor\":\"white\",\"linecolor\":\"white\",\"ticks\":\"\"},\"baxis\":{\"gridcolor\":\"white\",\"linecolor\":\"white\",\"ticks\":\"\"},\"bgcolor\":\"#E5ECF6\",\"caxis\":{\"gridcolor\":\"white\",\"linecolor\":\"white\",\"ticks\":\"\"}},\"title\":{\"x\":0.05},\"xaxis\":{\"automargin\":true,\"gridcolor\":\"white\",\"linecolor\":\"white\",\"ticks\":\"\",\"title\":{\"standoff\":15},\"zerolinecolor\":\"white\",\"zerolinewidth\":2},\"yaxis\":{\"automargin\":true,\"gridcolor\":\"white\",\"linecolor\":\"white\",\"ticks\":\"\",\"title\":{\"standoff\":15},\"zerolinecolor\":\"white\",\"zerolinewidth\":2}}},\"title\":{\"font\":{\"color\":\"#4D5663\"}},\"xaxis\":{\"gridcolor\":\"#E1E5ED\",\"showgrid\":true,\"tickfont\":{\"color\":\"#4D5663\"},\"title\":{\"font\":{\"color\":\"#4D5663\"},\"text\":\"\"},\"zerolinecolor\":\"#E1E5ED\"},\"yaxis\":{\"gridcolor\":\"#E1E5ED\",\"showgrid\":true,\"tickfont\":{\"color\":\"#4D5663\"},\"title\":{\"font\":{\"color\":\"#4D5663\"},\"text\":\"\"},\"zerolinecolor\":\"#E1E5ED\"}},                        {\"showLink\": true, \"linkText\": \"Export to plot.ly\", \"plotlyServerURL\": \"https://plot.ly\", \"responsive\": true}                    ).then(function(){\n",
       "                            \n",
       "var gd = document.getElementById('177162f2-5a2e-4d90-b887-30e641638213');\n",
       "var x = new MutationObserver(function (mutations, observer) {{\n",
       "        var display = window.getComputedStyle(gd).display;\n",
       "        if (!display || display === 'none') {{\n",
       "            console.log([gd, 'removed!']);\n",
       "            Plotly.purge(gd);\n",
       "            observer.disconnect();\n",
       "        }}\n",
       "}});\n",
       "\n",
       "// Listen for the removal of the full notebook cells\n",
       "var notebookContainer = gd.closest('#notebook-container');\n",
       "if (notebookContainer) {{\n",
       "    x.observe(notebookContainer, {childList: true});\n",
       "}}\n",
       "\n",
       "// Listen for the clearing of the current output cell\n",
       "var outputEl = gd.closest('.output');\n",
       "if (outputEl) {{\n",
       "    x.observe(outputEl, {childList: true});\n",
       "}}\n",
       "\n",
       "                        })                };                });            </script>        </div>"
      ]
     },
     "metadata": {},
     "output_type": "display_data"
    }
   ],
   "source": [
    "df.iplot(kind='box')"
   ]
  },
  {
   "cell_type": "code",
   "execution_count": 33,
   "id": "5d5ba7ee",
   "metadata": {},
   "outputs": [],
   "source": [
    "df3 = pd.DataFrame({'x':[1,2,3,4,5],'y':[10,20,30,20,10],'z':[500,400,300,200,100]})"
   ]
  },
  {
   "cell_type": "code",
   "execution_count": 35,
   "id": "93f76272",
   "metadata": {},
   "outputs": [
    {
     "data": {
      "text/html": [
       "<div>\n",
       "<style scoped>\n",
       "    .dataframe tbody tr th:only-of-type {\n",
       "        vertical-align: middle;\n",
       "    }\n",
       "\n",
       "    .dataframe tbody tr th {\n",
       "        vertical-align: top;\n",
       "    }\n",
       "\n",
       "    .dataframe thead th {\n",
       "        text-align: right;\n",
       "    }\n",
       "</style>\n",
       "<table border=\"1\" class=\"dataframe\">\n",
       "  <thead>\n",
       "    <tr style=\"text-align: right;\">\n",
       "      <th></th>\n",
       "      <th>x</th>\n",
       "      <th>y</th>\n",
       "      <th>z</th>\n",
       "    </tr>\n",
       "  </thead>\n",
       "  <tbody>\n",
       "    <tr>\n",
       "      <th>0</th>\n",
       "      <td>1</td>\n",
       "      <td>10</td>\n",
       "      <td>500</td>\n",
       "    </tr>\n",
       "    <tr>\n",
       "      <th>1</th>\n",
       "      <td>2</td>\n",
       "      <td>20</td>\n",
       "      <td>400</td>\n",
       "    </tr>\n",
       "    <tr>\n",
       "      <th>2</th>\n",
       "      <td>3</td>\n",
       "      <td>30</td>\n",
       "      <td>300</td>\n",
       "    </tr>\n",
       "    <tr>\n",
       "      <th>3</th>\n",
       "      <td>4</td>\n",
       "      <td>20</td>\n",
       "      <td>200</td>\n",
       "    </tr>\n",
       "    <tr>\n",
       "      <th>4</th>\n",
       "      <td>5</td>\n",
       "      <td>10</td>\n",
       "      <td>100</td>\n",
       "    </tr>\n",
       "  </tbody>\n",
       "</table>\n",
       "</div>"
      ],
      "text/plain": [
       "   x   y    z\n",
       "0  1  10  500\n",
       "1  2  20  400\n",
       "2  3  30  300\n",
       "3  4  20  200\n",
       "4  5  10  100"
      ]
     },
     "execution_count": 35,
     "metadata": {},
     "output_type": "execute_result"
    }
   ],
   "source": [
    "df3"
   ]
  },
  {
   "cell_type": "code",
   "execution_count": 36,
   "id": "d2a340be",
   "metadata": {},
   "outputs": [
    {
     "data": {
      "application/vnd.plotly.v1+json": {
       "config": {
        "linkText": "Export to plot.ly",
        "plotlyServerURL": "https://plot.ly",
        "showLink": true
       },
       "data": [
        {
         "colorscale": [
          [
           0,
           "rgb(255, 153, 51)"
          ],
          [
           0.1111111111111111,
           "rgb(55, 128, 191)"
          ],
          [
           0.2222222222222222,
           "rgb(50, 171, 96)"
          ],
          [
           0.3333333333333333,
           "rgb(128, 0, 128)"
          ],
          [
           0.4444444444444444,
           "rgb(219, 64, 82)"
          ],
          [
           0.5555555555555556,
           "rgb(0, 128, 128)"
          ],
          [
           0.6666666666666666,
           "rgb(255, 255, 51)"
          ],
          [
           0.7777777777777778,
           "rgb(128, 128, 0)"
          ],
          [
           0.8888888888888888,
           "rgb(251, 128, 114)"
          ],
          [
           1,
           "rgb(128, 177, 211)"
          ]
         ],
         "type": "surface",
         "x": [
          0,
          1,
          2,
          3,
          4
         ],
         "y": [
          "x",
          "y",
          "z"
         ],
         "z": [
          [
           1,
           2,
           3,
           4,
           5
          ],
          [
           10,
           20,
           30,
           20,
           10
          ],
          [
           500,
           400,
           300,
           200,
           100
          ]
         ]
        }
       ],
       "layout": {
        "legend": {
         "bgcolor": "#F5F6F9",
         "font": {
          "color": "#4D5663"
         }
        },
        "paper_bgcolor": "#F5F6F9",
        "plot_bgcolor": "#F5F6F9",
        "template": {
         "data": {
          "bar": [
           {
            "error_x": {
             "color": "#2a3f5f"
            },
            "error_y": {
             "color": "#2a3f5f"
            },
            "marker": {
             "line": {
              "color": "#E5ECF6",
              "width": 0.5
             },
             "pattern": {
              "fillmode": "overlay",
              "size": 10,
              "solidity": 0.2
             }
            },
            "type": "bar"
           }
          ],
          "barpolar": [
           {
            "marker": {
             "line": {
              "color": "#E5ECF6",
              "width": 0.5
             },
             "pattern": {
              "fillmode": "overlay",
              "size": 10,
              "solidity": 0.2
             }
            },
            "type": "barpolar"
           }
          ],
          "carpet": [
           {
            "aaxis": {
             "endlinecolor": "#2a3f5f",
             "gridcolor": "white",
             "linecolor": "white",
             "minorgridcolor": "white",
             "startlinecolor": "#2a3f5f"
            },
            "baxis": {
             "endlinecolor": "#2a3f5f",
             "gridcolor": "white",
             "linecolor": "white",
             "minorgridcolor": "white",
             "startlinecolor": "#2a3f5f"
            },
            "type": "carpet"
           }
          ],
          "choropleth": [
           {
            "colorbar": {
             "outlinewidth": 0,
             "ticks": ""
            },
            "type": "choropleth"
           }
          ],
          "contour": [
           {
            "colorbar": {
             "outlinewidth": 0,
             "ticks": ""
            },
            "colorscale": [
             [
              0,
              "#0d0887"
             ],
             [
              0.1111111111111111,
              "#46039f"
             ],
             [
              0.2222222222222222,
              "#7201a8"
             ],
             [
              0.3333333333333333,
              "#9c179e"
             ],
             [
              0.4444444444444444,
              "#bd3786"
             ],
             [
              0.5555555555555556,
              "#d8576b"
             ],
             [
              0.6666666666666666,
              "#ed7953"
             ],
             [
              0.7777777777777778,
              "#fb9f3a"
             ],
             [
              0.8888888888888888,
              "#fdca26"
             ],
             [
              1,
              "#f0f921"
             ]
            ],
            "type": "contour"
           }
          ],
          "contourcarpet": [
           {
            "colorbar": {
             "outlinewidth": 0,
             "ticks": ""
            },
            "type": "contourcarpet"
           }
          ],
          "heatmap": [
           {
            "colorbar": {
             "outlinewidth": 0,
             "ticks": ""
            },
            "colorscale": [
             [
              0,
              "#0d0887"
             ],
             [
              0.1111111111111111,
              "#46039f"
             ],
             [
              0.2222222222222222,
              "#7201a8"
             ],
             [
              0.3333333333333333,
              "#9c179e"
             ],
             [
              0.4444444444444444,
              "#bd3786"
             ],
             [
              0.5555555555555556,
              "#d8576b"
             ],
             [
              0.6666666666666666,
              "#ed7953"
             ],
             [
              0.7777777777777778,
              "#fb9f3a"
             ],
             [
              0.8888888888888888,
              "#fdca26"
             ],
             [
              1,
              "#f0f921"
             ]
            ],
            "type": "heatmap"
           }
          ],
          "heatmapgl": [
           {
            "colorbar": {
             "outlinewidth": 0,
             "ticks": ""
            },
            "colorscale": [
             [
              0,
              "#0d0887"
             ],
             [
              0.1111111111111111,
              "#46039f"
             ],
             [
              0.2222222222222222,
              "#7201a8"
             ],
             [
              0.3333333333333333,
              "#9c179e"
             ],
             [
              0.4444444444444444,
              "#bd3786"
             ],
             [
              0.5555555555555556,
              "#d8576b"
             ],
             [
              0.6666666666666666,
              "#ed7953"
             ],
             [
              0.7777777777777778,
              "#fb9f3a"
             ],
             [
              0.8888888888888888,
              "#fdca26"
             ],
             [
              1,
              "#f0f921"
             ]
            ],
            "type": "heatmapgl"
           }
          ],
          "histogram": [
           {
            "marker": {
             "pattern": {
              "fillmode": "overlay",
              "size": 10,
              "solidity": 0.2
             }
            },
            "type": "histogram"
           }
          ],
          "histogram2d": [
           {
            "colorbar": {
             "outlinewidth": 0,
             "ticks": ""
            },
            "colorscale": [
             [
              0,
              "#0d0887"
             ],
             [
              0.1111111111111111,
              "#46039f"
             ],
             [
              0.2222222222222222,
              "#7201a8"
             ],
             [
              0.3333333333333333,
              "#9c179e"
             ],
             [
              0.4444444444444444,
              "#bd3786"
             ],
             [
              0.5555555555555556,
              "#d8576b"
             ],
             [
              0.6666666666666666,
              "#ed7953"
             ],
             [
              0.7777777777777778,
              "#fb9f3a"
             ],
             [
              0.8888888888888888,
              "#fdca26"
             ],
             [
              1,
              "#f0f921"
             ]
            ],
            "type": "histogram2d"
           }
          ],
          "histogram2dcontour": [
           {
            "colorbar": {
             "outlinewidth": 0,
             "ticks": ""
            },
            "colorscale": [
             [
              0,
              "#0d0887"
             ],
             [
              0.1111111111111111,
              "#46039f"
             ],
             [
              0.2222222222222222,
              "#7201a8"
             ],
             [
              0.3333333333333333,
              "#9c179e"
             ],
             [
              0.4444444444444444,
              "#bd3786"
             ],
             [
              0.5555555555555556,
              "#d8576b"
             ],
             [
              0.6666666666666666,
              "#ed7953"
             ],
             [
              0.7777777777777778,
              "#fb9f3a"
             ],
             [
              0.8888888888888888,
              "#fdca26"
             ],
             [
              1,
              "#f0f921"
             ]
            ],
            "type": "histogram2dcontour"
           }
          ],
          "mesh3d": [
           {
            "colorbar": {
             "outlinewidth": 0,
             "ticks": ""
            },
            "type": "mesh3d"
           }
          ],
          "parcoords": [
           {
            "line": {
             "colorbar": {
              "outlinewidth": 0,
              "ticks": ""
             }
            },
            "type": "parcoords"
           }
          ],
          "pie": [
           {
            "automargin": true,
            "type": "pie"
           }
          ],
          "scatter": [
           {
            "marker": {
             "colorbar": {
              "outlinewidth": 0,
              "ticks": ""
             }
            },
            "type": "scatter"
           }
          ],
          "scatter3d": [
           {
            "line": {
             "colorbar": {
              "outlinewidth": 0,
              "ticks": ""
             }
            },
            "marker": {
             "colorbar": {
              "outlinewidth": 0,
              "ticks": ""
             }
            },
            "type": "scatter3d"
           }
          ],
          "scattercarpet": [
           {
            "marker": {
             "colorbar": {
              "outlinewidth": 0,
              "ticks": ""
             }
            },
            "type": "scattercarpet"
           }
          ],
          "scattergeo": [
           {
            "marker": {
             "colorbar": {
              "outlinewidth": 0,
              "ticks": ""
             }
            },
            "type": "scattergeo"
           }
          ],
          "scattergl": [
           {
            "marker": {
             "colorbar": {
              "outlinewidth": 0,
              "ticks": ""
             }
            },
            "type": "scattergl"
           }
          ],
          "scattermapbox": [
           {
            "marker": {
             "colorbar": {
              "outlinewidth": 0,
              "ticks": ""
             }
            },
            "type": "scattermapbox"
           }
          ],
          "scatterpolar": [
           {
            "marker": {
             "colorbar": {
              "outlinewidth": 0,
              "ticks": ""
             }
            },
            "type": "scatterpolar"
           }
          ],
          "scatterpolargl": [
           {
            "marker": {
             "colorbar": {
              "outlinewidth": 0,
              "ticks": ""
             }
            },
            "type": "scatterpolargl"
           }
          ],
          "scatterternary": [
           {
            "marker": {
             "colorbar": {
              "outlinewidth": 0,
              "ticks": ""
             }
            },
            "type": "scatterternary"
           }
          ],
          "surface": [
           {
            "colorbar": {
             "outlinewidth": 0,
             "ticks": ""
            },
            "colorscale": [
             [
              0,
              "#0d0887"
             ],
             [
              0.1111111111111111,
              "#46039f"
             ],
             [
              0.2222222222222222,
              "#7201a8"
             ],
             [
              0.3333333333333333,
              "#9c179e"
             ],
             [
              0.4444444444444444,
              "#bd3786"
             ],
             [
              0.5555555555555556,
              "#d8576b"
             ],
             [
              0.6666666666666666,
              "#ed7953"
             ],
             [
              0.7777777777777778,
              "#fb9f3a"
             ],
             [
              0.8888888888888888,
              "#fdca26"
             ],
             [
              1,
              "#f0f921"
             ]
            ],
            "type": "surface"
           }
          ],
          "table": [
           {
            "cells": {
             "fill": {
              "color": "#EBF0F8"
             },
             "line": {
              "color": "white"
             }
            },
            "header": {
             "fill": {
              "color": "#C8D4E3"
             },
             "line": {
              "color": "white"
             }
            },
            "type": "table"
           }
          ]
         },
         "layout": {
          "annotationdefaults": {
           "arrowcolor": "#2a3f5f",
           "arrowhead": 0,
           "arrowwidth": 1
          },
          "autotypenumbers": "strict",
          "coloraxis": {
           "colorbar": {
            "outlinewidth": 0,
            "ticks": ""
           }
          },
          "colorscale": {
           "diverging": [
            [
             0,
             "#8e0152"
            ],
            [
             0.1,
             "#c51b7d"
            ],
            [
             0.2,
             "#de77ae"
            ],
            [
             0.3,
             "#f1b6da"
            ],
            [
             0.4,
             "#fde0ef"
            ],
            [
             0.5,
             "#f7f7f7"
            ],
            [
             0.6,
             "#e6f5d0"
            ],
            [
             0.7,
             "#b8e186"
            ],
            [
             0.8,
             "#7fbc41"
            ],
            [
             0.9,
             "#4d9221"
            ],
            [
             1,
             "#276419"
            ]
           ],
           "sequential": [
            [
             0,
             "#0d0887"
            ],
            [
             0.1111111111111111,
             "#46039f"
            ],
            [
             0.2222222222222222,
             "#7201a8"
            ],
            [
             0.3333333333333333,
             "#9c179e"
            ],
            [
             0.4444444444444444,
             "#bd3786"
            ],
            [
             0.5555555555555556,
             "#d8576b"
            ],
            [
             0.6666666666666666,
             "#ed7953"
            ],
            [
             0.7777777777777778,
             "#fb9f3a"
            ],
            [
             0.8888888888888888,
             "#fdca26"
            ],
            [
             1,
             "#f0f921"
            ]
           ],
           "sequentialminus": [
            [
             0,
             "#0d0887"
            ],
            [
             0.1111111111111111,
             "#46039f"
            ],
            [
             0.2222222222222222,
             "#7201a8"
            ],
            [
             0.3333333333333333,
             "#9c179e"
            ],
            [
             0.4444444444444444,
             "#bd3786"
            ],
            [
             0.5555555555555556,
             "#d8576b"
            ],
            [
             0.6666666666666666,
             "#ed7953"
            ],
            [
             0.7777777777777778,
             "#fb9f3a"
            ],
            [
             0.8888888888888888,
             "#fdca26"
            ],
            [
             1,
             "#f0f921"
            ]
           ]
          },
          "colorway": [
           "#636efa",
           "#EF553B",
           "#00cc96",
           "#ab63fa",
           "#FFA15A",
           "#19d3f3",
           "#FF6692",
           "#B6E880",
           "#FF97FF",
           "#FECB52"
          ],
          "font": {
           "color": "#2a3f5f"
          },
          "geo": {
           "bgcolor": "white",
           "lakecolor": "white",
           "landcolor": "#E5ECF6",
           "showlakes": true,
           "showland": true,
           "subunitcolor": "white"
          },
          "hoverlabel": {
           "align": "left"
          },
          "hovermode": "closest",
          "mapbox": {
           "style": "light"
          },
          "paper_bgcolor": "white",
          "plot_bgcolor": "#E5ECF6",
          "polar": {
           "angularaxis": {
            "gridcolor": "white",
            "linecolor": "white",
            "ticks": ""
           },
           "bgcolor": "#E5ECF6",
           "radialaxis": {
            "gridcolor": "white",
            "linecolor": "white",
            "ticks": ""
           }
          },
          "scene": {
           "xaxis": {
            "backgroundcolor": "#E5ECF6",
            "gridcolor": "white",
            "gridwidth": 2,
            "linecolor": "white",
            "showbackground": true,
            "ticks": "",
            "zerolinecolor": "white"
           },
           "yaxis": {
            "backgroundcolor": "#E5ECF6",
            "gridcolor": "white",
            "gridwidth": 2,
            "linecolor": "white",
            "showbackground": true,
            "ticks": "",
            "zerolinecolor": "white"
           },
           "zaxis": {
            "backgroundcolor": "#E5ECF6",
            "gridcolor": "white",
            "gridwidth": 2,
            "linecolor": "white",
            "showbackground": true,
            "ticks": "",
            "zerolinecolor": "white"
           }
          },
          "shapedefaults": {
           "line": {
            "color": "#2a3f5f"
           }
          },
          "ternary": {
           "aaxis": {
            "gridcolor": "white",
            "linecolor": "white",
            "ticks": ""
           },
           "baxis": {
            "gridcolor": "white",
            "linecolor": "white",
            "ticks": ""
           },
           "bgcolor": "#E5ECF6",
           "caxis": {
            "gridcolor": "white",
            "linecolor": "white",
            "ticks": ""
           }
          },
          "title": {
           "x": 0.05
          },
          "xaxis": {
           "automargin": true,
           "gridcolor": "white",
           "linecolor": "white",
           "ticks": "",
           "title": {
            "standoff": 15
           },
           "zerolinecolor": "white",
           "zerolinewidth": 2
          },
          "yaxis": {
           "automargin": true,
           "gridcolor": "white",
           "linecolor": "white",
           "ticks": "",
           "title": {
            "standoff": 15
           },
           "zerolinecolor": "white",
           "zerolinewidth": 2
          }
         }
        },
        "title": {
         "font": {
          "color": "#4D5663"
         }
        },
        "xaxis": {
         "gridcolor": "#E1E5ED",
         "showgrid": true,
         "tickfont": {
          "color": "#4D5663"
         },
         "title": {
          "font": {
           "color": "#4D5663"
          },
          "text": ""
         },
         "zerolinecolor": "#E1E5ED"
        },
        "yaxis": {
         "gridcolor": "#E1E5ED",
         "showgrid": true,
         "tickfont": {
          "color": "#4D5663"
         },
         "title": {
          "font": {
           "color": "#4D5663"
          },
          "text": ""
         },
         "zerolinecolor": "#E1E5ED"
        }
       }
      },
      "text/html": [
       "<div>                            <div id=\"3f71ab38-4433-4930-8494-e4fcf51dac13\" class=\"plotly-graph-div\" style=\"height:525px; width:100%;\"></div>            <script type=\"text/javascript\">                require([\"plotly\"], function(Plotly) {                    window.PLOTLYENV=window.PLOTLYENV || {};\n",
       "                    window.PLOTLYENV.BASE_URL='https://plot.ly';                                    if (document.getElementById(\"3f71ab38-4433-4930-8494-e4fcf51dac13\")) {                    Plotly.newPlot(                        \"3f71ab38-4433-4930-8494-e4fcf51dac13\",                        [{\"colorscale\":[[0.0,\"rgb(255, 153, 51)\"],[0.1111111111111111,\"rgb(55, 128, 191)\"],[0.2222222222222222,\"rgb(50, 171, 96)\"],[0.3333333333333333,\"rgb(128, 0, 128)\"],[0.4444444444444444,\"rgb(219, 64, 82)\"],[0.5555555555555556,\"rgb(0, 128, 128)\"],[0.6666666666666666,\"rgb(255, 255, 51)\"],[0.7777777777777778,\"rgb(128, 128, 0)\"],[0.8888888888888888,\"rgb(251, 128, 114)\"],[1.0,\"rgb(128, 177, 211)\"]],\"x\":[0,1,2,3,4],\"y\":[\"x\",\"y\",\"z\"],\"z\":[[1,2,3,4,5],[10,20,30,20,10],[500,400,300,200,100]],\"type\":\"surface\"}],                        {\"legend\":{\"bgcolor\":\"#F5F6F9\",\"font\":{\"color\":\"#4D5663\"}},\"paper_bgcolor\":\"#F5F6F9\",\"plot_bgcolor\":\"#F5F6F9\",\"template\":{\"data\":{\"barpolar\":[{\"marker\":{\"line\":{\"color\":\"#E5ECF6\",\"width\":0.5},\"pattern\":{\"fillmode\":\"overlay\",\"size\":10,\"solidity\":0.2}},\"type\":\"barpolar\"}],\"bar\":[{\"error_x\":{\"color\":\"#2a3f5f\"},\"error_y\":{\"color\":\"#2a3f5f\"},\"marker\":{\"line\":{\"color\":\"#E5ECF6\",\"width\":0.5},\"pattern\":{\"fillmode\":\"overlay\",\"size\":10,\"solidity\":0.2}},\"type\":\"bar\"}],\"carpet\":[{\"aaxis\":{\"endlinecolor\":\"#2a3f5f\",\"gridcolor\":\"white\",\"linecolor\":\"white\",\"minorgridcolor\":\"white\",\"startlinecolor\":\"#2a3f5f\"},\"baxis\":{\"endlinecolor\":\"#2a3f5f\",\"gridcolor\":\"white\",\"linecolor\":\"white\",\"minorgridcolor\":\"white\",\"startlinecolor\":\"#2a3f5f\"},\"type\":\"carpet\"}],\"choropleth\":[{\"colorbar\":{\"outlinewidth\":0,\"ticks\":\"\"},\"type\":\"choropleth\"}],\"contourcarpet\":[{\"colorbar\":{\"outlinewidth\":0,\"ticks\":\"\"},\"type\":\"contourcarpet\"}],\"contour\":[{\"colorbar\":{\"outlinewidth\":0,\"ticks\":\"\"},\"colorscale\":[[0.0,\"#0d0887\"],[0.1111111111111111,\"#46039f\"],[0.2222222222222222,\"#7201a8\"],[0.3333333333333333,\"#9c179e\"],[0.4444444444444444,\"#bd3786\"],[0.5555555555555556,\"#d8576b\"],[0.6666666666666666,\"#ed7953\"],[0.7777777777777778,\"#fb9f3a\"],[0.8888888888888888,\"#fdca26\"],[1.0,\"#f0f921\"]],\"type\":\"contour\"}],\"heatmapgl\":[{\"colorbar\":{\"outlinewidth\":0,\"ticks\":\"\"},\"colorscale\":[[0.0,\"#0d0887\"],[0.1111111111111111,\"#46039f\"],[0.2222222222222222,\"#7201a8\"],[0.3333333333333333,\"#9c179e\"],[0.4444444444444444,\"#bd3786\"],[0.5555555555555556,\"#d8576b\"],[0.6666666666666666,\"#ed7953\"],[0.7777777777777778,\"#fb9f3a\"],[0.8888888888888888,\"#fdca26\"],[1.0,\"#f0f921\"]],\"type\":\"heatmapgl\"}],\"heatmap\":[{\"colorbar\":{\"outlinewidth\":0,\"ticks\":\"\"},\"colorscale\":[[0.0,\"#0d0887\"],[0.1111111111111111,\"#46039f\"],[0.2222222222222222,\"#7201a8\"],[0.3333333333333333,\"#9c179e\"],[0.4444444444444444,\"#bd3786\"],[0.5555555555555556,\"#d8576b\"],[0.6666666666666666,\"#ed7953\"],[0.7777777777777778,\"#fb9f3a\"],[0.8888888888888888,\"#fdca26\"],[1.0,\"#f0f921\"]],\"type\":\"heatmap\"}],\"histogram2dcontour\":[{\"colorbar\":{\"outlinewidth\":0,\"ticks\":\"\"},\"colorscale\":[[0.0,\"#0d0887\"],[0.1111111111111111,\"#46039f\"],[0.2222222222222222,\"#7201a8\"],[0.3333333333333333,\"#9c179e\"],[0.4444444444444444,\"#bd3786\"],[0.5555555555555556,\"#d8576b\"],[0.6666666666666666,\"#ed7953\"],[0.7777777777777778,\"#fb9f3a\"],[0.8888888888888888,\"#fdca26\"],[1.0,\"#f0f921\"]],\"type\":\"histogram2dcontour\"}],\"histogram2d\":[{\"colorbar\":{\"outlinewidth\":0,\"ticks\":\"\"},\"colorscale\":[[0.0,\"#0d0887\"],[0.1111111111111111,\"#46039f\"],[0.2222222222222222,\"#7201a8\"],[0.3333333333333333,\"#9c179e\"],[0.4444444444444444,\"#bd3786\"],[0.5555555555555556,\"#d8576b\"],[0.6666666666666666,\"#ed7953\"],[0.7777777777777778,\"#fb9f3a\"],[0.8888888888888888,\"#fdca26\"],[1.0,\"#f0f921\"]],\"type\":\"histogram2d\"}],\"histogram\":[{\"marker\":{\"pattern\":{\"fillmode\":\"overlay\",\"size\":10,\"solidity\":0.2}},\"type\":\"histogram\"}],\"mesh3d\":[{\"colorbar\":{\"outlinewidth\":0,\"ticks\":\"\"},\"type\":\"mesh3d\"}],\"parcoords\":[{\"line\":{\"colorbar\":{\"outlinewidth\":0,\"ticks\":\"\"}},\"type\":\"parcoords\"}],\"pie\":[{\"automargin\":true,\"type\":\"pie\"}],\"scatter3d\":[{\"line\":{\"colorbar\":{\"outlinewidth\":0,\"ticks\":\"\"}},\"marker\":{\"colorbar\":{\"outlinewidth\":0,\"ticks\":\"\"}},\"type\":\"scatter3d\"}],\"scattercarpet\":[{\"marker\":{\"colorbar\":{\"outlinewidth\":0,\"ticks\":\"\"}},\"type\":\"scattercarpet\"}],\"scattergeo\":[{\"marker\":{\"colorbar\":{\"outlinewidth\":0,\"ticks\":\"\"}},\"type\":\"scattergeo\"}],\"scattergl\":[{\"marker\":{\"colorbar\":{\"outlinewidth\":0,\"ticks\":\"\"}},\"type\":\"scattergl\"}],\"scattermapbox\":[{\"marker\":{\"colorbar\":{\"outlinewidth\":0,\"ticks\":\"\"}},\"type\":\"scattermapbox\"}],\"scatterpolargl\":[{\"marker\":{\"colorbar\":{\"outlinewidth\":0,\"ticks\":\"\"}},\"type\":\"scatterpolargl\"}],\"scatterpolar\":[{\"marker\":{\"colorbar\":{\"outlinewidth\":0,\"ticks\":\"\"}},\"type\":\"scatterpolar\"}],\"scatter\":[{\"marker\":{\"colorbar\":{\"outlinewidth\":0,\"ticks\":\"\"}},\"type\":\"scatter\"}],\"scatterternary\":[{\"marker\":{\"colorbar\":{\"outlinewidth\":0,\"ticks\":\"\"}},\"type\":\"scatterternary\"}],\"surface\":[{\"colorbar\":{\"outlinewidth\":0,\"ticks\":\"\"},\"colorscale\":[[0.0,\"#0d0887\"],[0.1111111111111111,\"#46039f\"],[0.2222222222222222,\"#7201a8\"],[0.3333333333333333,\"#9c179e\"],[0.4444444444444444,\"#bd3786\"],[0.5555555555555556,\"#d8576b\"],[0.6666666666666666,\"#ed7953\"],[0.7777777777777778,\"#fb9f3a\"],[0.8888888888888888,\"#fdca26\"],[1.0,\"#f0f921\"]],\"type\":\"surface\"}],\"table\":[{\"cells\":{\"fill\":{\"color\":\"#EBF0F8\"},\"line\":{\"color\":\"white\"}},\"header\":{\"fill\":{\"color\":\"#C8D4E3\"},\"line\":{\"color\":\"white\"}},\"type\":\"table\"}]},\"layout\":{\"annotationdefaults\":{\"arrowcolor\":\"#2a3f5f\",\"arrowhead\":0,\"arrowwidth\":1},\"autotypenumbers\":\"strict\",\"coloraxis\":{\"colorbar\":{\"outlinewidth\":0,\"ticks\":\"\"}},\"colorscale\":{\"diverging\":[[0,\"#8e0152\"],[0.1,\"#c51b7d\"],[0.2,\"#de77ae\"],[0.3,\"#f1b6da\"],[0.4,\"#fde0ef\"],[0.5,\"#f7f7f7\"],[0.6,\"#e6f5d0\"],[0.7,\"#b8e186\"],[0.8,\"#7fbc41\"],[0.9,\"#4d9221\"],[1,\"#276419\"]],\"sequential\":[[0.0,\"#0d0887\"],[0.1111111111111111,\"#46039f\"],[0.2222222222222222,\"#7201a8\"],[0.3333333333333333,\"#9c179e\"],[0.4444444444444444,\"#bd3786\"],[0.5555555555555556,\"#d8576b\"],[0.6666666666666666,\"#ed7953\"],[0.7777777777777778,\"#fb9f3a\"],[0.8888888888888888,\"#fdca26\"],[1.0,\"#f0f921\"]],\"sequentialminus\":[[0.0,\"#0d0887\"],[0.1111111111111111,\"#46039f\"],[0.2222222222222222,\"#7201a8\"],[0.3333333333333333,\"#9c179e\"],[0.4444444444444444,\"#bd3786\"],[0.5555555555555556,\"#d8576b\"],[0.6666666666666666,\"#ed7953\"],[0.7777777777777778,\"#fb9f3a\"],[0.8888888888888888,\"#fdca26\"],[1.0,\"#f0f921\"]]},\"colorway\":[\"#636efa\",\"#EF553B\",\"#00cc96\",\"#ab63fa\",\"#FFA15A\",\"#19d3f3\",\"#FF6692\",\"#B6E880\",\"#FF97FF\",\"#FECB52\"],\"font\":{\"color\":\"#2a3f5f\"},\"geo\":{\"bgcolor\":\"white\",\"lakecolor\":\"white\",\"landcolor\":\"#E5ECF6\",\"showlakes\":true,\"showland\":true,\"subunitcolor\":\"white\"},\"hoverlabel\":{\"align\":\"left\"},\"hovermode\":\"closest\",\"mapbox\":{\"style\":\"light\"},\"paper_bgcolor\":\"white\",\"plot_bgcolor\":\"#E5ECF6\",\"polar\":{\"angularaxis\":{\"gridcolor\":\"white\",\"linecolor\":\"white\",\"ticks\":\"\"},\"bgcolor\":\"#E5ECF6\",\"radialaxis\":{\"gridcolor\":\"white\",\"linecolor\":\"white\",\"ticks\":\"\"}},\"scene\":{\"xaxis\":{\"backgroundcolor\":\"#E5ECF6\",\"gridcolor\":\"white\",\"gridwidth\":2,\"linecolor\":\"white\",\"showbackground\":true,\"ticks\":\"\",\"zerolinecolor\":\"white\"},\"yaxis\":{\"backgroundcolor\":\"#E5ECF6\",\"gridcolor\":\"white\",\"gridwidth\":2,\"linecolor\":\"white\",\"showbackground\":true,\"ticks\":\"\",\"zerolinecolor\":\"white\"},\"zaxis\":{\"backgroundcolor\":\"#E5ECF6\",\"gridcolor\":\"white\",\"gridwidth\":2,\"linecolor\":\"white\",\"showbackground\":true,\"ticks\":\"\",\"zerolinecolor\":\"white\"}},\"shapedefaults\":{\"line\":{\"color\":\"#2a3f5f\"}},\"ternary\":{\"aaxis\":{\"gridcolor\":\"white\",\"linecolor\":\"white\",\"ticks\":\"\"},\"baxis\":{\"gridcolor\":\"white\",\"linecolor\":\"white\",\"ticks\":\"\"},\"bgcolor\":\"#E5ECF6\",\"caxis\":{\"gridcolor\":\"white\",\"linecolor\":\"white\",\"ticks\":\"\"}},\"title\":{\"x\":0.05},\"xaxis\":{\"automargin\":true,\"gridcolor\":\"white\",\"linecolor\":\"white\",\"ticks\":\"\",\"title\":{\"standoff\":15},\"zerolinecolor\":\"white\",\"zerolinewidth\":2},\"yaxis\":{\"automargin\":true,\"gridcolor\":\"white\",\"linecolor\":\"white\",\"ticks\":\"\",\"title\":{\"standoff\":15},\"zerolinecolor\":\"white\",\"zerolinewidth\":2}}},\"title\":{\"font\":{\"color\":\"#4D5663\"}},\"xaxis\":{\"gridcolor\":\"#E1E5ED\",\"showgrid\":true,\"tickfont\":{\"color\":\"#4D5663\"},\"title\":{\"font\":{\"color\":\"#4D5663\"},\"text\":\"\"},\"zerolinecolor\":\"#E1E5ED\"},\"yaxis\":{\"gridcolor\":\"#E1E5ED\",\"showgrid\":true,\"tickfont\":{\"color\":\"#4D5663\"},\"title\":{\"font\":{\"color\":\"#4D5663\"},\"text\":\"\"},\"zerolinecolor\":\"#E1E5ED\"}},                        {\"showLink\": true, \"linkText\": \"Export to plot.ly\", \"plotlyServerURL\": \"https://plot.ly\", \"responsive\": true}                    ).then(function(){\n",
       "                            \n",
       "var gd = document.getElementById('3f71ab38-4433-4930-8494-e4fcf51dac13');\n",
       "var x = new MutationObserver(function (mutations, observer) {{\n",
       "        var display = window.getComputedStyle(gd).display;\n",
       "        if (!display || display === 'none') {{\n",
       "            console.log([gd, 'removed!']);\n",
       "            Plotly.purge(gd);\n",
       "            observer.disconnect();\n",
       "        }}\n",
       "}});\n",
       "\n",
       "// Listen for the removal of the full notebook cells\n",
       "var notebookContainer = gd.closest('#notebook-container');\n",
       "if (notebookContainer) {{\n",
       "    x.observe(notebookContainer, {childList: true});\n",
       "}}\n",
       "\n",
       "// Listen for the clearing of the current output cell\n",
       "var outputEl = gd.closest('.output');\n",
       "if (outputEl) {{\n",
       "    x.observe(outputEl, {childList: true});\n",
       "}}\n",
       "\n",
       "                        })                };                });            </script>        </div>"
      ]
     },
     "metadata": {},
     "output_type": "display_data"
    }
   ],
   "source": [
    "df3.iplot(kind='surface')"
   ]
  },
  {
   "cell_type": "code",
   "execution_count": 38,
   "id": "46e616f1",
   "metadata": {},
   "outputs": [
    {
     "data": {
      "application/vnd.plotly.v1+json": {
       "config": {
        "linkText": "Export to plot.ly",
        "plotlyServerURL": "https://plot.ly",
        "showLink": true
       },
       "data": [
        {
         "colorscale": [
          [
           0,
           "rgb(255, 153, 51)"
          ],
          [
           0.1111111111111111,
           "rgb(55, 128, 191)"
          ],
          [
           0.2222222222222222,
           "rgb(50, 171, 96)"
          ],
          [
           0.3333333333333333,
           "rgb(128, 0, 128)"
          ],
          [
           0.4444444444444444,
           "rgb(219, 64, 82)"
          ],
          [
           0.5555555555555556,
           "rgb(0, 128, 128)"
          ],
          [
           0.6666666666666666,
           "rgb(255, 255, 51)"
          ],
          [
           0.7777777777777778,
           "rgb(128, 128, 0)"
          ],
          [
           0.8888888888888888,
           "rgb(251, 128, 114)"
          ],
          [
           1,
           "rgb(128, 177, 211)"
          ]
         ],
         "type": "surface",
         "x": [
          0,
          1,
          2,
          3,
          4
         ],
         "y": [
          "x",
          "y",
          "z"
         ],
         "z": [
          [
           1,
           2,
           3,
           4,
           5
          ],
          [
           10,
           20,
           30,
           20,
           10
          ],
          [
           5,
           4,
           3,
           2,
           1
          ]
         ]
        }
       ],
       "layout": {
        "legend": {
         "bgcolor": "#F5F6F9",
         "font": {
          "color": "#4D5663"
         }
        },
        "paper_bgcolor": "#F5F6F9",
        "plot_bgcolor": "#F5F6F9",
        "template": {
         "data": {
          "bar": [
           {
            "error_x": {
             "color": "#2a3f5f"
            },
            "error_y": {
             "color": "#2a3f5f"
            },
            "marker": {
             "line": {
              "color": "#E5ECF6",
              "width": 0.5
             },
             "pattern": {
              "fillmode": "overlay",
              "size": 10,
              "solidity": 0.2
             }
            },
            "type": "bar"
           }
          ],
          "barpolar": [
           {
            "marker": {
             "line": {
              "color": "#E5ECF6",
              "width": 0.5
             },
             "pattern": {
              "fillmode": "overlay",
              "size": 10,
              "solidity": 0.2
             }
            },
            "type": "barpolar"
           }
          ],
          "carpet": [
           {
            "aaxis": {
             "endlinecolor": "#2a3f5f",
             "gridcolor": "white",
             "linecolor": "white",
             "minorgridcolor": "white",
             "startlinecolor": "#2a3f5f"
            },
            "baxis": {
             "endlinecolor": "#2a3f5f",
             "gridcolor": "white",
             "linecolor": "white",
             "minorgridcolor": "white",
             "startlinecolor": "#2a3f5f"
            },
            "type": "carpet"
           }
          ],
          "choropleth": [
           {
            "colorbar": {
             "outlinewidth": 0,
             "ticks": ""
            },
            "type": "choropleth"
           }
          ],
          "contour": [
           {
            "colorbar": {
             "outlinewidth": 0,
             "ticks": ""
            },
            "colorscale": [
             [
              0,
              "#0d0887"
             ],
             [
              0.1111111111111111,
              "#46039f"
             ],
             [
              0.2222222222222222,
              "#7201a8"
             ],
             [
              0.3333333333333333,
              "#9c179e"
             ],
             [
              0.4444444444444444,
              "#bd3786"
             ],
             [
              0.5555555555555556,
              "#d8576b"
             ],
             [
              0.6666666666666666,
              "#ed7953"
             ],
             [
              0.7777777777777778,
              "#fb9f3a"
             ],
             [
              0.8888888888888888,
              "#fdca26"
             ],
             [
              1,
              "#f0f921"
             ]
            ],
            "type": "contour"
           }
          ],
          "contourcarpet": [
           {
            "colorbar": {
             "outlinewidth": 0,
             "ticks": ""
            },
            "type": "contourcarpet"
           }
          ],
          "heatmap": [
           {
            "colorbar": {
             "outlinewidth": 0,
             "ticks": ""
            },
            "colorscale": [
             [
              0,
              "#0d0887"
             ],
             [
              0.1111111111111111,
              "#46039f"
             ],
             [
              0.2222222222222222,
              "#7201a8"
             ],
             [
              0.3333333333333333,
              "#9c179e"
             ],
             [
              0.4444444444444444,
              "#bd3786"
             ],
             [
              0.5555555555555556,
              "#d8576b"
             ],
             [
              0.6666666666666666,
              "#ed7953"
             ],
             [
              0.7777777777777778,
              "#fb9f3a"
             ],
             [
              0.8888888888888888,
              "#fdca26"
             ],
             [
              1,
              "#f0f921"
             ]
            ],
            "type": "heatmap"
           }
          ],
          "heatmapgl": [
           {
            "colorbar": {
             "outlinewidth": 0,
             "ticks": ""
            },
            "colorscale": [
             [
              0,
              "#0d0887"
             ],
             [
              0.1111111111111111,
              "#46039f"
             ],
             [
              0.2222222222222222,
              "#7201a8"
             ],
             [
              0.3333333333333333,
              "#9c179e"
             ],
             [
              0.4444444444444444,
              "#bd3786"
             ],
             [
              0.5555555555555556,
              "#d8576b"
             ],
             [
              0.6666666666666666,
              "#ed7953"
             ],
             [
              0.7777777777777778,
              "#fb9f3a"
             ],
             [
              0.8888888888888888,
              "#fdca26"
             ],
             [
              1,
              "#f0f921"
             ]
            ],
            "type": "heatmapgl"
           }
          ],
          "histogram": [
           {
            "marker": {
             "pattern": {
              "fillmode": "overlay",
              "size": 10,
              "solidity": 0.2
             }
            },
            "type": "histogram"
           }
          ],
          "histogram2d": [
           {
            "colorbar": {
             "outlinewidth": 0,
             "ticks": ""
            },
            "colorscale": [
             [
              0,
              "#0d0887"
             ],
             [
              0.1111111111111111,
              "#46039f"
             ],
             [
              0.2222222222222222,
              "#7201a8"
             ],
             [
              0.3333333333333333,
              "#9c179e"
             ],
             [
              0.4444444444444444,
              "#bd3786"
             ],
             [
              0.5555555555555556,
              "#d8576b"
             ],
             [
              0.6666666666666666,
              "#ed7953"
             ],
             [
              0.7777777777777778,
              "#fb9f3a"
             ],
             [
              0.8888888888888888,
              "#fdca26"
             ],
             [
              1,
              "#f0f921"
             ]
            ],
            "type": "histogram2d"
           }
          ],
          "histogram2dcontour": [
           {
            "colorbar": {
             "outlinewidth": 0,
             "ticks": ""
            },
            "colorscale": [
             [
              0,
              "#0d0887"
             ],
             [
              0.1111111111111111,
              "#46039f"
             ],
             [
              0.2222222222222222,
              "#7201a8"
             ],
             [
              0.3333333333333333,
              "#9c179e"
             ],
             [
              0.4444444444444444,
              "#bd3786"
             ],
             [
              0.5555555555555556,
              "#d8576b"
             ],
             [
              0.6666666666666666,
              "#ed7953"
             ],
             [
              0.7777777777777778,
              "#fb9f3a"
             ],
             [
              0.8888888888888888,
              "#fdca26"
             ],
             [
              1,
              "#f0f921"
             ]
            ],
            "type": "histogram2dcontour"
           }
          ],
          "mesh3d": [
           {
            "colorbar": {
             "outlinewidth": 0,
             "ticks": ""
            },
            "type": "mesh3d"
           }
          ],
          "parcoords": [
           {
            "line": {
             "colorbar": {
              "outlinewidth": 0,
              "ticks": ""
             }
            },
            "type": "parcoords"
           }
          ],
          "pie": [
           {
            "automargin": true,
            "type": "pie"
           }
          ],
          "scatter": [
           {
            "marker": {
             "colorbar": {
              "outlinewidth": 0,
              "ticks": ""
             }
            },
            "type": "scatter"
           }
          ],
          "scatter3d": [
           {
            "line": {
             "colorbar": {
              "outlinewidth": 0,
              "ticks": ""
             }
            },
            "marker": {
             "colorbar": {
              "outlinewidth": 0,
              "ticks": ""
             }
            },
            "type": "scatter3d"
           }
          ],
          "scattercarpet": [
           {
            "marker": {
             "colorbar": {
              "outlinewidth": 0,
              "ticks": ""
             }
            },
            "type": "scattercarpet"
           }
          ],
          "scattergeo": [
           {
            "marker": {
             "colorbar": {
              "outlinewidth": 0,
              "ticks": ""
             }
            },
            "type": "scattergeo"
           }
          ],
          "scattergl": [
           {
            "marker": {
             "colorbar": {
              "outlinewidth": 0,
              "ticks": ""
             }
            },
            "type": "scattergl"
           }
          ],
          "scattermapbox": [
           {
            "marker": {
             "colorbar": {
              "outlinewidth": 0,
              "ticks": ""
             }
            },
            "type": "scattermapbox"
           }
          ],
          "scatterpolar": [
           {
            "marker": {
             "colorbar": {
              "outlinewidth": 0,
              "ticks": ""
             }
            },
            "type": "scatterpolar"
           }
          ],
          "scatterpolargl": [
           {
            "marker": {
             "colorbar": {
              "outlinewidth": 0,
              "ticks": ""
             }
            },
            "type": "scatterpolargl"
           }
          ],
          "scatterternary": [
           {
            "marker": {
             "colorbar": {
              "outlinewidth": 0,
              "ticks": ""
             }
            },
            "type": "scatterternary"
           }
          ],
          "surface": [
           {
            "colorbar": {
             "outlinewidth": 0,
             "ticks": ""
            },
            "colorscale": [
             [
              0,
              "#0d0887"
             ],
             [
              0.1111111111111111,
              "#46039f"
             ],
             [
              0.2222222222222222,
              "#7201a8"
             ],
             [
              0.3333333333333333,
              "#9c179e"
             ],
             [
              0.4444444444444444,
              "#bd3786"
             ],
             [
              0.5555555555555556,
              "#d8576b"
             ],
             [
              0.6666666666666666,
              "#ed7953"
             ],
             [
              0.7777777777777778,
              "#fb9f3a"
             ],
             [
              0.8888888888888888,
              "#fdca26"
             ],
             [
              1,
              "#f0f921"
             ]
            ],
            "type": "surface"
           }
          ],
          "table": [
           {
            "cells": {
             "fill": {
              "color": "#EBF0F8"
             },
             "line": {
              "color": "white"
             }
            },
            "header": {
             "fill": {
              "color": "#C8D4E3"
             },
             "line": {
              "color": "white"
             }
            },
            "type": "table"
           }
          ]
         },
         "layout": {
          "annotationdefaults": {
           "arrowcolor": "#2a3f5f",
           "arrowhead": 0,
           "arrowwidth": 1
          },
          "autotypenumbers": "strict",
          "coloraxis": {
           "colorbar": {
            "outlinewidth": 0,
            "ticks": ""
           }
          },
          "colorscale": {
           "diverging": [
            [
             0,
             "#8e0152"
            ],
            [
             0.1,
             "#c51b7d"
            ],
            [
             0.2,
             "#de77ae"
            ],
            [
             0.3,
             "#f1b6da"
            ],
            [
             0.4,
             "#fde0ef"
            ],
            [
             0.5,
             "#f7f7f7"
            ],
            [
             0.6,
             "#e6f5d0"
            ],
            [
             0.7,
             "#b8e186"
            ],
            [
             0.8,
             "#7fbc41"
            ],
            [
             0.9,
             "#4d9221"
            ],
            [
             1,
             "#276419"
            ]
           ],
           "sequential": [
            [
             0,
             "#0d0887"
            ],
            [
             0.1111111111111111,
             "#46039f"
            ],
            [
             0.2222222222222222,
             "#7201a8"
            ],
            [
             0.3333333333333333,
             "#9c179e"
            ],
            [
             0.4444444444444444,
             "#bd3786"
            ],
            [
             0.5555555555555556,
             "#d8576b"
            ],
            [
             0.6666666666666666,
             "#ed7953"
            ],
            [
             0.7777777777777778,
             "#fb9f3a"
            ],
            [
             0.8888888888888888,
             "#fdca26"
            ],
            [
             1,
             "#f0f921"
            ]
           ],
           "sequentialminus": [
            [
             0,
             "#0d0887"
            ],
            [
             0.1111111111111111,
             "#46039f"
            ],
            [
             0.2222222222222222,
             "#7201a8"
            ],
            [
             0.3333333333333333,
             "#9c179e"
            ],
            [
             0.4444444444444444,
             "#bd3786"
            ],
            [
             0.5555555555555556,
             "#d8576b"
            ],
            [
             0.6666666666666666,
             "#ed7953"
            ],
            [
             0.7777777777777778,
             "#fb9f3a"
            ],
            [
             0.8888888888888888,
             "#fdca26"
            ],
            [
             1,
             "#f0f921"
            ]
           ]
          },
          "colorway": [
           "#636efa",
           "#EF553B",
           "#00cc96",
           "#ab63fa",
           "#FFA15A",
           "#19d3f3",
           "#FF6692",
           "#B6E880",
           "#FF97FF",
           "#FECB52"
          ],
          "font": {
           "color": "#2a3f5f"
          },
          "geo": {
           "bgcolor": "white",
           "lakecolor": "white",
           "landcolor": "#E5ECF6",
           "showlakes": true,
           "showland": true,
           "subunitcolor": "white"
          },
          "hoverlabel": {
           "align": "left"
          },
          "hovermode": "closest",
          "mapbox": {
           "style": "light"
          },
          "paper_bgcolor": "white",
          "plot_bgcolor": "#E5ECF6",
          "polar": {
           "angularaxis": {
            "gridcolor": "white",
            "linecolor": "white",
            "ticks": ""
           },
           "bgcolor": "#E5ECF6",
           "radialaxis": {
            "gridcolor": "white",
            "linecolor": "white",
            "ticks": ""
           }
          },
          "scene": {
           "xaxis": {
            "backgroundcolor": "#E5ECF6",
            "gridcolor": "white",
            "gridwidth": 2,
            "linecolor": "white",
            "showbackground": true,
            "ticks": "",
            "zerolinecolor": "white"
           },
           "yaxis": {
            "backgroundcolor": "#E5ECF6",
            "gridcolor": "white",
            "gridwidth": 2,
            "linecolor": "white",
            "showbackground": true,
            "ticks": "",
            "zerolinecolor": "white"
           },
           "zaxis": {
            "backgroundcolor": "#E5ECF6",
            "gridcolor": "white",
            "gridwidth": 2,
            "linecolor": "white",
            "showbackground": true,
            "ticks": "",
            "zerolinecolor": "white"
           }
          },
          "shapedefaults": {
           "line": {
            "color": "#2a3f5f"
           }
          },
          "ternary": {
           "aaxis": {
            "gridcolor": "white",
            "linecolor": "white",
            "ticks": ""
           },
           "baxis": {
            "gridcolor": "white",
            "linecolor": "white",
            "ticks": ""
           },
           "bgcolor": "#E5ECF6",
           "caxis": {
            "gridcolor": "white",
            "linecolor": "white",
            "ticks": ""
           }
          },
          "title": {
           "x": 0.05
          },
          "xaxis": {
           "automargin": true,
           "gridcolor": "white",
           "linecolor": "white",
           "ticks": "",
           "title": {
            "standoff": 15
           },
           "zerolinecolor": "white",
           "zerolinewidth": 2
          },
          "yaxis": {
           "automargin": true,
           "gridcolor": "white",
           "linecolor": "white",
           "ticks": "",
           "title": {
            "standoff": 15
           },
           "zerolinecolor": "white",
           "zerolinewidth": 2
          }
         }
        },
        "title": {
         "font": {
          "color": "#4D5663"
         }
        },
        "xaxis": {
         "gridcolor": "#E1E5ED",
         "showgrid": true,
         "tickfont": {
          "color": "#4D5663"
         },
         "title": {
          "font": {
           "color": "#4D5663"
          },
          "text": ""
         },
         "zerolinecolor": "#E1E5ED"
        },
        "yaxis": {
         "gridcolor": "#E1E5ED",
         "showgrid": true,
         "tickfont": {
          "color": "#4D5663"
         },
         "title": {
          "font": {
           "color": "#4D5663"
          },
          "text": ""
         },
         "zerolinecolor": "#E1E5ED"
        }
       }
      },
      "text/html": [
       "<div>                            <div id=\"411d0132-da35-4903-b8d1-c712aa436552\" class=\"plotly-graph-div\" style=\"height:525px; width:100%;\"></div>            <script type=\"text/javascript\">                require([\"plotly\"], function(Plotly) {                    window.PLOTLYENV=window.PLOTLYENV || {};\n",
       "                    window.PLOTLYENV.BASE_URL='https://plot.ly';                                    if (document.getElementById(\"411d0132-da35-4903-b8d1-c712aa436552\")) {                    Plotly.newPlot(                        \"411d0132-da35-4903-b8d1-c712aa436552\",                        [{\"colorscale\":[[0.0,\"rgb(255, 153, 51)\"],[0.1111111111111111,\"rgb(55, 128, 191)\"],[0.2222222222222222,\"rgb(50, 171, 96)\"],[0.3333333333333333,\"rgb(128, 0, 128)\"],[0.4444444444444444,\"rgb(219, 64, 82)\"],[0.5555555555555556,\"rgb(0, 128, 128)\"],[0.6666666666666666,\"rgb(255, 255, 51)\"],[0.7777777777777778,\"rgb(128, 128, 0)\"],[0.8888888888888888,\"rgb(251, 128, 114)\"],[1.0,\"rgb(128, 177, 211)\"]],\"x\":[0,1,2,3,4],\"y\":[\"x\",\"y\",\"z\"],\"z\":[[1,2,3,4,5],[10,20,30,20,10],[5,4,3,2,1]],\"type\":\"surface\"}],                        {\"legend\":{\"bgcolor\":\"#F5F6F9\",\"font\":{\"color\":\"#4D5663\"}},\"paper_bgcolor\":\"#F5F6F9\",\"plot_bgcolor\":\"#F5F6F9\",\"template\":{\"data\":{\"barpolar\":[{\"marker\":{\"line\":{\"color\":\"#E5ECF6\",\"width\":0.5},\"pattern\":{\"fillmode\":\"overlay\",\"size\":10,\"solidity\":0.2}},\"type\":\"barpolar\"}],\"bar\":[{\"error_x\":{\"color\":\"#2a3f5f\"},\"error_y\":{\"color\":\"#2a3f5f\"},\"marker\":{\"line\":{\"color\":\"#E5ECF6\",\"width\":0.5},\"pattern\":{\"fillmode\":\"overlay\",\"size\":10,\"solidity\":0.2}},\"type\":\"bar\"}],\"carpet\":[{\"aaxis\":{\"endlinecolor\":\"#2a3f5f\",\"gridcolor\":\"white\",\"linecolor\":\"white\",\"minorgridcolor\":\"white\",\"startlinecolor\":\"#2a3f5f\"},\"baxis\":{\"endlinecolor\":\"#2a3f5f\",\"gridcolor\":\"white\",\"linecolor\":\"white\",\"minorgridcolor\":\"white\",\"startlinecolor\":\"#2a3f5f\"},\"type\":\"carpet\"}],\"choropleth\":[{\"colorbar\":{\"outlinewidth\":0,\"ticks\":\"\"},\"type\":\"choropleth\"}],\"contourcarpet\":[{\"colorbar\":{\"outlinewidth\":0,\"ticks\":\"\"},\"type\":\"contourcarpet\"}],\"contour\":[{\"colorbar\":{\"outlinewidth\":0,\"ticks\":\"\"},\"colorscale\":[[0.0,\"#0d0887\"],[0.1111111111111111,\"#46039f\"],[0.2222222222222222,\"#7201a8\"],[0.3333333333333333,\"#9c179e\"],[0.4444444444444444,\"#bd3786\"],[0.5555555555555556,\"#d8576b\"],[0.6666666666666666,\"#ed7953\"],[0.7777777777777778,\"#fb9f3a\"],[0.8888888888888888,\"#fdca26\"],[1.0,\"#f0f921\"]],\"type\":\"contour\"}],\"heatmapgl\":[{\"colorbar\":{\"outlinewidth\":0,\"ticks\":\"\"},\"colorscale\":[[0.0,\"#0d0887\"],[0.1111111111111111,\"#46039f\"],[0.2222222222222222,\"#7201a8\"],[0.3333333333333333,\"#9c179e\"],[0.4444444444444444,\"#bd3786\"],[0.5555555555555556,\"#d8576b\"],[0.6666666666666666,\"#ed7953\"],[0.7777777777777778,\"#fb9f3a\"],[0.8888888888888888,\"#fdca26\"],[1.0,\"#f0f921\"]],\"type\":\"heatmapgl\"}],\"heatmap\":[{\"colorbar\":{\"outlinewidth\":0,\"ticks\":\"\"},\"colorscale\":[[0.0,\"#0d0887\"],[0.1111111111111111,\"#46039f\"],[0.2222222222222222,\"#7201a8\"],[0.3333333333333333,\"#9c179e\"],[0.4444444444444444,\"#bd3786\"],[0.5555555555555556,\"#d8576b\"],[0.6666666666666666,\"#ed7953\"],[0.7777777777777778,\"#fb9f3a\"],[0.8888888888888888,\"#fdca26\"],[1.0,\"#f0f921\"]],\"type\":\"heatmap\"}],\"histogram2dcontour\":[{\"colorbar\":{\"outlinewidth\":0,\"ticks\":\"\"},\"colorscale\":[[0.0,\"#0d0887\"],[0.1111111111111111,\"#46039f\"],[0.2222222222222222,\"#7201a8\"],[0.3333333333333333,\"#9c179e\"],[0.4444444444444444,\"#bd3786\"],[0.5555555555555556,\"#d8576b\"],[0.6666666666666666,\"#ed7953\"],[0.7777777777777778,\"#fb9f3a\"],[0.8888888888888888,\"#fdca26\"],[1.0,\"#f0f921\"]],\"type\":\"histogram2dcontour\"}],\"histogram2d\":[{\"colorbar\":{\"outlinewidth\":0,\"ticks\":\"\"},\"colorscale\":[[0.0,\"#0d0887\"],[0.1111111111111111,\"#46039f\"],[0.2222222222222222,\"#7201a8\"],[0.3333333333333333,\"#9c179e\"],[0.4444444444444444,\"#bd3786\"],[0.5555555555555556,\"#d8576b\"],[0.6666666666666666,\"#ed7953\"],[0.7777777777777778,\"#fb9f3a\"],[0.8888888888888888,\"#fdca26\"],[1.0,\"#f0f921\"]],\"type\":\"histogram2d\"}],\"histogram\":[{\"marker\":{\"pattern\":{\"fillmode\":\"overlay\",\"size\":10,\"solidity\":0.2}},\"type\":\"histogram\"}],\"mesh3d\":[{\"colorbar\":{\"outlinewidth\":0,\"ticks\":\"\"},\"type\":\"mesh3d\"}],\"parcoords\":[{\"line\":{\"colorbar\":{\"outlinewidth\":0,\"ticks\":\"\"}},\"type\":\"parcoords\"}],\"pie\":[{\"automargin\":true,\"type\":\"pie\"}],\"scatter3d\":[{\"line\":{\"colorbar\":{\"outlinewidth\":0,\"ticks\":\"\"}},\"marker\":{\"colorbar\":{\"outlinewidth\":0,\"ticks\":\"\"}},\"type\":\"scatter3d\"}],\"scattercarpet\":[{\"marker\":{\"colorbar\":{\"outlinewidth\":0,\"ticks\":\"\"}},\"type\":\"scattercarpet\"}],\"scattergeo\":[{\"marker\":{\"colorbar\":{\"outlinewidth\":0,\"ticks\":\"\"}},\"type\":\"scattergeo\"}],\"scattergl\":[{\"marker\":{\"colorbar\":{\"outlinewidth\":0,\"ticks\":\"\"}},\"type\":\"scattergl\"}],\"scattermapbox\":[{\"marker\":{\"colorbar\":{\"outlinewidth\":0,\"ticks\":\"\"}},\"type\":\"scattermapbox\"}],\"scatterpolargl\":[{\"marker\":{\"colorbar\":{\"outlinewidth\":0,\"ticks\":\"\"}},\"type\":\"scatterpolargl\"}],\"scatterpolar\":[{\"marker\":{\"colorbar\":{\"outlinewidth\":0,\"ticks\":\"\"}},\"type\":\"scatterpolar\"}],\"scatter\":[{\"marker\":{\"colorbar\":{\"outlinewidth\":0,\"ticks\":\"\"}},\"type\":\"scatter\"}],\"scatterternary\":[{\"marker\":{\"colorbar\":{\"outlinewidth\":0,\"ticks\":\"\"}},\"type\":\"scatterternary\"}],\"surface\":[{\"colorbar\":{\"outlinewidth\":0,\"ticks\":\"\"},\"colorscale\":[[0.0,\"#0d0887\"],[0.1111111111111111,\"#46039f\"],[0.2222222222222222,\"#7201a8\"],[0.3333333333333333,\"#9c179e\"],[0.4444444444444444,\"#bd3786\"],[0.5555555555555556,\"#d8576b\"],[0.6666666666666666,\"#ed7953\"],[0.7777777777777778,\"#fb9f3a\"],[0.8888888888888888,\"#fdca26\"],[1.0,\"#f0f921\"]],\"type\":\"surface\"}],\"table\":[{\"cells\":{\"fill\":{\"color\":\"#EBF0F8\"},\"line\":{\"color\":\"white\"}},\"header\":{\"fill\":{\"color\":\"#C8D4E3\"},\"line\":{\"color\":\"white\"}},\"type\":\"table\"}]},\"layout\":{\"annotationdefaults\":{\"arrowcolor\":\"#2a3f5f\",\"arrowhead\":0,\"arrowwidth\":1},\"autotypenumbers\":\"strict\",\"coloraxis\":{\"colorbar\":{\"outlinewidth\":0,\"ticks\":\"\"}},\"colorscale\":{\"diverging\":[[0,\"#8e0152\"],[0.1,\"#c51b7d\"],[0.2,\"#de77ae\"],[0.3,\"#f1b6da\"],[0.4,\"#fde0ef\"],[0.5,\"#f7f7f7\"],[0.6,\"#e6f5d0\"],[0.7,\"#b8e186\"],[0.8,\"#7fbc41\"],[0.9,\"#4d9221\"],[1,\"#276419\"]],\"sequential\":[[0.0,\"#0d0887\"],[0.1111111111111111,\"#46039f\"],[0.2222222222222222,\"#7201a8\"],[0.3333333333333333,\"#9c179e\"],[0.4444444444444444,\"#bd3786\"],[0.5555555555555556,\"#d8576b\"],[0.6666666666666666,\"#ed7953\"],[0.7777777777777778,\"#fb9f3a\"],[0.8888888888888888,\"#fdca26\"],[1.0,\"#f0f921\"]],\"sequentialminus\":[[0.0,\"#0d0887\"],[0.1111111111111111,\"#46039f\"],[0.2222222222222222,\"#7201a8\"],[0.3333333333333333,\"#9c179e\"],[0.4444444444444444,\"#bd3786\"],[0.5555555555555556,\"#d8576b\"],[0.6666666666666666,\"#ed7953\"],[0.7777777777777778,\"#fb9f3a\"],[0.8888888888888888,\"#fdca26\"],[1.0,\"#f0f921\"]]},\"colorway\":[\"#636efa\",\"#EF553B\",\"#00cc96\",\"#ab63fa\",\"#FFA15A\",\"#19d3f3\",\"#FF6692\",\"#B6E880\",\"#FF97FF\",\"#FECB52\"],\"font\":{\"color\":\"#2a3f5f\"},\"geo\":{\"bgcolor\":\"white\",\"lakecolor\":\"white\",\"landcolor\":\"#E5ECF6\",\"showlakes\":true,\"showland\":true,\"subunitcolor\":\"white\"},\"hoverlabel\":{\"align\":\"left\"},\"hovermode\":\"closest\",\"mapbox\":{\"style\":\"light\"},\"paper_bgcolor\":\"white\",\"plot_bgcolor\":\"#E5ECF6\",\"polar\":{\"angularaxis\":{\"gridcolor\":\"white\",\"linecolor\":\"white\",\"ticks\":\"\"},\"bgcolor\":\"#E5ECF6\",\"radialaxis\":{\"gridcolor\":\"white\",\"linecolor\":\"white\",\"ticks\":\"\"}},\"scene\":{\"xaxis\":{\"backgroundcolor\":\"#E5ECF6\",\"gridcolor\":\"white\",\"gridwidth\":2,\"linecolor\":\"white\",\"showbackground\":true,\"ticks\":\"\",\"zerolinecolor\":\"white\"},\"yaxis\":{\"backgroundcolor\":\"#E5ECF6\",\"gridcolor\":\"white\",\"gridwidth\":2,\"linecolor\":\"white\",\"showbackground\":true,\"ticks\":\"\",\"zerolinecolor\":\"white\"},\"zaxis\":{\"backgroundcolor\":\"#E5ECF6\",\"gridcolor\":\"white\",\"gridwidth\":2,\"linecolor\":\"white\",\"showbackground\":true,\"ticks\":\"\",\"zerolinecolor\":\"white\"}},\"shapedefaults\":{\"line\":{\"color\":\"#2a3f5f\"}},\"ternary\":{\"aaxis\":{\"gridcolor\":\"white\",\"linecolor\":\"white\",\"ticks\":\"\"},\"baxis\":{\"gridcolor\":\"white\",\"linecolor\":\"white\",\"ticks\":\"\"},\"bgcolor\":\"#E5ECF6\",\"caxis\":{\"gridcolor\":\"white\",\"linecolor\":\"white\",\"ticks\":\"\"}},\"title\":{\"x\":0.05},\"xaxis\":{\"automargin\":true,\"gridcolor\":\"white\",\"linecolor\":\"white\",\"ticks\":\"\",\"title\":{\"standoff\":15},\"zerolinecolor\":\"white\",\"zerolinewidth\":2},\"yaxis\":{\"automargin\":true,\"gridcolor\":\"white\",\"linecolor\":\"white\",\"ticks\":\"\",\"title\":{\"standoff\":15},\"zerolinecolor\":\"white\",\"zerolinewidth\":2}}},\"title\":{\"font\":{\"color\":\"#4D5663\"}},\"xaxis\":{\"gridcolor\":\"#E1E5ED\",\"showgrid\":true,\"tickfont\":{\"color\":\"#4D5663\"},\"title\":{\"font\":{\"color\":\"#4D5663\"},\"text\":\"\"},\"zerolinecolor\":\"#E1E5ED\"},\"yaxis\":{\"gridcolor\":\"#E1E5ED\",\"showgrid\":true,\"tickfont\":{\"color\":\"#4D5663\"},\"title\":{\"font\":{\"color\":\"#4D5663\"},\"text\":\"\"},\"zerolinecolor\":\"#E1E5ED\"}},                        {\"showLink\": true, \"linkText\": \"Export to plot.ly\", \"plotlyServerURL\": \"https://plot.ly\", \"responsive\": true}                    ).then(function(){\n",
       "                            \n",
       "var gd = document.getElementById('411d0132-da35-4903-b8d1-c712aa436552');\n",
       "var x = new MutationObserver(function (mutations, observer) {{\n",
       "        var display = window.getComputedStyle(gd).display;\n",
       "        if (!display || display === 'none') {{\n",
       "            console.log([gd, 'removed!']);\n",
       "            Plotly.purge(gd);\n",
       "            observer.disconnect();\n",
       "        }}\n",
       "}});\n",
       "\n",
       "// Listen for the removal of the full notebook cells\n",
       "var notebookContainer = gd.closest('#notebook-container');\n",
       "if (notebookContainer) {{\n",
       "    x.observe(notebookContainer, {childList: true});\n",
       "}}\n",
       "\n",
       "// Listen for the clearing of the current output cell\n",
       "var outputEl = gd.closest('.output');\n",
       "if (outputEl) {{\n",
       "    x.observe(outputEl, {childList: true});\n",
       "}}\n",
       "\n",
       "                        })                };                });            </script>        </div>"
      ]
     },
     "metadata": {},
     "output_type": "display_data"
    }
   ],
   "source": [
    "df3 = pd.DataFrame({'x':[1,2,3,4,5],'y':[10,20,30,20,10],'z':[5,4,3,2,1]})\n",
    "df3.iplot(kind='surface')"
   ]
  },
  {
   "cell_type": "code",
   "execution_count": 39,
   "id": "b039d173",
   "metadata": {},
   "outputs": [
    {
     "data": {
      "application/vnd.plotly.v1+json": {
       "config": {
        "linkText": "Export to plot.ly",
        "plotlyServerURL": "https://plot.ly",
        "showLink": true
       },
       "data": [
        {
         "colorscale": [
          [
           0,
           "rgb(165,0,38)"
          ],
          [
           0.1,
           "rgb(215,48,39)"
          ],
          [
           0.2,
           "rgb(244,109,67)"
          ],
          [
           0.3,
           "rgb(253,174,97)"
          ],
          [
           0.4,
           "rgb(254,224,144)"
          ],
          [
           0.5,
           "rgb(255,255,191)"
          ],
          [
           0.6,
           "rgb(224,243,248)"
          ],
          [
           0.7,
           "rgb(171,217,233)"
          ],
          [
           0.8,
           "rgb(116,173,209)"
          ],
          [
           0.9,
           "rgb(69,117,180)"
          ],
          [
           1,
           "rgb(49,54,149)"
          ]
         ],
         "type": "surface",
         "x": [
          0,
          1,
          2,
          3,
          4
         ],
         "y": [
          "x",
          "y",
          "z"
         ],
         "z": [
          [
           1,
           2,
           3,
           4,
           5
          ],
          [
           10,
           20,
           30,
           20,
           10
          ],
          [
           5,
           4,
           3,
           2,
           1
          ]
         ]
        }
       ],
       "layout": {
        "legend": {
         "bgcolor": "#F5F6F9",
         "font": {
          "color": "#4D5663"
         }
        },
        "paper_bgcolor": "#F5F6F9",
        "plot_bgcolor": "#F5F6F9",
        "template": {
         "data": {
          "bar": [
           {
            "error_x": {
             "color": "#2a3f5f"
            },
            "error_y": {
             "color": "#2a3f5f"
            },
            "marker": {
             "line": {
              "color": "#E5ECF6",
              "width": 0.5
             },
             "pattern": {
              "fillmode": "overlay",
              "size": 10,
              "solidity": 0.2
             }
            },
            "type": "bar"
           }
          ],
          "barpolar": [
           {
            "marker": {
             "line": {
              "color": "#E5ECF6",
              "width": 0.5
             },
             "pattern": {
              "fillmode": "overlay",
              "size": 10,
              "solidity": 0.2
             }
            },
            "type": "barpolar"
           }
          ],
          "carpet": [
           {
            "aaxis": {
             "endlinecolor": "#2a3f5f",
             "gridcolor": "white",
             "linecolor": "white",
             "minorgridcolor": "white",
             "startlinecolor": "#2a3f5f"
            },
            "baxis": {
             "endlinecolor": "#2a3f5f",
             "gridcolor": "white",
             "linecolor": "white",
             "minorgridcolor": "white",
             "startlinecolor": "#2a3f5f"
            },
            "type": "carpet"
           }
          ],
          "choropleth": [
           {
            "colorbar": {
             "outlinewidth": 0,
             "ticks": ""
            },
            "type": "choropleth"
           }
          ],
          "contour": [
           {
            "colorbar": {
             "outlinewidth": 0,
             "ticks": ""
            },
            "colorscale": [
             [
              0,
              "#0d0887"
             ],
             [
              0.1111111111111111,
              "#46039f"
             ],
             [
              0.2222222222222222,
              "#7201a8"
             ],
             [
              0.3333333333333333,
              "#9c179e"
             ],
             [
              0.4444444444444444,
              "#bd3786"
             ],
             [
              0.5555555555555556,
              "#d8576b"
             ],
             [
              0.6666666666666666,
              "#ed7953"
             ],
             [
              0.7777777777777778,
              "#fb9f3a"
             ],
             [
              0.8888888888888888,
              "#fdca26"
             ],
             [
              1,
              "#f0f921"
             ]
            ],
            "type": "contour"
           }
          ],
          "contourcarpet": [
           {
            "colorbar": {
             "outlinewidth": 0,
             "ticks": ""
            },
            "type": "contourcarpet"
           }
          ],
          "heatmap": [
           {
            "colorbar": {
             "outlinewidth": 0,
             "ticks": ""
            },
            "colorscale": [
             [
              0,
              "#0d0887"
             ],
             [
              0.1111111111111111,
              "#46039f"
             ],
             [
              0.2222222222222222,
              "#7201a8"
             ],
             [
              0.3333333333333333,
              "#9c179e"
             ],
             [
              0.4444444444444444,
              "#bd3786"
             ],
             [
              0.5555555555555556,
              "#d8576b"
             ],
             [
              0.6666666666666666,
              "#ed7953"
             ],
             [
              0.7777777777777778,
              "#fb9f3a"
             ],
             [
              0.8888888888888888,
              "#fdca26"
             ],
             [
              1,
              "#f0f921"
             ]
            ],
            "type": "heatmap"
           }
          ],
          "heatmapgl": [
           {
            "colorbar": {
             "outlinewidth": 0,
             "ticks": ""
            },
            "colorscale": [
             [
              0,
              "#0d0887"
             ],
             [
              0.1111111111111111,
              "#46039f"
             ],
             [
              0.2222222222222222,
              "#7201a8"
             ],
             [
              0.3333333333333333,
              "#9c179e"
             ],
             [
              0.4444444444444444,
              "#bd3786"
             ],
             [
              0.5555555555555556,
              "#d8576b"
             ],
             [
              0.6666666666666666,
              "#ed7953"
             ],
             [
              0.7777777777777778,
              "#fb9f3a"
             ],
             [
              0.8888888888888888,
              "#fdca26"
             ],
             [
              1,
              "#f0f921"
             ]
            ],
            "type": "heatmapgl"
           }
          ],
          "histogram": [
           {
            "marker": {
             "pattern": {
              "fillmode": "overlay",
              "size": 10,
              "solidity": 0.2
             }
            },
            "type": "histogram"
           }
          ],
          "histogram2d": [
           {
            "colorbar": {
             "outlinewidth": 0,
             "ticks": ""
            },
            "colorscale": [
             [
              0,
              "#0d0887"
             ],
             [
              0.1111111111111111,
              "#46039f"
             ],
             [
              0.2222222222222222,
              "#7201a8"
             ],
             [
              0.3333333333333333,
              "#9c179e"
             ],
             [
              0.4444444444444444,
              "#bd3786"
             ],
             [
              0.5555555555555556,
              "#d8576b"
             ],
             [
              0.6666666666666666,
              "#ed7953"
             ],
             [
              0.7777777777777778,
              "#fb9f3a"
             ],
             [
              0.8888888888888888,
              "#fdca26"
             ],
             [
              1,
              "#f0f921"
             ]
            ],
            "type": "histogram2d"
           }
          ],
          "histogram2dcontour": [
           {
            "colorbar": {
             "outlinewidth": 0,
             "ticks": ""
            },
            "colorscale": [
             [
              0,
              "#0d0887"
             ],
             [
              0.1111111111111111,
              "#46039f"
             ],
             [
              0.2222222222222222,
              "#7201a8"
             ],
             [
              0.3333333333333333,
              "#9c179e"
             ],
             [
              0.4444444444444444,
              "#bd3786"
             ],
             [
              0.5555555555555556,
              "#d8576b"
             ],
             [
              0.6666666666666666,
              "#ed7953"
             ],
             [
              0.7777777777777778,
              "#fb9f3a"
             ],
             [
              0.8888888888888888,
              "#fdca26"
             ],
             [
              1,
              "#f0f921"
             ]
            ],
            "type": "histogram2dcontour"
           }
          ],
          "mesh3d": [
           {
            "colorbar": {
             "outlinewidth": 0,
             "ticks": ""
            },
            "type": "mesh3d"
           }
          ],
          "parcoords": [
           {
            "line": {
             "colorbar": {
              "outlinewidth": 0,
              "ticks": ""
             }
            },
            "type": "parcoords"
           }
          ],
          "pie": [
           {
            "automargin": true,
            "type": "pie"
           }
          ],
          "scatter": [
           {
            "marker": {
             "colorbar": {
              "outlinewidth": 0,
              "ticks": ""
             }
            },
            "type": "scatter"
           }
          ],
          "scatter3d": [
           {
            "line": {
             "colorbar": {
              "outlinewidth": 0,
              "ticks": ""
             }
            },
            "marker": {
             "colorbar": {
              "outlinewidth": 0,
              "ticks": ""
             }
            },
            "type": "scatter3d"
           }
          ],
          "scattercarpet": [
           {
            "marker": {
             "colorbar": {
              "outlinewidth": 0,
              "ticks": ""
             }
            },
            "type": "scattercarpet"
           }
          ],
          "scattergeo": [
           {
            "marker": {
             "colorbar": {
              "outlinewidth": 0,
              "ticks": ""
             }
            },
            "type": "scattergeo"
           }
          ],
          "scattergl": [
           {
            "marker": {
             "colorbar": {
              "outlinewidth": 0,
              "ticks": ""
             }
            },
            "type": "scattergl"
           }
          ],
          "scattermapbox": [
           {
            "marker": {
             "colorbar": {
              "outlinewidth": 0,
              "ticks": ""
             }
            },
            "type": "scattermapbox"
           }
          ],
          "scatterpolar": [
           {
            "marker": {
             "colorbar": {
              "outlinewidth": 0,
              "ticks": ""
             }
            },
            "type": "scatterpolar"
           }
          ],
          "scatterpolargl": [
           {
            "marker": {
             "colorbar": {
              "outlinewidth": 0,
              "ticks": ""
             }
            },
            "type": "scatterpolargl"
           }
          ],
          "scatterternary": [
           {
            "marker": {
             "colorbar": {
              "outlinewidth": 0,
              "ticks": ""
             }
            },
            "type": "scatterternary"
           }
          ],
          "surface": [
           {
            "colorbar": {
             "outlinewidth": 0,
             "ticks": ""
            },
            "colorscale": [
             [
              0,
              "#0d0887"
             ],
             [
              0.1111111111111111,
              "#46039f"
             ],
             [
              0.2222222222222222,
              "#7201a8"
             ],
             [
              0.3333333333333333,
              "#9c179e"
             ],
             [
              0.4444444444444444,
              "#bd3786"
             ],
             [
              0.5555555555555556,
              "#d8576b"
             ],
             [
              0.6666666666666666,
              "#ed7953"
             ],
             [
              0.7777777777777778,
              "#fb9f3a"
             ],
             [
              0.8888888888888888,
              "#fdca26"
             ],
             [
              1,
              "#f0f921"
             ]
            ],
            "type": "surface"
           }
          ],
          "table": [
           {
            "cells": {
             "fill": {
              "color": "#EBF0F8"
             },
             "line": {
              "color": "white"
             }
            },
            "header": {
             "fill": {
              "color": "#C8D4E3"
             },
             "line": {
              "color": "white"
             }
            },
            "type": "table"
           }
          ]
         },
         "layout": {
          "annotationdefaults": {
           "arrowcolor": "#2a3f5f",
           "arrowhead": 0,
           "arrowwidth": 1
          },
          "autotypenumbers": "strict",
          "coloraxis": {
           "colorbar": {
            "outlinewidth": 0,
            "ticks": ""
           }
          },
          "colorscale": {
           "diverging": [
            [
             0,
             "#8e0152"
            ],
            [
             0.1,
             "#c51b7d"
            ],
            [
             0.2,
             "#de77ae"
            ],
            [
             0.3,
             "#f1b6da"
            ],
            [
             0.4,
             "#fde0ef"
            ],
            [
             0.5,
             "#f7f7f7"
            ],
            [
             0.6,
             "#e6f5d0"
            ],
            [
             0.7,
             "#b8e186"
            ],
            [
             0.8,
             "#7fbc41"
            ],
            [
             0.9,
             "#4d9221"
            ],
            [
             1,
             "#276419"
            ]
           ],
           "sequential": [
            [
             0,
             "#0d0887"
            ],
            [
             0.1111111111111111,
             "#46039f"
            ],
            [
             0.2222222222222222,
             "#7201a8"
            ],
            [
             0.3333333333333333,
             "#9c179e"
            ],
            [
             0.4444444444444444,
             "#bd3786"
            ],
            [
             0.5555555555555556,
             "#d8576b"
            ],
            [
             0.6666666666666666,
             "#ed7953"
            ],
            [
             0.7777777777777778,
             "#fb9f3a"
            ],
            [
             0.8888888888888888,
             "#fdca26"
            ],
            [
             1,
             "#f0f921"
            ]
           ],
           "sequentialminus": [
            [
             0,
             "#0d0887"
            ],
            [
             0.1111111111111111,
             "#46039f"
            ],
            [
             0.2222222222222222,
             "#7201a8"
            ],
            [
             0.3333333333333333,
             "#9c179e"
            ],
            [
             0.4444444444444444,
             "#bd3786"
            ],
            [
             0.5555555555555556,
             "#d8576b"
            ],
            [
             0.6666666666666666,
             "#ed7953"
            ],
            [
             0.7777777777777778,
             "#fb9f3a"
            ],
            [
             0.8888888888888888,
             "#fdca26"
            ],
            [
             1,
             "#f0f921"
            ]
           ]
          },
          "colorway": [
           "#636efa",
           "#EF553B",
           "#00cc96",
           "#ab63fa",
           "#FFA15A",
           "#19d3f3",
           "#FF6692",
           "#B6E880",
           "#FF97FF",
           "#FECB52"
          ],
          "font": {
           "color": "#2a3f5f"
          },
          "geo": {
           "bgcolor": "white",
           "lakecolor": "white",
           "landcolor": "#E5ECF6",
           "showlakes": true,
           "showland": true,
           "subunitcolor": "white"
          },
          "hoverlabel": {
           "align": "left"
          },
          "hovermode": "closest",
          "mapbox": {
           "style": "light"
          },
          "paper_bgcolor": "white",
          "plot_bgcolor": "#E5ECF6",
          "polar": {
           "angularaxis": {
            "gridcolor": "white",
            "linecolor": "white",
            "ticks": ""
           },
           "bgcolor": "#E5ECF6",
           "radialaxis": {
            "gridcolor": "white",
            "linecolor": "white",
            "ticks": ""
           }
          },
          "scene": {
           "xaxis": {
            "backgroundcolor": "#E5ECF6",
            "gridcolor": "white",
            "gridwidth": 2,
            "linecolor": "white",
            "showbackground": true,
            "ticks": "",
            "zerolinecolor": "white"
           },
           "yaxis": {
            "backgroundcolor": "#E5ECF6",
            "gridcolor": "white",
            "gridwidth": 2,
            "linecolor": "white",
            "showbackground": true,
            "ticks": "",
            "zerolinecolor": "white"
           },
           "zaxis": {
            "backgroundcolor": "#E5ECF6",
            "gridcolor": "white",
            "gridwidth": 2,
            "linecolor": "white",
            "showbackground": true,
            "ticks": "",
            "zerolinecolor": "white"
           }
          },
          "shapedefaults": {
           "line": {
            "color": "#2a3f5f"
           }
          },
          "ternary": {
           "aaxis": {
            "gridcolor": "white",
            "linecolor": "white",
            "ticks": ""
           },
           "baxis": {
            "gridcolor": "white",
            "linecolor": "white",
            "ticks": ""
           },
           "bgcolor": "#E5ECF6",
           "caxis": {
            "gridcolor": "white",
            "linecolor": "white",
            "ticks": ""
           }
          },
          "title": {
           "x": 0.05
          },
          "xaxis": {
           "automargin": true,
           "gridcolor": "white",
           "linecolor": "white",
           "ticks": "",
           "title": {
            "standoff": 15
           },
           "zerolinecolor": "white",
           "zerolinewidth": 2
          },
          "yaxis": {
           "automargin": true,
           "gridcolor": "white",
           "linecolor": "white",
           "ticks": "",
           "title": {
            "standoff": 15
           },
           "zerolinecolor": "white",
           "zerolinewidth": 2
          }
         }
        },
        "title": {
         "font": {
          "color": "#4D5663"
         }
        },
        "xaxis": {
         "gridcolor": "#E1E5ED",
         "showgrid": true,
         "tickfont": {
          "color": "#4D5663"
         },
         "title": {
          "font": {
           "color": "#4D5663"
          },
          "text": ""
         },
         "zerolinecolor": "#E1E5ED"
        },
        "yaxis": {
         "gridcolor": "#E1E5ED",
         "showgrid": true,
         "tickfont": {
          "color": "#4D5663"
         },
         "title": {
          "font": {
           "color": "#4D5663"
          },
          "text": ""
         },
         "zerolinecolor": "#E1E5ED"
        }
       }
      },
      "text/html": [
       "<div>                            <div id=\"c21a636b-14ec-491a-afaf-19bccfac51cf\" class=\"plotly-graph-div\" style=\"height:525px; width:100%;\"></div>            <script type=\"text/javascript\">                require([\"plotly\"], function(Plotly) {                    window.PLOTLYENV=window.PLOTLYENV || {};\n",
       "                    window.PLOTLYENV.BASE_URL='https://plot.ly';                                    if (document.getElementById(\"c21a636b-14ec-491a-afaf-19bccfac51cf\")) {                    Plotly.newPlot(                        \"c21a636b-14ec-491a-afaf-19bccfac51cf\",                        [{\"colorscale\":[[0.0,\"rgb(165,0,38)\"],[0.1,\"rgb(215,48,39)\"],[0.2,\"rgb(244,109,67)\"],[0.3,\"rgb(253,174,97)\"],[0.4,\"rgb(254,224,144)\"],[0.5,\"rgb(255,255,191)\"],[0.6,\"rgb(224,243,248)\"],[0.7,\"rgb(171,217,233)\"],[0.8,\"rgb(116,173,209)\"],[0.9,\"rgb(69,117,180)\"],[1.0,\"rgb(49,54,149)\"]],\"x\":[0,1,2,3,4],\"y\":[\"x\",\"y\",\"z\"],\"z\":[[1,2,3,4,5],[10,20,30,20,10],[5,4,3,2,1]],\"type\":\"surface\"}],                        {\"legend\":{\"bgcolor\":\"#F5F6F9\",\"font\":{\"color\":\"#4D5663\"}},\"paper_bgcolor\":\"#F5F6F9\",\"plot_bgcolor\":\"#F5F6F9\",\"template\":{\"data\":{\"barpolar\":[{\"marker\":{\"line\":{\"color\":\"#E5ECF6\",\"width\":0.5},\"pattern\":{\"fillmode\":\"overlay\",\"size\":10,\"solidity\":0.2}},\"type\":\"barpolar\"}],\"bar\":[{\"error_x\":{\"color\":\"#2a3f5f\"},\"error_y\":{\"color\":\"#2a3f5f\"},\"marker\":{\"line\":{\"color\":\"#E5ECF6\",\"width\":0.5},\"pattern\":{\"fillmode\":\"overlay\",\"size\":10,\"solidity\":0.2}},\"type\":\"bar\"}],\"carpet\":[{\"aaxis\":{\"endlinecolor\":\"#2a3f5f\",\"gridcolor\":\"white\",\"linecolor\":\"white\",\"minorgridcolor\":\"white\",\"startlinecolor\":\"#2a3f5f\"},\"baxis\":{\"endlinecolor\":\"#2a3f5f\",\"gridcolor\":\"white\",\"linecolor\":\"white\",\"minorgridcolor\":\"white\",\"startlinecolor\":\"#2a3f5f\"},\"type\":\"carpet\"}],\"choropleth\":[{\"colorbar\":{\"outlinewidth\":0,\"ticks\":\"\"},\"type\":\"choropleth\"}],\"contourcarpet\":[{\"colorbar\":{\"outlinewidth\":0,\"ticks\":\"\"},\"type\":\"contourcarpet\"}],\"contour\":[{\"colorbar\":{\"outlinewidth\":0,\"ticks\":\"\"},\"colorscale\":[[0.0,\"#0d0887\"],[0.1111111111111111,\"#46039f\"],[0.2222222222222222,\"#7201a8\"],[0.3333333333333333,\"#9c179e\"],[0.4444444444444444,\"#bd3786\"],[0.5555555555555556,\"#d8576b\"],[0.6666666666666666,\"#ed7953\"],[0.7777777777777778,\"#fb9f3a\"],[0.8888888888888888,\"#fdca26\"],[1.0,\"#f0f921\"]],\"type\":\"contour\"}],\"heatmapgl\":[{\"colorbar\":{\"outlinewidth\":0,\"ticks\":\"\"},\"colorscale\":[[0.0,\"#0d0887\"],[0.1111111111111111,\"#46039f\"],[0.2222222222222222,\"#7201a8\"],[0.3333333333333333,\"#9c179e\"],[0.4444444444444444,\"#bd3786\"],[0.5555555555555556,\"#d8576b\"],[0.6666666666666666,\"#ed7953\"],[0.7777777777777778,\"#fb9f3a\"],[0.8888888888888888,\"#fdca26\"],[1.0,\"#f0f921\"]],\"type\":\"heatmapgl\"}],\"heatmap\":[{\"colorbar\":{\"outlinewidth\":0,\"ticks\":\"\"},\"colorscale\":[[0.0,\"#0d0887\"],[0.1111111111111111,\"#46039f\"],[0.2222222222222222,\"#7201a8\"],[0.3333333333333333,\"#9c179e\"],[0.4444444444444444,\"#bd3786\"],[0.5555555555555556,\"#d8576b\"],[0.6666666666666666,\"#ed7953\"],[0.7777777777777778,\"#fb9f3a\"],[0.8888888888888888,\"#fdca26\"],[1.0,\"#f0f921\"]],\"type\":\"heatmap\"}],\"histogram2dcontour\":[{\"colorbar\":{\"outlinewidth\":0,\"ticks\":\"\"},\"colorscale\":[[0.0,\"#0d0887\"],[0.1111111111111111,\"#46039f\"],[0.2222222222222222,\"#7201a8\"],[0.3333333333333333,\"#9c179e\"],[0.4444444444444444,\"#bd3786\"],[0.5555555555555556,\"#d8576b\"],[0.6666666666666666,\"#ed7953\"],[0.7777777777777778,\"#fb9f3a\"],[0.8888888888888888,\"#fdca26\"],[1.0,\"#f0f921\"]],\"type\":\"histogram2dcontour\"}],\"histogram2d\":[{\"colorbar\":{\"outlinewidth\":0,\"ticks\":\"\"},\"colorscale\":[[0.0,\"#0d0887\"],[0.1111111111111111,\"#46039f\"],[0.2222222222222222,\"#7201a8\"],[0.3333333333333333,\"#9c179e\"],[0.4444444444444444,\"#bd3786\"],[0.5555555555555556,\"#d8576b\"],[0.6666666666666666,\"#ed7953\"],[0.7777777777777778,\"#fb9f3a\"],[0.8888888888888888,\"#fdca26\"],[1.0,\"#f0f921\"]],\"type\":\"histogram2d\"}],\"histogram\":[{\"marker\":{\"pattern\":{\"fillmode\":\"overlay\",\"size\":10,\"solidity\":0.2}},\"type\":\"histogram\"}],\"mesh3d\":[{\"colorbar\":{\"outlinewidth\":0,\"ticks\":\"\"},\"type\":\"mesh3d\"}],\"parcoords\":[{\"line\":{\"colorbar\":{\"outlinewidth\":0,\"ticks\":\"\"}},\"type\":\"parcoords\"}],\"pie\":[{\"automargin\":true,\"type\":\"pie\"}],\"scatter3d\":[{\"line\":{\"colorbar\":{\"outlinewidth\":0,\"ticks\":\"\"}},\"marker\":{\"colorbar\":{\"outlinewidth\":0,\"ticks\":\"\"}},\"type\":\"scatter3d\"}],\"scattercarpet\":[{\"marker\":{\"colorbar\":{\"outlinewidth\":0,\"ticks\":\"\"}},\"type\":\"scattercarpet\"}],\"scattergeo\":[{\"marker\":{\"colorbar\":{\"outlinewidth\":0,\"ticks\":\"\"}},\"type\":\"scattergeo\"}],\"scattergl\":[{\"marker\":{\"colorbar\":{\"outlinewidth\":0,\"ticks\":\"\"}},\"type\":\"scattergl\"}],\"scattermapbox\":[{\"marker\":{\"colorbar\":{\"outlinewidth\":0,\"ticks\":\"\"}},\"type\":\"scattermapbox\"}],\"scatterpolargl\":[{\"marker\":{\"colorbar\":{\"outlinewidth\":0,\"ticks\":\"\"}},\"type\":\"scatterpolargl\"}],\"scatterpolar\":[{\"marker\":{\"colorbar\":{\"outlinewidth\":0,\"ticks\":\"\"}},\"type\":\"scatterpolar\"}],\"scatter\":[{\"marker\":{\"colorbar\":{\"outlinewidth\":0,\"ticks\":\"\"}},\"type\":\"scatter\"}],\"scatterternary\":[{\"marker\":{\"colorbar\":{\"outlinewidth\":0,\"ticks\":\"\"}},\"type\":\"scatterternary\"}],\"surface\":[{\"colorbar\":{\"outlinewidth\":0,\"ticks\":\"\"},\"colorscale\":[[0.0,\"#0d0887\"],[0.1111111111111111,\"#46039f\"],[0.2222222222222222,\"#7201a8\"],[0.3333333333333333,\"#9c179e\"],[0.4444444444444444,\"#bd3786\"],[0.5555555555555556,\"#d8576b\"],[0.6666666666666666,\"#ed7953\"],[0.7777777777777778,\"#fb9f3a\"],[0.8888888888888888,\"#fdca26\"],[1.0,\"#f0f921\"]],\"type\":\"surface\"}],\"table\":[{\"cells\":{\"fill\":{\"color\":\"#EBF0F8\"},\"line\":{\"color\":\"white\"}},\"header\":{\"fill\":{\"color\":\"#C8D4E3\"},\"line\":{\"color\":\"white\"}},\"type\":\"table\"}]},\"layout\":{\"annotationdefaults\":{\"arrowcolor\":\"#2a3f5f\",\"arrowhead\":0,\"arrowwidth\":1},\"autotypenumbers\":\"strict\",\"coloraxis\":{\"colorbar\":{\"outlinewidth\":0,\"ticks\":\"\"}},\"colorscale\":{\"diverging\":[[0,\"#8e0152\"],[0.1,\"#c51b7d\"],[0.2,\"#de77ae\"],[0.3,\"#f1b6da\"],[0.4,\"#fde0ef\"],[0.5,\"#f7f7f7\"],[0.6,\"#e6f5d0\"],[0.7,\"#b8e186\"],[0.8,\"#7fbc41\"],[0.9,\"#4d9221\"],[1,\"#276419\"]],\"sequential\":[[0.0,\"#0d0887\"],[0.1111111111111111,\"#46039f\"],[0.2222222222222222,\"#7201a8\"],[0.3333333333333333,\"#9c179e\"],[0.4444444444444444,\"#bd3786\"],[0.5555555555555556,\"#d8576b\"],[0.6666666666666666,\"#ed7953\"],[0.7777777777777778,\"#fb9f3a\"],[0.8888888888888888,\"#fdca26\"],[1.0,\"#f0f921\"]],\"sequentialminus\":[[0.0,\"#0d0887\"],[0.1111111111111111,\"#46039f\"],[0.2222222222222222,\"#7201a8\"],[0.3333333333333333,\"#9c179e\"],[0.4444444444444444,\"#bd3786\"],[0.5555555555555556,\"#d8576b\"],[0.6666666666666666,\"#ed7953\"],[0.7777777777777778,\"#fb9f3a\"],[0.8888888888888888,\"#fdca26\"],[1.0,\"#f0f921\"]]},\"colorway\":[\"#636efa\",\"#EF553B\",\"#00cc96\",\"#ab63fa\",\"#FFA15A\",\"#19d3f3\",\"#FF6692\",\"#B6E880\",\"#FF97FF\",\"#FECB52\"],\"font\":{\"color\":\"#2a3f5f\"},\"geo\":{\"bgcolor\":\"white\",\"lakecolor\":\"white\",\"landcolor\":\"#E5ECF6\",\"showlakes\":true,\"showland\":true,\"subunitcolor\":\"white\"},\"hoverlabel\":{\"align\":\"left\"},\"hovermode\":\"closest\",\"mapbox\":{\"style\":\"light\"},\"paper_bgcolor\":\"white\",\"plot_bgcolor\":\"#E5ECF6\",\"polar\":{\"angularaxis\":{\"gridcolor\":\"white\",\"linecolor\":\"white\",\"ticks\":\"\"},\"bgcolor\":\"#E5ECF6\",\"radialaxis\":{\"gridcolor\":\"white\",\"linecolor\":\"white\",\"ticks\":\"\"}},\"scene\":{\"xaxis\":{\"backgroundcolor\":\"#E5ECF6\",\"gridcolor\":\"white\",\"gridwidth\":2,\"linecolor\":\"white\",\"showbackground\":true,\"ticks\":\"\",\"zerolinecolor\":\"white\"},\"yaxis\":{\"backgroundcolor\":\"#E5ECF6\",\"gridcolor\":\"white\",\"gridwidth\":2,\"linecolor\":\"white\",\"showbackground\":true,\"ticks\":\"\",\"zerolinecolor\":\"white\"},\"zaxis\":{\"backgroundcolor\":\"#E5ECF6\",\"gridcolor\":\"white\",\"gridwidth\":2,\"linecolor\":\"white\",\"showbackground\":true,\"ticks\":\"\",\"zerolinecolor\":\"white\"}},\"shapedefaults\":{\"line\":{\"color\":\"#2a3f5f\"}},\"ternary\":{\"aaxis\":{\"gridcolor\":\"white\",\"linecolor\":\"white\",\"ticks\":\"\"},\"baxis\":{\"gridcolor\":\"white\",\"linecolor\":\"white\",\"ticks\":\"\"},\"bgcolor\":\"#E5ECF6\",\"caxis\":{\"gridcolor\":\"white\",\"linecolor\":\"white\",\"ticks\":\"\"}},\"title\":{\"x\":0.05},\"xaxis\":{\"automargin\":true,\"gridcolor\":\"white\",\"linecolor\":\"white\",\"ticks\":\"\",\"title\":{\"standoff\":15},\"zerolinecolor\":\"white\",\"zerolinewidth\":2},\"yaxis\":{\"automargin\":true,\"gridcolor\":\"white\",\"linecolor\":\"white\",\"ticks\":\"\",\"title\":{\"standoff\":15},\"zerolinecolor\":\"white\",\"zerolinewidth\":2}}},\"title\":{\"font\":{\"color\":\"#4D5663\"}},\"xaxis\":{\"gridcolor\":\"#E1E5ED\",\"showgrid\":true,\"tickfont\":{\"color\":\"#4D5663\"},\"title\":{\"font\":{\"color\":\"#4D5663\"},\"text\":\"\"},\"zerolinecolor\":\"#E1E5ED\"},\"yaxis\":{\"gridcolor\":\"#E1E5ED\",\"showgrid\":true,\"tickfont\":{\"color\":\"#4D5663\"},\"title\":{\"font\":{\"color\":\"#4D5663\"},\"text\":\"\"},\"zerolinecolor\":\"#E1E5ED\"}},                        {\"showLink\": true, \"linkText\": \"Export to plot.ly\", \"plotlyServerURL\": \"https://plot.ly\", \"responsive\": true}                    ).then(function(){\n",
       "                            \n",
       "var gd = document.getElementById('c21a636b-14ec-491a-afaf-19bccfac51cf');\n",
       "var x = new MutationObserver(function (mutations, observer) {{\n",
       "        var display = window.getComputedStyle(gd).display;\n",
       "        if (!display || display === 'none') {{\n",
       "            console.log([gd, 'removed!']);\n",
       "            Plotly.purge(gd);\n",
       "            observer.disconnect();\n",
       "        }}\n",
       "}});\n",
       "\n",
       "// Listen for the removal of the full notebook cells\n",
       "var notebookContainer = gd.closest('#notebook-container');\n",
       "if (notebookContainer) {{\n",
       "    x.observe(notebookContainer, {childList: true});\n",
       "}}\n",
       "\n",
       "// Listen for the clearing of the current output cell\n",
       "var outputEl = gd.closest('.output');\n",
       "if (outputEl) {{\n",
       "    x.observe(outputEl, {childList: true});\n",
       "}}\n",
       "\n",
       "                        })                };                });            </script>        </div>"
      ]
     },
     "metadata": {},
     "output_type": "display_data"
    }
   ],
   "source": [
    "df3.iplot(kind='surface',colorscale='rdylbu')"
   ]
  },
  {
   "cell_type": "code",
   "execution_count": 40,
   "id": "62162e56",
   "metadata": {},
   "outputs": [
    {
     "data": {
      "application/vnd.plotly.v1+json": {
       "config": {
        "linkText": "Export to plot.ly",
        "plotlyServerURL": "https://plot.ly",
        "showLink": true
       },
       "data": [
        {
         "histfunc": "count",
         "histnorm": "",
         "marker": {
          "color": "rgba(255, 153, 51, 1.0)",
          "line": {
           "color": "#4D5663",
           "width": 1.3
          }
         },
         "name": "A",
         "opacity": 0.8,
         "orientation": "v",
         "type": "histogram",
         "x": [
          -0.4109093102308704,
          -0.6680817820818279,
          0.05775923832079972,
          -0.6514336458680554,
          0.1879160682510293,
          -1.5293464668323662,
          -0.7035269259572434,
          0.023874540007682573,
          -1.2420547200599625,
          -0.8913683621133949,
          -0.6031304983078408,
          -0.8971715581521588,
          -0.29873531501808204,
          -0.28277215845111825,
          -1.4601949181242078,
          1.163711752718257,
          -0.7985458453409878,
          0.08419460658711336,
          1.2072287151035508,
          1.9355081654923072,
          -0.6280104709091505,
          -0.11194954662160747,
          -0.46415689977609864,
          0.3291395359396691,
          0.14336269881245645,
          -0.7973487302419948,
          1.0136391070213626,
          0.3224826399220911,
          -0.5610315946764224,
          -1.6376822225509424,
          1.5133491313233511,
          0.6252725756740378,
          0.5218653597362931,
          0.2630145983301274,
          -0.6226571769603287,
          -0.47641810789885125,
          -0.7063513142606132,
          0.32684887117824307,
          0.25245635094777025,
          -0.8921088220372825,
          0.7720682190244831,
          0.7238641471940175,
          0.645126076541708,
          0.4224070507208162,
          0.3990528172515247,
          -0.19255958104133045,
          -0.16973807979033237,
          -1.0196829077704666,
          -0.3561857988413979,
          -0.7547498424893713,
          1.756962952184945,
          0.15851227706927512,
          -1.0982456629275492,
          0.6028423362735791,
          -1.2172834983904086,
          0.3151964776503683,
          -1.2224736248236194,
          -0.7734229575896733,
          0.15439661925788561,
          0.7886502050544204,
          -0.054443877521405636,
          -1.0636641048785411,
          -1.5786802485725135,
          0.24813035938868763,
          0.13326047954542491,
          0.07900652650890297,
          -1.943265097469249,
          0.709653153466894,
          -0.8004575677107629,
          -0.30651500422656586,
          -0.034793194861766734,
          1.1239760186483012,
          1.9534360839432174,
          0.5855191473663935,
          -0.259033322409612,
          -0.721568816715617,
          0.4048799040916817,
          0.11292732199272669,
          -1.1339821084354054,
          1.608866407723626,
          0.3501736145293892,
          -0.0486340739793143,
          -1.4939842393253115,
          0.33891543148322023,
          -0.14837108037915506,
          1.1431096103520344,
          1.2732128325788084,
          1.6707652434185216,
          -2.034802087108342,
          2.0454869644421496,
          1.928114298449317,
          0.2810486247432109,
          -0.4763850985641512,
          1.0107331745913726,
          0.7183992254469621,
          1.3199201637244298,
          0.19377943979431222,
          1.9858006393975318,
          1.7289541996275624,
          0.6000972414545752
         ]
        }
       ],
       "layout": {
        "barmode": "overlay",
        "legend": {
         "bgcolor": "#F5F6F9",
         "font": {
          "color": "#4D5663"
         }
        },
        "paper_bgcolor": "#F5F6F9",
        "plot_bgcolor": "#F5F6F9",
        "template": {
         "data": {
          "bar": [
           {
            "error_x": {
             "color": "#2a3f5f"
            },
            "error_y": {
             "color": "#2a3f5f"
            },
            "marker": {
             "line": {
              "color": "#E5ECF6",
              "width": 0.5
             },
             "pattern": {
              "fillmode": "overlay",
              "size": 10,
              "solidity": 0.2
             }
            },
            "type": "bar"
           }
          ],
          "barpolar": [
           {
            "marker": {
             "line": {
              "color": "#E5ECF6",
              "width": 0.5
             },
             "pattern": {
              "fillmode": "overlay",
              "size": 10,
              "solidity": 0.2
             }
            },
            "type": "barpolar"
           }
          ],
          "carpet": [
           {
            "aaxis": {
             "endlinecolor": "#2a3f5f",
             "gridcolor": "white",
             "linecolor": "white",
             "minorgridcolor": "white",
             "startlinecolor": "#2a3f5f"
            },
            "baxis": {
             "endlinecolor": "#2a3f5f",
             "gridcolor": "white",
             "linecolor": "white",
             "minorgridcolor": "white",
             "startlinecolor": "#2a3f5f"
            },
            "type": "carpet"
           }
          ],
          "choropleth": [
           {
            "colorbar": {
             "outlinewidth": 0,
             "ticks": ""
            },
            "type": "choropleth"
           }
          ],
          "contour": [
           {
            "colorbar": {
             "outlinewidth": 0,
             "ticks": ""
            },
            "colorscale": [
             [
              0,
              "#0d0887"
             ],
             [
              0.1111111111111111,
              "#46039f"
             ],
             [
              0.2222222222222222,
              "#7201a8"
             ],
             [
              0.3333333333333333,
              "#9c179e"
             ],
             [
              0.4444444444444444,
              "#bd3786"
             ],
             [
              0.5555555555555556,
              "#d8576b"
             ],
             [
              0.6666666666666666,
              "#ed7953"
             ],
             [
              0.7777777777777778,
              "#fb9f3a"
             ],
             [
              0.8888888888888888,
              "#fdca26"
             ],
             [
              1,
              "#f0f921"
             ]
            ],
            "type": "contour"
           }
          ],
          "contourcarpet": [
           {
            "colorbar": {
             "outlinewidth": 0,
             "ticks": ""
            },
            "type": "contourcarpet"
           }
          ],
          "heatmap": [
           {
            "colorbar": {
             "outlinewidth": 0,
             "ticks": ""
            },
            "colorscale": [
             [
              0,
              "#0d0887"
             ],
             [
              0.1111111111111111,
              "#46039f"
             ],
             [
              0.2222222222222222,
              "#7201a8"
             ],
             [
              0.3333333333333333,
              "#9c179e"
             ],
             [
              0.4444444444444444,
              "#bd3786"
             ],
             [
              0.5555555555555556,
              "#d8576b"
             ],
             [
              0.6666666666666666,
              "#ed7953"
             ],
             [
              0.7777777777777778,
              "#fb9f3a"
             ],
             [
              0.8888888888888888,
              "#fdca26"
             ],
             [
              1,
              "#f0f921"
             ]
            ],
            "type": "heatmap"
           }
          ],
          "heatmapgl": [
           {
            "colorbar": {
             "outlinewidth": 0,
             "ticks": ""
            },
            "colorscale": [
             [
              0,
              "#0d0887"
             ],
             [
              0.1111111111111111,
              "#46039f"
             ],
             [
              0.2222222222222222,
              "#7201a8"
             ],
             [
              0.3333333333333333,
              "#9c179e"
             ],
             [
              0.4444444444444444,
              "#bd3786"
             ],
             [
              0.5555555555555556,
              "#d8576b"
             ],
             [
              0.6666666666666666,
              "#ed7953"
             ],
             [
              0.7777777777777778,
              "#fb9f3a"
             ],
             [
              0.8888888888888888,
              "#fdca26"
             ],
             [
              1,
              "#f0f921"
             ]
            ],
            "type": "heatmapgl"
           }
          ],
          "histogram": [
           {
            "marker": {
             "pattern": {
              "fillmode": "overlay",
              "size": 10,
              "solidity": 0.2
             }
            },
            "type": "histogram"
           }
          ],
          "histogram2d": [
           {
            "colorbar": {
             "outlinewidth": 0,
             "ticks": ""
            },
            "colorscale": [
             [
              0,
              "#0d0887"
             ],
             [
              0.1111111111111111,
              "#46039f"
             ],
             [
              0.2222222222222222,
              "#7201a8"
             ],
             [
              0.3333333333333333,
              "#9c179e"
             ],
             [
              0.4444444444444444,
              "#bd3786"
             ],
             [
              0.5555555555555556,
              "#d8576b"
             ],
             [
              0.6666666666666666,
              "#ed7953"
             ],
             [
              0.7777777777777778,
              "#fb9f3a"
             ],
             [
              0.8888888888888888,
              "#fdca26"
             ],
             [
              1,
              "#f0f921"
             ]
            ],
            "type": "histogram2d"
           }
          ],
          "histogram2dcontour": [
           {
            "colorbar": {
             "outlinewidth": 0,
             "ticks": ""
            },
            "colorscale": [
             [
              0,
              "#0d0887"
             ],
             [
              0.1111111111111111,
              "#46039f"
             ],
             [
              0.2222222222222222,
              "#7201a8"
             ],
             [
              0.3333333333333333,
              "#9c179e"
             ],
             [
              0.4444444444444444,
              "#bd3786"
             ],
             [
              0.5555555555555556,
              "#d8576b"
             ],
             [
              0.6666666666666666,
              "#ed7953"
             ],
             [
              0.7777777777777778,
              "#fb9f3a"
             ],
             [
              0.8888888888888888,
              "#fdca26"
             ],
             [
              1,
              "#f0f921"
             ]
            ],
            "type": "histogram2dcontour"
           }
          ],
          "mesh3d": [
           {
            "colorbar": {
             "outlinewidth": 0,
             "ticks": ""
            },
            "type": "mesh3d"
           }
          ],
          "parcoords": [
           {
            "line": {
             "colorbar": {
              "outlinewidth": 0,
              "ticks": ""
             }
            },
            "type": "parcoords"
           }
          ],
          "pie": [
           {
            "automargin": true,
            "type": "pie"
           }
          ],
          "scatter": [
           {
            "marker": {
             "colorbar": {
              "outlinewidth": 0,
              "ticks": ""
             }
            },
            "type": "scatter"
           }
          ],
          "scatter3d": [
           {
            "line": {
             "colorbar": {
              "outlinewidth": 0,
              "ticks": ""
             }
            },
            "marker": {
             "colorbar": {
              "outlinewidth": 0,
              "ticks": ""
             }
            },
            "type": "scatter3d"
           }
          ],
          "scattercarpet": [
           {
            "marker": {
             "colorbar": {
              "outlinewidth": 0,
              "ticks": ""
             }
            },
            "type": "scattercarpet"
           }
          ],
          "scattergeo": [
           {
            "marker": {
             "colorbar": {
              "outlinewidth": 0,
              "ticks": ""
             }
            },
            "type": "scattergeo"
           }
          ],
          "scattergl": [
           {
            "marker": {
             "colorbar": {
              "outlinewidth": 0,
              "ticks": ""
             }
            },
            "type": "scattergl"
           }
          ],
          "scattermapbox": [
           {
            "marker": {
             "colorbar": {
              "outlinewidth": 0,
              "ticks": ""
             }
            },
            "type": "scattermapbox"
           }
          ],
          "scatterpolar": [
           {
            "marker": {
             "colorbar": {
              "outlinewidth": 0,
              "ticks": ""
             }
            },
            "type": "scatterpolar"
           }
          ],
          "scatterpolargl": [
           {
            "marker": {
             "colorbar": {
              "outlinewidth": 0,
              "ticks": ""
             }
            },
            "type": "scatterpolargl"
           }
          ],
          "scatterternary": [
           {
            "marker": {
             "colorbar": {
              "outlinewidth": 0,
              "ticks": ""
             }
            },
            "type": "scatterternary"
           }
          ],
          "surface": [
           {
            "colorbar": {
             "outlinewidth": 0,
             "ticks": ""
            },
            "colorscale": [
             [
              0,
              "#0d0887"
             ],
             [
              0.1111111111111111,
              "#46039f"
             ],
             [
              0.2222222222222222,
              "#7201a8"
             ],
             [
              0.3333333333333333,
              "#9c179e"
             ],
             [
              0.4444444444444444,
              "#bd3786"
             ],
             [
              0.5555555555555556,
              "#d8576b"
             ],
             [
              0.6666666666666666,
              "#ed7953"
             ],
             [
              0.7777777777777778,
              "#fb9f3a"
             ],
             [
              0.8888888888888888,
              "#fdca26"
             ],
             [
              1,
              "#f0f921"
             ]
            ],
            "type": "surface"
           }
          ],
          "table": [
           {
            "cells": {
             "fill": {
              "color": "#EBF0F8"
             },
             "line": {
              "color": "white"
             }
            },
            "header": {
             "fill": {
              "color": "#C8D4E3"
             },
             "line": {
              "color": "white"
             }
            },
            "type": "table"
           }
          ]
         },
         "layout": {
          "annotationdefaults": {
           "arrowcolor": "#2a3f5f",
           "arrowhead": 0,
           "arrowwidth": 1
          },
          "autotypenumbers": "strict",
          "coloraxis": {
           "colorbar": {
            "outlinewidth": 0,
            "ticks": ""
           }
          },
          "colorscale": {
           "diverging": [
            [
             0,
             "#8e0152"
            ],
            [
             0.1,
             "#c51b7d"
            ],
            [
             0.2,
             "#de77ae"
            ],
            [
             0.3,
             "#f1b6da"
            ],
            [
             0.4,
             "#fde0ef"
            ],
            [
             0.5,
             "#f7f7f7"
            ],
            [
             0.6,
             "#e6f5d0"
            ],
            [
             0.7,
             "#b8e186"
            ],
            [
             0.8,
             "#7fbc41"
            ],
            [
             0.9,
             "#4d9221"
            ],
            [
             1,
             "#276419"
            ]
           ],
           "sequential": [
            [
             0,
             "#0d0887"
            ],
            [
             0.1111111111111111,
             "#46039f"
            ],
            [
             0.2222222222222222,
             "#7201a8"
            ],
            [
             0.3333333333333333,
             "#9c179e"
            ],
            [
             0.4444444444444444,
             "#bd3786"
            ],
            [
             0.5555555555555556,
             "#d8576b"
            ],
            [
             0.6666666666666666,
             "#ed7953"
            ],
            [
             0.7777777777777778,
             "#fb9f3a"
            ],
            [
             0.8888888888888888,
             "#fdca26"
            ],
            [
             1,
             "#f0f921"
            ]
           ],
           "sequentialminus": [
            [
             0,
             "#0d0887"
            ],
            [
             0.1111111111111111,
             "#46039f"
            ],
            [
             0.2222222222222222,
             "#7201a8"
            ],
            [
             0.3333333333333333,
             "#9c179e"
            ],
            [
             0.4444444444444444,
             "#bd3786"
            ],
            [
             0.5555555555555556,
             "#d8576b"
            ],
            [
             0.6666666666666666,
             "#ed7953"
            ],
            [
             0.7777777777777778,
             "#fb9f3a"
            ],
            [
             0.8888888888888888,
             "#fdca26"
            ],
            [
             1,
             "#f0f921"
            ]
           ]
          },
          "colorway": [
           "#636efa",
           "#EF553B",
           "#00cc96",
           "#ab63fa",
           "#FFA15A",
           "#19d3f3",
           "#FF6692",
           "#B6E880",
           "#FF97FF",
           "#FECB52"
          ],
          "font": {
           "color": "#2a3f5f"
          },
          "geo": {
           "bgcolor": "white",
           "lakecolor": "white",
           "landcolor": "#E5ECF6",
           "showlakes": true,
           "showland": true,
           "subunitcolor": "white"
          },
          "hoverlabel": {
           "align": "left"
          },
          "hovermode": "closest",
          "mapbox": {
           "style": "light"
          },
          "paper_bgcolor": "white",
          "plot_bgcolor": "#E5ECF6",
          "polar": {
           "angularaxis": {
            "gridcolor": "white",
            "linecolor": "white",
            "ticks": ""
           },
           "bgcolor": "#E5ECF6",
           "radialaxis": {
            "gridcolor": "white",
            "linecolor": "white",
            "ticks": ""
           }
          },
          "scene": {
           "xaxis": {
            "backgroundcolor": "#E5ECF6",
            "gridcolor": "white",
            "gridwidth": 2,
            "linecolor": "white",
            "showbackground": true,
            "ticks": "",
            "zerolinecolor": "white"
           },
           "yaxis": {
            "backgroundcolor": "#E5ECF6",
            "gridcolor": "white",
            "gridwidth": 2,
            "linecolor": "white",
            "showbackground": true,
            "ticks": "",
            "zerolinecolor": "white"
           },
           "zaxis": {
            "backgroundcolor": "#E5ECF6",
            "gridcolor": "white",
            "gridwidth": 2,
            "linecolor": "white",
            "showbackground": true,
            "ticks": "",
            "zerolinecolor": "white"
           }
          },
          "shapedefaults": {
           "line": {
            "color": "#2a3f5f"
           }
          },
          "ternary": {
           "aaxis": {
            "gridcolor": "white",
            "linecolor": "white",
            "ticks": ""
           },
           "baxis": {
            "gridcolor": "white",
            "linecolor": "white",
            "ticks": ""
           },
           "bgcolor": "#E5ECF6",
           "caxis": {
            "gridcolor": "white",
            "linecolor": "white",
            "ticks": ""
           }
          },
          "title": {
           "x": 0.05
          },
          "xaxis": {
           "automargin": true,
           "gridcolor": "white",
           "linecolor": "white",
           "ticks": "",
           "title": {
            "standoff": 15
           },
           "zerolinecolor": "white",
           "zerolinewidth": 2
          },
          "yaxis": {
           "automargin": true,
           "gridcolor": "white",
           "linecolor": "white",
           "ticks": "",
           "title": {
            "standoff": 15
           },
           "zerolinecolor": "white",
           "zerolinewidth": 2
          }
         }
        },
        "title": {
         "font": {
          "color": "#4D5663"
         }
        },
        "xaxis": {
         "gridcolor": "#E1E5ED",
         "showgrid": true,
         "tickfont": {
          "color": "#4D5663"
         },
         "title": {
          "font": {
           "color": "#4D5663"
          },
          "text": ""
         },
         "zerolinecolor": "#E1E5ED"
        },
        "yaxis": {
         "gridcolor": "#E1E5ED",
         "showgrid": true,
         "tickfont": {
          "color": "#4D5663"
         },
         "title": {
          "font": {
           "color": "#4D5663"
          },
          "text": ""
         },
         "zerolinecolor": "#E1E5ED"
        }
       }
      },
      "text/html": [
       "<div>                            <div id=\"5ce737ed-3217-413c-b89d-adfda2b97b96\" class=\"plotly-graph-div\" style=\"height:525px; width:100%;\"></div>            <script type=\"text/javascript\">                require([\"plotly\"], function(Plotly) {                    window.PLOTLYENV=window.PLOTLYENV || {};\n",
       "                    window.PLOTLYENV.BASE_URL='https://plot.ly';                                    if (document.getElementById(\"5ce737ed-3217-413c-b89d-adfda2b97b96\")) {                    Plotly.newPlot(                        \"5ce737ed-3217-413c-b89d-adfda2b97b96\",                        [{\"histfunc\":\"count\",\"histnorm\":\"\",\"marker\":{\"color\":\"rgba(255, 153, 51, 1.0)\",\"line\":{\"color\":\"#4D5663\",\"width\":1.3}},\"name\":\"A\",\"opacity\":0.8,\"orientation\":\"v\",\"x\":[-0.4109093102308704,-0.6680817820818279,0.05775923832079972,-0.6514336458680554,0.1879160682510293,-1.5293464668323662,-0.7035269259572434,0.023874540007682573,-1.2420547200599625,-0.8913683621133949,-0.6031304983078408,-0.8971715581521588,-0.29873531501808204,-0.28277215845111825,-1.4601949181242078,1.163711752718257,-0.7985458453409878,0.08419460658711336,1.2072287151035508,1.9355081654923072,-0.6280104709091505,-0.11194954662160747,-0.46415689977609864,0.3291395359396691,0.14336269881245645,-0.7973487302419948,1.0136391070213626,0.3224826399220911,-0.5610315946764224,-1.6376822225509424,1.5133491313233511,0.6252725756740378,0.5218653597362931,0.2630145983301274,-0.6226571769603287,-0.47641810789885125,-0.7063513142606132,0.32684887117824307,0.25245635094777025,-0.8921088220372825,0.7720682190244831,0.7238641471940175,0.645126076541708,0.4224070507208162,0.3990528172515247,-0.19255958104133045,-0.16973807979033237,-1.0196829077704666,-0.3561857988413979,-0.7547498424893713,1.756962952184945,0.15851227706927512,-1.0982456629275492,0.6028423362735791,-1.2172834983904086,0.3151964776503683,-1.2224736248236194,-0.7734229575896733,0.15439661925788561,0.7886502050544204,-0.054443877521405636,-1.0636641048785411,-1.5786802485725135,0.24813035938868763,0.13326047954542491,0.07900652650890297,-1.943265097469249,0.709653153466894,-0.8004575677107629,-0.30651500422656586,-0.034793194861766734,1.1239760186483012,1.9534360839432174,0.5855191473663935,-0.259033322409612,-0.721568816715617,0.4048799040916817,0.11292732199272669,-1.1339821084354054,1.608866407723626,0.3501736145293892,-0.0486340739793143,-1.4939842393253115,0.33891543148322023,-0.14837108037915506,1.1431096103520344,1.2732128325788084,1.6707652434185216,-2.034802087108342,2.0454869644421496,1.928114298449317,0.2810486247432109,-0.4763850985641512,1.0107331745913726,0.7183992254469621,1.3199201637244298,0.19377943979431222,1.9858006393975318,1.7289541996275624,0.6000972414545752],\"type\":\"histogram\"}],                        {\"barmode\":\"overlay\",\"legend\":{\"bgcolor\":\"#F5F6F9\",\"font\":{\"color\":\"#4D5663\"}},\"paper_bgcolor\":\"#F5F6F9\",\"plot_bgcolor\":\"#F5F6F9\",\"template\":{\"data\":{\"barpolar\":[{\"marker\":{\"line\":{\"color\":\"#E5ECF6\",\"width\":0.5},\"pattern\":{\"fillmode\":\"overlay\",\"size\":10,\"solidity\":0.2}},\"type\":\"barpolar\"}],\"bar\":[{\"error_x\":{\"color\":\"#2a3f5f\"},\"error_y\":{\"color\":\"#2a3f5f\"},\"marker\":{\"line\":{\"color\":\"#E5ECF6\",\"width\":0.5},\"pattern\":{\"fillmode\":\"overlay\",\"size\":10,\"solidity\":0.2}},\"type\":\"bar\"}],\"carpet\":[{\"aaxis\":{\"endlinecolor\":\"#2a3f5f\",\"gridcolor\":\"white\",\"linecolor\":\"white\",\"minorgridcolor\":\"white\",\"startlinecolor\":\"#2a3f5f\"},\"baxis\":{\"endlinecolor\":\"#2a3f5f\",\"gridcolor\":\"white\",\"linecolor\":\"white\",\"minorgridcolor\":\"white\",\"startlinecolor\":\"#2a3f5f\"},\"type\":\"carpet\"}],\"choropleth\":[{\"colorbar\":{\"outlinewidth\":0,\"ticks\":\"\"},\"type\":\"choropleth\"}],\"contourcarpet\":[{\"colorbar\":{\"outlinewidth\":0,\"ticks\":\"\"},\"type\":\"contourcarpet\"}],\"contour\":[{\"colorbar\":{\"outlinewidth\":0,\"ticks\":\"\"},\"colorscale\":[[0.0,\"#0d0887\"],[0.1111111111111111,\"#46039f\"],[0.2222222222222222,\"#7201a8\"],[0.3333333333333333,\"#9c179e\"],[0.4444444444444444,\"#bd3786\"],[0.5555555555555556,\"#d8576b\"],[0.6666666666666666,\"#ed7953\"],[0.7777777777777778,\"#fb9f3a\"],[0.8888888888888888,\"#fdca26\"],[1.0,\"#f0f921\"]],\"type\":\"contour\"}],\"heatmapgl\":[{\"colorbar\":{\"outlinewidth\":0,\"ticks\":\"\"},\"colorscale\":[[0.0,\"#0d0887\"],[0.1111111111111111,\"#46039f\"],[0.2222222222222222,\"#7201a8\"],[0.3333333333333333,\"#9c179e\"],[0.4444444444444444,\"#bd3786\"],[0.5555555555555556,\"#d8576b\"],[0.6666666666666666,\"#ed7953\"],[0.7777777777777778,\"#fb9f3a\"],[0.8888888888888888,\"#fdca26\"],[1.0,\"#f0f921\"]],\"type\":\"heatmapgl\"}],\"heatmap\":[{\"colorbar\":{\"outlinewidth\":0,\"ticks\":\"\"},\"colorscale\":[[0.0,\"#0d0887\"],[0.1111111111111111,\"#46039f\"],[0.2222222222222222,\"#7201a8\"],[0.3333333333333333,\"#9c179e\"],[0.4444444444444444,\"#bd3786\"],[0.5555555555555556,\"#d8576b\"],[0.6666666666666666,\"#ed7953\"],[0.7777777777777778,\"#fb9f3a\"],[0.8888888888888888,\"#fdca26\"],[1.0,\"#f0f921\"]],\"type\":\"heatmap\"}],\"histogram2dcontour\":[{\"colorbar\":{\"outlinewidth\":0,\"ticks\":\"\"},\"colorscale\":[[0.0,\"#0d0887\"],[0.1111111111111111,\"#46039f\"],[0.2222222222222222,\"#7201a8\"],[0.3333333333333333,\"#9c179e\"],[0.4444444444444444,\"#bd3786\"],[0.5555555555555556,\"#d8576b\"],[0.6666666666666666,\"#ed7953\"],[0.7777777777777778,\"#fb9f3a\"],[0.8888888888888888,\"#fdca26\"],[1.0,\"#f0f921\"]],\"type\":\"histogram2dcontour\"}],\"histogram2d\":[{\"colorbar\":{\"outlinewidth\":0,\"ticks\":\"\"},\"colorscale\":[[0.0,\"#0d0887\"],[0.1111111111111111,\"#46039f\"],[0.2222222222222222,\"#7201a8\"],[0.3333333333333333,\"#9c179e\"],[0.4444444444444444,\"#bd3786\"],[0.5555555555555556,\"#d8576b\"],[0.6666666666666666,\"#ed7953\"],[0.7777777777777778,\"#fb9f3a\"],[0.8888888888888888,\"#fdca26\"],[1.0,\"#f0f921\"]],\"type\":\"histogram2d\"}],\"histogram\":[{\"marker\":{\"pattern\":{\"fillmode\":\"overlay\",\"size\":10,\"solidity\":0.2}},\"type\":\"histogram\"}],\"mesh3d\":[{\"colorbar\":{\"outlinewidth\":0,\"ticks\":\"\"},\"type\":\"mesh3d\"}],\"parcoords\":[{\"line\":{\"colorbar\":{\"outlinewidth\":0,\"ticks\":\"\"}},\"type\":\"parcoords\"}],\"pie\":[{\"automargin\":true,\"type\":\"pie\"}],\"scatter3d\":[{\"line\":{\"colorbar\":{\"outlinewidth\":0,\"ticks\":\"\"}},\"marker\":{\"colorbar\":{\"outlinewidth\":0,\"ticks\":\"\"}},\"type\":\"scatter3d\"}],\"scattercarpet\":[{\"marker\":{\"colorbar\":{\"outlinewidth\":0,\"ticks\":\"\"}},\"type\":\"scattercarpet\"}],\"scattergeo\":[{\"marker\":{\"colorbar\":{\"outlinewidth\":0,\"ticks\":\"\"}},\"type\":\"scattergeo\"}],\"scattergl\":[{\"marker\":{\"colorbar\":{\"outlinewidth\":0,\"ticks\":\"\"}},\"type\":\"scattergl\"}],\"scattermapbox\":[{\"marker\":{\"colorbar\":{\"outlinewidth\":0,\"ticks\":\"\"}},\"type\":\"scattermapbox\"}],\"scatterpolargl\":[{\"marker\":{\"colorbar\":{\"outlinewidth\":0,\"ticks\":\"\"}},\"type\":\"scatterpolargl\"}],\"scatterpolar\":[{\"marker\":{\"colorbar\":{\"outlinewidth\":0,\"ticks\":\"\"}},\"type\":\"scatterpolar\"}],\"scatter\":[{\"marker\":{\"colorbar\":{\"outlinewidth\":0,\"ticks\":\"\"}},\"type\":\"scatter\"}],\"scatterternary\":[{\"marker\":{\"colorbar\":{\"outlinewidth\":0,\"ticks\":\"\"}},\"type\":\"scatterternary\"}],\"surface\":[{\"colorbar\":{\"outlinewidth\":0,\"ticks\":\"\"},\"colorscale\":[[0.0,\"#0d0887\"],[0.1111111111111111,\"#46039f\"],[0.2222222222222222,\"#7201a8\"],[0.3333333333333333,\"#9c179e\"],[0.4444444444444444,\"#bd3786\"],[0.5555555555555556,\"#d8576b\"],[0.6666666666666666,\"#ed7953\"],[0.7777777777777778,\"#fb9f3a\"],[0.8888888888888888,\"#fdca26\"],[1.0,\"#f0f921\"]],\"type\":\"surface\"}],\"table\":[{\"cells\":{\"fill\":{\"color\":\"#EBF0F8\"},\"line\":{\"color\":\"white\"}},\"header\":{\"fill\":{\"color\":\"#C8D4E3\"},\"line\":{\"color\":\"white\"}},\"type\":\"table\"}]},\"layout\":{\"annotationdefaults\":{\"arrowcolor\":\"#2a3f5f\",\"arrowhead\":0,\"arrowwidth\":1},\"autotypenumbers\":\"strict\",\"coloraxis\":{\"colorbar\":{\"outlinewidth\":0,\"ticks\":\"\"}},\"colorscale\":{\"diverging\":[[0,\"#8e0152\"],[0.1,\"#c51b7d\"],[0.2,\"#de77ae\"],[0.3,\"#f1b6da\"],[0.4,\"#fde0ef\"],[0.5,\"#f7f7f7\"],[0.6,\"#e6f5d0\"],[0.7,\"#b8e186\"],[0.8,\"#7fbc41\"],[0.9,\"#4d9221\"],[1,\"#276419\"]],\"sequential\":[[0.0,\"#0d0887\"],[0.1111111111111111,\"#46039f\"],[0.2222222222222222,\"#7201a8\"],[0.3333333333333333,\"#9c179e\"],[0.4444444444444444,\"#bd3786\"],[0.5555555555555556,\"#d8576b\"],[0.6666666666666666,\"#ed7953\"],[0.7777777777777778,\"#fb9f3a\"],[0.8888888888888888,\"#fdca26\"],[1.0,\"#f0f921\"]],\"sequentialminus\":[[0.0,\"#0d0887\"],[0.1111111111111111,\"#46039f\"],[0.2222222222222222,\"#7201a8\"],[0.3333333333333333,\"#9c179e\"],[0.4444444444444444,\"#bd3786\"],[0.5555555555555556,\"#d8576b\"],[0.6666666666666666,\"#ed7953\"],[0.7777777777777778,\"#fb9f3a\"],[0.8888888888888888,\"#fdca26\"],[1.0,\"#f0f921\"]]},\"colorway\":[\"#636efa\",\"#EF553B\",\"#00cc96\",\"#ab63fa\",\"#FFA15A\",\"#19d3f3\",\"#FF6692\",\"#B6E880\",\"#FF97FF\",\"#FECB52\"],\"font\":{\"color\":\"#2a3f5f\"},\"geo\":{\"bgcolor\":\"white\",\"lakecolor\":\"white\",\"landcolor\":\"#E5ECF6\",\"showlakes\":true,\"showland\":true,\"subunitcolor\":\"white\"},\"hoverlabel\":{\"align\":\"left\"},\"hovermode\":\"closest\",\"mapbox\":{\"style\":\"light\"},\"paper_bgcolor\":\"white\",\"plot_bgcolor\":\"#E5ECF6\",\"polar\":{\"angularaxis\":{\"gridcolor\":\"white\",\"linecolor\":\"white\",\"ticks\":\"\"},\"bgcolor\":\"#E5ECF6\",\"radialaxis\":{\"gridcolor\":\"white\",\"linecolor\":\"white\",\"ticks\":\"\"}},\"scene\":{\"xaxis\":{\"backgroundcolor\":\"#E5ECF6\",\"gridcolor\":\"white\",\"gridwidth\":2,\"linecolor\":\"white\",\"showbackground\":true,\"ticks\":\"\",\"zerolinecolor\":\"white\"},\"yaxis\":{\"backgroundcolor\":\"#E5ECF6\",\"gridcolor\":\"white\",\"gridwidth\":2,\"linecolor\":\"white\",\"showbackground\":true,\"ticks\":\"\",\"zerolinecolor\":\"white\"},\"zaxis\":{\"backgroundcolor\":\"#E5ECF6\",\"gridcolor\":\"white\",\"gridwidth\":2,\"linecolor\":\"white\",\"showbackground\":true,\"ticks\":\"\",\"zerolinecolor\":\"white\"}},\"shapedefaults\":{\"line\":{\"color\":\"#2a3f5f\"}},\"ternary\":{\"aaxis\":{\"gridcolor\":\"white\",\"linecolor\":\"white\",\"ticks\":\"\"},\"baxis\":{\"gridcolor\":\"white\",\"linecolor\":\"white\",\"ticks\":\"\"},\"bgcolor\":\"#E5ECF6\",\"caxis\":{\"gridcolor\":\"white\",\"linecolor\":\"white\",\"ticks\":\"\"}},\"title\":{\"x\":0.05},\"xaxis\":{\"automargin\":true,\"gridcolor\":\"white\",\"linecolor\":\"white\",\"ticks\":\"\",\"title\":{\"standoff\":15},\"zerolinecolor\":\"white\",\"zerolinewidth\":2},\"yaxis\":{\"automargin\":true,\"gridcolor\":\"white\",\"linecolor\":\"white\",\"ticks\":\"\",\"title\":{\"standoff\":15},\"zerolinecolor\":\"white\",\"zerolinewidth\":2}}},\"title\":{\"font\":{\"color\":\"#4D5663\"}},\"xaxis\":{\"gridcolor\":\"#E1E5ED\",\"showgrid\":true,\"tickfont\":{\"color\":\"#4D5663\"},\"title\":{\"font\":{\"color\":\"#4D5663\"},\"text\":\"\"},\"zerolinecolor\":\"#E1E5ED\"},\"yaxis\":{\"gridcolor\":\"#E1E5ED\",\"showgrid\":true,\"tickfont\":{\"color\":\"#4D5663\"},\"title\":{\"font\":{\"color\":\"#4D5663\"},\"text\":\"\"},\"zerolinecolor\":\"#E1E5ED\"}},                        {\"showLink\": true, \"linkText\": \"Export to plot.ly\", \"plotlyServerURL\": \"https://plot.ly\", \"responsive\": true}                    ).then(function(){\n",
       "                            \n",
       "var gd = document.getElementById('5ce737ed-3217-413c-b89d-adfda2b97b96');\n",
       "var x = new MutationObserver(function (mutations, observer) {{\n",
       "        var display = window.getComputedStyle(gd).display;\n",
       "        if (!display || display === 'none') {{\n",
       "            console.log([gd, 'removed!']);\n",
       "            Plotly.purge(gd);\n",
       "            observer.disconnect();\n",
       "        }}\n",
       "}});\n",
       "\n",
       "// Listen for the removal of the full notebook cells\n",
       "var notebookContainer = gd.closest('#notebook-container');\n",
       "if (notebookContainer) {{\n",
       "    x.observe(notebookContainer, {childList: true});\n",
       "}}\n",
       "\n",
       "// Listen for the clearing of the current output cell\n",
       "var outputEl = gd.closest('.output');\n",
       "if (outputEl) {{\n",
       "    x.observe(outputEl, {childList: true});\n",
       "}}\n",
       "\n",
       "                        })                };                });            </script>        </div>"
      ]
     },
     "metadata": {},
     "output_type": "display_data"
    }
   ],
   "source": [
    "df['A'].iplot(kind='hist')"
   ]
  },
  {
   "cell_type": "code",
   "execution_count": 41,
   "id": "ab7d67a7",
   "metadata": {},
   "outputs": [
    {
     "data": {
      "application/vnd.plotly.v1+json": {
       "config": {
        "linkText": "Export to plot.ly",
        "plotlyServerURL": "https://plot.ly",
        "showLink": true
       },
       "data": [
        {
         "histfunc": "count",
         "histnorm": "",
         "marker": {
          "color": "rgba(255, 153, 51, 1.0)",
          "line": {
           "color": "#4D5663",
           "width": 1.3
          }
         },
         "name": "A",
         "nbinsx": 25,
         "opacity": 0.8,
         "orientation": "v",
         "type": "histogram",
         "x": [
          -0.4109093102308704,
          -0.6680817820818279,
          0.05775923832079972,
          -0.6514336458680554,
          0.1879160682510293,
          -1.5293464668323662,
          -0.7035269259572434,
          0.023874540007682573,
          -1.2420547200599625,
          -0.8913683621133949,
          -0.6031304983078408,
          -0.8971715581521588,
          -0.29873531501808204,
          -0.28277215845111825,
          -1.4601949181242078,
          1.163711752718257,
          -0.7985458453409878,
          0.08419460658711336,
          1.2072287151035508,
          1.9355081654923072,
          -0.6280104709091505,
          -0.11194954662160747,
          -0.46415689977609864,
          0.3291395359396691,
          0.14336269881245645,
          -0.7973487302419948,
          1.0136391070213626,
          0.3224826399220911,
          -0.5610315946764224,
          -1.6376822225509424,
          1.5133491313233511,
          0.6252725756740378,
          0.5218653597362931,
          0.2630145983301274,
          -0.6226571769603287,
          -0.47641810789885125,
          -0.7063513142606132,
          0.32684887117824307,
          0.25245635094777025,
          -0.8921088220372825,
          0.7720682190244831,
          0.7238641471940175,
          0.645126076541708,
          0.4224070507208162,
          0.3990528172515247,
          -0.19255958104133045,
          -0.16973807979033237,
          -1.0196829077704666,
          -0.3561857988413979,
          -0.7547498424893713,
          1.756962952184945,
          0.15851227706927512,
          -1.0982456629275492,
          0.6028423362735791,
          -1.2172834983904086,
          0.3151964776503683,
          -1.2224736248236194,
          -0.7734229575896733,
          0.15439661925788561,
          0.7886502050544204,
          -0.054443877521405636,
          -1.0636641048785411,
          -1.5786802485725135,
          0.24813035938868763,
          0.13326047954542491,
          0.07900652650890297,
          -1.943265097469249,
          0.709653153466894,
          -0.8004575677107629,
          -0.30651500422656586,
          -0.034793194861766734,
          1.1239760186483012,
          1.9534360839432174,
          0.5855191473663935,
          -0.259033322409612,
          -0.721568816715617,
          0.4048799040916817,
          0.11292732199272669,
          -1.1339821084354054,
          1.608866407723626,
          0.3501736145293892,
          -0.0486340739793143,
          -1.4939842393253115,
          0.33891543148322023,
          -0.14837108037915506,
          1.1431096103520344,
          1.2732128325788084,
          1.6707652434185216,
          -2.034802087108342,
          2.0454869644421496,
          1.928114298449317,
          0.2810486247432109,
          -0.4763850985641512,
          1.0107331745913726,
          0.7183992254469621,
          1.3199201637244298,
          0.19377943979431222,
          1.9858006393975318,
          1.7289541996275624,
          0.6000972414545752
         ]
        }
       ],
       "layout": {
        "barmode": "overlay",
        "legend": {
         "bgcolor": "#F5F6F9",
         "font": {
          "color": "#4D5663"
         }
        },
        "paper_bgcolor": "#F5F6F9",
        "plot_bgcolor": "#F5F6F9",
        "template": {
         "data": {
          "bar": [
           {
            "error_x": {
             "color": "#2a3f5f"
            },
            "error_y": {
             "color": "#2a3f5f"
            },
            "marker": {
             "line": {
              "color": "#E5ECF6",
              "width": 0.5
             },
             "pattern": {
              "fillmode": "overlay",
              "size": 10,
              "solidity": 0.2
             }
            },
            "type": "bar"
           }
          ],
          "barpolar": [
           {
            "marker": {
             "line": {
              "color": "#E5ECF6",
              "width": 0.5
             },
             "pattern": {
              "fillmode": "overlay",
              "size": 10,
              "solidity": 0.2
             }
            },
            "type": "barpolar"
           }
          ],
          "carpet": [
           {
            "aaxis": {
             "endlinecolor": "#2a3f5f",
             "gridcolor": "white",
             "linecolor": "white",
             "minorgridcolor": "white",
             "startlinecolor": "#2a3f5f"
            },
            "baxis": {
             "endlinecolor": "#2a3f5f",
             "gridcolor": "white",
             "linecolor": "white",
             "minorgridcolor": "white",
             "startlinecolor": "#2a3f5f"
            },
            "type": "carpet"
           }
          ],
          "choropleth": [
           {
            "colorbar": {
             "outlinewidth": 0,
             "ticks": ""
            },
            "type": "choropleth"
           }
          ],
          "contour": [
           {
            "colorbar": {
             "outlinewidth": 0,
             "ticks": ""
            },
            "colorscale": [
             [
              0,
              "#0d0887"
             ],
             [
              0.1111111111111111,
              "#46039f"
             ],
             [
              0.2222222222222222,
              "#7201a8"
             ],
             [
              0.3333333333333333,
              "#9c179e"
             ],
             [
              0.4444444444444444,
              "#bd3786"
             ],
             [
              0.5555555555555556,
              "#d8576b"
             ],
             [
              0.6666666666666666,
              "#ed7953"
             ],
             [
              0.7777777777777778,
              "#fb9f3a"
             ],
             [
              0.8888888888888888,
              "#fdca26"
             ],
             [
              1,
              "#f0f921"
             ]
            ],
            "type": "contour"
           }
          ],
          "contourcarpet": [
           {
            "colorbar": {
             "outlinewidth": 0,
             "ticks": ""
            },
            "type": "contourcarpet"
           }
          ],
          "heatmap": [
           {
            "colorbar": {
             "outlinewidth": 0,
             "ticks": ""
            },
            "colorscale": [
             [
              0,
              "#0d0887"
             ],
             [
              0.1111111111111111,
              "#46039f"
             ],
             [
              0.2222222222222222,
              "#7201a8"
             ],
             [
              0.3333333333333333,
              "#9c179e"
             ],
             [
              0.4444444444444444,
              "#bd3786"
             ],
             [
              0.5555555555555556,
              "#d8576b"
             ],
             [
              0.6666666666666666,
              "#ed7953"
             ],
             [
              0.7777777777777778,
              "#fb9f3a"
             ],
             [
              0.8888888888888888,
              "#fdca26"
             ],
             [
              1,
              "#f0f921"
             ]
            ],
            "type": "heatmap"
           }
          ],
          "heatmapgl": [
           {
            "colorbar": {
             "outlinewidth": 0,
             "ticks": ""
            },
            "colorscale": [
             [
              0,
              "#0d0887"
             ],
             [
              0.1111111111111111,
              "#46039f"
             ],
             [
              0.2222222222222222,
              "#7201a8"
             ],
             [
              0.3333333333333333,
              "#9c179e"
             ],
             [
              0.4444444444444444,
              "#bd3786"
             ],
             [
              0.5555555555555556,
              "#d8576b"
             ],
             [
              0.6666666666666666,
              "#ed7953"
             ],
             [
              0.7777777777777778,
              "#fb9f3a"
             ],
             [
              0.8888888888888888,
              "#fdca26"
             ],
             [
              1,
              "#f0f921"
             ]
            ],
            "type": "heatmapgl"
           }
          ],
          "histogram": [
           {
            "marker": {
             "pattern": {
              "fillmode": "overlay",
              "size": 10,
              "solidity": 0.2
             }
            },
            "type": "histogram"
           }
          ],
          "histogram2d": [
           {
            "colorbar": {
             "outlinewidth": 0,
             "ticks": ""
            },
            "colorscale": [
             [
              0,
              "#0d0887"
             ],
             [
              0.1111111111111111,
              "#46039f"
             ],
             [
              0.2222222222222222,
              "#7201a8"
             ],
             [
              0.3333333333333333,
              "#9c179e"
             ],
             [
              0.4444444444444444,
              "#bd3786"
             ],
             [
              0.5555555555555556,
              "#d8576b"
             ],
             [
              0.6666666666666666,
              "#ed7953"
             ],
             [
              0.7777777777777778,
              "#fb9f3a"
             ],
             [
              0.8888888888888888,
              "#fdca26"
             ],
             [
              1,
              "#f0f921"
             ]
            ],
            "type": "histogram2d"
           }
          ],
          "histogram2dcontour": [
           {
            "colorbar": {
             "outlinewidth": 0,
             "ticks": ""
            },
            "colorscale": [
             [
              0,
              "#0d0887"
             ],
             [
              0.1111111111111111,
              "#46039f"
             ],
             [
              0.2222222222222222,
              "#7201a8"
             ],
             [
              0.3333333333333333,
              "#9c179e"
             ],
             [
              0.4444444444444444,
              "#bd3786"
             ],
             [
              0.5555555555555556,
              "#d8576b"
             ],
             [
              0.6666666666666666,
              "#ed7953"
             ],
             [
              0.7777777777777778,
              "#fb9f3a"
             ],
             [
              0.8888888888888888,
              "#fdca26"
             ],
             [
              1,
              "#f0f921"
             ]
            ],
            "type": "histogram2dcontour"
           }
          ],
          "mesh3d": [
           {
            "colorbar": {
             "outlinewidth": 0,
             "ticks": ""
            },
            "type": "mesh3d"
           }
          ],
          "parcoords": [
           {
            "line": {
             "colorbar": {
              "outlinewidth": 0,
              "ticks": ""
             }
            },
            "type": "parcoords"
           }
          ],
          "pie": [
           {
            "automargin": true,
            "type": "pie"
           }
          ],
          "scatter": [
           {
            "marker": {
             "colorbar": {
              "outlinewidth": 0,
              "ticks": ""
             }
            },
            "type": "scatter"
           }
          ],
          "scatter3d": [
           {
            "line": {
             "colorbar": {
              "outlinewidth": 0,
              "ticks": ""
             }
            },
            "marker": {
             "colorbar": {
              "outlinewidth": 0,
              "ticks": ""
             }
            },
            "type": "scatter3d"
           }
          ],
          "scattercarpet": [
           {
            "marker": {
             "colorbar": {
              "outlinewidth": 0,
              "ticks": ""
             }
            },
            "type": "scattercarpet"
           }
          ],
          "scattergeo": [
           {
            "marker": {
             "colorbar": {
              "outlinewidth": 0,
              "ticks": ""
             }
            },
            "type": "scattergeo"
           }
          ],
          "scattergl": [
           {
            "marker": {
             "colorbar": {
              "outlinewidth": 0,
              "ticks": ""
             }
            },
            "type": "scattergl"
           }
          ],
          "scattermapbox": [
           {
            "marker": {
             "colorbar": {
              "outlinewidth": 0,
              "ticks": ""
             }
            },
            "type": "scattermapbox"
           }
          ],
          "scatterpolar": [
           {
            "marker": {
             "colorbar": {
              "outlinewidth": 0,
              "ticks": ""
             }
            },
            "type": "scatterpolar"
           }
          ],
          "scatterpolargl": [
           {
            "marker": {
             "colorbar": {
              "outlinewidth": 0,
              "ticks": ""
             }
            },
            "type": "scatterpolargl"
           }
          ],
          "scatterternary": [
           {
            "marker": {
             "colorbar": {
              "outlinewidth": 0,
              "ticks": ""
             }
            },
            "type": "scatterternary"
           }
          ],
          "surface": [
           {
            "colorbar": {
             "outlinewidth": 0,
             "ticks": ""
            },
            "colorscale": [
             [
              0,
              "#0d0887"
             ],
             [
              0.1111111111111111,
              "#46039f"
             ],
             [
              0.2222222222222222,
              "#7201a8"
             ],
             [
              0.3333333333333333,
              "#9c179e"
             ],
             [
              0.4444444444444444,
              "#bd3786"
             ],
             [
              0.5555555555555556,
              "#d8576b"
             ],
             [
              0.6666666666666666,
              "#ed7953"
             ],
             [
              0.7777777777777778,
              "#fb9f3a"
             ],
             [
              0.8888888888888888,
              "#fdca26"
             ],
             [
              1,
              "#f0f921"
             ]
            ],
            "type": "surface"
           }
          ],
          "table": [
           {
            "cells": {
             "fill": {
              "color": "#EBF0F8"
             },
             "line": {
              "color": "white"
             }
            },
            "header": {
             "fill": {
              "color": "#C8D4E3"
             },
             "line": {
              "color": "white"
             }
            },
            "type": "table"
           }
          ]
         },
         "layout": {
          "annotationdefaults": {
           "arrowcolor": "#2a3f5f",
           "arrowhead": 0,
           "arrowwidth": 1
          },
          "autotypenumbers": "strict",
          "coloraxis": {
           "colorbar": {
            "outlinewidth": 0,
            "ticks": ""
           }
          },
          "colorscale": {
           "diverging": [
            [
             0,
             "#8e0152"
            ],
            [
             0.1,
             "#c51b7d"
            ],
            [
             0.2,
             "#de77ae"
            ],
            [
             0.3,
             "#f1b6da"
            ],
            [
             0.4,
             "#fde0ef"
            ],
            [
             0.5,
             "#f7f7f7"
            ],
            [
             0.6,
             "#e6f5d0"
            ],
            [
             0.7,
             "#b8e186"
            ],
            [
             0.8,
             "#7fbc41"
            ],
            [
             0.9,
             "#4d9221"
            ],
            [
             1,
             "#276419"
            ]
           ],
           "sequential": [
            [
             0,
             "#0d0887"
            ],
            [
             0.1111111111111111,
             "#46039f"
            ],
            [
             0.2222222222222222,
             "#7201a8"
            ],
            [
             0.3333333333333333,
             "#9c179e"
            ],
            [
             0.4444444444444444,
             "#bd3786"
            ],
            [
             0.5555555555555556,
             "#d8576b"
            ],
            [
             0.6666666666666666,
             "#ed7953"
            ],
            [
             0.7777777777777778,
             "#fb9f3a"
            ],
            [
             0.8888888888888888,
             "#fdca26"
            ],
            [
             1,
             "#f0f921"
            ]
           ],
           "sequentialminus": [
            [
             0,
             "#0d0887"
            ],
            [
             0.1111111111111111,
             "#46039f"
            ],
            [
             0.2222222222222222,
             "#7201a8"
            ],
            [
             0.3333333333333333,
             "#9c179e"
            ],
            [
             0.4444444444444444,
             "#bd3786"
            ],
            [
             0.5555555555555556,
             "#d8576b"
            ],
            [
             0.6666666666666666,
             "#ed7953"
            ],
            [
             0.7777777777777778,
             "#fb9f3a"
            ],
            [
             0.8888888888888888,
             "#fdca26"
            ],
            [
             1,
             "#f0f921"
            ]
           ]
          },
          "colorway": [
           "#636efa",
           "#EF553B",
           "#00cc96",
           "#ab63fa",
           "#FFA15A",
           "#19d3f3",
           "#FF6692",
           "#B6E880",
           "#FF97FF",
           "#FECB52"
          ],
          "font": {
           "color": "#2a3f5f"
          },
          "geo": {
           "bgcolor": "white",
           "lakecolor": "white",
           "landcolor": "#E5ECF6",
           "showlakes": true,
           "showland": true,
           "subunitcolor": "white"
          },
          "hoverlabel": {
           "align": "left"
          },
          "hovermode": "closest",
          "mapbox": {
           "style": "light"
          },
          "paper_bgcolor": "white",
          "plot_bgcolor": "#E5ECF6",
          "polar": {
           "angularaxis": {
            "gridcolor": "white",
            "linecolor": "white",
            "ticks": ""
           },
           "bgcolor": "#E5ECF6",
           "radialaxis": {
            "gridcolor": "white",
            "linecolor": "white",
            "ticks": ""
           }
          },
          "scene": {
           "xaxis": {
            "backgroundcolor": "#E5ECF6",
            "gridcolor": "white",
            "gridwidth": 2,
            "linecolor": "white",
            "showbackground": true,
            "ticks": "",
            "zerolinecolor": "white"
           },
           "yaxis": {
            "backgroundcolor": "#E5ECF6",
            "gridcolor": "white",
            "gridwidth": 2,
            "linecolor": "white",
            "showbackground": true,
            "ticks": "",
            "zerolinecolor": "white"
           },
           "zaxis": {
            "backgroundcolor": "#E5ECF6",
            "gridcolor": "white",
            "gridwidth": 2,
            "linecolor": "white",
            "showbackground": true,
            "ticks": "",
            "zerolinecolor": "white"
           }
          },
          "shapedefaults": {
           "line": {
            "color": "#2a3f5f"
           }
          },
          "ternary": {
           "aaxis": {
            "gridcolor": "white",
            "linecolor": "white",
            "ticks": ""
           },
           "baxis": {
            "gridcolor": "white",
            "linecolor": "white",
            "ticks": ""
           },
           "bgcolor": "#E5ECF6",
           "caxis": {
            "gridcolor": "white",
            "linecolor": "white",
            "ticks": ""
           }
          },
          "title": {
           "x": 0.05
          },
          "xaxis": {
           "automargin": true,
           "gridcolor": "white",
           "linecolor": "white",
           "ticks": "",
           "title": {
            "standoff": 15
           },
           "zerolinecolor": "white",
           "zerolinewidth": 2
          },
          "yaxis": {
           "automargin": true,
           "gridcolor": "white",
           "linecolor": "white",
           "ticks": "",
           "title": {
            "standoff": 15
           },
           "zerolinecolor": "white",
           "zerolinewidth": 2
          }
         }
        },
        "title": {
         "font": {
          "color": "#4D5663"
         }
        },
        "xaxis": {
         "gridcolor": "#E1E5ED",
         "showgrid": true,
         "tickfont": {
          "color": "#4D5663"
         },
         "title": {
          "font": {
           "color": "#4D5663"
          },
          "text": ""
         },
         "zerolinecolor": "#E1E5ED"
        },
        "yaxis": {
         "gridcolor": "#E1E5ED",
         "showgrid": true,
         "tickfont": {
          "color": "#4D5663"
         },
         "title": {
          "font": {
           "color": "#4D5663"
          },
          "text": ""
         },
         "zerolinecolor": "#E1E5ED"
        }
       }
      },
      "text/html": [
       "<div>                            <div id=\"2f2fe31a-9631-43ea-8229-f87a1bc4aa30\" class=\"plotly-graph-div\" style=\"height:525px; width:100%;\"></div>            <script type=\"text/javascript\">                require([\"plotly\"], function(Plotly) {                    window.PLOTLYENV=window.PLOTLYENV || {};\n",
       "                    window.PLOTLYENV.BASE_URL='https://plot.ly';                                    if (document.getElementById(\"2f2fe31a-9631-43ea-8229-f87a1bc4aa30\")) {                    Plotly.newPlot(                        \"2f2fe31a-9631-43ea-8229-f87a1bc4aa30\",                        [{\"histfunc\":\"count\",\"histnorm\":\"\",\"marker\":{\"color\":\"rgba(255, 153, 51, 1.0)\",\"line\":{\"color\":\"#4D5663\",\"width\":1.3}},\"name\":\"A\",\"nbinsx\":25,\"opacity\":0.8,\"orientation\":\"v\",\"x\":[-0.4109093102308704,-0.6680817820818279,0.05775923832079972,-0.6514336458680554,0.1879160682510293,-1.5293464668323662,-0.7035269259572434,0.023874540007682573,-1.2420547200599625,-0.8913683621133949,-0.6031304983078408,-0.8971715581521588,-0.29873531501808204,-0.28277215845111825,-1.4601949181242078,1.163711752718257,-0.7985458453409878,0.08419460658711336,1.2072287151035508,1.9355081654923072,-0.6280104709091505,-0.11194954662160747,-0.46415689977609864,0.3291395359396691,0.14336269881245645,-0.7973487302419948,1.0136391070213626,0.3224826399220911,-0.5610315946764224,-1.6376822225509424,1.5133491313233511,0.6252725756740378,0.5218653597362931,0.2630145983301274,-0.6226571769603287,-0.47641810789885125,-0.7063513142606132,0.32684887117824307,0.25245635094777025,-0.8921088220372825,0.7720682190244831,0.7238641471940175,0.645126076541708,0.4224070507208162,0.3990528172515247,-0.19255958104133045,-0.16973807979033237,-1.0196829077704666,-0.3561857988413979,-0.7547498424893713,1.756962952184945,0.15851227706927512,-1.0982456629275492,0.6028423362735791,-1.2172834983904086,0.3151964776503683,-1.2224736248236194,-0.7734229575896733,0.15439661925788561,0.7886502050544204,-0.054443877521405636,-1.0636641048785411,-1.5786802485725135,0.24813035938868763,0.13326047954542491,0.07900652650890297,-1.943265097469249,0.709653153466894,-0.8004575677107629,-0.30651500422656586,-0.034793194861766734,1.1239760186483012,1.9534360839432174,0.5855191473663935,-0.259033322409612,-0.721568816715617,0.4048799040916817,0.11292732199272669,-1.1339821084354054,1.608866407723626,0.3501736145293892,-0.0486340739793143,-1.4939842393253115,0.33891543148322023,-0.14837108037915506,1.1431096103520344,1.2732128325788084,1.6707652434185216,-2.034802087108342,2.0454869644421496,1.928114298449317,0.2810486247432109,-0.4763850985641512,1.0107331745913726,0.7183992254469621,1.3199201637244298,0.19377943979431222,1.9858006393975318,1.7289541996275624,0.6000972414545752],\"type\":\"histogram\"}],                        {\"barmode\":\"overlay\",\"legend\":{\"bgcolor\":\"#F5F6F9\",\"font\":{\"color\":\"#4D5663\"}},\"paper_bgcolor\":\"#F5F6F9\",\"plot_bgcolor\":\"#F5F6F9\",\"template\":{\"data\":{\"barpolar\":[{\"marker\":{\"line\":{\"color\":\"#E5ECF6\",\"width\":0.5},\"pattern\":{\"fillmode\":\"overlay\",\"size\":10,\"solidity\":0.2}},\"type\":\"barpolar\"}],\"bar\":[{\"error_x\":{\"color\":\"#2a3f5f\"},\"error_y\":{\"color\":\"#2a3f5f\"},\"marker\":{\"line\":{\"color\":\"#E5ECF6\",\"width\":0.5},\"pattern\":{\"fillmode\":\"overlay\",\"size\":10,\"solidity\":0.2}},\"type\":\"bar\"}],\"carpet\":[{\"aaxis\":{\"endlinecolor\":\"#2a3f5f\",\"gridcolor\":\"white\",\"linecolor\":\"white\",\"minorgridcolor\":\"white\",\"startlinecolor\":\"#2a3f5f\"},\"baxis\":{\"endlinecolor\":\"#2a3f5f\",\"gridcolor\":\"white\",\"linecolor\":\"white\",\"minorgridcolor\":\"white\",\"startlinecolor\":\"#2a3f5f\"},\"type\":\"carpet\"}],\"choropleth\":[{\"colorbar\":{\"outlinewidth\":0,\"ticks\":\"\"},\"type\":\"choropleth\"}],\"contourcarpet\":[{\"colorbar\":{\"outlinewidth\":0,\"ticks\":\"\"},\"type\":\"contourcarpet\"}],\"contour\":[{\"colorbar\":{\"outlinewidth\":0,\"ticks\":\"\"},\"colorscale\":[[0.0,\"#0d0887\"],[0.1111111111111111,\"#46039f\"],[0.2222222222222222,\"#7201a8\"],[0.3333333333333333,\"#9c179e\"],[0.4444444444444444,\"#bd3786\"],[0.5555555555555556,\"#d8576b\"],[0.6666666666666666,\"#ed7953\"],[0.7777777777777778,\"#fb9f3a\"],[0.8888888888888888,\"#fdca26\"],[1.0,\"#f0f921\"]],\"type\":\"contour\"}],\"heatmapgl\":[{\"colorbar\":{\"outlinewidth\":0,\"ticks\":\"\"},\"colorscale\":[[0.0,\"#0d0887\"],[0.1111111111111111,\"#46039f\"],[0.2222222222222222,\"#7201a8\"],[0.3333333333333333,\"#9c179e\"],[0.4444444444444444,\"#bd3786\"],[0.5555555555555556,\"#d8576b\"],[0.6666666666666666,\"#ed7953\"],[0.7777777777777778,\"#fb9f3a\"],[0.8888888888888888,\"#fdca26\"],[1.0,\"#f0f921\"]],\"type\":\"heatmapgl\"}],\"heatmap\":[{\"colorbar\":{\"outlinewidth\":0,\"ticks\":\"\"},\"colorscale\":[[0.0,\"#0d0887\"],[0.1111111111111111,\"#46039f\"],[0.2222222222222222,\"#7201a8\"],[0.3333333333333333,\"#9c179e\"],[0.4444444444444444,\"#bd3786\"],[0.5555555555555556,\"#d8576b\"],[0.6666666666666666,\"#ed7953\"],[0.7777777777777778,\"#fb9f3a\"],[0.8888888888888888,\"#fdca26\"],[1.0,\"#f0f921\"]],\"type\":\"heatmap\"}],\"histogram2dcontour\":[{\"colorbar\":{\"outlinewidth\":0,\"ticks\":\"\"},\"colorscale\":[[0.0,\"#0d0887\"],[0.1111111111111111,\"#46039f\"],[0.2222222222222222,\"#7201a8\"],[0.3333333333333333,\"#9c179e\"],[0.4444444444444444,\"#bd3786\"],[0.5555555555555556,\"#d8576b\"],[0.6666666666666666,\"#ed7953\"],[0.7777777777777778,\"#fb9f3a\"],[0.8888888888888888,\"#fdca26\"],[1.0,\"#f0f921\"]],\"type\":\"histogram2dcontour\"}],\"histogram2d\":[{\"colorbar\":{\"outlinewidth\":0,\"ticks\":\"\"},\"colorscale\":[[0.0,\"#0d0887\"],[0.1111111111111111,\"#46039f\"],[0.2222222222222222,\"#7201a8\"],[0.3333333333333333,\"#9c179e\"],[0.4444444444444444,\"#bd3786\"],[0.5555555555555556,\"#d8576b\"],[0.6666666666666666,\"#ed7953\"],[0.7777777777777778,\"#fb9f3a\"],[0.8888888888888888,\"#fdca26\"],[1.0,\"#f0f921\"]],\"type\":\"histogram2d\"}],\"histogram\":[{\"marker\":{\"pattern\":{\"fillmode\":\"overlay\",\"size\":10,\"solidity\":0.2}},\"type\":\"histogram\"}],\"mesh3d\":[{\"colorbar\":{\"outlinewidth\":0,\"ticks\":\"\"},\"type\":\"mesh3d\"}],\"parcoords\":[{\"line\":{\"colorbar\":{\"outlinewidth\":0,\"ticks\":\"\"}},\"type\":\"parcoords\"}],\"pie\":[{\"automargin\":true,\"type\":\"pie\"}],\"scatter3d\":[{\"line\":{\"colorbar\":{\"outlinewidth\":0,\"ticks\":\"\"}},\"marker\":{\"colorbar\":{\"outlinewidth\":0,\"ticks\":\"\"}},\"type\":\"scatter3d\"}],\"scattercarpet\":[{\"marker\":{\"colorbar\":{\"outlinewidth\":0,\"ticks\":\"\"}},\"type\":\"scattercarpet\"}],\"scattergeo\":[{\"marker\":{\"colorbar\":{\"outlinewidth\":0,\"ticks\":\"\"}},\"type\":\"scattergeo\"}],\"scattergl\":[{\"marker\":{\"colorbar\":{\"outlinewidth\":0,\"ticks\":\"\"}},\"type\":\"scattergl\"}],\"scattermapbox\":[{\"marker\":{\"colorbar\":{\"outlinewidth\":0,\"ticks\":\"\"}},\"type\":\"scattermapbox\"}],\"scatterpolargl\":[{\"marker\":{\"colorbar\":{\"outlinewidth\":0,\"ticks\":\"\"}},\"type\":\"scatterpolargl\"}],\"scatterpolar\":[{\"marker\":{\"colorbar\":{\"outlinewidth\":0,\"ticks\":\"\"}},\"type\":\"scatterpolar\"}],\"scatter\":[{\"marker\":{\"colorbar\":{\"outlinewidth\":0,\"ticks\":\"\"}},\"type\":\"scatter\"}],\"scatterternary\":[{\"marker\":{\"colorbar\":{\"outlinewidth\":0,\"ticks\":\"\"}},\"type\":\"scatterternary\"}],\"surface\":[{\"colorbar\":{\"outlinewidth\":0,\"ticks\":\"\"},\"colorscale\":[[0.0,\"#0d0887\"],[0.1111111111111111,\"#46039f\"],[0.2222222222222222,\"#7201a8\"],[0.3333333333333333,\"#9c179e\"],[0.4444444444444444,\"#bd3786\"],[0.5555555555555556,\"#d8576b\"],[0.6666666666666666,\"#ed7953\"],[0.7777777777777778,\"#fb9f3a\"],[0.8888888888888888,\"#fdca26\"],[1.0,\"#f0f921\"]],\"type\":\"surface\"}],\"table\":[{\"cells\":{\"fill\":{\"color\":\"#EBF0F8\"},\"line\":{\"color\":\"white\"}},\"header\":{\"fill\":{\"color\":\"#C8D4E3\"},\"line\":{\"color\":\"white\"}},\"type\":\"table\"}]},\"layout\":{\"annotationdefaults\":{\"arrowcolor\":\"#2a3f5f\",\"arrowhead\":0,\"arrowwidth\":1},\"autotypenumbers\":\"strict\",\"coloraxis\":{\"colorbar\":{\"outlinewidth\":0,\"ticks\":\"\"}},\"colorscale\":{\"diverging\":[[0,\"#8e0152\"],[0.1,\"#c51b7d\"],[0.2,\"#de77ae\"],[0.3,\"#f1b6da\"],[0.4,\"#fde0ef\"],[0.5,\"#f7f7f7\"],[0.6,\"#e6f5d0\"],[0.7,\"#b8e186\"],[0.8,\"#7fbc41\"],[0.9,\"#4d9221\"],[1,\"#276419\"]],\"sequential\":[[0.0,\"#0d0887\"],[0.1111111111111111,\"#46039f\"],[0.2222222222222222,\"#7201a8\"],[0.3333333333333333,\"#9c179e\"],[0.4444444444444444,\"#bd3786\"],[0.5555555555555556,\"#d8576b\"],[0.6666666666666666,\"#ed7953\"],[0.7777777777777778,\"#fb9f3a\"],[0.8888888888888888,\"#fdca26\"],[1.0,\"#f0f921\"]],\"sequentialminus\":[[0.0,\"#0d0887\"],[0.1111111111111111,\"#46039f\"],[0.2222222222222222,\"#7201a8\"],[0.3333333333333333,\"#9c179e\"],[0.4444444444444444,\"#bd3786\"],[0.5555555555555556,\"#d8576b\"],[0.6666666666666666,\"#ed7953\"],[0.7777777777777778,\"#fb9f3a\"],[0.8888888888888888,\"#fdca26\"],[1.0,\"#f0f921\"]]},\"colorway\":[\"#636efa\",\"#EF553B\",\"#00cc96\",\"#ab63fa\",\"#FFA15A\",\"#19d3f3\",\"#FF6692\",\"#B6E880\",\"#FF97FF\",\"#FECB52\"],\"font\":{\"color\":\"#2a3f5f\"},\"geo\":{\"bgcolor\":\"white\",\"lakecolor\":\"white\",\"landcolor\":\"#E5ECF6\",\"showlakes\":true,\"showland\":true,\"subunitcolor\":\"white\"},\"hoverlabel\":{\"align\":\"left\"},\"hovermode\":\"closest\",\"mapbox\":{\"style\":\"light\"},\"paper_bgcolor\":\"white\",\"plot_bgcolor\":\"#E5ECF6\",\"polar\":{\"angularaxis\":{\"gridcolor\":\"white\",\"linecolor\":\"white\",\"ticks\":\"\"},\"bgcolor\":\"#E5ECF6\",\"radialaxis\":{\"gridcolor\":\"white\",\"linecolor\":\"white\",\"ticks\":\"\"}},\"scene\":{\"xaxis\":{\"backgroundcolor\":\"#E5ECF6\",\"gridcolor\":\"white\",\"gridwidth\":2,\"linecolor\":\"white\",\"showbackground\":true,\"ticks\":\"\",\"zerolinecolor\":\"white\"},\"yaxis\":{\"backgroundcolor\":\"#E5ECF6\",\"gridcolor\":\"white\",\"gridwidth\":2,\"linecolor\":\"white\",\"showbackground\":true,\"ticks\":\"\",\"zerolinecolor\":\"white\"},\"zaxis\":{\"backgroundcolor\":\"#E5ECF6\",\"gridcolor\":\"white\",\"gridwidth\":2,\"linecolor\":\"white\",\"showbackground\":true,\"ticks\":\"\",\"zerolinecolor\":\"white\"}},\"shapedefaults\":{\"line\":{\"color\":\"#2a3f5f\"}},\"ternary\":{\"aaxis\":{\"gridcolor\":\"white\",\"linecolor\":\"white\",\"ticks\":\"\"},\"baxis\":{\"gridcolor\":\"white\",\"linecolor\":\"white\",\"ticks\":\"\"},\"bgcolor\":\"#E5ECF6\",\"caxis\":{\"gridcolor\":\"white\",\"linecolor\":\"white\",\"ticks\":\"\"}},\"title\":{\"x\":0.05},\"xaxis\":{\"automargin\":true,\"gridcolor\":\"white\",\"linecolor\":\"white\",\"ticks\":\"\",\"title\":{\"standoff\":15},\"zerolinecolor\":\"white\",\"zerolinewidth\":2},\"yaxis\":{\"automargin\":true,\"gridcolor\":\"white\",\"linecolor\":\"white\",\"ticks\":\"\",\"title\":{\"standoff\":15},\"zerolinecolor\":\"white\",\"zerolinewidth\":2}}},\"title\":{\"font\":{\"color\":\"#4D5663\"}},\"xaxis\":{\"gridcolor\":\"#E1E5ED\",\"showgrid\":true,\"tickfont\":{\"color\":\"#4D5663\"},\"title\":{\"font\":{\"color\":\"#4D5663\"},\"text\":\"\"},\"zerolinecolor\":\"#E1E5ED\"},\"yaxis\":{\"gridcolor\":\"#E1E5ED\",\"showgrid\":true,\"tickfont\":{\"color\":\"#4D5663\"},\"title\":{\"font\":{\"color\":\"#4D5663\"},\"text\":\"\"},\"zerolinecolor\":\"#E1E5ED\"}},                        {\"showLink\": true, \"linkText\": \"Export to plot.ly\", \"plotlyServerURL\": \"https://plot.ly\", \"responsive\": true}                    ).then(function(){\n",
       "                            \n",
       "var gd = document.getElementById('2f2fe31a-9631-43ea-8229-f87a1bc4aa30');\n",
       "var x = new MutationObserver(function (mutations, observer) {{\n",
       "        var display = window.getComputedStyle(gd).display;\n",
       "        if (!display || display === 'none') {{\n",
       "            console.log([gd, 'removed!']);\n",
       "            Plotly.purge(gd);\n",
       "            observer.disconnect();\n",
       "        }}\n",
       "}});\n",
       "\n",
       "// Listen for the removal of the full notebook cells\n",
       "var notebookContainer = gd.closest('#notebook-container');\n",
       "if (notebookContainer) {{\n",
       "    x.observe(notebookContainer, {childList: true});\n",
       "}}\n",
       "\n",
       "// Listen for the clearing of the current output cell\n",
       "var outputEl = gd.closest('.output');\n",
       "if (outputEl) {{\n",
       "    x.observe(outputEl, {childList: true});\n",
       "}}\n",
       "\n",
       "                        })                };                });            </script>        </div>"
      ]
     },
     "metadata": {},
     "output_type": "display_data"
    }
   ],
   "source": [
    "df['A'].iplot(kind='hist',bins=25)"
   ]
  },
  {
   "cell_type": "code",
   "execution_count": 42,
   "id": "a3c7a807",
   "metadata": {},
   "outputs": [
    {
     "data": {
      "application/vnd.plotly.v1+json": {
       "config": {
        "linkText": "Export to plot.ly",
        "plotlyServerURL": "https://plot.ly",
        "showLink": true
       },
       "data": [
        {
         "histfunc": "count",
         "histnorm": "",
         "marker": {
          "color": "rgba(255, 153, 51, 1.0)",
          "line": {
           "color": "#4D5663",
           "width": 1.3
          }
         },
         "name": "A",
         "opacity": 0.8,
         "orientation": "v",
         "type": "histogram",
         "x": [
          -0.4109093102308704,
          -0.6680817820818279,
          0.05775923832079972,
          -0.6514336458680554,
          0.1879160682510293,
          -1.5293464668323662,
          -0.7035269259572434,
          0.023874540007682573,
          -1.2420547200599625,
          -0.8913683621133949,
          -0.6031304983078408,
          -0.8971715581521588,
          -0.29873531501808204,
          -0.28277215845111825,
          -1.4601949181242078,
          1.163711752718257,
          -0.7985458453409878,
          0.08419460658711336,
          1.2072287151035508,
          1.9355081654923072,
          -0.6280104709091505,
          -0.11194954662160747,
          -0.46415689977609864,
          0.3291395359396691,
          0.14336269881245645,
          -0.7973487302419948,
          1.0136391070213626,
          0.3224826399220911,
          -0.5610315946764224,
          -1.6376822225509424,
          1.5133491313233511,
          0.6252725756740378,
          0.5218653597362931,
          0.2630145983301274,
          -0.6226571769603287,
          -0.47641810789885125,
          -0.7063513142606132,
          0.32684887117824307,
          0.25245635094777025,
          -0.8921088220372825,
          0.7720682190244831,
          0.7238641471940175,
          0.645126076541708,
          0.4224070507208162,
          0.3990528172515247,
          -0.19255958104133045,
          -0.16973807979033237,
          -1.0196829077704666,
          -0.3561857988413979,
          -0.7547498424893713,
          1.756962952184945,
          0.15851227706927512,
          -1.0982456629275492,
          0.6028423362735791,
          -1.2172834983904086,
          0.3151964776503683,
          -1.2224736248236194,
          -0.7734229575896733,
          0.15439661925788561,
          0.7886502050544204,
          -0.054443877521405636,
          -1.0636641048785411,
          -1.5786802485725135,
          0.24813035938868763,
          0.13326047954542491,
          0.07900652650890297,
          -1.943265097469249,
          0.709653153466894,
          -0.8004575677107629,
          -0.30651500422656586,
          -0.034793194861766734,
          1.1239760186483012,
          1.9534360839432174,
          0.5855191473663935,
          -0.259033322409612,
          -0.721568816715617,
          0.4048799040916817,
          0.11292732199272669,
          -1.1339821084354054,
          1.608866407723626,
          0.3501736145293892,
          -0.0486340739793143,
          -1.4939842393253115,
          0.33891543148322023,
          -0.14837108037915506,
          1.1431096103520344,
          1.2732128325788084,
          1.6707652434185216,
          -2.034802087108342,
          2.0454869644421496,
          1.928114298449317,
          0.2810486247432109,
          -0.4763850985641512,
          1.0107331745913726,
          0.7183992254469621,
          1.3199201637244298,
          0.19377943979431222,
          1.9858006393975318,
          1.7289541996275624,
          0.6000972414545752
         ]
        },
        {
         "histfunc": "count",
         "histnorm": "",
         "marker": {
          "color": "rgba(55, 128, 191, 1.0)",
          "line": {
           "color": "#4D5663",
           "width": 1.3
          }
         },
         "name": "B",
         "opacity": 0.8,
         "orientation": "v",
         "type": "histogram",
         "x": [
          0.10816164100433416,
          -0.3786534181130173,
          1.5976396520152203,
          0.1032715254968819,
          -1.0523808578431146,
          -1.3088111247109417,
          -0.33138160694857144,
          0.37586959252393326,
          -1.4329191920134556,
          -1.4057862776414278,
          -0.958400047246091,
          0.29084537770773083,
          0.9935937445178882,
          0.04105070648099821,
          0.5408640784206419,
          -0.9264630427696732,
          1.4446133920139053,
          0.7294940924538716,
          -0.4350365321345761,
          -0.1325933169696886,
          -1.014905041321066,
          0.7142426252203482,
          -0.12624792117550834,
          -0.20886899913259685,
          -0.046122503270438174,
          1.0930917336122041,
          -1.9021098919909627,
          2.1923805539824883,
          -0.35159360601604234,
          -0.7840171652005669,
          0.8013260813444979,
          1.6926231238423597,
          -1.8736638856094856,
          0.9707936279502669,
          -0.8946838001113273,
          0.33970862607059893,
          -0.5793816991296611,
          -0.0878888415438686,
          0.5123180202062559,
          -0.3354586266014048,
          -0.3056932331079285,
          1.3570012723760245,
          0.6501788955149052,
          -1.0229202856165147,
          0.6832670623300489,
          0.2169408672987547,
          -1.5775271330361818,
          -1.1246690529362395,
          0.3921142234135686,
          -0.06959219198977895,
          -0.019901343076002487,
          -0.9668266661131473,
          -0.21099683075611467,
          0.0016865579778136469,
          -1.0802687843471324,
          -1.380237864945273,
          -0.8039152050946438,
          0.6777652747804674,
          -1.7942162924799367,
          0.1874497630076612,
          0.21428526335199233,
          -1.6590885500531578,
          1.2292836165571877,
          -0.6313361485055891,
          0.20526898451701303,
          0.3019628958045808,
          1.2893815216553828,
          -1.8503476945459718,
          -1.1624137925900286,
          1.631894818283364,
          0.9137215970033604,
          0.42810273476173266,
          0.8383367822100516,
          0.03283408639287403,
          -0.6946136149052397,
          -0.08070742997934244,
          0.9486270898985858,
          -0.48974504059853097,
          0.7877660225946301,
          0.18205642024037574,
          -0.6270525171109232,
          -0.17486983897035135,
          -0.2569599069188726,
          0.4022673291283338,
          0.8893958001444761,
          0.7051969265018811,
          -0.2024575094870895,
          0.30361544203123086,
          -1.0690070760292605,
          0.4953857590622099,
          0.19672688600027186,
          -0.17632377424528928,
          -0.23475071514999798,
          0.997698475693314,
          -1.1669540486953198,
          -0.052800403148813194,
          0.1882279243514494,
          -0.7566964384387022,
          -0.5873806894237157,
          -1.0723913490493764
         ]
        },
        {
         "histfunc": "count",
         "histnorm": "",
         "marker": {
          "color": "rgba(50, 171, 96, 1.0)",
          "line": {
           "color": "#4D5663",
           "width": 1.3
          }
         },
         "name": "C",
         "opacity": 0.8,
         "orientation": "v",
         "type": "histogram",
         "x": [
          0.6292199526679915,
          0.2929975958833482,
          -0.04399087398141044,
          1.8565600602641612,
          -1.2750659235998933,
          -1.049310108114289,
          1.9150270383061618,
          1.2508697290216244,
          -0.5254373553532199,
          -1.1019207468324796,
          -0.4329980546454029,
          1.5572239614417513,
          -1.3055844181806395,
          -0.4122575973258354,
          -0.059880586166883694,
          -0.47306812677550375,
          1.0024038262962716,
          -0.2432530029414284,
          -0.2951196417216509,
          1.6108749570387297,
          -1.5277743237948516,
          0.24462827579148685,
          -0.6665963461968138,
          0.09551308916636889,
          -0.09167893838598215,
          -1.7815453817378082,
          -0.1521106133048684,
          1.9074572705422066,
          0.4592082613846467,
          0.7013091669194846,
          -0.8686089844179359,
          -0.4606390682252071,
          -0.41777249430301205,
          -0.4468941776179165,
          0.7094928970608115,
          -1.8603953409392233,
          0.6259187872531098,
          -1.6286731061977948,
          2.8201400374716687,
          -0.35503682144368226,
          -0.6396143178399654,
          -0.9654900282468604,
          -0.7210403553227229,
          -0.6778528111808548,
          -0.8847323338846561,
          -0.9563799305227523,
          1.3186129140745864,
          -1.0833389277669125,
          0.7146015938507903,
          -0.31692372500085386,
          0.5854408697615356,
          1.2266989977152263,
          -1.0876940047938335,
          -0.9545415176685021,
          0.4763777966834708,
          -0.028328147521990005,
          -0.9197802043519457,
          0.13369488535274207,
          -0.4346147152741386,
          -0.09219737012285296,
          -0.7442747895254129,
          -0.7800885356867993,
          -0.864528126951913,
          0.6156847853724774,
          0.6350478989525027,
          1.1944567500749472,
          0.09291026971232177,
          0.7978863435209216,
          0.717641604863803,
          0.3854021360752175,
          0.3871364856255502,
          1.0392309824169004,
          1.549422603605397,
          -0.9488235117675193,
          -0.10664617217844946,
          1.1281754295273083,
          1.532435448350468,
          0.8819094595511779,
          0.1588660200001338,
          -0.5538468056190365,
          -0.37835010238664146,
          0.8956307051416974,
          0.19210774446947973,
          0.3834669957770598,
          -0.002075523221641867,
          0.27647527640105485,
          -0.8078457966107676,
          -0.625341205482638,
          -0.83781920073781,
          0.0560368705472754,
          0.1432941566584118,
          -0.6215519009327086,
          -1.0108129007264421,
          0.003988253626526684,
          0.2757826690179561,
          -1.037282373787344,
          0.34299228025201184,
          -0.6033296064640993,
          1.6771847452732258,
          0.44518449248506753
         ]
        },
        {
         "histfunc": "count",
         "histnorm": "",
         "marker": {
          "color": "rgba(128, 0, 128, 1.0)",
          "line": {
           "color": "#4D5663",
           "width": 1.3
          }
         },
         "name": "D",
         "opacity": 0.8,
         "orientation": "v",
         "type": "histogram",
         "x": [
          -0.2773990390535875,
          -0.9181041820757111,
          -0.41695629787385136,
          0.3827797226044483,
          -1.7529933819530048,
          -0.7319625831080484,
          1.4867018549006927,
          1.4055835724351409,
          -0.8797716270422287,
          -0.596827049706759,
          0.8340313907663897,
          -0.04131531686530541,
          0.2599453428632096,
          -0.35726414646242105,
          1.2361542295277679,
          1.3454372740488802,
          -1.155284847160972,
          0.11560833073118736,
          1.0558476438294202,
          -0.09164539514816725,
          -0.07911103570471797,
          1.1298889292742882,
          1.0352534697805038,
          -0.5858686004334468,
          0.14702066966153676,
          0.7605378490231398,
          -0.2552446105455089,
          -2.531500870988131,
          -0.8151349614877484,
          -0.2015920797760861,
          -0.6773298355951781,
          -1.3697672350745784,
          0.09724331004694353,
          1.7011717963836774,
          -0.030937274832516556,
          0.5124910062389977,
          -0.45372901552669687,
          1.4482513486968667,
          1.9864055381472516,
          0.47522855192344204,
          0.4711856833597885,
          -1.8754888555936464,
          -2.1016106118736566,
          0.2693124651984568,
          0.45905685517626954,
          -0.40013306632258494,
          -1.1029866317352701,
          -0.8791067595006858,
          1.125635571527008,
          -2.3090732309185467,
          -0.8671350211320249,
          -1.342651525726852,
          0.022234185168456856,
          0.20139942607211828,
          -0.47147121341422843,
          0.504291600657643,
          -0.9166485195474732,
          0.6108027432860413,
          0.2046306319276693,
          -0.6785135228570527,
          -1.07186737499892,
          -1.1518117084162274,
          -1.1436522440035626,
          -0.9993470396308715,
          -0.12937160832678654,
          -1.178372039958786,
          0.19379575597871537,
          -0.9662038361824906,
          -0.437705018982611,
          -0.4323631505102849,
          0.248041241346058,
          0.2086791810129593,
          0.5929908589326623,
          -0.8536784616145044,
          -1.533101667308894,
          0.2424214860866842,
          0.9891233030383795,
          -0.4729289590102262,
          -0.014199955982915258,
          -2.5391709558181286,
          1.0268442751763005,
          0.045259851007036715,
          -0.9384052331484877,
          -0.2879938722489163,
          -0.9855361670308552,
          -0.637514850487326,
          1.0132347629902343,
          -1.0409569892865955,
          -0.12075479236245626,
          -0.677539436649919,
          -0.7277110810439337,
          0.2694823710565056,
          0.06787476222041963,
          0.5257354912022104,
          -0.9570659202256759,
          -0.5281540085218507,
          -1.0549750869942036,
          -0.018657045318151287,
          0.68417135330098,
          -0.8579511401360297
         ]
        }
       ],
       "layout": {
        "barmode": "overlay",
        "legend": {
         "bgcolor": "#F5F6F9",
         "font": {
          "color": "#4D5663"
         }
        },
        "paper_bgcolor": "#F5F6F9",
        "plot_bgcolor": "#F5F6F9",
        "template": {
         "data": {
          "bar": [
           {
            "error_x": {
             "color": "#2a3f5f"
            },
            "error_y": {
             "color": "#2a3f5f"
            },
            "marker": {
             "line": {
              "color": "#E5ECF6",
              "width": 0.5
             },
             "pattern": {
              "fillmode": "overlay",
              "size": 10,
              "solidity": 0.2
             }
            },
            "type": "bar"
           }
          ],
          "barpolar": [
           {
            "marker": {
             "line": {
              "color": "#E5ECF6",
              "width": 0.5
             },
             "pattern": {
              "fillmode": "overlay",
              "size": 10,
              "solidity": 0.2
             }
            },
            "type": "barpolar"
           }
          ],
          "carpet": [
           {
            "aaxis": {
             "endlinecolor": "#2a3f5f",
             "gridcolor": "white",
             "linecolor": "white",
             "minorgridcolor": "white",
             "startlinecolor": "#2a3f5f"
            },
            "baxis": {
             "endlinecolor": "#2a3f5f",
             "gridcolor": "white",
             "linecolor": "white",
             "minorgridcolor": "white",
             "startlinecolor": "#2a3f5f"
            },
            "type": "carpet"
           }
          ],
          "choropleth": [
           {
            "colorbar": {
             "outlinewidth": 0,
             "ticks": ""
            },
            "type": "choropleth"
           }
          ],
          "contour": [
           {
            "colorbar": {
             "outlinewidth": 0,
             "ticks": ""
            },
            "colorscale": [
             [
              0,
              "#0d0887"
             ],
             [
              0.1111111111111111,
              "#46039f"
             ],
             [
              0.2222222222222222,
              "#7201a8"
             ],
             [
              0.3333333333333333,
              "#9c179e"
             ],
             [
              0.4444444444444444,
              "#bd3786"
             ],
             [
              0.5555555555555556,
              "#d8576b"
             ],
             [
              0.6666666666666666,
              "#ed7953"
             ],
             [
              0.7777777777777778,
              "#fb9f3a"
             ],
             [
              0.8888888888888888,
              "#fdca26"
             ],
             [
              1,
              "#f0f921"
             ]
            ],
            "type": "contour"
           }
          ],
          "contourcarpet": [
           {
            "colorbar": {
             "outlinewidth": 0,
             "ticks": ""
            },
            "type": "contourcarpet"
           }
          ],
          "heatmap": [
           {
            "colorbar": {
             "outlinewidth": 0,
             "ticks": ""
            },
            "colorscale": [
             [
              0,
              "#0d0887"
             ],
             [
              0.1111111111111111,
              "#46039f"
             ],
             [
              0.2222222222222222,
              "#7201a8"
             ],
             [
              0.3333333333333333,
              "#9c179e"
             ],
             [
              0.4444444444444444,
              "#bd3786"
             ],
             [
              0.5555555555555556,
              "#d8576b"
             ],
             [
              0.6666666666666666,
              "#ed7953"
             ],
             [
              0.7777777777777778,
              "#fb9f3a"
             ],
             [
              0.8888888888888888,
              "#fdca26"
             ],
             [
              1,
              "#f0f921"
             ]
            ],
            "type": "heatmap"
           }
          ],
          "heatmapgl": [
           {
            "colorbar": {
             "outlinewidth": 0,
             "ticks": ""
            },
            "colorscale": [
             [
              0,
              "#0d0887"
             ],
             [
              0.1111111111111111,
              "#46039f"
             ],
             [
              0.2222222222222222,
              "#7201a8"
             ],
             [
              0.3333333333333333,
              "#9c179e"
             ],
             [
              0.4444444444444444,
              "#bd3786"
             ],
             [
              0.5555555555555556,
              "#d8576b"
             ],
             [
              0.6666666666666666,
              "#ed7953"
             ],
             [
              0.7777777777777778,
              "#fb9f3a"
             ],
             [
              0.8888888888888888,
              "#fdca26"
             ],
             [
              1,
              "#f0f921"
             ]
            ],
            "type": "heatmapgl"
           }
          ],
          "histogram": [
           {
            "marker": {
             "pattern": {
              "fillmode": "overlay",
              "size": 10,
              "solidity": 0.2
             }
            },
            "type": "histogram"
           }
          ],
          "histogram2d": [
           {
            "colorbar": {
             "outlinewidth": 0,
             "ticks": ""
            },
            "colorscale": [
             [
              0,
              "#0d0887"
             ],
             [
              0.1111111111111111,
              "#46039f"
             ],
             [
              0.2222222222222222,
              "#7201a8"
             ],
             [
              0.3333333333333333,
              "#9c179e"
             ],
             [
              0.4444444444444444,
              "#bd3786"
             ],
             [
              0.5555555555555556,
              "#d8576b"
             ],
             [
              0.6666666666666666,
              "#ed7953"
             ],
             [
              0.7777777777777778,
              "#fb9f3a"
             ],
             [
              0.8888888888888888,
              "#fdca26"
             ],
             [
              1,
              "#f0f921"
             ]
            ],
            "type": "histogram2d"
           }
          ],
          "histogram2dcontour": [
           {
            "colorbar": {
             "outlinewidth": 0,
             "ticks": ""
            },
            "colorscale": [
             [
              0,
              "#0d0887"
             ],
             [
              0.1111111111111111,
              "#46039f"
             ],
             [
              0.2222222222222222,
              "#7201a8"
             ],
             [
              0.3333333333333333,
              "#9c179e"
             ],
             [
              0.4444444444444444,
              "#bd3786"
             ],
             [
              0.5555555555555556,
              "#d8576b"
             ],
             [
              0.6666666666666666,
              "#ed7953"
             ],
             [
              0.7777777777777778,
              "#fb9f3a"
             ],
             [
              0.8888888888888888,
              "#fdca26"
             ],
             [
              1,
              "#f0f921"
             ]
            ],
            "type": "histogram2dcontour"
           }
          ],
          "mesh3d": [
           {
            "colorbar": {
             "outlinewidth": 0,
             "ticks": ""
            },
            "type": "mesh3d"
           }
          ],
          "parcoords": [
           {
            "line": {
             "colorbar": {
              "outlinewidth": 0,
              "ticks": ""
             }
            },
            "type": "parcoords"
           }
          ],
          "pie": [
           {
            "automargin": true,
            "type": "pie"
           }
          ],
          "scatter": [
           {
            "marker": {
             "colorbar": {
              "outlinewidth": 0,
              "ticks": ""
             }
            },
            "type": "scatter"
           }
          ],
          "scatter3d": [
           {
            "line": {
             "colorbar": {
              "outlinewidth": 0,
              "ticks": ""
             }
            },
            "marker": {
             "colorbar": {
              "outlinewidth": 0,
              "ticks": ""
             }
            },
            "type": "scatter3d"
           }
          ],
          "scattercarpet": [
           {
            "marker": {
             "colorbar": {
              "outlinewidth": 0,
              "ticks": ""
             }
            },
            "type": "scattercarpet"
           }
          ],
          "scattergeo": [
           {
            "marker": {
             "colorbar": {
              "outlinewidth": 0,
              "ticks": ""
             }
            },
            "type": "scattergeo"
           }
          ],
          "scattergl": [
           {
            "marker": {
             "colorbar": {
              "outlinewidth": 0,
              "ticks": ""
             }
            },
            "type": "scattergl"
           }
          ],
          "scattermapbox": [
           {
            "marker": {
             "colorbar": {
              "outlinewidth": 0,
              "ticks": ""
             }
            },
            "type": "scattermapbox"
           }
          ],
          "scatterpolar": [
           {
            "marker": {
             "colorbar": {
              "outlinewidth": 0,
              "ticks": ""
             }
            },
            "type": "scatterpolar"
           }
          ],
          "scatterpolargl": [
           {
            "marker": {
             "colorbar": {
              "outlinewidth": 0,
              "ticks": ""
             }
            },
            "type": "scatterpolargl"
           }
          ],
          "scatterternary": [
           {
            "marker": {
             "colorbar": {
              "outlinewidth": 0,
              "ticks": ""
             }
            },
            "type": "scatterternary"
           }
          ],
          "surface": [
           {
            "colorbar": {
             "outlinewidth": 0,
             "ticks": ""
            },
            "colorscale": [
             [
              0,
              "#0d0887"
             ],
             [
              0.1111111111111111,
              "#46039f"
             ],
             [
              0.2222222222222222,
              "#7201a8"
             ],
             [
              0.3333333333333333,
              "#9c179e"
             ],
             [
              0.4444444444444444,
              "#bd3786"
             ],
             [
              0.5555555555555556,
              "#d8576b"
             ],
             [
              0.6666666666666666,
              "#ed7953"
             ],
             [
              0.7777777777777778,
              "#fb9f3a"
             ],
             [
              0.8888888888888888,
              "#fdca26"
             ],
             [
              1,
              "#f0f921"
             ]
            ],
            "type": "surface"
           }
          ],
          "table": [
           {
            "cells": {
             "fill": {
              "color": "#EBF0F8"
             },
             "line": {
              "color": "white"
             }
            },
            "header": {
             "fill": {
              "color": "#C8D4E3"
             },
             "line": {
              "color": "white"
             }
            },
            "type": "table"
           }
          ]
         },
         "layout": {
          "annotationdefaults": {
           "arrowcolor": "#2a3f5f",
           "arrowhead": 0,
           "arrowwidth": 1
          },
          "autotypenumbers": "strict",
          "coloraxis": {
           "colorbar": {
            "outlinewidth": 0,
            "ticks": ""
           }
          },
          "colorscale": {
           "diverging": [
            [
             0,
             "#8e0152"
            ],
            [
             0.1,
             "#c51b7d"
            ],
            [
             0.2,
             "#de77ae"
            ],
            [
             0.3,
             "#f1b6da"
            ],
            [
             0.4,
             "#fde0ef"
            ],
            [
             0.5,
             "#f7f7f7"
            ],
            [
             0.6,
             "#e6f5d0"
            ],
            [
             0.7,
             "#b8e186"
            ],
            [
             0.8,
             "#7fbc41"
            ],
            [
             0.9,
             "#4d9221"
            ],
            [
             1,
             "#276419"
            ]
           ],
           "sequential": [
            [
             0,
             "#0d0887"
            ],
            [
             0.1111111111111111,
             "#46039f"
            ],
            [
             0.2222222222222222,
             "#7201a8"
            ],
            [
             0.3333333333333333,
             "#9c179e"
            ],
            [
             0.4444444444444444,
             "#bd3786"
            ],
            [
             0.5555555555555556,
             "#d8576b"
            ],
            [
             0.6666666666666666,
             "#ed7953"
            ],
            [
             0.7777777777777778,
             "#fb9f3a"
            ],
            [
             0.8888888888888888,
             "#fdca26"
            ],
            [
             1,
             "#f0f921"
            ]
           ],
           "sequentialminus": [
            [
             0,
             "#0d0887"
            ],
            [
             0.1111111111111111,
             "#46039f"
            ],
            [
             0.2222222222222222,
             "#7201a8"
            ],
            [
             0.3333333333333333,
             "#9c179e"
            ],
            [
             0.4444444444444444,
             "#bd3786"
            ],
            [
             0.5555555555555556,
             "#d8576b"
            ],
            [
             0.6666666666666666,
             "#ed7953"
            ],
            [
             0.7777777777777778,
             "#fb9f3a"
            ],
            [
             0.8888888888888888,
             "#fdca26"
            ],
            [
             1,
             "#f0f921"
            ]
           ]
          },
          "colorway": [
           "#636efa",
           "#EF553B",
           "#00cc96",
           "#ab63fa",
           "#FFA15A",
           "#19d3f3",
           "#FF6692",
           "#B6E880",
           "#FF97FF",
           "#FECB52"
          ],
          "font": {
           "color": "#2a3f5f"
          },
          "geo": {
           "bgcolor": "white",
           "lakecolor": "white",
           "landcolor": "#E5ECF6",
           "showlakes": true,
           "showland": true,
           "subunitcolor": "white"
          },
          "hoverlabel": {
           "align": "left"
          },
          "hovermode": "closest",
          "mapbox": {
           "style": "light"
          },
          "paper_bgcolor": "white",
          "plot_bgcolor": "#E5ECF6",
          "polar": {
           "angularaxis": {
            "gridcolor": "white",
            "linecolor": "white",
            "ticks": ""
           },
           "bgcolor": "#E5ECF6",
           "radialaxis": {
            "gridcolor": "white",
            "linecolor": "white",
            "ticks": ""
           }
          },
          "scene": {
           "xaxis": {
            "backgroundcolor": "#E5ECF6",
            "gridcolor": "white",
            "gridwidth": 2,
            "linecolor": "white",
            "showbackground": true,
            "ticks": "",
            "zerolinecolor": "white"
           },
           "yaxis": {
            "backgroundcolor": "#E5ECF6",
            "gridcolor": "white",
            "gridwidth": 2,
            "linecolor": "white",
            "showbackground": true,
            "ticks": "",
            "zerolinecolor": "white"
           },
           "zaxis": {
            "backgroundcolor": "#E5ECF6",
            "gridcolor": "white",
            "gridwidth": 2,
            "linecolor": "white",
            "showbackground": true,
            "ticks": "",
            "zerolinecolor": "white"
           }
          },
          "shapedefaults": {
           "line": {
            "color": "#2a3f5f"
           }
          },
          "ternary": {
           "aaxis": {
            "gridcolor": "white",
            "linecolor": "white",
            "ticks": ""
           },
           "baxis": {
            "gridcolor": "white",
            "linecolor": "white",
            "ticks": ""
           },
           "bgcolor": "#E5ECF6",
           "caxis": {
            "gridcolor": "white",
            "linecolor": "white",
            "ticks": ""
           }
          },
          "title": {
           "x": 0.05
          },
          "xaxis": {
           "automargin": true,
           "gridcolor": "white",
           "linecolor": "white",
           "ticks": "",
           "title": {
            "standoff": 15
           },
           "zerolinecolor": "white",
           "zerolinewidth": 2
          },
          "yaxis": {
           "automargin": true,
           "gridcolor": "white",
           "linecolor": "white",
           "ticks": "",
           "title": {
            "standoff": 15
           },
           "zerolinecolor": "white",
           "zerolinewidth": 2
          }
         }
        },
        "title": {
         "font": {
          "color": "#4D5663"
         }
        },
        "xaxis": {
         "gridcolor": "#E1E5ED",
         "showgrid": true,
         "tickfont": {
          "color": "#4D5663"
         },
         "title": {
          "font": {
           "color": "#4D5663"
          },
          "text": ""
         },
         "zerolinecolor": "#E1E5ED"
        },
        "yaxis": {
         "gridcolor": "#E1E5ED",
         "showgrid": true,
         "tickfont": {
          "color": "#4D5663"
         },
         "title": {
          "font": {
           "color": "#4D5663"
          },
          "text": ""
         },
         "zerolinecolor": "#E1E5ED"
        }
       }
      },
      "text/html": [
       "<div>                            <div id=\"acf801b7-ddd6-4f91-8aeb-35dba6efab25\" class=\"plotly-graph-div\" style=\"height:525px; width:100%;\"></div>            <script type=\"text/javascript\">                require([\"plotly\"], function(Plotly) {                    window.PLOTLYENV=window.PLOTLYENV || {};\n",
       "                    window.PLOTLYENV.BASE_URL='https://plot.ly';                                    if (document.getElementById(\"acf801b7-ddd6-4f91-8aeb-35dba6efab25\")) {                    Plotly.newPlot(                        \"acf801b7-ddd6-4f91-8aeb-35dba6efab25\",                        [{\"histfunc\":\"count\",\"histnorm\":\"\",\"marker\":{\"color\":\"rgba(255, 153, 51, 1.0)\",\"line\":{\"color\":\"#4D5663\",\"width\":1.3}},\"name\":\"A\",\"opacity\":0.8,\"orientation\":\"v\",\"x\":[-0.4109093102308704,-0.6680817820818279,0.05775923832079972,-0.6514336458680554,0.1879160682510293,-1.5293464668323662,-0.7035269259572434,0.023874540007682573,-1.2420547200599625,-0.8913683621133949,-0.6031304983078408,-0.8971715581521588,-0.29873531501808204,-0.28277215845111825,-1.4601949181242078,1.163711752718257,-0.7985458453409878,0.08419460658711336,1.2072287151035508,1.9355081654923072,-0.6280104709091505,-0.11194954662160747,-0.46415689977609864,0.3291395359396691,0.14336269881245645,-0.7973487302419948,1.0136391070213626,0.3224826399220911,-0.5610315946764224,-1.6376822225509424,1.5133491313233511,0.6252725756740378,0.5218653597362931,0.2630145983301274,-0.6226571769603287,-0.47641810789885125,-0.7063513142606132,0.32684887117824307,0.25245635094777025,-0.8921088220372825,0.7720682190244831,0.7238641471940175,0.645126076541708,0.4224070507208162,0.3990528172515247,-0.19255958104133045,-0.16973807979033237,-1.0196829077704666,-0.3561857988413979,-0.7547498424893713,1.756962952184945,0.15851227706927512,-1.0982456629275492,0.6028423362735791,-1.2172834983904086,0.3151964776503683,-1.2224736248236194,-0.7734229575896733,0.15439661925788561,0.7886502050544204,-0.054443877521405636,-1.0636641048785411,-1.5786802485725135,0.24813035938868763,0.13326047954542491,0.07900652650890297,-1.943265097469249,0.709653153466894,-0.8004575677107629,-0.30651500422656586,-0.034793194861766734,1.1239760186483012,1.9534360839432174,0.5855191473663935,-0.259033322409612,-0.721568816715617,0.4048799040916817,0.11292732199272669,-1.1339821084354054,1.608866407723626,0.3501736145293892,-0.0486340739793143,-1.4939842393253115,0.33891543148322023,-0.14837108037915506,1.1431096103520344,1.2732128325788084,1.6707652434185216,-2.034802087108342,2.0454869644421496,1.928114298449317,0.2810486247432109,-0.4763850985641512,1.0107331745913726,0.7183992254469621,1.3199201637244298,0.19377943979431222,1.9858006393975318,1.7289541996275624,0.6000972414545752],\"type\":\"histogram\"},{\"histfunc\":\"count\",\"histnorm\":\"\",\"marker\":{\"color\":\"rgba(55, 128, 191, 1.0)\",\"line\":{\"color\":\"#4D5663\",\"width\":1.3}},\"name\":\"B\",\"opacity\":0.8,\"orientation\":\"v\",\"x\":[0.10816164100433416,-0.3786534181130173,1.5976396520152203,0.1032715254968819,-1.0523808578431146,-1.3088111247109417,-0.33138160694857144,0.37586959252393326,-1.4329191920134556,-1.4057862776414278,-0.958400047246091,0.29084537770773083,0.9935937445178882,0.04105070648099821,0.5408640784206419,-0.9264630427696732,1.4446133920139053,0.7294940924538716,-0.4350365321345761,-0.1325933169696886,-1.014905041321066,0.7142426252203482,-0.12624792117550834,-0.20886899913259685,-0.046122503270438174,1.0930917336122041,-1.9021098919909627,2.1923805539824883,-0.35159360601604234,-0.7840171652005669,0.8013260813444979,1.6926231238423597,-1.8736638856094856,0.9707936279502669,-0.8946838001113273,0.33970862607059893,-0.5793816991296611,-0.0878888415438686,0.5123180202062559,-0.3354586266014048,-0.3056932331079285,1.3570012723760245,0.6501788955149052,-1.0229202856165147,0.6832670623300489,0.2169408672987547,-1.5775271330361818,-1.1246690529362395,0.3921142234135686,-0.06959219198977895,-0.019901343076002487,-0.9668266661131473,-0.21099683075611467,0.0016865579778136469,-1.0802687843471324,-1.380237864945273,-0.8039152050946438,0.6777652747804674,-1.7942162924799367,0.1874497630076612,0.21428526335199233,-1.6590885500531578,1.2292836165571877,-0.6313361485055891,0.20526898451701303,0.3019628958045808,1.2893815216553828,-1.8503476945459718,-1.1624137925900286,1.631894818283364,0.9137215970033604,0.42810273476173266,0.8383367822100516,0.03283408639287403,-0.6946136149052397,-0.08070742997934244,0.9486270898985858,-0.48974504059853097,0.7877660225946301,0.18205642024037574,-0.6270525171109232,-0.17486983897035135,-0.2569599069188726,0.4022673291283338,0.8893958001444761,0.7051969265018811,-0.2024575094870895,0.30361544203123086,-1.0690070760292605,0.4953857590622099,0.19672688600027186,-0.17632377424528928,-0.23475071514999798,0.997698475693314,-1.1669540486953198,-0.052800403148813194,0.1882279243514494,-0.7566964384387022,-0.5873806894237157,-1.0723913490493764],\"type\":\"histogram\"},{\"histfunc\":\"count\",\"histnorm\":\"\",\"marker\":{\"color\":\"rgba(50, 171, 96, 1.0)\",\"line\":{\"color\":\"#4D5663\",\"width\":1.3}},\"name\":\"C\",\"opacity\":0.8,\"orientation\":\"v\",\"x\":[0.6292199526679915,0.2929975958833482,-0.04399087398141044,1.8565600602641612,-1.2750659235998933,-1.049310108114289,1.9150270383061618,1.2508697290216244,-0.5254373553532199,-1.1019207468324796,-0.4329980546454029,1.5572239614417513,-1.3055844181806395,-0.4122575973258354,-0.059880586166883694,-0.47306812677550375,1.0024038262962716,-0.2432530029414284,-0.2951196417216509,1.6108749570387297,-1.5277743237948516,0.24462827579148685,-0.6665963461968138,0.09551308916636889,-0.09167893838598215,-1.7815453817378082,-0.1521106133048684,1.9074572705422066,0.4592082613846467,0.7013091669194846,-0.8686089844179359,-0.4606390682252071,-0.41777249430301205,-0.4468941776179165,0.7094928970608115,-1.8603953409392233,0.6259187872531098,-1.6286731061977948,2.8201400374716687,-0.35503682144368226,-0.6396143178399654,-0.9654900282468604,-0.7210403553227229,-0.6778528111808548,-0.8847323338846561,-0.9563799305227523,1.3186129140745864,-1.0833389277669125,0.7146015938507903,-0.31692372500085386,0.5854408697615356,1.2266989977152263,-1.0876940047938335,-0.9545415176685021,0.4763777966834708,-0.028328147521990005,-0.9197802043519457,0.13369488535274207,-0.4346147152741386,-0.09219737012285296,-0.7442747895254129,-0.7800885356867993,-0.864528126951913,0.6156847853724774,0.6350478989525027,1.1944567500749472,0.09291026971232177,0.7978863435209216,0.717641604863803,0.3854021360752175,0.3871364856255502,1.0392309824169004,1.549422603605397,-0.9488235117675193,-0.10664617217844946,1.1281754295273083,1.532435448350468,0.8819094595511779,0.1588660200001338,-0.5538468056190365,-0.37835010238664146,0.8956307051416974,0.19210774446947973,0.3834669957770598,-0.002075523221641867,0.27647527640105485,-0.8078457966107676,-0.625341205482638,-0.83781920073781,0.0560368705472754,0.1432941566584118,-0.6215519009327086,-1.0108129007264421,0.003988253626526684,0.2757826690179561,-1.037282373787344,0.34299228025201184,-0.6033296064640993,1.6771847452732258,0.44518449248506753],\"type\":\"histogram\"},{\"histfunc\":\"count\",\"histnorm\":\"\",\"marker\":{\"color\":\"rgba(128, 0, 128, 1.0)\",\"line\":{\"color\":\"#4D5663\",\"width\":1.3}},\"name\":\"D\",\"opacity\":0.8,\"orientation\":\"v\",\"x\":[-0.2773990390535875,-0.9181041820757111,-0.41695629787385136,0.3827797226044483,-1.7529933819530048,-0.7319625831080484,1.4867018549006927,1.4055835724351409,-0.8797716270422287,-0.596827049706759,0.8340313907663897,-0.04131531686530541,0.2599453428632096,-0.35726414646242105,1.2361542295277679,1.3454372740488802,-1.155284847160972,0.11560833073118736,1.0558476438294202,-0.09164539514816725,-0.07911103570471797,1.1298889292742882,1.0352534697805038,-0.5858686004334468,0.14702066966153676,0.7605378490231398,-0.2552446105455089,-2.531500870988131,-0.8151349614877484,-0.2015920797760861,-0.6773298355951781,-1.3697672350745784,0.09724331004694353,1.7011717963836774,-0.030937274832516556,0.5124910062389977,-0.45372901552669687,1.4482513486968667,1.9864055381472516,0.47522855192344204,0.4711856833597885,-1.8754888555936464,-2.1016106118736566,0.2693124651984568,0.45905685517626954,-0.40013306632258494,-1.1029866317352701,-0.8791067595006858,1.125635571527008,-2.3090732309185467,-0.8671350211320249,-1.342651525726852,0.022234185168456856,0.20139942607211828,-0.47147121341422843,0.504291600657643,-0.9166485195474732,0.6108027432860413,0.2046306319276693,-0.6785135228570527,-1.07186737499892,-1.1518117084162274,-1.1436522440035626,-0.9993470396308715,-0.12937160832678654,-1.178372039958786,0.19379575597871537,-0.9662038361824906,-0.437705018982611,-0.4323631505102849,0.248041241346058,0.2086791810129593,0.5929908589326623,-0.8536784616145044,-1.533101667308894,0.2424214860866842,0.9891233030383795,-0.4729289590102262,-0.014199955982915258,-2.5391709558181286,1.0268442751763005,0.045259851007036715,-0.9384052331484877,-0.2879938722489163,-0.9855361670308552,-0.637514850487326,1.0132347629902343,-1.0409569892865955,-0.12075479236245626,-0.677539436649919,-0.7277110810439337,0.2694823710565056,0.06787476222041963,0.5257354912022104,-0.9570659202256759,-0.5281540085218507,-1.0549750869942036,-0.018657045318151287,0.68417135330098,-0.8579511401360297],\"type\":\"histogram\"}],                        {\"barmode\":\"overlay\",\"legend\":{\"bgcolor\":\"#F5F6F9\",\"font\":{\"color\":\"#4D5663\"}},\"paper_bgcolor\":\"#F5F6F9\",\"plot_bgcolor\":\"#F5F6F9\",\"template\":{\"data\":{\"barpolar\":[{\"marker\":{\"line\":{\"color\":\"#E5ECF6\",\"width\":0.5},\"pattern\":{\"fillmode\":\"overlay\",\"size\":10,\"solidity\":0.2}},\"type\":\"barpolar\"}],\"bar\":[{\"error_x\":{\"color\":\"#2a3f5f\"},\"error_y\":{\"color\":\"#2a3f5f\"},\"marker\":{\"line\":{\"color\":\"#E5ECF6\",\"width\":0.5},\"pattern\":{\"fillmode\":\"overlay\",\"size\":10,\"solidity\":0.2}},\"type\":\"bar\"}],\"carpet\":[{\"aaxis\":{\"endlinecolor\":\"#2a3f5f\",\"gridcolor\":\"white\",\"linecolor\":\"white\",\"minorgridcolor\":\"white\",\"startlinecolor\":\"#2a3f5f\"},\"baxis\":{\"endlinecolor\":\"#2a3f5f\",\"gridcolor\":\"white\",\"linecolor\":\"white\",\"minorgridcolor\":\"white\",\"startlinecolor\":\"#2a3f5f\"},\"type\":\"carpet\"}],\"choropleth\":[{\"colorbar\":{\"outlinewidth\":0,\"ticks\":\"\"},\"type\":\"choropleth\"}],\"contourcarpet\":[{\"colorbar\":{\"outlinewidth\":0,\"ticks\":\"\"},\"type\":\"contourcarpet\"}],\"contour\":[{\"colorbar\":{\"outlinewidth\":0,\"ticks\":\"\"},\"colorscale\":[[0.0,\"#0d0887\"],[0.1111111111111111,\"#46039f\"],[0.2222222222222222,\"#7201a8\"],[0.3333333333333333,\"#9c179e\"],[0.4444444444444444,\"#bd3786\"],[0.5555555555555556,\"#d8576b\"],[0.6666666666666666,\"#ed7953\"],[0.7777777777777778,\"#fb9f3a\"],[0.8888888888888888,\"#fdca26\"],[1.0,\"#f0f921\"]],\"type\":\"contour\"}],\"heatmapgl\":[{\"colorbar\":{\"outlinewidth\":0,\"ticks\":\"\"},\"colorscale\":[[0.0,\"#0d0887\"],[0.1111111111111111,\"#46039f\"],[0.2222222222222222,\"#7201a8\"],[0.3333333333333333,\"#9c179e\"],[0.4444444444444444,\"#bd3786\"],[0.5555555555555556,\"#d8576b\"],[0.6666666666666666,\"#ed7953\"],[0.7777777777777778,\"#fb9f3a\"],[0.8888888888888888,\"#fdca26\"],[1.0,\"#f0f921\"]],\"type\":\"heatmapgl\"}],\"heatmap\":[{\"colorbar\":{\"outlinewidth\":0,\"ticks\":\"\"},\"colorscale\":[[0.0,\"#0d0887\"],[0.1111111111111111,\"#46039f\"],[0.2222222222222222,\"#7201a8\"],[0.3333333333333333,\"#9c179e\"],[0.4444444444444444,\"#bd3786\"],[0.5555555555555556,\"#d8576b\"],[0.6666666666666666,\"#ed7953\"],[0.7777777777777778,\"#fb9f3a\"],[0.8888888888888888,\"#fdca26\"],[1.0,\"#f0f921\"]],\"type\":\"heatmap\"}],\"histogram2dcontour\":[{\"colorbar\":{\"outlinewidth\":0,\"ticks\":\"\"},\"colorscale\":[[0.0,\"#0d0887\"],[0.1111111111111111,\"#46039f\"],[0.2222222222222222,\"#7201a8\"],[0.3333333333333333,\"#9c179e\"],[0.4444444444444444,\"#bd3786\"],[0.5555555555555556,\"#d8576b\"],[0.6666666666666666,\"#ed7953\"],[0.7777777777777778,\"#fb9f3a\"],[0.8888888888888888,\"#fdca26\"],[1.0,\"#f0f921\"]],\"type\":\"histogram2dcontour\"}],\"histogram2d\":[{\"colorbar\":{\"outlinewidth\":0,\"ticks\":\"\"},\"colorscale\":[[0.0,\"#0d0887\"],[0.1111111111111111,\"#46039f\"],[0.2222222222222222,\"#7201a8\"],[0.3333333333333333,\"#9c179e\"],[0.4444444444444444,\"#bd3786\"],[0.5555555555555556,\"#d8576b\"],[0.6666666666666666,\"#ed7953\"],[0.7777777777777778,\"#fb9f3a\"],[0.8888888888888888,\"#fdca26\"],[1.0,\"#f0f921\"]],\"type\":\"histogram2d\"}],\"histogram\":[{\"marker\":{\"pattern\":{\"fillmode\":\"overlay\",\"size\":10,\"solidity\":0.2}},\"type\":\"histogram\"}],\"mesh3d\":[{\"colorbar\":{\"outlinewidth\":0,\"ticks\":\"\"},\"type\":\"mesh3d\"}],\"parcoords\":[{\"line\":{\"colorbar\":{\"outlinewidth\":0,\"ticks\":\"\"}},\"type\":\"parcoords\"}],\"pie\":[{\"automargin\":true,\"type\":\"pie\"}],\"scatter3d\":[{\"line\":{\"colorbar\":{\"outlinewidth\":0,\"ticks\":\"\"}},\"marker\":{\"colorbar\":{\"outlinewidth\":0,\"ticks\":\"\"}},\"type\":\"scatter3d\"}],\"scattercarpet\":[{\"marker\":{\"colorbar\":{\"outlinewidth\":0,\"ticks\":\"\"}},\"type\":\"scattercarpet\"}],\"scattergeo\":[{\"marker\":{\"colorbar\":{\"outlinewidth\":0,\"ticks\":\"\"}},\"type\":\"scattergeo\"}],\"scattergl\":[{\"marker\":{\"colorbar\":{\"outlinewidth\":0,\"ticks\":\"\"}},\"type\":\"scattergl\"}],\"scattermapbox\":[{\"marker\":{\"colorbar\":{\"outlinewidth\":0,\"ticks\":\"\"}},\"type\":\"scattermapbox\"}],\"scatterpolargl\":[{\"marker\":{\"colorbar\":{\"outlinewidth\":0,\"ticks\":\"\"}},\"type\":\"scatterpolargl\"}],\"scatterpolar\":[{\"marker\":{\"colorbar\":{\"outlinewidth\":0,\"ticks\":\"\"}},\"type\":\"scatterpolar\"}],\"scatter\":[{\"marker\":{\"colorbar\":{\"outlinewidth\":0,\"ticks\":\"\"}},\"type\":\"scatter\"}],\"scatterternary\":[{\"marker\":{\"colorbar\":{\"outlinewidth\":0,\"ticks\":\"\"}},\"type\":\"scatterternary\"}],\"surface\":[{\"colorbar\":{\"outlinewidth\":0,\"ticks\":\"\"},\"colorscale\":[[0.0,\"#0d0887\"],[0.1111111111111111,\"#46039f\"],[0.2222222222222222,\"#7201a8\"],[0.3333333333333333,\"#9c179e\"],[0.4444444444444444,\"#bd3786\"],[0.5555555555555556,\"#d8576b\"],[0.6666666666666666,\"#ed7953\"],[0.7777777777777778,\"#fb9f3a\"],[0.8888888888888888,\"#fdca26\"],[1.0,\"#f0f921\"]],\"type\":\"surface\"}],\"table\":[{\"cells\":{\"fill\":{\"color\":\"#EBF0F8\"},\"line\":{\"color\":\"white\"}},\"header\":{\"fill\":{\"color\":\"#C8D4E3\"},\"line\":{\"color\":\"white\"}},\"type\":\"table\"}]},\"layout\":{\"annotationdefaults\":{\"arrowcolor\":\"#2a3f5f\",\"arrowhead\":0,\"arrowwidth\":1},\"autotypenumbers\":\"strict\",\"coloraxis\":{\"colorbar\":{\"outlinewidth\":0,\"ticks\":\"\"}},\"colorscale\":{\"diverging\":[[0,\"#8e0152\"],[0.1,\"#c51b7d\"],[0.2,\"#de77ae\"],[0.3,\"#f1b6da\"],[0.4,\"#fde0ef\"],[0.5,\"#f7f7f7\"],[0.6,\"#e6f5d0\"],[0.7,\"#b8e186\"],[0.8,\"#7fbc41\"],[0.9,\"#4d9221\"],[1,\"#276419\"]],\"sequential\":[[0.0,\"#0d0887\"],[0.1111111111111111,\"#46039f\"],[0.2222222222222222,\"#7201a8\"],[0.3333333333333333,\"#9c179e\"],[0.4444444444444444,\"#bd3786\"],[0.5555555555555556,\"#d8576b\"],[0.6666666666666666,\"#ed7953\"],[0.7777777777777778,\"#fb9f3a\"],[0.8888888888888888,\"#fdca26\"],[1.0,\"#f0f921\"]],\"sequentialminus\":[[0.0,\"#0d0887\"],[0.1111111111111111,\"#46039f\"],[0.2222222222222222,\"#7201a8\"],[0.3333333333333333,\"#9c179e\"],[0.4444444444444444,\"#bd3786\"],[0.5555555555555556,\"#d8576b\"],[0.6666666666666666,\"#ed7953\"],[0.7777777777777778,\"#fb9f3a\"],[0.8888888888888888,\"#fdca26\"],[1.0,\"#f0f921\"]]},\"colorway\":[\"#636efa\",\"#EF553B\",\"#00cc96\",\"#ab63fa\",\"#FFA15A\",\"#19d3f3\",\"#FF6692\",\"#B6E880\",\"#FF97FF\",\"#FECB52\"],\"font\":{\"color\":\"#2a3f5f\"},\"geo\":{\"bgcolor\":\"white\",\"lakecolor\":\"white\",\"landcolor\":\"#E5ECF6\",\"showlakes\":true,\"showland\":true,\"subunitcolor\":\"white\"},\"hoverlabel\":{\"align\":\"left\"},\"hovermode\":\"closest\",\"mapbox\":{\"style\":\"light\"},\"paper_bgcolor\":\"white\",\"plot_bgcolor\":\"#E5ECF6\",\"polar\":{\"angularaxis\":{\"gridcolor\":\"white\",\"linecolor\":\"white\",\"ticks\":\"\"},\"bgcolor\":\"#E5ECF6\",\"radialaxis\":{\"gridcolor\":\"white\",\"linecolor\":\"white\",\"ticks\":\"\"}},\"scene\":{\"xaxis\":{\"backgroundcolor\":\"#E5ECF6\",\"gridcolor\":\"white\",\"gridwidth\":2,\"linecolor\":\"white\",\"showbackground\":true,\"ticks\":\"\",\"zerolinecolor\":\"white\"},\"yaxis\":{\"backgroundcolor\":\"#E5ECF6\",\"gridcolor\":\"white\",\"gridwidth\":2,\"linecolor\":\"white\",\"showbackground\":true,\"ticks\":\"\",\"zerolinecolor\":\"white\"},\"zaxis\":{\"backgroundcolor\":\"#E5ECF6\",\"gridcolor\":\"white\",\"gridwidth\":2,\"linecolor\":\"white\",\"showbackground\":true,\"ticks\":\"\",\"zerolinecolor\":\"white\"}},\"shapedefaults\":{\"line\":{\"color\":\"#2a3f5f\"}},\"ternary\":{\"aaxis\":{\"gridcolor\":\"white\",\"linecolor\":\"white\",\"ticks\":\"\"},\"baxis\":{\"gridcolor\":\"white\",\"linecolor\":\"white\",\"ticks\":\"\"},\"bgcolor\":\"#E5ECF6\",\"caxis\":{\"gridcolor\":\"white\",\"linecolor\":\"white\",\"ticks\":\"\"}},\"title\":{\"x\":0.05},\"xaxis\":{\"automargin\":true,\"gridcolor\":\"white\",\"linecolor\":\"white\",\"ticks\":\"\",\"title\":{\"standoff\":15},\"zerolinecolor\":\"white\",\"zerolinewidth\":2},\"yaxis\":{\"automargin\":true,\"gridcolor\":\"white\",\"linecolor\":\"white\",\"ticks\":\"\",\"title\":{\"standoff\":15},\"zerolinecolor\":\"white\",\"zerolinewidth\":2}}},\"title\":{\"font\":{\"color\":\"#4D5663\"}},\"xaxis\":{\"gridcolor\":\"#E1E5ED\",\"showgrid\":true,\"tickfont\":{\"color\":\"#4D5663\"},\"title\":{\"font\":{\"color\":\"#4D5663\"},\"text\":\"\"},\"zerolinecolor\":\"#E1E5ED\"},\"yaxis\":{\"gridcolor\":\"#E1E5ED\",\"showgrid\":true,\"tickfont\":{\"color\":\"#4D5663\"},\"title\":{\"font\":{\"color\":\"#4D5663\"},\"text\":\"\"},\"zerolinecolor\":\"#E1E5ED\"}},                        {\"showLink\": true, \"linkText\": \"Export to plot.ly\", \"plotlyServerURL\": \"https://plot.ly\", \"responsive\": true}                    ).then(function(){\n",
       "                            \n",
       "var gd = document.getElementById('acf801b7-ddd6-4f91-8aeb-35dba6efab25');\n",
       "var x = new MutationObserver(function (mutations, observer) {{\n",
       "        var display = window.getComputedStyle(gd).display;\n",
       "        if (!display || display === 'none') {{\n",
       "            console.log([gd, 'removed!']);\n",
       "            Plotly.purge(gd);\n",
       "            observer.disconnect();\n",
       "        }}\n",
       "}});\n",
       "\n",
       "// Listen for the removal of the full notebook cells\n",
       "var notebookContainer = gd.closest('#notebook-container');\n",
       "if (notebookContainer) {{\n",
       "    x.observe(notebookContainer, {childList: true});\n",
       "}}\n",
       "\n",
       "// Listen for the clearing of the current output cell\n",
       "var outputEl = gd.closest('.output');\n",
       "if (outputEl) {{\n",
       "    x.observe(outputEl, {childList: true});\n",
       "}}\n",
       "\n",
       "                        })                };                });            </script>        </div>"
      ]
     },
     "metadata": {},
     "output_type": "display_data"
    }
   ],
   "source": [
    "df.iplot(kind='hist')"
   ]
  },
  {
   "cell_type": "code",
   "execution_count": 43,
   "id": "d29f3fb1",
   "metadata": {},
   "outputs": [
    {
     "name": "stderr",
     "output_type": "stream",
     "text": [
      "/home/filipe/anaconda3/lib/python3.9/site-packages/cufflinks/plotlytools.py:849: FutureWarning:\n",
      "\n",
      "The pandas.np module is deprecated and will be removed from pandas in a future version. Import numpy directly instead\n",
      "\n",
      "/home/filipe/anaconda3/lib/python3.9/site-packages/cufflinks/plotlytools.py:850: FutureWarning:\n",
      "\n",
      "The pandas.np module is deprecated and will be removed from pandas in a future version. Import numpy directly instead\n",
      "\n"
     ]
    },
    {
     "data": {
      "application/vnd.plotly.v1+json": {
       "config": {
        "linkText": "Export to plot.ly",
        "plotlyServerURL": "https://plot.ly",
        "showLink": true
       },
       "data": [
        {
         "line": {
          "color": "rgba(255, 153, 51, 1.0)",
          "dash": "solid",
          "shape": "linear",
          "width": 1.3
         },
         "mode": "lines",
         "name": "A",
         "text": "",
         "type": "scatter",
         "x": [
          0,
          1,
          2,
          3,
          4,
          5,
          6,
          7,
          8,
          9,
          10,
          11,
          12,
          13,
          14,
          15,
          16,
          17,
          18,
          19,
          20,
          21,
          22,
          23,
          24,
          25,
          26,
          27,
          28,
          29,
          30,
          31,
          32,
          33,
          34,
          35,
          36,
          37,
          38,
          39,
          40,
          41,
          42,
          43,
          44,
          45,
          46,
          47,
          48,
          49,
          50,
          51,
          52,
          53,
          54,
          55,
          56,
          57,
          58,
          59,
          60,
          61,
          62,
          63,
          64,
          65,
          66,
          67,
          68,
          69,
          70,
          71,
          72,
          73,
          74,
          75,
          76,
          77,
          78,
          79,
          80,
          81,
          82,
          83,
          84,
          85,
          86,
          87,
          88,
          89,
          90,
          91,
          92,
          93,
          94,
          95,
          96,
          97,
          98,
          99
         ],
         "y": [
          -0.4109093102308704,
          -0.6680817820818279,
          0.05775923832079972,
          -0.6514336458680554,
          0.1879160682510293,
          -1.5293464668323662,
          -0.7035269259572434,
          0.023874540007682573,
          -1.2420547200599625,
          -0.8913683621133949,
          -0.6031304983078408,
          -0.8971715581521588,
          -0.29873531501808204,
          -0.28277215845111825,
          -1.4601949181242078,
          1.163711752718257,
          -0.7985458453409878,
          0.08419460658711336,
          1.2072287151035508,
          1.9355081654923072,
          -0.6280104709091505,
          -0.11194954662160747,
          -0.46415689977609864,
          0.3291395359396691,
          0.14336269881245645,
          -0.7973487302419948,
          1.0136391070213626,
          0.3224826399220911,
          -0.5610315946764224,
          -1.6376822225509424,
          1.5133491313233511,
          0.6252725756740378,
          0.5218653597362931,
          0.2630145983301274,
          -0.6226571769603287,
          -0.47641810789885125,
          -0.7063513142606132,
          0.32684887117824307,
          0.25245635094777025,
          -0.8921088220372825,
          0.7720682190244831,
          0.7238641471940175,
          0.645126076541708,
          0.4224070507208162,
          0.3990528172515247,
          -0.19255958104133045,
          -0.16973807979033237,
          -1.0196829077704666,
          -0.3561857988413979,
          -0.7547498424893713,
          1.756962952184945,
          0.15851227706927512,
          -1.0982456629275492,
          0.6028423362735791,
          -1.2172834983904086,
          0.3151964776503683,
          -1.2224736248236194,
          -0.7734229575896733,
          0.15439661925788561,
          0.7886502050544204,
          -0.054443877521405636,
          -1.0636641048785411,
          -1.5786802485725135,
          0.24813035938868763,
          0.13326047954542491,
          0.07900652650890297,
          -1.943265097469249,
          0.709653153466894,
          -0.8004575677107629,
          -0.30651500422656586,
          -0.034793194861766734,
          1.1239760186483012,
          1.9534360839432174,
          0.5855191473663935,
          -0.259033322409612,
          -0.721568816715617,
          0.4048799040916817,
          0.11292732199272669,
          -1.1339821084354054,
          1.608866407723626,
          0.3501736145293892,
          -0.0486340739793143,
          -1.4939842393253115,
          0.33891543148322023,
          -0.14837108037915506,
          1.1431096103520344,
          1.2732128325788084,
          1.6707652434185216,
          -2.034802087108342,
          2.0454869644421496,
          1.928114298449317,
          0.2810486247432109,
          -0.4763850985641512,
          1.0107331745913726,
          0.7183992254469621,
          1.3199201637244298,
          0.19377943979431222,
          1.9858006393975318,
          1.7289541996275624,
          0.6000972414545752
         ]
        },
        {
         "line": {
          "color": "rgba(55, 128, 191, 1.0)",
          "dash": "solid",
          "shape": "linear",
          "width": 1.3
         },
         "mode": "lines",
         "name": "B",
         "text": "",
         "type": "scatter",
         "x": [
          0,
          1,
          2,
          3,
          4,
          5,
          6,
          7,
          8,
          9,
          10,
          11,
          12,
          13,
          14,
          15,
          16,
          17,
          18,
          19,
          20,
          21,
          22,
          23,
          24,
          25,
          26,
          27,
          28,
          29,
          30,
          31,
          32,
          33,
          34,
          35,
          36,
          37,
          38,
          39,
          40,
          41,
          42,
          43,
          44,
          45,
          46,
          47,
          48,
          49,
          50,
          51,
          52,
          53,
          54,
          55,
          56,
          57,
          58,
          59,
          60,
          61,
          62,
          63,
          64,
          65,
          66,
          67,
          68,
          69,
          70,
          71,
          72,
          73,
          74,
          75,
          76,
          77,
          78,
          79,
          80,
          81,
          82,
          83,
          84,
          85,
          86,
          87,
          88,
          89,
          90,
          91,
          92,
          93,
          94,
          95,
          96,
          97,
          98,
          99
         ],
         "y": [
          0.10816164100433416,
          -0.3786534181130173,
          1.5976396520152203,
          0.1032715254968819,
          -1.0523808578431146,
          -1.3088111247109417,
          -0.33138160694857144,
          0.37586959252393326,
          -1.4329191920134556,
          -1.4057862776414278,
          -0.958400047246091,
          0.29084537770773083,
          0.9935937445178882,
          0.04105070648099821,
          0.5408640784206419,
          -0.9264630427696732,
          1.4446133920139053,
          0.7294940924538716,
          -0.4350365321345761,
          -0.1325933169696886,
          -1.014905041321066,
          0.7142426252203482,
          -0.12624792117550834,
          -0.20886899913259685,
          -0.046122503270438174,
          1.0930917336122041,
          -1.9021098919909627,
          2.1923805539824883,
          -0.35159360601604234,
          -0.7840171652005669,
          0.8013260813444979,
          1.6926231238423597,
          -1.8736638856094856,
          0.9707936279502669,
          -0.8946838001113273,
          0.33970862607059893,
          -0.5793816991296611,
          -0.0878888415438686,
          0.5123180202062559,
          -0.3354586266014048,
          -0.3056932331079285,
          1.3570012723760245,
          0.6501788955149052,
          -1.0229202856165147,
          0.6832670623300489,
          0.2169408672987547,
          -1.5775271330361818,
          -1.1246690529362395,
          0.3921142234135686,
          -0.06959219198977895,
          -0.019901343076002487,
          -0.9668266661131473,
          -0.21099683075611467,
          0.0016865579778136469,
          -1.0802687843471324,
          -1.380237864945273,
          -0.8039152050946438,
          0.6777652747804674,
          -1.7942162924799367,
          0.1874497630076612,
          0.21428526335199233,
          -1.6590885500531578,
          1.2292836165571877,
          -0.6313361485055891,
          0.20526898451701303,
          0.3019628958045808,
          1.2893815216553828,
          -1.8503476945459718,
          -1.1624137925900286,
          1.631894818283364,
          0.9137215970033604,
          0.42810273476173266,
          0.8383367822100516,
          0.03283408639287403,
          -0.6946136149052397,
          -0.08070742997934244,
          0.9486270898985858,
          -0.48974504059853097,
          0.7877660225946301,
          0.18205642024037574,
          -0.6270525171109232,
          -0.17486983897035135,
          -0.2569599069188726,
          0.4022673291283338,
          0.8893958001444761,
          0.7051969265018811,
          -0.2024575094870895,
          0.30361544203123086,
          -1.0690070760292605,
          0.4953857590622099,
          0.19672688600027186,
          -0.17632377424528928,
          -0.23475071514999798,
          0.997698475693314,
          -1.1669540486953198,
          -0.052800403148813194,
          0.1882279243514494,
          -0.7566964384387022,
          -0.5873806894237157,
          -1.0723913490493764
         ]
        },
        {
         "connectgaps": false,
         "fill": "tozeroy",
         "line": {
          "color": "green",
          "dash": "solid",
          "shape": "linear",
          "width": 0.5
         },
         "mode": "lines",
         "name": "Spread",
         "showlegend": false,
         "type": "scatter",
         "x": [
          0,
          1,
          2,
          3,
          4,
          5,
          6,
          7,
          8,
          9,
          10,
          11,
          12,
          13,
          14,
          15,
          16,
          17,
          18,
          19,
          20,
          21,
          22,
          23,
          24,
          25,
          26,
          27,
          28,
          29,
          30,
          31,
          32,
          33,
          34,
          35,
          36,
          37,
          38,
          39,
          40,
          41,
          42,
          43,
          44,
          45,
          46,
          47,
          48,
          49,
          50,
          51,
          52,
          53,
          54,
          55,
          56,
          57,
          58,
          59,
          60,
          61,
          62,
          63,
          64,
          65,
          66,
          67,
          68,
          69,
          70,
          71,
          72,
          73,
          74,
          75,
          76,
          77,
          78,
          79,
          80,
          81,
          82,
          83,
          84,
          85,
          86,
          87,
          88,
          89,
          90,
          91,
          92,
          93,
          94,
          95,
          96,
          97,
          98,
          99
         ],
         "xaxis": "x2",
         "y": [
          "",
          "",
          "",
          "",
          1.2402969260941439,
          "",
          "",
          "",
          0.1908644719534931,
          0.514417915528033,
          0.35526954893825013,
          "",
          "",
          "",
          "",
          2.09017479548793,
          "",
          "",
          1.642265247238127,
          2.0681014824619957,
          0.38689457041191555,
          "",
          "",
          0.538008535072266,
          0.18948520208289463,
          "",
          2.915748999012325,
          "",
          "",
          "",
          0.7120230499788532,
          "",
          2.3955292453457786,
          "",
          0.27202662315099857,
          "",
          "",
          0.4147377127221117,
          "",
          "",
          1.0777614521324117,
          "",
          "",
          1.445327336337331,
          "",
          "",
          1.4077890532458495,
          0.10498614516577298,
          "",
          "",
          1.7768642952609475,
          1.1253389431824223,
          "",
          0.6011557782957654,
          "",
          1.6954343425956413,
          "",
          "",
          1.9486129117378224,
          0.6012004420467592,
          "",
          0.5954244451746167,
          "",
          0.8794665078942767,
          "",
          "",
          "",
          2.5600008480128658,
          0.3619562248792657,
          "",
          "",
          0.6958732838865685,
          1.1150993017331658,
          0.5526850609735195,
          0.43558029249562763,
          "",
          "",
          0.6026723625912577,
          "",
          1.4268099874832503,
          0.9772261316403125,
          0.12623576499103706,
          "",
          "",
          "",
          0.43791268385015325,
          1.4756703420658979,
          1.3671498013872907,
          "",
          1.5501012053799397,
          1.7313874124490451,
          0.4573723989885002,
          "",
          0.013034698898058528,
          1.885353274142282,
          1.372720566873243,
          0.005551515442862837,
          2.742497077836234,
          2.3163348890512783,
          1.6724885905039515
         ],
         "yaxis": "y2"
        },
        {
         "connectgaps": false,
         "fill": "tozeroy",
         "line": {
          "color": "red",
          "dash": "solid",
          "shape": "linear",
          "width": 0.5
         },
         "mode": "lines",
         "name": "Spread",
         "showlegend": false,
         "type": "scatter",
         "x": [
          0,
          1,
          2,
          3,
          4,
          5,
          6,
          7,
          8,
          9,
          10,
          11,
          12,
          13,
          14,
          15,
          16,
          17,
          18,
          19,
          20,
          21,
          22,
          23,
          24,
          25,
          26,
          27,
          28,
          29,
          30,
          31,
          32,
          33,
          34,
          35,
          36,
          37,
          38,
          39,
          40,
          41,
          42,
          43,
          44,
          45,
          46,
          47,
          48,
          49,
          50,
          51,
          52,
          53,
          54,
          55,
          56,
          57,
          58,
          59,
          60,
          61,
          62,
          63,
          64,
          65,
          66,
          67,
          68,
          69,
          70,
          71,
          72,
          73,
          74,
          75,
          76,
          77,
          78,
          79,
          80,
          81,
          82,
          83,
          84,
          85,
          86,
          87,
          88,
          89,
          90,
          91,
          92,
          93,
          94,
          95,
          96,
          97,
          98,
          99
         ],
         "xaxis": "x2",
         "y": [
          -0.5190709512352045,
          -0.2894283639688106,
          -1.5398804136944206,
          -0.7547051713649373,
          "",
          -0.22053534212142445,
          -0.372145319008672,
          -0.3519950525162507,
          "",
          "",
          "",
          -1.1880169358598895,
          -1.2923290595359702,
          -0.3238228649321165,
          -2.0010589965448498,
          "",
          -2.243159237354893,
          -0.6452994858667582,
          "",
          "",
          "",
          -0.8261921718419557,
          -0.3379089786005903,
          "",
          "",
          -1.890440463854199,
          "",
          -1.8698979140603973,
          -0.20943798866038005,
          -0.8536650573503756,
          "",
          -1.0673505481683219,
          "",
          -0.7077790296201395,
          "",
          -0.8161267339694502,
          -0.12696961513095206,
          "",
          -0.2598616692584857,
          -0.5566501954358777,
          "",
          -0.633137125182007,
          -0.005052818973197204,
          "",
          -0.28421424507852416,
          -0.40950044834008514,
          "",
          "",
          -0.7483000222549665,
          -0.6851576504995923,
          "",
          "",
          -0.8872488321714346,
          "",
          -0.13701471404327625,
          "",
          -0.4185584197289757,
          -1.4511882323701406,
          "",
          "",
          -0.26872914087339794,
          "",
          -2.807963865129701,
          "",
          -0.07200850497158812,
          -0.22295636929567783,
          -3.2326466191246315,
          "",
          "",
          -1.9384098225099298,
          -0.9485147918651271,
          "",
          "",
          "",
          "",
          -0.6408613867362746,
          -0.5437471858069041,
          "",
          -1.9217481310300355,
          "",
          "",
          "",
          -1.237024332406439,
          -0.06335189764511356,
          -1.037766880523631,
          "",
          "",
          "",
          -0.9657950110790814,
          "",
          "",
          "",
          -0.2416343834141532,
          "",
          "",
          "",
          "",
          "",
          "",
          ""
         ],
         "yaxis": "y2"
        }
       ],
       "layout": {
        "hovermode": "x",
        "legend": {
         "bgcolor": "#F5F6F9",
         "font": {
          "color": "#4D5663"
         }
        },
        "paper_bgcolor": "#F5F6F9",
        "plot_bgcolor": "#F5F6F9",
        "template": {
         "data": {
          "bar": [
           {
            "error_x": {
             "color": "#2a3f5f"
            },
            "error_y": {
             "color": "#2a3f5f"
            },
            "marker": {
             "line": {
              "color": "#E5ECF6",
              "width": 0.5
             },
             "pattern": {
              "fillmode": "overlay",
              "size": 10,
              "solidity": 0.2
             }
            },
            "type": "bar"
           }
          ],
          "barpolar": [
           {
            "marker": {
             "line": {
              "color": "#E5ECF6",
              "width": 0.5
             },
             "pattern": {
              "fillmode": "overlay",
              "size": 10,
              "solidity": 0.2
             }
            },
            "type": "barpolar"
           }
          ],
          "carpet": [
           {
            "aaxis": {
             "endlinecolor": "#2a3f5f",
             "gridcolor": "white",
             "linecolor": "white",
             "minorgridcolor": "white",
             "startlinecolor": "#2a3f5f"
            },
            "baxis": {
             "endlinecolor": "#2a3f5f",
             "gridcolor": "white",
             "linecolor": "white",
             "minorgridcolor": "white",
             "startlinecolor": "#2a3f5f"
            },
            "type": "carpet"
           }
          ],
          "choropleth": [
           {
            "colorbar": {
             "outlinewidth": 0,
             "ticks": ""
            },
            "type": "choropleth"
           }
          ],
          "contour": [
           {
            "colorbar": {
             "outlinewidth": 0,
             "ticks": ""
            },
            "colorscale": [
             [
              0,
              "#0d0887"
             ],
             [
              0.1111111111111111,
              "#46039f"
             ],
             [
              0.2222222222222222,
              "#7201a8"
             ],
             [
              0.3333333333333333,
              "#9c179e"
             ],
             [
              0.4444444444444444,
              "#bd3786"
             ],
             [
              0.5555555555555556,
              "#d8576b"
             ],
             [
              0.6666666666666666,
              "#ed7953"
             ],
             [
              0.7777777777777778,
              "#fb9f3a"
             ],
             [
              0.8888888888888888,
              "#fdca26"
             ],
             [
              1,
              "#f0f921"
             ]
            ],
            "type": "contour"
           }
          ],
          "contourcarpet": [
           {
            "colorbar": {
             "outlinewidth": 0,
             "ticks": ""
            },
            "type": "contourcarpet"
           }
          ],
          "heatmap": [
           {
            "colorbar": {
             "outlinewidth": 0,
             "ticks": ""
            },
            "colorscale": [
             [
              0,
              "#0d0887"
             ],
             [
              0.1111111111111111,
              "#46039f"
             ],
             [
              0.2222222222222222,
              "#7201a8"
             ],
             [
              0.3333333333333333,
              "#9c179e"
             ],
             [
              0.4444444444444444,
              "#bd3786"
             ],
             [
              0.5555555555555556,
              "#d8576b"
             ],
             [
              0.6666666666666666,
              "#ed7953"
             ],
             [
              0.7777777777777778,
              "#fb9f3a"
             ],
             [
              0.8888888888888888,
              "#fdca26"
             ],
             [
              1,
              "#f0f921"
             ]
            ],
            "type": "heatmap"
           }
          ],
          "heatmapgl": [
           {
            "colorbar": {
             "outlinewidth": 0,
             "ticks": ""
            },
            "colorscale": [
             [
              0,
              "#0d0887"
             ],
             [
              0.1111111111111111,
              "#46039f"
             ],
             [
              0.2222222222222222,
              "#7201a8"
             ],
             [
              0.3333333333333333,
              "#9c179e"
             ],
             [
              0.4444444444444444,
              "#bd3786"
             ],
             [
              0.5555555555555556,
              "#d8576b"
             ],
             [
              0.6666666666666666,
              "#ed7953"
             ],
             [
              0.7777777777777778,
              "#fb9f3a"
             ],
             [
              0.8888888888888888,
              "#fdca26"
             ],
             [
              1,
              "#f0f921"
             ]
            ],
            "type": "heatmapgl"
           }
          ],
          "histogram": [
           {
            "marker": {
             "pattern": {
              "fillmode": "overlay",
              "size": 10,
              "solidity": 0.2
             }
            },
            "type": "histogram"
           }
          ],
          "histogram2d": [
           {
            "colorbar": {
             "outlinewidth": 0,
             "ticks": ""
            },
            "colorscale": [
             [
              0,
              "#0d0887"
             ],
             [
              0.1111111111111111,
              "#46039f"
             ],
             [
              0.2222222222222222,
              "#7201a8"
             ],
             [
              0.3333333333333333,
              "#9c179e"
             ],
             [
              0.4444444444444444,
              "#bd3786"
             ],
             [
              0.5555555555555556,
              "#d8576b"
             ],
             [
              0.6666666666666666,
              "#ed7953"
             ],
             [
              0.7777777777777778,
              "#fb9f3a"
             ],
             [
              0.8888888888888888,
              "#fdca26"
             ],
             [
              1,
              "#f0f921"
             ]
            ],
            "type": "histogram2d"
           }
          ],
          "histogram2dcontour": [
           {
            "colorbar": {
             "outlinewidth": 0,
             "ticks": ""
            },
            "colorscale": [
             [
              0,
              "#0d0887"
             ],
             [
              0.1111111111111111,
              "#46039f"
             ],
             [
              0.2222222222222222,
              "#7201a8"
             ],
             [
              0.3333333333333333,
              "#9c179e"
             ],
             [
              0.4444444444444444,
              "#bd3786"
             ],
             [
              0.5555555555555556,
              "#d8576b"
             ],
             [
              0.6666666666666666,
              "#ed7953"
             ],
             [
              0.7777777777777778,
              "#fb9f3a"
             ],
             [
              0.8888888888888888,
              "#fdca26"
             ],
             [
              1,
              "#f0f921"
             ]
            ],
            "type": "histogram2dcontour"
           }
          ],
          "mesh3d": [
           {
            "colorbar": {
             "outlinewidth": 0,
             "ticks": ""
            },
            "type": "mesh3d"
           }
          ],
          "parcoords": [
           {
            "line": {
             "colorbar": {
              "outlinewidth": 0,
              "ticks": ""
             }
            },
            "type": "parcoords"
           }
          ],
          "pie": [
           {
            "automargin": true,
            "type": "pie"
           }
          ],
          "scatter": [
           {
            "marker": {
             "colorbar": {
              "outlinewidth": 0,
              "ticks": ""
             }
            },
            "type": "scatter"
           }
          ],
          "scatter3d": [
           {
            "line": {
             "colorbar": {
              "outlinewidth": 0,
              "ticks": ""
             }
            },
            "marker": {
             "colorbar": {
              "outlinewidth": 0,
              "ticks": ""
             }
            },
            "type": "scatter3d"
           }
          ],
          "scattercarpet": [
           {
            "marker": {
             "colorbar": {
              "outlinewidth": 0,
              "ticks": ""
             }
            },
            "type": "scattercarpet"
           }
          ],
          "scattergeo": [
           {
            "marker": {
             "colorbar": {
              "outlinewidth": 0,
              "ticks": ""
             }
            },
            "type": "scattergeo"
           }
          ],
          "scattergl": [
           {
            "marker": {
             "colorbar": {
              "outlinewidth": 0,
              "ticks": ""
             }
            },
            "type": "scattergl"
           }
          ],
          "scattermapbox": [
           {
            "marker": {
             "colorbar": {
              "outlinewidth": 0,
              "ticks": ""
             }
            },
            "type": "scattermapbox"
           }
          ],
          "scatterpolar": [
           {
            "marker": {
             "colorbar": {
              "outlinewidth": 0,
              "ticks": ""
             }
            },
            "type": "scatterpolar"
           }
          ],
          "scatterpolargl": [
           {
            "marker": {
             "colorbar": {
              "outlinewidth": 0,
              "ticks": ""
             }
            },
            "type": "scatterpolargl"
           }
          ],
          "scatterternary": [
           {
            "marker": {
             "colorbar": {
              "outlinewidth": 0,
              "ticks": ""
             }
            },
            "type": "scatterternary"
           }
          ],
          "surface": [
           {
            "colorbar": {
             "outlinewidth": 0,
             "ticks": ""
            },
            "colorscale": [
             [
              0,
              "#0d0887"
             ],
             [
              0.1111111111111111,
              "#46039f"
             ],
             [
              0.2222222222222222,
              "#7201a8"
             ],
             [
              0.3333333333333333,
              "#9c179e"
             ],
             [
              0.4444444444444444,
              "#bd3786"
             ],
             [
              0.5555555555555556,
              "#d8576b"
             ],
             [
              0.6666666666666666,
              "#ed7953"
             ],
             [
              0.7777777777777778,
              "#fb9f3a"
             ],
             [
              0.8888888888888888,
              "#fdca26"
             ],
             [
              1,
              "#f0f921"
             ]
            ],
            "type": "surface"
           }
          ],
          "table": [
           {
            "cells": {
             "fill": {
              "color": "#EBF0F8"
             },
             "line": {
              "color": "white"
             }
            },
            "header": {
             "fill": {
              "color": "#C8D4E3"
             },
             "line": {
              "color": "white"
             }
            },
            "type": "table"
           }
          ]
         },
         "layout": {
          "annotationdefaults": {
           "arrowcolor": "#2a3f5f",
           "arrowhead": 0,
           "arrowwidth": 1
          },
          "autotypenumbers": "strict",
          "coloraxis": {
           "colorbar": {
            "outlinewidth": 0,
            "ticks": ""
           }
          },
          "colorscale": {
           "diverging": [
            [
             0,
             "#8e0152"
            ],
            [
             0.1,
             "#c51b7d"
            ],
            [
             0.2,
             "#de77ae"
            ],
            [
             0.3,
             "#f1b6da"
            ],
            [
             0.4,
             "#fde0ef"
            ],
            [
             0.5,
             "#f7f7f7"
            ],
            [
             0.6,
             "#e6f5d0"
            ],
            [
             0.7,
             "#b8e186"
            ],
            [
             0.8,
             "#7fbc41"
            ],
            [
             0.9,
             "#4d9221"
            ],
            [
             1,
             "#276419"
            ]
           ],
           "sequential": [
            [
             0,
             "#0d0887"
            ],
            [
             0.1111111111111111,
             "#46039f"
            ],
            [
             0.2222222222222222,
             "#7201a8"
            ],
            [
             0.3333333333333333,
             "#9c179e"
            ],
            [
             0.4444444444444444,
             "#bd3786"
            ],
            [
             0.5555555555555556,
             "#d8576b"
            ],
            [
             0.6666666666666666,
             "#ed7953"
            ],
            [
             0.7777777777777778,
             "#fb9f3a"
            ],
            [
             0.8888888888888888,
             "#fdca26"
            ],
            [
             1,
             "#f0f921"
            ]
           ],
           "sequentialminus": [
            [
             0,
             "#0d0887"
            ],
            [
             0.1111111111111111,
             "#46039f"
            ],
            [
             0.2222222222222222,
             "#7201a8"
            ],
            [
             0.3333333333333333,
             "#9c179e"
            ],
            [
             0.4444444444444444,
             "#bd3786"
            ],
            [
             0.5555555555555556,
             "#d8576b"
            ],
            [
             0.6666666666666666,
             "#ed7953"
            ],
            [
             0.7777777777777778,
             "#fb9f3a"
            ],
            [
             0.8888888888888888,
             "#fdca26"
            ],
            [
             1,
             "#f0f921"
            ]
           ]
          },
          "colorway": [
           "#636efa",
           "#EF553B",
           "#00cc96",
           "#ab63fa",
           "#FFA15A",
           "#19d3f3",
           "#FF6692",
           "#B6E880",
           "#FF97FF",
           "#FECB52"
          ],
          "font": {
           "color": "#2a3f5f"
          },
          "geo": {
           "bgcolor": "white",
           "lakecolor": "white",
           "landcolor": "#E5ECF6",
           "showlakes": true,
           "showland": true,
           "subunitcolor": "white"
          },
          "hoverlabel": {
           "align": "left"
          },
          "hovermode": "closest",
          "mapbox": {
           "style": "light"
          },
          "paper_bgcolor": "white",
          "plot_bgcolor": "#E5ECF6",
          "polar": {
           "angularaxis": {
            "gridcolor": "white",
            "linecolor": "white",
            "ticks": ""
           },
           "bgcolor": "#E5ECF6",
           "radialaxis": {
            "gridcolor": "white",
            "linecolor": "white",
            "ticks": ""
           }
          },
          "scene": {
           "xaxis": {
            "backgroundcolor": "#E5ECF6",
            "gridcolor": "white",
            "gridwidth": 2,
            "linecolor": "white",
            "showbackground": true,
            "ticks": "",
            "zerolinecolor": "white"
           },
           "yaxis": {
            "backgroundcolor": "#E5ECF6",
            "gridcolor": "white",
            "gridwidth": 2,
            "linecolor": "white",
            "showbackground": true,
            "ticks": "",
            "zerolinecolor": "white"
           },
           "zaxis": {
            "backgroundcolor": "#E5ECF6",
            "gridcolor": "white",
            "gridwidth": 2,
            "linecolor": "white",
            "showbackground": true,
            "ticks": "",
            "zerolinecolor": "white"
           }
          },
          "shapedefaults": {
           "line": {
            "color": "#2a3f5f"
           }
          },
          "ternary": {
           "aaxis": {
            "gridcolor": "white",
            "linecolor": "white",
            "ticks": ""
           },
           "baxis": {
            "gridcolor": "white",
            "linecolor": "white",
            "ticks": ""
           },
           "bgcolor": "#E5ECF6",
           "caxis": {
            "gridcolor": "white",
            "linecolor": "white",
            "ticks": ""
           }
          },
          "title": {
           "x": 0.05
          },
          "xaxis": {
           "automargin": true,
           "gridcolor": "white",
           "linecolor": "white",
           "ticks": "",
           "title": {
            "standoff": 15
           },
           "zerolinecolor": "white",
           "zerolinewidth": 2
          },
          "yaxis": {
           "automargin": true,
           "gridcolor": "white",
           "linecolor": "white",
           "ticks": "",
           "title": {
            "standoff": 15
           },
           "zerolinecolor": "white",
           "zerolinewidth": 2
          }
         }
        },
        "title": {
         "font": {
          "color": "#4D5663"
         }
        },
        "xaxis": {
         "gridcolor": "#E1E5ED",
         "showgrid": true,
         "tickfont": {
          "color": "#4D5663"
         },
         "title": {
          "font": {
           "color": "#4D5663"
          },
          "text": ""
         },
         "zerolinecolor": "#E1E5ED"
        },
        "xaxis2": {
         "anchor": "y2",
         "gridcolor": "#E1E5ED",
         "showgrid": true,
         "showticklabels": false,
         "tickfont": {
          "color": "#4D5663"
         },
         "title": {
          "font": {
           "color": "#4D5663"
          },
          "text": ""
         },
         "zerolinecolor": "#E1E5ED"
        },
        "yaxis": {
         "domain": [
          0.3,
          1
         ],
         "gridcolor": "#E1E5ED",
         "showgrid": true,
         "tickfont": {
          "color": "#4D5663"
         },
         "title": {
          "font": {
           "color": "#4D5663"
          },
          "text": ""
         },
         "zerolinecolor": "#E1E5ED"
        },
        "yaxis2": {
         "domain": [
          0,
          0.25
         ],
         "gridcolor": "#E1E5ED",
         "showgrid": true,
         "tickfont": {
          "color": "#4D5663"
         },
         "title": {
          "font": {
           "color": "#4D5663"
          },
          "text": "Spread"
         },
         "zerolinecolor": "#E1E5ED"
        }
       }
      },
      "text/html": [
       "<div>                            <div id=\"fb6f3b99-435d-4fdd-a456-169ca5374662\" class=\"plotly-graph-div\" style=\"height:525px; width:100%;\"></div>            <script type=\"text/javascript\">                require([\"plotly\"], function(Plotly) {                    window.PLOTLYENV=window.PLOTLYENV || {};\n",
       "                    window.PLOTLYENV.BASE_URL='https://plot.ly';                                    if (document.getElementById(\"fb6f3b99-435d-4fdd-a456-169ca5374662\")) {                    Plotly.newPlot(                        \"fb6f3b99-435d-4fdd-a456-169ca5374662\",                        [{\"line\":{\"color\":\"rgba(255, 153, 51, 1.0)\",\"dash\":\"solid\",\"shape\":\"linear\",\"width\":1.3},\"mode\":\"lines\",\"name\":\"A\",\"text\":\"\",\"x\":[0,1,2,3,4,5,6,7,8,9,10,11,12,13,14,15,16,17,18,19,20,21,22,23,24,25,26,27,28,29,30,31,32,33,34,35,36,37,38,39,40,41,42,43,44,45,46,47,48,49,50,51,52,53,54,55,56,57,58,59,60,61,62,63,64,65,66,67,68,69,70,71,72,73,74,75,76,77,78,79,80,81,82,83,84,85,86,87,88,89,90,91,92,93,94,95,96,97,98,99],\"y\":[-0.4109093102308704,-0.6680817820818279,0.05775923832079972,-0.6514336458680554,0.1879160682510293,-1.5293464668323662,-0.7035269259572434,0.023874540007682573,-1.2420547200599625,-0.8913683621133949,-0.6031304983078408,-0.8971715581521588,-0.29873531501808204,-0.28277215845111825,-1.4601949181242078,1.163711752718257,-0.7985458453409878,0.08419460658711336,1.2072287151035508,1.9355081654923072,-0.6280104709091505,-0.11194954662160747,-0.46415689977609864,0.3291395359396691,0.14336269881245645,-0.7973487302419948,1.0136391070213626,0.3224826399220911,-0.5610315946764224,-1.6376822225509424,1.5133491313233511,0.6252725756740378,0.5218653597362931,0.2630145983301274,-0.6226571769603287,-0.47641810789885125,-0.7063513142606132,0.32684887117824307,0.25245635094777025,-0.8921088220372825,0.7720682190244831,0.7238641471940175,0.645126076541708,0.4224070507208162,0.3990528172515247,-0.19255958104133045,-0.16973807979033237,-1.0196829077704666,-0.3561857988413979,-0.7547498424893713,1.756962952184945,0.15851227706927512,-1.0982456629275492,0.6028423362735791,-1.2172834983904086,0.3151964776503683,-1.2224736248236194,-0.7734229575896733,0.15439661925788561,0.7886502050544204,-0.054443877521405636,-1.0636641048785411,-1.5786802485725135,0.24813035938868763,0.13326047954542491,0.07900652650890297,-1.943265097469249,0.709653153466894,-0.8004575677107629,-0.30651500422656586,-0.034793194861766734,1.1239760186483012,1.9534360839432174,0.5855191473663935,-0.259033322409612,-0.721568816715617,0.4048799040916817,0.11292732199272669,-1.1339821084354054,1.608866407723626,0.3501736145293892,-0.0486340739793143,-1.4939842393253115,0.33891543148322023,-0.14837108037915506,1.1431096103520344,1.2732128325788084,1.6707652434185216,-2.034802087108342,2.0454869644421496,1.928114298449317,0.2810486247432109,-0.4763850985641512,1.0107331745913726,0.7183992254469621,1.3199201637244298,0.19377943979431222,1.9858006393975318,1.7289541996275624,0.6000972414545752],\"type\":\"scatter\"},{\"line\":{\"color\":\"rgba(55, 128, 191, 1.0)\",\"dash\":\"solid\",\"shape\":\"linear\",\"width\":1.3},\"mode\":\"lines\",\"name\":\"B\",\"text\":\"\",\"x\":[0,1,2,3,4,5,6,7,8,9,10,11,12,13,14,15,16,17,18,19,20,21,22,23,24,25,26,27,28,29,30,31,32,33,34,35,36,37,38,39,40,41,42,43,44,45,46,47,48,49,50,51,52,53,54,55,56,57,58,59,60,61,62,63,64,65,66,67,68,69,70,71,72,73,74,75,76,77,78,79,80,81,82,83,84,85,86,87,88,89,90,91,92,93,94,95,96,97,98,99],\"y\":[0.10816164100433416,-0.3786534181130173,1.5976396520152203,0.1032715254968819,-1.0523808578431146,-1.3088111247109417,-0.33138160694857144,0.37586959252393326,-1.4329191920134556,-1.4057862776414278,-0.958400047246091,0.29084537770773083,0.9935937445178882,0.04105070648099821,0.5408640784206419,-0.9264630427696732,1.4446133920139053,0.7294940924538716,-0.4350365321345761,-0.1325933169696886,-1.014905041321066,0.7142426252203482,-0.12624792117550834,-0.20886899913259685,-0.046122503270438174,1.0930917336122041,-1.9021098919909627,2.1923805539824883,-0.35159360601604234,-0.7840171652005669,0.8013260813444979,1.6926231238423597,-1.8736638856094856,0.9707936279502669,-0.8946838001113273,0.33970862607059893,-0.5793816991296611,-0.0878888415438686,0.5123180202062559,-0.3354586266014048,-0.3056932331079285,1.3570012723760245,0.6501788955149052,-1.0229202856165147,0.6832670623300489,0.2169408672987547,-1.5775271330361818,-1.1246690529362395,0.3921142234135686,-0.06959219198977895,-0.019901343076002487,-0.9668266661131473,-0.21099683075611467,0.0016865579778136469,-1.0802687843471324,-1.380237864945273,-0.8039152050946438,0.6777652747804674,-1.7942162924799367,0.1874497630076612,0.21428526335199233,-1.6590885500531578,1.2292836165571877,-0.6313361485055891,0.20526898451701303,0.3019628958045808,1.2893815216553828,-1.8503476945459718,-1.1624137925900286,1.631894818283364,0.9137215970033604,0.42810273476173266,0.8383367822100516,0.03283408639287403,-0.6946136149052397,-0.08070742997934244,0.9486270898985858,-0.48974504059853097,0.7877660225946301,0.18205642024037574,-0.6270525171109232,-0.17486983897035135,-0.2569599069188726,0.4022673291283338,0.8893958001444761,0.7051969265018811,-0.2024575094870895,0.30361544203123086,-1.0690070760292605,0.4953857590622099,0.19672688600027186,-0.17632377424528928,-0.23475071514999798,0.997698475693314,-1.1669540486953198,-0.052800403148813194,0.1882279243514494,-0.7566964384387022,-0.5873806894237157,-1.0723913490493764],\"type\":\"scatter\"},{\"connectgaps\":false,\"fill\":\"tozeroy\",\"line\":{\"color\":\"green\",\"dash\":\"solid\",\"shape\":\"linear\",\"width\":0.5},\"mode\":\"lines\",\"name\":\"Spread\",\"showlegend\":false,\"x\":[0,1,2,3,4,5,6,7,8,9,10,11,12,13,14,15,16,17,18,19,20,21,22,23,24,25,26,27,28,29,30,31,32,33,34,35,36,37,38,39,40,41,42,43,44,45,46,47,48,49,50,51,52,53,54,55,56,57,58,59,60,61,62,63,64,65,66,67,68,69,70,71,72,73,74,75,76,77,78,79,80,81,82,83,84,85,86,87,88,89,90,91,92,93,94,95,96,97,98,99],\"xaxis\":\"x2\",\"y\":[\"\",\"\",\"\",\"\",1.2402969260941439,\"\",\"\",\"\",0.1908644719534931,0.514417915528033,0.35526954893825013,\"\",\"\",\"\",\"\",2.09017479548793,\"\",\"\",1.642265247238127,2.0681014824619957,0.38689457041191555,\"\",\"\",0.538008535072266,0.18948520208289463,\"\",2.915748999012325,\"\",\"\",\"\",0.7120230499788532,\"\",2.3955292453457786,\"\",0.27202662315099857,\"\",\"\",0.4147377127221117,\"\",\"\",1.0777614521324117,\"\",\"\",1.445327336337331,\"\",\"\",1.4077890532458495,0.10498614516577298,\"\",\"\",1.7768642952609475,1.1253389431824223,\"\",0.6011557782957654,\"\",1.6954343425956413,\"\",\"\",1.9486129117378224,0.6012004420467592,\"\",0.5954244451746167,\"\",0.8794665078942767,\"\",\"\",\"\",2.5600008480128658,0.3619562248792657,\"\",\"\",0.6958732838865685,1.1150993017331658,0.5526850609735195,0.43558029249562763,\"\",\"\",0.6026723625912577,\"\",1.4268099874832503,0.9772261316403125,0.12623576499103706,\"\",\"\",\"\",0.43791268385015325,1.4756703420658979,1.3671498013872907,\"\",1.5501012053799397,1.7313874124490451,0.4573723989885002,\"\",0.013034698898058528,1.885353274142282,1.372720566873243,0.005551515442862837,2.742497077836234,2.3163348890512783,1.6724885905039515],\"yaxis\":\"y2\",\"type\":\"scatter\"},{\"connectgaps\":false,\"fill\":\"tozeroy\",\"line\":{\"color\":\"red\",\"dash\":\"solid\",\"shape\":\"linear\",\"width\":0.5},\"mode\":\"lines\",\"name\":\"Spread\",\"showlegend\":false,\"x\":[0,1,2,3,4,5,6,7,8,9,10,11,12,13,14,15,16,17,18,19,20,21,22,23,24,25,26,27,28,29,30,31,32,33,34,35,36,37,38,39,40,41,42,43,44,45,46,47,48,49,50,51,52,53,54,55,56,57,58,59,60,61,62,63,64,65,66,67,68,69,70,71,72,73,74,75,76,77,78,79,80,81,82,83,84,85,86,87,88,89,90,91,92,93,94,95,96,97,98,99],\"xaxis\":\"x2\",\"y\":[-0.5190709512352045,-0.2894283639688106,-1.5398804136944206,-0.7547051713649373,\"\",-0.22053534212142445,-0.372145319008672,-0.3519950525162507,\"\",\"\",\"\",-1.1880169358598895,-1.2923290595359702,-0.3238228649321165,-2.0010589965448498,\"\",-2.243159237354893,-0.6452994858667582,\"\",\"\",\"\",-0.8261921718419557,-0.3379089786005903,\"\",\"\",-1.890440463854199,\"\",-1.8698979140603973,-0.20943798866038005,-0.8536650573503756,\"\",-1.0673505481683219,\"\",-0.7077790296201395,\"\",-0.8161267339694502,-0.12696961513095206,\"\",-0.2598616692584857,-0.5566501954358777,\"\",-0.633137125182007,-0.005052818973197204,\"\",-0.28421424507852416,-0.40950044834008514,\"\",\"\",-0.7483000222549665,-0.6851576504995923,\"\",\"\",-0.8872488321714346,\"\",-0.13701471404327625,\"\",-0.4185584197289757,-1.4511882323701406,\"\",\"\",-0.26872914087339794,\"\",-2.807963865129701,\"\",-0.07200850497158812,-0.22295636929567783,-3.2326466191246315,\"\",\"\",-1.9384098225099298,-0.9485147918651271,\"\",\"\",\"\",\"\",-0.6408613867362746,-0.5437471858069041,\"\",-1.9217481310300355,\"\",\"\",\"\",-1.237024332406439,-0.06335189764511356,-1.037766880523631,\"\",\"\",\"\",-0.9657950110790814,\"\",\"\",\"\",-0.2416343834141532,\"\",\"\",\"\",\"\",\"\",\"\",\"\"],\"yaxis\":\"y2\",\"type\":\"scatter\"}],                        {\"hovermode\":\"x\",\"legend\":{\"bgcolor\":\"#F5F6F9\",\"font\":{\"color\":\"#4D5663\"}},\"paper_bgcolor\":\"#F5F6F9\",\"plot_bgcolor\":\"#F5F6F9\",\"template\":{\"data\":{\"barpolar\":[{\"marker\":{\"line\":{\"color\":\"#E5ECF6\",\"width\":0.5},\"pattern\":{\"fillmode\":\"overlay\",\"size\":10,\"solidity\":0.2}},\"type\":\"barpolar\"}],\"bar\":[{\"error_x\":{\"color\":\"#2a3f5f\"},\"error_y\":{\"color\":\"#2a3f5f\"},\"marker\":{\"line\":{\"color\":\"#E5ECF6\",\"width\":0.5},\"pattern\":{\"fillmode\":\"overlay\",\"size\":10,\"solidity\":0.2}},\"type\":\"bar\"}],\"carpet\":[{\"aaxis\":{\"endlinecolor\":\"#2a3f5f\",\"gridcolor\":\"white\",\"linecolor\":\"white\",\"minorgridcolor\":\"white\",\"startlinecolor\":\"#2a3f5f\"},\"baxis\":{\"endlinecolor\":\"#2a3f5f\",\"gridcolor\":\"white\",\"linecolor\":\"white\",\"minorgridcolor\":\"white\",\"startlinecolor\":\"#2a3f5f\"},\"type\":\"carpet\"}],\"choropleth\":[{\"colorbar\":{\"outlinewidth\":0,\"ticks\":\"\"},\"type\":\"choropleth\"}],\"contourcarpet\":[{\"colorbar\":{\"outlinewidth\":0,\"ticks\":\"\"},\"type\":\"contourcarpet\"}],\"contour\":[{\"colorbar\":{\"outlinewidth\":0,\"ticks\":\"\"},\"colorscale\":[[0.0,\"#0d0887\"],[0.1111111111111111,\"#46039f\"],[0.2222222222222222,\"#7201a8\"],[0.3333333333333333,\"#9c179e\"],[0.4444444444444444,\"#bd3786\"],[0.5555555555555556,\"#d8576b\"],[0.6666666666666666,\"#ed7953\"],[0.7777777777777778,\"#fb9f3a\"],[0.8888888888888888,\"#fdca26\"],[1.0,\"#f0f921\"]],\"type\":\"contour\"}],\"heatmapgl\":[{\"colorbar\":{\"outlinewidth\":0,\"ticks\":\"\"},\"colorscale\":[[0.0,\"#0d0887\"],[0.1111111111111111,\"#46039f\"],[0.2222222222222222,\"#7201a8\"],[0.3333333333333333,\"#9c179e\"],[0.4444444444444444,\"#bd3786\"],[0.5555555555555556,\"#d8576b\"],[0.6666666666666666,\"#ed7953\"],[0.7777777777777778,\"#fb9f3a\"],[0.8888888888888888,\"#fdca26\"],[1.0,\"#f0f921\"]],\"type\":\"heatmapgl\"}],\"heatmap\":[{\"colorbar\":{\"outlinewidth\":0,\"ticks\":\"\"},\"colorscale\":[[0.0,\"#0d0887\"],[0.1111111111111111,\"#46039f\"],[0.2222222222222222,\"#7201a8\"],[0.3333333333333333,\"#9c179e\"],[0.4444444444444444,\"#bd3786\"],[0.5555555555555556,\"#d8576b\"],[0.6666666666666666,\"#ed7953\"],[0.7777777777777778,\"#fb9f3a\"],[0.8888888888888888,\"#fdca26\"],[1.0,\"#f0f921\"]],\"type\":\"heatmap\"}],\"histogram2dcontour\":[{\"colorbar\":{\"outlinewidth\":0,\"ticks\":\"\"},\"colorscale\":[[0.0,\"#0d0887\"],[0.1111111111111111,\"#46039f\"],[0.2222222222222222,\"#7201a8\"],[0.3333333333333333,\"#9c179e\"],[0.4444444444444444,\"#bd3786\"],[0.5555555555555556,\"#d8576b\"],[0.6666666666666666,\"#ed7953\"],[0.7777777777777778,\"#fb9f3a\"],[0.8888888888888888,\"#fdca26\"],[1.0,\"#f0f921\"]],\"type\":\"histogram2dcontour\"}],\"histogram2d\":[{\"colorbar\":{\"outlinewidth\":0,\"ticks\":\"\"},\"colorscale\":[[0.0,\"#0d0887\"],[0.1111111111111111,\"#46039f\"],[0.2222222222222222,\"#7201a8\"],[0.3333333333333333,\"#9c179e\"],[0.4444444444444444,\"#bd3786\"],[0.5555555555555556,\"#d8576b\"],[0.6666666666666666,\"#ed7953\"],[0.7777777777777778,\"#fb9f3a\"],[0.8888888888888888,\"#fdca26\"],[1.0,\"#f0f921\"]],\"type\":\"histogram2d\"}],\"histogram\":[{\"marker\":{\"pattern\":{\"fillmode\":\"overlay\",\"size\":10,\"solidity\":0.2}},\"type\":\"histogram\"}],\"mesh3d\":[{\"colorbar\":{\"outlinewidth\":0,\"ticks\":\"\"},\"type\":\"mesh3d\"}],\"parcoords\":[{\"line\":{\"colorbar\":{\"outlinewidth\":0,\"ticks\":\"\"}},\"type\":\"parcoords\"}],\"pie\":[{\"automargin\":true,\"type\":\"pie\"}],\"scatter3d\":[{\"line\":{\"colorbar\":{\"outlinewidth\":0,\"ticks\":\"\"}},\"marker\":{\"colorbar\":{\"outlinewidth\":0,\"ticks\":\"\"}},\"type\":\"scatter3d\"}],\"scattercarpet\":[{\"marker\":{\"colorbar\":{\"outlinewidth\":0,\"ticks\":\"\"}},\"type\":\"scattercarpet\"}],\"scattergeo\":[{\"marker\":{\"colorbar\":{\"outlinewidth\":0,\"ticks\":\"\"}},\"type\":\"scattergeo\"}],\"scattergl\":[{\"marker\":{\"colorbar\":{\"outlinewidth\":0,\"ticks\":\"\"}},\"type\":\"scattergl\"}],\"scattermapbox\":[{\"marker\":{\"colorbar\":{\"outlinewidth\":0,\"ticks\":\"\"}},\"type\":\"scattermapbox\"}],\"scatterpolargl\":[{\"marker\":{\"colorbar\":{\"outlinewidth\":0,\"ticks\":\"\"}},\"type\":\"scatterpolargl\"}],\"scatterpolar\":[{\"marker\":{\"colorbar\":{\"outlinewidth\":0,\"ticks\":\"\"}},\"type\":\"scatterpolar\"}],\"scatter\":[{\"marker\":{\"colorbar\":{\"outlinewidth\":0,\"ticks\":\"\"}},\"type\":\"scatter\"}],\"scatterternary\":[{\"marker\":{\"colorbar\":{\"outlinewidth\":0,\"ticks\":\"\"}},\"type\":\"scatterternary\"}],\"surface\":[{\"colorbar\":{\"outlinewidth\":0,\"ticks\":\"\"},\"colorscale\":[[0.0,\"#0d0887\"],[0.1111111111111111,\"#46039f\"],[0.2222222222222222,\"#7201a8\"],[0.3333333333333333,\"#9c179e\"],[0.4444444444444444,\"#bd3786\"],[0.5555555555555556,\"#d8576b\"],[0.6666666666666666,\"#ed7953\"],[0.7777777777777778,\"#fb9f3a\"],[0.8888888888888888,\"#fdca26\"],[1.0,\"#f0f921\"]],\"type\":\"surface\"}],\"table\":[{\"cells\":{\"fill\":{\"color\":\"#EBF0F8\"},\"line\":{\"color\":\"white\"}},\"header\":{\"fill\":{\"color\":\"#C8D4E3\"},\"line\":{\"color\":\"white\"}},\"type\":\"table\"}]},\"layout\":{\"annotationdefaults\":{\"arrowcolor\":\"#2a3f5f\",\"arrowhead\":0,\"arrowwidth\":1},\"autotypenumbers\":\"strict\",\"coloraxis\":{\"colorbar\":{\"outlinewidth\":0,\"ticks\":\"\"}},\"colorscale\":{\"diverging\":[[0,\"#8e0152\"],[0.1,\"#c51b7d\"],[0.2,\"#de77ae\"],[0.3,\"#f1b6da\"],[0.4,\"#fde0ef\"],[0.5,\"#f7f7f7\"],[0.6,\"#e6f5d0\"],[0.7,\"#b8e186\"],[0.8,\"#7fbc41\"],[0.9,\"#4d9221\"],[1,\"#276419\"]],\"sequential\":[[0.0,\"#0d0887\"],[0.1111111111111111,\"#46039f\"],[0.2222222222222222,\"#7201a8\"],[0.3333333333333333,\"#9c179e\"],[0.4444444444444444,\"#bd3786\"],[0.5555555555555556,\"#d8576b\"],[0.6666666666666666,\"#ed7953\"],[0.7777777777777778,\"#fb9f3a\"],[0.8888888888888888,\"#fdca26\"],[1.0,\"#f0f921\"]],\"sequentialminus\":[[0.0,\"#0d0887\"],[0.1111111111111111,\"#46039f\"],[0.2222222222222222,\"#7201a8\"],[0.3333333333333333,\"#9c179e\"],[0.4444444444444444,\"#bd3786\"],[0.5555555555555556,\"#d8576b\"],[0.6666666666666666,\"#ed7953\"],[0.7777777777777778,\"#fb9f3a\"],[0.8888888888888888,\"#fdca26\"],[1.0,\"#f0f921\"]]},\"colorway\":[\"#636efa\",\"#EF553B\",\"#00cc96\",\"#ab63fa\",\"#FFA15A\",\"#19d3f3\",\"#FF6692\",\"#B6E880\",\"#FF97FF\",\"#FECB52\"],\"font\":{\"color\":\"#2a3f5f\"},\"geo\":{\"bgcolor\":\"white\",\"lakecolor\":\"white\",\"landcolor\":\"#E5ECF6\",\"showlakes\":true,\"showland\":true,\"subunitcolor\":\"white\"},\"hoverlabel\":{\"align\":\"left\"},\"hovermode\":\"closest\",\"mapbox\":{\"style\":\"light\"},\"paper_bgcolor\":\"white\",\"plot_bgcolor\":\"#E5ECF6\",\"polar\":{\"angularaxis\":{\"gridcolor\":\"white\",\"linecolor\":\"white\",\"ticks\":\"\"},\"bgcolor\":\"#E5ECF6\",\"radialaxis\":{\"gridcolor\":\"white\",\"linecolor\":\"white\",\"ticks\":\"\"}},\"scene\":{\"xaxis\":{\"backgroundcolor\":\"#E5ECF6\",\"gridcolor\":\"white\",\"gridwidth\":2,\"linecolor\":\"white\",\"showbackground\":true,\"ticks\":\"\",\"zerolinecolor\":\"white\"},\"yaxis\":{\"backgroundcolor\":\"#E5ECF6\",\"gridcolor\":\"white\",\"gridwidth\":2,\"linecolor\":\"white\",\"showbackground\":true,\"ticks\":\"\",\"zerolinecolor\":\"white\"},\"zaxis\":{\"backgroundcolor\":\"#E5ECF6\",\"gridcolor\":\"white\",\"gridwidth\":2,\"linecolor\":\"white\",\"showbackground\":true,\"ticks\":\"\",\"zerolinecolor\":\"white\"}},\"shapedefaults\":{\"line\":{\"color\":\"#2a3f5f\"}},\"ternary\":{\"aaxis\":{\"gridcolor\":\"white\",\"linecolor\":\"white\",\"ticks\":\"\"},\"baxis\":{\"gridcolor\":\"white\",\"linecolor\":\"white\",\"ticks\":\"\"},\"bgcolor\":\"#E5ECF6\",\"caxis\":{\"gridcolor\":\"white\",\"linecolor\":\"white\",\"ticks\":\"\"}},\"title\":{\"x\":0.05},\"xaxis\":{\"automargin\":true,\"gridcolor\":\"white\",\"linecolor\":\"white\",\"ticks\":\"\",\"title\":{\"standoff\":15},\"zerolinecolor\":\"white\",\"zerolinewidth\":2},\"yaxis\":{\"automargin\":true,\"gridcolor\":\"white\",\"linecolor\":\"white\",\"ticks\":\"\",\"title\":{\"standoff\":15},\"zerolinecolor\":\"white\",\"zerolinewidth\":2}}},\"title\":{\"font\":{\"color\":\"#4D5663\"}},\"xaxis\":{\"gridcolor\":\"#E1E5ED\",\"showgrid\":true,\"tickfont\":{\"color\":\"#4D5663\"},\"title\":{\"font\":{\"color\":\"#4D5663\"},\"text\":\"\"},\"zerolinecolor\":\"#E1E5ED\"},\"yaxis\":{\"domain\":[0.3,1],\"gridcolor\":\"#E1E5ED\",\"showgrid\":true,\"tickfont\":{\"color\":\"#4D5663\"},\"title\":{\"font\":{\"color\":\"#4D5663\"},\"text\":\"\"},\"zerolinecolor\":\"#E1E5ED\"},\"yaxis2\":{\"domain\":[0,0.25],\"gridcolor\":\"#E1E5ED\",\"showgrid\":true,\"tickfont\":{\"color\":\"#4D5663\"},\"title\":{\"font\":{\"color\":\"#4D5663\"},\"text\":\"Spread\"},\"zerolinecolor\":\"#E1E5ED\"},\"xaxis2\":{\"anchor\":\"y2\",\"gridcolor\":\"#E1E5ED\",\"showgrid\":true,\"showticklabels\":false,\"tickfont\":{\"color\":\"#4D5663\"},\"title\":{\"font\":{\"color\":\"#4D5663\"},\"text\":\"\"},\"zerolinecolor\":\"#E1E5ED\"}},                        {\"showLink\": true, \"linkText\": \"Export to plot.ly\", \"plotlyServerURL\": \"https://plot.ly\", \"responsive\": true}                    ).then(function(){\n",
       "                            \n",
       "var gd = document.getElementById('fb6f3b99-435d-4fdd-a456-169ca5374662');\n",
       "var x = new MutationObserver(function (mutations, observer) {{\n",
       "        var display = window.getComputedStyle(gd).display;\n",
       "        if (!display || display === 'none') {{\n",
       "            console.log([gd, 'removed!']);\n",
       "            Plotly.purge(gd);\n",
       "            observer.disconnect();\n",
       "        }}\n",
       "}});\n",
       "\n",
       "// Listen for the removal of the full notebook cells\n",
       "var notebookContainer = gd.closest('#notebook-container');\n",
       "if (notebookContainer) {{\n",
       "    x.observe(notebookContainer, {childList: true});\n",
       "}}\n",
       "\n",
       "// Listen for the clearing of the current output cell\n",
       "var outputEl = gd.closest('.output');\n",
       "if (outputEl) {{\n",
       "    x.observe(outputEl, {childList: true});\n",
       "}}\n",
       "\n",
       "                        })                };                });            </script>        </div>"
      ]
     },
     "metadata": {},
     "output_type": "display_data"
    }
   ],
   "source": [
    "df[['A','B']].iplot(kind='spread')"
   ]
  },
  {
   "cell_type": "code",
   "execution_count": 49,
   "id": "21ee6795",
   "metadata": {},
   "outputs": [
    {
     "data": {
      "application/vnd.plotly.v1+json": {
       "config": {
        "linkText": "Export to plot.ly",
        "plotlyServerURL": "https://plot.ly",
        "showLink": true
       },
       "data": [
        {
         "marker": {
          "color": [
           "rgb(255, 153, 51)",
           "rgb(55, 128, 191)",
           "rgb(50, 171, 96)",
           "rgb(128, 0, 128)",
           "rgb(219, 64, 82)",
           "rgb(0, 128, 128)",
           "rgb(255, 255, 51)",
           "rgb(128, 128, 0)",
           "rgb(251, 128, 114)",
           "rgb(128, 177, 211)"
          ],
          "line": {
           "width": 1.3
          },
          "size": [
           65,
           58,
           50,
           91,
           24,
           29,
           92,
           78,
           40,
           28,
           42,
           85,
           23,
           42,
           50,
           41,
           73,
           46,
           45,
           86,
           19,
           56,
           37,
           53,
           49,
           13,
           48,
           92,
           61,
           66,
           33,
           41,
           42,
           42,
           66,
           12,
           65,
           16,
           112,
           44,
           38,
           31,
           36,
           37,
           32,
           31,
           79,
           28,
           67,
           44,
           64,
           77,
           28,
           31,
           61,
           51,
           32,
           54,
           42,
           49,
           35,
           35,
           33,
           64,
           65,
           77,
           53,
           68,
           67,
           59,
           60,
           73,
           84,
           31,
           49,
           75,
           84,
           70,
           55,
           39,
           43,
           70,
           55,
           59,
           51,
           57,
           34,
           38,
           33,
           52,
           54,
           38,
           30,
           51,
           57,
           29,
           59,
           38,
           87,
           61
          ],
          "symbol": "circle"
         },
         "mode": "markers",
         "text": "",
         "type": "scatter",
         "x": [
          -0.4109093102308704,
          -0.6680817820818279,
          0.05775923832079972,
          -0.6514336458680554,
          0.1879160682510293,
          -1.5293464668323662,
          -0.7035269259572434,
          0.023874540007682573,
          -1.2420547200599625,
          -0.8913683621133949,
          -0.6031304983078408,
          -0.8971715581521588,
          -0.29873531501808204,
          -0.28277215845111825,
          -1.4601949181242078,
          1.163711752718257,
          -0.7985458453409878,
          0.08419460658711336,
          1.2072287151035508,
          1.9355081654923072,
          -0.6280104709091505,
          -0.11194954662160747,
          -0.46415689977609864,
          0.3291395359396691,
          0.14336269881245645,
          -0.7973487302419948,
          1.0136391070213626,
          0.3224826399220911,
          -0.5610315946764224,
          -1.6376822225509424,
          1.5133491313233511,
          0.6252725756740378,
          0.5218653597362931,
          0.2630145983301274,
          -0.6226571769603287,
          -0.47641810789885125,
          -0.7063513142606132,
          0.32684887117824307,
          0.25245635094777025,
          -0.8921088220372825,
          0.7720682190244831,
          0.7238641471940175,
          0.645126076541708,
          0.4224070507208162,
          0.3990528172515247,
          -0.19255958104133045,
          -0.16973807979033237,
          -1.0196829077704666,
          -0.3561857988413979,
          -0.7547498424893713,
          1.756962952184945,
          0.15851227706927512,
          -1.0982456629275492,
          0.6028423362735791,
          -1.2172834983904086,
          0.3151964776503683,
          -1.2224736248236194,
          -0.7734229575896733,
          0.15439661925788561,
          0.7886502050544204,
          -0.054443877521405636,
          -1.0636641048785411,
          -1.5786802485725135,
          0.24813035938868763,
          0.13326047954542491,
          0.07900652650890297,
          -1.943265097469249,
          0.709653153466894,
          -0.8004575677107629,
          -0.30651500422656586,
          -0.034793194861766734,
          1.1239760186483012,
          1.9534360839432174,
          0.5855191473663935,
          -0.259033322409612,
          -0.721568816715617,
          0.4048799040916817,
          0.11292732199272669,
          -1.1339821084354054,
          1.608866407723626,
          0.3501736145293892,
          -0.0486340739793143,
          -1.4939842393253115,
          0.33891543148322023,
          -0.14837108037915506,
          1.1431096103520344,
          1.2732128325788084,
          1.6707652434185216,
          -2.034802087108342,
          2.0454869644421496,
          1.928114298449317,
          0.2810486247432109,
          -0.4763850985641512,
          1.0107331745913726,
          0.7183992254469621,
          1.3199201637244298,
          0.19377943979431222,
          1.9858006393975318,
          1.7289541996275624,
          0.6000972414545752
         ],
         "y": [
          0.10816164100433416,
          -0.3786534181130173,
          1.5976396520152203,
          0.1032715254968819,
          -1.0523808578431146,
          -1.3088111247109417,
          -0.33138160694857144,
          0.37586959252393326,
          -1.4329191920134556,
          -1.4057862776414278,
          -0.958400047246091,
          0.29084537770773083,
          0.9935937445178882,
          0.04105070648099821,
          0.5408640784206419,
          -0.9264630427696732,
          1.4446133920139053,
          0.7294940924538716,
          -0.4350365321345761,
          -0.1325933169696886,
          -1.014905041321066,
          0.7142426252203482,
          -0.12624792117550834,
          -0.20886899913259685,
          -0.046122503270438174,
          1.0930917336122041,
          -1.9021098919909627,
          2.1923805539824883,
          -0.35159360601604234,
          -0.7840171652005669,
          0.8013260813444979,
          1.6926231238423597,
          -1.8736638856094856,
          0.9707936279502669,
          -0.8946838001113273,
          0.33970862607059893,
          -0.5793816991296611,
          -0.0878888415438686,
          0.5123180202062559,
          -0.3354586266014048,
          -0.3056932331079285,
          1.3570012723760245,
          0.6501788955149052,
          -1.0229202856165147,
          0.6832670623300489,
          0.2169408672987547,
          -1.5775271330361818,
          -1.1246690529362395,
          0.3921142234135686,
          -0.06959219198977895,
          -0.019901343076002487,
          -0.9668266661131473,
          -0.21099683075611467,
          0.0016865579778136469,
          -1.0802687843471324,
          -1.380237864945273,
          -0.8039152050946438,
          0.6777652747804674,
          -1.7942162924799367,
          0.1874497630076612,
          0.21428526335199233,
          -1.6590885500531578,
          1.2292836165571877,
          -0.6313361485055891,
          0.20526898451701303,
          0.3019628958045808,
          1.2893815216553828,
          -1.8503476945459718,
          -1.1624137925900286,
          1.631894818283364,
          0.9137215970033604,
          0.42810273476173266,
          0.8383367822100516,
          0.03283408639287403,
          -0.6946136149052397,
          -0.08070742997934244,
          0.9486270898985858,
          -0.48974504059853097,
          0.7877660225946301,
          0.18205642024037574,
          -0.6270525171109232,
          -0.17486983897035135,
          -0.2569599069188726,
          0.4022673291283338,
          0.8893958001444761,
          0.7051969265018811,
          -0.2024575094870895,
          0.30361544203123086,
          -1.0690070760292605,
          0.4953857590622099,
          0.19672688600027186,
          -0.17632377424528928,
          -0.23475071514999798,
          0.997698475693314,
          -1.1669540486953198,
          -0.052800403148813194,
          0.1882279243514494,
          -0.7566964384387022,
          -0.5873806894237157,
          -1.0723913490493764
         ]
        }
       ],
       "layout": {
        "legend": {
         "bgcolor": "#F5F6F9",
         "font": {
          "color": "#4D5663"
         }
        },
        "paper_bgcolor": "#F5F6F9",
        "plot_bgcolor": "#F5F6F9",
        "template": {
         "data": {
          "bar": [
           {
            "error_x": {
             "color": "#2a3f5f"
            },
            "error_y": {
             "color": "#2a3f5f"
            },
            "marker": {
             "line": {
              "color": "#E5ECF6",
              "width": 0.5
             },
             "pattern": {
              "fillmode": "overlay",
              "size": 10,
              "solidity": 0.2
             }
            },
            "type": "bar"
           }
          ],
          "barpolar": [
           {
            "marker": {
             "line": {
              "color": "#E5ECF6",
              "width": 0.5
             },
             "pattern": {
              "fillmode": "overlay",
              "size": 10,
              "solidity": 0.2
             }
            },
            "type": "barpolar"
           }
          ],
          "carpet": [
           {
            "aaxis": {
             "endlinecolor": "#2a3f5f",
             "gridcolor": "white",
             "linecolor": "white",
             "minorgridcolor": "white",
             "startlinecolor": "#2a3f5f"
            },
            "baxis": {
             "endlinecolor": "#2a3f5f",
             "gridcolor": "white",
             "linecolor": "white",
             "minorgridcolor": "white",
             "startlinecolor": "#2a3f5f"
            },
            "type": "carpet"
           }
          ],
          "choropleth": [
           {
            "colorbar": {
             "outlinewidth": 0,
             "ticks": ""
            },
            "type": "choropleth"
           }
          ],
          "contour": [
           {
            "colorbar": {
             "outlinewidth": 0,
             "ticks": ""
            },
            "colorscale": [
             [
              0,
              "#0d0887"
             ],
             [
              0.1111111111111111,
              "#46039f"
             ],
             [
              0.2222222222222222,
              "#7201a8"
             ],
             [
              0.3333333333333333,
              "#9c179e"
             ],
             [
              0.4444444444444444,
              "#bd3786"
             ],
             [
              0.5555555555555556,
              "#d8576b"
             ],
             [
              0.6666666666666666,
              "#ed7953"
             ],
             [
              0.7777777777777778,
              "#fb9f3a"
             ],
             [
              0.8888888888888888,
              "#fdca26"
             ],
             [
              1,
              "#f0f921"
             ]
            ],
            "type": "contour"
           }
          ],
          "contourcarpet": [
           {
            "colorbar": {
             "outlinewidth": 0,
             "ticks": ""
            },
            "type": "contourcarpet"
           }
          ],
          "heatmap": [
           {
            "colorbar": {
             "outlinewidth": 0,
             "ticks": ""
            },
            "colorscale": [
             [
              0,
              "#0d0887"
             ],
             [
              0.1111111111111111,
              "#46039f"
             ],
             [
              0.2222222222222222,
              "#7201a8"
             ],
             [
              0.3333333333333333,
              "#9c179e"
             ],
             [
              0.4444444444444444,
              "#bd3786"
             ],
             [
              0.5555555555555556,
              "#d8576b"
             ],
             [
              0.6666666666666666,
              "#ed7953"
             ],
             [
              0.7777777777777778,
              "#fb9f3a"
             ],
             [
              0.8888888888888888,
              "#fdca26"
             ],
             [
              1,
              "#f0f921"
             ]
            ],
            "type": "heatmap"
           }
          ],
          "heatmapgl": [
           {
            "colorbar": {
             "outlinewidth": 0,
             "ticks": ""
            },
            "colorscale": [
             [
              0,
              "#0d0887"
             ],
             [
              0.1111111111111111,
              "#46039f"
             ],
             [
              0.2222222222222222,
              "#7201a8"
             ],
             [
              0.3333333333333333,
              "#9c179e"
             ],
             [
              0.4444444444444444,
              "#bd3786"
             ],
             [
              0.5555555555555556,
              "#d8576b"
             ],
             [
              0.6666666666666666,
              "#ed7953"
             ],
             [
              0.7777777777777778,
              "#fb9f3a"
             ],
             [
              0.8888888888888888,
              "#fdca26"
             ],
             [
              1,
              "#f0f921"
             ]
            ],
            "type": "heatmapgl"
           }
          ],
          "histogram": [
           {
            "marker": {
             "pattern": {
              "fillmode": "overlay",
              "size": 10,
              "solidity": 0.2
             }
            },
            "type": "histogram"
           }
          ],
          "histogram2d": [
           {
            "colorbar": {
             "outlinewidth": 0,
             "ticks": ""
            },
            "colorscale": [
             [
              0,
              "#0d0887"
             ],
             [
              0.1111111111111111,
              "#46039f"
             ],
             [
              0.2222222222222222,
              "#7201a8"
             ],
             [
              0.3333333333333333,
              "#9c179e"
             ],
             [
              0.4444444444444444,
              "#bd3786"
             ],
             [
              0.5555555555555556,
              "#d8576b"
             ],
             [
              0.6666666666666666,
              "#ed7953"
             ],
             [
              0.7777777777777778,
              "#fb9f3a"
             ],
             [
              0.8888888888888888,
              "#fdca26"
             ],
             [
              1,
              "#f0f921"
             ]
            ],
            "type": "histogram2d"
           }
          ],
          "histogram2dcontour": [
           {
            "colorbar": {
             "outlinewidth": 0,
             "ticks": ""
            },
            "colorscale": [
             [
              0,
              "#0d0887"
             ],
             [
              0.1111111111111111,
              "#46039f"
             ],
             [
              0.2222222222222222,
              "#7201a8"
             ],
             [
              0.3333333333333333,
              "#9c179e"
             ],
             [
              0.4444444444444444,
              "#bd3786"
             ],
             [
              0.5555555555555556,
              "#d8576b"
             ],
             [
              0.6666666666666666,
              "#ed7953"
             ],
             [
              0.7777777777777778,
              "#fb9f3a"
             ],
             [
              0.8888888888888888,
              "#fdca26"
             ],
             [
              1,
              "#f0f921"
             ]
            ],
            "type": "histogram2dcontour"
           }
          ],
          "mesh3d": [
           {
            "colorbar": {
             "outlinewidth": 0,
             "ticks": ""
            },
            "type": "mesh3d"
           }
          ],
          "parcoords": [
           {
            "line": {
             "colorbar": {
              "outlinewidth": 0,
              "ticks": ""
             }
            },
            "type": "parcoords"
           }
          ],
          "pie": [
           {
            "automargin": true,
            "type": "pie"
           }
          ],
          "scatter": [
           {
            "marker": {
             "colorbar": {
              "outlinewidth": 0,
              "ticks": ""
             }
            },
            "type": "scatter"
           }
          ],
          "scatter3d": [
           {
            "line": {
             "colorbar": {
              "outlinewidth": 0,
              "ticks": ""
             }
            },
            "marker": {
             "colorbar": {
              "outlinewidth": 0,
              "ticks": ""
             }
            },
            "type": "scatter3d"
           }
          ],
          "scattercarpet": [
           {
            "marker": {
             "colorbar": {
              "outlinewidth": 0,
              "ticks": ""
             }
            },
            "type": "scattercarpet"
           }
          ],
          "scattergeo": [
           {
            "marker": {
             "colorbar": {
              "outlinewidth": 0,
              "ticks": ""
             }
            },
            "type": "scattergeo"
           }
          ],
          "scattergl": [
           {
            "marker": {
             "colorbar": {
              "outlinewidth": 0,
              "ticks": ""
             }
            },
            "type": "scattergl"
           }
          ],
          "scattermapbox": [
           {
            "marker": {
             "colorbar": {
              "outlinewidth": 0,
              "ticks": ""
             }
            },
            "type": "scattermapbox"
           }
          ],
          "scatterpolar": [
           {
            "marker": {
             "colorbar": {
              "outlinewidth": 0,
              "ticks": ""
             }
            },
            "type": "scatterpolar"
           }
          ],
          "scatterpolargl": [
           {
            "marker": {
             "colorbar": {
              "outlinewidth": 0,
              "ticks": ""
             }
            },
            "type": "scatterpolargl"
           }
          ],
          "scatterternary": [
           {
            "marker": {
             "colorbar": {
              "outlinewidth": 0,
              "ticks": ""
             }
            },
            "type": "scatterternary"
           }
          ],
          "surface": [
           {
            "colorbar": {
             "outlinewidth": 0,
             "ticks": ""
            },
            "colorscale": [
             [
              0,
              "#0d0887"
             ],
             [
              0.1111111111111111,
              "#46039f"
             ],
             [
              0.2222222222222222,
              "#7201a8"
             ],
             [
              0.3333333333333333,
              "#9c179e"
             ],
             [
              0.4444444444444444,
              "#bd3786"
             ],
             [
              0.5555555555555556,
              "#d8576b"
             ],
             [
              0.6666666666666666,
              "#ed7953"
             ],
             [
              0.7777777777777778,
              "#fb9f3a"
             ],
             [
              0.8888888888888888,
              "#fdca26"
             ],
             [
              1,
              "#f0f921"
             ]
            ],
            "type": "surface"
           }
          ],
          "table": [
           {
            "cells": {
             "fill": {
              "color": "#EBF0F8"
             },
             "line": {
              "color": "white"
             }
            },
            "header": {
             "fill": {
              "color": "#C8D4E3"
             },
             "line": {
              "color": "white"
             }
            },
            "type": "table"
           }
          ]
         },
         "layout": {
          "annotationdefaults": {
           "arrowcolor": "#2a3f5f",
           "arrowhead": 0,
           "arrowwidth": 1
          },
          "autotypenumbers": "strict",
          "coloraxis": {
           "colorbar": {
            "outlinewidth": 0,
            "ticks": ""
           }
          },
          "colorscale": {
           "diverging": [
            [
             0,
             "#8e0152"
            ],
            [
             0.1,
             "#c51b7d"
            ],
            [
             0.2,
             "#de77ae"
            ],
            [
             0.3,
             "#f1b6da"
            ],
            [
             0.4,
             "#fde0ef"
            ],
            [
             0.5,
             "#f7f7f7"
            ],
            [
             0.6,
             "#e6f5d0"
            ],
            [
             0.7,
             "#b8e186"
            ],
            [
             0.8,
             "#7fbc41"
            ],
            [
             0.9,
             "#4d9221"
            ],
            [
             1,
             "#276419"
            ]
           ],
           "sequential": [
            [
             0,
             "#0d0887"
            ],
            [
             0.1111111111111111,
             "#46039f"
            ],
            [
             0.2222222222222222,
             "#7201a8"
            ],
            [
             0.3333333333333333,
             "#9c179e"
            ],
            [
             0.4444444444444444,
             "#bd3786"
            ],
            [
             0.5555555555555556,
             "#d8576b"
            ],
            [
             0.6666666666666666,
             "#ed7953"
            ],
            [
             0.7777777777777778,
             "#fb9f3a"
            ],
            [
             0.8888888888888888,
             "#fdca26"
            ],
            [
             1,
             "#f0f921"
            ]
           ],
           "sequentialminus": [
            [
             0,
             "#0d0887"
            ],
            [
             0.1111111111111111,
             "#46039f"
            ],
            [
             0.2222222222222222,
             "#7201a8"
            ],
            [
             0.3333333333333333,
             "#9c179e"
            ],
            [
             0.4444444444444444,
             "#bd3786"
            ],
            [
             0.5555555555555556,
             "#d8576b"
            ],
            [
             0.6666666666666666,
             "#ed7953"
            ],
            [
             0.7777777777777778,
             "#fb9f3a"
            ],
            [
             0.8888888888888888,
             "#fdca26"
            ],
            [
             1,
             "#f0f921"
            ]
           ]
          },
          "colorway": [
           "#636efa",
           "#EF553B",
           "#00cc96",
           "#ab63fa",
           "#FFA15A",
           "#19d3f3",
           "#FF6692",
           "#B6E880",
           "#FF97FF",
           "#FECB52"
          ],
          "font": {
           "color": "#2a3f5f"
          },
          "geo": {
           "bgcolor": "white",
           "lakecolor": "white",
           "landcolor": "#E5ECF6",
           "showlakes": true,
           "showland": true,
           "subunitcolor": "white"
          },
          "hoverlabel": {
           "align": "left"
          },
          "hovermode": "closest",
          "mapbox": {
           "style": "light"
          },
          "paper_bgcolor": "white",
          "plot_bgcolor": "#E5ECF6",
          "polar": {
           "angularaxis": {
            "gridcolor": "white",
            "linecolor": "white",
            "ticks": ""
           },
           "bgcolor": "#E5ECF6",
           "radialaxis": {
            "gridcolor": "white",
            "linecolor": "white",
            "ticks": ""
           }
          },
          "scene": {
           "xaxis": {
            "backgroundcolor": "#E5ECF6",
            "gridcolor": "white",
            "gridwidth": 2,
            "linecolor": "white",
            "showbackground": true,
            "ticks": "",
            "zerolinecolor": "white"
           },
           "yaxis": {
            "backgroundcolor": "#E5ECF6",
            "gridcolor": "white",
            "gridwidth": 2,
            "linecolor": "white",
            "showbackground": true,
            "ticks": "",
            "zerolinecolor": "white"
           },
           "zaxis": {
            "backgroundcolor": "#E5ECF6",
            "gridcolor": "white",
            "gridwidth": 2,
            "linecolor": "white",
            "showbackground": true,
            "ticks": "",
            "zerolinecolor": "white"
           }
          },
          "shapedefaults": {
           "line": {
            "color": "#2a3f5f"
           }
          },
          "ternary": {
           "aaxis": {
            "gridcolor": "white",
            "linecolor": "white",
            "ticks": ""
           },
           "baxis": {
            "gridcolor": "white",
            "linecolor": "white",
            "ticks": ""
           },
           "bgcolor": "#E5ECF6",
           "caxis": {
            "gridcolor": "white",
            "linecolor": "white",
            "ticks": ""
           }
          },
          "title": {
           "x": 0.05
          },
          "xaxis": {
           "automargin": true,
           "gridcolor": "white",
           "linecolor": "white",
           "ticks": "",
           "title": {
            "standoff": 15
           },
           "zerolinecolor": "white",
           "zerolinewidth": 2
          },
          "yaxis": {
           "automargin": true,
           "gridcolor": "white",
           "linecolor": "white",
           "ticks": "",
           "title": {
            "standoff": 15
           },
           "zerolinecolor": "white",
           "zerolinewidth": 2
          }
         }
        },
        "title": {
         "font": {
          "color": "#4D5663"
         }
        },
        "xaxis": {
         "gridcolor": "#E1E5ED",
         "showgrid": true,
         "tickfont": {
          "color": "#4D5663"
         },
         "title": {
          "font": {
           "color": "#4D5663"
          },
          "text": ""
         },
         "zerolinecolor": "#E1E5ED"
        },
        "yaxis": {
         "gridcolor": "#E1E5ED",
         "showgrid": true,
         "tickfont": {
          "color": "#4D5663"
         },
         "title": {
          "font": {
           "color": "#4D5663"
          },
          "text": ""
         },
         "zerolinecolor": "#E1E5ED"
        }
       }
      },
      "text/html": [
       "<div>                            <div id=\"bc562d5f-2ba2-42c9-a1c7-db5e204d26d2\" class=\"plotly-graph-div\" style=\"height:525px; width:100%;\"></div>            <script type=\"text/javascript\">                require([\"plotly\"], function(Plotly) {                    window.PLOTLYENV=window.PLOTLYENV || {};\n",
       "                    window.PLOTLYENV.BASE_URL='https://plot.ly';                                    if (document.getElementById(\"bc562d5f-2ba2-42c9-a1c7-db5e204d26d2\")) {                    Plotly.newPlot(                        \"bc562d5f-2ba2-42c9-a1c7-db5e204d26d2\",                        [{\"marker\":{\"color\":[\"rgb(255, 153, 51)\",\"rgb(55, 128, 191)\",\"rgb(50, 171, 96)\",\"rgb(128, 0, 128)\",\"rgb(219, 64, 82)\",\"rgb(0, 128, 128)\",\"rgb(255, 255, 51)\",\"rgb(128, 128, 0)\",\"rgb(251, 128, 114)\",\"rgb(128, 177, 211)\"],\"line\":{\"width\":1.3},\"size\":[65,58,50,91,24,29,92,78,40,28,42,85,23,42,50,41,73,46,45,86,19,56,37,53,49,13,48,92,61,66,33,41,42,42,66,12,65,16,112,44,38,31,36,37,32,31,79,28,67,44,64,77,28,31,61,51,32,54,42,49,35,35,33,64,65,77,53,68,67,59,60,73,84,31,49,75,84,70,55,39,43,70,55,59,51,57,34,38,33,52,54,38,30,51,57,29,59,38,87,61],\"symbol\":\"circle\"},\"mode\":\"markers\",\"text\":\"\",\"x\":[-0.4109093102308704,-0.6680817820818279,0.05775923832079972,-0.6514336458680554,0.1879160682510293,-1.5293464668323662,-0.7035269259572434,0.023874540007682573,-1.2420547200599625,-0.8913683621133949,-0.6031304983078408,-0.8971715581521588,-0.29873531501808204,-0.28277215845111825,-1.4601949181242078,1.163711752718257,-0.7985458453409878,0.08419460658711336,1.2072287151035508,1.9355081654923072,-0.6280104709091505,-0.11194954662160747,-0.46415689977609864,0.3291395359396691,0.14336269881245645,-0.7973487302419948,1.0136391070213626,0.3224826399220911,-0.5610315946764224,-1.6376822225509424,1.5133491313233511,0.6252725756740378,0.5218653597362931,0.2630145983301274,-0.6226571769603287,-0.47641810789885125,-0.7063513142606132,0.32684887117824307,0.25245635094777025,-0.8921088220372825,0.7720682190244831,0.7238641471940175,0.645126076541708,0.4224070507208162,0.3990528172515247,-0.19255958104133045,-0.16973807979033237,-1.0196829077704666,-0.3561857988413979,-0.7547498424893713,1.756962952184945,0.15851227706927512,-1.0982456629275492,0.6028423362735791,-1.2172834983904086,0.3151964776503683,-1.2224736248236194,-0.7734229575896733,0.15439661925788561,0.7886502050544204,-0.054443877521405636,-1.0636641048785411,-1.5786802485725135,0.24813035938868763,0.13326047954542491,0.07900652650890297,-1.943265097469249,0.709653153466894,-0.8004575677107629,-0.30651500422656586,-0.034793194861766734,1.1239760186483012,1.9534360839432174,0.5855191473663935,-0.259033322409612,-0.721568816715617,0.4048799040916817,0.11292732199272669,-1.1339821084354054,1.608866407723626,0.3501736145293892,-0.0486340739793143,-1.4939842393253115,0.33891543148322023,-0.14837108037915506,1.1431096103520344,1.2732128325788084,1.6707652434185216,-2.034802087108342,2.0454869644421496,1.928114298449317,0.2810486247432109,-0.4763850985641512,1.0107331745913726,0.7183992254469621,1.3199201637244298,0.19377943979431222,1.9858006393975318,1.7289541996275624,0.6000972414545752],\"y\":[0.10816164100433416,-0.3786534181130173,1.5976396520152203,0.1032715254968819,-1.0523808578431146,-1.3088111247109417,-0.33138160694857144,0.37586959252393326,-1.4329191920134556,-1.4057862776414278,-0.958400047246091,0.29084537770773083,0.9935937445178882,0.04105070648099821,0.5408640784206419,-0.9264630427696732,1.4446133920139053,0.7294940924538716,-0.4350365321345761,-0.1325933169696886,-1.014905041321066,0.7142426252203482,-0.12624792117550834,-0.20886899913259685,-0.046122503270438174,1.0930917336122041,-1.9021098919909627,2.1923805539824883,-0.35159360601604234,-0.7840171652005669,0.8013260813444979,1.6926231238423597,-1.8736638856094856,0.9707936279502669,-0.8946838001113273,0.33970862607059893,-0.5793816991296611,-0.0878888415438686,0.5123180202062559,-0.3354586266014048,-0.3056932331079285,1.3570012723760245,0.6501788955149052,-1.0229202856165147,0.6832670623300489,0.2169408672987547,-1.5775271330361818,-1.1246690529362395,0.3921142234135686,-0.06959219198977895,-0.019901343076002487,-0.9668266661131473,-0.21099683075611467,0.0016865579778136469,-1.0802687843471324,-1.380237864945273,-0.8039152050946438,0.6777652747804674,-1.7942162924799367,0.1874497630076612,0.21428526335199233,-1.6590885500531578,1.2292836165571877,-0.6313361485055891,0.20526898451701303,0.3019628958045808,1.2893815216553828,-1.8503476945459718,-1.1624137925900286,1.631894818283364,0.9137215970033604,0.42810273476173266,0.8383367822100516,0.03283408639287403,-0.6946136149052397,-0.08070742997934244,0.9486270898985858,-0.48974504059853097,0.7877660225946301,0.18205642024037574,-0.6270525171109232,-0.17486983897035135,-0.2569599069188726,0.4022673291283338,0.8893958001444761,0.7051969265018811,-0.2024575094870895,0.30361544203123086,-1.0690070760292605,0.4953857590622099,0.19672688600027186,-0.17632377424528928,-0.23475071514999798,0.997698475693314,-1.1669540486953198,-0.052800403148813194,0.1882279243514494,-0.7566964384387022,-0.5873806894237157,-1.0723913490493764],\"type\":\"scatter\"}],                        {\"legend\":{\"bgcolor\":\"#F5F6F9\",\"font\":{\"color\":\"#4D5663\"}},\"paper_bgcolor\":\"#F5F6F9\",\"plot_bgcolor\":\"#F5F6F9\",\"template\":{\"data\":{\"barpolar\":[{\"marker\":{\"line\":{\"color\":\"#E5ECF6\",\"width\":0.5},\"pattern\":{\"fillmode\":\"overlay\",\"size\":10,\"solidity\":0.2}},\"type\":\"barpolar\"}],\"bar\":[{\"error_x\":{\"color\":\"#2a3f5f\"},\"error_y\":{\"color\":\"#2a3f5f\"},\"marker\":{\"line\":{\"color\":\"#E5ECF6\",\"width\":0.5},\"pattern\":{\"fillmode\":\"overlay\",\"size\":10,\"solidity\":0.2}},\"type\":\"bar\"}],\"carpet\":[{\"aaxis\":{\"endlinecolor\":\"#2a3f5f\",\"gridcolor\":\"white\",\"linecolor\":\"white\",\"minorgridcolor\":\"white\",\"startlinecolor\":\"#2a3f5f\"},\"baxis\":{\"endlinecolor\":\"#2a3f5f\",\"gridcolor\":\"white\",\"linecolor\":\"white\",\"minorgridcolor\":\"white\",\"startlinecolor\":\"#2a3f5f\"},\"type\":\"carpet\"}],\"choropleth\":[{\"colorbar\":{\"outlinewidth\":0,\"ticks\":\"\"},\"type\":\"choropleth\"}],\"contourcarpet\":[{\"colorbar\":{\"outlinewidth\":0,\"ticks\":\"\"},\"type\":\"contourcarpet\"}],\"contour\":[{\"colorbar\":{\"outlinewidth\":0,\"ticks\":\"\"},\"colorscale\":[[0.0,\"#0d0887\"],[0.1111111111111111,\"#46039f\"],[0.2222222222222222,\"#7201a8\"],[0.3333333333333333,\"#9c179e\"],[0.4444444444444444,\"#bd3786\"],[0.5555555555555556,\"#d8576b\"],[0.6666666666666666,\"#ed7953\"],[0.7777777777777778,\"#fb9f3a\"],[0.8888888888888888,\"#fdca26\"],[1.0,\"#f0f921\"]],\"type\":\"contour\"}],\"heatmapgl\":[{\"colorbar\":{\"outlinewidth\":0,\"ticks\":\"\"},\"colorscale\":[[0.0,\"#0d0887\"],[0.1111111111111111,\"#46039f\"],[0.2222222222222222,\"#7201a8\"],[0.3333333333333333,\"#9c179e\"],[0.4444444444444444,\"#bd3786\"],[0.5555555555555556,\"#d8576b\"],[0.6666666666666666,\"#ed7953\"],[0.7777777777777778,\"#fb9f3a\"],[0.8888888888888888,\"#fdca26\"],[1.0,\"#f0f921\"]],\"type\":\"heatmapgl\"}],\"heatmap\":[{\"colorbar\":{\"outlinewidth\":0,\"ticks\":\"\"},\"colorscale\":[[0.0,\"#0d0887\"],[0.1111111111111111,\"#46039f\"],[0.2222222222222222,\"#7201a8\"],[0.3333333333333333,\"#9c179e\"],[0.4444444444444444,\"#bd3786\"],[0.5555555555555556,\"#d8576b\"],[0.6666666666666666,\"#ed7953\"],[0.7777777777777778,\"#fb9f3a\"],[0.8888888888888888,\"#fdca26\"],[1.0,\"#f0f921\"]],\"type\":\"heatmap\"}],\"histogram2dcontour\":[{\"colorbar\":{\"outlinewidth\":0,\"ticks\":\"\"},\"colorscale\":[[0.0,\"#0d0887\"],[0.1111111111111111,\"#46039f\"],[0.2222222222222222,\"#7201a8\"],[0.3333333333333333,\"#9c179e\"],[0.4444444444444444,\"#bd3786\"],[0.5555555555555556,\"#d8576b\"],[0.6666666666666666,\"#ed7953\"],[0.7777777777777778,\"#fb9f3a\"],[0.8888888888888888,\"#fdca26\"],[1.0,\"#f0f921\"]],\"type\":\"histogram2dcontour\"}],\"histogram2d\":[{\"colorbar\":{\"outlinewidth\":0,\"ticks\":\"\"},\"colorscale\":[[0.0,\"#0d0887\"],[0.1111111111111111,\"#46039f\"],[0.2222222222222222,\"#7201a8\"],[0.3333333333333333,\"#9c179e\"],[0.4444444444444444,\"#bd3786\"],[0.5555555555555556,\"#d8576b\"],[0.6666666666666666,\"#ed7953\"],[0.7777777777777778,\"#fb9f3a\"],[0.8888888888888888,\"#fdca26\"],[1.0,\"#f0f921\"]],\"type\":\"histogram2d\"}],\"histogram\":[{\"marker\":{\"pattern\":{\"fillmode\":\"overlay\",\"size\":10,\"solidity\":0.2}},\"type\":\"histogram\"}],\"mesh3d\":[{\"colorbar\":{\"outlinewidth\":0,\"ticks\":\"\"},\"type\":\"mesh3d\"}],\"parcoords\":[{\"line\":{\"colorbar\":{\"outlinewidth\":0,\"ticks\":\"\"}},\"type\":\"parcoords\"}],\"pie\":[{\"automargin\":true,\"type\":\"pie\"}],\"scatter3d\":[{\"line\":{\"colorbar\":{\"outlinewidth\":0,\"ticks\":\"\"}},\"marker\":{\"colorbar\":{\"outlinewidth\":0,\"ticks\":\"\"}},\"type\":\"scatter3d\"}],\"scattercarpet\":[{\"marker\":{\"colorbar\":{\"outlinewidth\":0,\"ticks\":\"\"}},\"type\":\"scattercarpet\"}],\"scattergeo\":[{\"marker\":{\"colorbar\":{\"outlinewidth\":0,\"ticks\":\"\"}},\"type\":\"scattergeo\"}],\"scattergl\":[{\"marker\":{\"colorbar\":{\"outlinewidth\":0,\"ticks\":\"\"}},\"type\":\"scattergl\"}],\"scattermapbox\":[{\"marker\":{\"colorbar\":{\"outlinewidth\":0,\"ticks\":\"\"}},\"type\":\"scattermapbox\"}],\"scatterpolargl\":[{\"marker\":{\"colorbar\":{\"outlinewidth\":0,\"ticks\":\"\"}},\"type\":\"scatterpolargl\"}],\"scatterpolar\":[{\"marker\":{\"colorbar\":{\"outlinewidth\":0,\"ticks\":\"\"}},\"type\":\"scatterpolar\"}],\"scatter\":[{\"marker\":{\"colorbar\":{\"outlinewidth\":0,\"ticks\":\"\"}},\"type\":\"scatter\"}],\"scatterternary\":[{\"marker\":{\"colorbar\":{\"outlinewidth\":0,\"ticks\":\"\"}},\"type\":\"scatterternary\"}],\"surface\":[{\"colorbar\":{\"outlinewidth\":0,\"ticks\":\"\"},\"colorscale\":[[0.0,\"#0d0887\"],[0.1111111111111111,\"#46039f\"],[0.2222222222222222,\"#7201a8\"],[0.3333333333333333,\"#9c179e\"],[0.4444444444444444,\"#bd3786\"],[0.5555555555555556,\"#d8576b\"],[0.6666666666666666,\"#ed7953\"],[0.7777777777777778,\"#fb9f3a\"],[0.8888888888888888,\"#fdca26\"],[1.0,\"#f0f921\"]],\"type\":\"surface\"}],\"table\":[{\"cells\":{\"fill\":{\"color\":\"#EBF0F8\"},\"line\":{\"color\":\"white\"}},\"header\":{\"fill\":{\"color\":\"#C8D4E3\"},\"line\":{\"color\":\"white\"}},\"type\":\"table\"}]},\"layout\":{\"annotationdefaults\":{\"arrowcolor\":\"#2a3f5f\",\"arrowhead\":0,\"arrowwidth\":1},\"autotypenumbers\":\"strict\",\"coloraxis\":{\"colorbar\":{\"outlinewidth\":0,\"ticks\":\"\"}},\"colorscale\":{\"diverging\":[[0,\"#8e0152\"],[0.1,\"#c51b7d\"],[0.2,\"#de77ae\"],[0.3,\"#f1b6da\"],[0.4,\"#fde0ef\"],[0.5,\"#f7f7f7\"],[0.6,\"#e6f5d0\"],[0.7,\"#b8e186\"],[0.8,\"#7fbc41\"],[0.9,\"#4d9221\"],[1,\"#276419\"]],\"sequential\":[[0.0,\"#0d0887\"],[0.1111111111111111,\"#46039f\"],[0.2222222222222222,\"#7201a8\"],[0.3333333333333333,\"#9c179e\"],[0.4444444444444444,\"#bd3786\"],[0.5555555555555556,\"#d8576b\"],[0.6666666666666666,\"#ed7953\"],[0.7777777777777778,\"#fb9f3a\"],[0.8888888888888888,\"#fdca26\"],[1.0,\"#f0f921\"]],\"sequentialminus\":[[0.0,\"#0d0887\"],[0.1111111111111111,\"#46039f\"],[0.2222222222222222,\"#7201a8\"],[0.3333333333333333,\"#9c179e\"],[0.4444444444444444,\"#bd3786\"],[0.5555555555555556,\"#d8576b\"],[0.6666666666666666,\"#ed7953\"],[0.7777777777777778,\"#fb9f3a\"],[0.8888888888888888,\"#fdca26\"],[1.0,\"#f0f921\"]]},\"colorway\":[\"#636efa\",\"#EF553B\",\"#00cc96\",\"#ab63fa\",\"#FFA15A\",\"#19d3f3\",\"#FF6692\",\"#B6E880\",\"#FF97FF\",\"#FECB52\"],\"font\":{\"color\":\"#2a3f5f\"},\"geo\":{\"bgcolor\":\"white\",\"lakecolor\":\"white\",\"landcolor\":\"#E5ECF6\",\"showlakes\":true,\"showland\":true,\"subunitcolor\":\"white\"},\"hoverlabel\":{\"align\":\"left\"},\"hovermode\":\"closest\",\"mapbox\":{\"style\":\"light\"},\"paper_bgcolor\":\"white\",\"plot_bgcolor\":\"#E5ECF6\",\"polar\":{\"angularaxis\":{\"gridcolor\":\"white\",\"linecolor\":\"white\",\"ticks\":\"\"},\"bgcolor\":\"#E5ECF6\",\"radialaxis\":{\"gridcolor\":\"white\",\"linecolor\":\"white\",\"ticks\":\"\"}},\"scene\":{\"xaxis\":{\"backgroundcolor\":\"#E5ECF6\",\"gridcolor\":\"white\",\"gridwidth\":2,\"linecolor\":\"white\",\"showbackground\":true,\"ticks\":\"\",\"zerolinecolor\":\"white\"},\"yaxis\":{\"backgroundcolor\":\"#E5ECF6\",\"gridcolor\":\"white\",\"gridwidth\":2,\"linecolor\":\"white\",\"showbackground\":true,\"ticks\":\"\",\"zerolinecolor\":\"white\"},\"zaxis\":{\"backgroundcolor\":\"#E5ECF6\",\"gridcolor\":\"white\",\"gridwidth\":2,\"linecolor\":\"white\",\"showbackground\":true,\"ticks\":\"\",\"zerolinecolor\":\"white\"}},\"shapedefaults\":{\"line\":{\"color\":\"#2a3f5f\"}},\"ternary\":{\"aaxis\":{\"gridcolor\":\"white\",\"linecolor\":\"white\",\"ticks\":\"\"},\"baxis\":{\"gridcolor\":\"white\",\"linecolor\":\"white\",\"ticks\":\"\"},\"bgcolor\":\"#E5ECF6\",\"caxis\":{\"gridcolor\":\"white\",\"linecolor\":\"white\",\"ticks\":\"\"}},\"title\":{\"x\":0.05},\"xaxis\":{\"automargin\":true,\"gridcolor\":\"white\",\"linecolor\":\"white\",\"ticks\":\"\",\"title\":{\"standoff\":15},\"zerolinecolor\":\"white\",\"zerolinewidth\":2},\"yaxis\":{\"automargin\":true,\"gridcolor\":\"white\",\"linecolor\":\"white\",\"ticks\":\"\",\"title\":{\"standoff\":15},\"zerolinecolor\":\"white\",\"zerolinewidth\":2}}},\"title\":{\"font\":{\"color\":\"#4D5663\"}},\"xaxis\":{\"gridcolor\":\"#E1E5ED\",\"showgrid\":true,\"tickfont\":{\"color\":\"#4D5663\"},\"title\":{\"font\":{\"color\":\"#4D5663\"},\"text\":\"\"},\"zerolinecolor\":\"#E1E5ED\"},\"yaxis\":{\"gridcolor\":\"#E1E5ED\",\"showgrid\":true,\"tickfont\":{\"color\":\"#4D5663\"},\"title\":{\"font\":{\"color\":\"#4D5663\"},\"text\":\"\"},\"zerolinecolor\":\"#E1E5ED\"}},                        {\"showLink\": true, \"linkText\": \"Export to plot.ly\", \"plotlyServerURL\": \"https://plot.ly\", \"responsive\": true}                    ).then(function(){\n",
       "                            \n",
       "var gd = document.getElementById('bc562d5f-2ba2-42c9-a1c7-db5e204d26d2');\n",
       "var x = new MutationObserver(function (mutations, observer) {{\n",
       "        var display = window.getComputedStyle(gd).display;\n",
       "        if (!display || display === 'none') {{\n",
       "            console.log([gd, 'removed!']);\n",
       "            Plotly.purge(gd);\n",
       "            observer.disconnect();\n",
       "        }}\n",
       "}});\n",
       "\n",
       "// Listen for the removal of the full notebook cells\n",
       "var notebookContainer = gd.closest('#notebook-container');\n",
       "if (notebookContainer) {{\n",
       "    x.observe(notebookContainer, {childList: true});\n",
       "}}\n",
       "\n",
       "// Listen for the clearing of the current output cell\n",
       "var outputEl = gd.closest('.output');\n",
       "if (outputEl) {{\n",
       "    x.observe(outputEl, {childList: true});\n",
       "}}\n",
       "\n",
       "                        })                };                });            </script>        </div>"
      ]
     },
     "metadata": {},
     "output_type": "display_data"
    }
   ],
   "source": [
    "df.iplot(kind='bubble',x='A',y='B',size='C')"
   ]
  },
  {
   "cell_type": "code",
   "execution_count": 50,
   "id": "72fefb02",
   "metadata": {},
   "outputs": [
    {
     "data": {
      "application/vnd.plotly.v1+json": {
       "config": {
        "linkText": "Export to plot.ly",
        "plotlyServerURL": "https://plot.ly",
        "showLink": true
       },
       "data": [
        {
         "histfunc": "count",
         "histnorm": "",
         "marker": {
          "color": "rgba(255, 153, 51, 1.0)",
          "line": {
           "color": "#4D5663",
           "width": 1.3
          }
         },
         "name": "A",
         "nbinsx": 10,
         "opacity": 0.8,
         "orientation": "v",
         "type": "histogram",
         "x": [
          -0.4109093102308704,
          -0.6680817820818279,
          0.05775923832079972,
          -0.6514336458680554,
          0.1879160682510293,
          -1.5293464668323662,
          -0.7035269259572434,
          0.023874540007682573,
          -1.2420547200599625,
          -0.8913683621133949,
          -0.6031304983078408,
          -0.8971715581521588,
          -0.29873531501808204,
          -0.28277215845111825,
          -1.4601949181242078,
          1.163711752718257,
          -0.7985458453409878,
          0.08419460658711336,
          1.2072287151035508,
          1.9355081654923072,
          -0.6280104709091505,
          -0.11194954662160747,
          -0.46415689977609864,
          0.3291395359396691,
          0.14336269881245645,
          -0.7973487302419948,
          1.0136391070213626,
          0.3224826399220911,
          -0.5610315946764224,
          -1.6376822225509424,
          1.5133491313233511,
          0.6252725756740378,
          0.5218653597362931,
          0.2630145983301274,
          -0.6226571769603287,
          -0.47641810789885125,
          -0.7063513142606132,
          0.32684887117824307,
          0.25245635094777025,
          -0.8921088220372825,
          0.7720682190244831,
          0.7238641471940175,
          0.645126076541708,
          0.4224070507208162,
          0.3990528172515247,
          -0.19255958104133045,
          -0.16973807979033237,
          -1.0196829077704666,
          -0.3561857988413979,
          -0.7547498424893713,
          1.756962952184945,
          0.15851227706927512,
          -1.0982456629275492,
          0.6028423362735791,
          -1.2172834983904086,
          0.3151964776503683,
          -1.2224736248236194,
          -0.7734229575896733,
          0.15439661925788561,
          0.7886502050544204,
          -0.054443877521405636,
          -1.0636641048785411,
          -1.5786802485725135,
          0.24813035938868763,
          0.13326047954542491,
          0.07900652650890297,
          -1.943265097469249,
          0.709653153466894,
          -0.8004575677107629,
          -0.30651500422656586,
          -0.034793194861766734,
          1.1239760186483012,
          1.9534360839432174,
          0.5855191473663935,
          -0.259033322409612,
          -0.721568816715617,
          0.4048799040916817,
          0.11292732199272669,
          -1.1339821084354054,
          1.608866407723626,
          0.3501736145293892,
          -0.0486340739793143,
          -1.4939842393253115,
          0.33891543148322023,
          -0.14837108037915506,
          1.1431096103520344,
          1.2732128325788084,
          1.6707652434185216,
          -2.034802087108342,
          2.0454869644421496,
          1.928114298449317,
          0.2810486247432109,
          -0.4763850985641512,
          1.0107331745913726,
          0.7183992254469621,
          1.3199201637244298,
          0.19377943979431222,
          1.9858006393975318,
          1.7289541996275624,
          0.6000972414545752
         ],
         "xaxis": "x",
         "yaxis": "y"
        },
        {
         "line": {
          "color": "rgba(128, 128, 128, 1.0)",
          "dash": "solid",
          "shape": "linear",
          "width": 1.3
         },
         "marker": {
          "size": 2,
          "symbol": "circle"
         },
         "mode": "markers",
         "name": "A",
         "text": "",
         "type": "scatter",
         "x": [
          0.10816164100433416,
          -0.3786534181130173,
          1.5976396520152203,
          0.1032715254968819,
          -1.0523808578431146,
          -1.3088111247109417,
          -0.33138160694857144,
          0.37586959252393326,
          -1.4329191920134556,
          -1.4057862776414278,
          -0.958400047246091,
          0.29084537770773083,
          0.9935937445178882,
          0.04105070648099821,
          0.5408640784206419,
          -0.9264630427696732,
          1.4446133920139053,
          0.7294940924538716,
          -0.4350365321345761,
          -0.1325933169696886,
          -1.014905041321066,
          0.7142426252203482,
          -0.12624792117550834,
          -0.20886899913259685,
          -0.046122503270438174,
          1.0930917336122041,
          -1.9021098919909627,
          2.1923805539824883,
          -0.35159360601604234,
          -0.7840171652005669,
          0.8013260813444979,
          1.6926231238423597,
          -1.8736638856094856,
          0.9707936279502669,
          -0.8946838001113273,
          0.33970862607059893,
          -0.5793816991296611,
          -0.0878888415438686,
          0.5123180202062559,
          -0.3354586266014048,
          -0.3056932331079285,
          1.3570012723760245,
          0.6501788955149052,
          -1.0229202856165147,
          0.6832670623300489,
          0.2169408672987547,
          -1.5775271330361818,
          -1.1246690529362395,
          0.3921142234135686,
          -0.06959219198977895,
          -0.019901343076002487,
          -0.9668266661131473,
          -0.21099683075611467,
          0.0016865579778136469,
          -1.0802687843471324,
          -1.380237864945273,
          -0.8039152050946438,
          0.6777652747804674,
          -1.7942162924799367,
          0.1874497630076612,
          0.21428526335199233,
          -1.6590885500531578,
          1.2292836165571877,
          -0.6313361485055891,
          0.20526898451701303,
          0.3019628958045808,
          1.2893815216553828,
          -1.8503476945459718,
          -1.1624137925900286,
          1.631894818283364,
          0.9137215970033604,
          0.42810273476173266,
          0.8383367822100516,
          0.03283408639287403,
          -0.6946136149052397,
          -0.08070742997934244,
          0.9486270898985858,
          -0.48974504059853097,
          0.7877660225946301,
          0.18205642024037574,
          -0.6270525171109232,
          -0.17486983897035135,
          -0.2569599069188726,
          0.4022673291283338,
          0.8893958001444761,
          0.7051969265018811,
          -0.2024575094870895,
          0.30361544203123086,
          -1.0690070760292605,
          0.4953857590622099,
          0.19672688600027186,
          -0.17632377424528928,
          -0.23475071514999798,
          0.997698475693314,
          -1.1669540486953198,
          -0.052800403148813194,
          0.1882279243514494,
          -0.7566964384387022,
          -0.5873806894237157,
          -1.0723913490493764
         ],
         "xaxis": "x2",
         "y": [
          -0.4109093102308704,
          -0.6680817820818279,
          0.05775923832079972,
          -0.6514336458680554,
          0.1879160682510293,
          -1.5293464668323662,
          -0.7035269259572434,
          0.023874540007682573,
          -1.2420547200599625,
          -0.8913683621133949,
          -0.6031304983078408,
          -0.8971715581521588,
          -0.29873531501808204,
          -0.28277215845111825,
          -1.4601949181242078,
          1.163711752718257,
          -0.7985458453409878,
          0.08419460658711336,
          1.2072287151035508,
          1.9355081654923072,
          -0.6280104709091505,
          -0.11194954662160747,
          -0.46415689977609864,
          0.3291395359396691,
          0.14336269881245645,
          -0.7973487302419948,
          1.0136391070213626,
          0.3224826399220911,
          -0.5610315946764224,
          -1.6376822225509424,
          1.5133491313233511,
          0.6252725756740378,
          0.5218653597362931,
          0.2630145983301274,
          -0.6226571769603287,
          -0.47641810789885125,
          -0.7063513142606132,
          0.32684887117824307,
          0.25245635094777025,
          -0.8921088220372825,
          0.7720682190244831,
          0.7238641471940175,
          0.645126076541708,
          0.4224070507208162,
          0.3990528172515247,
          -0.19255958104133045,
          -0.16973807979033237,
          -1.0196829077704666,
          -0.3561857988413979,
          -0.7547498424893713,
          1.756962952184945,
          0.15851227706927512,
          -1.0982456629275492,
          0.6028423362735791,
          -1.2172834983904086,
          0.3151964776503683,
          -1.2224736248236194,
          -0.7734229575896733,
          0.15439661925788561,
          0.7886502050544204,
          -0.054443877521405636,
          -1.0636641048785411,
          -1.5786802485725135,
          0.24813035938868763,
          0.13326047954542491,
          0.07900652650890297,
          -1.943265097469249,
          0.709653153466894,
          -0.8004575677107629,
          -0.30651500422656586,
          -0.034793194861766734,
          1.1239760186483012,
          1.9534360839432174,
          0.5855191473663935,
          -0.259033322409612,
          -0.721568816715617,
          0.4048799040916817,
          0.11292732199272669,
          -1.1339821084354054,
          1.608866407723626,
          0.3501736145293892,
          -0.0486340739793143,
          -1.4939842393253115,
          0.33891543148322023,
          -0.14837108037915506,
          1.1431096103520344,
          1.2732128325788084,
          1.6707652434185216,
          -2.034802087108342,
          2.0454869644421496,
          1.928114298449317,
          0.2810486247432109,
          -0.4763850985641512,
          1.0107331745913726,
          0.7183992254469621,
          1.3199201637244298,
          0.19377943979431222,
          1.9858006393975318,
          1.7289541996275624,
          0.6000972414545752
         ],
         "yaxis": "y2"
        },
        {
         "line": {
          "color": "rgba(128, 128, 128, 1.0)",
          "dash": "solid",
          "shape": "linear",
          "width": 1.3
         },
         "marker": {
          "size": 2,
          "symbol": "circle"
         },
         "mode": "markers",
         "name": "A",
         "text": "",
         "type": "scatter",
         "x": [
          0.6292199526679915,
          0.2929975958833482,
          -0.04399087398141044,
          1.8565600602641612,
          -1.2750659235998933,
          -1.049310108114289,
          1.9150270383061618,
          1.2508697290216244,
          -0.5254373553532199,
          -1.1019207468324796,
          -0.4329980546454029,
          1.5572239614417513,
          -1.3055844181806395,
          -0.4122575973258354,
          -0.059880586166883694,
          -0.47306812677550375,
          1.0024038262962716,
          -0.2432530029414284,
          -0.2951196417216509,
          1.6108749570387297,
          -1.5277743237948516,
          0.24462827579148685,
          -0.6665963461968138,
          0.09551308916636889,
          -0.09167893838598215,
          -1.7815453817378082,
          -0.1521106133048684,
          1.9074572705422066,
          0.4592082613846467,
          0.7013091669194846,
          -0.8686089844179359,
          -0.4606390682252071,
          -0.41777249430301205,
          -0.4468941776179165,
          0.7094928970608115,
          -1.8603953409392233,
          0.6259187872531098,
          -1.6286731061977948,
          2.8201400374716687,
          -0.35503682144368226,
          -0.6396143178399654,
          -0.9654900282468604,
          -0.7210403553227229,
          -0.6778528111808548,
          -0.8847323338846561,
          -0.9563799305227523,
          1.3186129140745864,
          -1.0833389277669125,
          0.7146015938507903,
          -0.31692372500085386,
          0.5854408697615356,
          1.2266989977152263,
          -1.0876940047938335,
          -0.9545415176685021,
          0.4763777966834708,
          -0.028328147521990005,
          -0.9197802043519457,
          0.13369488535274207,
          -0.4346147152741386,
          -0.09219737012285296,
          -0.7442747895254129,
          -0.7800885356867993,
          -0.864528126951913,
          0.6156847853724774,
          0.6350478989525027,
          1.1944567500749472,
          0.09291026971232177,
          0.7978863435209216,
          0.717641604863803,
          0.3854021360752175,
          0.3871364856255502,
          1.0392309824169004,
          1.549422603605397,
          -0.9488235117675193,
          -0.10664617217844946,
          1.1281754295273083,
          1.532435448350468,
          0.8819094595511779,
          0.1588660200001338,
          -0.5538468056190365,
          -0.37835010238664146,
          0.8956307051416974,
          0.19210774446947973,
          0.3834669957770598,
          -0.002075523221641867,
          0.27647527640105485,
          -0.8078457966107676,
          -0.625341205482638,
          -0.83781920073781,
          0.0560368705472754,
          0.1432941566584118,
          -0.6215519009327086,
          -1.0108129007264421,
          0.003988253626526684,
          0.2757826690179561,
          -1.037282373787344,
          0.34299228025201184,
          -0.6033296064640993,
          1.6771847452732258,
          0.44518449248506753
         ],
         "xaxis": "x3",
         "y": [
          -0.4109093102308704,
          -0.6680817820818279,
          0.05775923832079972,
          -0.6514336458680554,
          0.1879160682510293,
          -1.5293464668323662,
          -0.7035269259572434,
          0.023874540007682573,
          -1.2420547200599625,
          -0.8913683621133949,
          -0.6031304983078408,
          -0.8971715581521588,
          -0.29873531501808204,
          -0.28277215845111825,
          -1.4601949181242078,
          1.163711752718257,
          -0.7985458453409878,
          0.08419460658711336,
          1.2072287151035508,
          1.9355081654923072,
          -0.6280104709091505,
          -0.11194954662160747,
          -0.46415689977609864,
          0.3291395359396691,
          0.14336269881245645,
          -0.7973487302419948,
          1.0136391070213626,
          0.3224826399220911,
          -0.5610315946764224,
          -1.6376822225509424,
          1.5133491313233511,
          0.6252725756740378,
          0.5218653597362931,
          0.2630145983301274,
          -0.6226571769603287,
          -0.47641810789885125,
          -0.7063513142606132,
          0.32684887117824307,
          0.25245635094777025,
          -0.8921088220372825,
          0.7720682190244831,
          0.7238641471940175,
          0.645126076541708,
          0.4224070507208162,
          0.3990528172515247,
          -0.19255958104133045,
          -0.16973807979033237,
          -1.0196829077704666,
          -0.3561857988413979,
          -0.7547498424893713,
          1.756962952184945,
          0.15851227706927512,
          -1.0982456629275492,
          0.6028423362735791,
          -1.2172834983904086,
          0.3151964776503683,
          -1.2224736248236194,
          -0.7734229575896733,
          0.15439661925788561,
          0.7886502050544204,
          -0.054443877521405636,
          -1.0636641048785411,
          -1.5786802485725135,
          0.24813035938868763,
          0.13326047954542491,
          0.07900652650890297,
          -1.943265097469249,
          0.709653153466894,
          -0.8004575677107629,
          -0.30651500422656586,
          -0.034793194861766734,
          1.1239760186483012,
          1.9534360839432174,
          0.5855191473663935,
          -0.259033322409612,
          -0.721568816715617,
          0.4048799040916817,
          0.11292732199272669,
          -1.1339821084354054,
          1.608866407723626,
          0.3501736145293892,
          -0.0486340739793143,
          -1.4939842393253115,
          0.33891543148322023,
          -0.14837108037915506,
          1.1431096103520344,
          1.2732128325788084,
          1.6707652434185216,
          -2.034802087108342,
          2.0454869644421496,
          1.928114298449317,
          0.2810486247432109,
          -0.4763850985641512,
          1.0107331745913726,
          0.7183992254469621,
          1.3199201637244298,
          0.19377943979431222,
          1.9858006393975318,
          1.7289541996275624,
          0.6000972414545752
         ],
         "yaxis": "y3"
        },
        {
         "line": {
          "color": "rgba(128, 128, 128, 1.0)",
          "dash": "solid",
          "shape": "linear",
          "width": 1.3
         },
         "marker": {
          "size": 2,
          "symbol": "circle"
         },
         "mode": "markers",
         "name": "A",
         "text": "",
         "type": "scatter",
         "x": [
          -0.2773990390535875,
          -0.9181041820757111,
          -0.41695629787385136,
          0.3827797226044483,
          -1.7529933819530048,
          -0.7319625831080484,
          1.4867018549006927,
          1.4055835724351409,
          -0.8797716270422287,
          -0.596827049706759,
          0.8340313907663897,
          -0.04131531686530541,
          0.2599453428632096,
          -0.35726414646242105,
          1.2361542295277679,
          1.3454372740488802,
          -1.155284847160972,
          0.11560833073118736,
          1.0558476438294202,
          -0.09164539514816725,
          -0.07911103570471797,
          1.1298889292742882,
          1.0352534697805038,
          -0.5858686004334468,
          0.14702066966153676,
          0.7605378490231398,
          -0.2552446105455089,
          -2.531500870988131,
          -0.8151349614877484,
          -0.2015920797760861,
          -0.6773298355951781,
          -1.3697672350745784,
          0.09724331004694353,
          1.7011717963836774,
          -0.030937274832516556,
          0.5124910062389977,
          -0.45372901552669687,
          1.4482513486968667,
          1.9864055381472516,
          0.47522855192344204,
          0.4711856833597885,
          -1.8754888555936464,
          -2.1016106118736566,
          0.2693124651984568,
          0.45905685517626954,
          -0.40013306632258494,
          -1.1029866317352701,
          -0.8791067595006858,
          1.125635571527008,
          -2.3090732309185467,
          -0.8671350211320249,
          -1.342651525726852,
          0.022234185168456856,
          0.20139942607211828,
          -0.47147121341422843,
          0.504291600657643,
          -0.9166485195474732,
          0.6108027432860413,
          0.2046306319276693,
          -0.6785135228570527,
          -1.07186737499892,
          -1.1518117084162274,
          -1.1436522440035626,
          -0.9993470396308715,
          -0.12937160832678654,
          -1.178372039958786,
          0.19379575597871537,
          -0.9662038361824906,
          -0.437705018982611,
          -0.4323631505102849,
          0.248041241346058,
          0.2086791810129593,
          0.5929908589326623,
          -0.8536784616145044,
          -1.533101667308894,
          0.2424214860866842,
          0.9891233030383795,
          -0.4729289590102262,
          -0.014199955982915258,
          -2.5391709558181286,
          1.0268442751763005,
          0.045259851007036715,
          -0.9384052331484877,
          -0.2879938722489163,
          -0.9855361670308552,
          -0.637514850487326,
          1.0132347629902343,
          -1.0409569892865955,
          -0.12075479236245626,
          -0.677539436649919,
          -0.7277110810439337,
          0.2694823710565056,
          0.06787476222041963,
          0.5257354912022104,
          -0.9570659202256759,
          -0.5281540085218507,
          -1.0549750869942036,
          -0.018657045318151287,
          0.68417135330098,
          -0.8579511401360297
         ],
         "xaxis": "x4",
         "y": [
          -0.4109093102308704,
          -0.6680817820818279,
          0.05775923832079972,
          -0.6514336458680554,
          0.1879160682510293,
          -1.5293464668323662,
          -0.7035269259572434,
          0.023874540007682573,
          -1.2420547200599625,
          -0.8913683621133949,
          -0.6031304983078408,
          -0.8971715581521588,
          -0.29873531501808204,
          -0.28277215845111825,
          -1.4601949181242078,
          1.163711752718257,
          -0.7985458453409878,
          0.08419460658711336,
          1.2072287151035508,
          1.9355081654923072,
          -0.6280104709091505,
          -0.11194954662160747,
          -0.46415689977609864,
          0.3291395359396691,
          0.14336269881245645,
          -0.7973487302419948,
          1.0136391070213626,
          0.3224826399220911,
          -0.5610315946764224,
          -1.6376822225509424,
          1.5133491313233511,
          0.6252725756740378,
          0.5218653597362931,
          0.2630145983301274,
          -0.6226571769603287,
          -0.47641810789885125,
          -0.7063513142606132,
          0.32684887117824307,
          0.25245635094777025,
          -0.8921088220372825,
          0.7720682190244831,
          0.7238641471940175,
          0.645126076541708,
          0.4224070507208162,
          0.3990528172515247,
          -0.19255958104133045,
          -0.16973807979033237,
          -1.0196829077704666,
          -0.3561857988413979,
          -0.7547498424893713,
          1.756962952184945,
          0.15851227706927512,
          -1.0982456629275492,
          0.6028423362735791,
          -1.2172834983904086,
          0.3151964776503683,
          -1.2224736248236194,
          -0.7734229575896733,
          0.15439661925788561,
          0.7886502050544204,
          -0.054443877521405636,
          -1.0636641048785411,
          -1.5786802485725135,
          0.24813035938868763,
          0.13326047954542491,
          0.07900652650890297,
          -1.943265097469249,
          0.709653153466894,
          -0.8004575677107629,
          -0.30651500422656586,
          -0.034793194861766734,
          1.1239760186483012,
          1.9534360839432174,
          0.5855191473663935,
          -0.259033322409612,
          -0.721568816715617,
          0.4048799040916817,
          0.11292732199272669,
          -1.1339821084354054,
          1.608866407723626,
          0.3501736145293892,
          -0.0486340739793143,
          -1.4939842393253115,
          0.33891543148322023,
          -0.14837108037915506,
          1.1431096103520344,
          1.2732128325788084,
          1.6707652434185216,
          -2.034802087108342,
          2.0454869644421496,
          1.928114298449317,
          0.2810486247432109,
          -0.4763850985641512,
          1.0107331745913726,
          0.7183992254469621,
          1.3199201637244298,
          0.19377943979431222,
          1.9858006393975318,
          1.7289541996275624,
          0.6000972414545752
         ],
         "yaxis": "y4"
        },
        {
         "line": {
          "color": "rgba(128, 128, 128, 1.0)",
          "dash": "solid",
          "shape": "linear",
          "width": 1.3
         },
         "marker": {
          "size": 2,
          "symbol": "circle"
         },
         "mode": "markers",
         "name": "B",
         "text": "",
         "type": "scatter",
         "x": [
          -0.4109093102308704,
          -0.6680817820818279,
          0.05775923832079972,
          -0.6514336458680554,
          0.1879160682510293,
          -1.5293464668323662,
          -0.7035269259572434,
          0.023874540007682573,
          -1.2420547200599625,
          -0.8913683621133949,
          -0.6031304983078408,
          -0.8971715581521588,
          -0.29873531501808204,
          -0.28277215845111825,
          -1.4601949181242078,
          1.163711752718257,
          -0.7985458453409878,
          0.08419460658711336,
          1.2072287151035508,
          1.9355081654923072,
          -0.6280104709091505,
          -0.11194954662160747,
          -0.46415689977609864,
          0.3291395359396691,
          0.14336269881245645,
          -0.7973487302419948,
          1.0136391070213626,
          0.3224826399220911,
          -0.5610315946764224,
          -1.6376822225509424,
          1.5133491313233511,
          0.6252725756740378,
          0.5218653597362931,
          0.2630145983301274,
          -0.6226571769603287,
          -0.47641810789885125,
          -0.7063513142606132,
          0.32684887117824307,
          0.25245635094777025,
          -0.8921088220372825,
          0.7720682190244831,
          0.7238641471940175,
          0.645126076541708,
          0.4224070507208162,
          0.3990528172515247,
          -0.19255958104133045,
          -0.16973807979033237,
          -1.0196829077704666,
          -0.3561857988413979,
          -0.7547498424893713,
          1.756962952184945,
          0.15851227706927512,
          -1.0982456629275492,
          0.6028423362735791,
          -1.2172834983904086,
          0.3151964776503683,
          -1.2224736248236194,
          -0.7734229575896733,
          0.15439661925788561,
          0.7886502050544204,
          -0.054443877521405636,
          -1.0636641048785411,
          -1.5786802485725135,
          0.24813035938868763,
          0.13326047954542491,
          0.07900652650890297,
          -1.943265097469249,
          0.709653153466894,
          -0.8004575677107629,
          -0.30651500422656586,
          -0.034793194861766734,
          1.1239760186483012,
          1.9534360839432174,
          0.5855191473663935,
          -0.259033322409612,
          -0.721568816715617,
          0.4048799040916817,
          0.11292732199272669,
          -1.1339821084354054,
          1.608866407723626,
          0.3501736145293892,
          -0.0486340739793143,
          -1.4939842393253115,
          0.33891543148322023,
          -0.14837108037915506,
          1.1431096103520344,
          1.2732128325788084,
          1.6707652434185216,
          -2.034802087108342,
          2.0454869644421496,
          1.928114298449317,
          0.2810486247432109,
          -0.4763850985641512,
          1.0107331745913726,
          0.7183992254469621,
          1.3199201637244298,
          0.19377943979431222,
          1.9858006393975318,
          1.7289541996275624,
          0.6000972414545752
         ],
         "xaxis": "x5",
         "y": [
          0.10816164100433416,
          -0.3786534181130173,
          1.5976396520152203,
          0.1032715254968819,
          -1.0523808578431146,
          -1.3088111247109417,
          -0.33138160694857144,
          0.37586959252393326,
          -1.4329191920134556,
          -1.4057862776414278,
          -0.958400047246091,
          0.29084537770773083,
          0.9935937445178882,
          0.04105070648099821,
          0.5408640784206419,
          -0.9264630427696732,
          1.4446133920139053,
          0.7294940924538716,
          -0.4350365321345761,
          -0.1325933169696886,
          -1.014905041321066,
          0.7142426252203482,
          -0.12624792117550834,
          -0.20886899913259685,
          -0.046122503270438174,
          1.0930917336122041,
          -1.9021098919909627,
          2.1923805539824883,
          -0.35159360601604234,
          -0.7840171652005669,
          0.8013260813444979,
          1.6926231238423597,
          -1.8736638856094856,
          0.9707936279502669,
          -0.8946838001113273,
          0.33970862607059893,
          -0.5793816991296611,
          -0.0878888415438686,
          0.5123180202062559,
          -0.3354586266014048,
          -0.3056932331079285,
          1.3570012723760245,
          0.6501788955149052,
          -1.0229202856165147,
          0.6832670623300489,
          0.2169408672987547,
          -1.5775271330361818,
          -1.1246690529362395,
          0.3921142234135686,
          -0.06959219198977895,
          -0.019901343076002487,
          -0.9668266661131473,
          -0.21099683075611467,
          0.0016865579778136469,
          -1.0802687843471324,
          -1.380237864945273,
          -0.8039152050946438,
          0.6777652747804674,
          -1.7942162924799367,
          0.1874497630076612,
          0.21428526335199233,
          -1.6590885500531578,
          1.2292836165571877,
          -0.6313361485055891,
          0.20526898451701303,
          0.3019628958045808,
          1.2893815216553828,
          -1.8503476945459718,
          -1.1624137925900286,
          1.631894818283364,
          0.9137215970033604,
          0.42810273476173266,
          0.8383367822100516,
          0.03283408639287403,
          -0.6946136149052397,
          -0.08070742997934244,
          0.9486270898985858,
          -0.48974504059853097,
          0.7877660225946301,
          0.18205642024037574,
          -0.6270525171109232,
          -0.17486983897035135,
          -0.2569599069188726,
          0.4022673291283338,
          0.8893958001444761,
          0.7051969265018811,
          -0.2024575094870895,
          0.30361544203123086,
          -1.0690070760292605,
          0.4953857590622099,
          0.19672688600027186,
          -0.17632377424528928,
          -0.23475071514999798,
          0.997698475693314,
          -1.1669540486953198,
          -0.052800403148813194,
          0.1882279243514494,
          -0.7566964384387022,
          -0.5873806894237157,
          -1.0723913490493764
         ],
         "yaxis": "y5"
        },
        {
         "histfunc": "count",
         "histnorm": "",
         "marker": {
          "color": "rgba(55, 128, 191, 1.0)",
          "line": {
           "color": "#4D5663",
           "width": 1.3
          }
         },
         "name": "B",
         "nbinsx": 10,
         "opacity": 0.8,
         "orientation": "v",
         "type": "histogram",
         "x": [
          0.10816164100433416,
          -0.3786534181130173,
          1.5976396520152203,
          0.1032715254968819,
          -1.0523808578431146,
          -1.3088111247109417,
          -0.33138160694857144,
          0.37586959252393326,
          -1.4329191920134556,
          -1.4057862776414278,
          -0.958400047246091,
          0.29084537770773083,
          0.9935937445178882,
          0.04105070648099821,
          0.5408640784206419,
          -0.9264630427696732,
          1.4446133920139053,
          0.7294940924538716,
          -0.4350365321345761,
          -0.1325933169696886,
          -1.014905041321066,
          0.7142426252203482,
          -0.12624792117550834,
          -0.20886899913259685,
          -0.046122503270438174,
          1.0930917336122041,
          -1.9021098919909627,
          2.1923805539824883,
          -0.35159360601604234,
          -0.7840171652005669,
          0.8013260813444979,
          1.6926231238423597,
          -1.8736638856094856,
          0.9707936279502669,
          -0.8946838001113273,
          0.33970862607059893,
          -0.5793816991296611,
          -0.0878888415438686,
          0.5123180202062559,
          -0.3354586266014048,
          -0.3056932331079285,
          1.3570012723760245,
          0.6501788955149052,
          -1.0229202856165147,
          0.6832670623300489,
          0.2169408672987547,
          -1.5775271330361818,
          -1.1246690529362395,
          0.3921142234135686,
          -0.06959219198977895,
          -0.019901343076002487,
          -0.9668266661131473,
          -0.21099683075611467,
          0.0016865579778136469,
          -1.0802687843471324,
          -1.380237864945273,
          -0.8039152050946438,
          0.6777652747804674,
          -1.7942162924799367,
          0.1874497630076612,
          0.21428526335199233,
          -1.6590885500531578,
          1.2292836165571877,
          -0.6313361485055891,
          0.20526898451701303,
          0.3019628958045808,
          1.2893815216553828,
          -1.8503476945459718,
          -1.1624137925900286,
          1.631894818283364,
          0.9137215970033604,
          0.42810273476173266,
          0.8383367822100516,
          0.03283408639287403,
          -0.6946136149052397,
          -0.08070742997934244,
          0.9486270898985858,
          -0.48974504059853097,
          0.7877660225946301,
          0.18205642024037574,
          -0.6270525171109232,
          -0.17486983897035135,
          -0.2569599069188726,
          0.4022673291283338,
          0.8893958001444761,
          0.7051969265018811,
          -0.2024575094870895,
          0.30361544203123086,
          -1.0690070760292605,
          0.4953857590622099,
          0.19672688600027186,
          -0.17632377424528928,
          -0.23475071514999798,
          0.997698475693314,
          -1.1669540486953198,
          -0.052800403148813194,
          0.1882279243514494,
          -0.7566964384387022,
          -0.5873806894237157,
          -1.0723913490493764
         ],
         "xaxis": "x6",
         "yaxis": "y6"
        },
        {
         "line": {
          "color": "rgba(128, 128, 128, 1.0)",
          "dash": "solid",
          "shape": "linear",
          "width": 1.3
         },
         "marker": {
          "size": 2,
          "symbol": "circle"
         },
         "mode": "markers",
         "name": "B",
         "text": "",
         "type": "scatter",
         "x": [
          0.6292199526679915,
          0.2929975958833482,
          -0.04399087398141044,
          1.8565600602641612,
          -1.2750659235998933,
          -1.049310108114289,
          1.9150270383061618,
          1.2508697290216244,
          -0.5254373553532199,
          -1.1019207468324796,
          -0.4329980546454029,
          1.5572239614417513,
          -1.3055844181806395,
          -0.4122575973258354,
          -0.059880586166883694,
          -0.47306812677550375,
          1.0024038262962716,
          -0.2432530029414284,
          -0.2951196417216509,
          1.6108749570387297,
          -1.5277743237948516,
          0.24462827579148685,
          -0.6665963461968138,
          0.09551308916636889,
          -0.09167893838598215,
          -1.7815453817378082,
          -0.1521106133048684,
          1.9074572705422066,
          0.4592082613846467,
          0.7013091669194846,
          -0.8686089844179359,
          -0.4606390682252071,
          -0.41777249430301205,
          -0.4468941776179165,
          0.7094928970608115,
          -1.8603953409392233,
          0.6259187872531098,
          -1.6286731061977948,
          2.8201400374716687,
          -0.35503682144368226,
          -0.6396143178399654,
          -0.9654900282468604,
          -0.7210403553227229,
          -0.6778528111808548,
          -0.8847323338846561,
          -0.9563799305227523,
          1.3186129140745864,
          -1.0833389277669125,
          0.7146015938507903,
          -0.31692372500085386,
          0.5854408697615356,
          1.2266989977152263,
          -1.0876940047938335,
          -0.9545415176685021,
          0.4763777966834708,
          -0.028328147521990005,
          -0.9197802043519457,
          0.13369488535274207,
          -0.4346147152741386,
          -0.09219737012285296,
          -0.7442747895254129,
          -0.7800885356867993,
          -0.864528126951913,
          0.6156847853724774,
          0.6350478989525027,
          1.1944567500749472,
          0.09291026971232177,
          0.7978863435209216,
          0.717641604863803,
          0.3854021360752175,
          0.3871364856255502,
          1.0392309824169004,
          1.549422603605397,
          -0.9488235117675193,
          -0.10664617217844946,
          1.1281754295273083,
          1.532435448350468,
          0.8819094595511779,
          0.1588660200001338,
          -0.5538468056190365,
          -0.37835010238664146,
          0.8956307051416974,
          0.19210774446947973,
          0.3834669957770598,
          -0.002075523221641867,
          0.27647527640105485,
          -0.8078457966107676,
          -0.625341205482638,
          -0.83781920073781,
          0.0560368705472754,
          0.1432941566584118,
          -0.6215519009327086,
          -1.0108129007264421,
          0.003988253626526684,
          0.2757826690179561,
          -1.037282373787344,
          0.34299228025201184,
          -0.6033296064640993,
          1.6771847452732258,
          0.44518449248506753
         ],
         "xaxis": "x7",
         "y": [
          0.10816164100433416,
          -0.3786534181130173,
          1.5976396520152203,
          0.1032715254968819,
          -1.0523808578431146,
          -1.3088111247109417,
          -0.33138160694857144,
          0.37586959252393326,
          -1.4329191920134556,
          -1.4057862776414278,
          -0.958400047246091,
          0.29084537770773083,
          0.9935937445178882,
          0.04105070648099821,
          0.5408640784206419,
          -0.9264630427696732,
          1.4446133920139053,
          0.7294940924538716,
          -0.4350365321345761,
          -0.1325933169696886,
          -1.014905041321066,
          0.7142426252203482,
          -0.12624792117550834,
          -0.20886899913259685,
          -0.046122503270438174,
          1.0930917336122041,
          -1.9021098919909627,
          2.1923805539824883,
          -0.35159360601604234,
          -0.7840171652005669,
          0.8013260813444979,
          1.6926231238423597,
          -1.8736638856094856,
          0.9707936279502669,
          -0.8946838001113273,
          0.33970862607059893,
          -0.5793816991296611,
          -0.0878888415438686,
          0.5123180202062559,
          -0.3354586266014048,
          -0.3056932331079285,
          1.3570012723760245,
          0.6501788955149052,
          -1.0229202856165147,
          0.6832670623300489,
          0.2169408672987547,
          -1.5775271330361818,
          -1.1246690529362395,
          0.3921142234135686,
          -0.06959219198977895,
          -0.019901343076002487,
          -0.9668266661131473,
          -0.21099683075611467,
          0.0016865579778136469,
          -1.0802687843471324,
          -1.380237864945273,
          -0.8039152050946438,
          0.6777652747804674,
          -1.7942162924799367,
          0.1874497630076612,
          0.21428526335199233,
          -1.6590885500531578,
          1.2292836165571877,
          -0.6313361485055891,
          0.20526898451701303,
          0.3019628958045808,
          1.2893815216553828,
          -1.8503476945459718,
          -1.1624137925900286,
          1.631894818283364,
          0.9137215970033604,
          0.42810273476173266,
          0.8383367822100516,
          0.03283408639287403,
          -0.6946136149052397,
          -0.08070742997934244,
          0.9486270898985858,
          -0.48974504059853097,
          0.7877660225946301,
          0.18205642024037574,
          -0.6270525171109232,
          -0.17486983897035135,
          -0.2569599069188726,
          0.4022673291283338,
          0.8893958001444761,
          0.7051969265018811,
          -0.2024575094870895,
          0.30361544203123086,
          -1.0690070760292605,
          0.4953857590622099,
          0.19672688600027186,
          -0.17632377424528928,
          -0.23475071514999798,
          0.997698475693314,
          -1.1669540486953198,
          -0.052800403148813194,
          0.1882279243514494,
          -0.7566964384387022,
          -0.5873806894237157,
          -1.0723913490493764
         ],
         "yaxis": "y7"
        },
        {
         "line": {
          "color": "rgba(128, 128, 128, 1.0)",
          "dash": "solid",
          "shape": "linear",
          "width": 1.3
         },
         "marker": {
          "size": 2,
          "symbol": "circle"
         },
         "mode": "markers",
         "name": "B",
         "text": "",
         "type": "scatter",
         "x": [
          -0.2773990390535875,
          -0.9181041820757111,
          -0.41695629787385136,
          0.3827797226044483,
          -1.7529933819530048,
          -0.7319625831080484,
          1.4867018549006927,
          1.4055835724351409,
          -0.8797716270422287,
          -0.596827049706759,
          0.8340313907663897,
          -0.04131531686530541,
          0.2599453428632096,
          -0.35726414646242105,
          1.2361542295277679,
          1.3454372740488802,
          -1.155284847160972,
          0.11560833073118736,
          1.0558476438294202,
          -0.09164539514816725,
          -0.07911103570471797,
          1.1298889292742882,
          1.0352534697805038,
          -0.5858686004334468,
          0.14702066966153676,
          0.7605378490231398,
          -0.2552446105455089,
          -2.531500870988131,
          -0.8151349614877484,
          -0.2015920797760861,
          -0.6773298355951781,
          -1.3697672350745784,
          0.09724331004694353,
          1.7011717963836774,
          -0.030937274832516556,
          0.5124910062389977,
          -0.45372901552669687,
          1.4482513486968667,
          1.9864055381472516,
          0.47522855192344204,
          0.4711856833597885,
          -1.8754888555936464,
          -2.1016106118736566,
          0.2693124651984568,
          0.45905685517626954,
          -0.40013306632258494,
          -1.1029866317352701,
          -0.8791067595006858,
          1.125635571527008,
          -2.3090732309185467,
          -0.8671350211320249,
          -1.342651525726852,
          0.022234185168456856,
          0.20139942607211828,
          -0.47147121341422843,
          0.504291600657643,
          -0.9166485195474732,
          0.6108027432860413,
          0.2046306319276693,
          -0.6785135228570527,
          -1.07186737499892,
          -1.1518117084162274,
          -1.1436522440035626,
          -0.9993470396308715,
          -0.12937160832678654,
          -1.178372039958786,
          0.19379575597871537,
          -0.9662038361824906,
          -0.437705018982611,
          -0.4323631505102849,
          0.248041241346058,
          0.2086791810129593,
          0.5929908589326623,
          -0.8536784616145044,
          -1.533101667308894,
          0.2424214860866842,
          0.9891233030383795,
          -0.4729289590102262,
          -0.014199955982915258,
          -2.5391709558181286,
          1.0268442751763005,
          0.045259851007036715,
          -0.9384052331484877,
          -0.2879938722489163,
          -0.9855361670308552,
          -0.637514850487326,
          1.0132347629902343,
          -1.0409569892865955,
          -0.12075479236245626,
          -0.677539436649919,
          -0.7277110810439337,
          0.2694823710565056,
          0.06787476222041963,
          0.5257354912022104,
          -0.9570659202256759,
          -0.5281540085218507,
          -1.0549750869942036,
          -0.018657045318151287,
          0.68417135330098,
          -0.8579511401360297
         ],
         "xaxis": "x8",
         "y": [
          0.10816164100433416,
          -0.3786534181130173,
          1.5976396520152203,
          0.1032715254968819,
          -1.0523808578431146,
          -1.3088111247109417,
          -0.33138160694857144,
          0.37586959252393326,
          -1.4329191920134556,
          -1.4057862776414278,
          -0.958400047246091,
          0.29084537770773083,
          0.9935937445178882,
          0.04105070648099821,
          0.5408640784206419,
          -0.9264630427696732,
          1.4446133920139053,
          0.7294940924538716,
          -0.4350365321345761,
          -0.1325933169696886,
          -1.014905041321066,
          0.7142426252203482,
          -0.12624792117550834,
          -0.20886899913259685,
          -0.046122503270438174,
          1.0930917336122041,
          -1.9021098919909627,
          2.1923805539824883,
          -0.35159360601604234,
          -0.7840171652005669,
          0.8013260813444979,
          1.6926231238423597,
          -1.8736638856094856,
          0.9707936279502669,
          -0.8946838001113273,
          0.33970862607059893,
          -0.5793816991296611,
          -0.0878888415438686,
          0.5123180202062559,
          -0.3354586266014048,
          -0.3056932331079285,
          1.3570012723760245,
          0.6501788955149052,
          -1.0229202856165147,
          0.6832670623300489,
          0.2169408672987547,
          -1.5775271330361818,
          -1.1246690529362395,
          0.3921142234135686,
          -0.06959219198977895,
          -0.019901343076002487,
          -0.9668266661131473,
          -0.21099683075611467,
          0.0016865579778136469,
          -1.0802687843471324,
          -1.380237864945273,
          -0.8039152050946438,
          0.6777652747804674,
          -1.7942162924799367,
          0.1874497630076612,
          0.21428526335199233,
          -1.6590885500531578,
          1.2292836165571877,
          -0.6313361485055891,
          0.20526898451701303,
          0.3019628958045808,
          1.2893815216553828,
          -1.8503476945459718,
          -1.1624137925900286,
          1.631894818283364,
          0.9137215970033604,
          0.42810273476173266,
          0.8383367822100516,
          0.03283408639287403,
          -0.6946136149052397,
          -0.08070742997934244,
          0.9486270898985858,
          -0.48974504059853097,
          0.7877660225946301,
          0.18205642024037574,
          -0.6270525171109232,
          -0.17486983897035135,
          -0.2569599069188726,
          0.4022673291283338,
          0.8893958001444761,
          0.7051969265018811,
          -0.2024575094870895,
          0.30361544203123086,
          -1.0690070760292605,
          0.4953857590622099,
          0.19672688600027186,
          -0.17632377424528928,
          -0.23475071514999798,
          0.997698475693314,
          -1.1669540486953198,
          -0.052800403148813194,
          0.1882279243514494,
          -0.7566964384387022,
          -0.5873806894237157,
          -1.0723913490493764
         ],
         "yaxis": "y8"
        },
        {
         "line": {
          "color": "rgba(128, 128, 128, 1.0)",
          "dash": "solid",
          "shape": "linear",
          "width": 1.3
         },
         "marker": {
          "size": 2,
          "symbol": "circle"
         },
         "mode": "markers",
         "name": "C",
         "text": "",
         "type": "scatter",
         "x": [
          -0.4109093102308704,
          -0.6680817820818279,
          0.05775923832079972,
          -0.6514336458680554,
          0.1879160682510293,
          -1.5293464668323662,
          -0.7035269259572434,
          0.023874540007682573,
          -1.2420547200599625,
          -0.8913683621133949,
          -0.6031304983078408,
          -0.8971715581521588,
          -0.29873531501808204,
          -0.28277215845111825,
          -1.4601949181242078,
          1.163711752718257,
          -0.7985458453409878,
          0.08419460658711336,
          1.2072287151035508,
          1.9355081654923072,
          -0.6280104709091505,
          -0.11194954662160747,
          -0.46415689977609864,
          0.3291395359396691,
          0.14336269881245645,
          -0.7973487302419948,
          1.0136391070213626,
          0.3224826399220911,
          -0.5610315946764224,
          -1.6376822225509424,
          1.5133491313233511,
          0.6252725756740378,
          0.5218653597362931,
          0.2630145983301274,
          -0.6226571769603287,
          -0.47641810789885125,
          -0.7063513142606132,
          0.32684887117824307,
          0.25245635094777025,
          -0.8921088220372825,
          0.7720682190244831,
          0.7238641471940175,
          0.645126076541708,
          0.4224070507208162,
          0.3990528172515247,
          -0.19255958104133045,
          -0.16973807979033237,
          -1.0196829077704666,
          -0.3561857988413979,
          -0.7547498424893713,
          1.756962952184945,
          0.15851227706927512,
          -1.0982456629275492,
          0.6028423362735791,
          -1.2172834983904086,
          0.3151964776503683,
          -1.2224736248236194,
          -0.7734229575896733,
          0.15439661925788561,
          0.7886502050544204,
          -0.054443877521405636,
          -1.0636641048785411,
          -1.5786802485725135,
          0.24813035938868763,
          0.13326047954542491,
          0.07900652650890297,
          -1.943265097469249,
          0.709653153466894,
          -0.8004575677107629,
          -0.30651500422656586,
          -0.034793194861766734,
          1.1239760186483012,
          1.9534360839432174,
          0.5855191473663935,
          -0.259033322409612,
          -0.721568816715617,
          0.4048799040916817,
          0.11292732199272669,
          -1.1339821084354054,
          1.608866407723626,
          0.3501736145293892,
          -0.0486340739793143,
          -1.4939842393253115,
          0.33891543148322023,
          -0.14837108037915506,
          1.1431096103520344,
          1.2732128325788084,
          1.6707652434185216,
          -2.034802087108342,
          2.0454869644421496,
          1.928114298449317,
          0.2810486247432109,
          -0.4763850985641512,
          1.0107331745913726,
          0.7183992254469621,
          1.3199201637244298,
          0.19377943979431222,
          1.9858006393975318,
          1.7289541996275624,
          0.6000972414545752
         ],
         "xaxis": "x9",
         "y": [
          0.6292199526679915,
          0.2929975958833482,
          -0.04399087398141044,
          1.8565600602641612,
          -1.2750659235998933,
          -1.049310108114289,
          1.9150270383061618,
          1.2508697290216244,
          -0.5254373553532199,
          -1.1019207468324796,
          -0.4329980546454029,
          1.5572239614417513,
          -1.3055844181806395,
          -0.4122575973258354,
          -0.059880586166883694,
          -0.47306812677550375,
          1.0024038262962716,
          -0.2432530029414284,
          -0.2951196417216509,
          1.6108749570387297,
          -1.5277743237948516,
          0.24462827579148685,
          -0.6665963461968138,
          0.09551308916636889,
          -0.09167893838598215,
          -1.7815453817378082,
          -0.1521106133048684,
          1.9074572705422066,
          0.4592082613846467,
          0.7013091669194846,
          -0.8686089844179359,
          -0.4606390682252071,
          -0.41777249430301205,
          -0.4468941776179165,
          0.7094928970608115,
          -1.8603953409392233,
          0.6259187872531098,
          -1.6286731061977948,
          2.8201400374716687,
          -0.35503682144368226,
          -0.6396143178399654,
          -0.9654900282468604,
          -0.7210403553227229,
          -0.6778528111808548,
          -0.8847323338846561,
          -0.9563799305227523,
          1.3186129140745864,
          -1.0833389277669125,
          0.7146015938507903,
          -0.31692372500085386,
          0.5854408697615356,
          1.2266989977152263,
          -1.0876940047938335,
          -0.9545415176685021,
          0.4763777966834708,
          -0.028328147521990005,
          -0.9197802043519457,
          0.13369488535274207,
          -0.4346147152741386,
          -0.09219737012285296,
          -0.7442747895254129,
          -0.7800885356867993,
          -0.864528126951913,
          0.6156847853724774,
          0.6350478989525027,
          1.1944567500749472,
          0.09291026971232177,
          0.7978863435209216,
          0.717641604863803,
          0.3854021360752175,
          0.3871364856255502,
          1.0392309824169004,
          1.549422603605397,
          -0.9488235117675193,
          -0.10664617217844946,
          1.1281754295273083,
          1.532435448350468,
          0.8819094595511779,
          0.1588660200001338,
          -0.5538468056190365,
          -0.37835010238664146,
          0.8956307051416974,
          0.19210774446947973,
          0.3834669957770598,
          -0.002075523221641867,
          0.27647527640105485,
          -0.8078457966107676,
          -0.625341205482638,
          -0.83781920073781,
          0.0560368705472754,
          0.1432941566584118,
          -0.6215519009327086,
          -1.0108129007264421,
          0.003988253626526684,
          0.2757826690179561,
          -1.037282373787344,
          0.34299228025201184,
          -0.6033296064640993,
          1.6771847452732258,
          0.44518449248506753
         ],
         "yaxis": "y9"
        },
        {
         "line": {
          "color": "rgba(128, 128, 128, 1.0)",
          "dash": "solid",
          "shape": "linear",
          "width": 1.3
         },
         "marker": {
          "size": 2,
          "symbol": "circle"
         },
         "mode": "markers",
         "name": "C",
         "text": "",
         "type": "scatter",
         "x": [
          0.10816164100433416,
          -0.3786534181130173,
          1.5976396520152203,
          0.1032715254968819,
          -1.0523808578431146,
          -1.3088111247109417,
          -0.33138160694857144,
          0.37586959252393326,
          -1.4329191920134556,
          -1.4057862776414278,
          -0.958400047246091,
          0.29084537770773083,
          0.9935937445178882,
          0.04105070648099821,
          0.5408640784206419,
          -0.9264630427696732,
          1.4446133920139053,
          0.7294940924538716,
          -0.4350365321345761,
          -0.1325933169696886,
          -1.014905041321066,
          0.7142426252203482,
          -0.12624792117550834,
          -0.20886899913259685,
          -0.046122503270438174,
          1.0930917336122041,
          -1.9021098919909627,
          2.1923805539824883,
          -0.35159360601604234,
          -0.7840171652005669,
          0.8013260813444979,
          1.6926231238423597,
          -1.8736638856094856,
          0.9707936279502669,
          -0.8946838001113273,
          0.33970862607059893,
          -0.5793816991296611,
          -0.0878888415438686,
          0.5123180202062559,
          -0.3354586266014048,
          -0.3056932331079285,
          1.3570012723760245,
          0.6501788955149052,
          -1.0229202856165147,
          0.6832670623300489,
          0.2169408672987547,
          -1.5775271330361818,
          -1.1246690529362395,
          0.3921142234135686,
          -0.06959219198977895,
          -0.019901343076002487,
          -0.9668266661131473,
          -0.21099683075611467,
          0.0016865579778136469,
          -1.0802687843471324,
          -1.380237864945273,
          -0.8039152050946438,
          0.6777652747804674,
          -1.7942162924799367,
          0.1874497630076612,
          0.21428526335199233,
          -1.6590885500531578,
          1.2292836165571877,
          -0.6313361485055891,
          0.20526898451701303,
          0.3019628958045808,
          1.2893815216553828,
          -1.8503476945459718,
          -1.1624137925900286,
          1.631894818283364,
          0.9137215970033604,
          0.42810273476173266,
          0.8383367822100516,
          0.03283408639287403,
          -0.6946136149052397,
          -0.08070742997934244,
          0.9486270898985858,
          -0.48974504059853097,
          0.7877660225946301,
          0.18205642024037574,
          -0.6270525171109232,
          -0.17486983897035135,
          -0.2569599069188726,
          0.4022673291283338,
          0.8893958001444761,
          0.7051969265018811,
          -0.2024575094870895,
          0.30361544203123086,
          -1.0690070760292605,
          0.4953857590622099,
          0.19672688600027186,
          -0.17632377424528928,
          -0.23475071514999798,
          0.997698475693314,
          -1.1669540486953198,
          -0.052800403148813194,
          0.1882279243514494,
          -0.7566964384387022,
          -0.5873806894237157,
          -1.0723913490493764
         ],
         "xaxis": "x10",
         "y": [
          0.6292199526679915,
          0.2929975958833482,
          -0.04399087398141044,
          1.8565600602641612,
          -1.2750659235998933,
          -1.049310108114289,
          1.9150270383061618,
          1.2508697290216244,
          -0.5254373553532199,
          -1.1019207468324796,
          -0.4329980546454029,
          1.5572239614417513,
          -1.3055844181806395,
          -0.4122575973258354,
          -0.059880586166883694,
          -0.47306812677550375,
          1.0024038262962716,
          -0.2432530029414284,
          -0.2951196417216509,
          1.6108749570387297,
          -1.5277743237948516,
          0.24462827579148685,
          -0.6665963461968138,
          0.09551308916636889,
          -0.09167893838598215,
          -1.7815453817378082,
          -0.1521106133048684,
          1.9074572705422066,
          0.4592082613846467,
          0.7013091669194846,
          -0.8686089844179359,
          -0.4606390682252071,
          -0.41777249430301205,
          -0.4468941776179165,
          0.7094928970608115,
          -1.8603953409392233,
          0.6259187872531098,
          -1.6286731061977948,
          2.8201400374716687,
          -0.35503682144368226,
          -0.6396143178399654,
          -0.9654900282468604,
          -0.7210403553227229,
          -0.6778528111808548,
          -0.8847323338846561,
          -0.9563799305227523,
          1.3186129140745864,
          -1.0833389277669125,
          0.7146015938507903,
          -0.31692372500085386,
          0.5854408697615356,
          1.2266989977152263,
          -1.0876940047938335,
          -0.9545415176685021,
          0.4763777966834708,
          -0.028328147521990005,
          -0.9197802043519457,
          0.13369488535274207,
          -0.4346147152741386,
          -0.09219737012285296,
          -0.7442747895254129,
          -0.7800885356867993,
          -0.864528126951913,
          0.6156847853724774,
          0.6350478989525027,
          1.1944567500749472,
          0.09291026971232177,
          0.7978863435209216,
          0.717641604863803,
          0.3854021360752175,
          0.3871364856255502,
          1.0392309824169004,
          1.549422603605397,
          -0.9488235117675193,
          -0.10664617217844946,
          1.1281754295273083,
          1.532435448350468,
          0.8819094595511779,
          0.1588660200001338,
          -0.5538468056190365,
          -0.37835010238664146,
          0.8956307051416974,
          0.19210774446947973,
          0.3834669957770598,
          -0.002075523221641867,
          0.27647527640105485,
          -0.8078457966107676,
          -0.625341205482638,
          -0.83781920073781,
          0.0560368705472754,
          0.1432941566584118,
          -0.6215519009327086,
          -1.0108129007264421,
          0.003988253626526684,
          0.2757826690179561,
          -1.037282373787344,
          0.34299228025201184,
          -0.6033296064640993,
          1.6771847452732258,
          0.44518449248506753
         ],
         "yaxis": "y10"
        },
        {
         "histfunc": "count",
         "histnorm": "",
         "marker": {
          "color": "rgba(50, 171, 96, 1.0)",
          "line": {
           "color": "#4D5663",
           "width": 1.3
          }
         },
         "name": "C",
         "nbinsx": 10,
         "opacity": 0.8,
         "orientation": "v",
         "type": "histogram",
         "x": [
          0.6292199526679915,
          0.2929975958833482,
          -0.04399087398141044,
          1.8565600602641612,
          -1.2750659235998933,
          -1.049310108114289,
          1.9150270383061618,
          1.2508697290216244,
          -0.5254373553532199,
          -1.1019207468324796,
          -0.4329980546454029,
          1.5572239614417513,
          -1.3055844181806395,
          -0.4122575973258354,
          -0.059880586166883694,
          -0.47306812677550375,
          1.0024038262962716,
          -0.2432530029414284,
          -0.2951196417216509,
          1.6108749570387297,
          -1.5277743237948516,
          0.24462827579148685,
          -0.6665963461968138,
          0.09551308916636889,
          -0.09167893838598215,
          -1.7815453817378082,
          -0.1521106133048684,
          1.9074572705422066,
          0.4592082613846467,
          0.7013091669194846,
          -0.8686089844179359,
          -0.4606390682252071,
          -0.41777249430301205,
          -0.4468941776179165,
          0.7094928970608115,
          -1.8603953409392233,
          0.6259187872531098,
          -1.6286731061977948,
          2.8201400374716687,
          -0.35503682144368226,
          -0.6396143178399654,
          -0.9654900282468604,
          -0.7210403553227229,
          -0.6778528111808548,
          -0.8847323338846561,
          -0.9563799305227523,
          1.3186129140745864,
          -1.0833389277669125,
          0.7146015938507903,
          -0.31692372500085386,
          0.5854408697615356,
          1.2266989977152263,
          -1.0876940047938335,
          -0.9545415176685021,
          0.4763777966834708,
          -0.028328147521990005,
          -0.9197802043519457,
          0.13369488535274207,
          -0.4346147152741386,
          -0.09219737012285296,
          -0.7442747895254129,
          -0.7800885356867993,
          -0.864528126951913,
          0.6156847853724774,
          0.6350478989525027,
          1.1944567500749472,
          0.09291026971232177,
          0.7978863435209216,
          0.717641604863803,
          0.3854021360752175,
          0.3871364856255502,
          1.0392309824169004,
          1.549422603605397,
          -0.9488235117675193,
          -0.10664617217844946,
          1.1281754295273083,
          1.532435448350468,
          0.8819094595511779,
          0.1588660200001338,
          -0.5538468056190365,
          -0.37835010238664146,
          0.8956307051416974,
          0.19210774446947973,
          0.3834669957770598,
          -0.002075523221641867,
          0.27647527640105485,
          -0.8078457966107676,
          -0.625341205482638,
          -0.83781920073781,
          0.0560368705472754,
          0.1432941566584118,
          -0.6215519009327086,
          -1.0108129007264421,
          0.003988253626526684,
          0.2757826690179561,
          -1.037282373787344,
          0.34299228025201184,
          -0.6033296064640993,
          1.6771847452732258,
          0.44518449248506753
         ],
         "xaxis": "x11",
         "yaxis": "y11"
        },
        {
         "line": {
          "color": "rgba(128, 128, 128, 1.0)",
          "dash": "solid",
          "shape": "linear",
          "width": 1.3
         },
         "marker": {
          "size": 2,
          "symbol": "circle"
         },
         "mode": "markers",
         "name": "C",
         "text": "",
         "type": "scatter",
         "x": [
          -0.2773990390535875,
          -0.9181041820757111,
          -0.41695629787385136,
          0.3827797226044483,
          -1.7529933819530048,
          -0.7319625831080484,
          1.4867018549006927,
          1.4055835724351409,
          -0.8797716270422287,
          -0.596827049706759,
          0.8340313907663897,
          -0.04131531686530541,
          0.2599453428632096,
          -0.35726414646242105,
          1.2361542295277679,
          1.3454372740488802,
          -1.155284847160972,
          0.11560833073118736,
          1.0558476438294202,
          -0.09164539514816725,
          -0.07911103570471797,
          1.1298889292742882,
          1.0352534697805038,
          -0.5858686004334468,
          0.14702066966153676,
          0.7605378490231398,
          -0.2552446105455089,
          -2.531500870988131,
          -0.8151349614877484,
          -0.2015920797760861,
          -0.6773298355951781,
          -1.3697672350745784,
          0.09724331004694353,
          1.7011717963836774,
          -0.030937274832516556,
          0.5124910062389977,
          -0.45372901552669687,
          1.4482513486968667,
          1.9864055381472516,
          0.47522855192344204,
          0.4711856833597885,
          -1.8754888555936464,
          -2.1016106118736566,
          0.2693124651984568,
          0.45905685517626954,
          -0.40013306632258494,
          -1.1029866317352701,
          -0.8791067595006858,
          1.125635571527008,
          -2.3090732309185467,
          -0.8671350211320249,
          -1.342651525726852,
          0.022234185168456856,
          0.20139942607211828,
          -0.47147121341422843,
          0.504291600657643,
          -0.9166485195474732,
          0.6108027432860413,
          0.2046306319276693,
          -0.6785135228570527,
          -1.07186737499892,
          -1.1518117084162274,
          -1.1436522440035626,
          -0.9993470396308715,
          -0.12937160832678654,
          -1.178372039958786,
          0.19379575597871537,
          -0.9662038361824906,
          -0.437705018982611,
          -0.4323631505102849,
          0.248041241346058,
          0.2086791810129593,
          0.5929908589326623,
          -0.8536784616145044,
          -1.533101667308894,
          0.2424214860866842,
          0.9891233030383795,
          -0.4729289590102262,
          -0.014199955982915258,
          -2.5391709558181286,
          1.0268442751763005,
          0.045259851007036715,
          -0.9384052331484877,
          -0.2879938722489163,
          -0.9855361670308552,
          -0.637514850487326,
          1.0132347629902343,
          -1.0409569892865955,
          -0.12075479236245626,
          -0.677539436649919,
          -0.7277110810439337,
          0.2694823710565056,
          0.06787476222041963,
          0.5257354912022104,
          -0.9570659202256759,
          -0.5281540085218507,
          -1.0549750869942036,
          -0.018657045318151287,
          0.68417135330098,
          -0.8579511401360297
         ],
         "xaxis": "x12",
         "y": [
          0.6292199526679915,
          0.2929975958833482,
          -0.04399087398141044,
          1.8565600602641612,
          -1.2750659235998933,
          -1.049310108114289,
          1.9150270383061618,
          1.2508697290216244,
          -0.5254373553532199,
          -1.1019207468324796,
          -0.4329980546454029,
          1.5572239614417513,
          -1.3055844181806395,
          -0.4122575973258354,
          -0.059880586166883694,
          -0.47306812677550375,
          1.0024038262962716,
          -0.2432530029414284,
          -0.2951196417216509,
          1.6108749570387297,
          -1.5277743237948516,
          0.24462827579148685,
          -0.6665963461968138,
          0.09551308916636889,
          -0.09167893838598215,
          -1.7815453817378082,
          -0.1521106133048684,
          1.9074572705422066,
          0.4592082613846467,
          0.7013091669194846,
          -0.8686089844179359,
          -0.4606390682252071,
          -0.41777249430301205,
          -0.4468941776179165,
          0.7094928970608115,
          -1.8603953409392233,
          0.6259187872531098,
          -1.6286731061977948,
          2.8201400374716687,
          -0.35503682144368226,
          -0.6396143178399654,
          -0.9654900282468604,
          -0.7210403553227229,
          -0.6778528111808548,
          -0.8847323338846561,
          -0.9563799305227523,
          1.3186129140745864,
          -1.0833389277669125,
          0.7146015938507903,
          -0.31692372500085386,
          0.5854408697615356,
          1.2266989977152263,
          -1.0876940047938335,
          -0.9545415176685021,
          0.4763777966834708,
          -0.028328147521990005,
          -0.9197802043519457,
          0.13369488535274207,
          -0.4346147152741386,
          -0.09219737012285296,
          -0.7442747895254129,
          -0.7800885356867993,
          -0.864528126951913,
          0.6156847853724774,
          0.6350478989525027,
          1.1944567500749472,
          0.09291026971232177,
          0.7978863435209216,
          0.717641604863803,
          0.3854021360752175,
          0.3871364856255502,
          1.0392309824169004,
          1.549422603605397,
          -0.9488235117675193,
          -0.10664617217844946,
          1.1281754295273083,
          1.532435448350468,
          0.8819094595511779,
          0.1588660200001338,
          -0.5538468056190365,
          -0.37835010238664146,
          0.8956307051416974,
          0.19210774446947973,
          0.3834669957770598,
          -0.002075523221641867,
          0.27647527640105485,
          -0.8078457966107676,
          -0.625341205482638,
          -0.83781920073781,
          0.0560368705472754,
          0.1432941566584118,
          -0.6215519009327086,
          -1.0108129007264421,
          0.003988253626526684,
          0.2757826690179561,
          -1.037282373787344,
          0.34299228025201184,
          -0.6033296064640993,
          1.6771847452732258,
          0.44518449248506753
         ],
         "yaxis": "y12"
        },
        {
         "line": {
          "color": "rgba(128, 128, 128, 1.0)",
          "dash": "solid",
          "shape": "linear",
          "width": 1.3
         },
         "marker": {
          "size": 2,
          "symbol": "circle"
         },
         "mode": "markers",
         "name": "D",
         "text": "",
         "type": "scatter",
         "x": [
          -0.4109093102308704,
          -0.6680817820818279,
          0.05775923832079972,
          -0.6514336458680554,
          0.1879160682510293,
          -1.5293464668323662,
          -0.7035269259572434,
          0.023874540007682573,
          -1.2420547200599625,
          -0.8913683621133949,
          -0.6031304983078408,
          -0.8971715581521588,
          -0.29873531501808204,
          -0.28277215845111825,
          -1.4601949181242078,
          1.163711752718257,
          -0.7985458453409878,
          0.08419460658711336,
          1.2072287151035508,
          1.9355081654923072,
          -0.6280104709091505,
          -0.11194954662160747,
          -0.46415689977609864,
          0.3291395359396691,
          0.14336269881245645,
          -0.7973487302419948,
          1.0136391070213626,
          0.3224826399220911,
          -0.5610315946764224,
          -1.6376822225509424,
          1.5133491313233511,
          0.6252725756740378,
          0.5218653597362931,
          0.2630145983301274,
          -0.6226571769603287,
          -0.47641810789885125,
          -0.7063513142606132,
          0.32684887117824307,
          0.25245635094777025,
          -0.8921088220372825,
          0.7720682190244831,
          0.7238641471940175,
          0.645126076541708,
          0.4224070507208162,
          0.3990528172515247,
          -0.19255958104133045,
          -0.16973807979033237,
          -1.0196829077704666,
          -0.3561857988413979,
          -0.7547498424893713,
          1.756962952184945,
          0.15851227706927512,
          -1.0982456629275492,
          0.6028423362735791,
          -1.2172834983904086,
          0.3151964776503683,
          -1.2224736248236194,
          -0.7734229575896733,
          0.15439661925788561,
          0.7886502050544204,
          -0.054443877521405636,
          -1.0636641048785411,
          -1.5786802485725135,
          0.24813035938868763,
          0.13326047954542491,
          0.07900652650890297,
          -1.943265097469249,
          0.709653153466894,
          -0.8004575677107629,
          -0.30651500422656586,
          -0.034793194861766734,
          1.1239760186483012,
          1.9534360839432174,
          0.5855191473663935,
          -0.259033322409612,
          -0.721568816715617,
          0.4048799040916817,
          0.11292732199272669,
          -1.1339821084354054,
          1.608866407723626,
          0.3501736145293892,
          -0.0486340739793143,
          -1.4939842393253115,
          0.33891543148322023,
          -0.14837108037915506,
          1.1431096103520344,
          1.2732128325788084,
          1.6707652434185216,
          -2.034802087108342,
          2.0454869644421496,
          1.928114298449317,
          0.2810486247432109,
          -0.4763850985641512,
          1.0107331745913726,
          0.7183992254469621,
          1.3199201637244298,
          0.19377943979431222,
          1.9858006393975318,
          1.7289541996275624,
          0.6000972414545752
         ],
         "xaxis": "x13",
         "y": [
          -0.2773990390535875,
          -0.9181041820757111,
          -0.41695629787385136,
          0.3827797226044483,
          -1.7529933819530048,
          -0.7319625831080484,
          1.4867018549006927,
          1.4055835724351409,
          -0.8797716270422287,
          -0.596827049706759,
          0.8340313907663897,
          -0.04131531686530541,
          0.2599453428632096,
          -0.35726414646242105,
          1.2361542295277679,
          1.3454372740488802,
          -1.155284847160972,
          0.11560833073118736,
          1.0558476438294202,
          -0.09164539514816725,
          -0.07911103570471797,
          1.1298889292742882,
          1.0352534697805038,
          -0.5858686004334468,
          0.14702066966153676,
          0.7605378490231398,
          -0.2552446105455089,
          -2.531500870988131,
          -0.8151349614877484,
          -0.2015920797760861,
          -0.6773298355951781,
          -1.3697672350745784,
          0.09724331004694353,
          1.7011717963836774,
          -0.030937274832516556,
          0.5124910062389977,
          -0.45372901552669687,
          1.4482513486968667,
          1.9864055381472516,
          0.47522855192344204,
          0.4711856833597885,
          -1.8754888555936464,
          -2.1016106118736566,
          0.2693124651984568,
          0.45905685517626954,
          -0.40013306632258494,
          -1.1029866317352701,
          -0.8791067595006858,
          1.125635571527008,
          -2.3090732309185467,
          -0.8671350211320249,
          -1.342651525726852,
          0.022234185168456856,
          0.20139942607211828,
          -0.47147121341422843,
          0.504291600657643,
          -0.9166485195474732,
          0.6108027432860413,
          0.2046306319276693,
          -0.6785135228570527,
          -1.07186737499892,
          -1.1518117084162274,
          -1.1436522440035626,
          -0.9993470396308715,
          -0.12937160832678654,
          -1.178372039958786,
          0.19379575597871537,
          -0.9662038361824906,
          -0.437705018982611,
          -0.4323631505102849,
          0.248041241346058,
          0.2086791810129593,
          0.5929908589326623,
          -0.8536784616145044,
          -1.533101667308894,
          0.2424214860866842,
          0.9891233030383795,
          -0.4729289590102262,
          -0.014199955982915258,
          -2.5391709558181286,
          1.0268442751763005,
          0.045259851007036715,
          -0.9384052331484877,
          -0.2879938722489163,
          -0.9855361670308552,
          -0.637514850487326,
          1.0132347629902343,
          -1.0409569892865955,
          -0.12075479236245626,
          -0.677539436649919,
          -0.7277110810439337,
          0.2694823710565056,
          0.06787476222041963,
          0.5257354912022104,
          -0.9570659202256759,
          -0.5281540085218507,
          -1.0549750869942036,
          -0.018657045318151287,
          0.68417135330098,
          -0.8579511401360297
         ],
         "yaxis": "y13"
        },
        {
         "line": {
          "color": "rgba(128, 128, 128, 1.0)",
          "dash": "solid",
          "shape": "linear",
          "width": 1.3
         },
         "marker": {
          "size": 2,
          "symbol": "circle"
         },
         "mode": "markers",
         "name": "D",
         "text": "",
         "type": "scatter",
         "x": [
          0.10816164100433416,
          -0.3786534181130173,
          1.5976396520152203,
          0.1032715254968819,
          -1.0523808578431146,
          -1.3088111247109417,
          -0.33138160694857144,
          0.37586959252393326,
          -1.4329191920134556,
          -1.4057862776414278,
          -0.958400047246091,
          0.29084537770773083,
          0.9935937445178882,
          0.04105070648099821,
          0.5408640784206419,
          -0.9264630427696732,
          1.4446133920139053,
          0.7294940924538716,
          -0.4350365321345761,
          -0.1325933169696886,
          -1.014905041321066,
          0.7142426252203482,
          -0.12624792117550834,
          -0.20886899913259685,
          -0.046122503270438174,
          1.0930917336122041,
          -1.9021098919909627,
          2.1923805539824883,
          -0.35159360601604234,
          -0.7840171652005669,
          0.8013260813444979,
          1.6926231238423597,
          -1.8736638856094856,
          0.9707936279502669,
          -0.8946838001113273,
          0.33970862607059893,
          -0.5793816991296611,
          -0.0878888415438686,
          0.5123180202062559,
          -0.3354586266014048,
          -0.3056932331079285,
          1.3570012723760245,
          0.6501788955149052,
          -1.0229202856165147,
          0.6832670623300489,
          0.2169408672987547,
          -1.5775271330361818,
          -1.1246690529362395,
          0.3921142234135686,
          -0.06959219198977895,
          -0.019901343076002487,
          -0.9668266661131473,
          -0.21099683075611467,
          0.0016865579778136469,
          -1.0802687843471324,
          -1.380237864945273,
          -0.8039152050946438,
          0.6777652747804674,
          -1.7942162924799367,
          0.1874497630076612,
          0.21428526335199233,
          -1.6590885500531578,
          1.2292836165571877,
          -0.6313361485055891,
          0.20526898451701303,
          0.3019628958045808,
          1.2893815216553828,
          -1.8503476945459718,
          -1.1624137925900286,
          1.631894818283364,
          0.9137215970033604,
          0.42810273476173266,
          0.8383367822100516,
          0.03283408639287403,
          -0.6946136149052397,
          -0.08070742997934244,
          0.9486270898985858,
          -0.48974504059853097,
          0.7877660225946301,
          0.18205642024037574,
          -0.6270525171109232,
          -0.17486983897035135,
          -0.2569599069188726,
          0.4022673291283338,
          0.8893958001444761,
          0.7051969265018811,
          -0.2024575094870895,
          0.30361544203123086,
          -1.0690070760292605,
          0.4953857590622099,
          0.19672688600027186,
          -0.17632377424528928,
          -0.23475071514999798,
          0.997698475693314,
          -1.1669540486953198,
          -0.052800403148813194,
          0.1882279243514494,
          -0.7566964384387022,
          -0.5873806894237157,
          -1.0723913490493764
         ],
         "xaxis": "x14",
         "y": [
          -0.2773990390535875,
          -0.9181041820757111,
          -0.41695629787385136,
          0.3827797226044483,
          -1.7529933819530048,
          -0.7319625831080484,
          1.4867018549006927,
          1.4055835724351409,
          -0.8797716270422287,
          -0.596827049706759,
          0.8340313907663897,
          -0.04131531686530541,
          0.2599453428632096,
          -0.35726414646242105,
          1.2361542295277679,
          1.3454372740488802,
          -1.155284847160972,
          0.11560833073118736,
          1.0558476438294202,
          -0.09164539514816725,
          -0.07911103570471797,
          1.1298889292742882,
          1.0352534697805038,
          -0.5858686004334468,
          0.14702066966153676,
          0.7605378490231398,
          -0.2552446105455089,
          -2.531500870988131,
          -0.8151349614877484,
          -0.2015920797760861,
          -0.6773298355951781,
          -1.3697672350745784,
          0.09724331004694353,
          1.7011717963836774,
          -0.030937274832516556,
          0.5124910062389977,
          -0.45372901552669687,
          1.4482513486968667,
          1.9864055381472516,
          0.47522855192344204,
          0.4711856833597885,
          -1.8754888555936464,
          -2.1016106118736566,
          0.2693124651984568,
          0.45905685517626954,
          -0.40013306632258494,
          -1.1029866317352701,
          -0.8791067595006858,
          1.125635571527008,
          -2.3090732309185467,
          -0.8671350211320249,
          -1.342651525726852,
          0.022234185168456856,
          0.20139942607211828,
          -0.47147121341422843,
          0.504291600657643,
          -0.9166485195474732,
          0.6108027432860413,
          0.2046306319276693,
          -0.6785135228570527,
          -1.07186737499892,
          -1.1518117084162274,
          -1.1436522440035626,
          -0.9993470396308715,
          -0.12937160832678654,
          -1.178372039958786,
          0.19379575597871537,
          -0.9662038361824906,
          -0.437705018982611,
          -0.4323631505102849,
          0.248041241346058,
          0.2086791810129593,
          0.5929908589326623,
          -0.8536784616145044,
          -1.533101667308894,
          0.2424214860866842,
          0.9891233030383795,
          -0.4729289590102262,
          -0.014199955982915258,
          -2.5391709558181286,
          1.0268442751763005,
          0.045259851007036715,
          -0.9384052331484877,
          -0.2879938722489163,
          -0.9855361670308552,
          -0.637514850487326,
          1.0132347629902343,
          -1.0409569892865955,
          -0.12075479236245626,
          -0.677539436649919,
          -0.7277110810439337,
          0.2694823710565056,
          0.06787476222041963,
          0.5257354912022104,
          -0.9570659202256759,
          -0.5281540085218507,
          -1.0549750869942036,
          -0.018657045318151287,
          0.68417135330098,
          -0.8579511401360297
         ],
         "yaxis": "y14"
        },
        {
         "line": {
          "color": "rgba(128, 128, 128, 1.0)",
          "dash": "solid",
          "shape": "linear",
          "width": 1.3
         },
         "marker": {
          "size": 2,
          "symbol": "circle"
         },
         "mode": "markers",
         "name": "D",
         "text": "",
         "type": "scatter",
         "x": [
          0.6292199526679915,
          0.2929975958833482,
          -0.04399087398141044,
          1.8565600602641612,
          -1.2750659235998933,
          -1.049310108114289,
          1.9150270383061618,
          1.2508697290216244,
          -0.5254373553532199,
          -1.1019207468324796,
          -0.4329980546454029,
          1.5572239614417513,
          -1.3055844181806395,
          -0.4122575973258354,
          -0.059880586166883694,
          -0.47306812677550375,
          1.0024038262962716,
          -0.2432530029414284,
          -0.2951196417216509,
          1.6108749570387297,
          -1.5277743237948516,
          0.24462827579148685,
          -0.6665963461968138,
          0.09551308916636889,
          -0.09167893838598215,
          -1.7815453817378082,
          -0.1521106133048684,
          1.9074572705422066,
          0.4592082613846467,
          0.7013091669194846,
          -0.8686089844179359,
          -0.4606390682252071,
          -0.41777249430301205,
          -0.4468941776179165,
          0.7094928970608115,
          -1.8603953409392233,
          0.6259187872531098,
          -1.6286731061977948,
          2.8201400374716687,
          -0.35503682144368226,
          -0.6396143178399654,
          -0.9654900282468604,
          -0.7210403553227229,
          -0.6778528111808548,
          -0.8847323338846561,
          -0.9563799305227523,
          1.3186129140745864,
          -1.0833389277669125,
          0.7146015938507903,
          -0.31692372500085386,
          0.5854408697615356,
          1.2266989977152263,
          -1.0876940047938335,
          -0.9545415176685021,
          0.4763777966834708,
          -0.028328147521990005,
          -0.9197802043519457,
          0.13369488535274207,
          -0.4346147152741386,
          -0.09219737012285296,
          -0.7442747895254129,
          -0.7800885356867993,
          -0.864528126951913,
          0.6156847853724774,
          0.6350478989525027,
          1.1944567500749472,
          0.09291026971232177,
          0.7978863435209216,
          0.717641604863803,
          0.3854021360752175,
          0.3871364856255502,
          1.0392309824169004,
          1.549422603605397,
          -0.9488235117675193,
          -0.10664617217844946,
          1.1281754295273083,
          1.532435448350468,
          0.8819094595511779,
          0.1588660200001338,
          -0.5538468056190365,
          -0.37835010238664146,
          0.8956307051416974,
          0.19210774446947973,
          0.3834669957770598,
          -0.002075523221641867,
          0.27647527640105485,
          -0.8078457966107676,
          -0.625341205482638,
          -0.83781920073781,
          0.0560368705472754,
          0.1432941566584118,
          -0.6215519009327086,
          -1.0108129007264421,
          0.003988253626526684,
          0.2757826690179561,
          -1.037282373787344,
          0.34299228025201184,
          -0.6033296064640993,
          1.6771847452732258,
          0.44518449248506753
         ],
         "xaxis": "x15",
         "y": [
          -0.2773990390535875,
          -0.9181041820757111,
          -0.41695629787385136,
          0.3827797226044483,
          -1.7529933819530048,
          -0.7319625831080484,
          1.4867018549006927,
          1.4055835724351409,
          -0.8797716270422287,
          -0.596827049706759,
          0.8340313907663897,
          -0.04131531686530541,
          0.2599453428632096,
          -0.35726414646242105,
          1.2361542295277679,
          1.3454372740488802,
          -1.155284847160972,
          0.11560833073118736,
          1.0558476438294202,
          -0.09164539514816725,
          -0.07911103570471797,
          1.1298889292742882,
          1.0352534697805038,
          -0.5858686004334468,
          0.14702066966153676,
          0.7605378490231398,
          -0.2552446105455089,
          -2.531500870988131,
          -0.8151349614877484,
          -0.2015920797760861,
          -0.6773298355951781,
          -1.3697672350745784,
          0.09724331004694353,
          1.7011717963836774,
          -0.030937274832516556,
          0.5124910062389977,
          -0.45372901552669687,
          1.4482513486968667,
          1.9864055381472516,
          0.47522855192344204,
          0.4711856833597885,
          -1.8754888555936464,
          -2.1016106118736566,
          0.2693124651984568,
          0.45905685517626954,
          -0.40013306632258494,
          -1.1029866317352701,
          -0.8791067595006858,
          1.125635571527008,
          -2.3090732309185467,
          -0.8671350211320249,
          -1.342651525726852,
          0.022234185168456856,
          0.20139942607211828,
          -0.47147121341422843,
          0.504291600657643,
          -0.9166485195474732,
          0.6108027432860413,
          0.2046306319276693,
          -0.6785135228570527,
          -1.07186737499892,
          -1.1518117084162274,
          -1.1436522440035626,
          -0.9993470396308715,
          -0.12937160832678654,
          -1.178372039958786,
          0.19379575597871537,
          -0.9662038361824906,
          -0.437705018982611,
          -0.4323631505102849,
          0.248041241346058,
          0.2086791810129593,
          0.5929908589326623,
          -0.8536784616145044,
          -1.533101667308894,
          0.2424214860866842,
          0.9891233030383795,
          -0.4729289590102262,
          -0.014199955982915258,
          -2.5391709558181286,
          1.0268442751763005,
          0.045259851007036715,
          -0.9384052331484877,
          -0.2879938722489163,
          -0.9855361670308552,
          -0.637514850487326,
          1.0132347629902343,
          -1.0409569892865955,
          -0.12075479236245626,
          -0.677539436649919,
          -0.7277110810439337,
          0.2694823710565056,
          0.06787476222041963,
          0.5257354912022104,
          -0.9570659202256759,
          -0.5281540085218507,
          -1.0549750869942036,
          -0.018657045318151287,
          0.68417135330098,
          -0.8579511401360297
         ],
         "yaxis": "y15"
        },
        {
         "histfunc": "count",
         "histnorm": "",
         "marker": {
          "color": "rgba(128, 0, 128, 1.0)",
          "line": {
           "color": "#4D5663",
           "width": 1.3
          }
         },
         "name": "D",
         "nbinsx": 10,
         "opacity": 0.8,
         "orientation": "v",
         "type": "histogram",
         "x": [
          -0.2773990390535875,
          -0.9181041820757111,
          -0.41695629787385136,
          0.3827797226044483,
          -1.7529933819530048,
          -0.7319625831080484,
          1.4867018549006927,
          1.4055835724351409,
          -0.8797716270422287,
          -0.596827049706759,
          0.8340313907663897,
          -0.04131531686530541,
          0.2599453428632096,
          -0.35726414646242105,
          1.2361542295277679,
          1.3454372740488802,
          -1.155284847160972,
          0.11560833073118736,
          1.0558476438294202,
          -0.09164539514816725,
          -0.07911103570471797,
          1.1298889292742882,
          1.0352534697805038,
          -0.5858686004334468,
          0.14702066966153676,
          0.7605378490231398,
          -0.2552446105455089,
          -2.531500870988131,
          -0.8151349614877484,
          -0.2015920797760861,
          -0.6773298355951781,
          -1.3697672350745784,
          0.09724331004694353,
          1.7011717963836774,
          -0.030937274832516556,
          0.5124910062389977,
          -0.45372901552669687,
          1.4482513486968667,
          1.9864055381472516,
          0.47522855192344204,
          0.4711856833597885,
          -1.8754888555936464,
          -2.1016106118736566,
          0.2693124651984568,
          0.45905685517626954,
          -0.40013306632258494,
          -1.1029866317352701,
          -0.8791067595006858,
          1.125635571527008,
          -2.3090732309185467,
          -0.8671350211320249,
          -1.342651525726852,
          0.022234185168456856,
          0.20139942607211828,
          -0.47147121341422843,
          0.504291600657643,
          -0.9166485195474732,
          0.6108027432860413,
          0.2046306319276693,
          -0.6785135228570527,
          -1.07186737499892,
          -1.1518117084162274,
          -1.1436522440035626,
          -0.9993470396308715,
          -0.12937160832678654,
          -1.178372039958786,
          0.19379575597871537,
          -0.9662038361824906,
          -0.437705018982611,
          -0.4323631505102849,
          0.248041241346058,
          0.2086791810129593,
          0.5929908589326623,
          -0.8536784616145044,
          -1.533101667308894,
          0.2424214860866842,
          0.9891233030383795,
          -0.4729289590102262,
          -0.014199955982915258,
          -2.5391709558181286,
          1.0268442751763005,
          0.045259851007036715,
          -0.9384052331484877,
          -0.2879938722489163,
          -0.9855361670308552,
          -0.637514850487326,
          1.0132347629902343,
          -1.0409569892865955,
          -0.12075479236245626,
          -0.677539436649919,
          -0.7277110810439337,
          0.2694823710565056,
          0.06787476222041963,
          0.5257354912022104,
          -0.9570659202256759,
          -0.5281540085218507,
          -1.0549750869942036,
          -0.018657045318151287,
          0.68417135330098,
          -0.8579511401360297
         ],
         "xaxis": "x16",
         "yaxis": "y16"
        }
       ],
       "layout": {
        "bargap": 0.02,
        "legend": {
         "bgcolor": "#F5F6F9",
         "font": {
          "color": "#4D5663"
         }
        },
        "paper_bgcolor": "#F5F6F9",
        "plot_bgcolor": "#F5F6F9",
        "showlegend": false,
        "template": {
         "data": {
          "bar": [
           {
            "error_x": {
             "color": "#2a3f5f"
            },
            "error_y": {
             "color": "#2a3f5f"
            },
            "marker": {
             "line": {
              "color": "#E5ECF6",
              "width": 0.5
             },
             "pattern": {
              "fillmode": "overlay",
              "size": 10,
              "solidity": 0.2
             }
            },
            "type": "bar"
           }
          ],
          "barpolar": [
           {
            "marker": {
             "line": {
              "color": "#E5ECF6",
              "width": 0.5
             },
             "pattern": {
              "fillmode": "overlay",
              "size": 10,
              "solidity": 0.2
             }
            },
            "type": "barpolar"
           }
          ],
          "carpet": [
           {
            "aaxis": {
             "endlinecolor": "#2a3f5f",
             "gridcolor": "white",
             "linecolor": "white",
             "minorgridcolor": "white",
             "startlinecolor": "#2a3f5f"
            },
            "baxis": {
             "endlinecolor": "#2a3f5f",
             "gridcolor": "white",
             "linecolor": "white",
             "minorgridcolor": "white",
             "startlinecolor": "#2a3f5f"
            },
            "type": "carpet"
           }
          ],
          "choropleth": [
           {
            "colorbar": {
             "outlinewidth": 0,
             "ticks": ""
            },
            "type": "choropleth"
           }
          ],
          "contour": [
           {
            "colorbar": {
             "outlinewidth": 0,
             "ticks": ""
            },
            "colorscale": [
             [
              0,
              "#0d0887"
             ],
             [
              0.1111111111111111,
              "#46039f"
             ],
             [
              0.2222222222222222,
              "#7201a8"
             ],
             [
              0.3333333333333333,
              "#9c179e"
             ],
             [
              0.4444444444444444,
              "#bd3786"
             ],
             [
              0.5555555555555556,
              "#d8576b"
             ],
             [
              0.6666666666666666,
              "#ed7953"
             ],
             [
              0.7777777777777778,
              "#fb9f3a"
             ],
             [
              0.8888888888888888,
              "#fdca26"
             ],
             [
              1,
              "#f0f921"
             ]
            ],
            "type": "contour"
           }
          ],
          "contourcarpet": [
           {
            "colorbar": {
             "outlinewidth": 0,
             "ticks": ""
            },
            "type": "contourcarpet"
           }
          ],
          "heatmap": [
           {
            "colorbar": {
             "outlinewidth": 0,
             "ticks": ""
            },
            "colorscale": [
             [
              0,
              "#0d0887"
             ],
             [
              0.1111111111111111,
              "#46039f"
             ],
             [
              0.2222222222222222,
              "#7201a8"
             ],
             [
              0.3333333333333333,
              "#9c179e"
             ],
             [
              0.4444444444444444,
              "#bd3786"
             ],
             [
              0.5555555555555556,
              "#d8576b"
             ],
             [
              0.6666666666666666,
              "#ed7953"
             ],
             [
              0.7777777777777778,
              "#fb9f3a"
             ],
             [
              0.8888888888888888,
              "#fdca26"
             ],
             [
              1,
              "#f0f921"
             ]
            ],
            "type": "heatmap"
           }
          ],
          "heatmapgl": [
           {
            "colorbar": {
             "outlinewidth": 0,
             "ticks": ""
            },
            "colorscale": [
             [
              0,
              "#0d0887"
             ],
             [
              0.1111111111111111,
              "#46039f"
             ],
             [
              0.2222222222222222,
              "#7201a8"
             ],
             [
              0.3333333333333333,
              "#9c179e"
             ],
             [
              0.4444444444444444,
              "#bd3786"
             ],
             [
              0.5555555555555556,
              "#d8576b"
             ],
             [
              0.6666666666666666,
              "#ed7953"
             ],
             [
              0.7777777777777778,
              "#fb9f3a"
             ],
             [
              0.8888888888888888,
              "#fdca26"
             ],
             [
              1,
              "#f0f921"
             ]
            ],
            "type": "heatmapgl"
           }
          ],
          "histogram": [
           {
            "marker": {
             "pattern": {
              "fillmode": "overlay",
              "size": 10,
              "solidity": 0.2
             }
            },
            "type": "histogram"
           }
          ],
          "histogram2d": [
           {
            "colorbar": {
             "outlinewidth": 0,
             "ticks": ""
            },
            "colorscale": [
             [
              0,
              "#0d0887"
             ],
             [
              0.1111111111111111,
              "#46039f"
             ],
             [
              0.2222222222222222,
              "#7201a8"
             ],
             [
              0.3333333333333333,
              "#9c179e"
             ],
             [
              0.4444444444444444,
              "#bd3786"
             ],
             [
              0.5555555555555556,
              "#d8576b"
             ],
             [
              0.6666666666666666,
              "#ed7953"
             ],
             [
              0.7777777777777778,
              "#fb9f3a"
             ],
             [
              0.8888888888888888,
              "#fdca26"
             ],
             [
              1,
              "#f0f921"
             ]
            ],
            "type": "histogram2d"
           }
          ],
          "histogram2dcontour": [
           {
            "colorbar": {
             "outlinewidth": 0,
             "ticks": ""
            },
            "colorscale": [
             [
              0,
              "#0d0887"
             ],
             [
              0.1111111111111111,
              "#46039f"
             ],
             [
              0.2222222222222222,
              "#7201a8"
             ],
             [
              0.3333333333333333,
              "#9c179e"
             ],
             [
              0.4444444444444444,
              "#bd3786"
             ],
             [
              0.5555555555555556,
              "#d8576b"
             ],
             [
              0.6666666666666666,
              "#ed7953"
             ],
             [
              0.7777777777777778,
              "#fb9f3a"
             ],
             [
              0.8888888888888888,
              "#fdca26"
             ],
             [
              1,
              "#f0f921"
             ]
            ],
            "type": "histogram2dcontour"
           }
          ],
          "mesh3d": [
           {
            "colorbar": {
             "outlinewidth": 0,
             "ticks": ""
            },
            "type": "mesh3d"
           }
          ],
          "parcoords": [
           {
            "line": {
             "colorbar": {
              "outlinewidth": 0,
              "ticks": ""
             }
            },
            "type": "parcoords"
           }
          ],
          "pie": [
           {
            "automargin": true,
            "type": "pie"
           }
          ],
          "scatter": [
           {
            "marker": {
             "colorbar": {
              "outlinewidth": 0,
              "ticks": ""
             }
            },
            "type": "scatter"
           }
          ],
          "scatter3d": [
           {
            "line": {
             "colorbar": {
              "outlinewidth": 0,
              "ticks": ""
             }
            },
            "marker": {
             "colorbar": {
              "outlinewidth": 0,
              "ticks": ""
             }
            },
            "type": "scatter3d"
           }
          ],
          "scattercarpet": [
           {
            "marker": {
             "colorbar": {
              "outlinewidth": 0,
              "ticks": ""
             }
            },
            "type": "scattercarpet"
           }
          ],
          "scattergeo": [
           {
            "marker": {
             "colorbar": {
              "outlinewidth": 0,
              "ticks": ""
             }
            },
            "type": "scattergeo"
           }
          ],
          "scattergl": [
           {
            "marker": {
             "colorbar": {
              "outlinewidth": 0,
              "ticks": ""
             }
            },
            "type": "scattergl"
           }
          ],
          "scattermapbox": [
           {
            "marker": {
             "colorbar": {
              "outlinewidth": 0,
              "ticks": ""
             }
            },
            "type": "scattermapbox"
           }
          ],
          "scatterpolar": [
           {
            "marker": {
             "colorbar": {
              "outlinewidth": 0,
              "ticks": ""
             }
            },
            "type": "scatterpolar"
           }
          ],
          "scatterpolargl": [
           {
            "marker": {
             "colorbar": {
              "outlinewidth": 0,
              "ticks": ""
             }
            },
            "type": "scatterpolargl"
           }
          ],
          "scatterternary": [
           {
            "marker": {
             "colorbar": {
              "outlinewidth": 0,
              "ticks": ""
             }
            },
            "type": "scatterternary"
           }
          ],
          "surface": [
           {
            "colorbar": {
             "outlinewidth": 0,
             "ticks": ""
            },
            "colorscale": [
             [
              0,
              "#0d0887"
             ],
             [
              0.1111111111111111,
              "#46039f"
             ],
             [
              0.2222222222222222,
              "#7201a8"
             ],
             [
              0.3333333333333333,
              "#9c179e"
             ],
             [
              0.4444444444444444,
              "#bd3786"
             ],
             [
              0.5555555555555556,
              "#d8576b"
             ],
             [
              0.6666666666666666,
              "#ed7953"
             ],
             [
              0.7777777777777778,
              "#fb9f3a"
             ],
             [
              0.8888888888888888,
              "#fdca26"
             ],
             [
              1,
              "#f0f921"
             ]
            ],
            "type": "surface"
           }
          ],
          "table": [
           {
            "cells": {
             "fill": {
              "color": "#EBF0F8"
             },
             "line": {
              "color": "white"
             }
            },
            "header": {
             "fill": {
              "color": "#C8D4E3"
             },
             "line": {
              "color": "white"
             }
            },
            "type": "table"
           }
          ]
         },
         "layout": {
          "annotationdefaults": {
           "arrowcolor": "#2a3f5f",
           "arrowhead": 0,
           "arrowwidth": 1
          },
          "autotypenumbers": "strict",
          "coloraxis": {
           "colorbar": {
            "outlinewidth": 0,
            "ticks": ""
           }
          },
          "colorscale": {
           "diverging": [
            [
             0,
             "#8e0152"
            ],
            [
             0.1,
             "#c51b7d"
            ],
            [
             0.2,
             "#de77ae"
            ],
            [
             0.3,
             "#f1b6da"
            ],
            [
             0.4,
             "#fde0ef"
            ],
            [
             0.5,
             "#f7f7f7"
            ],
            [
             0.6,
             "#e6f5d0"
            ],
            [
             0.7,
             "#b8e186"
            ],
            [
             0.8,
             "#7fbc41"
            ],
            [
             0.9,
             "#4d9221"
            ],
            [
             1,
             "#276419"
            ]
           ],
           "sequential": [
            [
             0,
             "#0d0887"
            ],
            [
             0.1111111111111111,
             "#46039f"
            ],
            [
             0.2222222222222222,
             "#7201a8"
            ],
            [
             0.3333333333333333,
             "#9c179e"
            ],
            [
             0.4444444444444444,
             "#bd3786"
            ],
            [
             0.5555555555555556,
             "#d8576b"
            ],
            [
             0.6666666666666666,
             "#ed7953"
            ],
            [
             0.7777777777777778,
             "#fb9f3a"
            ],
            [
             0.8888888888888888,
             "#fdca26"
            ],
            [
             1,
             "#f0f921"
            ]
           ],
           "sequentialminus": [
            [
             0,
             "#0d0887"
            ],
            [
             0.1111111111111111,
             "#46039f"
            ],
            [
             0.2222222222222222,
             "#7201a8"
            ],
            [
             0.3333333333333333,
             "#9c179e"
            ],
            [
             0.4444444444444444,
             "#bd3786"
            ],
            [
             0.5555555555555556,
             "#d8576b"
            ],
            [
             0.6666666666666666,
             "#ed7953"
            ],
            [
             0.7777777777777778,
             "#fb9f3a"
            ],
            [
             0.8888888888888888,
             "#fdca26"
            ],
            [
             1,
             "#f0f921"
            ]
           ]
          },
          "colorway": [
           "#636efa",
           "#EF553B",
           "#00cc96",
           "#ab63fa",
           "#FFA15A",
           "#19d3f3",
           "#FF6692",
           "#B6E880",
           "#FF97FF",
           "#FECB52"
          ],
          "font": {
           "color": "#2a3f5f"
          },
          "geo": {
           "bgcolor": "white",
           "lakecolor": "white",
           "landcolor": "#E5ECF6",
           "showlakes": true,
           "showland": true,
           "subunitcolor": "white"
          },
          "hoverlabel": {
           "align": "left"
          },
          "hovermode": "closest",
          "mapbox": {
           "style": "light"
          },
          "paper_bgcolor": "white",
          "plot_bgcolor": "#E5ECF6",
          "polar": {
           "angularaxis": {
            "gridcolor": "white",
            "linecolor": "white",
            "ticks": ""
           },
           "bgcolor": "#E5ECF6",
           "radialaxis": {
            "gridcolor": "white",
            "linecolor": "white",
            "ticks": ""
           }
          },
          "scene": {
           "xaxis": {
            "backgroundcolor": "#E5ECF6",
            "gridcolor": "white",
            "gridwidth": 2,
            "linecolor": "white",
            "showbackground": true,
            "ticks": "",
            "zerolinecolor": "white"
           },
           "yaxis": {
            "backgroundcolor": "#E5ECF6",
            "gridcolor": "white",
            "gridwidth": 2,
            "linecolor": "white",
            "showbackground": true,
            "ticks": "",
            "zerolinecolor": "white"
           },
           "zaxis": {
            "backgroundcolor": "#E5ECF6",
            "gridcolor": "white",
            "gridwidth": 2,
            "linecolor": "white",
            "showbackground": true,
            "ticks": "",
            "zerolinecolor": "white"
           }
          },
          "shapedefaults": {
           "line": {
            "color": "#2a3f5f"
           }
          },
          "ternary": {
           "aaxis": {
            "gridcolor": "white",
            "linecolor": "white",
            "ticks": ""
           },
           "baxis": {
            "gridcolor": "white",
            "linecolor": "white",
            "ticks": ""
           },
           "bgcolor": "#E5ECF6",
           "caxis": {
            "gridcolor": "white",
            "linecolor": "white",
            "ticks": ""
           }
          },
          "title": {
           "x": 0.05
          },
          "xaxis": {
           "automargin": true,
           "gridcolor": "white",
           "linecolor": "white",
           "ticks": "",
           "title": {
            "standoff": 15
           },
           "zerolinecolor": "white",
           "zerolinewidth": 2
          },
          "yaxis": {
           "automargin": true,
           "gridcolor": "white",
           "linecolor": "white",
           "ticks": "",
           "title": {
            "standoff": 15
           },
           "zerolinecolor": "white",
           "zerolinewidth": 2
          }
         }
        },
        "title": {
         "font": {
          "color": "#4D5663"
         }
        },
        "xaxis": {
         "anchor": "y",
         "domain": [
          0,
          0.2125
         ],
         "gridcolor": "#E1E5ED",
         "showgrid": false,
         "tickfont": {
          "color": "#4D5663"
         },
         "title": {
          "font": {
           "color": "#4D5663"
          },
          "text": ""
         },
         "zerolinecolor": "#E1E5ED"
        },
        "xaxis10": {
         "anchor": "y10",
         "domain": [
          0.2625,
          0.475
         ],
         "gridcolor": "#E1E5ED",
         "showgrid": false,
         "tickfont": {
          "color": "#4D5663"
         },
         "title": {
          "font": {
           "color": "#4D5663"
          },
          "text": ""
         },
         "zerolinecolor": "#E1E5ED"
        },
        "xaxis11": {
         "anchor": "y11",
         "domain": [
          0.525,
          0.7375
         ],
         "gridcolor": "#E1E5ED",
         "showgrid": false,
         "tickfont": {
          "color": "#4D5663"
         },
         "title": {
          "font": {
           "color": "#4D5663"
          },
          "text": ""
         },
         "zerolinecolor": "#E1E5ED"
        },
        "xaxis12": {
         "anchor": "y12",
         "domain": [
          0.7875,
          1
         ],
         "gridcolor": "#E1E5ED",
         "showgrid": false,
         "tickfont": {
          "color": "#4D5663"
         },
         "title": {
          "font": {
           "color": "#4D5663"
          },
          "text": ""
         },
         "zerolinecolor": "#E1E5ED"
        },
        "xaxis13": {
         "anchor": "y13",
         "domain": [
          0,
          0.2125
         ],
         "gridcolor": "#E1E5ED",
         "showgrid": false,
         "tickfont": {
          "color": "#4D5663"
         },
         "title": {
          "font": {
           "color": "#4D5663"
          },
          "text": ""
         },
         "zerolinecolor": "#E1E5ED"
        },
        "xaxis14": {
         "anchor": "y14",
         "domain": [
          0.2625,
          0.475
         ],
         "gridcolor": "#E1E5ED",
         "showgrid": false,
         "tickfont": {
          "color": "#4D5663"
         },
         "title": {
          "font": {
           "color": "#4D5663"
          },
          "text": ""
         },
         "zerolinecolor": "#E1E5ED"
        },
        "xaxis15": {
         "anchor": "y15",
         "domain": [
          0.525,
          0.7375
         ],
         "gridcolor": "#E1E5ED",
         "showgrid": false,
         "tickfont": {
          "color": "#4D5663"
         },
         "title": {
          "font": {
           "color": "#4D5663"
          },
          "text": ""
         },
         "zerolinecolor": "#E1E5ED"
        },
        "xaxis16": {
         "anchor": "y16",
         "domain": [
          0.7875,
          1
         ],
         "gridcolor": "#E1E5ED",
         "showgrid": false,
         "tickfont": {
          "color": "#4D5663"
         },
         "title": {
          "font": {
           "color": "#4D5663"
          },
          "text": ""
         },
         "zerolinecolor": "#E1E5ED"
        },
        "xaxis2": {
         "anchor": "y2",
         "domain": [
          0.2625,
          0.475
         ],
         "gridcolor": "#E1E5ED",
         "showgrid": false,
         "tickfont": {
          "color": "#4D5663"
         },
         "title": {
          "font": {
           "color": "#4D5663"
          },
          "text": ""
         },
         "zerolinecolor": "#E1E5ED"
        },
        "xaxis3": {
         "anchor": "y3",
         "domain": [
          0.525,
          0.7375
         ],
         "gridcolor": "#E1E5ED",
         "showgrid": false,
         "tickfont": {
          "color": "#4D5663"
         },
         "title": {
          "font": {
           "color": "#4D5663"
          },
          "text": ""
         },
         "zerolinecolor": "#E1E5ED"
        },
        "xaxis4": {
         "anchor": "y4",
         "domain": [
          0.7875,
          1
         ],
         "gridcolor": "#E1E5ED",
         "showgrid": false,
         "tickfont": {
          "color": "#4D5663"
         },
         "title": {
          "font": {
           "color": "#4D5663"
          },
          "text": ""
         },
         "zerolinecolor": "#E1E5ED"
        },
        "xaxis5": {
         "anchor": "y5",
         "domain": [
          0,
          0.2125
         ],
         "gridcolor": "#E1E5ED",
         "showgrid": false,
         "tickfont": {
          "color": "#4D5663"
         },
         "title": {
          "font": {
           "color": "#4D5663"
          },
          "text": ""
         },
         "zerolinecolor": "#E1E5ED"
        },
        "xaxis6": {
         "anchor": "y6",
         "domain": [
          0.2625,
          0.475
         ],
         "gridcolor": "#E1E5ED",
         "showgrid": false,
         "tickfont": {
          "color": "#4D5663"
         },
         "title": {
          "font": {
           "color": "#4D5663"
          },
          "text": ""
         },
         "zerolinecolor": "#E1E5ED"
        },
        "xaxis7": {
         "anchor": "y7",
         "domain": [
          0.525,
          0.7375
         ],
         "gridcolor": "#E1E5ED",
         "showgrid": false,
         "tickfont": {
          "color": "#4D5663"
         },
         "title": {
          "font": {
           "color": "#4D5663"
          },
          "text": ""
         },
         "zerolinecolor": "#E1E5ED"
        },
        "xaxis8": {
         "anchor": "y8",
         "domain": [
          0.7875,
          1
         ],
         "gridcolor": "#E1E5ED",
         "showgrid": false,
         "tickfont": {
          "color": "#4D5663"
         },
         "title": {
          "font": {
           "color": "#4D5663"
          },
          "text": ""
         },
         "zerolinecolor": "#E1E5ED"
        },
        "xaxis9": {
         "anchor": "y9",
         "domain": [
          0,
          0.2125
         ],
         "gridcolor": "#E1E5ED",
         "showgrid": false,
         "tickfont": {
          "color": "#4D5663"
         },
         "title": {
          "font": {
           "color": "#4D5663"
          },
          "text": ""
         },
         "zerolinecolor": "#E1E5ED"
        },
        "yaxis": {
         "anchor": "x",
         "domain": [
          0.8025,
          1
         ],
         "gridcolor": "#E1E5ED",
         "showgrid": false,
         "tickfont": {
          "color": "#4D5663"
         },
         "title": {
          "font": {
           "color": "#4D5663"
          },
          "text": ""
         },
         "zerolinecolor": "#E1E5ED"
        },
        "yaxis10": {
         "anchor": "x10",
         "domain": [
          0.2675,
          0.465
         ],
         "gridcolor": "#E1E5ED",
         "showgrid": false,
         "tickfont": {
          "color": "#4D5663"
         },
         "title": {
          "font": {
           "color": "#4D5663"
          },
          "text": ""
         },
         "zerolinecolor": "#E1E5ED"
        },
        "yaxis11": {
         "anchor": "x11",
         "domain": [
          0.2675,
          0.465
         ],
         "gridcolor": "#E1E5ED",
         "showgrid": false,
         "tickfont": {
          "color": "#4D5663"
         },
         "title": {
          "font": {
           "color": "#4D5663"
          },
          "text": ""
         },
         "zerolinecolor": "#E1E5ED"
        },
        "yaxis12": {
         "anchor": "x12",
         "domain": [
          0.2675,
          0.465
         ],
         "gridcolor": "#E1E5ED",
         "showgrid": false,
         "tickfont": {
          "color": "#4D5663"
         },
         "title": {
          "font": {
           "color": "#4D5663"
          },
          "text": ""
         },
         "zerolinecolor": "#E1E5ED"
        },
        "yaxis13": {
         "anchor": "x13",
         "domain": [
          0,
          0.1975
         ],
         "gridcolor": "#E1E5ED",
         "showgrid": false,
         "tickfont": {
          "color": "#4D5663"
         },
         "title": {
          "font": {
           "color": "#4D5663"
          },
          "text": ""
         },
         "zerolinecolor": "#E1E5ED"
        },
        "yaxis14": {
         "anchor": "x14",
         "domain": [
          0,
          0.1975
         ],
         "gridcolor": "#E1E5ED",
         "showgrid": false,
         "tickfont": {
          "color": "#4D5663"
         },
         "title": {
          "font": {
           "color": "#4D5663"
          },
          "text": ""
         },
         "zerolinecolor": "#E1E5ED"
        },
        "yaxis15": {
         "anchor": "x15",
         "domain": [
          0,
          0.1975
         ],
         "gridcolor": "#E1E5ED",
         "showgrid": false,
         "tickfont": {
          "color": "#4D5663"
         },
         "title": {
          "font": {
           "color": "#4D5663"
          },
          "text": ""
         },
         "zerolinecolor": "#E1E5ED"
        },
        "yaxis16": {
         "anchor": "x16",
         "domain": [
          0,
          0.1975
         ],
         "gridcolor": "#E1E5ED",
         "showgrid": false,
         "tickfont": {
          "color": "#4D5663"
         },
         "title": {
          "font": {
           "color": "#4D5663"
          },
          "text": ""
         },
         "zerolinecolor": "#E1E5ED"
        },
        "yaxis2": {
         "anchor": "x2",
         "domain": [
          0.8025,
          1
         ],
         "gridcolor": "#E1E5ED",
         "showgrid": false,
         "tickfont": {
          "color": "#4D5663"
         },
         "title": {
          "font": {
           "color": "#4D5663"
          },
          "text": ""
         },
         "zerolinecolor": "#E1E5ED"
        },
        "yaxis3": {
         "anchor": "x3",
         "domain": [
          0.8025,
          1
         ],
         "gridcolor": "#E1E5ED",
         "showgrid": false,
         "tickfont": {
          "color": "#4D5663"
         },
         "title": {
          "font": {
           "color": "#4D5663"
          },
          "text": ""
         },
         "zerolinecolor": "#E1E5ED"
        },
        "yaxis4": {
         "anchor": "x4",
         "domain": [
          0.8025,
          1
         ],
         "gridcolor": "#E1E5ED",
         "showgrid": false,
         "tickfont": {
          "color": "#4D5663"
         },
         "title": {
          "font": {
           "color": "#4D5663"
          },
          "text": ""
         },
         "zerolinecolor": "#E1E5ED"
        },
        "yaxis5": {
         "anchor": "x5",
         "domain": [
          0.535,
          0.7325
         ],
         "gridcolor": "#E1E5ED",
         "showgrid": false,
         "tickfont": {
          "color": "#4D5663"
         },
         "title": {
          "font": {
           "color": "#4D5663"
          },
          "text": ""
         },
         "zerolinecolor": "#E1E5ED"
        },
        "yaxis6": {
         "anchor": "x6",
         "domain": [
          0.535,
          0.7325
         ],
         "gridcolor": "#E1E5ED",
         "showgrid": false,
         "tickfont": {
          "color": "#4D5663"
         },
         "title": {
          "font": {
           "color": "#4D5663"
          },
          "text": ""
         },
         "zerolinecolor": "#E1E5ED"
        },
        "yaxis7": {
         "anchor": "x7",
         "domain": [
          0.535,
          0.7325
         ],
         "gridcolor": "#E1E5ED",
         "showgrid": false,
         "tickfont": {
          "color": "#4D5663"
         },
         "title": {
          "font": {
           "color": "#4D5663"
          },
          "text": ""
         },
         "zerolinecolor": "#E1E5ED"
        },
        "yaxis8": {
         "anchor": "x8",
         "domain": [
          0.535,
          0.7325
         ],
         "gridcolor": "#E1E5ED",
         "showgrid": false,
         "tickfont": {
          "color": "#4D5663"
         },
         "title": {
          "font": {
           "color": "#4D5663"
          },
          "text": ""
         },
         "zerolinecolor": "#E1E5ED"
        },
        "yaxis9": {
         "anchor": "x9",
         "domain": [
          0.2675,
          0.465
         ],
         "gridcolor": "#E1E5ED",
         "showgrid": false,
         "tickfont": {
          "color": "#4D5663"
         },
         "title": {
          "font": {
           "color": "#4D5663"
          },
          "text": ""
         },
         "zerolinecolor": "#E1E5ED"
        }
       }
      },
      "text/html": [
       "<div>                            <div id=\"9620efea-3c47-4295-bb74-0b8ba8ec3a3b\" class=\"plotly-graph-div\" style=\"height:525px; width:100%;\"></div>            <script type=\"text/javascript\">                require([\"plotly\"], function(Plotly) {                    window.PLOTLYENV=window.PLOTLYENV || {};\n",
       "                    window.PLOTLYENV.BASE_URL='https://plot.ly';                                    if (document.getElementById(\"9620efea-3c47-4295-bb74-0b8ba8ec3a3b\")) {                    Plotly.newPlot(                        \"9620efea-3c47-4295-bb74-0b8ba8ec3a3b\",                        [{\"histfunc\":\"count\",\"histnorm\":\"\",\"marker\":{\"color\":\"rgba(255, 153, 51, 1.0)\",\"line\":{\"color\":\"#4D5663\",\"width\":1.3}},\"name\":\"A\",\"nbinsx\":10,\"opacity\":0.8,\"orientation\":\"v\",\"x\":[-0.4109093102308704,-0.6680817820818279,0.05775923832079972,-0.6514336458680554,0.1879160682510293,-1.5293464668323662,-0.7035269259572434,0.023874540007682573,-1.2420547200599625,-0.8913683621133949,-0.6031304983078408,-0.8971715581521588,-0.29873531501808204,-0.28277215845111825,-1.4601949181242078,1.163711752718257,-0.7985458453409878,0.08419460658711336,1.2072287151035508,1.9355081654923072,-0.6280104709091505,-0.11194954662160747,-0.46415689977609864,0.3291395359396691,0.14336269881245645,-0.7973487302419948,1.0136391070213626,0.3224826399220911,-0.5610315946764224,-1.6376822225509424,1.5133491313233511,0.6252725756740378,0.5218653597362931,0.2630145983301274,-0.6226571769603287,-0.47641810789885125,-0.7063513142606132,0.32684887117824307,0.25245635094777025,-0.8921088220372825,0.7720682190244831,0.7238641471940175,0.645126076541708,0.4224070507208162,0.3990528172515247,-0.19255958104133045,-0.16973807979033237,-1.0196829077704666,-0.3561857988413979,-0.7547498424893713,1.756962952184945,0.15851227706927512,-1.0982456629275492,0.6028423362735791,-1.2172834983904086,0.3151964776503683,-1.2224736248236194,-0.7734229575896733,0.15439661925788561,0.7886502050544204,-0.054443877521405636,-1.0636641048785411,-1.5786802485725135,0.24813035938868763,0.13326047954542491,0.07900652650890297,-1.943265097469249,0.709653153466894,-0.8004575677107629,-0.30651500422656586,-0.034793194861766734,1.1239760186483012,1.9534360839432174,0.5855191473663935,-0.259033322409612,-0.721568816715617,0.4048799040916817,0.11292732199272669,-1.1339821084354054,1.608866407723626,0.3501736145293892,-0.0486340739793143,-1.4939842393253115,0.33891543148322023,-0.14837108037915506,1.1431096103520344,1.2732128325788084,1.6707652434185216,-2.034802087108342,2.0454869644421496,1.928114298449317,0.2810486247432109,-0.4763850985641512,1.0107331745913726,0.7183992254469621,1.3199201637244298,0.19377943979431222,1.9858006393975318,1.7289541996275624,0.6000972414545752],\"xaxis\":\"x\",\"yaxis\":\"y\",\"type\":\"histogram\"},{\"line\":{\"color\":\"rgba(128, 128, 128, 1.0)\",\"dash\":\"solid\",\"shape\":\"linear\",\"width\":1.3},\"marker\":{\"size\":2,\"symbol\":\"circle\"},\"mode\":\"markers\",\"name\":\"A\",\"text\":\"\",\"x\":[0.10816164100433416,-0.3786534181130173,1.5976396520152203,0.1032715254968819,-1.0523808578431146,-1.3088111247109417,-0.33138160694857144,0.37586959252393326,-1.4329191920134556,-1.4057862776414278,-0.958400047246091,0.29084537770773083,0.9935937445178882,0.04105070648099821,0.5408640784206419,-0.9264630427696732,1.4446133920139053,0.7294940924538716,-0.4350365321345761,-0.1325933169696886,-1.014905041321066,0.7142426252203482,-0.12624792117550834,-0.20886899913259685,-0.046122503270438174,1.0930917336122041,-1.9021098919909627,2.1923805539824883,-0.35159360601604234,-0.7840171652005669,0.8013260813444979,1.6926231238423597,-1.8736638856094856,0.9707936279502669,-0.8946838001113273,0.33970862607059893,-0.5793816991296611,-0.0878888415438686,0.5123180202062559,-0.3354586266014048,-0.3056932331079285,1.3570012723760245,0.6501788955149052,-1.0229202856165147,0.6832670623300489,0.2169408672987547,-1.5775271330361818,-1.1246690529362395,0.3921142234135686,-0.06959219198977895,-0.019901343076002487,-0.9668266661131473,-0.21099683075611467,0.0016865579778136469,-1.0802687843471324,-1.380237864945273,-0.8039152050946438,0.6777652747804674,-1.7942162924799367,0.1874497630076612,0.21428526335199233,-1.6590885500531578,1.2292836165571877,-0.6313361485055891,0.20526898451701303,0.3019628958045808,1.2893815216553828,-1.8503476945459718,-1.1624137925900286,1.631894818283364,0.9137215970033604,0.42810273476173266,0.8383367822100516,0.03283408639287403,-0.6946136149052397,-0.08070742997934244,0.9486270898985858,-0.48974504059853097,0.7877660225946301,0.18205642024037574,-0.6270525171109232,-0.17486983897035135,-0.2569599069188726,0.4022673291283338,0.8893958001444761,0.7051969265018811,-0.2024575094870895,0.30361544203123086,-1.0690070760292605,0.4953857590622099,0.19672688600027186,-0.17632377424528928,-0.23475071514999798,0.997698475693314,-1.1669540486953198,-0.052800403148813194,0.1882279243514494,-0.7566964384387022,-0.5873806894237157,-1.0723913490493764],\"xaxis\":\"x2\",\"y\":[-0.4109093102308704,-0.6680817820818279,0.05775923832079972,-0.6514336458680554,0.1879160682510293,-1.5293464668323662,-0.7035269259572434,0.023874540007682573,-1.2420547200599625,-0.8913683621133949,-0.6031304983078408,-0.8971715581521588,-0.29873531501808204,-0.28277215845111825,-1.4601949181242078,1.163711752718257,-0.7985458453409878,0.08419460658711336,1.2072287151035508,1.9355081654923072,-0.6280104709091505,-0.11194954662160747,-0.46415689977609864,0.3291395359396691,0.14336269881245645,-0.7973487302419948,1.0136391070213626,0.3224826399220911,-0.5610315946764224,-1.6376822225509424,1.5133491313233511,0.6252725756740378,0.5218653597362931,0.2630145983301274,-0.6226571769603287,-0.47641810789885125,-0.7063513142606132,0.32684887117824307,0.25245635094777025,-0.8921088220372825,0.7720682190244831,0.7238641471940175,0.645126076541708,0.4224070507208162,0.3990528172515247,-0.19255958104133045,-0.16973807979033237,-1.0196829077704666,-0.3561857988413979,-0.7547498424893713,1.756962952184945,0.15851227706927512,-1.0982456629275492,0.6028423362735791,-1.2172834983904086,0.3151964776503683,-1.2224736248236194,-0.7734229575896733,0.15439661925788561,0.7886502050544204,-0.054443877521405636,-1.0636641048785411,-1.5786802485725135,0.24813035938868763,0.13326047954542491,0.07900652650890297,-1.943265097469249,0.709653153466894,-0.8004575677107629,-0.30651500422656586,-0.034793194861766734,1.1239760186483012,1.9534360839432174,0.5855191473663935,-0.259033322409612,-0.721568816715617,0.4048799040916817,0.11292732199272669,-1.1339821084354054,1.608866407723626,0.3501736145293892,-0.0486340739793143,-1.4939842393253115,0.33891543148322023,-0.14837108037915506,1.1431096103520344,1.2732128325788084,1.6707652434185216,-2.034802087108342,2.0454869644421496,1.928114298449317,0.2810486247432109,-0.4763850985641512,1.0107331745913726,0.7183992254469621,1.3199201637244298,0.19377943979431222,1.9858006393975318,1.7289541996275624,0.6000972414545752],\"yaxis\":\"y2\",\"type\":\"scatter\"},{\"line\":{\"color\":\"rgba(128, 128, 128, 1.0)\",\"dash\":\"solid\",\"shape\":\"linear\",\"width\":1.3},\"marker\":{\"size\":2,\"symbol\":\"circle\"},\"mode\":\"markers\",\"name\":\"A\",\"text\":\"\",\"x\":[0.6292199526679915,0.2929975958833482,-0.04399087398141044,1.8565600602641612,-1.2750659235998933,-1.049310108114289,1.9150270383061618,1.2508697290216244,-0.5254373553532199,-1.1019207468324796,-0.4329980546454029,1.5572239614417513,-1.3055844181806395,-0.4122575973258354,-0.059880586166883694,-0.47306812677550375,1.0024038262962716,-0.2432530029414284,-0.2951196417216509,1.6108749570387297,-1.5277743237948516,0.24462827579148685,-0.6665963461968138,0.09551308916636889,-0.09167893838598215,-1.7815453817378082,-0.1521106133048684,1.9074572705422066,0.4592082613846467,0.7013091669194846,-0.8686089844179359,-0.4606390682252071,-0.41777249430301205,-0.4468941776179165,0.7094928970608115,-1.8603953409392233,0.6259187872531098,-1.6286731061977948,2.8201400374716687,-0.35503682144368226,-0.6396143178399654,-0.9654900282468604,-0.7210403553227229,-0.6778528111808548,-0.8847323338846561,-0.9563799305227523,1.3186129140745864,-1.0833389277669125,0.7146015938507903,-0.31692372500085386,0.5854408697615356,1.2266989977152263,-1.0876940047938335,-0.9545415176685021,0.4763777966834708,-0.028328147521990005,-0.9197802043519457,0.13369488535274207,-0.4346147152741386,-0.09219737012285296,-0.7442747895254129,-0.7800885356867993,-0.864528126951913,0.6156847853724774,0.6350478989525027,1.1944567500749472,0.09291026971232177,0.7978863435209216,0.717641604863803,0.3854021360752175,0.3871364856255502,1.0392309824169004,1.549422603605397,-0.9488235117675193,-0.10664617217844946,1.1281754295273083,1.532435448350468,0.8819094595511779,0.1588660200001338,-0.5538468056190365,-0.37835010238664146,0.8956307051416974,0.19210774446947973,0.3834669957770598,-0.002075523221641867,0.27647527640105485,-0.8078457966107676,-0.625341205482638,-0.83781920073781,0.0560368705472754,0.1432941566584118,-0.6215519009327086,-1.0108129007264421,0.003988253626526684,0.2757826690179561,-1.037282373787344,0.34299228025201184,-0.6033296064640993,1.6771847452732258,0.44518449248506753],\"xaxis\":\"x3\",\"y\":[-0.4109093102308704,-0.6680817820818279,0.05775923832079972,-0.6514336458680554,0.1879160682510293,-1.5293464668323662,-0.7035269259572434,0.023874540007682573,-1.2420547200599625,-0.8913683621133949,-0.6031304983078408,-0.8971715581521588,-0.29873531501808204,-0.28277215845111825,-1.4601949181242078,1.163711752718257,-0.7985458453409878,0.08419460658711336,1.2072287151035508,1.9355081654923072,-0.6280104709091505,-0.11194954662160747,-0.46415689977609864,0.3291395359396691,0.14336269881245645,-0.7973487302419948,1.0136391070213626,0.3224826399220911,-0.5610315946764224,-1.6376822225509424,1.5133491313233511,0.6252725756740378,0.5218653597362931,0.2630145983301274,-0.6226571769603287,-0.47641810789885125,-0.7063513142606132,0.32684887117824307,0.25245635094777025,-0.8921088220372825,0.7720682190244831,0.7238641471940175,0.645126076541708,0.4224070507208162,0.3990528172515247,-0.19255958104133045,-0.16973807979033237,-1.0196829077704666,-0.3561857988413979,-0.7547498424893713,1.756962952184945,0.15851227706927512,-1.0982456629275492,0.6028423362735791,-1.2172834983904086,0.3151964776503683,-1.2224736248236194,-0.7734229575896733,0.15439661925788561,0.7886502050544204,-0.054443877521405636,-1.0636641048785411,-1.5786802485725135,0.24813035938868763,0.13326047954542491,0.07900652650890297,-1.943265097469249,0.709653153466894,-0.8004575677107629,-0.30651500422656586,-0.034793194861766734,1.1239760186483012,1.9534360839432174,0.5855191473663935,-0.259033322409612,-0.721568816715617,0.4048799040916817,0.11292732199272669,-1.1339821084354054,1.608866407723626,0.3501736145293892,-0.0486340739793143,-1.4939842393253115,0.33891543148322023,-0.14837108037915506,1.1431096103520344,1.2732128325788084,1.6707652434185216,-2.034802087108342,2.0454869644421496,1.928114298449317,0.2810486247432109,-0.4763850985641512,1.0107331745913726,0.7183992254469621,1.3199201637244298,0.19377943979431222,1.9858006393975318,1.7289541996275624,0.6000972414545752],\"yaxis\":\"y3\",\"type\":\"scatter\"},{\"line\":{\"color\":\"rgba(128, 128, 128, 1.0)\",\"dash\":\"solid\",\"shape\":\"linear\",\"width\":1.3},\"marker\":{\"size\":2,\"symbol\":\"circle\"},\"mode\":\"markers\",\"name\":\"A\",\"text\":\"\",\"x\":[-0.2773990390535875,-0.9181041820757111,-0.41695629787385136,0.3827797226044483,-1.7529933819530048,-0.7319625831080484,1.4867018549006927,1.4055835724351409,-0.8797716270422287,-0.596827049706759,0.8340313907663897,-0.04131531686530541,0.2599453428632096,-0.35726414646242105,1.2361542295277679,1.3454372740488802,-1.155284847160972,0.11560833073118736,1.0558476438294202,-0.09164539514816725,-0.07911103570471797,1.1298889292742882,1.0352534697805038,-0.5858686004334468,0.14702066966153676,0.7605378490231398,-0.2552446105455089,-2.531500870988131,-0.8151349614877484,-0.2015920797760861,-0.6773298355951781,-1.3697672350745784,0.09724331004694353,1.7011717963836774,-0.030937274832516556,0.5124910062389977,-0.45372901552669687,1.4482513486968667,1.9864055381472516,0.47522855192344204,0.4711856833597885,-1.8754888555936464,-2.1016106118736566,0.2693124651984568,0.45905685517626954,-0.40013306632258494,-1.1029866317352701,-0.8791067595006858,1.125635571527008,-2.3090732309185467,-0.8671350211320249,-1.342651525726852,0.022234185168456856,0.20139942607211828,-0.47147121341422843,0.504291600657643,-0.9166485195474732,0.6108027432860413,0.2046306319276693,-0.6785135228570527,-1.07186737499892,-1.1518117084162274,-1.1436522440035626,-0.9993470396308715,-0.12937160832678654,-1.178372039958786,0.19379575597871537,-0.9662038361824906,-0.437705018982611,-0.4323631505102849,0.248041241346058,0.2086791810129593,0.5929908589326623,-0.8536784616145044,-1.533101667308894,0.2424214860866842,0.9891233030383795,-0.4729289590102262,-0.014199955982915258,-2.5391709558181286,1.0268442751763005,0.045259851007036715,-0.9384052331484877,-0.2879938722489163,-0.9855361670308552,-0.637514850487326,1.0132347629902343,-1.0409569892865955,-0.12075479236245626,-0.677539436649919,-0.7277110810439337,0.2694823710565056,0.06787476222041963,0.5257354912022104,-0.9570659202256759,-0.5281540085218507,-1.0549750869942036,-0.018657045318151287,0.68417135330098,-0.8579511401360297],\"xaxis\":\"x4\",\"y\":[-0.4109093102308704,-0.6680817820818279,0.05775923832079972,-0.6514336458680554,0.1879160682510293,-1.5293464668323662,-0.7035269259572434,0.023874540007682573,-1.2420547200599625,-0.8913683621133949,-0.6031304983078408,-0.8971715581521588,-0.29873531501808204,-0.28277215845111825,-1.4601949181242078,1.163711752718257,-0.7985458453409878,0.08419460658711336,1.2072287151035508,1.9355081654923072,-0.6280104709091505,-0.11194954662160747,-0.46415689977609864,0.3291395359396691,0.14336269881245645,-0.7973487302419948,1.0136391070213626,0.3224826399220911,-0.5610315946764224,-1.6376822225509424,1.5133491313233511,0.6252725756740378,0.5218653597362931,0.2630145983301274,-0.6226571769603287,-0.47641810789885125,-0.7063513142606132,0.32684887117824307,0.25245635094777025,-0.8921088220372825,0.7720682190244831,0.7238641471940175,0.645126076541708,0.4224070507208162,0.3990528172515247,-0.19255958104133045,-0.16973807979033237,-1.0196829077704666,-0.3561857988413979,-0.7547498424893713,1.756962952184945,0.15851227706927512,-1.0982456629275492,0.6028423362735791,-1.2172834983904086,0.3151964776503683,-1.2224736248236194,-0.7734229575896733,0.15439661925788561,0.7886502050544204,-0.054443877521405636,-1.0636641048785411,-1.5786802485725135,0.24813035938868763,0.13326047954542491,0.07900652650890297,-1.943265097469249,0.709653153466894,-0.8004575677107629,-0.30651500422656586,-0.034793194861766734,1.1239760186483012,1.9534360839432174,0.5855191473663935,-0.259033322409612,-0.721568816715617,0.4048799040916817,0.11292732199272669,-1.1339821084354054,1.608866407723626,0.3501736145293892,-0.0486340739793143,-1.4939842393253115,0.33891543148322023,-0.14837108037915506,1.1431096103520344,1.2732128325788084,1.6707652434185216,-2.034802087108342,2.0454869644421496,1.928114298449317,0.2810486247432109,-0.4763850985641512,1.0107331745913726,0.7183992254469621,1.3199201637244298,0.19377943979431222,1.9858006393975318,1.7289541996275624,0.6000972414545752],\"yaxis\":\"y4\",\"type\":\"scatter\"},{\"line\":{\"color\":\"rgba(128, 128, 128, 1.0)\",\"dash\":\"solid\",\"shape\":\"linear\",\"width\":1.3},\"marker\":{\"size\":2,\"symbol\":\"circle\"},\"mode\":\"markers\",\"name\":\"B\",\"text\":\"\",\"x\":[-0.4109093102308704,-0.6680817820818279,0.05775923832079972,-0.6514336458680554,0.1879160682510293,-1.5293464668323662,-0.7035269259572434,0.023874540007682573,-1.2420547200599625,-0.8913683621133949,-0.6031304983078408,-0.8971715581521588,-0.29873531501808204,-0.28277215845111825,-1.4601949181242078,1.163711752718257,-0.7985458453409878,0.08419460658711336,1.2072287151035508,1.9355081654923072,-0.6280104709091505,-0.11194954662160747,-0.46415689977609864,0.3291395359396691,0.14336269881245645,-0.7973487302419948,1.0136391070213626,0.3224826399220911,-0.5610315946764224,-1.6376822225509424,1.5133491313233511,0.6252725756740378,0.5218653597362931,0.2630145983301274,-0.6226571769603287,-0.47641810789885125,-0.7063513142606132,0.32684887117824307,0.25245635094777025,-0.8921088220372825,0.7720682190244831,0.7238641471940175,0.645126076541708,0.4224070507208162,0.3990528172515247,-0.19255958104133045,-0.16973807979033237,-1.0196829077704666,-0.3561857988413979,-0.7547498424893713,1.756962952184945,0.15851227706927512,-1.0982456629275492,0.6028423362735791,-1.2172834983904086,0.3151964776503683,-1.2224736248236194,-0.7734229575896733,0.15439661925788561,0.7886502050544204,-0.054443877521405636,-1.0636641048785411,-1.5786802485725135,0.24813035938868763,0.13326047954542491,0.07900652650890297,-1.943265097469249,0.709653153466894,-0.8004575677107629,-0.30651500422656586,-0.034793194861766734,1.1239760186483012,1.9534360839432174,0.5855191473663935,-0.259033322409612,-0.721568816715617,0.4048799040916817,0.11292732199272669,-1.1339821084354054,1.608866407723626,0.3501736145293892,-0.0486340739793143,-1.4939842393253115,0.33891543148322023,-0.14837108037915506,1.1431096103520344,1.2732128325788084,1.6707652434185216,-2.034802087108342,2.0454869644421496,1.928114298449317,0.2810486247432109,-0.4763850985641512,1.0107331745913726,0.7183992254469621,1.3199201637244298,0.19377943979431222,1.9858006393975318,1.7289541996275624,0.6000972414545752],\"xaxis\":\"x5\",\"y\":[0.10816164100433416,-0.3786534181130173,1.5976396520152203,0.1032715254968819,-1.0523808578431146,-1.3088111247109417,-0.33138160694857144,0.37586959252393326,-1.4329191920134556,-1.4057862776414278,-0.958400047246091,0.29084537770773083,0.9935937445178882,0.04105070648099821,0.5408640784206419,-0.9264630427696732,1.4446133920139053,0.7294940924538716,-0.4350365321345761,-0.1325933169696886,-1.014905041321066,0.7142426252203482,-0.12624792117550834,-0.20886899913259685,-0.046122503270438174,1.0930917336122041,-1.9021098919909627,2.1923805539824883,-0.35159360601604234,-0.7840171652005669,0.8013260813444979,1.6926231238423597,-1.8736638856094856,0.9707936279502669,-0.8946838001113273,0.33970862607059893,-0.5793816991296611,-0.0878888415438686,0.5123180202062559,-0.3354586266014048,-0.3056932331079285,1.3570012723760245,0.6501788955149052,-1.0229202856165147,0.6832670623300489,0.2169408672987547,-1.5775271330361818,-1.1246690529362395,0.3921142234135686,-0.06959219198977895,-0.019901343076002487,-0.9668266661131473,-0.21099683075611467,0.0016865579778136469,-1.0802687843471324,-1.380237864945273,-0.8039152050946438,0.6777652747804674,-1.7942162924799367,0.1874497630076612,0.21428526335199233,-1.6590885500531578,1.2292836165571877,-0.6313361485055891,0.20526898451701303,0.3019628958045808,1.2893815216553828,-1.8503476945459718,-1.1624137925900286,1.631894818283364,0.9137215970033604,0.42810273476173266,0.8383367822100516,0.03283408639287403,-0.6946136149052397,-0.08070742997934244,0.9486270898985858,-0.48974504059853097,0.7877660225946301,0.18205642024037574,-0.6270525171109232,-0.17486983897035135,-0.2569599069188726,0.4022673291283338,0.8893958001444761,0.7051969265018811,-0.2024575094870895,0.30361544203123086,-1.0690070760292605,0.4953857590622099,0.19672688600027186,-0.17632377424528928,-0.23475071514999798,0.997698475693314,-1.1669540486953198,-0.052800403148813194,0.1882279243514494,-0.7566964384387022,-0.5873806894237157,-1.0723913490493764],\"yaxis\":\"y5\",\"type\":\"scatter\"},{\"histfunc\":\"count\",\"histnorm\":\"\",\"marker\":{\"color\":\"rgba(55, 128, 191, 1.0)\",\"line\":{\"color\":\"#4D5663\",\"width\":1.3}},\"name\":\"B\",\"nbinsx\":10,\"opacity\":0.8,\"orientation\":\"v\",\"x\":[0.10816164100433416,-0.3786534181130173,1.5976396520152203,0.1032715254968819,-1.0523808578431146,-1.3088111247109417,-0.33138160694857144,0.37586959252393326,-1.4329191920134556,-1.4057862776414278,-0.958400047246091,0.29084537770773083,0.9935937445178882,0.04105070648099821,0.5408640784206419,-0.9264630427696732,1.4446133920139053,0.7294940924538716,-0.4350365321345761,-0.1325933169696886,-1.014905041321066,0.7142426252203482,-0.12624792117550834,-0.20886899913259685,-0.046122503270438174,1.0930917336122041,-1.9021098919909627,2.1923805539824883,-0.35159360601604234,-0.7840171652005669,0.8013260813444979,1.6926231238423597,-1.8736638856094856,0.9707936279502669,-0.8946838001113273,0.33970862607059893,-0.5793816991296611,-0.0878888415438686,0.5123180202062559,-0.3354586266014048,-0.3056932331079285,1.3570012723760245,0.6501788955149052,-1.0229202856165147,0.6832670623300489,0.2169408672987547,-1.5775271330361818,-1.1246690529362395,0.3921142234135686,-0.06959219198977895,-0.019901343076002487,-0.9668266661131473,-0.21099683075611467,0.0016865579778136469,-1.0802687843471324,-1.380237864945273,-0.8039152050946438,0.6777652747804674,-1.7942162924799367,0.1874497630076612,0.21428526335199233,-1.6590885500531578,1.2292836165571877,-0.6313361485055891,0.20526898451701303,0.3019628958045808,1.2893815216553828,-1.8503476945459718,-1.1624137925900286,1.631894818283364,0.9137215970033604,0.42810273476173266,0.8383367822100516,0.03283408639287403,-0.6946136149052397,-0.08070742997934244,0.9486270898985858,-0.48974504059853097,0.7877660225946301,0.18205642024037574,-0.6270525171109232,-0.17486983897035135,-0.2569599069188726,0.4022673291283338,0.8893958001444761,0.7051969265018811,-0.2024575094870895,0.30361544203123086,-1.0690070760292605,0.4953857590622099,0.19672688600027186,-0.17632377424528928,-0.23475071514999798,0.997698475693314,-1.1669540486953198,-0.052800403148813194,0.1882279243514494,-0.7566964384387022,-0.5873806894237157,-1.0723913490493764],\"xaxis\":\"x6\",\"yaxis\":\"y6\",\"type\":\"histogram\"},{\"line\":{\"color\":\"rgba(128, 128, 128, 1.0)\",\"dash\":\"solid\",\"shape\":\"linear\",\"width\":1.3},\"marker\":{\"size\":2,\"symbol\":\"circle\"},\"mode\":\"markers\",\"name\":\"B\",\"text\":\"\",\"x\":[0.6292199526679915,0.2929975958833482,-0.04399087398141044,1.8565600602641612,-1.2750659235998933,-1.049310108114289,1.9150270383061618,1.2508697290216244,-0.5254373553532199,-1.1019207468324796,-0.4329980546454029,1.5572239614417513,-1.3055844181806395,-0.4122575973258354,-0.059880586166883694,-0.47306812677550375,1.0024038262962716,-0.2432530029414284,-0.2951196417216509,1.6108749570387297,-1.5277743237948516,0.24462827579148685,-0.6665963461968138,0.09551308916636889,-0.09167893838598215,-1.7815453817378082,-0.1521106133048684,1.9074572705422066,0.4592082613846467,0.7013091669194846,-0.8686089844179359,-0.4606390682252071,-0.41777249430301205,-0.4468941776179165,0.7094928970608115,-1.8603953409392233,0.6259187872531098,-1.6286731061977948,2.8201400374716687,-0.35503682144368226,-0.6396143178399654,-0.9654900282468604,-0.7210403553227229,-0.6778528111808548,-0.8847323338846561,-0.9563799305227523,1.3186129140745864,-1.0833389277669125,0.7146015938507903,-0.31692372500085386,0.5854408697615356,1.2266989977152263,-1.0876940047938335,-0.9545415176685021,0.4763777966834708,-0.028328147521990005,-0.9197802043519457,0.13369488535274207,-0.4346147152741386,-0.09219737012285296,-0.7442747895254129,-0.7800885356867993,-0.864528126951913,0.6156847853724774,0.6350478989525027,1.1944567500749472,0.09291026971232177,0.7978863435209216,0.717641604863803,0.3854021360752175,0.3871364856255502,1.0392309824169004,1.549422603605397,-0.9488235117675193,-0.10664617217844946,1.1281754295273083,1.532435448350468,0.8819094595511779,0.1588660200001338,-0.5538468056190365,-0.37835010238664146,0.8956307051416974,0.19210774446947973,0.3834669957770598,-0.002075523221641867,0.27647527640105485,-0.8078457966107676,-0.625341205482638,-0.83781920073781,0.0560368705472754,0.1432941566584118,-0.6215519009327086,-1.0108129007264421,0.003988253626526684,0.2757826690179561,-1.037282373787344,0.34299228025201184,-0.6033296064640993,1.6771847452732258,0.44518449248506753],\"xaxis\":\"x7\",\"y\":[0.10816164100433416,-0.3786534181130173,1.5976396520152203,0.1032715254968819,-1.0523808578431146,-1.3088111247109417,-0.33138160694857144,0.37586959252393326,-1.4329191920134556,-1.4057862776414278,-0.958400047246091,0.29084537770773083,0.9935937445178882,0.04105070648099821,0.5408640784206419,-0.9264630427696732,1.4446133920139053,0.7294940924538716,-0.4350365321345761,-0.1325933169696886,-1.014905041321066,0.7142426252203482,-0.12624792117550834,-0.20886899913259685,-0.046122503270438174,1.0930917336122041,-1.9021098919909627,2.1923805539824883,-0.35159360601604234,-0.7840171652005669,0.8013260813444979,1.6926231238423597,-1.8736638856094856,0.9707936279502669,-0.8946838001113273,0.33970862607059893,-0.5793816991296611,-0.0878888415438686,0.5123180202062559,-0.3354586266014048,-0.3056932331079285,1.3570012723760245,0.6501788955149052,-1.0229202856165147,0.6832670623300489,0.2169408672987547,-1.5775271330361818,-1.1246690529362395,0.3921142234135686,-0.06959219198977895,-0.019901343076002487,-0.9668266661131473,-0.21099683075611467,0.0016865579778136469,-1.0802687843471324,-1.380237864945273,-0.8039152050946438,0.6777652747804674,-1.7942162924799367,0.1874497630076612,0.21428526335199233,-1.6590885500531578,1.2292836165571877,-0.6313361485055891,0.20526898451701303,0.3019628958045808,1.2893815216553828,-1.8503476945459718,-1.1624137925900286,1.631894818283364,0.9137215970033604,0.42810273476173266,0.8383367822100516,0.03283408639287403,-0.6946136149052397,-0.08070742997934244,0.9486270898985858,-0.48974504059853097,0.7877660225946301,0.18205642024037574,-0.6270525171109232,-0.17486983897035135,-0.2569599069188726,0.4022673291283338,0.8893958001444761,0.7051969265018811,-0.2024575094870895,0.30361544203123086,-1.0690070760292605,0.4953857590622099,0.19672688600027186,-0.17632377424528928,-0.23475071514999798,0.997698475693314,-1.1669540486953198,-0.052800403148813194,0.1882279243514494,-0.7566964384387022,-0.5873806894237157,-1.0723913490493764],\"yaxis\":\"y7\",\"type\":\"scatter\"},{\"line\":{\"color\":\"rgba(128, 128, 128, 1.0)\",\"dash\":\"solid\",\"shape\":\"linear\",\"width\":1.3},\"marker\":{\"size\":2,\"symbol\":\"circle\"},\"mode\":\"markers\",\"name\":\"B\",\"text\":\"\",\"x\":[-0.2773990390535875,-0.9181041820757111,-0.41695629787385136,0.3827797226044483,-1.7529933819530048,-0.7319625831080484,1.4867018549006927,1.4055835724351409,-0.8797716270422287,-0.596827049706759,0.8340313907663897,-0.04131531686530541,0.2599453428632096,-0.35726414646242105,1.2361542295277679,1.3454372740488802,-1.155284847160972,0.11560833073118736,1.0558476438294202,-0.09164539514816725,-0.07911103570471797,1.1298889292742882,1.0352534697805038,-0.5858686004334468,0.14702066966153676,0.7605378490231398,-0.2552446105455089,-2.531500870988131,-0.8151349614877484,-0.2015920797760861,-0.6773298355951781,-1.3697672350745784,0.09724331004694353,1.7011717963836774,-0.030937274832516556,0.5124910062389977,-0.45372901552669687,1.4482513486968667,1.9864055381472516,0.47522855192344204,0.4711856833597885,-1.8754888555936464,-2.1016106118736566,0.2693124651984568,0.45905685517626954,-0.40013306632258494,-1.1029866317352701,-0.8791067595006858,1.125635571527008,-2.3090732309185467,-0.8671350211320249,-1.342651525726852,0.022234185168456856,0.20139942607211828,-0.47147121341422843,0.504291600657643,-0.9166485195474732,0.6108027432860413,0.2046306319276693,-0.6785135228570527,-1.07186737499892,-1.1518117084162274,-1.1436522440035626,-0.9993470396308715,-0.12937160832678654,-1.178372039958786,0.19379575597871537,-0.9662038361824906,-0.437705018982611,-0.4323631505102849,0.248041241346058,0.2086791810129593,0.5929908589326623,-0.8536784616145044,-1.533101667308894,0.2424214860866842,0.9891233030383795,-0.4729289590102262,-0.014199955982915258,-2.5391709558181286,1.0268442751763005,0.045259851007036715,-0.9384052331484877,-0.2879938722489163,-0.9855361670308552,-0.637514850487326,1.0132347629902343,-1.0409569892865955,-0.12075479236245626,-0.677539436649919,-0.7277110810439337,0.2694823710565056,0.06787476222041963,0.5257354912022104,-0.9570659202256759,-0.5281540085218507,-1.0549750869942036,-0.018657045318151287,0.68417135330098,-0.8579511401360297],\"xaxis\":\"x8\",\"y\":[0.10816164100433416,-0.3786534181130173,1.5976396520152203,0.1032715254968819,-1.0523808578431146,-1.3088111247109417,-0.33138160694857144,0.37586959252393326,-1.4329191920134556,-1.4057862776414278,-0.958400047246091,0.29084537770773083,0.9935937445178882,0.04105070648099821,0.5408640784206419,-0.9264630427696732,1.4446133920139053,0.7294940924538716,-0.4350365321345761,-0.1325933169696886,-1.014905041321066,0.7142426252203482,-0.12624792117550834,-0.20886899913259685,-0.046122503270438174,1.0930917336122041,-1.9021098919909627,2.1923805539824883,-0.35159360601604234,-0.7840171652005669,0.8013260813444979,1.6926231238423597,-1.8736638856094856,0.9707936279502669,-0.8946838001113273,0.33970862607059893,-0.5793816991296611,-0.0878888415438686,0.5123180202062559,-0.3354586266014048,-0.3056932331079285,1.3570012723760245,0.6501788955149052,-1.0229202856165147,0.6832670623300489,0.2169408672987547,-1.5775271330361818,-1.1246690529362395,0.3921142234135686,-0.06959219198977895,-0.019901343076002487,-0.9668266661131473,-0.21099683075611467,0.0016865579778136469,-1.0802687843471324,-1.380237864945273,-0.8039152050946438,0.6777652747804674,-1.7942162924799367,0.1874497630076612,0.21428526335199233,-1.6590885500531578,1.2292836165571877,-0.6313361485055891,0.20526898451701303,0.3019628958045808,1.2893815216553828,-1.8503476945459718,-1.1624137925900286,1.631894818283364,0.9137215970033604,0.42810273476173266,0.8383367822100516,0.03283408639287403,-0.6946136149052397,-0.08070742997934244,0.9486270898985858,-0.48974504059853097,0.7877660225946301,0.18205642024037574,-0.6270525171109232,-0.17486983897035135,-0.2569599069188726,0.4022673291283338,0.8893958001444761,0.7051969265018811,-0.2024575094870895,0.30361544203123086,-1.0690070760292605,0.4953857590622099,0.19672688600027186,-0.17632377424528928,-0.23475071514999798,0.997698475693314,-1.1669540486953198,-0.052800403148813194,0.1882279243514494,-0.7566964384387022,-0.5873806894237157,-1.0723913490493764],\"yaxis\":\"y8\",\"type\":\"scatter\"},{\"line\":{\"color\":\"rgba(128, 128, 128, 1.0)\",\"dash\":\"solid\",\"shape\":\"linear\",\"width\":1.3},\"marker\":{\"size\":2,\"symbol\":\"circle\"},\"mode\":\"markers\",\"name\":\"C\",\"text\":\"\",\"x\":[-0.4109093102308704,-0.6680817820818279,0.05775923832079972,-0.6514336458680554,0.1879160682510293,-1.5293464668323662,-0.7035269259572434,0.023874540007682573,-1.2420547200599625,-0.8913683621133949,-0.6031304983078408,-0.8971715581521588,-0.29873531501808204,-0.28277215845111825,-1.4601949181242078,1.163711752718257,-0.7985458453409878,0.08419460658711336,1.2072287151035508,1.9355081654923072,-0.6280104709091505,-0.11194954662160747,-0.46415689977609864,0.3291395359396691,0.14336269881245645,-0.7973487302419948,1.0136391070213626,0.3224826399220911,-0.5610315946764224,-1.6376822225509424,1.5133491313233511,0.6252725756740378,0.5218653597362931,0.2630145983301274,-0.6226571769603287,-0.47641810789885125,-0.7063513142606132,0.32684887117824307,0.25245635094777025,-0.8921088220372825,0.7720682190244831,0.7238641471940175,0.645126076541708,0.4224070507208162,0.3990528172515247,-0.19255958104133045,-0.16973807979033237,-1.0196829077704666,-0.3561857988413979,-0.7547498424893713,1.756962952184945,0.15851227706927512,-1.0982456629275492,0.6028423362735791,-1.2172834983904086,0.3151964776503683,-1.2224736248236194,-0.7734229575896733,0.15439661925788561,0.7886502050544204,-0.054443877521405636,-1.0636641048785411,-1.5786802485725135,0.24813035938868763,0.13326047954542491,0.07900652650890297,-1.943265097469249,0.709653153466894,-0.8004575677107629,-0.30651500422656586,-0.034793194861766734,1.1239760186483012,1.9534360839432174,0.5855191473663935,-0.259033322409612,-0.721568816715617,0.4048799040916817,0.11292732199272669,-1.1339821084354054,1.608866407723626,0.3501736145293892,-0.0486340739793143,-1.4939842393253115,0.33891543148322023,-0.14837108037915506,1.1431096103520344,1.2732128325788084,1.6707652434185216,-2.034802087108342,2.0454869644421496,1.928114298449317,0.2810486247432109,-0.4763850985641512,1.0107331745913726,0.7183992254469621,1.3199201637244298,0.19377943979431222,1.9858006393975318,1.7289541996275624,0.6000972414545752],\"xaxis\":\"x9\",\"y\":[0.6292199526679915,0.2929975958833482,-0.04399087398141044,1.8565600602641612,-1.2750659235998933,-1.049310108114289,1.9150270383061618,1.2508697290216244,-0.5254373553532199,-1.1019207468324796,-0.4329980546454029,1.5572239614417513,-1.3055844181806395,-0.4122575973258354,-0.059880586166883694,-0.47306812677550375,1.0024038262962716,-0.2432530029414284,-0.2951196417216509,1.6108749570387297,-1.5277743237948516,0.24462827579148685,-0.6665963461968138,0.09551308916636889,-0.09167893838598215,-1.7815453817378082,-0.1521106133048684,1.9074572705422066,0.4592082613846467,0.7013091669194846,-0.8686089844179359,-0.4606390682252071,-0.41777249430301205,-0.4468941776179165,0.7094928970608115,-1.8603953409392233,0.6259187872531098,-1.6286731061977948,2.8201400374716687,-0.35503682144368226,-0.6396143178399654,-0.9654900282468604,-0.7210403553227229,-0.6778528111808548,-0.8847323338846561,-0.9563799305227523,1.3186129140745864,-1.0833389277669125,0.7146015938507903,-0.31692372500085386,0.5854408697615356,1.2266989977152263,-1.0876940047938335,-0.9545415176685021,0.4763777966834708,-0.028328147521990005,-0.9197802043519457,0.13369488535274207,-0.4346147152741386,-0.09219737012285296,-0.7442747895254129,-0.7800885356867993,-0.864528126951913,0.6156847853724774,0.6350478989525027,1.1944567500749472,0.09291026971232177,0.7978863435209216,0.717641604863803,0.3854021360752175,0.3871364856255502,1.0392309824169004,1.549422603605397,-0.9488235117675193,-0.10664617217844946,1.1281754295273083,1.532435448350468,0.8819094595511779,0.1588660200001338,-0.5538468056190365,-0.37835010238664146,0.8956307051416974,0.19210774446947973,0.3834669957770598,-0.002075523221641867,0.27647527640105485,-0.8078457966107676,-0.625341205482638,-0.83781920073781,0.0560368705472754,0.1432941566584118,-0.6215519009327086,-1.0108129007264421,0.003988253626526684,0.2757826690179561,-1.037282373787344,0.34299228025201184,-0.6033296064640993,1.6771847452732258,0.44518449248506753],\"yaxis\":\"y9\",\"type\":\"scatter\"},{\"line\":{\"color\":\"rgba(128, 128, 128, 1.0)\",\"dash\":\"solid\",\"shape\":\"linear\",\"width\":1.3},\"marker\":{\"size\":2,\"symbol\":\"circle\"},\"mode\":\"markers\",\"name\":\"C\",\"text\":\"\",\"x\":[0.10816164100433416,-0.3786534181130173,1.5976396520152203,0.1032715254968819,-1.0523808578431146,-1.3088111247109417,-0.33138160694857144,0.37586959252393326,-1.4329191920134556,-1.4057862776414278,-0.958400047246091,0.29084537770773083,0.9935937445178882,0.04105070648099821,0.5408640784206419,-0.9264630427696732,1.4446133920139053,0.7294940924538716,-0.4350365321345761,-0.1325933169696886,-1.014905041321066,0.7142426252203482,-0.12624792117550834,-0.20886899913259685,-0.046122503270438174,1.0930917336122041,-1.9021098919909627,2.1923805539824883,-0.35159360601604234,-0.7840171652005669,0.8013260813444979,1.6926231238423597,-1.8736638856094856,0.9707936279502669,-0.8946838001113273,0.33970862607059893,-0.5793816991296611,-0.0878888415438686,0.5123180202062559,-0.3354586266014048,-0.3056932331079285,1.3570012723760245,0.6501788955149052,-1.0229202856165147,0.6832670623300489,0.2169408672987547,-1.5775271330361818,-1.1246690529362395,0.3921142234135686,-0.06959219198977895,-0.019901343076002487,-0.9668266661131473,-0.21099683075611467,0.0016865579778136469,-1.0802687843471324,-1.380237864945273,-0.8039152050946438,0.6777652747804674,-1.7942162924799367,0.1874497630076612,0.21428526335199233,-1.6590885500531578,1.2292836165571877,-0.6313361485055891,0.20526898451701303,0.3019628958045808,1.2893815216553828,-1.8503476945459718,-1.1624137925900286,1.631894818283364,0.9137215970033604,0.42810273476173266,0.8383367822100516,0.03283408639287403,-0.6946136149052397,-0.08070742997934244,0.9486270898985858,-0.48974504059853097,0.7877660225946301,0.18205642024037574,-0.6270525171109232,-0.17486983897035135,-0.2569599069188726,0.4022673291283338,0.8893958001444761,0.7051969265018811,-0.2024575094870895,0.30361544203123086,-1.0690070760292605,0.4953857590622099,0.19672688600027186,-0.17632377424528928,-0.23475071514999798,0.997698475693314,-1.1669540486953198,-0.052800403148813194,0.1882279243514494,-0.7566964384387022,-0.5873806894237157,-1.0723913490493764],\"xaxis\":\"x10\",\"y\":[0.6292199526679915,0.2929975958833482,-0.04399087398141044,1.8565600602641612,-1.2750659235998933,-1.049310108114289,1.9150270383061618,1.2508697290216244,-0.5254373553532199,-1.1019207468324796,-0.4329980546454029,1.5572239614417513,-1.3055844181806395,-0.4122575973258354,-0.059880586166883694,-0.47306812677550375,1.0024038262962716,-0.2432530029414284,-0.2951196417216509,1.6108749570387297,-1.5277743237948516,0.24462827579148685,-0.6665963461968138,0.09551308916636889,-0.09167893838598215,-1.7815453817378082,-0.1521106133048684,1.9074572705422066,0.4592082613846467,0.7013091669194846,-0.8686089844179359,-0.4606390682252071,-0.41777249430301205,-0.4468941776179165,0.7094928970608115,-1.8603953409392233,0.6259187872531098,-1.6286731061977948,2.8201400374716687,-0.35503682144368226,-0.6396143178399654,-0.9654900282468604,-0.7210403553227229,-0.6778528111808548,-0.8847323338846561,-0.9563799305227523,1.3186129140745864,-1.0833389277669125,0.7146015938507903,-0.31692372500085386,0.5854408697615356,1.2266989977152263,-1.0876940047938335,-0.9545415176685021,0.4763777966834708,-0.028328147521990005,-0.9197802043519457,0.13369488535274207,-0.4346147152741386,-0.09219737012285296,-0.7442747895254129,-0.7800885356867993,-0.864528126951913,0.6156847853724774,0.6350478989525027,1.1944567500749472,0.09291026971232177,0.7978863435209216,0.717641604863803,0.3854021360752175,0.3871364856255502,1.0392309824169004,1.549422603605397,-0.9488235117675193,-0.10664617217844946,1.1281754295273083,1.532435448350468,0.8819094595511779,0.1588660200001338,-0.5538468056190365,-0.37835010238664146,0.8956307051416974,0.19210774446947973,0.3834669957770598,-0.002075523221641867,0.27647527640105485,-0.8078457966107676,-0.625341205482638,-0.83781920073781,0.0560368705472754,0.1432941566584118,-0.6215519009327086,-1.0108129007264421,0.003988253626526684,0.2757826690179561,-1.037282373787344,0.34299228025201184,-0.6033296064640993,1.6771847452732258,0.44518449248506753],\"yaxis\":\"y10\",\"type\":\"scatter\"},{\"histfunc\":\"count\",\"histnorm\":\"\",\"marker\":{\"color\":\"rgba(50, 171, 96, 1.0)\",\"line\":{\"color\":\"#4D5663\",\"width\":1.3}},\"name\":\"C\",\"nbinsx\":10,\"opacity\":0.8,\"orientation\":\"v\",\"x\":[0.6292199526679915,0.2929975958833482,-0.04399087398141044,1.8565600602641612,-1.2750659235998933,-1.049310108114289,1.9150270383061618,1.2508697290216244,-0.5254373553532199,-1.1019207468324796,-0.4329980546454029,1.5572239614417513,-1.3055844181806395,-0.4122575973258354,-0.059880586166883694,-0.47306812677550375,1.0024038262962716,-0.2432530029414284,-0.2951196417216509,1.6108749570387297,-1.5277743237948516,0.24462827579148685,-0.6665963461968138,0.09551308916636889,-0.09167893838598215,-1.7815453817378082,-0.1521106133048684,1.9074572705422066,0.4592082613846467,0.7013091669194846,-0.8686089844179359,-0.4606390682252071,-0.41777249430301205,-0.4468941776179165,0.7094928970608115,-1.8603953409392233,0.6259187872531098,-1.6286731061977948,2.8201400374716687,-0.35503682144368226,-0.6396143178399654,-0.9654900282468604,-0.7210403553227229,-0.6778528111808548,-0.8847323338846561,-0.9563799305227523,1.3186129140745864,-1.0833389277669125,0.7146015938507903,-0.31692372500085386,0.5854408697615356,1.2266989977152263,-1.0876940047938335,-0.9545415176685021,0.4763777966834708,-0.028328147521990005,-0.9197802043519457,0.13369488535274207,-0.4346147152741386,-0.09219737012285296,-0.7442747895254129,-0.7800885356867993,-0.864528126951913,0.6156847853724774,0.6350478989525027,1.1944567500749472,0.09291026971232177,0.7978863435209216,0.717641604863803,0.3854021360752175,0.3871364856255502,1.0392309824169004,1.549422603605397,-0.9488235117675193,-0.10664617217844946,1.1281754295273083,1.532435448350468,0.8819094595511779,0.1588660200001338,-0.5538468056190365,-0.37835010238664146,0.8956307051416974,0.19210774446947973,0.3834669957770598,-0.002075523221641867,0.27647527640105485,-0.8078457966107676,-0.625341205482638,-0.83781920073781,0.0560368705472754,0.1432941566584118,-0.6215519009327086,-1.0108129007264421,0.003988253626526684,0.2757826690179561,-1.037282373787344,0.34299228025201184,-0.6033296064640993,1.6771847452732258,0.44518449248506753],\"xaxis\":\"x11\",\"yaxis\":\"y11\",\"type\":\"histogram\"},{\"line\":{\"color\":\"rgba(128, 128, 128, 1.0)\",\"dash\":\"solid\",\"shape\":\"linear\",\"width\":1.3},\"marker\":{\"size\":2,\"symbol\":\"circle\"},\"mode\":\"markers\",\"name\":\"C\",\"text\":\"\",\"x\":[-0.2773990390535875,-0.9181041820757111,-0.41695629787385136,0.3827797226044483,-1.7529933819530048,-0.7319625831080484,1.4867018549006927,1.4055835724351409,-0.8797716270422287,-0.596827049706759,0.8340313907663897,-0.04131531686530541,0.2599453428632096,-0.35726414646242105,1.2361542295277679,1.3454372740488802,-1.155284847160972,0.11560833073118736,1.0558476438294202,-0.09164539514816725,-0.07911103570471797,1.1298889292742882,1.0352534697805038,-0.5858686004334468,0.14702066966153676,0.7605378490231398,-0.2552446105455089,-2.531500870988131,-0.8151349614877484,-0.2015920797760861,-0.6773298355951781,-1.3697672350745784,0.09724331004694353,1.7011717963836774,-0.030937274832516556,0.5124910062389977,-0.45372901552669687,1.4482513486968667,1.9864055381472516,0.47522855192344204,0.4711856833597885,-1.8754888555936464,-2.1016106118736566,0.2693124651984568,0.45905685517626954,-0.40013306632258494,-1.1029866317352701,-0.8791067595006858,1.125635571527008,-2.3090732309185467,-0.8671350211320249,-1.342651525726852,0.022234185168456856,0.20139942607211828,-0.47147121341422843,0.504291600657643,-0.9166485195474732,0.6108027432860413,0.2046306319276693,-0.6785135228570527,-1.07186737499892,-1.1518117084162274,-1.1436522440035626,-0.9993470396308715,-0.12937160832678654,-1.178372039958786,0.19379575597871537,-0.9662038361824906,-0.437705018982611,-0.4323631505102849,0.248041241346058,0.2086791810129593,0.5929908589326623,-0.8536784616145044,-1.533101667308894,0.2424214860866842,0.9891233030383795,-0.4729289590102262,-0.014199955982915258,-2.5391709558181286,1.0268442751763005,0.045259851007036715,-0.9384052331484877,-0.2879938722489163,-0.9855361670308552,-0.637514850487326,1.0132347629902343,-1.0409569892865955,-0.12075479236245626,-0.677539436649919,-0.7277110810439337,0.2694823710565056,0.06787476222041963,0.5257354912022104,-0.9570659202256759,-0.5281540085218507,-1.0549750869942036,-0.018657045318151287,0.68417135330098,-0.8579511401360297],\"xaxis\":\"x12\",\"y\":[0.6292199526679915,0.2929975958833482,-0.04399087398141044,1.8565600602641612,-1.2750659235998933,-1.049310108114289,1.9150270383061618,1.2508697290216244,-0.5254373553532199,-1.1019207468324796,-0.4329980546454029,1.5572239614417513,-1.3055844181806395,-0.4122575973258354,-0.059880586166883694,-0.47306812677550375,1.0024038262962716,-0.2432530029414284,-0.2951196417216509,1.6108749570387297,-1.5277743237948516,0.24462827579148685,-0.6665963461968138,0.09551308916636889,-0.09167893838598215,-1.7815453817378082,-0.1521106133048684,1.9074572705422066,0.4592082613846467,0.7013091669194846,-0.8686089844179359,-0.4606390682252071,-0.41777249430301205,-0.4468941776179165,0.7094928970608115,-1.8603953409392233,0.6259187872531098,-1.6286731061977948,2.8201400374716687,-0.35503682144368226,-0.6396143178399654,-0.9654900282468604,-0.7210403553227229,-0.6778528111808548,-0.8847323338846561,-0.9563799305227523,1.3186129140745864,-1.0833389277669125,0.7146015938507903,-0.31692372500085386,0.5854408697615356,1.2266989977152263,-1.0876940047938335,-0.9545415176685021,0.4763777966834708,-0.028328147521990005,-0.9197802043519457,0.13369488535274207,-0.4346147152741386,-0.09219737012285296,-0.7442747895254129,-0.7800885356867993,-0.864528126951913,0.6156847853724774,0.6350478989525027,1.1944567500749472,0.09291026971232177,0.7978863435209216,0.717641604863803,0.3854021360752175,0.3871364856255502,1.0392309824169004,1.549422603605397,-0.9488235117675193,-0.10664617217844946,1.1281754295273083,1.532435448350468,0.8819094595511779,0.1588660200001338,-0.5538468056190365,-0.37835010238664146,0.8956307051416974,0.19210774446947973,0.3834669957770598,-0.002075523221641867,0.27647527640105485,-0.8078457966107676,-0.625341205482638,-0.83781920073781,0.0560368705472754,0.1432941566584118,-0.6215519009327086,-1.0108129007264421,0.003988253626526684,0.2757826690179561,-1.037282373787344,0.34299228025201184,-0.6033296064640993,1.6771847452732258,0.44518449248506753],\"yaxis\":\"y12\",\"type\":\"scatter\"},{\"line\":{\"color\":\"rgba(128, 128, 128, 1.0)\",\"dash\":\"solid\",\"shape\":\"linear\",\"width\":1.3},\"marker\":{\"size\":2,\"symbol\":\"circle\"},\"mode\":\"markers\",\"name\":\"D\",\"text\":\"\",\"x\":[-0.4109093102308704,-0.6680817820818279,0.05775923832079972,-0.6514336458680554,0.1879160682510293,-1.5293464668323662,-0.7035269259572434,0.023874540007682573,-1.2420547200599625,-0.8913683621133949,-0.6031304983078408,-0.8971715581521588,-0.29873531501808204,-0.28277215845111825,-1.4601949181242078,1.163711752718257,-0.7985458453409878,0.08419460658711336,1.2072287151035508,1.9355081654923072,-0.6280104709091505,-0.11194954662160747,-0.46415689977609864,0.3291395359396691,0.14336269881245645,-0.7973487302419948,1.0136391070213626,0.3224826399220911,-0.5610315946764224,-1.6376822225509424,1.5133491313233511,0.6252725756740378,0.5218653597362931,0.2630145983301274,-0.6226571769603287,-0.47641810789885125,-0.7063513142606132,0.32684887117824307,0.25245635094777025,-0.8921088220372825,0.7720682190244831,0.7238641471940175,0.645126076541708,0.4224070507208162,0.3990528172515247,-0.19255958104133045,-0.16973807979033237,-1.0196829077704666,-0.3561857988413979,-0.7547498424893713,1.756962952184945,0.15851227706927512,-1.0982456629275492,0.6028423362735791,-1.2172834983904086,0.3151964776503683,-1.2224736248236194,-0.7734229575896733,0.15439661925788561,0.7886502050544204,-0.054443877521405636,-1.0636641048785411,-1.5786802485725135,0.24813035938868763,0.13326047954542491,0.07900652650890297,-1.943265097469249,0.709653153466894,-0.8004575677107629,-0.30651500422656586,-0.034793194861766734,1.1239760186483012,1.9534360839432174,0.5855191473663935,-0.259033322409612,-0.721568816715617,0.4048799040916817,0.11292732199272669,-1.1339821084354054,1.608866407723626,0.3501736145293892,-0.0486340739793143,-1.4939842393253115,0.33891543148322023,-0.14837108037915506,1.1431096103520344,1.2732128325788084,1.6707652434185216,-2.034802087108342,2.0454869644421496,1.928114298449317,0.2810486247432109,-0.4763850985641512,1.0107331745913726,0.7183992254469621,1.3199201637244298,0.19377943979431222,1.9858006393975318,1.7289541996275624,0.6000972414545752],\"xaxis\":\"x13\",\"y\":[-0.2773990390535875,-0.9181041820757111,-0.41695629787385136,0.3827797226044483,-1.7529933819530048,-0.7319625831080484,1.4867018549006927,1.4055835724351409,-0.8797716270422287,-0.596827049706759,0.8340313907663897,-0.04131531686530541,0.2599453428632096,-0.35726414646242105,1.2361542295277679,1.3454372740488802,-1.155284847160972,0.11560833073118736,1.0558476438294202,-0.09164539514816725,-0.07911103570471797,1.1298889292742882,1.0352534697805038,-0.5858686004334468,0.14702066966153676,0.7605378490231398,-0.2552446105455089,-2.531500870988131,-0.8151349614877484,-0.2015920797760861,-0.6773298355951781,-1.3697672350745784,0.09724331004694353,1.7011717963836774,-0.030937274832516556,0.5124910062389977,-0.45372901552669687,1.4482513486968667,1.9864055381472516,0.47522855192344204,0.4711856833597885,-1.8754888555936464,-2.1016106118736566,0.2693124651984568,0.45905685517626954,-0.40013306632258494,-1.1029866317352701,-0.8791067595006858,1.125635571527008,-2.3090732309185467,-0.8671350211320249,-1.342651525726852,0.022234185168456856,0.20139942607211828,-0.47147121341422843,0.504291600657643,-0.9166485195474732,0.6108027432860413,0.2046306319276693,-0.6785135228570527,-1.07186737499892,-1.1518117084162274,-1.1436522440035626,-0.9993470396308715,-0.12937160832678654,-1.178372039958786,0.19379575597871537,-0.9662038361824906,-0.437705018982611,-0.4323631505102849,0.248041241346058,0.2086791810129593,0.5929908589326623,-0.8536784616145044,-1.533101667308894,0.2424214860866842,0.9891233030383795,-0.4729289590102262,-0.014199955982915258,-2.5391709558181286,1.0268442751763005,0.045259851007036715,-0.9384052331484877,-0.2879938722489163,-0.9855361670308552,-0.637514850487326,1.0132347629902343,-1.0409569892865955,-0.12075479236245626,-0.677539436649919,-0.7277110810439337,0.2694823710565056,0.06787476222041963,0.5257354912022104,-0.9570659202256759,-0.5281540085218507,-1.0549750869942036,-0.018657045318151287,0.68417135330098,-0.8579511401360297],\"yaxis\":\"y13\",\"type\":\"scatter\"},{\"line\":{\"color\":\"rgba(128, 128, 128, 1.0)\",\"dash\":\"solid\",\"shape\":\"linear\",\"width\":1.3},\"marker\":{\"size\":2,\"symbol\":\"circle\"},\"mode\":\"markers\",\"name\":\"D\",\"text\":\"\",\"x\":[0.10816164100433416,-0.3786534181130173,1.5976396520152203,0.1032715254968819,-1.0523808578431146,-1.3088111247109417,-0.33138160694857144,0.37586959252393326,-1.4329191920134556,-1.4057862776414278,-0.958400047246091,0.29084537770773083,0.9935937445178882,0.04105070648099821,0.5408640784206419,-0.9264630427696732,1.4446133920139053,0.7294940924538716,-0.4350365321345761,-0.1325933169696886,-1.014905041321066,0.7142426252203482,-0.12624792117550834,-0.20886899913259685,-0.046122503270438174,1.0930917336122041,-1.9021098919909627,2.1923805539824883,-0.35159360601604234,-0.7840171652005669,0.8013260813444979,1.6926231238423597,-1.8736638856094856,0.9707936279502669,-0.8946838001113273,0.33970862607059893,-0.5793816991296611,-0.0878888415438686,0.5123180202062559,-0.3354586266014048,-0.3056932331079285,1.3570012723760245,0.6501788955149052,-1.0229202856165147,0.6832670623300489,0.2169408672987547,-1.5775271330361818,-1.1246690529362395,0.3921142234135686,-0.06959219198977895,-0.019901343076002487,-0.9668266661131473,-0.21099683075611467,0.0016865579778136469,-1.0802687843471324,-1.380237864945273,-0.8039152050946438,0.6777652747804674,-1.7942162924799367,0.1874497630076612,0.21428526335199233,-1.6590885500531578,1.2292836165571877,-0.6313361485055891,0.20526898451701303,0.3019628958045808,1.2893815216553828,-1.8503476945459718,-1.1624137925900286,1.631894818283364,0.9137215970033604,0.42810273476173266,0.8383367822100516,0.03283408639287403,-0.6946136149052397,-0.08070742997934244,0.9486270898985858,-0.48974504059853097,0.7877660225946301,0.18205642024037574,-0.6270525171109232,-0.17486983897035135,-0.2569599069188726,0.4022673291283338,0.8893958001444761,0.7051969265018811,-0.2024575094870895,0.30361544203123086,-1.0690070760292605,0.4953857590622099,0.19672688600027186,-0.17632377424528928,-0.23475071514999798,0.997698475693314,-1.1669540486953198,-0.052800403148813194,0.1882279243514494,-0.7566964384387022,-0.5873806894237157,-1.0723913490493764],\"xaxis\":\"x14\",\"y\":[-0.2773990390535875,-0.9181041820757111,-0.41695629787385136,0.3827797226044483,-1.7529933819530048,-0.7319625831080484,1.4867018549006927,1.4055835724351409,-0.8797716270422287,-0.596827049706759,0.8340313907663897,-0.04131531686530541,0.2599453428632096,-0.35726414646242105,1.2361542295277679,1.3454372740488802,-1.155284847160972,0.11560833073118736,1.0558476438294202,-0.09164539514816725,-0.07911103570471797,1.1298889292742882,1.0352534697805038,-0.5858686004334468,0.14702066966153676,0.7605378490231398,-0.2552446105455089,-2.531500870988131,-0.8151349614877484,-0.2015920797760861,-0.6773298355951781,-1.3697672350745784,0.09724331004694353,1.7011717963836774,-0.030937274832516556,0.5124910062389977,-0.45372901552669687,1.4482513486968667,1.9864055381472516,0.47522855192344204,0.4711856833597885,-1.8754888555936464,-2.1016106118736566,0.2693124651984568,0.45905685517626954,-0.40013306632258494,-1.1029866317352701,-0.8791067595006858,1.125635571527008,-2.3090732309185467,-0.8671350211320249,-1.342651525726852,0.022234185168456856,0.20139942607211828,-0.47147121341422843,0.504291600657643,-0.9166485195474732,0.6108027432860413,0.2046306319276693,-0.6785135228570527,-1.07186737499892,-1.1518117084162274,-1.1436522440035626,-0.9993470396308715,-0.12937160832678654,-1.178372039958786,0.19379575597871537,-0.9662038361824906,-0.437705018982611,-0.4323631505102849,0.248041241346058,0.2086791810129593,0.5929908589326623,-0.8536784616145044,-1.533101667308894,0.2424214860866842,0.9891233030383795,-0.4729289590102262,-0.014199955982915258,-2.5391709558181286,1.0268442751763005,0.045259851007036715,-0.9384052331484877,-0.2879938722489163,-0.9855361670308552,-0.637514850487326,1.0132347629902343,-1.0409569892865955,-0.12075479236245626,-0.677539436649919,-0.7277110810439337,0.2694823710565056,0.06787476222041963,0.5257354912022104,-0.9570659202256759,-0.5281540085218507,-1.0549750869942036,-0.018657045318151287,0.68417135330098,-0.8579511401360297],\"yaxis\":\"y14\",\"type\":\"scatter\"},{\"line\":{\"color\":\"rgba(128, 128, 128, 1.0)\",\"dash\":\"solid\",\"shape\":\"linear\",\"width\":1.3},\"marker\":{\"size\":2,\"symbol\":\"circle\"},\"mode\":\"markers\",\"name\":\"D\",\"text\":\"\",\"x\":[0.6292199526679915,0.2929975958833482,-0.04399087398141044,1.8565600602641612,-1.2750659235998933,-1.049310108114289,1.9150270383061618,1.2508697290216244,-0.5254373553532199,-1.1019207468324796,-0.4329980546454029,1.5572239614417513,-1.3055844181806395,-0.4122575973258354,-0.059880586166883694,-0.47306812677550375,1.0024038262962716,-0.2432530029414284,-0.2951196417216509,1.6108749570387297,-1.5277743237948516,0.24462827579148685,-0.6665963461968138,0.09551308916636889,-0.09167893838598215,-1.7815453817378082,-0.1521106133048684,1.9074572705422066,0.4592082613846467,0.7013091669194846,-0.8686089844179359,-0.4606390682252071,-0.41777249430301205,-0.4468941776179165,0.7094928970608115,-1.8603953409392233,0.6259187872531098,-1.6286731061977948,2.8201400374716687,-0.35503682144368226,-0.6396143178399654,-0.9654900282468604,-0.7210403553227229,-0.6778528111808548,-0.8847323338846561,-0.9563799305227523,1.3186129140745864,-1.0833389277669125,0.7146015938507903,-0.31692372500085386,0.5854408697615356,1.2266989977152263,-1.0876940047938335,-0.9545415176685021,0.4763777966834708,-0.028328147521990005,-0.9197802043519457,0.13369488535274207,-0.4346147152741386,-0.09219737012285296,-0.7442747895254129,-0.7800885356867993,-0.864528126951913,0.6156847853724774,0.6350478989525027,1.1944567500749472,0.09291026971232177,0.7978863435209216,0.717641604863803,0.3854021360752175,0.3871364856255502,1.0392309824169004,1.549422603605397,-0.9488235117675193,-0.10664617217844946,1.1281754295273083,1.532435448350468,0.8819094595511779,0.1588660200001338,-0.5538468056190365,-0.37835010238664146,0.8956307051416974,0.19210774446947973,0.3834669957770598,-0.002075523221641867,0.27647527640105485,-0.8078457966107676,-0.625341205482638,-0.83781920073781,0.0560368705472754,0.1432941566584118,-0.6215519009327086,-1.0108129007264421,0.003988253626526684,0.2757826690179561,-1.037282373787344,0.34299228025201184,-0.6033296064640993,1.6771847452732258,0.44518449248506753],\"xaxis\":\"x15\",\"y\":[-0.2773990390535875,-0.9181041820757111,-0.41695629787385136,0.3827797226044483,-1.7529933819530048,-0.7319625831080484,1.4867018549006927,1.4055835724351409,-0.8797716270422287,-0.596827049706759,0.8340313907663897,-0.04131531686530541,0.2599453428632096,-0.35726414646242105,1.2361542295277679,1.3454372740488802,-1.155284847160972,0.11560833073118736,1.0558476438294202,-0.09164539514816725,-0.07911103570471797,1.1298889292742882,1.0352534697805038,-0.5858686004334468,0.14702066966153676,0.7605378490231398,-0.2552446105455089,-2.531500870988131,-0.8151349614877484,-0.2015920797760861,-0.6773298355951781,-1.3697672350745784,0.09724331004694353,1.7011717963836774,-0.030937274832516556,0.5124910062389977,-0.45372901552669687,1.4482513486968667,1.9864055381472516,0.47522855192344204,0.4711856833597885,-1.8754888555936464,-2.1016106118736566,0.2693124651984568,0.45905685517626954,-0.40013306632258494,-1.1029866317352701,-0.8791067595006858,1.125635571527008,-2.3090732309185467,-0.8671350211320249,-1.342651525726852,0.022234185168456856,0.20139942607211828,-0.47147121341422843,0.504291600657643,-0.9166485195474732,0.6108027432860413,0.2046306319276693,-0.6785135228570527,-1.07186737499892,-1.1518117084162274,-1.1436522440035626,-0.9993470396308715,-0.12937160832678654,-1.178372039958786,0.19379575597871537,-0.9662038361824906,-0.437705018982611,-0.4323631505102849,0.248041241346058,0.2086791810129593,0.5929908589326623,-0.8536784616145044,-1.533101667308894,0.2424214860866842,0.9891233030383795,-0.4729289590102262,-0.014199955982915258,-2.5391709558181286,1.0268442751763005,0.045259851007036715,-0.9384052331484877,-0.2879938722489163,-0.9855361670308552,-0.637514850487326,1.0132347629902343,-1.0409569892865955,-0.12075479236245626,-0.677539436649919,-0.7277110810439337,0.2694823710565056,0.06787476222041963,0.5257354912022104,-0.9570659202256759,-0.5281540085218507,-1.0549750869942036,-0.018657045318151287,0.68417135330098,-0.8579511401360297],\"yaxis\":\"y15\",\"type\":\"scatter\"},{\"histfunc\":\"count\",\"histnorm\":\"\",\"marker\":{\"color\":\"rgba(128, 0, 128, 1.0)\",\"line\":{\"color\":\"#4D5663\",\"width\":1.3}},\"name\":\"D\",\"nbinsx\":10,\"opacity\":0.8,\"orientation\":\"v\",\"x\":[-0.2773990390535875,-0.9181041820757111,-0.41695629787385136,0.3827797226044483,-1.7529933819530048,-0.7319625831080484,1.4867018549006927,1.4055835724351409,-0.8797716270422287,-0.596827049706759,0.8340313907663897,-0.04131531686530541,0.2599453428632096,-0.35726414646242105,1.2361542295277679,1.3454372740488802,-1.155284847160972,0.11560833073118736,1.0558476438294202,-0.09164539514816725,-0.07911103570471797,1.1298889292742882,1.0352534697805038,-0.5858686004334468,0.14702066966153676,0.7605378490231398,-0.2552446105455089,-2.531500870988131,-0.8151349614877484,-0.2015920797760861,-0.6773298355951781,-1.3697672350745784,0.09724331004694353,1.7011717963836774,-0.030937274832516556,0.5124910062389977,-0.45372901552669687,1.4482513486968667,1.9864055381472516,0.47522855192344204,0.4711856833597885,-1.8754888555936464,-2.1016106118736566,0.2693124651984568,0.45905685517626954,-0.40013306632258494,-1.1029866317352701,-0.8791067595006858,1.125635571527008,-2.3090732309185467,-0.8671350211320249,-1.342651525726852,0.022234185168456856,0.20139942607211828,-0.47147121341422843,0.504291600657643,-0.9166485195474732,0.6108027432860413,0.2046306319276693,-0.6785135228570527,-1.07186737499892,-1.1518117084162274,-1.1436522440035626,-0.9993470396308715,-0.12937160832678654,-1.178372039958786,0.19379575597871537,-0.9662038361824906,-0.437705018982611,-0.4323631505102849,0.248041241346058,0.2086791810129593,0.5929908589326623,-0.8536784616145044,-1.533101667308894,0.2424214860866842,0.9891233030383795,-0.4729289590102262,-0.014199955982915258,-2.5391709558181286,1.0268442751763005,0.045259851007036715,-0.9384052331484877,-0.2879938722489163,-0.9855361670308552,-0.637514850487326,1.0132347629902343,-1.0409569892865955,-0.12075479236245626,-0.677539436649919,-0.7277110810439337,0.2694823710565056,0.06787476222041963,0.5257354912022104,-0.9570659202256759,-0.5281540085218507,-1.0549750869942036,-0.018657045318151287,0.68417135330098,-0.8579511401360297],\"xaxis\":\"x16\",\"yaxis\":\"y16\",\"type\":\"histogram\"}],                        {\"bargap\":0.02,\"legend\":{\"bgcolor\":\"#F5F6F9\",\"font\":{\"color\":\"#4D5663\"}},\"paper_bgcolor\":\"#F5F6F9\",\"plot_bgcolor\":\"#F5F6F9\",\"showlegend\":false,\"template\":{\"data\":{\"barpolar\":[{\"marker\":{\"line\":{\"color\":\"#E5ECF6\",\"width\":0.5},\"pattern\":{\"fillmode\":\"overlay\",\"size\":10,\"solidity\":0.2}},\"type\":\"barpolar\"}],\"bar\":[{\"error_x\":{\"color\":\"#2a3f5f\"},\"error_y\":{\"color\":\"#2a3f5f\"},\"marker\":{\"line\":{\"color\":\"#E5ECF6\",\"width\":0.5},\"pattern\":{\"fillmode\":\"overlay\",\"size\":10,\"solidity\":0.2}},\"type\":\"bar\"}],\"carpet\":[{\"aaxis\":{\"endlinecolor\":\"#2a3f5f\",\"gridcolor\":\"white\",\"linecolor\":\"white\",\"minorgridcolor\":\"white\",\"startlinecolor\":\"#2a3f5f\"},\"baxis\":{\"endlinecolor\":\"#2a3f5f\",\"gridcolor\":\"white\",\"linecolor\":\"white\",\"minorgridcolor\":\"white\",\"startlinecolor\":\"#2a3f5f\"},\"type\":\"carpet\"}],\"choropleth\":[{\"colorbar\":{\"outlinewidth\":0,\"ticks\":\"\"},\"type\":\"choropleth\"}],\"contourcarpet\":[{\"colorbar\":{\"outlinewidth\":0,\"ticks\":\"\"},\"type\":\"contourcarpet\"}],\"contour\":[{\"colorbar\":{\"outlinewidth\":0,\"ticks\":\"\"},\"colorscale\":[[0.0,\"#0d0887\"],[0.1111111111111111,\"#46039f\"],[0.2222222222222222,\"#7201a8\"],[0.3333333333333333,\"#9c179e\"],[0.4444444444444444,\"#bd3786\"],[0.5555555555555556,\"#d8576b\"],[0.6666666666666666,\"#ed7953\"],[0.7777777777777778,\"#fb9f3a\"],[0.8888888888888888,\"#fdca26\"],[1.0,\"#f0f921\"]],\"type\":\"contour\"}],\"heatmapgl\":[{\"colorbar\":{\"outlinewidth\":0,\"ticks\":\"\"},\"colorscale\":[[0.0,\"#0d0887\"],[0.1111111111111111,\"#46039f\"],[0.2222222222222222,\"#7201a8\"],[0.3333333333333333,\"#9c179e\"],[0.4444444444444444,\"#bd3786\"],[0.5555555555555556,\"#d8576b\"],[0.6666666666666666,\"#ed7953\"],[0.7777777777777778,\"#fb9f3a\"],[0.8888888888888888,\"#fdca26\"],[1.0,\"#f0f921\"]],\"type\":\"heatmapgl\"}],\"heatmap\":[{\"colorbar\":{\"outlinewidth\":0,\"ticks\":\"\"},\"colorscale\":[[0.0,\"#0d0887\"],[0.1111111111111111,\"#46039f\"],[0.2222222222222222,\"#7201a8\"],[0.3333333333333333,\"#9c179e\"],[0.4444444444444444,\"#bd3786\"],[0.5555555555555556,\"#d8576b\"],[0.6666666666666666,\"#ed7953\"],[0.7777777777777778,\"#fb9f3a\"],[0.8888888888888888,\"#fdca26\"],[1.0,\"#f0f921\"]],\"type\":\"heatmap\"}],\"histogram2dcontour\":[{\"colorbar\":{\"outlinewidth\":0,\"ticks\":\"\"},\"colorscale\":[[0.0,\"#0d0887\"],[0.1111111111111111,\"#46039f\"],[0.2222222222222222,\"#7201a8\"],[0.3333333333333333,\"#9c179e\"],[0.4444444444444444,\"#bd3786\"],[0.5555555555555556,\"#d8576b\"],[0.6666666666666666,\"#ed7953\"],[0.7777777777777778,\"#fb9f3a\"],[0.8888888888888888,\"#fdca26\"],[1.0,\"#f0f921\"]],\"type\":\"histogram2dcontour\"}],\"histogram2d\":[{\"colorbar\":{\"outlinewidth\":0,\"ticks\":\"\"},\"colorscale\":[[0.0,\"#0d0887\"],[0.1111111111111111,\"#46039f\"],[0.2222222222222222,\"#7201a8\"],[0.3333333333333333,\"#9c179e\"],[0.4444444444444444,\"#bd3786\"],[0.5555555555555556,\"#d8576b\"],[0.6666666666666666,\"#ed7953\"],[0.7777777777777778,\"#fb9f3a\"],[0.8888888888888888,\"#fdca26\"],[1.0,\"#f0f921\"]],\"type\":\"histogram2d\"}],\"histogram\":[{\"marker\":{\"pattern\":{\"fillmode\":\"overlay\",\"size\":10,\"solidity\":0.2}},\"type\":\"histogram\"}],\"mesh3d\":[{\"colorbar\":{\"outlinewidth\":0,\"ticks\":\"\"},\"type\":\"mesh3d\"}],\"parcoords\":[{\"line\":{\"colorbar\":{\"outlinewidth\":0,\"ticks\":\"\"}},\"type\":\"parcoords\"}],\"pie\":[{\"automargin\":true,\"type\":\"pie\"}],\"scatter3d\":[{\"line\":{\"colorbar\":{\"outlinewidth\":0,\"ticks\":\"\"}},\"marker\":{\"colorbar\":{\"outlinewidth\":0,\"ticks\":\"\"}},\"type\":\"scatter3d\"}],\"scattercarpet\":[{\"marker\":{\"colorbar\":{\"outlinewidth\":0,\"ticks\":\"\"}},\"type\":\"scattercarpet\"}],\"scattergeo\":[{\"marker\":{\"colorbar\":{\"outlinewidth\":0,\"ticks\":\"\"}},\"type\":\"scattergeo\"}],\"scattergl\":[{\"marker\":{\"colorbar\":{\"outlinewidth\":0,\"ticks\":\"\"}},\"type\":\"scattergl\"}],\"scattermapbox\":[{\"marker\":{\"colorbar\":{\"outlinewidth\":0,\"ticks\":\"\"}},\"type\":\"scattermapbox\"}],\"scatterpolargl\":[{\"marker\":{\"colorbar\":{\"outlinewidth\":0,\"ticks\":\"\"}},\"type\":\"scatterpolargl\"}],\"scatterpolar\":[{\"marker\":{\"colorbar\":{\"outlinewidth\":0,\"ticks\":\"\"}},\"type\":\"scatterpolar\"}],\"scatter\":[{\"marker\":{\"colorbar\":{\"outlinewidth\":0,\"ticks\":\"\"}},\"type\":\"scatter\"}],\"scatterternary\":[{\"marker\":{\"colorbar\":{\"outlinewidth\":0,\"ticks\":\"\"}},\"type\":\"scatterternary\"}],\"surface\":[{\"colorbar\":{\"outlinewidth\":0,\"ticks\":\"\"},\"colorscale\":[[0.0,\"#0d0887\"],[0.1111111111111111,\"#46039f\"],[0.2222222222222222,\"#7201a8\"],[0.3333333333333333,\"#9c179e\"],[0.4444444444444444,\"#bd3786\"],[0.5555555555555556,\"#d8576b\"],[0.6666666666666666,\"#ed7953\"],[0.7777777777777778,\"#fb9f3a\"],[0.8888888888888888,\"#fdca26\"],[1.0,\"#f0f921\"]],\"type\":\"surface\"}],\"table\":[{\"cells\":{\"fill\":{\"color\":\"#EBF0F8\"},\"line\":{\"color\":\"white\"}},\"header\":{\"fill\":{\"color\":\"#C8D4E3\"},\"line\":{\"color\":\"white\"}},\"type\":\"table\"}]},\"layout\":{\"annotationdefaults\":{\"arrowcolor\":\"#2a3f5f\",\"arrowhead\":0,\"arrowwidth\":1},\"autotypenumbers\":\"strict\",\"coloraxis\":{\"colorbar\":{\"outlinewidth\":0,\"ticks\":\"\"}},\"colorscale\":{\"diverging\":[[0,\"#8e0152\"],[0.1,\"#c51b7d\"],[0.2,\"#de77ae\"],[0.3,\"#f1b6da\"],[0.4,\"#fde0ef\"],[0.5,\"#f7f7f7\"],[0.6,\"#e6f5d0\"],[0.7,\"#b8e186\"],[0.8,\"#7fbc41\"],[0.9,\"#4d9221\"],[1,\"#276419\"]],\"sequential\":[[0.0,\"#0d0887\"],[0.1111111111111111,\"#46039f\"],[0.2222222222222222,\"#7201a8\"],[0.3333333333333333,\"#9c179e\"],[0.4444444444444444,\"#bd3786\"],[0.5555555555555556,\"#d8576b\"],[0.6666666666666666,\"#ed7953\"],[0.7777777777777778,\"#fb9f3a\"],[0.8888888888888888,\"#fdca26\"],[1.0,\"#f0f921\"]],\"sequentialminus\":[[0.0,\"#0d0887\"],[0.1111111111111111,\"#46039f\"],[0.2222222222222222,\"#7201a8\"],[0.3333333333333333,\"#9c179e\"],[0.4444444444444444,\"#bd3786\"],[0.5555555555555556,\"#d8576b\"],[0.6666666666666666,\"#ed7953\"],[0.7777777777777778,\"#fb9f3a\"],[0.8888888888888888,\"#fdca26\"],[1.0,\"#f0f921\"]]},\"colorway\":[\"#636efa\",\"#EF553B\",\"#00cc96\",\"#ab63fa\",\"#FFA15A\",\"#19d3f3\",\"#FF6692\",\"#B6E880\",\"#FF97FF\",\"#FECB52\"],\"font\":{\"color\":\"#2a3f5f\"},\"geo\":{\"bgcolor\":\"white\",\"lakecolor\":\"white\",\"landcolor\":\"#E5ECF6\",\"showlakes\":true,\"showland\":true,\"subunitcolor\":\"white\"},\"hoverlabel\":{\"align\":\"left\"},\"hovermode\":\"closest\",\"mapbox\":{\"style\":\"light\"},\"paper_bgcolor\":\"white\",\"plot_bgcolor\":\"#E5ECF6\",\"polar\":{\"angularaxis\":{\"gridcolor\":\"white\",\"linecolor\":\"white\",\"ticks\":\"\"},\"bgcolor\":\"#E5ECF6\",\"radialaxis\":{\"gridcolor\":\"white\",\"linecolor\":\"white\",\"ticks\":\"\"}},\"scene\":{\"xaxis\":{\"backgroundcolor\":\"#E5ECF6\",\"gridcolor\":\"white\",\"gridwidth\":2,\"linecolor\":\"white\",\"showbackground\":true,\"ticks\":\"\",\"zerolinecolor\":\"white\"},\"yaxis\":{\"backgroundcolor\":\"#E5ECF6\",\"gridcolor\":\"white\",\"gridwidth\":2,\"linecolor\":\"white\",\"showbackground\":true,\"ticks\":\"\",\"zerolinecolor\":\"white\"},\"zaxis\":{\"backgroundcolor\":\"#E5ECF6\",\"gridcolor\":\"white\",\"gridwidth\":2,\"linecolor\":\"white\",\"showbackground\":true,\"ticks\":\"\",\"zerolinecolor\":\"white\"}},\"shapedefaults\":{\"line\":{\"color\":\"#2a3f5f\"}},\"ternary\":{\"aaxis\":{\"gridcolor\":\"white\",\"linecolor\":\"white\",\"ticks\":\"\"},\"baxis\":{\"gridcolor\":\"white\",\"linecolor\":\"white\",\"ticks\":\"\"},\"bgcolor\":\"#E5ECF6\",\"caxis\":{\"gridcolor\":\"white\",\"linecolor\":\"white\",\"ticks\":\"\"}},\"title\":{\"x\":0.05},\"xaxis\":{\"automargin\":true,\"gridcolor\":\"white\",\"linecolor\":\"white\",\"ticks\":\"\",\"title\":{\"standoff\":15},\"zerolinecolor\":\"white\",\"zerolinewidth\":2},\"yaxis\":{\"automargin\":true,\"gridcolor\":\"white\",\"linecolor\":\"white\",\"ticks\":\"\",\"title\":{\"standoff\":15},\"zerolinecolor\":\"white\",\"zerolinewidth\":2}}},\"title\":{\"font\":{\"color\":\"#4D5663\"}},\"xaxis\":{\"anchor\":\"y\",\"domain\":[0.0,0.2125],\"gridcolor\":\"#E1E5ED\",\"showgrid\":false,\"tickfont\":{\"color\":\"#4D5663\"},\"title\":{\"font\":{\"color\":\"#4D5663\"},\"text\":\"\"},\"zerolinecolor\":\"#E1E5ED\"},\"yaxis\":{\"anchor\":\"x\",\"domain\":[0.8025,1.0],\"gridcolor\":\"#E1E5ED\",\"showgrid\":false,\"tickfont\":{\"color\":\"#4D5663\"},\"title\":{\"font\":{\"color\":\"#4D5663\"},\"text\":\"\"},\"zerolinecolor\":\"#E1E5ED\"},\"xaxis2\":{\"anchor\":\"y2\",\"domain\":[0.2625,0.475],\"gridcolor\":\"#E1E5ED\",\"showgrid\":false,\"tickfont\":{\"color\":\"#4D5663\"},\"title\":{\"font\":{\"color\":\"#4D5663\"},\"text\":\"\"},\"zerolinecolor\":\"#E1E5ED\"},\"yaxis2\":{\"anchor\":\"x2\",\"domain\":[0.8025,1.0],\"gridcolor\":\"#E1E5ED\",\"showgrid\":false,\"tickfont\":{\"color\":\"#4D5663\"},\"title\":{\"font\":{\"color\":\"#4D5663\"},\"text\":\"\"},\"zerolinecolor\":\"#E1E5ED\"},\"xaxis3\":{\"anchor\":\"y3\",\"domain\":[0.525,0.7375],\"gridcolor\":\"#E1E5ED\",\"showgrid\":false,\"tickfont\":{\"color\":\"#4D5663\"},\"title\":{\"font\":{\"color\":\"#4D5663\"},\"text\":\"\"},\"zerolinecolor\":\"#E1E5ED\"},\"yaxis3\":{\"anchor\":\"x3\",\"domain\":[0.8025,1.0],\"gridcolor\":\"#E1E5ED\",\"showgrid\":false,\"tickfont\":{\"color\":\"#4D5663\"},\"title\":{\"font\":{\"color\":\"#4D5663\"},\"text\":\"\"},\"zerolinecolor\":\"#E1E5ED\"},\"xaxis4\":{\"anchor\":\"y4\",\"domain\":[0.7875,1.0],\"gridcolor\":\"#E1E5ED\",\"showgrid\":false,\"tickfont\":{\"color\":\"#4D5663\"},\"title\":{\"font\":{\"color\":\"#4D5663\"},\"text\":\"\"},\"zerolinecolor\":\"#E1E5ED\"},\"yaxis4\":{\"anchor\":\"x4\",\"domain\":[0.8025,1.0],\"gridcolor\":\"#E1E5ED\",\"showgrid\":false,\"tickfont\":{\"color\":\"#4D5663\"},\"title\":{\"font\":{\"color\":\"#4D5663\"},\"text\":\"\"},\"zerolinecolor\":\"#E1E5ED\"},\"xaxis5\":{\"anchor\":\"y5\",\"domain\":[0.0,0.2125],\"gridcolor\":\"#E1E5ED\",\"showgrid\":false,\"tickfont\":{\"color\":\"#4D5663\"},\"title\":{\"font\":{\"color\":\"#4D5663\"},\"text\":\"\"},\"zerolinecolor\":\"#E1E5ED\"},\"yaxis5\":{\"anchor\":\"x5\",\"domain\":[0.535,0.7325],\"gridcolor\":\"#E1E5ED\",\"showgrid\":false,\"tickfont\":{\"color\":\"#4D5663\"},\"title\":{\"font\":{\"color\":\"#4D5663\"},\"text\":\"\"},\"zerolinecolor\":\"#E1E5ED\"},\"xaxis6\":{\"anchor\":\"y6\",\"domain\":[0.2625,0.475],\"gridcolor\":\"#E1E5ED\",\"showgrid\":false,\"tickfont\":{\"color\":\"#4D5663\"},\"title\":{\"font\":{\"color\":\"#4D5663\"},\"text\":\"\"},\"zerolinecolor\":\"#E1E5ED\"},\"yaxis6\":{\"anchor\":\"x6\",\"domain\":[0.535,0.7325],\"gridcolor\":\"#E1E5ED\",\"showgrid\":false,\"tickfont\":{\"color\":\"#4D5663\"},\"title\":{\"font\":{\"color\":\"#4D5663\"},\"text\":\"\"},\"zerolinecolor\":\"#E1E5ED\"},\"xaxis7\":{\"anchor\":\"y7\",\"domain\":[0.525,0.7375],\"gridcolor\":\"#E1E5ED\",\"showgrid\":false,\"tickfont\":{\"color\":\"#4D5663\"},\"title\":{\"font\":{\"color\":\"#4D5663\"},\"text\":\"\"},\"zerolinecolor\":\"#E1E5ED\"},\"yaxis7\":{\"anchor\":\"x7\",\"domain\":[0.535,0.7325],\"gridcolor\":\"#E1E5ED\",\"showgrid\":false,\"tickfont\":{\"color\":\"#4D5663\"},\"title\":{\"font\":{\"color\":\"#4D5663\"},\"text\":\"\"},\"zerolinecolor\":\"#E1E5ED\"},\"xaxis8\":{\"anchor\":\"y8\",\"domain\":[0.7875,1.0],\"gridcolor\":\"#E1E5ED\",\"showgrid\":false,\"tickfont\":{\"color\":\"#4D5663\"},\"title\":{\"font\":{\"color\":\"#4D5663\"},\"text\":\"\"},\"zerolinecolor\":\"#E1E5ED\"},\"yaxis8\":{\"anchor\":\"x8\",\"domain\":[0.535,0.7325],\"gridcolor\":\"#E1E5ED\",\"showgrid\":false,\"tickfont\":{\"color\":\"#4D5663\"},\"title\":{\"font\":{\"color\":\"#4D5663\"},\"text\":\"\"},\"zerolinecolor\":\"#E1E5ED\"},\"xaxis9\":{\"anchor\":\"y9\",\"domain\":[0.0,0.2125],\"gridcolor\":\"#E1E5ED\",\"showgrid\":false,\"tickfont\":{\"color\":\"#4D5663\"},\"title\":{\"font\":{\"color\":\"#4D5663\"},\"text\":\"\"},\"zerolinecolor\":\"#E1E5ED\"},\"yaxis9\":{\"anchor\":\"x9\",\"domain\":[0.2675,0.465],\"gridcolor\":\"#E1E5ED\",\"showgrid\":false,\"tickfont\":{\"color\":\"#4D5663\"},\"title\":{\"font\":{\"color\":\"#4D5663\"},\"text\":\"\"},\"zerolinecolor\":\"#E1E5ED\"},\"xaxis10\":{\"anchor\":\"y10\",\"domain\":[0.2625,0.475],\"gridcolor\":\"#E1E5ED\",\"showgrid\":false,\"tickfont\":{\"color\":\"#4D5663\"},\"title\":{\"font\":{\"color\":\"#4D5663\"},\"text\":\"\"},\"zerolinecolor\":\"#E1E5ED\"},\"yaxis10\":{\"anchor\":\"x10\",\"domain\":[0.2675,0.465],\"gridcolor\":\"#E1E5ED\",\"showgrid\":false,\"tickfont\":{\"color\":\"#4D5663\"},\"title\":{\"font\":{\"color\":\"#4D5663\"},\"text\":\"\"},\"zerolinecolor\":\"#E1E5ED\"},\"xaxis11\":{\"anchor\":\"y11\",\"domain\":[0.525,0.7375],\"gridcolor\":\"#E1E5ED\",\"showgrid\":false,\"tickfont\":{\"color\":\"#4D5663\"},\"title\":{\"font\":{\"color\":\"#4D5663\"},\"text\":\"\"},\"zerolinecolor\":\"#E1E5ED\"},\"yaxis11\":{\"anchor\":\"x11\",\"domain\":[0.2675,0.465],\"gridcolor\":\"#E1E5ED\",\"showgrid\":false,\"tickfont\":{\"color\":\"#4D5663\"},\"title\":{\"font\":{\"color\":\"#4D5663\"},\"text\":\"\"},\"zerolinecolor\":\"#E1E5ED\"},\"xaxis12\":{\"anchor\":\"y12\",\"domain\":[0.7875,1.0],\"gridcolor\":\"#E1E5ED\",\"showgrid\":false,\"tickfont\":{\"color\":\"#4D5663\"},\"title\":{\"font\":{\"color\":\"#4D5663\"},\"text\":\"\"},\"zerolinecolor\":\"#E1E5ED\"},\"yaxis12\":{\"anchor\":\"x12\",\"domain\":[0.2675,0.465],\"gridcolor\":\"#E1E5ED\",\"showgrid\":false,\"tickfont\":{\"color\":\"#4D5663\"},\"title\":{\"font\":{\"color\":\"#4D5663\"},\"text\":\"\"},\"zerolinecolor\":\"#E1E5ED\"},\"xaxis13\":{\"anchor\":\"y13\",\"domain\":[0.0,0.2125],\"gridcolor\":\"#E1E5ED\",\"showgrid\":false,\"tickfont\":{\"color\":\"#4D5663\"},\"title\":{\"font\":{\"color\":\"#4D5663\"},\"text\":\"\"},\"zerolinecolor\":\"#E1E5ED\"},\"yaxis13\":{\"anchor\":\"x13\",\"domain\":[0.0,0.1975],\"gridcolor\":\"#E1E5ED\",\"showgrid\":false,\"tickfont\":{\"color\":\"#4D5663\"},\"title\":{\"font\":{\"color\":\"#4D5663\"},\"text\":\"\"},\"zerolinecolor\":\"#E1E5ED\"},\"xaxis14\":{\"anchor\":\"y14\",\"domain\":[0.2625,0.475],\"gridcolor\":\"#E1E5ED\",\"showgrid\":false,\"tickfont\":{\"color\":\"#4D5663\"},\"title\":{\"font\":{\"color\":\"#4D5663\"},\"text\":\"\"},\"zerolinecolor\":\"#E1E5ED\"},\"yaxis14\":{\"anchor\":\"x14\",\"domain\":[0.0,0.1975],\"gridcolor\":\"#E1E5ED\",\"showgrid\":false,\"tickfont\":{\"color\":\"#4D5663\"},\"title\":{\"font\":{\"color\":\"#4D5663\"},\"text\":\"\"},\"zerolinecolor\":\"#E1E5ED\"},\"xaxis15\":{\"anchor\":\"y15\",\"domain\":[0.525,0.7375],\"gridcolor\":\"#E1E5ED\",\"showgrid\":false,\"tickfont\":{\"color\":\"#4D5663\"},\"title\":{\"font\":{\"color\":\"#4D5663\"},\"text\":\"\"},\"zerolinecolor\":\"#E1E5ED\"},\"yaxis15\":{\"anchor\":\"x15\",\"domain\":[0.0,0.1975],\"gridcolor\":\"#E1E5ED\",\"showgrid\":false,\"tickfont\":{\"color\":\"#4D5663\"},\"title\":{\"font\":{\"color\":\"#4D5663\"},\"text\":\"\"},\"zerolinecolor\":\"#E1E5ED\"},\"xaxis16\":{\"anchor\":\"y16\",\"domain\":[0.7875,1.0],\"gridcolor\":\"#E1E5ED\",\"showgrid\":false,\"tickfont\":{\"color\":\"#4D5663\"},\"title\":{\"font\":{\"color\":\"#4D5663\"},\"text\":\"\"},\"zerolinecolor\":\"#E1E5ED\"},\"yaxis16\":{\"anchor\":\"x16\",\"domain\":[0.0,0.1975],\"gridcolor\":\"#E1E5ED\",\"showgrid\":false,\"tickfont\":{\"color\":\"#4D5663\"},\"title\":{\"font\":{\"color\":\"#4D5663\"},\"text\":\"\"},\"zerolinecolor\":\"#E1E5ED\"}},                        {\"showLink\": true, \"linkText\": \"Export to plot.ly\", \"plotlyServerURL\": \"https://plot.ly\", \"responsive\": true}                    ).then(function(){\n",
       "                            \n",
       "var gd = document.getElementById('9620efea-3c47-4295-bb74-0b8ba8ec3a3b');\n",
       "var x = new MutationObserver(function (mutations, observer) {{\n",
       "        var display = window.getComputedStyle(gd).display;\n",
       "        if (!display || display === 'none') {{\n",
       "            console.log([gd, 'removed!']);\n",
       "            Plotly.purge(gd);\n",
       "            observer.disconnect();\n",
       "        }}\n",
       "}});\n",
       "\n",
       "// Listen for the removal of the full notebook cells\n",
       "var notebookContainer = gd.closest('#notebook-container');\n",
       "if (notebookContainer) {{\n",
       "    x.observe(notebookContainer, {childList: true});\n",
       "}}\n",
       "\n",
       "// Listen for the clearing of the current output cell\n",
       "var outputEl = gd.closest('.output');\n",
       "if (outputEl) {{\n",
       "    x.observe(outputEl, {childList: true});\n",
       "}}\n",
       "\n",
       "                        })                };                });            </script>        </div>"
      ]
     },
     "metadata": {},
     "output_type": "display_data"
    }
   ],
   "source": [
    "df.scatter_matrix()"
   ]
  },
  {
   "cell_type": "code",
   "execution_count": null,
   "id": "11aa1493",
   "metadata": {},
   "outputs": [],
   "source": []
  }
 ],
 "metadata": {
  "kernelspec": {
   "display_name": "Python 3 (ipykernel)",
   "language": "python",
   "name": "python3"
  },
  "language_info": {
   "codemirror_mode": {
    "name": "ipython",
    "version": 3
   },
   "file_extension": ".py",
   "mimetype": "text/x-python",
   "name": "python",
   "nbconvert_exporter": "python",
   "pygments_lexer": "ipython3",
   "version": "3.9.7"
  }
 },
 "nbformat": 4,
 "nbformat_minor": 5
}
